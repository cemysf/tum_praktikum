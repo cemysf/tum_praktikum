{
 "cells": [
  {
   "cell_type": "markdown",
   "metadata": {},
   "source": [
    "### End to end train both networks"
   ]
  },
  {
   "cell_type": "code",
   "execution_count": 1,
   "metadata": {
    "scrolled": true
   },
   "outputs": [
    {
     "name": "stderr",
     "output_type": "stream",
     "text": [
      "/home/cya/anaconda3/envs/tensorflow/lib/python3.6/site-packages/h5py/__init__.py:36: FutureWarning: Conversion of the second argument of issubdtype from `float` to `np.floating` is deprecated. In future, it will be treated as `np.float64 == np.dtype(float).type`.\n",
      "  from ._conv import register_converters as _register_converters\n",
      "Using TensorFlow backend.\n"
     ]
    }
   ],
   "source": [
    "from keras.layers import Input, Dense, Activation, Lambda, Dropout, Concatenate, Reshape\n",
    "from keras.models import Model, Sequential\n",
    "from keras.callbacks import TensorBoard, Callback\n",
    "from keras import optimizers\n",
    "from keras import backend as K\n",
    "\n",
    "import tensorflow as tf\n",
    "\n",
    "from keras.regularizers import l2\n"
   ]
  },
  {
   "cell_type": "code",
   "execution_count": 2,
   "metadata": {},
   "outputs": [],
   "source": [
    "### Hyperparameters\n",
    "\n",
    "experiment_id = 0\n",
    "\n",
    "learning_rate = 0.0001\n",
    "\n",
    "epochs = [10] #[200, 20000, 10000, 4000]\n",
    "batch_sizes = [256] #[1024, 1024, 128, 1024]\n",
    "\n",
    "lambda_1 = 0.1       \n",
    "lambda_2 = 0.005     \n",
    "\n",
    "#################\n",
    "\n",
    "epoch = epochs[experiment_id]\n",
    "batch_size = batch_sizes[experiment_id]"
   ]
  },
  {
   "cell_type": "markdown",
   "metadata": {},
   "source": [
    "### Define compresion network"
   ]
  },
  {
   "cell_type": "code",
   "execution_count": 3,
   "metadata": {},
   "outputs": [],
   "source": [
    "input_data = Input(batch_shape=(batch_size,120), name='input_placeholder')\n",
    "\n",
    "encoded = Dense(60, activation='tanh', kernel_regularizer=l2(0.00001), bias_regularizer=l2(0.00001))(input_data)\n",
    "encoded = Dense(30, activation='tanh', kernel_regularizer=l2(0.00001), bias_regularizer=l2(0.00001))(encoded)\n",
    "encoded = Dense(10, activation='tanh', kernel_regularizer=l2(0.00001), bias_regularizer=l2(0.00001))(encoded)\n",
    "\n",
    "layer_lowdim = Dense(1, activation='linear', kernel_regularizer=l2(0.00001), bias_regularizer=l2(0.00001), name='lowdim')(encoded)\n",
    "\n",
    "decoded = Dense(10, activation='tanh', kernel_regularizer=l2(0.00001), bias_regularizer=l2(0.00001))(layer_lowdim)\n",
    "decoded = Dense(30, activation='tanh', kernel_regularizer=l2(0.00001), bias_regularizer=l2(0.00001))(decoded)\n",
    "decoded = Dense(60, activation='tanh', kernel_regularizer=l2(0.00001), bias_regularizer=l2(0.00001))(decoded)\n",
    "decoded = Dense(120, activation='linear', kernel_regularizer=l2(0.00001), bias_regularizer=l2(0.00001), name='reconstructed')(decoded)\n",
    "\n"
   ]
  },
  {
   "cell_type": "markdown",
   "metadata": {},
   "source": [
    "- Define similarity metrics"
   ]
  },
  {
   "cell_type": "code",
   "execution_count": 4,
   "metadata": {},
   "outputs": [],
   "source": [
    "def cos_sim(a_b):\n",
    "    '''\n",
    "    a: batch x 120\n",
    "    b: batch x 120 \n",
    "    \n",
    "    output: batch x 1\n",
    "    '''\n",
    "    a, b = a_b\n",
    "    \n",
    "    norm_a = K.sqrt(K.sum(a ** 2, axis=-1))\n",
    "    norm_b = K.sqrt(K.sum(b ** 2, axis=-1))\n",
    "    \n",
    "    out = K.sum(a * b, axis=-1) / (norm_a * norm_b)\n",
    "    out = K.reshape(out, [batch_size, 1])\n",
    "    \n",
    "    return out\n",
    "\n",
    "def relative_euc_dist(a_b):\n",
    "    '''\n",
    "    a: batch x 120\n",
    "    b: batch x 120 \n",
    "    \n",
    "    output: batch x 1\n",
    "    '''\n",
    "    a,b = a_b\n",
    "    \n",
    "    norm_diff = K.sqrt(K.sum((a - b)**2, axis=-1))\n",
    "    norm_a = K.sqrt(K.sum(a ** 2, axis=-1))\n",
    "    \n",
    "    out = norm_diff / norm_a\n",
    "    out = K.reshape(out, [batch_size, 1])\n",
    "\n",
    "    return out"
   ]
  },
  {
   "cell_type": "code",
   "execution_count": 5,
   "metadata": {},
   "outputs": [],
   "source": [
    "layer_cossim = Lambda(cos_sim,\n",
    "                      name='cos_sim')([input_data, decoded])"
   ]
  },
  {
   "cell_type": "code",
   "execution_count": 6,
   "metadata": {},
   "outputs": [
    {
     "data": {
      "text/plain": [
       "<tf.Tensor 'cos_sim/Reshape:0' shape=(256, 1) dtype=float32>"
      ]
     },
     "execution_count": 6,
     "metadata": {},
     "output_type": "execute_result"
    }
   ],
   "source": [
    "layer_cossim"
   ]
  },
  {
   "cell_type": "code",
   "execution_count": 7,
   "metadata": {},
   "outputs": [],
   "source": [
    "layer_relativeEuc = Lambda(relative_euc_dist, \n",
    "                           name='relative_euc_dist')([input_data, decoded])"
   ]
  },
  {
   "cell_type": "code",
   "execution_count": 8,
   "metadata": {},
   "outputs": [
    {
     "data": {
      "text/plain": [
       "<tf.Tensor 'relative_euc_dist/Reshape:0' shape=(256, 1) dtype=float32>"
      ]
     },
     "execution_count": 8,
     "metadata": {},
     "output_type": "execute_result"
    }
   ],
   "source": [
    "layer_relativeEuc"
   ]
  },
  {
   "cell_type": "markdown",
   "metadata": {},
   "source": [
    "- No need to reshape layer_lowdim"
   ]
  },
  {
   "cell_type": "code",
   "execution_count": 9,
   "metadata": {},
   "outputs": [
    {
     "data": {
      "text/plain": [
       "<tf.Tensor 'lowdim/BiasAdd:0' shape=(256, 1) dtype=float32>"
      ]
     },
     "execution_count": 9,
     "metadata": {},
     "output_type": "execute_result"
    }
   ],
   "source": [
    "layer_lowdim"
   ]
  },
  {
   "cell_type": "markdown",
   "metadata": {},
   "source": [
    "- Obtain \"z\""
   ]
  },
  {
   "cell_type": "code",
   "execution_count": 10,
   "metadata": {},
   "outputs": [],
   "source": [
    "def funct_concat(tensors):\n",
    "    return K.concatenate(tensors)\n",
    "\n",
    "layer_concat = Lambda(funct_concat, name=\"z\")([layer_lowdim, layer_cossim, layer_relativeEuc])"
   ]
  },
  {
   "cell_type": "code",
   "execution_count": 11,
   "metadata": {},
   "outputs": [
    {
     "data": {
      "text/plain": [
       "<tf.Tensor 'z/concat:0' shape=(256, 3) dtype=float32>"
      ]
     },
     "execution_count": 11,
     "metadata": {},
     "output_type": "execute_result"
    }
   ],
   "source": [
    "layer_concat"
   ]
  },
  {
   "cell_type": "markdown",
   "metadata": {},
   "source": [
    "### Define estimation network"
   ]
  },
  {
   "cell_type": "code",
   "execution_count": 12,
   "metadata": {},
   "outputs": [],
   "source": [
    "input_est = layer_concat #Input(shape=(3,))(layer_concat)\n",
    "\n",
    "est_layer = Dense(10, activation='tanh', kernel_regularizer=l2(0.00001), bias_regularizer=l2(0.00001))(input_est)   ####(input_est)\n",
    "est_layer = Dropout(0.5)(est_layer)\n",
    "est_output = Dense(4, activation='softmax', kernel_regularizer=l2(0.00001), bias_regularizer=l2(0.00001), name='output_placeholder')(est_layer)\n"
   ]
  },
  {
   "cell_type": "markdown",
   "metadata": {},
   "source": [
    "### Build full network"
   ]
  },
  {
   "cell_type": "code",
   "execution_count": 13,
   "metadata": {},
   "outputs": [
    {
     "name": "stderr",
     "output_type": "stream",
     "text": [
      "/home/cya/anaconda3/envs/tensorflow/lib/python3.6/site-packages/ipykernel_launcher.py:1: UserWarning: Update your `Model` call to the Keras 2 API: `Model(outputs=Tensor(\"ou..., inputs=Tensor(\"in...)`\n",
      "  \"\"\"Entry point for launching an IPython kernel.\n"
     ]
    }
   ],
   "source": [
    "full_network = Model(input=input_data, outputs=est_output)"
   ]
  },
  {
   "cell_type": "code",
   "execution_count": 14,
   "metadata": {},
   "outputs": [
    {
     "name": "stdout",
     "output_type": "stream",
     "text": [
      "__________________________________________________________________________________________________\n",
      "Layer (type)                    Output Shape         Param #     Connected to                     \n",
      "==================================================================================================\n",
      "input_placeholder (InputLayer)  (256, 120)           0                                            \n",
      "__________________________________________________________________________________________________\n",
      "dense_1 (Dense)                 (256, 60)            7260        input_placeholder[0][0]          \n",
      "__________________________________________________________________________________________________\n",
      "dense_2 (Dense)                 (256, 30)            1830        dense_1[0][0]                    \n",
      "__________________________________________________________________________________________________\n",
      "dense_3 (Dense)                 (256, 10)            310         dense_2[0][0]                    \n",
      "__________________________________________________________________________________________________\n",
      "lowdim (Dense)                  (256, 1)             11          dense_3[0][0]                    \n",
      "__________________________________________________________________________________________________\n",
      "dense_4 (Dense)                 (256, 10)            20          lowdim[0][0]                     \n",
      "__________________________________________________________________________________________________\n",
      "dense_5 (Dense)                 (256, 30)            330         dense_4[0][0]                    \n",
      "__________________________________________________________________________________________________\n",
      "dense_6 (Dense)                 (256, 60)            1860        dense_5[0][0]                    \n",
      "__________________________________________________________________________________________________\n",
      "reconstructed (Dense)           (256, 120)           7320        dense_6[0][0]                    \n",
      "__________________________________________________________________________________________________\n",
      "cos_sim (Lambda)                (256, 1)             0           input_placeholder[0][0]          \n",
      "                                                                 reconstructed[0][0]              \n",
      "__________________________________________________________________________________________________\n",
      "relative_euc_dist (Lambda)      (256, 1)             0           input_placeholder[0][0]          \n",
      "                                                                 reconstructed[0][0]              \n",
      "__________________________________________________________________________________________________\n",
      "z (Lambda)                      (256, 3)             0           lowdim[0][0]                     \n",
      "                                                                 cos_sim[0][0]                    \n",
      "                                                                 relative_euc_dist[0][0]          \n",
      "__________________________________________________________________________________________________\n",
      "dense_7 (Dense)                 (256, 10)            40          z[0][0]                          \n",
      "__________________________________________________________________________________________________\n",
      "dropout_1 (Dropout)             (256, 10)            0           dense_7[0][0]                    \n",
      "__________________________________________________________________________________________________\n",
      "output_placeholder (Dense)      (256, 4)             44          dropout_1[0][0]                  \n",
      "==================================================================================================\n",
      "Total params: 19,025\n",
      "Trainable params: 19,025\n",
      "Non-trainable params: 0\n",
      "__________________________________________________________________________________________________\n"
     ]
    }
   ],
   "source": [
    "full_network.summary()"
   ]
  },
  {
   "cell_type": "code",
   "execution_count": 15,
   "metadata": {},
   "outputs": [
    {
     "data": {
      "image/png": "[encoded data removed]",
      "text/plain": [
       "<IPython.core.display.Image object>"
      ]
     },
     "execution_count": 15,
     "metadata": {},
     "output_type": "execute_result"
    }
   ],
   "source": [
    "### model visualization\n",
    "from keras.utils import plot_model\n",
    "\n",
    "\n",
    "model = full_network\n",
    "\n",
    "plot_model(model, to_file='model.png', show_layer_names=True, show_shapes=True)\n",
    "\n",
    "from IPython.display import Image\n",
    "Image(filename='model.png') "
   ]
  },
  {
   "cell_type": "markdown",
   "metadata": {},
   "source": [
    "### Load already saved dataset"
   ]
  },
  {
   "cell_type": "code",
   "execution_count": 16,
   "metadata": {},
   "outputs": [],
   "source": [
    "import numpy as np"
   ]
  },
  {
   "cell_type": "code",
   "execution_count": 17,
   "metadata": {},
   "outputs": [],
   "source": [
    "with np.load('kdd99_train_test.npz') as data:\n",
    "    x_train = data['x_train']     \n",
    "    x_test = data['x_test']\n",
    "    x_all = np.concatenate([x_train, x_test], axis=0)"
   ]
  },
  {
   "cell_type": "code",
   "execution_count": 18,
   "metadata": {},
   "outputs": [
    {
     "data": {
      "text/plain": [
       "(494021, 120)"
      ]
     },
     "execution_count": 18,
     "metadata": {},
     "output_type": "execute_result"
    }
   ],
   "source": [
    "x_all.shape"
   ]
  },
  {
   "cell_type": "markdown",
   "metadata": {},
   "source": [
    "- Get only the normal data"
   ]
  },
  {
   "cell_type": "code",
   "execution_count": 19,
   "metadata": {},
   "outputs": [],
   "source": [
    "normal_data = x_all[np.where(x_all[:,-1] == 1)]   ##last column is the normal column"
   ]
  },
  {
   "cell_type": "code",
   "execution_count": 20,
   "metadata": {},
   "outputs": [],
   "source": [
    "from sklearn.model_selection import train_test_split\n",
    "\n",
    "x_train, x_test = train_test_split(normal_data, test_size=0.5, random_state=42)"
   ]
  },
  {
   "cell_type": "code",
   "execution_count": 21,
   "metadata": {},
   "outputs": [
    {
     "data": {
      "text/plain": [
       "(48639, 120)"
      ]
     },
     "execution_count": 21,
     "metadata": {},
     "output_type": "execute_result"
    }
   ],
   "source": [
    "x_train.shape"
   ]
  },
  {
   "cell_type": "code",
   "execution_count": 22,
   "metadata": {},
   "outputs": [
    {
     "data": {
      "text/plain": [
       "(48639, 120)"
      ]
     },
     "execution_count": 22,
     "metadata": {},
     "output_type": "execute_result"
    }
   ],
   "source": [
    "x_test.shape"
   ]
  },
  {
   "cell_type": "markdown",
   "metadata": {},
   "source": [
    "- Assign arbitrary output (assuming first column is normal)"
   ]
  },
  {
   "cell_type": "code",
   "execution_count": 23,
   "metadata": {},
   "outputs": [],
   "source": [
    "y_train = np.zeros((len(x_train),4))\n",
    "\n",
    "y_train[:,0] = 1"
   ]
  },
  {
   "cell_type": "code",
   "execution_count": 24,
   "metadata": {},
   "outputs": [
    {
     "data": {
      "text/plain": [
       "(48639, 4)"
      ]
     },
     "execution_count": 24,
     "metadata": {},
     "output_type": "execute_result"
    }
   ],
   "source": [
    "y_train.shape"
   ]
  },
  {
   "cell_type": "markdown",
   "metadata": {},
   "source": [
    "### GMM parameters"
   ]
  },
  {
   "cell_type": "markdown",
   "metadata": {},
   "source": [
    "- k: number of clusters (4 for here)\n",
    "- N: batch size\n",
    "- d: Dimension of latent vector z (3 here)"
   ]
  },
  {
   "cell_type": "markdown",
   "metadata": {},
   "source": [
    "- gamma ($\\gamma$) : membership predictions (softmax output of estimation net) [$N \\times K$]\n",
    "- phi ($\\phi$): gaussian probabilities [$K$]\n",
    "- mu ($\\mu$): gaussian means [$K \\times d$]\n",
    "- sigma ($\\Sigma$): gaussian covariances [$K \\times d \\times d$]"
   ]
  },
  {
   "cell_type": "code",
   "execution_count": 25,
   "metadata": {},
   "outputs": [],
   "source": [
    "k = 4 \n",
    "N = batch_size \n",
    "d = int(layer_concat.get_shape()[1])"
   ]
  },
  {
   "cell_type": "code",
   "execution_count": 26,
   "metadata": {},
   "outputs": [],
   "source": [
    "tf_sess = K.get_session()"
   ]
  },
  {
   "cell_type": "markdown",
   "metadata": {},
   "source": [
    "- GMM parameters init"
   ]
  },
  {
   "cell_type": "code",
   "execution_count": 27,
   "metadata": {},
   "outputs": [],
   "source": [
    "sigma_init = np.repeat([np.eye(d, dtype=np.float32)],k, axis=0)"
   ]
  },
  {
   "cell_type": "code",
   "execution_count": 28,
   "metadata": {},
   "outputs": [
    {
     "data": {
      "text/plain": [
       "array([[[1., 0., 0.],\n",
       "        [0., 1., 0.],\n",
       "        [0., 0., 1.]],\n",
       "\n",
       "       [[1., 0., 0.],\n",
       "        [0., 1., 0.],\n",
       "        [0., 0., 1.]],\n",
       "\n",
       "       [[1., 0., 0.],\n",
       "        [0., 1., 0.],\n",
       "        [0., 0., 1.]],\n",
       "\n",
       "       [[1., 0., 0.],\n",
       "        [0., 1., 0.],\n",
       "        [0., 0., 1.]]], dtype=float32)"
      ]
     },
     "execution_count": 28,
     "metadata": {},
     "output_type": "execute_result"
    }
   ],
   "source": [
    "sigma_init"
   ]
  },
  {
   "cell_type": "code",
   "execution_count": 29,
   "metadata": {},
   "outputs": [],
   "source": [
    "phi = tf.get_variable(\"phi\",\n",
    "                      shape=(k),\n",
    "                      dtype=tf.float32,\n",
    "                      initializer=tf.zeros_initializer(),\n",
    "                      trainable=False)\n",
    "\n",
    "mu = tf.get_variable(\"mu\",\n",
    "                      shape=(k,d),\n",
    "                      dtype=tf.float32,\n",
    "                      initializer=tf.zeros_initializer(), \n",
    "                      trainable=False)\n",
    "\n",
    "sigma = tf.get_variable(\"sigma\",\n",
    "                      shape=(k,d,d),\n",
    "                      dtype=tf.float32,\n",
    "                      initializer=tf.constant_initializer(sigma_init), ###tf.ones_initializer(),\n",
    "                      trainable=False)"
   ]
  },
  {
   "cell_type": "code",
   "execution_count": 30,
   "metadata": {},
   "outputs": [],
   "source": [
    "def printGmmParams():\n",
    "    print(\"---shapes---\")\n",
    "    print(\"phi:\\n\",phi.shape)\n",
    "    print(\"mu:\\n\",mu.shape)\n",
    "    print(\"sigma:\\n\",sigma.shape)\n",
    "    \n",
    "    print(\"\")\n",
    "    \n",
    "    print(\"---values---\")\n",
    "    print(\"phi:\\n\",K.eval(phi))\n",
    "    print(\"mu:\\n\",K.eval(mu))\n",
    "    print(\"sigma:\\n\",K.eval(sigma))"
   ]
  },
  {
   "cell_type": "code",
   "execution_count": 31,
   "metadata": {
    "scrolled": true
   },
   "outputs": [
    {
     "name": "stdout",
     "output_type": "stream",
     "text": [
      "---shapes---\n",
      "phi:\n",
      " (4,)\n",
      "mu:\n",
      " (4, 3)\n",
      "sigma:\n",
      " (4, 3, 3)\n",
      "\n",
      "---values---\n",
      "phi:\n",
      " [0. 0. 0. 0.]\n",
      "mu:\n",
      " [[0. 0. 0.]\n",
      " [0. 0. 0.]\n",
      " [0. 0. 0.]\n",
      " [0. 0. 0.]]\n",
      "sigma:\n",
      " [[[1. 0. 0.]\n",
      "  [0. 1. 0.]\n",
      "  [0. 0. 1.]]\n",
      "\n",
      " [[1. 0. 0.]\n",
      "  [0. 1. 0.]\n",
      "  [0. 0. 1.]]\n",
      "\n",
      " [[1. 0. 0.]\n",
      "  [0. 1. 0.]\n",
      "  [0. 0. 1.]]\n",
      "\n",
      " [[1. 0. 0.]\n",
      "  [0. 1. 0.]\n",
      "  [0. 0. 1.]]]\n"
     ]
    }
   ],
   "source": [
    "printGmmParams()"
   ]
  },
  {
   "cell_type": "markdown",
   "metadata": {},
   "source": [
    "### !!! problem:"
   ]
  },
  {
   "cell_type": "markdown",
   "metadata": {},
   "source": [
    "- When I try to reach those array slices, I get uninitialized values:"
   ]
  },
  {
   "cell_type": "code",
   "execution_count": 32,
   "metadata": {},
   "outputs": [
    {
     "name": "stdout",
     "output_type": "stream",
     "text": [
      "[[0. 0. 0.]\n",
      " [0. 0. 0.]\n",
      " [0. 0. 0.]]\n"
     ]
    }
   ],
   "source": [
    "print(K.eval(sigma[0]))"
   ]
  },
  {
   "cell_type": "markdown",
   "metadata": {},
   "source": [
    "### Total loss calculation"
   ]
  },
  {
   "cell_type": "code",
   "execution_count": 33,
   "metadata": {},
   "outputs": [],
   "source": [
    "isVerbose = True"
   ]
  },
  {
   "cell_type": "code",
   "execution_count": 34,
   "metadata": {},
   "outputs": [],
   "source": [
    "### (for the first time run of the totalLoss function)\n",
    "\n",
    "choices = np.random.choice(len(x_train), size=batch_size, replace=False)\n",
    "\n",
    "batch_x_train = x_train[choices]\n",
    "batch_y_train = y_train[choices]\n",
    "\n",
    "batch_train = (batch_x_train, batch_y_train)"
   ]
  },
  {
   "cell_type": "markdown",
   "metadata": {},
   "source": [
    "- Define energy function"
   ]
  },
  {
   "cell_type": "code",
   "execution_count": 35,
   "metadata": {},
   "outputs": [],
   "source": [
    "def computeEnergy(z_i):\n",
    "    \"\"\"\n",
    "    compute E(z_i) in loss function\n",
    "    \"\"\"\n",
    "    \n",
    "    inside_sum = 0\n",
    "    for cluster in range(k):\n",
    "        diff = z_i - mu[cluster]   ### (1,3)\n",
    "        diff_t = tf.reshape(diff, (-1,1)) #diff.reshape(-1,1)   ### (3,1)\n",
    "\n",
    "        sigma_inv = tf.linalg.inv(sigma[cluster]) ### (3,3)\n",
    "        \n",
    "        exp_term = tf.exp(-0.5 * tf.matmul(diff * sigma_inv, diff_t))    ### (1,1)\n",
    "        denom = tf.sqrt(tf.linalg.det(2 * np.pi * sigma[cluster]))\n",
    "\n",
    "        inside_sum += phi[cluster] * (exp_term / denom)\n",
    "        \n",
    "    inside_sum += 1e-6    ### for numerical stability\n",
    "                \n",
    "    global isVerbose\n",
    "    if isVerbose:\n",
    "        print(\"---computeEnergy---\")\n",
    "        print(\"---shapes:\")\n",
    "        print(\"diff:\",diff.shape)\n",
    "        print(\"diff_t:\",diff_t.shape)\n",
    "        print(\"sigma_inv:\",sigma_inv.shape)\n",
    "        print(\"exp_term:\", exp_term.shape)\n",
    "        print(\"denom:\", denom.shape)\n",
    "        print(\"inside_sum:\", inside_sum.shape)\n",
    "        print(\"---values:\")\n",
    "        print(\"diff:\\n\",diff)\n",
    "        print(\"diff_t:\\n\",diff_t)\n",
    "        print(\"sigma_inv:\\n\",sigma_inv)\n",
    "        print(\"exp_term:\\n\", exp_term)\n",
    "        print(\"denom:\\n\", denom)\n",
    "        print(\"inside_sum:\\n\", inside_sum)\n",
    "        print(\"\")\n",
    "        \n",
    "        isVerbose = False\n",
    "\n",
    "    return -tf.log(inside_sum)"
   ]
  },
  {
   "cell_type": "markdown",
   "metadata": {},
   "source": [
    "- Define total loss"
   ]
  },
  {
   "cell_type": "code",
   "execution_count": 36,
   "metadata": {},
   "outputs": [],
   "source": [
    "def totalLoss(yTrue, yPred):\n",
    "    ### autoencoder loss\n",
    "    autoenc_loss = tf.sqrt((input_data - decoded)**2)\n",
    "    #autoenc_loss /= batch_size\n",
    "    autoenc_loss = tf.reduce_mean(autoenc_loss)\n",
    "    \n",
    "    ### obtain z for current batch\n",
    "    global batch_train\n",
    "    z = K.function([input_data], [layer_concat])([batch_train[0]])[0]\n",
    "    \n",
    "    print(\"z shape:\", z.shape)\n",
    "    \n",
    "    ### sample energy\n",
    "    sample_en = 0\n",
    "    for z_i in z:\n",
    "        sample_en += computeEnergy(z_i)\n",
    "    \n",
    "    sample_en *= lambda_1\n",
    "    #sample_en /= batch_size    \n",
    "    sample_en = tf.reduce_mean(sample_en)\n",
    "    \n",
    "    ### diagonal regularization\n",
    "    #global sigma\n",
    "    \n",
    "    p = 0\n",
    "    for cluster in range(k):\n",
    "        for dim in range(d):\n",
    "            sigma_val = K.eval(sigma[cluster, dim, dim])\n",
    "            p += (1 / sigma_val)\n",
    "    p += lambda_2\n",
    "\n",
    "    total_loss = autoenc_loss + sample_en + p\n",
    "    \n",
    "    ### print\n",
    "    global isVerbose\n",
    "    if isVerbose:\n",
    "        print(\"---totalLoss---\")\n",
    "        print(\"autoenc_loss\", type(autoenc_loss))\n",
    "        print(\"sample_en\", sample_en)\n",
    "        print(\"p\", p)\n",
    "\n",
    "    return total_loss    "
   ]
  },
  {
   "cell_type": "markdown",
   "metadata": {},
   "source": [
    "- Calculate GMM parameters after each batch"
   ]
  },
  {
   "cell_type": "code",
   "execution_count": 37,
   "metadata": {},
   "outputs": [],
   "source": [
    "class CallbackComputeGMM(Callback):\n",
    "    def on_batch_end(self, batch, logs={}): \n",
    "        \n",
    "        ### access global batch data, obtain predictions\n",
    "        #global batch_train\n",
    "    \n",
    "        gamma = tf.constant(full_network.predict(batch_train[0], batch_size=batch_size))\n",
    "    \n",
    "        \n",
    "        ### get latent vector z for current batch\n",
    "        z = layer_concat #K.function([input_data], [layer_concat])([batch_train[0]])[0]\n",
    "        \n",
    "        \n",
    "        ############# calculate gmm parameters\n",
    "        #global phi, mu, sigma\n",
    "        \n",
    "        #### phi\n",
    "        update_phi = phi.assign(tf.reduce_sum(gamma, axis=0) / batch_size)\n",
    "        \n",
    "        ### mu\n",
    "        for cluster in range(k):\n",
    "            ### get the corresponding column of predictions\n",
    "            #gamma_cluster = gamma[:,cluster].reshape(-1,1)    ### (N x 1)\n",
    "            gamma_cluster = tf.reshape(gamma[:,cluster], (-1,1))    ### (N x 1)\n",
    "\n",
    "            \n",
    "            ### duplicate column d times\n",
    "            #gamma_cluster = np.tile(gamma_cluster, (1,d))   ### (N x d)\n",
    "            gamma_cluster_tiled = tf.tile(gamma_cluster, (1,d))   ### (N x d)\n",
    "\n",
    "\n",
    "            ### sum over all batch and divide\n",
    "            matmul = tf.matmul(gamma_cluster_tile,z)\n",
    "            update_mu = mu[cluster].assign( tf.reduce_sum(matmul, axis=0) / tf.reduce_sum(gamma[:,cluster], axis = 0))   ### d dim for each cluster\n",
    "\n",
    "        \n",
    "        ### sigma\n",
    "        for cluster in range(k):\n",
    "            sum_nom = tf.zeros((d,d))\n",
    "\n",
    "            ### for each sample in batch, accumulate upper part\n",
    "            for i in range(batch_size):\n",
    "                diff = z[i] - mu[cluster]\n",
    "                diff_t = tf.reshape(diff, (-1,1))\n",
    "\n",
    "                sum_nom += gamma[i, cluster] * (diff * diff_t)\n",
    "\n",
    "            ### collect lower part\n",
    "            sum_denom = tf.reduce_sum(gamma[:,cluster], axis = 0)\n",
    "\n",
    "            update_sigma = sigma[cluster].assign(sum_nom / sum_denom)\n",
    "        \n",
    "        ### run updates??\n",
    "        update_phi.eval(session=tf_sess)\n",
    "        update_mu.eval(session=tf_sess)\n",
    "        update_sigma.eval(session=tf_sess)\n",
    "        \n",
    "                                           \n",
    "                                           \n",
    "        return"
   ]
  },
  {
   "cell_type": "markdown",
   "metadata": {},
   "source": [
    "- Compile model"
   ]
  },
  {
   "cell_type": "code",
   "execution_count": 38,
   "metadata": {},
   "outputs": [],
   "source": [
    "compute_gmm = CallbackComputeGMM()"
   ]
  },
  {
   "cell_type": "code",
   "execution_count": 39,
   "metadata": {
    "scrolled": false
   },
   "outputs": [
    {
     "name": "stdout",
     "output_type": "stream",
     "text": [
      "z shape: (256, 3)\n",
      "---computeEnergy---\n",
      "---shapes:\n",
      "diff: (3,)\n",
      "diff_t: (3, 1)\n",
      "sigma_inv: (3, 3)\n",
      "exp_term: (3, 1)\n",
      "denom: ()\n",
      "inside_sum: (3, 1)\n",
      "---values:\n",
      "diff:\n",
      " Tensor(\"loss/output_placeholder_loss/sub_4:0\", shape=(3,), dtype=float32)\n",
      "diff_t:\n",
      " Tensor(\"loss/output_placeholder_loss/Reshape_3:0\", shape=(3, 1), dtype=float32)\n",
      "sigma_inv:\n",
      " Tensor(\"loss/output_placeholder_loss/MatrixInverse_3:0\", shape=(3, 3), dtype=float32)\n",
      "exp_term:\n",
      " Tensor(\"loss/output_placeholder_loss/Exp_3:0\", shape=(3, 1), dtype=float32)\n",
      "denom:\n",
      " Tensor(\"loss/output_placeholder_loss/Sqrt_4:0\", shape=(), dtype=float32)\n",
      "inside_sum:\n",
      " Tensor(\"loss/output_placeholder_loss/add_4:0\", shape=(3, 1), dtype=float32)\n",
      "\n"
     ]
    },
    {
     "name": "stderr",
     "output_type": "stream",
     "text": [
      "/home/cya/anaconda3/envs/tensorflow/lib/python3.6/site-packages/ipykernel_launcher.py:29: RuntimeWarning: divide by zero encountered in true_divide\n"
     ]
    }
   ],
   "source": [
    "adam = optimizers.adam(lr=learning_rate, clipnorm=1., clipvalue=0.5) \n",
    "\n",
    "full_network.compile(optimizer=adam, loss=totalLoss) "
   ]
  },
  {
   "cell_type": "code",
   "execution_count": 40,
   "metadata": {},
   "outputs": [
    {
     "name": "stdout",
     "output_type": "stream",
     "text": [
      "2018-05-24_17:00 \n",
      "WARNING:tensorflow:From /home/cya/anaconda3/envs/tensorflow/lib/python3.6/site-packages/tensorflow/contrib/learn/python/learn/datasets/base.py:198: retry (from tensorflow.contrib.learn.python.learn.datasets.base) is deprecated and will be removed in a future version.\n",
      "Instructions for updating:\n",
      "Use the retry module or similar alternatives.\n"
     ]
    }
   ],
   "source": [
    "### Tensorboard\n",
    "from datetime import datetime\n",
    "timestamp = datetime.now().strftime(\"%Y-%m-%d_%H:%M\")\n",
    "print(timestamp, \"\")\n",
    "\n",
    "tensorboard = TensorBoard(log_dir='./.logs/compNet+estNet_kdd99/{}'.format(timestamp), \n",
    "                            histogram_freq=0, \n",
    "                            write_graph=True, \n",
    "                            write_grads=True, \n",
    "                            write_images=True, \n",
    "                            embeddings_freq=0, \n",
    "                            embeddings_layer_names=None, \n",
    "                            embeddings_metadata=None)"
   ]
  },
  {
   "cell_type": "markdown",
   "metadata": {},
   "source": [
    "- Training in batches"
   ]
  },
  {
   "cell_type": "code",
   "execution_count": 41,
   "metadata": {},
   "outputs": [],
   "source": [
    "def batchGenerator():\n",
    "    '''\n",
    "    return: number of batch_size examples in each run\n",
    "    '''\n",
    "\n",
    "    global batch_train\n",
    "    \n",
    "    while True:\n",
    "        choices = np.random.choice(len(x_train), size=batch_size, replace=False)\n",
    "        \n",
    "        batch_x_train = x_train[choices]\n",
    "        batch_y_train = y_train[choices]\n",
    "        \n",
    "        batch_train = (batch_x_train, batch_y_train)\n",
    "        \n",
    "        \n",
    "        yield batch_train "
   ]
  },
  {
   "cell_type": "code",
   "execution_count": 42,
   "metadata": {
    "scrolled": false
   },
   "outputs": [
    {
     "name": "stdout",
     "output_type": "stream",
     "text": [
      "Epoch 1/10\n"
     ]
    },
    {
     "ename": "InvalidArgumentError",
     "evalue": "Input is not invertible.\n\t [[Node: loss/output_placeholder_loss/MatrixInverse = MatrixInverse[T=DT_FLOAT, adjoint=false, _device=\"/job:localhost/replica:0/task:0/device:GPU:0\"](loss/output_placeholder_loss/strided_slice_1)]]\n\t [[Node: loss/add_19/_221 = _Recv[client_terminated=false, recv_device=\"/job:localhost/replica:0/task:0/device:CPU:0\", send_device=\"/job:localhost/replica:0/task:0/device:GPU:0\", send_device_incarnation=1, tensor_name=\"edge_2301_loss/add_19\", tensor_type=DT_FLOAT, _device=\"/job:localhost/replica:0/task:0/device:CPU:0\"]()]]\n\nCaused by op 'loss/output_placeholder_loss/MatrixInverse', defined at:\n  File \"/home/cya/anaconda3/envs/tensorflow/lib/python3.6/runpy.py\", line 193, in _run_module_as_main\n    \"__main__\", mod_spec)\n  File \"/home/cya/anaconda3/envs/tensorflow/lib/python3.6/runpy.py\", line 85, in _run_code\n    exec(code, run_globals)\n  File \"/home/cya/anaconda3/envs/tensorflow/lib/python3.6/site-packages/ipykernel_launcher.py\", line 16, in <module>\n    app.launch_new_instance()\n  File \"/home/cya/anaconda3/envs/tensorflow/lib/python3.6/site-packages/traitlets/config/application.py\", line 658, in launch_instance\n    app.start()\n  File \"/home/cya/anaconda3/envs/tensorflow/lib/python3.6/site-packages/ipykernel/kernelapp.py\", line 486, in start\n    self.io_loop.start()\n  File \"/home/cya/anaconda3/envs/tensorflow/lib/python3.6/site-packages/tornado/platform/asyncio.py\", line 127, in start\n    self.asyncio_loop.run_forever()\n  File \"/home/cya/anaconda3/envs/tensorflow/lib/python3.6/asyncio/base_events.py\", line 422, in run_forever\n    self._run_once()\n  File \"/home/cya/anaconda3/envs/tensorflow/lib/python3.6/asyncio/base_events.py\", line 1432, in _run_once\n    handle._run()\n  File \"/home/cya/anaconda3/envs/tensorflow/lib/python3.6/asyncio/events.py\", line 145, in _run\n    self._callback(*self._args)\n  File \"/home/cya/anaconda3/envs/tensorflow/lib/python3.6/site-packages/tornado/ioloop.py\", line 759, in _run_callback\n    ret = callback()\n  File \"/home/cya/anaconda3/envs/tensorflow/lib/python3.6/site-packages/tornado/stack_context.py\", line 276, in null_wrapper\n    return fn(*args, **kwargs)\n  File \"/home/cya/anaconda3/envs/tensorflow/lib/python3.6/site-packages/zmq/eventloop/zmqstream.py\", line 536, in <lambda>\n    self.io_loop.add_callback(lambda : self._handle_events(self.socket, 0))\n  File \"/home/cya/anaconda3/envs/tensorflow/lib/python3.6/site-packages/zmq/eventloop/zmqstream.py\", line 450, in _handle_events\n    self._handle_recv()\n  File \"/home/cya/anaconda3/envs/tensorflow/lib/python3.6/site-packages/zmq/eventloop/zmqstream.py\", line 480, in _handle_recv\n    self._run_callback(callback, msg)\n  File \"/home/cya/anaconda3/envs/tensorflow/lib/python3.6/site-packages/zmq/eventloop/zmqstream.py\", line 432, in _run_callback\n    callback(*args, **kwargs)\n  File \"/home/cya/anaconda3/envs/tensorflow/lib/python3.6/site-packages/tornado/stack_context.py\", line 276, in null_wrapper\n    return fn(*args, **kwargs)\n  File \"/home/cya/anaconda3/envs/tensorflow/lib/python3.6/site-packages/ipykernel/kernelbase.py\", line 283, in dispatcher\n    return self.dispatch_shell(stream, msg)\n  File \"/home/cya/anaconda3/envs/tensorflow/lib/python3.6/site-packages/ipykernel/kernelbase.py\", line 233, in dispatch_shell\n    handler(stream, idents, msg)\n  File \"/home/cya/anaconda3/envs/tensorflow/lib/python3.6/site-packages/ipykernel/kernelbase.py\", line 399, in execute_request\n    user_expressions, allow_stdin)\n  File \"/home/cya/anaconda3/envs/tensorflow/lib/python3.6/site-packages/ipykernel/ipkernel.py\", line 208, in do_execute\n    res = shell.run_cell(code, store_history=store_history, silent=silent)\n  File \"/home/cya/anaconda3/envs/tensorflow/lib/python3.6/site-packages/ipykernel/zmqshell.py\", line 537, in run_cell\n    return super(ZMQInteractiveShell, self).run_cell(*args, **kwargs)\n  File \"/home/cya/anaconda3/envs/tensorflow/lib/python3.6/site-packages/IPython/core/interactiveshell.py\", line 2662, in run_cell\n    raw_cell, store_history, silent, shell_futures)\n  File \"/home/cya/anaconda3/envs/tensorflow/lib/python3.6/site-packages/IPython/core/interactiveshell.py\", line 2785, in _run_cell\n    interactivity=interactivity, compiler=compiler, result=result)\n  File \"/home/cya/anaconda3/envs/tensorflow/lib/python3.6/site-packages/IPython/core/interactiveshell.py\", line 2909, in run_ast_nodes\n    if self.run_code(code, result):\n  File \"/home/cya/anaconda3/envs/tensorflow/lib/python3.6/site-packages/IPython/core/interactiveshell.py\", line 2963, in run_code\n    exec(code_obj, self.user_global_ns, self.user_ns)\n  File \"<ipython-input-39-f34b16094073>\", line 3, in <module>\n    full_network.compile(optimizer=adam, loss=totalLoss)\n  File \"/home/cya/anaconda3/envs/tensorflow/lib/python3.6/site-packages/keras/engine/training.py\", line 830, in compile\n    sample_weight, mask)\n  File \"/home/cya/anaconda3/envs/tensorflow/lib/python3.6/site-packages/keras/engine/training.py\", line 429, in weighted\n    score_array = fn(y_true, y_pred)\n  File \"<ipython-input-36-1657e452a4f9>\", line 16, in totalLoss\n    sample_en += computeEnergy(z_i)\n  File \"<ipython-input-35-75f8c29ac0fa>\", line 11, in computeEnergy\n    sigma_inv = tf.linalg.inv(sigma[cluster]) ### (3,3)\n  File \"/home/cya/anaconda3/envs/tensorflow/lib/python3.6/site-packages/tensorflow/python/ops/gen_linalg_ops.py\", line 1046, in matrix_inverse\n    \"MatrixInverse\", input=input, adjoint=adjoint, name=name)\n  File \"/home/cya/anaconda3/envs/tensorflow/lib/python3.6/site-packages/tensorflow/python/framework/op_def_library.py\", line 787, in _apply_op_helper\n    op_def=op_def)\n  File \"/home/cya/anaconda3/envs/tensorflow/lib/python3.6/site-packages/tensorflow/python/framework/ops.py\", line 3290, in create_op\n    op_def=op_def)\n  File \"/home/cya/anaconda3/envs/tensorflow/lib/python3.6/site-packages/tensorflow/python/framework/ops.py\", line 1654, in __init__\n    self._traceback = self._graph._extract_stack()  # pylint: disable=protected-access\n\nInvalidArgumentError (see above for traceback): Input is not invertible.\n\t [[Node: loss/output_placeholder_loss/MatrixInverse = MatrixInverse[T=DT_FLOAT, adjoint=false, _device=\"/job:localhost/replica:0/task:0/device:GPU:0\"](loss/output_placeholder_loss/strided_slice_1)]]\n\t [[Node: loss/add_19/_221 = _Recv[client_terminated=false, recv_device=\"/job:localhost/replica:0/task:0/device:CPU:0\", send_device=\"/job:localhost/replica:0/task:0/device:GPU:0\", send_device_incarnation=1, tensor_name=\"edge_2301_loss/add_19\", tensor_type=DT_FLOAT, _device=\"/job:localhost/replica:0/task:0/device:CPU:0\"]()]]\n",
     "output_type": "error",
     "traceback": [
      "\u001b[0;31m---------------------------------------------------------------------------\u001b[0m",
      "\u001b[0;31mInvalidArgumentError\u001b[0m                      Traceback (most recent call last)",
      "\u001b[0;32m~/anaconda3/envs/tensorflow/lib/python3.6/site-packages/tensorflow/python/client/session.py\u001b[0m in \u001b[0;36m_do_call\u001b[0;34m(self, fn, *args)\u001b[0m\n\u001b[1;32m   1326\u001b[0m     \u001b[0;32mtry\u001b[0m\u001b[0;34m:\u001b[0m\u001b[0;34m\u001b[0m\u001b[0m\n\u001b[0;32m-> 1327\u001b[0;31m       \u001b[0;32mreturn\u001b[0m \u001b[0mfn\u001b[0m\u001b[0;34m(\u001b[0m\u001b[0;34m*\u001b[0m\u001b[0margs\u001b[0m\u001b[0;34m)\u001b[0m\u001b[0;34m\u001b[0m\u001b[0m\n\u001b[0m\u001b[1;32m   1328\u001b[0m     \u001b[0;32mexcept\u001b[0m \u001b[0merrors\u001b[0m\u001b[0;34m.\u001b[0m\u001b[0mOpError\u001b[0m \u001b[0;32mas\u001b[0m \u001b[0me\u001b[0m\u001b[0;34m:\u001b[0m\u001b[0;34m\u001b[0m\u001b[0m\n",
      "\u001b[0;32m~/anaconda3/envs/tensorflow/lib/python3.6/site-packages/tensorflow/python/client/session.py\u001b[0m in \u001b[0;36m_run_fn\u001b[0;34m(feed_dict, fetch_list, target_list, options, run_metadata)\u001b[0m\n\u001b[1;32m   1311\u001b[0m       return self._call_tf_sessionrun(\n\u001b[0;32m-> 1312\u001b[0;31m           options, feed_dict, fetch_list, target_list, run_metadata)\n\u001b[0m\u001b[1;32m   1313\u001b[0m \u001b[0;34m\u001b[0m\u001b[0m\n",
      "\u001b[0;32m~/anaconda3/envs/tensorflow/lib/python3.6/site-packages/tensorflow/python/client/session.py\u001b[0m in \u001b[0;36m_call_tf_sessionrun\u001b[0;34m(self, options, feed_dict, fetch_list, target_list, run_metadata)\u001b[0m\n\u001b[1;32m   1419\u001b[0m             \u001b[0mself\u001b[0m\u001b[0;34m.\u001b[0m\u001b[0m_session\u001b[0m\u001b[0;34m,\u001b[0m \u001b[0moptions\u001b[0m\u001b[0;34m,\u001b[0m \u001b[0mfeed_dict\u001b[0m\u001b[0;34m,\u001b[0m \u001b[0mfetch_list\u001b[0m\u001b[0;34m,\u001b[0m \u001b[0mtarget_list\u001b[0m\u001b[0;34m,\u001b[0m\u001b[0;34m\u001b[0m\u001b[0m\n\u001b[0;32m-> 1420\u001b[0;31m             status, run_metadata)\n\u001b[0m\u001b[1;32m   1421\u001b[0m \u001b[0;34m\u001b[0m\u001b[0m\n",
      "\u001b[0;32m~/anaconda3/envs/tensorflow/lib/python3.6/site-packages/tensorflow/python/framework/errors_impl.py\u001b[0m in \u001b[0;36m__exit__\u001b[0;34m(self, type_arg, value_arg, traceback_arg)\u001b[0m\n\u001b[1;32m    515\u001b[0m             \u001b[0mcompat\u001b[0m\u001b[0;34m.\u001b[0m\u001b[0mas_text\u001b[0m\u001b[0;34m(\u001b[0m\u001b[0mc_api\u001b[0m\u001b[0;34m.\u001b[0m\u001b[0mTF_Message\u001b[0m\u001b[0;34m(\u001b[0m\u001b[0mself\u001b[0m\u001b[0;34m.\u001b[0m\u001b[0mstatus\u001b[0m\u001b[0;34m.\u001b[0m\u001b[0mstatus\u001b[0m\u001b[0;34m)\u001b[0m\u001b[0;34m)\u001b[0m\u001b[0;34m,\u001b[0m\u001b[0;34m\u001b[0m\u001b[0m\n\u001b[0;32m--> 516\u001b[0;31m             c_api.TF_GetCode(self.status.status))\n\u001b[0m\u001b[1;32m    517\u001b[0m     \u001b[0;31m# Delete the underlying status object from memory otherwise it stays alive\u001b[0m\u001b[0;34m\u001b[0m\u001b[0;34m\u001b[0m\u001b[0m\n",
      "\u001b[0;31mInvalidArgumentError\u001b[0m: Input is not invertible.\n\t [[Node: loss/output_placeholder_loss/MatrixInverse = MatrixInverse[T=DT_FLOAT, adjoint=false, _device=\"/job:localhost/replica:0/task:0/device:GPU:0\"](loss/output_placeholder_loss/strided_slice_1)]]\n\t [[Node: loss/add_19/_221 = _Recv[client_terminated=false, recv_device=\"/job:localhost/replica:0/task:0/device:CPU:0\", send_device=\"/job:localhost/replica:0/task:0/device:GPU:0\", send_device_incarnation=1, tensor_name=\"edge_2301_loss/add_19\", tensor_type=DT_FLOAT, _device=\"/job:localhost/replica:0/task:0/device:CPU:0\"]()]]",
      "\nDuring handling of the above exception, another exception occurred:\n",
      "\u001b[0;31mInvalidArgumentError\u001b[0m                      Traceback (most recent call last)",
      "\u001b[0;32m<ipython-input-42-41b64716eb73>\u001b[0m in \u001b[0;36m<module>\u001b[0;34m()\u001b[0m\n\u001b[1;32m      5\u001b[0m                            \u001b[0msteps_per_epoch\u001b[0m \u001b[0;34m=\u001b[0m \u001b[0msteps_per_epoch\u001b[0m\u001b[0;34m,\u001b[0m\u001b[0;34m\u001b[0m\u001b[0m\n\u001b[1;32m      6\u001b[0m                            \u001b[0mcallbacks\u001b[0m \u001b[0;34m=\u001b[0m \u001b[0;34m[\u001b[0m\u001b[0mtensorboard\u001b[0m\u001b[0;34m,\u001b[0m \u001b[0mcompute_gmm\u001b[0m\u001b[0;34m]\u001b[0m\u001b[0;34m,\u001b[0m\u001b[0;34m\u001b[0m\u001b[0m\n\u001b[0;32m----> 7\u001b[0;31m                            verbose = 1)\n\u001b[0m",
      "\u001b[0;32m~/anaconda3/envs/tensorflow/lib/python3.6/site-packages/keras/legacy/interfaces.py\u001b[0m in \u001b[0;36mwrapper\u001b[0;34m(*args, **kwargs)\u001b[0m\n\u001b[1;32m     89\u001b[0m                 warnings.warn('Update your `' + object_name +\n\u001b[1;32m     90\u001b[0m                               '` call to the Keras 2 API: ' + signature, stacklevel=2)\n\u001b[0;32m---> 91\u001b[0;31m             \u001b[0;32mreturn\u001b[0m \u001b[0mfunc\u001b[0m\u001b[0;34m(\u001b[0m\u001b[0;34m*\u001b[0m\u001b[0margs\u001b[0m\u001b[0;34m,\u001b[0m \u001b[0;34m**\u001b[0m\u001b[0mkwargs\u001b[0m\u001b[0;34m)\u001b[0m\u001b[0;34m\u001b[0m\u001b[0m\n\u001b[0m\u001b[1;32m     92\u001b[0m         \u001b[0mwrapper\u001b[0m\u001b[0;34m.\u001b[0m\u001b[0m_original_function\u001b[0m \u001b[0;34m=\u001b[0m \u001b[0mfunc\u001b[0m\u001b[0;34m\u001b[0m\u001b[0m\n\u001b[1;32m     93\u001b[0m         \u001b[0;32mreturn\u001b[0m \u001b[0mwrapper\u001b[0m\u001b[0;34m\u001b[0m\u001b[0m\n",
      "\u001b[0;32m~/anaconda3/envs/tensorflow/lib/python3.6/site-packages/keras/engine/training.py\u001b[0m in \u001b[0;36mfit_generator\u001b[0;34m(self, generator, steps_per_epoch, epochs, verbose, callbacks, validation_data, validation_steps, class_weight, max_queue_size, workers, use_multiprocessing, shuffle, initial_epoch)\u001b[0m\n\u001b[1;32m   2222\u001b[0m                     outs = self.train_on_batch(x, y,\n\u001b[1;32m   2223\u001b[0m                                                \u001b[0msample_weight\u001b[0m\u001b[0;34m=\u001b[0m\u001b[0msample_weight\u001b[0m\u001b[0;34m,\u001b[0m\u001b[0;34m\u001b[0m\u001b[0m\n\u001b[0;32m-> 2224\u001b[0;31m                                                class_weight=class_weight)\n\u001b[0m\u001b[1;32m   2225\u001b[0m \u001b[0;34m\u001b[0m\u001b[0m\n\u001b[1;32m   2226\u001b[0m                     \u001b[0;32mif\u001b[0m \u001b[0;32mnot\u001b[0m \u001b[0misinstance\u001b[0m\u001b[0;34m(\u001b[0m\u001b[0mouts\u001b[0m\u001b[0;34m,\u001b[0m \u001b[0mlist\u001b[0m\u001b[0;34m)\u001b[0m\u001b[0;34m:\u001b[0m\u001b[0;34m\u001b[0m\u001b[0m\n",
      "\u001b[0;32m~/anaconda3/envs/tensorflow/lib/python3.6/site-packages/keras/engine/training.py\u001b[0m in \u001b[0;36mtrain_on_batch\u001b[0;34m(self, x, y, sample_weight, class_weight)\u001b[0m\n\u001b[1;32m   1881\u001b[0m             \u001b[0mins\u001b[0m \u001b[0;34m=\u001b[0m \u001b[0mx\u001b[0m \u001b[0;34m+\u001b[0m \u001b[0my\u001b[0m \u001b[0;34m+\u001b[0m \u001b[0msample_weights\u001b[0m\u001b[0;34m\u001b[0m\u001b[0m\n\u001b[1;32m   1882\u001b[0m         \u001b[0mself\u001b[0m\u001b[0;34m.\u001b[0m\u001b[0m_make_train_function\u001b[0m\u001b[0;34m(\u001b[0m\u001b[0;34m)\u001b[0m\u001b[0;34m\u001b[0m\u001b[0m\n\u001b[0;32m-> 1883\u001b[0;31m         \u001b[0moutputs\u001b[0m \u001b[0;34m=\u001b[0m \u001b[0mself\u001b[0m\u001b[0;34m.\u001b[0m\u001b[0mtrain_function\u001b[0m\u001b[0;34m(\u001b[0m\u001b[0mins\u001b[0m\u001b[0;34m)\u001b[0m\u001b[0;34m\u001b[0m\u001b[0m\n\u001b[0m\u001b[1;32m   1884\u001b[0m         \u001b[0;32mif\u001b[0m \u001b[0mlen\u001b[0m\u001b[0;34m(\u001b[0m\u001b[0moutputs\u001b[0m\u001b[0;34m)\u001b[0m \u001b[0;34m==\u001b[0m \u001b[0;36m1\u001b[0m\u001b[0;34m:\u001b[0m\u001b[0;34m\u001b[0m\u001b[0m\n\u001b[1;32m   1885\u001b[0m             \u001b[0;32mreturn\u001b[0m \u001b[0moutputs\u001b[0m\u001b[0;34m[\u001b[0m\u001b[0;36m0\u001b[0m\u001b[0;34m]\u001b[0m\u001b[0;34m\u001b[0m\u001b[0m\n",
      "\u001b[0;32m~/anaconda3/envs/tensorflow/lib/python3.6/site-packages/keras/backend/tensorflow_backend.py\u001b[0m in \u001b[0;36m__call__\u001b[0;34m(self, inputs)\u001b[0m\n\u001b[1;32m   2476\u001b[0m         \u001b[0msession\u001b[0m \u001b[0;34m=\u001b[0m \u001b[0mget_session\u001b[0m\u001b[0;34m(\u001b[0m\u001b[0;34m)\u001b[0m\u001b[0;34m\u001b[0m\u001b[0m\n\u001b[1;32m   2477\u001b[0m         updated = session.run(fetches=fetches, feed_dict=feed_dict,\n\u001b[0;32m-> 2478\u001b[0;31m                               **self.session_kwargs)\n\u001b[0m\u001b[1;32m   2479\u001b[0m         \u001b[0;32mreturn\u001b[0m \u001b[0mupdated\u001b[0m\u001b[0;34m[\u001b[0m\u001b[0;34m:\u001b[0m\u001b[0mlen\u001b[0m\u001b[0;34m(\u001b[0m\u001b[0mself\u001b[0m\u001b[0;34m.\u001b[0m\u001b[0moutputs\u001b[0m\u001b[0;34m)\u001b[0m\u001b[0;34m]\u001b[0m\u001b[0;34m\u001b[0m\u001b[0m\n\u001b[1;32m   2480\u001b[0m \u001b[0;34m\u001b[0m\u001b[0m\n",
      "\u001b[0;32m~/anaconda3/envs/tensorflow/lib/python3.6/site-packages/tensorflow/python/client/session.py\u001b[0m in \u001b[0;36mrun\u001b[0;34m(self, fetches, feed_dict, options, run_metadata)\u001b[0m\n\u001b[1;32m    903\u001b[0m     \u001b[0;32mtry\u001b[0m\u001b[0;34m:\u001b[0m\u001b[0;34m\u001b[0m\u001b[0m\n\u001b[1;32m    904\u001b[0m       result = self._run(None, fetches, feed_dict, options_ptr,\n\u001b[0;32m--> 905\u001b[0;31m                          run_metadata_ptr)\n\u001b[0m\u001b[1;32m    906\u001b[0m       \u001b[0;32mif\u001b[0m \u001b[0mrun_metadata\u001b[0m\u001b[0;34m:\u001b[0m\u001b[0;34m\u001b[0m\u001b[0m\n\u001b[1;32m    907\u001b[0m         \u001b[0mproto_data\u001b[0m \u001b[0;34m=\u001b[0m \u001b[0mtf_session\u001b[0m\u001b[0;34m.\u001b[0m\u001b[0mTF_GetBuffer\u001b[0m\u001b[0;34m(\u001b[0m\u001b[0mrun_metadata_ptr\u001b[0m\u001b[0;34m)\u001b[0m\u001b[0;34m\u001b[0m\u001b[0m\n",
      "\u001b[0;32m~/anaconda3/envs/tensorflow/lib/python3.6/site-packages/tensorflow/python/client/session.py\u001b[0m in \u001b[0;36m_run\u001b[0;34m(self, handle, fetches, feed_dict, options, run_metadata)\u001b[0m\n\u001b[1;32m   1138\u001b[0m     \u001b[0;32mif\u001b[0m \u001b[0mfinal_fetches\u001b[0m \u001b[0;32mor\u001b[0m \u001b[0mfinal_targets\u001b[0m \u001b[0;32mor\u001b[0m \u001b[0;34m(\u001b[0m\u001b[0mhandle\u001b[0m \u001b[0;32mand\u001b[0m \u001b[0mfeed_dict_tensor\u001b[0m\u001b[0;34m)\u001b[0m\u001b[0;34m:\u001b[0m\u001b[0;34m\u001b[0m\u001b[0m\n\u001b[1;32m   1139\u001b[0m       results = self._do_run(handle, final_targets, final_fetches,\n\u001b[0;32m-> 1140\u001b[0;31m                              feed_dict_tensor, options, run_metadata)\n\u001b[0m\u001b[1;32m   1141\u001b[0m     \u001b[0;32melse\u001b[0m\u001b[0;34m:\u001b[0m\u001b[0;34m\u001b[0m\u001b[0m\n\u001b[1;32m   1142\u001b[0m       \u001b[0mresults\u001b[0m \u001b[0;34m=\u001b[0m \u001b[0;34m[\u001b[0m\u001b[0;34m]\u001b[0m\u001b[0;34m\u001b[0m\u001b[0m\n",
      "\u001b[0;32m~/anaconda3/envs/tensorflow/lib/python3.6/site-packages/tensorflow/python/client/session.py\u001b[0m in \u001b[0;36m_do_run\u001b[0;34m(self, handle, target_list, fetch_list, feed_dict, options, run_metadata)\u001b[0m\n\u001b[1;32m   1319\u001b[0m     \u001b[0;32mif\u001b[0m \u001b[0mhandle\u001b[0m \u001b[0;32mis\u001b[0m \u001b[0;32mNone\u001b[0m\u001b[0;34m:\u001b[0m\u001b[0;34m\u001b[0m\u001b[0m\n\u001b[1;32m   1320\u001b[0m       return self._do_call(_run_fn, feeds, fetches, targets, options,\n\u001b[0;32m-> 1321\u001b[0;31m                            run_metadata)\n\u001b[0m\u001b[1;32m   1322\u001b[0m     \u001b[0;32melse\u001b[0m\u001b[0;34m:\u001b[0m\u001b[0;34m\u001b[0m\u001b[0m\n\u001b[1;32m   1323\u001b[0m       \u001b[0;32mreturn\u001b[0m \u001b[0mself\u001b[0m\u001b[0;34m.\u001b[0m\u001b[0m_do_call\u001b[0m\u001b[0;34m(\u001b[0m\u001b[0m_prun_fn\u001b[0m\u001b[0;34m,\u001b[0m \u001b[0mhandle\u001b[0m\u001b[0;34m,\u001b[0m \u001b[0mfeeds\u001b[0m\u001b[0;34m,\u001b[0m \u001b[0mfetches\u001b[0m\u001b[0;34m)\u001b[0m\u001b[0;34m\u001b[0m\u001b[0m\n",
      "\u001b[0;32m~/anaconda3/envs/tensorflow/lib/python3.6/site-packages/tensorflow/python/client/session.py\u001b[0m in \u001b[0;36m_do_call\u001b[0;34m(self, fn, *args)\u001b[0m\n\u001b[1;32m   1338\u001b[0m         \u001b[0;32mexcept\u001b[0m \u001b[0mKeyError\u001b[0m\u001b[0;34m:\u001b[0m\u001b[0;34m\u001b[0m\u001b[0m\n\u001b[1;32m   1339\u001b[0m           \u001b[0;32mpass\u001b[0m\u001b[0;34m\u001b[0m\u001b[0m\n\u001b[0;32m-> 1340\u001b[0;31m       \u001b[0;32mraise\u001b[0m \u001b[0mtype\u001b[0m\u001b[0;34m(\u001b[0m\u001b[0me\u001b[0m\u001b[0;34m)\u001b[0m\u001b[0;34m(\u001b[0m\u001b[0mnode_def\u001b[0m\u001b[0;34m,\u001b[0m \u001b[0mop\u001b[0m\u001b[0;34m,\u001b[0m \u001b[0mmessage\u001b[0m\u001b[0;34m)\u001b[0m\u001b[0;34m\u001b[0m\u001b[0m\n\u001b[0m\u001b[1;32m   1341\u001b[0m \u001b[0;34m\u001b[0m\u001b[0m\n\u001b[1;32m   1342\u001b[0m   \u001b[0;32mdef\u001b[0m \u001b[0m_extend_graph\u001b[0m\u001b[0;34m(\u001b[0m\u001b[0mself\u001b[0m\u001b[0;34m)\u001b[0m\u001b[0;34m:\u001b[0m\u001b[0;34m\u001b[0m\u001b[0m\n",
      "\u001b[0;31mInvalidArgumentError\u001b[0m: Input is not invertible.\n\t [[Node: loss/output_placeholder_loss/MatrixInverse = MatrixInverse[T=DT_FLOAT, adjoint=false, _device=\"/job:localhost/replica:0/task:0/device:GPU:0\"](loss/output_placeholder_loss/strided_slice_1)]]\n\t [[Node: loss/add_19/_221 = _Recv[client_terminated=false, recv_device=\"/job:localhost/replica:0/task:0/device:CPU:0\", send_device=\"/job:localhost/replica:0/task:0/device:GPU:0\", send_device_incarnation=1, tensor_name=\"edge_2301_loss/add_19\", tensor_type=DT_FLOAT, _device=\"/job:localhost/replica:0/task:0/device:CPU:0\"]()]]\n\nCaused by op 'loss/output_placeholder_loss/MatrixInverse', defined at:\n  File \"/home/cya/anaconda3/envs/tensorflow/lib/python3.6/runpy.py\", line 193, in _run_module_as_main\n    \"__main__\", mod_spec)\n  File \"/home/cya/anaconda3/envs/tensorflow/lib/python3.6/runpy.py\", line 85, in _run_code\n    exec(code, run_globals)\n  File \"/home/cya/anaconda3/envs/tensorflow/lib/python3.6/site-packages/ipykernel_launcher.py\", line 16, in <module>\n    app.launch_new_instance()\n  File \"/home/cya/anaconda3/envs/tensorflow/lib/python3.6/site-packages/traitlets/config/application.py\", line 658, in launch_instance\n    app.start()\n  File \"/home/cya/anaconda3/envs/tensorflow/lib/python3.6/site-packages/ipykernel/kernelapp.py\", line 486, in start\n    self.io_loop.start()\n  File \"/home/cya/anaconda3/envs/tensorflow/lib/python3.6/site-packages/tornado/platform/asyncio.py\", line 127, in start\n    self.asyncio_loop.run_forever()\n  File \"/home/cya/anaconda3/envs/tensorflow/lib/python3.6/asyncio/base_events.py\", line 422, in run_forever\n    self._run_once()\n  File \"/home/cya/anaconda3/envs/tensorflow/lib/python3.6/asyncio/base_events.py\", line 1432, in _run_once\n    handle._run()\n  File \"/home/cya/anaconda3/envs/tensorflow/lib/python3.6/asyncio/events.py\", line 145, in _run\n    self._callback(*self._args)\n  File \"/home/cya/anaconda3/envs/tensorflow/lib/python3.6/site-packages/tornado/ioloop.py\", line 759, in _run_callback\n    ret = callback()\n  File \"/home/cya/anaconda3/envs/tensorflow/lib/python3.6/site-packages/tornado/stack_context.py\", line 276, in null_wrapper\n    return fn(*args, **kwargs)\n  File \"/home/cya/anaconda3/envs/tensorflow/lib/python3.6/site-packages/zmq/eventloop/zmqstream.py\", line 536, in <lambda>\n    self.io_loop.add_callback(lambda : self._handle_events(self.socket, 0))\n  File \"/home/cya/anaconda3/envs/tensorflow/lib/python3.6/site-packages/zmq/eventloop/zmqstream.py\", line 450, in _handle_events\n    self._handle_recv()\n  File \"/home/cya/anaconda3/envs/tensorflow/lib/python3.6/site-packages/zmq/eventloop/zmqstream.py\", line 480, in _handle_recv\n    self._run_callback(callback, msg)\n  File \"/home/cya/anaconda3/envs/tensorflow/lib/python3.6/site-packages/zmq/eventloop/zmqstream.py\", line 432, in _run_callback\n    callback(*args, **kwargs)\n  File \"/home/cya/anaconda3/envs/tensorflow/lib/python3.6/site-packages/tornado/stack_context.py\", line 276, in null_wrapper\n    return fn(*args, **kwargs)\n  File \"/home/cya/anaconda3/envs/tensorflow/lib/python3.6/site-packages/ipykernel/kernelbase.py\", line 283, in dispatcher\n    return self.dispatch_shell(stream, msg)\n  File \"/home/cya/anaconda3/envs/tensorflow/lib/python3.6/site-packages/ipykernel/kernelbase.py\", line 233, in dispatch_shell\n    handler(stream, idents, msg)\n  File \"/home/cya/anaconda3/envs/tensorflow/lib/python3.6/site-packages/ipykernel/kernelbase.py\", line 399, in execute_request\n    user_expressions, allow_stdin)\n  File \"/home/cya/anaconda3/envs/tensorflow/lib/python3.6/site-packages/ipykernel/ipkernel.py\", line 208, in do_execute\n    res = shell.run_cell(code, store_history=store_history, silent=silent)\n  File \"/home/cya/anaconda3/envs/tensorflow/lib/python3.6/site-packages/ipykernel/zmqshell.py\", line 537, in run_cell\n    return super(ZMQInteractiveShell, self).run_cell(*args, **kwargs)\n  File \"/home/cya/anaconda3/envs/tensorflow/lib/python3.6/site-packages/IPython/core/interactiveshell.py\", line 2662, in run_cell\n    raw_cell, store_history, silent, shell_futures)\n  File \"/home/cya/anaconda3/envs/tensorflow/lib/python3.6/site-packages/IPython/core/interactiveshell.py\", line 2785, in _run_cell\n    interactivity=interactivity, compiler=compiler, result=result)\n  File \"/home/cya/anaconda3/envs/tensorflow/lib/python3.6/site-packages/IPython/core/interactiveshell.py\", line 2909, in run_ast_nodes\n    if self.run_code(code, result):\n  File \"/home/cya/anaconda3/envs/tensorflow/lib/python3.6/site-packages/IPython/core/interactiveshell.py\", line 2963, in run_code\n    exec(code_obj, self.user_global_ns, self.user_ns)\n  File \"<ipython-input-39-f34b16094073>\", line 3, in <module>\n    full_network.compile(optimizer=adam, loss=totalLoss)\n  File \"/home/cya/anaconda3/envs/tensorflow/lib/python3.6/site-packages/keras/engine/training.py\", line 830, in compile\n    sample_weight, mask)\n  File \"/home/cya/anaconda3/envs/tensorflow/lib/python3.6/site-packages/keras/engine/training.py\", line 429, in weighted\n    score_array = fn(y_true, y_pred)\n  File \"<ipython-input-36-1657e452a4f9>\", line 16, in totalLoss\n    sample_en += computeEnergy(z_i)\n  File \"<ipython-input-35-75f8c29ac0fa>\", line 11, in computeEnergy\n    sigma_inv = tf.linalg.inv(sigma[cluster]) ### (3,3)\n  File \"/home/cya/anaconda3/envs/tensorflow/lib/python3.6/site-packages/tensorflow/python/ops/gen_linalg_ops.py\", line 1046, in matrix_inverse\n    \"MatrixInverse\", input=input, adjoint=adjoint, name=name)\n  File \"/home/cya/anaconda3/envs/tensorflow/lib/python3.6/site-packages/tensorflow/python/framework/op_def_library.py\", line 787, in _apply_op_helper\n    op_def=op_def)\n  File \"/home/cya/anaconda3/envs/tensorflow/lib/python3.6/site-packages/tensorflow/python/framework/ops.py\", line 3290, in create_op\n    op_def=op_def)\n  File \"/home/cya/anaconda3/envs/tensorflow/lib/python3.6/site-packages/tensorflow/python/framework/ops.py\", line 1654, in __init__\n    self._traceback = self._graph._extract_stack()  # pylint: disable=protected-access\n\nInvalidArgumentError (see above for traceback): Input is not invertible.\n\t [[Node: loss/output_placeholder_loss/MatrixInverse = MatrixInverse[T=DT_FLOAT, adjoint=false, _device=\"/job:localhost/replica:0/task:0/device:GPU:0\"](loss/output_placeholder_loss/strided_slice_1)]]\n\t [[Node: loss/add_19/_221 = _Recv[client_terminated=false, recv_device=\"/job:localhost/replica:0/task:0/device:CPU:0\", send_device=\"/job:localhost/replica:0/task:0/device:GPU:0\", send_device_incarnation=1, tensor_name=\"edge_2301_loss/add_19\", tensor_type=DT_FLOAT, _device=\"/job:localhost/replica:0/task:0/device:CPU:0\"]()]]\n"
     ]
    }
   ],
   "source": [
    "steps_per_epoch = int(np.ceil(x_train.shape[0] / batch_size))\n",
    "\n",
    "history = full_network.fit_generator(batchGenerator(),\n",
    "                           epochs = 10, ##epoch,\n",
    "                           steps_per_epoch = steps_per_epoch,\n",
    "                           callbacks = [tensorboard, compute_gmm],\n",
    "                           verbose = 1)"
   ]
  },
  {
   "cell_type": "code",
   "execution_count": null,
   "metadata": {
    "scrolled": false
   },
   "outputs": [],
   "source": [
    "printGmmParams()"
   ]
  }
 ],
 "metadata": {
  "kernelspec": {
   "display_name": "Python 3",
   "language": "python",
   "name": "python3"
  },
  "language_info": {
   "codemirror_mode": {
    "name": "ipython",
    "version": 3
   },
   "file_extension": ".py",
   "mimetype": "text/x-python",
   "name": "python",
   "nbconvert_exporter": "python",
   "pygments_lexer": "ipython3",
   "version": "3.6.5"
  }
 },
 "nbformat": 4,
 "nbformat_minor": 2
}
