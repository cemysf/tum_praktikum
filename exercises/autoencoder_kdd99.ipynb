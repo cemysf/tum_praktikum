{
 "cells": [
  {
   "cell_type": "markdown",
   "metadata": {},
   "source": [
    "# Autoencoder on KDD99 dataset"
   ]
  },
  {
   "cell_type": "markdown",
   "metadata": {},
   "source": [
    "## Load dataset"
   ]
  },
  {
   "cell_type": "code",
   "execution_count": 1,
   "metadata": {},
   "outputs": [],
   "source": [
    "import pandas as pd\n",
    "import numpy as np"
   ]
  },
  {
   "cell_type": "code",
   "execution_count": 2,
   "metadata": {},
   "outputs": [],
   "source": [
    "### load data and labels (normal and different attack types)\n",
    "\n",
    "df_data = pd.read_csv(\"datasets/kddcup/kddcup.data_10_percent.gz\", header=None)\n",
    "df_labels = pd.DataFrame(df_data.iloc[:,-1])    ### last column has labels\n",
    "df_data = df_data.iloc[:, :-1]  ### columns until last column"
   ]
  },
  {
   "cell_type": "code",
   "execution_count": 3,
   "metadata": {},
   "outputs": [],
   "source": [
    "### read column names and types\n",
    "\n",
    "col_names=[]\n",
    "col_datatypes=[]\n",
    "\n",
    "with open(\"datasets/kddcup/kddcup.names\") as file:\n",
    "    next(file)    ### skip first line\n",
    "    for line in file:\n",
    "        name, datatype = line.split(\": \")\n",
    "        col_names.append(name)\n",
    "        col_datatypes.append(datatype.replace(\".\\n\",\"\"))\n",
    "        \n",
    "#col_names.append(\"labels\")\n",
    "        \n",
    "df_data.columns = col_names\n",
    "df_labels.columns = [\"labels\"]"
   ]
  },
  {
   "cell_type": "code",
   "execution_count": 4,
   "metadata": {
    "scrolled": false
   },
   "outputs": [
    {
     "data": {
      "text/html": [
       "<div>\n",
       "<style scoped>\n",
       "    .dataframe tbody tr th:only-of-type {\n",
       "        vertical-align: middle;\n",
       "    }\n",
       "\n",
       "    .dataframe tbody tr th {\n",
       "        vertical-align: top;\n",
       "    }\n",
       "\n",
       "    .dataframe thead th {\n",
       "        text-align: right;\n",
       "    }\n",
       "</style>\n",
       "<table border=\"1\" class=\"dataframe\">\n",
       "  <thead>\n",
       "    <tr style=\"text-align: right;\">\n",
       "      <th></th>\n",
       "      <th>duration</th>\n",
       "      <th>protocol_type</th>\n",
       "      <th>service</th>\n",
       "      <th>flag</th>\n",
       "      <th>src_bytes</th>\n",
       "      <th>dst_bytes</th>\n",
       "      <th>land</th>\n",
       "      <th>wrong_fragment</th>\n",
       "      <th>urgent</th>\n",
       "      <th>hot</th>\n",
       "      <th>...</th>\n",
       "      <th>dst_host_count</th>\n",
       "      <th>dst_host_srv_count</th>\n",
       "      <th>dst_host_same_srv_rate</th>\n",
       "      <th>dst_host_diff_srv_rate</th>\n",
       "      <th>dst_host_same_src_port_rate</th>\n",
       "      <th>dst_host_srv_diff_host_rate</th>\n",
       "      <th>dst_host_serror_rate</th>\n",
       "      <th>dst_host_srv_serror_rate</th>\n",
       "      <th>dst_host_rerror_rate</th>\n",
       "      <th>dst_host_srv_rerror_rate</th>\n",
       "    </tr>\n",
       "  </thead>\n",
       "  <tbody>\n",
       "    <tr>\n",
       "      <th>0</th>\n",
       "      <td>0</td>\n",
       "      <td>tcp</td>\n",
       "      <td>http</td>\n",
       "      <td>SF</td>\n",
       "      <td>181</td>\n",
       "      <td>5450</td>\n",
       "      <td>0</td>\n",
       "      <td>0</td>\n",
       "      <td>0</td>\n",
       "      <td>0</td>\n",
       "      <td>...</td>\n",
       "      <td>9</td>\n",
       "      <td>9</td>\n",
       "      <td>1.0</td>\n",
       "      <td>0.0</td>\n",
       "      <td>0.11</td>\n",
       "      <td>0.0</td>\n",
       "      <td>0.0</td>\n",
       "      <td>0.0</td>\n",
       "      <td>0.0</td>\n",
       "      <td>0.0</td>\n",
       "    </tr>\n",
       "    <tr>\n",
       "      <th>1</th>\n",
       "      <td>0</td>\n",
       "      <td>tcp</td>\n",
       "      <td>http</td>\n",
       "      <td>SF</td>\n",
       "      <td>239</td>\n",
       "      <td>486</td>\n",
       "      <td>0</td>\n",
       "      <td>0</td>\n",
       "      <td>0</td>\n",
       "      <td>0</td>\n",
       "      <td>...</td>\n",
       "      <td>19</td>\n",
       "      <td>19</td>\n",
       "      <td>1.0</td>\n",
       "      <td>0.0</td>\n",
       "      <td>0.05</td>\n",
       "      <td>0.0</td>\n",
       "      <td>0.0</td>\n",
       "      <td>0.0</td>\n",
       "      <td>0.0</td>\n",
       "      <td>0.0</td>\n",
       "    </tr>\n",
       "    <tr>\n",
       "      <th>2</th>\n",
       "      <td>0</td>\n",
       "      <td>tcp</td>\n",
       "      <td>http</td>\n",
       "      <td>SF</td>\n",
       "      <td>235</td>\n",
       "      <td>1337</td>\n",
       "      <td>0</td>\n",
       "      <td>0</td>\n",
       "      <td>0</td>\n",
       "      <td>0</td>\n",
       "      <td>...</td>\n",
       "      <td>29</td>\n",
       "      <td>29</td>\n",
       "      <td>1.0</td>\n",
       "      <td>0.0</td>\n",
       "      <td>0.03</td>\n",
       "      <td>0.0</td>\n",
       "      <td>0.0</td>\n",
       "      <td>0.0</td>\n",
       "      <td>0.0</td>\n",
       "      <td>0.0</td>\n",
       "    </tr>\n",
       "    <tr>\n",
       "      <th>3</th>\n",
       "      <td>0</td>\n",
       "      <td>tcp</td>\n",
       "      <td>http</td>\n",
       "      <td>SF</td>\n",
       "      <td>219</td>\n",
       "      <td>1337</td>\n",
       "      <td>0</td>\n",
       "      <td>0</td>\n",
       "      <td>0</td>\n",
       "      <td>0</td>\n",
       "      <td>...</td>\n",
       "      <td>39</td>\n",
       "      <td>39</td>\n",
       "      <td>1.0</td>\n",
       "      <td>0.0</td>\n",
       "      <td>0.03</td>\n",
       "      <td>0.0</td>\n",
       "      <td>0.0</td>\n",
       "      <td>0.0</td>\n",
       "      <td>0.0</td>\n",
       "      <td>0.0</td>\n",
       "    </tr>\n",
       "    <tr>\n",
       "      <th>4</th>\n",
       "      <td>0</td>\n",
       "      <td>tcp</td>\n",
       "      <td>http</td>\n",
       "      <td>SF</td>\n",
       "      <td>217</td>\n",
       "      <td>2032</td>\n",
       "      <td>0</td>\n",
       "      <td>0</td>\n",
       "      <td>0</td>\n",
       "      <td>0</td>\n",
       "      <td>...</td>\n",
       "      <td>49</td>\n",
       "      <td>49</td>\n",
       "      <td>1.0</td>\n",
       "      <td>0.0</td>\n",
       "      <td>0.02</td>\n",
       "      <td>0.0</td>\n",
       "      <td>0.0</td>\n",
       "      <td>0.0</td>\n",
       "      <td>0.0</td>\n",
       "      <td>0.0</td>\n",
       "    </tr>\n",
       "  </tbody>\n",
       "</table>\n",
       "<p>5 rows × 41 columns</p>\n",
       "</div>"
      ],
      "text/plain": [
       "   duration protocol_type service flag  src_bytes  dst_bytes  land  \\\n",
       "0         0           tcp    http   SF        181       5450     0   \n",
       "1         0           tcp    http   SF        239        486     0   \n",
       "2         0           tcp    http   SF        235       1337     0   \n",
       "3         0           tcp    http   SF        219       1337     0   \n",
       "4         0           tcp    http   SF        217       2032     0   \n",
       "\n",
       "   wrong_fragment  urgent  hot            ...             dst_host_count  \\\n",
       "0               0       0    0            ...                          9   \n",
       "1               0       0    0            ...                         19   \n",
       "2               0       0    0            ...                         29   \n",
       "3               0       0    0            ...                         39   \n",
       "4               0       0    0            ...                         49   \n",
       "\n",
       "   dst_host_srv_count  dst_host_same_srv_rate  dst_host_diff_srv_rate  \\\n",
       "0                   9                     1.0                     0.0   \n",
       "1                  19                     1.0                     0.0   \n",
       "2                  29                     1.0                     0.0   \n",
       "3                  39                     1.0                     0.0   \n",
       "4                  49                     1.0                     0.0   \n",
       "\n",
       "   dst_host_same_src_port_rate  dst_host_srv_diff_host_rate  \\\n",
       "0                         0.11                          0.0   \n",
       "1                         0.05                          0.0   \n",
       "2                         0.03                          0.0   \n",
       "3                         0.03                          0.0   \n",
       "4                         0.02                          0.0   \n",
       "\n",
       "   dst_host_serror_rate  dst_host_srv_serror_rate  dst_host_rerror_rate  \\\n",
       "0                   0.0                       0.0                   0.0   \n",
       "1                   0.0                       0.0                   0.0   \n",
       "2                   0.0                       0.0                   0.0   \n",
       "3                   0.0                       0.0                   0.0   \n",
       "4                   0.0                       0.0                   0.0   \n",
       "\n",
       "   dst_host_srv_rerror_rate  \n",
       "0                       0.0  \n",
       "1                       0.0  \n",
       "2                       0.0  \n",
       "3                       0.0  \n",
       "4                       0.0  \n",
       "\n",
       "[5 rows x 41 columns]"
      ]
     },
     "execution_count": 4,
     "metadata": {},
     "output_type": "execute_result"
    }
   ],
   "source": [
    "df_data.head()"
   ]
  },
  {
   "cell_type": "code",
   "execution_count": 5,
   "metadata": {},
   "outputs": [
    {
     "name": "stdout",
     "output_type": "stream",
     "text": [
      "False\n",
      "False\n"
     ]
    }
   ],
   "source": [
    "## check integrity of the data\n",
    "\n",
    "print(df_data.isnull().values.any())\n",
    "\n",
    "print(df_data.isna().values.any())"
   ]
  },
  {
   "cell_type": "markdown",
   "metadata": {},
   "source": [
    "### Enumerate labels to 0 and 1"
   ]
  },
  {
   "cell_type": "code",
   "execution_count": 6,
   "metadata": {},
   "outputs": [],
   "source": [
    "### add new label column for normal and abnormal\n",
    "\n",
    "df_data[\"label\"] = np.where(df_labels[\"labels\"].str.contains(\"normal\"), \"normal\", \"abnormal\")"
   ]
  },
  {
   "cell_type": "code",
   "execution_count": 7,
   "metadata": {},
   "outputs": [
    {
     "name": "stdout",
     "output_type": "stream",
     "text": [
      "number of normal: 97278\n",
      "number of abnormal: 396743\n"
     ]
    }
   ],
   "source": [
    "### number of normal and abnormal\n",
    "print(\"number of normal:\", len(np.where(df_data[\"label\"] == \"normal\")[0]))\n",
    "print(\"number of abnormal:\", len(np.where(df_data[\"label\"] == \"abnormal\")[0]))"
   ]
  },
  {
   "cell_type": "code",
   "execution_count": 8,
   "metadata": {},
   "outputs": [
    {
     "data": {
      "text/plain": [
       "(array([   744,    745,   4049, ..., 490962, 490963, 490964]),)"
      ]
     },
     "execution_count": 8,
     "metadata": {},
     "output_type": "execute_result"
    }
   ],
   "source": [
    "## check in which location data is abnormal\n",
    "\n",
    "np.where(df_data[\"label\"] == \"abnormal\")"
   ]
  },
  {
   "cell_type": "code",
   "execution_count": 9,
   "metadata": {},
   "outputs": [
    {
     "name": "stdout",
     "output_type": "stream",
     "text": [
      "740      normal\n",
      "741      normal\n",
      "742      normal\n",
      "743      normal\n",
      "744    abnormal\n",
      "745    abnormal\n",
      "746      normal\n",
      "747      normal\n",
      "748      normal\n",
      "749      normal\n",
      "Name: label, dtype: object\n",
      "740             normal.\n",
      "741             normal.\n",
      "742             normal.\n",
      "743             normal.\n",
      "744    buffer_overflow.\n",
      "745    buffer_overflow.\n",
      "746             normal.\n",
      "747             normal.\n",
      "748             normal.\n",
      "749             normal.\n",
      "Name: labels, dtype: object\n"
     ]
    }
   ],
   "source": [
    "### looks like working\n",
    "\n",
    "print(df_data.iloc[740:750, -1])\n",
    "print(df_labels.iloc[740:750, -1])\n"
   ]
  },
  {
   "cell_type": "code",
   "execution_count": 10,
   "metadata": {},
   "outputs": [],
   "source": [
    "### for each object columnin data\n",
    "\n",
    "cols_toOneHot = df_data.select_dtypes(include='object').columns.tolist()\n",
    "\n",
    "cols_all = df_data.columns.tolist()\n",
    "cols_toNormalize = list(set(cols_all) - set(cols_toOneHot))"
   ]
  },
  {
   "cell_type": "code",
   "execution_count": 11,
   "metadata": {},
   "outputs": [
    {
     "name": "stdout",
     "output_type": "stream",
     "text": [
      "columns to normalize:\n",
      "['wrong_fragment', 'same_srv_rate', 'dst_host_srv_diff_host_rate', 'dst_host_diff_srv_rate', 'root_shell', 'srv_count', 'dst_host_rerror_rate', 'duration', 'is_host_login', 'num_compromised', 'num_access_files', 'dst_host_count', 'dst_bytes', 'dst_host_srv_rerror_rate', 'diff_srv_rate', 'num_root', 'srv_diff_host_rate', 'su_attempted', 'count', 'dst_host_srv_count', 'num_file_creations', 'dst_host_serror_rate', 'is_guest_login', 'num_shells', 'urgent', 'dst_host_same_srv_rate', 'srv_rerror_rate', 'dst_host_srv_serror_rate', 'dst_host_same_src_port_rate', 'rerror_rate', 'serror_rate', 'land', 'srv_serror_rate', 'logged_in', 'src_bytes', 'num_failed_logins', 'hot', 'num_outbound_cmds']\n",
      "\n",
      "columns to one-hot:\n",
      "['protocol_type', 'service', 'flag', 'label']\n",
      "\n"
     ]
    }
   ],
   "source": [
    "print(\"columns to normalize:\\n%s\\n\" % cols_toNormalize)\n",
    "print(\"columns to one-hot:\\n%s\\n\" % cols_toOneHot)"
   ]
  },
  {
   "cell_type": "code",
   "execution_count": 12,
   "metadata": {},
   "outputs": [
    {
     "data": {
      "text/plain": [
       "38"
      ]
     },
     "execution_count": 12,
     "metadata": {},
     "output_type": "execute_result"
    }
   ],
   "source": [
    "len(cols_toNormalize)"
   ]
  },
  {
   "cell_type": "markdown",
   "metadata": {},
   "source": [
    "### Dataset preprocessing in numerical columns"
   ]
  },
  {
   "cell_type": "code",
   "execution_count": 13,
   "metadata": {},
   "outputs": [],
   "source": [
    "def checkStats(df_data):\n",
    "    i=0\n",
    "    for col in df_data.columns.tolist():\n",
    "        if col in cols_toOneHot:    ### skip if column is not numerical  ### TODO: check column type??\n",
    "            i += 1\n",
    "            continue\n",
    "\n",
    "        min_ = df_data[col].values.min()\n",
    "        max_ = df_data[col].values.max()\n",
    "        std_ = df_data[col].values.std()\n",
    "\n",
    "        print(\"column:%d min:%f max:%f std:%f\" % (i, min_, max_, std_))\n",
    "        i += 1"
   ]
  },
  {
   "cell_type": "code",
   "execution_count": 14,
   "metadata": {},
   "outputs": [
    {
     "name": "stdout",
     "output_type": "stream",
     "text": [
      "column:0 min:0.000000 max:58329.000000 std:707.745756\n",
      "column:4 min:0.000000 max:693375640.000000 std:988217.100872\n",
      "column:5 min:0.000000 max:5155468.000000 std:33039.967812\n",
      "column:6 min:0.000000 max:1.000000 std:0.006673\n",
      "column:7 min:0.000000 max:3.000000 std:0.134805\n",
      "column:8 min:0.000000 max:3.000000 std:0.005510\n",
      "column:9 min:0.000000 max:30.000000 std:0.782102\n",
      "column:10 min:0.000000 max:5.000000 std:0.015520\n",
      "column:11 min:0.000000 max:1.000000 std:0.355344\n",
      "column:12 min:0.000000 max:884.000000 std:1.798324\n",
      "column:13 min:0.000000 max:1.000000 std:0.010551\n",
      "column:14 min:0.000000 max:2.000000 std:0.007793\n",
      "column:15 min:0.000000 max:993.000000 std:2.012716\n",
      "column:16 min:0.000000 max:28.000000 std:0.096416\n",
      "column:17 min:0.000000 max:2.000000 std:0.011020\n",
      "column:18 min:0.000000 max:8.000000 std:0.036482\n",
      "column:19 min:0.000000 max:0.000000 std:0.000000\n",
      "column:20 min:0.000000 max:0.000000 std:0.000000\n",
      "column:21 min:0.000000 max:1.000000 std:0.037211\n",
      "column:22 min:0.000000 max:511.000000 std:213.147196\n",
      "column:23 min:0.000000 max:511.000000 std:246.322568\n",
      "column:24 min:0.000000 max:1.000000 std:0.380717\n",
      "column:25 min:0.000000 max:1.000000 std:0.381016\n",
      "column:26 min:0.000000 max:1.000000 std:0.231623\n",
      "column:27 min:0.000000 max:1.000000 std:0.232147\n",
      "column:28 min:0.000000 max:1.000000 std:0.388189\n",
      "column:29 min:0.000000 max:1.000000 std:0.082205\n",
      "column:30 min:0.000000 max:1.000000 std:0.142397\n",
      "column:31 min:0.000000 max:255.000000 std:64.745315\n",
      "column:32 min:0.000000 max:255.000000 std:106.040330\n",
      "column:33 min:0.000000 max:1.000000 std:0.410781\n",
      "column:34 min:0.000000 max:1.000000 std:0.109259\n",
      "column:35 min:0.000000 max:1.000000 std:0.481309\n",
      "column:36 min:0.000000 max:1.000000 std:0.042133\n",
      "column:37 min:0.000000 max:1.000000 std:0.380593\n",
      "column:38 min:0.000000 max:1.000000 std:0.380919\n",
      "column:39 min:0.000000 max:1.000000 std:0.230589\n",
      "column:40 min:0.000000 max:1.000000 std:0.230140\n"
     ]
    }
   ],
   "source": [
    "## before normalization\n",
    "\n",
    "checkStats(df_data)"
   ]
  },
  {
   "cell_type": "code",
   "execution_count": 15,
   "metadata": {},
   "outputs": [],
   "source": [
    "### normalization\n",
    "\n",
    "for col in cols_toNormalize:\n",
    "    mean = df_data[col].mean()\n",
    "    std = df_data[col].std()\n",
    "    \n",
    "    if mean == 0 or std == 0:     ### columns 'num_outbound_cmds', 'is_host_login' has zero mean and std dev!!!\n",
    "        continue\n",
    "    \n",
    "    df_data[col] = (df_data[col] - mean) / std"
   ]
  },
  {
   "cell_type": "code",
   "execution_count": 16,
   "metadata": {},
   "outputs": [
    {
     "name": "stdout",
     "output_type": "stream",
     "text": [
      "column:0 min:-0.067792 max:82.347314 std:0.999999\n",
      "column:4 min:-0.003062 max:701.639257 std:0.999999\n",
      "column:5 min:-0.026287 max:156.010874 std:0.999999\n",
      "column:6 min:-0.006673 max:149.848105 std:0.999999\n",
      "column:7 min:-0.047720 max:22.206606 std:0.999999\n",
      "column:8 min:-0.002571 max:544.436553 std:0.999999\n",
      "column:9 min:-0.044136 max:38.314004 std:0.999999\n",
      "column:10 min:-0.009782 max:322.163534 std:0.999999\n",
      "column:11 min:-0.417191 max:2.396977 std:0.999999\n",
      "column:12 min:-0.005679 max:491.562521 std:0.999999\n",
      "column:13 min:-0.010552 max:94.769097 std:0.999999\n",
      "column:14 min:-0.004676 max:256.648346 std:0.999999\n",
      "column:15 min:-0.005640 max:493.356987 std:0.999999\n",
      "column:16 min:-0.011232 max:290.397364 std:0.999999\n",
      "column:17 min:-0.009919 max:181.478116 std:0.999999\n",
      "column:18 min:-0.027632 max:219.260455 std:0.999999\n",
      "column:19 min:0.000000 max:0.000000 std:0.000000\n",
      "column:20 min:0.000000 max:0.000000 std:0.000000\n",
      "column:21 min:-0.037263 max:26.836488 std:0.999999\n",
      "column:22 min:-1.558948 max:0.838454 std:0.999999\n",
      "column:23 min:-1.189117 max:0.885397 std:0.999999\n",
      "column:24 min:-0.464089 max:2.162534 std:0.999999\n",
      "column:25 min:-0.463520 max:2.161038 std:0.999999\n",
      "column:26 min:-0.247960 max:4.069391 std:0.999999\n",
      "column:27 min:-0.248631 max:4.058985 std:0.999999\n",
      "column:28 min:-2.039075 max:0.536987 std:0.999999\n",
      "column:29 min:-0.255243 max:11.909394 std:0.999999\n",
      "column:30 min:-0.203633 max:6.818964 std:0.999999\n",
      "column:31 min:-3.590538 max:0.347966 std:0.999999\n",
      "column:32 min:-1.779186 max:0.625557 std:0.999999\n",
      "column:33 min:-1.834992 max:0.599396 std:0.999999\n",
      "column:34 min:-0.282866 max:8.869688 std:0.999999\n",
      "column:35 min:-1.250620 max:0.827047 std:0.999999\n",
      "column:36 min:-0.158629 max:23.575807 std:0.999999\n",
      "column:37 min:-0.464417 max:2.163061 std:0.999999\n",
      "column:38 min:-0.463202 max:2.162025 std:0.999999\n",
      "column:39 min:-0.252039 max:4.084672 std:0.999999\n",
      "column:40 min:-0.249464 max:4.095711 std:0.999999\n"
     ]
    }
   ],
   "source": [
    "checkStats(df_data)"
   ]
  },
  {
   "cell_type": "markdown",
   "metadata": {},
   "source": [
    "### One hot encoding of required columns"
   ]
  },
  {
   "cell_type": "code",
   "execution_count": 17,
   "metadata": {},
   "outputs": [],
   "source": [
    "### obtain one hot encoding\n",
    "\n",
    "df_data = pd.get_dummies(df_data, columns=cols_toOneHot)"
   ]
  },
  {
   "cell_type": "markdown",
   "metadata": {},
   "source": [
    "- Check the resulting dataset"
   ]
  },
  {
   "cell_type": "code",
   "execution_count": 18,
   "metadata": {},
   "outputs": [
    {
     "data": {
      "text/html": [
       "<div>\n",
       "<style scoped>\n",
       "    .dataframe tbody tr th:only-of-type {\n",
       "        vertical-align: middle;\n",
       "    }\n",
       "\n",
       "    .dataframe tbody tr th {\n",
       "        vertical-align: top;\n",
       "    }\n",
       "\n",
       "    .dataframe thead th {\n",
       "        text-align: right;\n",
       "    }\n",
       "</style>\n",
       "<table border=\"1\" class=\"dataframe\">\n",
       "  <thead>\n",
       "    <tr style=\"text-align: right;\">\n",
       "      <th></th>\n",
       "      <th>duration</th>\n",
       "      <th>src_bytes</th>\n",
       "      <th>dst_bytes</th>\n",
       "      <th>land</th>\n",
       "      <th>wrong_fragment</th>\n",
       "      <th>urgent</th>\n",
       "      <th>hot</th>\n",
       "      <th>num_failed_logins</th>\n",
       "      <th>logged_in</th>\n",
       "      <th>num_compromised</th>\n",
       "      <th>...</th>\n",
       "      <th>flag_RSTOS0</th>\n",
       "      <th>flag_RSTR</th>\n",
       "      <th>flag_S0</th>\n",
       "      <th>flag_S1</th>\n",
       "      <th>flag_S2</th>\n",
       "      <th>flag_S3</th>\n",
       "      <th>flag_SF</th>\n",
       "      <th>flag_SH</th>\n",
       "      <th>label_abnormal</th>\n",
       "      <th>label_normal</th>\n",
       "    </tr>\n",
       "  </thead>\n",
       "  <tbody>\n",
       "    <tr>\n",
       "      <th>0</th>\n",
       "      <td>-0.067792</td>\n",
       "      <td>-0.002879</td>\n",
       "      <td>0.138664</td>\n",
       "      <td>-0.006673</td>\n",
       "      <td>-0.04772</td>\n",
       "      <td>-0.002571</td>\n",
       "      <td>-0.044136</td>\n",
       "      <td>-0.009782</td>\n",
       "      <td>2.396977</td>\n",
       "      <td>-0.005679</td>\n",
       "      <td>...</td>\n",
       "      <td>0</td>\n",
       "      <td>0</td>\n",
       "      <td>0</td>\n",
       "      <td>0</td>\n",
       "      <td>0</td>\n",
       "      <td>0</td>\n",
       "      <td>1</td>\n",
       "      <td>0</td>\n",
       "      <td>0</td>\n",
       "      <td>1</td>\n",
       "    </tr>\n",
       "    <tr>\n",
       "      <th>1</th>\n",
       "      <td>-0.067792</td>\n",
       "      <td>-0.002820</td>\n",
       "      <td>-0.011578</td>\n",
       "      <td>-0.006673</td>\n",
       "      <td>-0.04772</td>\n",
       "      <td>-0.002571</td>\n",
       "      <td>-0.044136</td>\n",
       "      <td>-0.009782</td>\n",
       "      <td>2.396977</td>\n",
       "      <td>-0.005679</td>\n",
       "      <td>...</td>\n",
       "      <td>0</td>\n",
       "      <td>0</td>\n",
       "      <td>0</td>\n",
       "      <td>0</td>\n",
       "      <td>0</td>\n",
       "      <td>0</td>\n",
       "      <td>1</td>\n",
       "      <td>0</td>\n",
       "      <td>0</td>\n",
       "      <td>1</td>\n",
       "    </tr>\n",
       "    <tr>\n",
       "      <th>2</th>\n",
       "      <td>-0.067792</td>\n",
       "      <td>-0.002824</td>\n",
       "      <td>0.014179</td>\n",
       "      <td>-0.006673</td>\n",
       "      <td>-0.04772</td>\n",
       "      <td>-0.002571</td>\n",
       "      <td>-0.044136</td>\n",
       "      <td>-0.009782</td>\n",
       "      <td>2.396977</td>\n",
       "      <td>-0.005679</td>\n",
       "      <td>...</td>\n",
       "      <td>0</td>\n",
       "      <td>0</td>\n",
       "      <td>0</td>\n",
       "      <td>0</td>\n",
       "      <td>0</td>\n",
       "      <td>0</td>\n",
       "      <td>1</td>\n",
       "      <td>0</td>\n",
       "      <td>0</td>\n",
       "      <td>1</td>\n",
       "    </tr>\n",
       "    <tr>\n",
       "      <th>3</th>\n",
       "      <td>-0.067792</td>\n",
       "      <td>-0.002840</td>\n",
       "      <td>0.014179</td>\n",
       "      <td>-0.006673</td>\n",
       "      <td>-0.04772</td>\n",
       "      <td>-0.002571</td>\n",
       "      <td>-0.044136</td>\n",
       "      <td>-0.009782</td>\n",
       "      <td>2.396977</td>\n",
       "      <td>-0.005679</td>\n",
       "      <td>...</td>\n",
       "      <td>0</td>\n",
       "      <td>0</td>\n",
       "      <td>0</td>\n",
       "      <td>0</td>\n",
       "      <td>0</td>\n",
       "      <td>0</td>\n",
       "      <td>1</td>\n",
       "      <td>0</td>\n",
       "      <td>0</td>\n",
       "      <td>1</td>\n",
       "    </tr>\n",
       "    <tr>\n",
       "      <th>4</th>\n",
       "      <td>-0.067792</td>\n",
       "      <td>-0.002842</td>\n",
       "      <td>0.035214</td>\n",
       "      <td>-0.006673</td>\n",
       "      <td>-0.04772</td>\n",
       "      <td>-0.002571</td>\n",
       "      <td>-0.044136</td>\n",
       "      <td>-0.009782</td>\n",
       "      <td>2.396977</td>\n",
       "      <td>-0.005679</td>\n",
       "      <td>...</td>\n",
       "      <td>0</td>\n",
       "      <td>0</td>\n",
       "      <td>0</td>\n",
       "      <td>0</td>\n",
       "      <td>0</td>\n",
       "      <td>0</td>\n",
       "      <td>1</td>\n",
       "      <td>0</td>\n",
       "      <td>0</td>\n",
       "      <td>1</td>\n",
       "    </tr>\n",
       "  </tbody>\n",
       "</table>\n",
       "<p>5 rows × 120 columns</p>\n",
       "</div>"
      ],
      "text/plain": [
       "   duration  src_bytes  dst_bytes      land  wrong_fragment    urgent  \\\n",
       "0 -0.067792  -0.002879   0.138664 -0.006673        -0.04772 -0.002571   \n",
       "1 -0.067792  -0.002820  -0.011578 -0.006673        -0.04772 -0.002571   \n",
       "2 -0.067792  -0.002824   0.014179 -0.006673        -0.04772 -0.002571   \n",
       "3 -0.067792  -0.002840   0.014179 -0.006673        -0.04772 -0.002571   \n",
       "4 -0.067792  -0.002842   0.035214 -0.006673        -0.04772 -0.002571   \n",
       "\n",
       "        hot  num_failed_logins  logged_in  num_compromised      ...       \\\n",
       "0 -0.044136          -0.009782   2.396977        -0.005679      ...        \n",
       "1 -0.044136          -0.009782   2.396977        -0.005679      ...        \n",
       "2 -0.044136          -0.009782   2.396977        -0.005679      ...        \n",
       "3 -0.044136          -0.009782   2.396977        -0.005679      ...        \n",
       "4 -0.044136          -0.009782   2.396977        -0.005679      ...        \n",
       "\n",
       "   flag_RSTOS0  flag_RSTR  flag_S0  flag_S1  flag_S2  flag_S3  flag_SF  \\\n",
       "0            0          0        0        0        0        0        1   \n",
       "1            0          0        0        0        0        0        1   \n",
       "2            0          0        0        0        0        0        1   \n",
       "3            0          0        0        0        0        0        1   \n",
       "4            0          0        0        0        0        0        1   \n",
       "\n",
       "   flag_SH  label_abnormal  label_normal  \n",
       "0        0               0             1  \n",
       "1        0               0             1  \n",
       "2        0               0             1  \n",
       "3        0               0             1  \n",
       "4        0               0             1  \n",
       "\n",
       "[5 rows x 120 columns]"
      ]
     },
     "execution_count": 18,
     "metadata": {},
     "output_type": "execute_result"
    }
   ],
   "source": [
    "df_data.head()"
   ]
  },
  {
   "cell_type": "code",
   "execution_count": 19,
   "metadata": {},
   "outputs": [
    {
     "data": {
      "text/plain": [
       "(494021, 120)"
      ]
     },
     "execution_count": 19,
     "metadata": {},
     "output_type": "execute_result"
    }
   ],
   "source": [
    "### shape is correct\n",
    "\n",
    "df_data.shape"
   ]
  },
  {
   "cell_type": "code",
   "execution_count": 20,
   "metadata": {
    "scrolled": true
   },
   "outputs": [
    {
     "data": {
      "text/html": [
       "<div>\n",
       "<style scoped>\n",
       "    .dataframe tbody tr th:only-of-type {\n",
       "        vertical-align: middle;\n",
       "    }\n",
       "\n",
       "    .dataframe tbody tr th {\n",
       "        vertical-align: top;\n",
       "    }\n",
       "\n",
       "    .dataframe thead th {\n",
       "        text-align: right;\n",
       "    }\n",
       "</style>\n",
       "<table border=\"1\" class=\"dataframe\">\n",
       "  <thead>\n",
       "    <tr style=\"text-align: right;\">\n",
       "      <th></th>\n",
       "      <th>duration</th>\n",
       "      <th>src_bytes</th>\n",
       "      <th>dst_bytes</th>\n",
       "      <th>land</th>\n",
       "      <th>wrong_fragment</th>\n",
       "      <th>urgent</th>\n",
       "      <th>hot</th>\n",
       "      <th>num_failed_logins</th>\n",
       "      <th>logged_in</th>\n",
       "      <th>num_compromised</th>\n",
       "      <th>...</th>\n",
       "      <th>flag_RSTOS0</th>\n",
       "      <th>flag_RSTR</th>\n",
       "      <th>flag_S0</th>\n",
       "      <th>flag_S1</th>\n",
       "      <th>flag_S2</th>\n",
       "      <th>flag_S3</th>\n",
       "      <th>flag_SF</th>\n",
       "      <th>flag_SH</th>\n",
       "      <th>label_abnormal</th>\n",
       "      <th>label_normal</th>\n",
       "    </tr>\n",
       "  </thead>\n",
       "  <tbody>\n",
       "    <tr>\n",
       "      <th>count</th>\n",
       "      <td>4.940210e+05</td>\n",
       "      <td>4.940210e+05</td>\n",
       "      <td>494021.000000</td>\n",
       "      <td>4.940210e+05</td>\n",
       "      <td>4.940210e+05</td>\n",
       "      <td>4.940210e+05</td>\n",
       "      <td>4.940210e+05</td>\n",
       "      <td>4.940210e+05</td>\n",
       "      <td>4.940210e+05</td>\n",
       "      <td>4.940210e+05</td>\n",
       "      <td>...</td>\n",
       "      <td>494021.000000</td>\n",
       "      <td>494021.000000</td>\n",
       "      <td>494021.000000</td>\n",
       "      <td>494021.000000</td>\n",
       "      <td>494021.000000</td>\n",
       "      <td>494021.000000</td>\n",
       "      <td>494021.000000</td>\n",
       "      <td>494021.000000</td>\n",
       "      <td>494021.000000</td>\n",
       "      <td>494021.000000</td>\n",
       "    </tr>\n",
       "    <tr>\n",
       "      <th>mean</th>\n",
       "      <td>-1.899974e-17</td>\n",
       "      <td>7.083551e-19</td>\n",
       "      <td>0.000000</td>\n",
       "      <td>2.301255e-19</td>\n",
       "      <td>-3.518044e-17</td>\n",
       "      <td>2.098097e-18</td>\n",
       "      <td>-1.251307e-17</td>\n",
       "      <td>-7.924947e-18</td>\n",
       "      <td>-9.205021e-18</td>\n",
       "      <td>1.344796e-18</td>\n",
       "      <td>...</td>\n",
       "      <td>0.000022</td>\n",
       "      <td>0.001828</td>\n",
       "      <td>0.176120</td>\n",
       "      <td>0.000115</td>\n",
       "      <td>0.000049</td>\n",
       "      <td>0.000020</td>\n",
       "      <td>0.766040</td>\n",
       "      <td>0.000217</td>\n",
       "      <td>0.803089</td>\n",
       "      <td>0.196911</td>\n",
       "    </tr>\n",
       "    <tr>\n",
       "      <th>std</th>\n",
       "      <td>1.000000e+00</td>\n",
       "      <td>1.000000e+00</td>\n",
       "      <td>1.000000</td>\n",
       "      <td>1.000000e+00</td>\n",
       "      <td>1.000000e+00</td>\n",
       "      <td>1.000000e+00</td>\n",
       "      <td>1.000000e+00</td>\n",
       "      <td>1.000000e+00</td>\n",
       "      <td>1.000000e+00</td>\n",
       "      <td>1.000000e+00</td>\n",
       "      <td>...</td>\n",
       "      <td>0.004719</td>\n",
       "      <td>0.042714</td>\n",
       "      <td>0.380923</td>\n",
       "      <td>0.010741</td>\n",
       "      <td>0.006970</td>\n",
       "      <td>0.004499</td>\n",
       "      <td>0.423347</td>\n",
       "      <td>0.014715</td>\n",
       "      <td>0.397665</td>\n",
       "      <td>0.397665</td>\n",
       "    </tr>\n",
       "    <tr>\n",
       "      <th>min</th>\n",
       "      <td>-6.779165e-02</td>\n",
       "      <td>-3.061683e-03</td>\n",
       "      <td>-0.026287</td>\n",
       "      <td>-6.673411e-03</td>\n",
       "      <td>-4.772014e-02</td>\n",
       "      <td>-2.571465e-03</td>\n",
       "      <td>-4.413587e-02</td>\n",
       "      <td>-9.782175e-03</td>\n",
       "      <td>-4.171913e-01</td>\n",
       "      <td>-5.678678e-03</td>\n",
       "      <td>...</td>\n",
       "      <td>0.000000</td>\n",
       "      <td>0.000000</td>\n",
       "      <td>0.000000</td>\n",
       "      <td>0.000000</td>\n",
       "      <td>0.000000</td>\n",
       "      <td>0.000000</td>\n",
       "      <td>0.000000</td>\n",
       "      <td>0.000000</td>\n",
       "      <td>0.000000</td>\n",
       "      <td>0.000000</td>\n",
       "    </tr>\n",
       "    <tr>\n",
       "      <th>25%</th>\n",
       "      <td>-6.779165e-02</td>\n",
       "      <td>-3.016146e-03</td>\n",
       "      <td>-0.026287</td>\n",
       "      <td>-6.673411e-03</td>\n",
       "      <td>-4.772014e-02</td>\n",
       "      <td>-2.571465e-03</td>\n",
       "      <td>-4.413587e-02</td>\n",
       "      <td>-9.782175e-03</td>\n",
       "      <td>-4.171913e-01</td>\n",
       "      <td>-5.678678e-03</td>\n",
       "      <td>...</td>\n",
       "      <td>0.000000</td>\n",
       "      <td>0.000000</td>\n",
       "      <td>0.000000</td>\n",
       "      <td>0.000000</td>\n",
       "      <td>0.000000</td>\n",
       "      <td>0.000000</td>\n",
       "      <td>1.000000</td>\n",
       "      <td>0.000000</td>\n",
       "      <td>1.000000</td>\n",
       "      <td>0.000000</td>\n",
       "    </tr>\n",
       "    <tr>\n",
       "      <th>50%</th>\n",
       "      <td>-6.779165e-02</td>\n",
       "      <td>-2.535483e-03</td>\n",
       "      <td>-0.026287</td>\n",
       "      <td>-6.673411e-03</td>\n",
       "      <td>-4.772014e-02</td>\n",
       "      <td>-2.571465e-03</td>\n",
       "      <td>-4.413587e-02</td>\n",
       "      <td>-9.782175e-03</td>\n",
       "      <td>-4.171913e-01</td>\n",
       "      <td>-5.678678e-03</td>\n",
       "      <td>...</td>\n",
       "      <td>0.000000</td>\n",
       "      <td>0.000000</td>\n",
       "      <td>0.000000</td>\n",
       "      <td>0.000000</td>\n",
       "      <td>0.000000</td>\n",
       "      <td>0.000000</td>\n",
       "      <td>1.000000</td>\n",
       "      <td>0.000000</td>\n",
       "      <td>1.000000</td>\n",
       "      <td>0.000000</td>\n",
       "    </tr>\n",
       "    <tr>\n",
       "      <th>75%</th>\n",
       "      <td>-6.779165e-02</td>\n",
       "      <td>-2.017379e-03</td>\n",
       "      <td>-0.026287</td>\n",
       "      <td>-6.673411e-03</td>\n",
       "      <td>-4.772014e-02</td>\n",
       "      <td>-2.571465e-03</td>\n",
       "      <td>-4.413587e-02</td>\n",
       "      <td>-9.782175e-03</td>\n",
       "      <td>-4.171913e-01</td>\n",
       "      <td>-5.678678e-03</td>\n",
       "      <td>...</td>\n",
       "      <td>0.000000</td>\n",
       "      <td>0.000000</td>\n",
       "      <td>0.000000</td>\n",
       "      <td>0.000000</td>\n",
       "      <td>0.000000</td>\n",
       "      <td>0.000000</td>\n",
       "      <td>1.000000</td>\n",
       "      <td>0.000000</td>\n",
       "      <td>1.000000</td>\n",
       "      <td>0.000000</td>\n",
       "    </tr>\n",
       "    <tr>\n",
       "      <th>max</th>\n",
       "      <td>8.234731e+01</td>\n",
       "      <td>7.016393e+02</td>\n",
       "      <td>156.010874</td>\n",
       "      <td>1.498481e+02</td>\n",
       "      <td>2.220661e+01</td>\n",
       "      <td>5.444366e+02</td>\n",
       "      <td>3.831400e+01</td>\n",
       "      <td>3.221635e+02</td>\n",
       "      <td>2.396977e+00</td>\n",
       "      <td>4.915625e+02</td>\n",
       "      <td>...</td>\n",
       "      <td>1.000000</td>\n",
       "      <td>1.000000</td>\n",
       "      <td>1.000000</td>\n",
       "      <td>1.000000</td>\n",
       "      <td>1.000000</td>\n",
       "      <td>1.000000</td>\n",
       "      <td>1.000000</td>\n",
       "      <td>1.000000</td>\n",
       "      <td>1.000000</td>\n",
       "      <td>1.000000</td>\n",
       "    </tr>\n",
       "  </tbody>\n",
       "</table>\n",
       "<p>8 rows × 120 columns</p>\n",
       "</div>"
      ],
      "text/plain": [
       "           duration     src_bytes      dst_bytes          land  \\\n",
       "count  4.940210e+05  4.940210e+05  494021.000000  4.940210e+05   \n",
       "mean  -1.899974e-17  7.083551e-19       0.000000  2.301255e-19   \n",
       "std    1.000000e+00  1.000000e+00       1.000000  1.000000e+00   \n",
       "min   -6.779165e-02 -3.061683e-03      -0.026287 -6.673411e-03   \n",
       "25%   -6.779165e-02 -3.016146e-03      -0.026287 -6.673411e-03   \n",
       "50%   -6.779165e-02 -2.535483e-03      -0.026287 -6.673411e-03   \n",
       "75%   -6.779165e-02 -2.017379e-03      -0.026287 -6.673411e-03   \n",
       "max    8.234731e+01  7.016393e+02     156.010874  1.498481e+02   \n",
       "\n",
       "       wrong_fragment        urgent           hot  num_failed_logins  \\\n",
       "count    4.940210e+05  4.940210e+05  4.940210e+05       4.940210e+05   \n",
       "mean    -3.518044e-17  2.098097e-18 -1.251307e-17      -7.924947e-18   \n",
       "std      1.000000e+00  1.000000e+00  1.000000e+00       1.000000e+00   \n",
       "min     -4.772014e-02 -2.571465e-03 -4.413587e-02      -9.782175e-03   \n",
       "25%     -4.772014e-02 -2.571465e-03 -4.413587e-02      -9.782175e-03   \n",
       "50%     -4.772014e-02 -2.571465e-03 -4.413587e-02      -9.782175e-03   \n",
       "75%     -4.772014e-02 -2.571465e-03 -4.413587e-02      -9.782175e-03   \n",
       "max      2.220661e+01  5.444366e+02  3.831400e+01       3.221635e+02   \n",
       "\n",
       "          logged_in  num_compromised      ...          flag_RSTOS0  \\\n",
       "count  4.940210e+05     4.940210e+05      ...        494021.000000   \n",
       "mean  -9.205021e-18     1.344796e-18      ...             0.000022   \n",
       "std    1.000000e+00     1.000000e+00      ...             0.004719   \n",
       "min   -4.171913e-01    -5.678678e-03      ...             0.000000   \n",
       "25%   -4.171913e-01    -5.678678e-03      ...             0.000000   \n",
       "50%   -4.171913e-01    -5.678678e-03      ...             0.000000   \n",
       "75%   -4.171913e-01    -5.678678e-03      ...             0.000000   \n",
       "max    2.396977e+00     4.915625e+02      ...             1.000000   \n",
       "\n",
       "           flag_RSTR        flag_S0        flag_S1        flag_S2  \\\n",
       "count  494021.000000  494021.000000  494021.000000  494021.000000   \n",
       "mean        0.001828       0.176120       0.000115       0.000049   \n",
       "std         0.042714       0.380923       0.010741       0.006970   \n",
       "min         0.000000       0.000000       0.000000       0.000000   \n",
       "25%         0.000000       0.000000       0.000000       0.000000   \n",
       "50%         0.000000       0.000000       0.000000       0.000000   \n",
       "75%         0.000000       0.000000       0.000000       0.000000   \n",
       "max         1.000000       1.000000       1.000000       1.000000   \n",
       "\n",
       "             flag_S3        flag_SF        flag_SH  label_abnormal  \\\n",
       "count  494021.000000  494021.000000  494021.000000   494021.000000   \n",
       "mean        0.000020       0.766040       0.000217        0.803089   \n",
       "std         0.004499       0.423347       0.014715        0.397665   \n",
       "min         0.000000       0.000000       0.000000        0.000000   \n",
       "25%         0.000000       1.000000       0.000000        1.000000   \n",
       "50%         0.000000       1.000000       0.000000        1.000000   \n",
       "75%         0.000000       1.000000       0.000000        1.000000   \n",
       "max         1.000000       1.000000       1.000000        1.000000   \n",
       "\n",
       "        label_normal  \n",
       "count  494021.000000  \n",
       "mean        0.196911  \n",
       "std         0.397665  \n",
       "min         0.000000  \n",
       "25%         0.000000  \n",
       "50%         0.000000  \n",
       "75%         0.000000  \n",
       "max         1.000000  \n",
       "\n",
       "[8 rows x 120 columns]"
      ]
     },
     "execution_count": 20,
     "metadata": {},
     "output_type": "execute_result"
    }
   ],
   "source": [
    "df_data.describe()"
   ]
  },
  {
   "cell_type": "code",
   "execution_count": 21,
   "metadata": {
    "scrolled": true
   },
   "outputs": [
    {
     "name": "stdout",
     "output_type": "stream",
     "text": [
      "column:0 min:-0.067792 max:82.347314 std:0.999999\n",
      "column:1 min:-0.003062 max:701.639257 std:0.999999\n",
      "column:2 min:-0.026287 max:156.010874 std:0.999999\n",
      "column:3 min:-0.006673 max:149.848105 std:0.999999\n",
      "column:4 min:-0.047720 max:22.206606 std:0.999999\n",
      "column:5 min:-0.002571 max:544.436553 std:0.999999\n",
      "column:6 min:-0.044136 max:38.314004 std:0.999999\n",
      "column:7 min:-0.009782 max:322.163534 std:0.999999\n",
      "column:8 min:-0.417191 max:2.396977 std:0.999999\n",
      "column:9 min:-0.005679 max:491.562521 std:0.999999\n",
      "column:10 min:-0.010552 max:94.769097 std:0.999999\n",
      "column:11 min:-0.004676 max:256.648346 std:0.999999\n",
      "column:12 min:-0.005640 max:493.356987 std:0.999999\n",
      "column:13 min:-0.011232 max:290.397364 std:0.999999\n",
      "column:14 min:-0.009919 max:181.478116 std:0.999999\n",
      "column:15 min:-0.027632 max:219.260455 std:0.999999\n",
      "column:16 min:0.000000 max:0.000000 std:0.000000\n",
      "column:17 min:0.000000 max:0.000000 std:0.000000\n",
      "column:18 min:-0.037263 max:26.836488 std:0.999999\n",
      "column:19 min:-1.558948 max:0.838454 std:0.999999\n",
      "column:20 min:-1.189117 max:0.885397 std:0.999999\n",
      "column:21 min:-0.464089 max:2.162534 std:0.999999\n",
      "column:22 min:-0.463520 max:2.161038 std:0.999999\n",
      "column:23 min:-0.247960 max:4.069391 std:0.999999\n",
      "column:24 min:-0.248631 max:4.058985 std:0.999999\n",
      "column:25 min:-2.039075 max:0.536987 std:0.999999\n",
      "column:26 min:-0.255243 max:11.909394 std:0.999999\n",
      "column:27 min:-0.203633 max:6.818964 std:0.999999\n",
      "column:28 min:-3.590538 max:0.347966 std:0.999999\n",
      "column:29 min:-1.779186 max:0.625557 std:0.999999\n",
      "column:30 min:-1.834992 max:0.599396 std:0.999999\n",
      "column:31 min:-0.282866 max:8.869688 std:0.999999\n",
      "column:32 min:-1.250620 max:0.827047 std:0.999999\n",
      "column:33 min:-0.158629 max:23.575807 std:0.999999\n",
      "column:34 min:-0.464417 max:2.163061 std:0.999999\n",
      "column:35 min:-0.463202 max:2.162025 std:0.999999\n",
      "column:36 min:-0.252039 max:4.084672 std:0.999999\n",
      "column:37 min:-0.249464 max:4.095711 std:0.999999\n",
      "column:38 min:0.000000 max:1.000000 std:0.494483\n",
      "column:39 min:0.000000 max:1.000000 std:0.486532\n",
      "column:40 min:0.000000 max:1.000000 std:0.198754\n",
      "column:41 min:0.000000 max:1.000000 std:0.009329\n",
      "column:42 min:0.000000 max:1.000000 std:0.004719\n",
      "column:43 min:0.000000 max:1.000000 std:0.013645\n",
      "column:44 min:0.000000 max:1.000000 std:0.025758\n",
      "column:45 min:0.000000 max:1.000000 std:0.014646\n",
      "column:46 min:0.000000 max:1.000000 std:0.014784\n",
      "column:47 min:0.000000 max:1.000000 std:0.015968\n",
      "column:48 min:0.000000 max:1.000000 std:0.014011\n",
      "column:49 min:0.000000 max:1.000000 std:0.014438\n",
      "column:50 min:0.000000 max:1.000000 std:0.015322\n",
      "column:51 min:0.000000 max:1.000000 std:0.015322\n",
      "column:52 min:0.000000 max:1.000000 std:0.108292\n",
      "column:53 min:0.000000 max:1.000000 std:0.015055\n",
      "column:54 min:0.000000 max:1.000000 std:0.057556\n",
      "column:55 min:0.000000 max:1.000000 std:0.495131\n",
      "column:56 min:0.000000 max:1.000000 std:0.014438\n",
      "column:57 min:0.000000 max:1.000000 std:0.014155\n",
      "column:58 min:0.000000 max:1.000000 std:0.036802\n",
      "column:59 min:0.000000 max:1.000000 std:0.040159\n",
      "column:60 min:0.000000 max:1.000000 std:0.097288\n",
      "column:61 min:0.000000 max:1.000000 std:0.015388\n",
      "column:62 min:0.000000 max:1.000000 std:0.014508\n",
      "column:63 min:0.000000 max:1.000000 std:0.336460\n",
      "column:64 min:0.000000 max:1.000000 std:0.014155\n",
      "column:65 min:0.000000 max:1.000000 std:0.015388\n",
      "column:66 min:0.000000 max:1.000000 std:0.015255\n",
      "column:67 min:0.000000 max:1.000000 std:0.014646\n",
      "column:68 min:0.000000 max:1.000000 std:0.014083\n",
      "column:69 min:0.000000 max:1.000000 std:0.014297\n",
      "column:70 min:0.000000 max:1.000000 std:0.014368\n",
      "column:71 min:0.000000 max:1.000000 std:0.014508\n",
      "column:72 min:0.000000 max:1.000000 std:0.014715\n",
      "column:73 min:0.000000 max:1.000000 std:0.014083\n",
      "column:74 min:0.000000 max:1.000000 std:0.014155\n",
      "column:75 min:0.000000 max:1.000000 std:0.014368\n",
      "column:76 min:0.000000 max:1.000000 std:0.014715\n",
      "column:77 min:0.000000 max:1.000000 std:0.013866\n",
      "column:78 min:0.000000 max:1.000000 std:0.014577\n",
      "column:79 min:0.000000 max:1.000000 std:0.014784\n",
      "column:80 min:0.000000 max:1.000000 std:0.027724\n",
      "column:81 min:0.000000 max:1.000000 std:0.120144\n",
      "column:82 min:0.000000 max:1.000000 std:0.001423\n",
      "column:83 min:0.000000 max:1.000000 std:0.014297\n",
      "column:84 min:0.000000 max:1.000000 std:0.020217\n",
      "column:85 min:0.000000 max:1.000000 std:0.014852\n",
      "column:86 min:0.000000 max:1.000000 std:0.417233\n",
      "column:87 min:0.000000 max:1.000000 std:0.001423\n",
      "column:88 min:0.000000 max:1.000000 std:0.015584\n",
      "column:89 min:0.000000 max:1.000000 std:0.014988\n",
      "column:90 min:0.000000 max:1.000000 std:0.015055\n",
      "column:91 min:0.000000 max:1.000000 std:0.138903\n",
      "column:92 min:0.000000 max:1.000000 std:0.014920\n",
      "column:93 min:0.000000 max:1.000000 std:0.014577\n",
      "column:94 min:0.000000 max:1.000000 std:0.014715\n",
      "column:95 min:0.000000 max:1.000000 std:0.014577\n",
      "column:96 min:0.000000 max:1.000000 std:0.015255\n",
      "column:97 min:0.000000 max:1.000000 std:0.032208\n",
      "column:98 min:0.000000 max:1.000000 std:0.001423\n",
      "column:99 min:0.000000 max:1.000000 std:0.003764\n",
      "column:100 min:0.000000 max:1.000000 std:0.017824\n",
      "column:101 min:0.000000 max:1.000000 std:0.005323\n",
      "column:102 min:0.000000 max:1.000000 std:0.032982\n",
      "column:103 min:0.000000 max:1.000000 std:0.014646\n",
      "column:104 min:0.000000 max:1.000000 std:0.014646\n",
      "column:105 min:0.000000 max:1.000000 std:0.014646\n",
      "column:106 min:0.000000 max:1.000000 std:0.014920\n",
      "column:107 min:0.000000 max:1.000000 std:0.004024\n",
      "column:108 min:0.000000 max:1.000000 std:0.226806\n",
      "column:109 min:0.000000 max:1.000000 std:0.034215\n",
      "column:110 min:0.000000 max:1.000000 std:0.004719\n",
      "column:111 min:0.000000 max:1.000000 std:0.042714\n",
      "column:112 min:0.000000 max:1.000000 std:0.380922\n",
      "column:113 min:0.000000 max:1.000000 std:0.010741\n",
      "column:114 min:0.000000 max:1.000000 std:0.006970\n",
      "column:115 min:0.000000 max:1.000000 std:0.004499\n",
      "column:116 min:0.000000 max:1.000000 std:0.423347\n",
      "column:117 min:0.000000 max:1.000000 std:0.014715\n",
      "column:118 min:0.000000 max:1.000000 std:0.397664\n",
      "column:119 min:0.000000 max:1.000000 std:0.397664\n"
     ]
    }
   ],
   "source": [
    "### check again\n",
    "\n",
    "checkStats(df_data)"
   ]
  },
  {
   "cell_type": "code",
   "execution_count": 22,
   "metadata": {},
   "outputs": [
    {
     "name": "stdout",
     "output_type": "stream",
     "text": [
      "False\n",
      "False\n"
     ]
    }
   ],
   "source": [
    "## check integrity of the data again\n",
    "\n",
    "print(df_data.isnull().values.any())\n",
    "\n",
    "print(df_data.isna().values.any())"
   ]
  },
  {
   "cell_type": "code",
   "execution_count": 23,
   "metadata": {},
   "outputs": [
    {
     "name": "stdout",
     "output_type": "stream",
     "text": [
      "740    1\n",
      "741    1\n",
      "742    1\n",
      "743    1\n",
      "744    0\n",
      "745    0\n",
      "746    1\n",
      "747    1\n",
      "748    1\n",
      "749    1\n",
      "Name: label_normal, dtype: uint8\n",
      "740    0\n",
      "741    0\n",
      "742    0\n",
      "743    0\n",
      "744    1\n",
      "745    1\n",
      "746    0\n",
      "747    0\n",
      "748    0\n",
      "749    0\n",
      "Name: label_abnormal, dtype: uint8\n",
      "740             normal.\n",
      "741             normal.\n",
      "742             normal.\n",
      "743             normal.\n",
      "744    buffer_overflow.\n",
      "745    buffer_overflow.\n",
      "746             normal.\n",
      "747             normal.\n",
      "748             normal.\n",
      "749             normal.\n",
      "Name: labels, dtype: object\n"
     ]
    }
   ],
   "source": [
    "### check again\n",
    "print(df_data.iloc[740:750, -1])\n",
    "\n",
    "print(df_data.iloc[740:750, -2])\n",
    "\n",
    "print(df_labels.iloc[740:750, -1])"
   ]
  },
  {
   "cell_type": "markdown",
   "metadata": {},
   "source": [
    "## Autoencoder test"
   ]
  },
  {
   "cell_type": "code",
   "execution_count": 24,
   "metadata": {},
   "outputs": [
    {
     "name": "stderr",
     "output_type": "stream",
     "text": [
      "/home/cya/anaconda3/envs/tensorflow/lib/python3.6/site-packages/h5py/__init__.py:36: FutureWarning: Conversion of the second argument of issubdtype from `float` to `np.floating` is deprecated. In future, it will be treated as `np.float64 == np.dtype(float).type`.\n",
      "  from ._conv import register_converters as _register_converters\n",
      "Using TensorFlow backend.\n"
     ]
    }
   ],
   "source": [
    "import numpy as np\n",
    "\n",
    "from keras.layers import Input, Dense, Activation\n",
    "from keras.models import Model, Sequential\n",
    "from keras.callbacks import TensorBoard\n",
    "from keras import optimizers\n",
    "from keras import backend as K\n",
    "\n",
    "from datetime import datetime\n",
    "\n",
    "import matplotlib.pyplot as plt"
   ]
  },
  {
   "cell_type": "code",
   "execution_count": 25,
   "metadata": {},
   "outputs": [],
   "source": [
    "x_train = df_data.values"
   ]
  },
  {
   "cell_type": "code",
   "execution_count": 26,
   "metadata": {},
   "outputs": [],
   "source": [
    "from sklearn.model_selection import train_test_split\n",
    "\n",
    "\n",
    "x_train, x_test = train_test_split(x_train, test_size=0.1, random_state=42)"
   ]
  },
  {
   "cell_type": "code",
   "execution_count": 27,
   "metadata": {},
   "outputs": [
    {
     "name": "stdout",
     "output_type": "stream",
     "text": [
      "x_train.shape: (444618, 120)\n",
      "x_test.shape: (49403, 120)\n"
     ]
    }
   ],
   "source": [
    "print(\"x_train.shape:\",x_train.shape)\n",
    "print(\"x_test.shape:\",x_test.shape)"
   ]
  },
  {
   "cell_type": "markdown",
   "metadata": {},
   "source": [
    "### Model definition"
   ]
  },
  {
   "cell_type": "code",
   "execution_count": 28,
   "metadata": {},
   "outputs": [],
   "source": [
    "### \n",
    "\n",
    "from keras.regularizers import l2\n",
    "\n",
    "autoencoder = Sequential()\n",
    "\n",
    "autoencoder.add(Dense(60, input_dim=120, kernel_regularizer=l2(0.00001), bias_regularizer=l2(0.00001)))\n",
    "autoencoder.add(Activation('tanh'))\n",
    "autoencoder.add(Dense(30, kernel_regularizer=l2(0.00001), bias_regularizer=l2(0.00001)))\n",
    "autoencoder.add(Activation('tanh'))\n",
    "autoencoder.add(Dense(10, kernel_regularizer=l2(0.00001), bias_regularizer=l2(0.00001)))\n",
    "autoencoder.add(Activation('tanh'))\n",
    "autoencoder.add(Dense(1, kernel_regularizer=l2(0.00001), bias_regularizer=l2(0.00001)))\n",
    "autoencoder.add(Activation('linear'))   ####\n",
    "autoencoder.add(Dense(10, kernel_regularizer=l2(0.00001), bias_regularizer=l2(0.00001)))\n",
    "autoencoder.add(Activation('tanh'))\n",
    "autoencoder.add(Dense(30, kernel_regularizer=l2(0.00001), bias_regularizer=l2(0.00001)))\n",
    "autoencoder.add(Activation('tanh'))\n",
    "autoencoder.add(Dense(60, kernel_regularizer=l2(0.00001), bias_regularizer=l2(0.00001)))\n",
    "autoencoder.add(Activation('tanh'))\n",
    "autoencoder.add(Dense(120, kernel_regularizer=l2(0.00001), bias_regularizer=l2(0.00001)))\n",
    "autoencoder.add(Activation('linear'))  ####"
   ]
  },
  {
   "cell_type": "code",
   "execution_count": 29,
   "metadata": {},
   "outputs": [],
   "source": [
    "def l2_loss(yTrue, yPred):\n",
    "    ### ypred = T.clip(ypred, 0.0001, 0.99999) ###TODO??\n",
    "    return K.sqrt((yTrue - yPred)**2)"
   ]
  },
  {
   "cell_type": "markdown",
   "metadata": {},
   "source": [
    "### Model compilation"
   ]
  },
  {
   "cell_type": "code",
   "execution_count": 30,
   "metadata": {},
   "outputs": [],
   "source": [
    "adam = optimizers.adam(lr=0.00005, clipnorm=1., clipvalue=0.5)  # (lr=0.0001)\n",
    "\n",
    "sgd = optimizers.sgd(lr=0.0001, clipnorm=1., clipvalue=0.5)\n",
    "\n",
    "rmsprop = optimizers.RMSprop(lr=0.0001, clipnorm=1., clipvalue=0.5)"
   ]
  },
  {
   "cell_type": "code",
   "execution_count": 31,
   "metadata": {},
   "outputs": [],
   "source": [
    "autoencoder.compile(optimizer=adam, loss=l2_loss)"
   ]
  },
  {
   "cell_type": "code",
   "execution_count": 32,
   "metadata": {},
   "outputs": [
    {
     "name": "stdout",
     "output_type": "stream",
     "text": [
      "_________________________________________________________________\n",
      "Layer (type)                 Output Shape              Param #   \n",
      "=================================================================\n",
      "dense_1 (Dense)              (None, 60)                7260      \n",
      "_________________________________________________________________\n",
      "activation_1 (Activation)    (None, 60)                0         \n",
      "_________________________________________________________________\n",
      "dense_2 (Dense)              (None, 30)                1830      \n",
      "_________________________________________________________________\n",
      "activation_2 (Activation)    (None, 30)                0         \n",
      "_________________________________________________________________\n",
      "dense_3 (Dense)              (None, 10)                310       \n",
      "_________________________________________________________________\n",
      "activation_3 (Activation)    (None, 10)                0         \n",
      "_________________________________________________________________\n",
      "dense_4 (Dense)              (None, 1)                 11        \n",
      "_________________________________________________________________\n",
      "activation_4 (Activation)    (None, 1)                 0         \n",
      "_________________________________________________________________\n",
      "dense_5 (Dense)              (None, 10)                20        \n",
      "_________________________________________________________________\n",
      "activation_5 (Activation)    (None, 10)                0         \n",
      "_________________________________________________________________\n",
      "dense_6 (Dense)              (None, 30)                330       \n",
      "_________________________________________________________________\n",
      "activation_6 (Activation)    (None, 30)                0         \n",
      "_________________________________________________________________\n",
      "dense_7 (Dense)              (None, 60)                1860      \n",
      "_________________________________________________________________\n",
      "activation_7 (Activation)    (None, 60)                0         \n",
      "_________________________________________________________________\n",
      "dense_8 (Dense)              (None, 120)               7320      \n",
      "_________________________________________________________________\n",
      "activation_8 (Activation)    (None, 120)               0         \n",
      "=================================================================\n",
      "Total params: 18,941\n",
      "Trainable params: 18,941\n",
      "Non-trainable params: 0\n",
      "_________________________________________________________________\n"
     ]
    }
   ],
   "source": [
    "autoencoder.summary()"
   ]
  },
  {
   "cell_type": "code",
   "execution_count": 33,
   "metadata": {
    "scrolled": true
   },
   "outputs": [
    {
     "name": "stdout",
     "output_type": "stream",
     "text": [
      "2018-05-02_15:36\n",
      "WARNING:tensorflow:From /home/cya/anaconda3/envs/tensorflow/lib/python3.6/site-packages/tensorflow/contrib/learn/python/learn/datasets/base.py:198: retry (from tensorflow.contrib.learn.python.learn.datasets.base) is deprecated and will be removed in a future version.\n",
      "Instructions for updating:\n",
      "Use the retry module or similar alternatives.\n"
     ]
    }
   ],
   "source": [
    "### Tensorboard\n",
    "timestamp = datetime.now().strftime(\"%Y-%m-%d_%H:%M\")\n",
    "print(timestamp)\n",
    "\n",
    "tensorboard = TensorBoard(log_dir='./.logs/kdd99_autoencoder/{}'.format(timestamp), \n",
    "                            histogram_freq=0, \n",
    "                            write_graph=True, \n",
    "                            write_grads=True, \n",
    "                            write_images=True, \n",
    "                            embeddings_freq=0, \n",
    "                            embeddings_layer_names=None, \n",
    "                            embeddings_metadata=None)"
   ]
  },
  {
   "cell_type": "code",
   "execution_count": 34,
   "metadata": {
    "scrolled": true
   },
   "outputs": [
    {
     "name": "stdout",
     "output_type": "stream",
     "text": [
      "Train on 444618 samples, validate on 49403 samples\n",
      "Epoch 1/50\n",
      "444618/444618 [==============================] - 7s 15us/step - loss: 0.1489 - val_loss: 0.1320\n",
      "Epoch 2/50\n",
      "444618/444618 [==============================] - 5s 12us/step - loss: 0.1095 - val_loss: 0.0950\n",
      "Epoch 3/50\n",
      "444618/444618 [==============================] - 5s 12us/step - loss: 0.0901 - val_loss: 0.0856\n",
      "Epoch 4/50\n",
      "444618/444618 [==============================] - 6s 13us/step - loss: 0.0838 - val_loss: 0.0814\n",
      "Epoch 5/50\n",
      "444618/444618 [==============================] - 5s 12us/step - loss: 0.0809 - val_loss: 0.0787\n",
      "Epoch 6/50\n",
      "444618/444618 [==============================] - 5s 12us/step - loss: 0.0779 - val_loss: 0.0758\n",
      "Epoch 7/50\n",
      "444618/444618 [==============================] - 5s 12us/step - loss: 0.0757 - val_loss: 0.0759\n",
      "Epoch 8/50\n",
      "444618/444618 [==============================] - 5s 12us/step - loss: 0.0753 - val_loss: 0.0747\n",
      "Epoch 9/50\n",
      "444618/444618 [==============================] - 5s 12us/step - loss: 0.0753 - val_loss: 0.0755\n",
      "Epoch 10/50\n",
      "444618/444618 [==============================] - 5s 12us/step - loss: 0.0755 - val_loss: 0.0744\n",
      "Epoch 11/50\n",
      "444618/444618 [==============================] - 5s 12us/step - loss: 0.0755 - val_loss: 0.0758\n",
      "Epoch 12/50\n",
      "444618/444618 [==============================] - 6s 13us/step - loss: 0.0773 - val_loss: 0.0787\n",
      "Epoch 13/50\n",
      "444618/444618 [==============================] - 6s 13us/step - loss: 0.0832 - val_loss: 0.0882\n",
      "Epoch 14/50\n",
      "444618/444618 [==============================] - 5s 12us/step - loss: 0.0939 - val_loss: 0.0999\n",
      "Epoch 15/50\n",
      "444618/444618 [==============================] - 6s 13us/step - loss: 0.1042 - val_loss: 0.1056\n",
      "Epoch 16/50\n",
      "444618/444618 [==============================] - 5s 12us/step - loss: 0.1084 - val_loss: 0.1087\n",
      "Epoch 17/50\n",
      "444618/444618 [==============================] - 5s 12us/step - loss: 0.1099 - val_loss: 0.1084\n",
      "Epoch 18/50\n",
      "444618/444618 [==============================] - 5s 12us/step - loss: 0.1098 - val_loss: 0.1091\n",
      "Epoch 19/50\n",
      "444618/444618 [==============================] - 5s 12us/step - loss: 0.1098 - val_loss: 0.1079\n",
      "Epoch 20/50\n",
      "444618/444618 [==============================] - 5s 12us/step - loss: 0.1087 - val_loss: 0.1072\n",
      "Epoch 21/50\n",
      "444618/444618 [==============================] - 5s 12us/step - loss: 0.1084 - val_loss: 0.1072\n",
      "Epoch 22/50\n",
      "444618/444618 [==============================] - 5s 12us/step - loss: 0.1084 - val_loss: 0.1072\n",
      "Epoch 23/50\n",
      "444618/444618 [==============================] - 6s 12us/step - loss: 0.1086 - val_loss: 0.1077\n",
      "Epoch 24/50\n",
      "444618/444618 [==============================] - 6s 13us/step - loss: 0.1088 - val_loss: 0.1076\n",
      "Epoch 25/50\n",
      "444618/444618 [==============================] - 6s 13us/step - loss: 0.1087 - val_loss: 0.1074\n",
      "Epoch 26/50\n",
      "444618/444618 [==============================] - 6s 13us/step - loss: 0.1093 - val_loss: 0.1081\n",
      "Epoch 27/50\n",
      "444618/444618 [==============================] - 5s 12us/step - loss: 0.1094 - val_loss: 0.1081\n",
      "Epoch 28/50\n",
      "444618/444618 [==============================] - 6s 13us/step - loss: 0.1094 - val_loss: 0.1093\n",
      "Epoch 29/50\n",
      "444618/444618 [==============================] - 6s 14us/step - loss: 0.1097 - val_loss: 0.1088\n",
      "Epoch 30/50\n",
      "444618/444618 [==============================] - 5s 12us/step - loss: 0.1099 - val_loss: 0.1091\n",
      "Epoch 31/50\n",
      "444618/444618 [==============================] - 5s 12us/step - loss: 0.1102 - val_loss: 0.1089\n",
      "Epoch 32/50\n",
      "444618/444618 [==============================] - 6s 13us/step - loss: 0.1102 - val_loss: 0.1090\n",
      "Epoch 33/50\n",
      "444618/444618 [==============================] - 6s 13us/step - loss: 0.1106 - val_loss: 0.1095\n",
      "Epoch 34/50\n",
      "444618/444618 [==============================] - 6s 13us/step - loss: 0.1109 - val_loss: 0.1097\n",
      "Epoch 35/50\n",
      "444618/444618 [==============================] - 6s 14us/step - loss: 0.1110 - val_loss: 0.1101\n",
      "Epoch 36/50\n",
      "444618/444618 [==============================] - 6s 13us/step - loss: 0.1113 - val_loss: 0.1102\n",
      "Epoch 37/50\n",
      "444618/444618 [==============================] - 6s 13us/step - loss: 0.1116 - val_loss: 0.1102\n",
      "Epoch 38/50\n",
      "444618/444618 [==============================] - 6s 13us/step - loss: 0.1118 - val_loss: 0.1108\n",
      "Epoch 39/50\n",
      "444618/444618 [==============================] - 6s 13us/step - loss: 0.1122 - val_loss: 0.1107\n",
      "Epoch 40/50\n",
      "444618/444618 [==============================] - 5s 12us/step - loss: 0.1121 - val_loss: 0.1113\n",
      "Epoch 41/50\n",
      "444618/444618 [==============================] - 5s 12us/step - loss: 0.1124 - val_loss: 0.1108\n",
      "Epoch 42/50\n",
      "444618/444618 [==============================] - 5s 12us/step - loss: 0.1128 - val_loss: 0.1115\n",
      "Epoch 43/50\n",
      "444618/444618 [==============================] - 5s 12us/step - loss: 0.1129 - val_loss: 0.1118\n",
      "Epoch 44/50\n",
      "444618/444618 [==============================] - 5s 12us/step - loss: 0.1132 - val_loss: 0.1119\n",
      "Epoch 45/50\n",
      "444618/444618 [==============================] - 5s 12us/step - loss: 0.1135 - val_loss: 0.1121\n",
      "Epoch 46/50\n",
      "444618/444618 [==============================] - 6s 13us/step - loss: 0.1137 - val_loss: 0.1129\n",
      "Epoch 47/50\n",
      "444618/444618 [==============================] - 5s 12us/step - loss: 0.1140 - val_loss: 0.1126\n",
      "Epoch 48/50\n",
      "444618/444618 [==============================] - 5s 12us/step - loss: 0.1140 - val_loss: 0.1128\n",
      "Epoch 49/50\n",
      "444618/444618 [==============================] - 6s 13us/step - loss: 0.1145 - val_loss: 0.1137\n",
      "Epoch 50/50\n",
      "444618/444618 [==============================] - 6s 13us/step - loss: 0.1149 - val_loss: 0.1140\n"
     ]
    }
   ],
   "source": [
    "### inf loss!!! (resolved)\n",
    "###\n",
    "\n",
    "#### https://github.com/keras-team/keras/issues/1244 \n",
    "### combination of linear and tanh might be problem??\n",
    "\n",
    "\"\"\"\n",
    "tried so far:\n",
    "- dataset normalization in numerical columns (mean substraction and std dev division)\n",
    "- defining model with \"sequential\"\n",
    "- different optimizers \n",
    "- different loss (with \"mean_squared_error\" loss becomes nan)\n",
    "- \"relu\" instead of \"linear\"\n",
    "\n",
    "this resolved problem:\n",
    "- to each dense layer:  kernel_regularizer=l2(0.00001), bias_regularizer=l2(0.00001)\n",
    "- adam = optimizers.adam(lr= 0.00001, clipnorm=1., clipvalue=0.5)\n",
    "\n",
    "\"\"\"\n",
    "\n",
    "### lr 0.00001, l2_loss : loss increases after a while\n",
    "### lr 0.001, 'mean_squared_error': \n",
    "\n",
    "history = autoencoder.fit(x_train, x_train,       ### these details from paper??\n",
    "               epochs=50,\n",
    "               batch_size=512,\n",
    "               shuffle=False,     ### already shuffled with train_test_split\n",
    "               validation_data=(x_test,x_test),\n",
    "               callbacks=[tensorboard],\n",
    "               verbose=1)"
   ]
  },
  {
   "cell_type": "code",
   "execution_count": 35,
   "metadata": {},
   "outputs": [],
   "source": [
    "import matplotlib.pyplot as plt\n",
    "%matplotlib inline"
   ]
  },
  {
   "cell_type": "code",
   "execution_count": 38,
   "metadata": {},
   "outputs": [],
   "source": [
    "def plot_historyData(data, xlabel=\"epochs\", ylabel=\"loss\"):\n",
    "    plt.plot(data)\n",
    "    plt.xlabel(xlabel)\n",
    "    plt.ylabel(ylabel)"
   ]
  },
  {
   "cell_type": "code",
   "execution_count": 39,
   "metadata": {},
   "outputs": [
    {
     "data": {
      "image/png": "[encoded data removed]",
      "text/plain": [
       "<Figure size 432x288 with 1 Axes>"
      ]
     },
     "metadata": {},
     "output_type": "display_data"
    }
   ],
   "source": [
    "plot_historyData(history.history[\"loss\"])"
   ]
  },
  {
   "cell_type": "code",
   "execution_count": 40,
   "metadata": {},
   "outputs": [
    {
     "data": {
      "image/png": "[encoded data removed]",
      "text/plain": [
       "<Figure size 432x288 with 1 Axes>"
      ]
     },
     "metadata": {},
     "output_type": "display_data"
    }
   ],
   "source": [
    "plot_historyData(history.history[\"val_loss\"], ylabel=\"val_loss\")"
   ]
  },
  {
   "cell_type": "markdown",
   "metadata": {},
   "source": [
    "### Try reconstructing a normal and abnormal sample"
   ]
  },
  {
   "cell_type": "code",
   "execution_count": 44,
   "metadata": {},
   "outputs": [
    {
     "name": "stdout",
     "output_type": "stream",
     "text": [
      "30763\n",
      "48205\n"
     ]
    }
   ],
   "source": [
    "### get a normal data (last column (label_normal) is one)\n",
    "\n",
    "normal_index = np.random.choice(np.where(x_test[:, -1] == 1)[0])\n",
    "print(normal_index)\n",
    "\n",
    "### take the first abnormal data (last column (label_normal) is zero)\n",
    "\n",
    "abnormal_index = np.random.choice(np.where(x_test[:, -1] == 0)[0])\n",
    "print(abnormal_index)"
   ]
  },
  {
   "cell_type": "code",
   "execution_count": 45,
   "metadata": {},
   "outputs": [
    {
     "data": {
      "text/plain": [
       "19.85232086131181"
      ]
     },
     "execution_count": 45,
     "metadata": {},
     "output_type": "execute_result"
    }
   ],
   "source": [
    "## normal\n",
    "\n",
    "normal_data = x_test[normal_index].reshape(1, -1)\n",
    "\n",
    "normal_pred = autoencoder.predict(normal_data)\n",
    "\n",
    "### l2 distance between input and reconstruction\n",
    "\n",
    "np.sum(np.sqrt((normal_data - normal_pred)**2))"
   ]
  },
  {
   "cell_type": "code",
   "execution_count": 46,
   "metadata": {},
   "outputs": [
    {
     "data": {
      "text/plain": [
       "0.22225562592926568"
      ]
     },
     "execution_count": 46,
     "metadata": {},
     "output_type": "execute_result"
    }
   ],
   "source": [
    "## abnormal\n",
    "\n",
    "abnormal_data = x_test[abnormal_index].reshape(1, -1)\n",
    "\n",
    "abnormal_pred = autoencoder.predict(abnormal_data)\n",
    "\n",
    "### l2 distance between input and reconstruction\n",
    "\n",
    "np.sum(np.sqrt((abnormal_data - abnormal_pred)**2))"
   ]
  },
  {
   "cell_type": "code",
   "execution_count": null,
   "metadata": {},
   "outputs": [],
   "source": []
  },
  {
   "cell_type": "code",
   "execution_count": null,
   "metadata": {},
   "outputs": [],
   "source": [
    "### TODO: model save"
   ]
  },
  {
   "cell_type": "code",
   "execution_count": null,
   "metadata": {},
   "outputs": [],
   "source": []
  }
 ],
 "metadata": {
  "kernelspec": {
   "display_name": "Python 3",
   "language": "python",
   "name": "python3"
  },
  "language_info": {
   "codemirror_mode": {
    "name": "ipython",
    "version": 3
   },
   "file_extension": ".py",
   "mimetype": "text/x-python",
   "name": "python",
   "nbconvert_exporter": "python",
   "pygments_lexer": "ipython3",
   "version": "3.6.5"
  }
 },
 "nbformat": 4,
 "nbformat_minor": 2
}
