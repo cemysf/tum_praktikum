{
 "cells": [
  {
   "cell_type": "markdown",
   "metadata": {},
   "source": [
    "### Test the trained network"
   ]
  },
  {
   "cell_type": "code",
   "execution_count": 1,
   "metadata": {},
   "outputs": [
    {
     "name": "stderr",
     "output_type": "stream",
     "text": [
      "/home/cya/anaconda3/envs/tensorflow/lib/python3.6/site-packages/h5py/__init__.py:36: FutureWarning: Conversion of the second argument of issubdtype from `float` to `np.floating` is deprecated. In future, it will be treated as `np.float64 == np.dtype(float).type`.\n",
      "  from ._conv import register_converters as _register_converters\n",
      "Using TensorFlow backend.\n"
     ]
    }
   ],
   "source": [
    "from keras.layers import Input, Dense, Activation, Lambda, Dropout, Concatenate, Reshape\n",
    "from keras.models import Model, Sequential\n",
    "from keras.callbacks import TensorBoard, Callback\n",
    "from keras import optimizers\n",
    "from keras import backend as K\n",
    "\n",
    "import tensorflow as tf\n",
    "\n",
    "from keras.regularizers import l2\n",
    "\n",
    "\n",
    "### Hyperparameters\n",
    "batch_size = 1 \n",
    "k = 4\n",
    "d = 3\n"
   ]
  },
  {
   "cell_type": "markdown",
   "metadata": {},
   "source": [
    "- Network to load"
   ]
  },
  {
   "cell_type": "code",
   "execution_count": 2,
   "metadata": {},
   "outputs": [],
   "source": [
    "timestamp = \"2018-05-28_23:22\"\n",
    "\n",
    "epoch = 50"
   ]
  },
  {
   "cell_type": "markdown",
   "metadata": {},
   "source": [
    "- Load gmm params"
   ]
  },
  {
   "cell_type": "code",
   "execution_count": 3,
   "metadata": {},
   "outputs": [],
   "source": [
    "import numpy as np"
   ]
  },
  {
   "cell_type": "code",
   "execution_count": 4,
   "metadata": {},
   "outputs": [],
   "source": [
    "filename=timestamp + \"-gmmParams.npz\"\n",
    "\n",
    "with np.load(filename) as data:\n",
    "    phi = data[\"phi\"]\n",
    "    mu = data[\"mu\"]\n",
    "    sigma = data[\"sigma\"]\n",
    "    "
   ]
  },
  {
   "cell_type": "code",
   "execution_count": 5,
   "metadata": {},
   "outputs": [],
   "source": [
    "phi = K.constant(phi)\n",
    "mu = K.constant(mu)\n",
    "sigma = K.constant(sigma)"
   ]
  },
  {
   "cell_type": "code",
   "execution_count": 6,
   "metadata": {},
   "outputs": [
    {
     "data": {
      "text/plain": [
       "array([0.25017795, 0.24993297, 0.24993259, 0.24995646], dtype=float32)"
      ]
     },
     "execution_count": 6,
     "metadata": {},
     "output_type": "execute_result"
    }
   ],
   "source": [
    "K.eval(phi)"
   ]
  },
  {
   "cell_type": "code",
   "execution_count": 7,
   "metadata": {},
   "outputs": [
    {
     "data": {
      "text/plain": [
       "array([[1.2303193, 1.2303193, 1.2303193],\n",
       "       [1.2302781, 1.2302781, 1.2302781],\n",
       "       [1.2302703, 1.2302703, 1.2302703],\n",
       "       [1.2302772, 1.2302772, 1.2302772]], dtype=float32)"
      ]
     },
     "execution_count": 7,
     "metadata": {},
     "output_type": "execute_result"
    }
   ],
   "source": [
    "K.eval(mu)"
   ]
  },
  {
   "cell_type": "code",
   "execution_count": 8,
   "metadata": {},
   "outputs": [
    {
     "data": {
      "text/plain": [
       "array([[[1.2155795 , 0.2898179 , 1.2124854 ],\n",
       "        [0.2898179 , 0.07950871, 0.27077967],\n",
       "        [1.2124854 , 0.27077967, 1.2418908 ]],\n",
       "\n",
       "       [[1.215524  , 0.28976494, 1.2124406 ],\n",
       "        [0.28976494, 0.0794884 , 0.27072647],\n",
       "        [1.2124406 , 0.27072647, 1.2418607 ]],\n",
       "\n",
       "       [[1.2155112 , 0.2897507 , 1.2124361 ],\n",
       "        [0.2897507 , 0.07948116, 0.27071616],\n",
       "        [1.2124361 , 0.27071616, 1.241861  ]],\n",
       "\n",
       "       [[1.2155223 , 0.2897625 , 1.212441  ],\n",
       "        [0.2897625 , 0.07948695, 0.27072525],\n",
       "        [1.212441  , 0.27072525, 1.2418624 ]]], dtype=float32)"
      ]
     },
     "execution_count": 8,
     "metadata": {},
     "output_type": "execute_result"
    }
   ],
   "source": [
    "K.eval(sigma)"
   ]
  },
  {
   "cell_type": "markdown",
   "metadata": {},
   "source": [
    "- Plot loss history"
   ]
  },
  {
   "cell_type": "code",
   "execution_count": 9,
   "metadata": {},
   "outputs": [],
   "source": [
    "def plotHistory(loss_array, save=False, savename=timestamp+\"-lossGraph.png\"):\n",
    "    fig = plt.figure()\n",
    "    ax = fig.add_subplot(111)    # The big subplot\n",
    "    ax.set_xlabel('epochs')\n",
    "    ax.set_ylabel('loss')\n",
    "    ax.plot(loss_array)\n",
    "    \n",
    "    if save:\n",
    "        plt.savefig(savename)"
   ]
  },
  {
   "cell_type": "code",
   "execution_count": 10,
   "metadata": {},
   "outputs": [],
   "source": [
    "%matplotlib inline\n",
    "import matplotlib.pyplot as plt"
   ]
  },
  {
   "cell_type": "code",
   "execution_count": 11,
   "metadata": {},
   "outputs": [],
   "source": [
    "filename = timestamp + \"-history.npz\"\n",
    "with np.load(filename) as data:\n",
    "    history = data[\"history\"]\n",
    "\n",
    "history = history.ravel()[0][\"loss\"]"
   ]
  },
  {
   "cell_type": "code",
   "execution_count": 12,
   "metadata": {},
   "outputs": [
    {
     "data": {
      "image/png": "[encoded data removed]",
      "text/plain": [
       "<Figure size 432x288 with 1 Axes>"
      ]
     },
     "metadata": {},
     "output_type": "display_data"
    }
   ],
   "source": [
    "plotHistory(history, save=True)"
   ]
  },
  {
   "cell_type": "markdown",
   "metadata": {},
   "source": [
    "- Network definition for testing"
   ]
  },
  {
   "cell_type": "code",
   "execution_count": 13,
   "metadata": {
    "scrolled": true
   },
   "outputs": [
    {
     "name": "stdout",
     "output_type": "stream",
     "text": [
      "__________________________________________________________________________________________________\n",
      "Layer (type)                    Output Shape         Param #     Connected to                     \n",
      "==================================================================================================\n",
      "input_placeholder (InputLayer)  (1, 120)             0                                            \n",
      "__________________________________________________________________________________________________\n",
      "dense_1 (Dense)                 (1, 60)              7260        input_placeholder[0][0]          \n",
      "__________________________________________________________________________________________________\n",
      "dense_2 (Dense)                 (1, 30)              1830        dense_1[0][0]                    \n",
      "__________________________________________________________________________________________________\n",
      "dense_3 (Dense)                 (1, 10)              310         dense_2[0][0]                    \n",
      "__________________________________________________________________________________________________\n",
      "lowdim (Dense)                  (1, 1)               11          dense_3[0][0]                    \n",
      "__________________________________________________________________________________________________\n",
      "dense_4 (Dense)                 (1, 10)              20          lowdim[0][0]                     \n",
      "__________________________________________________________________________________________________\n",
      "dense_5 (Dense)                 (1, 30)              330         dense_4[0][0]                    \n",
      "__________________________________________________________________________________________________\n",
      "dense_6 (Dense)                 (1, 60)              1860        dense_5[0][0]                    \n",
      "__________________________________________________________________________________________________\n",
      "reconstructed (Dense)           (1, 120)             7320        dense_6[0][0]                    \n",
      "__________________________________________________________________________________________________\n",
      "cos_sim (Lambda)                (1, 1)               0           input_placeholder[0][0]          \n",
      "                                                                 reconstructed[0][0]              \n",
      "__________________________________________________________________________________________________\n",
      "relative_euc_dist (Lambda)      (1, 1)               0           input_placeholder[0][0]          \n",
      "                                                                 reconstructed[0][0]              \n",
      "__________________________________________________________________________________________________\n",
      "z (Lambda)                      (1, 3)               0           lowdim[0][0]                     \n",
      "                                                                 cos_sim[0][0]                    \n",
      "                                                                 relative_euc_dist[0][0]          \n",
      "__________________________________________________________________________________________________\n",
      "sample_energy (Lambda)          ()                   0           z[0][0]                          \n",
      "==================================================================================================\n",
      "Total params: 18,941\n",
      "Trainable params: 18,941\n",
      "Non-trainable params: 0\n",
      "__________________________________________________________________________________________________\n"
     ]
    },
    {
     "name": "stderr",
     "output_type": "stream",
     "text": [
      "/home/cya/anaconda3/envs/tensorflow/lib/python3.6/site-packages/ipykernel_launcher.py:103: UserWarning: Update your `Model` call to the Keras 2 API: `Model(outputs=Tensor(\"sa..., inputs=Tensor(\"in...)`\n"
     ]
    }
   ],
   "source": [
    "### Define compresion network\n",
    "\n",
    "input_data = Input(batch_shape=(batch_size,120), name='input_placeholder')\n",
    "\n",
    "encoded = Dense(60, activation='tanh', kernel_regularizer=l2(0.00001), bias_regularizer=l2(0.00001))(input_data)\n",
    "encoded = Dense(30, activation='tanh', kernel_regularizer=l2(0.00001), bias_regularizer=l2(0.00001))(encoded)\n",
    "encoded = Dense(10, activation='tanh', kernel_regularizer=l2(0.00001), bias_regularizer=l2(0.00001))(encoded)\n",
    "\n",
    "layer_lowdim = Dense(1, activation='linear', kernel_regularizer=l2(0.00001), bias_regularizer=l2(0.00001), name='lowdim')(encoded)\n",
    "\n",
    "decoded = Dense(10, activation='tanh', kernel_regularizer=l2(0.00001), bias_regularizer=l2(0.00001))(layer_lowdim)\n",
    "decoded = Dense(30, activation='tanh', kernel_regularizer=l2(0.00001), bias_regularizer=l2(0.00001))(decoded)\n",
    "decoded = Dense(60, activation='tanh', kernel_regularizer=l2(0.00001), bias_regularizer=l2(0.00001))(decoded)\n",
    "decoded = Dense(120, activation='linear', kernel_regularizer=l2(0.00001), bias_regularizer=l2(0.00001), name='reconstructed')(decoded)\n",
    "\n",
    "\n",
    "\n",
    "### Define similarity metrics\n",
    "\n",
    "def cos_sim(a_b):\n",
    "    '''\n",
    "    a: batch x 120\n",
    "    b: batch x 120 \n",
    "    \n",
    "    output: batch x 1\n",
    "    '''\n",
    "    a, b = a_b\n",
    "    \n",
    "    norm_a = K.sqrt(K.sum(a ** 2, axis=-1))\n",
    "    norm_b = K.sqrt(K.sum(b ** 2, axis=-1))\n",
    "    \n",
    "    out = K.sum(a * b, axis=-1) / (norm_a * norm_b)\n",
    "    out = K.reshape(out, [batch_size, 1])\n",
    "    \n",
    "    return out\n",
    "\n",
    "def relative_euc_dist(a_b):\n",
    "    '''\n",
    "    a: batch x 120\n",
    "    b: batch x 120 \n",
    "    \n",
    "    output: batch x 1\n",
    "    '''\n",
    "    a,b = a_b\n",
    "    \n",
    "    norm_diff = K.sqrt(K.sum((a - b)**2, axis=-1))\n",
    "    norm_a = K.sqrt(K.sum(a ** 2, axis=-1))\n",
    "    \n",
    "    out = norm_diff / norm_a\n",
    "    out = K.reshape(out, [batch_size, 1])\n",
    "\n",
    "    return out\n",
    "\n",
    "layer_cossim = Lambda(cos_sim,\n",
    "                      name='cos_sim')([input_data, decoded])\n",
    "\n",
    "layer_relativeEuc = Lambda(relative_euc_dist, \n",
    "                           name='relative_euc_dist')([input_data, decoded])\n",
    "\n",
    "### Obtain \"z\"\n",
    "def funct_concat(tensors):\n",
    "    return K.concatenate(tensors)\n",
    "\n",
    "layer_concat = Lambda(funct_concat, name=\"z\")([layer_lowdim, layer_cossim, layer_relativeEuc])\n",
    "\n",
    "\n",
    "### Sample energy as a lambda function at the end\n",
    "def computeEnergy(z_i):\n",
    "    inside_sum = tf.zeros(()) \n",
    "    for cluster in range(k):\n",
    "        diff = tf.reshape(z_i - mu[cluster], (1,-1))   ### (1,3)\n",
    "        diff_t = tf.reshape(diff, (-1,1)) #diff.reshape(-1,1)   ### (3,1)\n",
    "\n",
    "        sigma_inv = tf.linalg.inv(sigma[cluster]) ### (3,3)\n",
    "        \n",
    "        exp_term = tf.exp(-0.5 * tf.matmul(diff, tf.matmul(sigma_inv, diff_t)))    ### (1,1)\n",
    "\n",
    "        denom = tf.sqrt(tf.linalg.det(2 * np.pi * sigma[cluster]))\n",
    "        \n",
    "        inside_sum += phi[cluster] * (exp_term / denom)   ### (1,1)\n",
    "        \n",
    "        \n",
    "    inside_sum = tf.reshape(inside_sum, ())\n",
    "    \n",
    "    sample_energy = -tf.log(inside_sum + 1e-6) \n",
    "    \n",
    "    \n",
    "    return sample_energy\n",
    "\n",
    "def energyCalc(yTrue, yPred):\n",
    "    \n",
    "    z = layer_concat\n",
    "\n",
    "    return computeEnergy(z)\n",
    "\n",
    "\n",
    "layer_energy = Lambda(computeEnergy,\n",
    "                      name='sample_energy')([layer_concat])\n",
    "\n",
    "\n",
    "\n",
    "\n",
    "eval_net = Model(input=input_data, outputs=layer_energy)\n",
    "\n",
    "eval_net.summary()"
   ]
  },
  {
   "cell_type": "markdown",
   "metadata": {},
   "source": [
    "- Load trained weights"
   ]
  },
  {
   "cell_type": "code",
   "execution_count": 14,
   "metadata": {
    "scrolled": true
   },
   "outputs": [],
   "source": [
    "filename = timestamp + \"-modelsave_weights-epochs{}.h5\".format(epoch)\n",
    "eval_net.load_weights(filename, by_name=True)"
   ]
  },
  {
   "cell_type": "markdown",
   "metadata": {},
   "source": [
    "- Load dataset"
   ]
  },
  {
   "cell_type": "code",
   "execution_count": 15,
   "metadata": {},
   "outputs": [],
   "source": [
    "import numpy as np"
   ]
  },
  {
   "cell_type": "code",
   "execution_count": 16,
   "metadata": {},
   "outputs": [],
   "source": [
    "with np.load('kdd99_test-randomState_None.npz') as data:  ### kdd99_test\n",
    "    x_test = data['x_test']"
   ]
  },
  {
   "cell_type": "code",
   "execution_count": 17,
   "metadata": {},
   "outputs": [],
   "source": [
    "normal_data = x_test[np.where(x_test[:,-1] == 1)]"
   ]
  },
  {
   "cell_type": "code",
   "execution_count": 18,
   "metadata": {},
   "outputs": [],
   "source": [
    "anomaly_data = x_test[np.where(x_test[:,-1] == 0)]"
   ]
  },
  {
   "cell_type": "code",
   "execution_count": 19,
   "metadata": {},
   "outputs": [
    {
     "data": {
      "text/plain": [
       "(198366, 120)"
      ]
     },
     "execution_count": 19,
     "metadata": {},
     "output_type": "execute_result"
    }
   ],
   "source": [
    "normal_data.shape"
   ]
  },
  {
   "cell_type": "code",
   "execution_count": 20,
   "metadata": {
    "scrolled": true
   },
   "outputs": [
    {
     "data": {
      "text/plain": [
       "(48645, 120)"
      ]
     },
     "execution_count": 20,
     "metadata": {},
     "output_type": "execute_result"
    }
   ],
   "source": [
    "anomaly_data.shape"
   ]
  },
  {
   "cell_type": "markdown",
   "metadata": {},
   "source": [
    "- Obtain sample energies"
   ]
  },
  {
   "cell_type": "code",
   "execution_count": 21,
   "metadata": {
    "scrolled": true
   },
   "outputs": [
    {
     "name": "stdout",
     "output_type": "stream",
     "text": [
      "100/100 [==============================] - 0s 3ms/step\n"
     ]
    },
    {
     "data": {
      "text/plain": [
       "array([13.815511 , 13.815511 , 13.815511 , 13.815511 ,  3.368639 ,\n",
       "       13.815511 , 13.815511 , 13.815511 , 13.815511 , 13.815511 ,\n",
       "        3.3267875, 13.815511 , 13.815511 ,  3.413237 , 13.815511 ,\n",
       "       13.815511 ,  3.2404416, 13.815511 , 13.815511 , 13.815511 ,\n",
       "       13.815511 , 13.815511 ,  3.2427187, 13.815511 , 13.815511 ,\n",
       "       13.815511 , 13.815511 , 13.815511 , 13.815511 ,  3.2683754,\n",
       "       13.815511 , 13.815511 , 13.815511 , 13.815511 ,  3.3727894,\n",
       "       13.815511 , 13.815511 , 13.815511 , 13.815511 , 13.815511 ,\n",
       "       13.815508 , 13.815511 ,  3.9180603, 13.815511 , 13.815511 ,\n",
       "        3.3753772, 13.815511 , 13.815511 , 13.815511 , 13.815511 ,\n",
       "       13.815511 ,  3.4115129, 13.815511 , 13.815511 , 13.815511 ,\n",
       "       13.815511 , 13.815511 , 13.815511 ,  3.21052  , 13.815511 ,\n",
       "       13.815511 ,  3.2266018, 13.815511 , 13.815511 , 13.815511 ,\n",
       "       13.815511 , 13.815511 ,  3.0825908, 13.815511 , 13.815511 ,\n",
       "        3.417551 , 13.815511 , 13.815462 , 13.815511 ,  3.130912 ,\n",
       "       13.815511 , 13.815509 , 13.815511 , 13.815511 , 13.815511 ,\n",
       "       13.815511 ,  3.3629165, 13.815511 , 13.815511 , 13.815511 ,\n",
       "       13.815511 , 13.815511 , 13.815511 ,  3.42729  ,  3.351127 ,\n",
       "       13.815511 , 13.815511 , 13.815511 , 13.815511 ,  3.5056045,\n",
       "       13.815511 , 13.815511 , 13.815511 , 13.815511 , 13.815511 ],\n",
       "      dtype=float32)"
      ]
     },
     "execution_count": 21,
     "metadata": {},
     "output_type": "execute_result"
    }
   ],
   "source": [
    "eval_net.predict(normal_data[-100:], batch_size=1, verbose=1)  "
   ]
  }
 ],
 "metadata": {
  "kernelspec": {
   "display_name": "Python 3",
   "language": "python",
   "name": "python3"
  },
  "language_info": {
   "codemirror_mode": {
    "name": "ipython",
    "version": 3
   },
   "file_extension": ".py",
   "mimetype": "text/x-python",
   "name": "python",
   "nbconvert_exporter": "python",
   "pygments_lexer": "ipython3",
   "version": "3.6.5"
  }
 },
 "nbformat": 4,
 "nbformat_minor": 2
}
