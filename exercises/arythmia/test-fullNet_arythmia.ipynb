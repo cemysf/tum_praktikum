{
 "cells": [
  {
   "cell_type": "markdown",
   "metadata": {},
   "source": [
    "### Test the trained network"
   ]
  },
  {
   "cell_type": "code",
   "execution_count": 1,
   "metadata": {},
   "outputs": [
    {
     "name": "stderr",
     "output_type": "stream",
     "text": [
      "/Users/jyotirmaysenapati/anaconda3/lib/python3.6/site-packages/h5py/__init__.py:36: FutureWarning: Conversion of the second argument of issubdtype from `float` to `np.floating` is deprecated. In future, it will be treated as `np.float64 == np.dtype(float).type`.\n",
      "  from ._conv import register_converters as _register_converters\n",
      "Using TensorFlow backend.\n"
     ]
    }
   ],
   "source": [
    "from keras.layers import Input, Dense, Activation, Lambda, Dropout, Concatenate, Reshape\n",
    "from keras.models import Model, Sequential\n",
    "from keras.callbacks import TensorBoard, Callback\n",
    "from keras import optimizers\n",
    "from keras import backend as K\n",
    "\n",
    "import tensorflow as tf\n",
    "\n",
    "from keras.regularizers import l2\n",
    "\n",
    "\n",
    "### Hyperparameters\n",
    "batch_size = 1 \n",
    "k = 2\n",
    "d = 4\n"
   ]
  },
  {
   "cell_type": "markdown",
   "metadata": {},
   "source": [
    "- Network to load"
   ]
  },
  {
   "cell_type": "code",
   "execution_count": 2,
   "metadata": {},
   "outputs": [],
   "source": [
    "timestamp = \"2018-07-28_17:12\"\n",
    "\n",
    "epoch = 10000"
   ]
  },
  {
   "cell_type": "markdown",
   "metadata": {},
   "source": [
    "- Load gmm params"
   ]
  },
  {
   "cell_type": "code",
   "execution_count": 3,
   "metadata": {},
   "outputs": [],
   "source": [
    "import numpy as np"
   ]
  },
  {
   "cell_type": "code",
   "execution_count": 4,
   "metadata": {},
   "outputs": [],
   "source": [
    "filename=timestamp + \"-gmmParams.npz\"\n",
    "\n",
    "with np.load(filename) as data:\n",
    "    phi = data[\"phi\"]\n",
    "    mu = data[\"mu\"]\n",
    "    sigma = data[\"sigma\"]\n",
    "    "
   ]
  },
  {
   "cell_type": "code",
   "execution_count": 5,
   "metadata": {},
   "outputs": [],
   "source": [
    "phi = K.constant(phi)\n",
    "mu = K.constant(mu)\n",
    "sigma = K.constant(sigma)"
   ]
  },
  {
   "cell_type": "code",
   "execution_count": 6,
   "metadata": {},
   "outputs": [
    {
     "data": {
      "text/plain": [
       "array([0.5, 0.5], dtype=float32)"
      ]
     },
     "execution_count": 6,
     "metadata": {},
     "output_type": "execute_result"
    }
   ],
   "source": [
    "K.eval(phi)"
   ]
  },
  {
   "cell_type": "code",
   "execution_count": 7,
   "metadata": {},
   "outputs": [
    {
     "data": {
      "text/plain": [
       "array([[0.75538546, 0.75538546, 0.75538546, 0.75538546],\n",
       "       [0.75538546, 0.75538546, 0.75538546, 0.75538546]], dtype=float32)"
      ]
     },
     "execution_count": 7,
     "metadata": {},
     "output_type": "execute_result"
    }
   ],
   "source": [
    "K.eval(mu)"
   ]
  },
  {
   "cell_type": "code",
   "execution_count": 8,
   "metadata": {},
   "outputs": [
    {
     "data": {
      "text/plain": [
       "array([[[ 1.9578843 , -2.3390892 ,  0.1336104 , -0.33108056],\n",
       "        [-2.3390892 ,  7.3980327 , -0.5650078 ,  1.4113652 ],\n",
       "        [ 0.1336104 , -0.5650078 ,  0.05031497, -0.12633346],\n",
       "        [-0.33108056,  1.4113652 , -0.12633346,  0.31788355]],\n",
       "\n",
       "       [[ 1.9578843 , -2.3390892 ,  0.1336104 , -0.33108056],\n",
       "        [-2.3390892 ,  7.3980327 , -0.5650078 ,  1.4113652 ],\n",
       "        [ 0.1336104 , -0.5650078 ,  0.05031497, -0.12633346],\n",
       "        [-0.33108056,  1.4113652 , -0.12633346,  0.31788355]]],\n",
       "      dtype=float32)"
      ]
     },
     "execution_count": 8,
     "metadata": {},
     "output_type": "execute_result"
    }
   ],
   "source": [
    "K.eval(sigma)"
   ]
  },
  {
   "cell_type": "markdown",
   "metadata": {},
   "source": [
    "- Plot loss history"
   ]
  },
  {
   "cell_type": "code",
   "execution_count": 9,
   "metadata": {},
   "outputs": [],
   "source": [
    "%matplotlib inline\n",
    "import matplotlib.pyplot as plt"
   ]
  },
  {
   "cell_type": "code",
   "execution_count": 10,
   "metadata": {},
   "outputs": [],
   "source": [
    "from pylab import rcParams\n",
    "rcParams['figure.figsize'] = 12, 8"
   ]
  },
  {
   "cell_type": "code",
   "execution_count": 11,
   "metadata": {},
   "outputs": [],
   "source": [
    "def plotHistory(loss_array, save=False, savename=timestamp+\"-lossGraph.png\"):\n",
    "    fig = plt.figure()\n",
    "    ax = fig.add_subplot(111)    # The big subplot\n",
    "    ax.set_title(\"Loss graph for end-to-end training\")\n",
    "\n",
    "    ax.set_xlabel('epochs')\n",
    "    ax.set_ylabel('loss')\n",
    "    ax.plot(loss_array)\n",
    "    \n",
    "    if save:\n",
    "        plt.savefig(savename)"
   ]
  },
  {
   "cell_type": "code",
   "execution_count": 12,
   "metadata": {},
   "outputs": [],
   "source": [
    "filename = timestamp + \"-history.npz\"\n",
    "with np.load(filename) as data:\n",
    "    history = data[\"history\"]\n",
    "\n",
    "history = history.ravel()[0][\"loss\"]"
   ]
  },
  {
   "cell_type": "code",
   "execution_count": 13,
   "metadata": {
    "scrolled": false
   },
   "outputs": [
    {
     "data": {
      "image/png": "[encoded data removed]",
      "text/plain": [
       "<matplotlib.figure.Figure at 0x18170fada0>"
      ]
     },
     "metadata": {},
     "output_type": "display_data"
    }
   ],
   "source": [
    "plotHistory(history, save=True)"
   ]
  },
  {
   "cell_type": "markdown",
   "metadata": {},
   "source": [
    "- Network definition for testing"
   ]
  },
  {
   "cell_type": "code",
   "execution_count": 14,
   "metadata": {
    "scrolled": true
   },
   "outputs": [
    {
     "name": "stdout",
     "output_type": "stream",
     "text": [
      "__________________________________________________________________________________________________\n",
      "Layer (type)                    Output Shape         Param #     Connected to                     \n",
      "==================================================================================================\n",
      "input_placeholder (InputLayer)  (1, 279)             0                                            \n",
      "__________________________________________________________________________________________________\n",
      "dense_1 (Dense)                 (1, 10)              2800        input_placeholder[0][0]          \n",
      "__________________________________________________________________________________________________\n",
      "dense_2 (Dense)                 (1, 2)               22          dense_1[0][0]                    \n",
      "__________________________________________________________________________________________________\n",
      "dense_3 (Dense)                 (1, 10)              30          dense_2[0][0]                    \n",
      "__________________________________________________________________________________________________\n",
      "dense_4 (Dense)                 (1, 279)             3069        dense_3[0][0]                    \n",
      "__________________________________________________________________________________________________\n",
      "cos_sim (Lambda)                (1, 1)               0           input_placeholder[0][0]          \n",
      "                                                                 dense_4[0][0]                    \n",
      "__________________________________________________________________________________________________\n",
      "relative_euc_dist (Lambda)      (1, 1)               0           input_placeholder[0][0]          \n",
      "                                                                 dense_4[0][0]                    \n",
      "__________________________________________________________________________________________________\n",
      "z (Lambda)                      (1, 4)               0           dense_2[0][0]                    \n",
      "                                                                 cos_sim[0][0]                    \n",
      "                                                                 relative_euc_dist[0][0]          \n",
      "__________________________________________________________________________________________________\n",
      "sample_energy (Lambda)          ()                   0           z[0][0]                          \n",
      "==================================================================================================\n",
      "Total params: 5,921\n",
      "Trainable params: 5,921\n",
      "Non-trainable params: 0\n",
      "__________________________________________________________________________________________________\n"
     ]
    },
    {
     "name": "stderr",
     "output_type": "stream",
     "text": [
      "/Users/jyotirmaysenapati/anaconda3/lib/python3.6/site-packages/ipykernel_launcher.py:101: UserWarning: Update your `Model` call to the Keras 2 API: `Model(outputs=Tensor(\"sa..., inputs=Tensor(\"in...)`\n"
     ]
    }
   ],
   "source": [
    "### Define compresion network\n",
    "\n",
    "input_data = Input(batch_shape=(batch_size,279), name='input_placeholder')\n",
    "\n",
    "encoded = Dense(10, activation='tanh', kernel_regularizer=l2(0.00001), bias_regularizer=l2(0.00001))(input_data)\n",
    "\n",
    "layer_lowdim = Dense(2, activation='linear', kernel_regularizer=l2(0.00001), bias_regularizer=l2(0.00001))(encoded)\n",
    "\n",
    "decoded = Dense(10, activation='tanh', kernel_regularizer=l2(0.00001), bias_regularizer=l2(0.00001))(layer_lowdim)\n",
    "decoded = Dense(279, activation='linear', kernel_regularizer=l2(0.00001), bias_regularizer=l2(0.00001))(decoded)\n",
    "\n",
    "\n",
    "\n",
    "\n",
    "\n",
    "### Define similarity metrics\n",
    "\n",
    "def cos_sim(a_b):\n",
    "    '''\n",
    "    a: batch x 120\n",
    "    b: batch x 120 \n",
    "    \n",
    "    output: batch x 1\n",
    "    '''\n",
    "    a, b = a_b\n",
    "    \n",
    "    norm_a = K.sqrt(K.sum(a ** 2, axis=-1))\n",
    "    norm_b = K.sqrt(K.sum(b ** 2, axis=-1))\n",
    "    \n",
    "    out = K.sum(a * b, axis=-1) / (norm_a * norm_b)\n",
    "    out = K.reshape(out, [batch_size, 1])\n",
    "    \n",
    "    return out\n",
    "\n",
    "def relative_euc_dist(a_b):\n",
    "    '''\n",
    "    a: batch x 120\n",
    "    b: batch x 120 \n",
    "    \n",
    "    output: batch x 1\n",
    "    '''\n",
    "    a,b = a_b\n",
    "    \n",
    "    norm_diff = K.sqrt(K.sum((a - b)**2, axis=-1))\n",
    "    norm_a = K.sqrt(K.sum(a ** 2, axis=-1))\n",
    "    \n",
    "    out = norm_diff / norm_a\n",
    "    out = K.reshape(out, [batch_size, 1])\n",
    "\n",
    "    return out\n",
    "\n",
    "layer_cossim = Lambda(cos_sim,\n",
    "                      name='cos_sim')([input_data, decoded])\n",
    "\n",
    "layer_relativeEuc = Lambda(relative_euc_dist, \n",
    "                           name='relative_euc_dist')([input_data, decoded])\n",
    "\n",
    "### Obtain \"z\"\n",
    "def funct_concat(tensors):\n",
    "    return K.concatenate(tensors)\n",
    "\n",
    "layer_concat = Lambda(funct_concat, name=\"z\")([layer_lowdim, layer_cossim, layer_relativeEuc])\n",
    "\n",
    "\n",
    "### Sample energy as a lambda function at the end\n",
    "def computeEnergy(z_i):\n",
    "    inside_sum = tf.zeros(()) \n",
    "    for cluster in range(k):\n",
    "        diff = tf.reshape(z_i - mu[cluster], (1,-1))   ### (1,3)\n",
    "        diff_t = tf.reshape(diff, (-1,1)) #diff.reshape(-1,1)   ### (3,1)\n",
    "\n",
    "        sigma_inv = tf.linalg.inv(sigma[cluster]) ### (3,3)\n",
    "        \n",
    "        exp_term = tf.exp(-0.5 * tf.matmul(diff, tf.matmul(sigma_inv, diff_t)))    ### (1,1)\n",
    "\n",
    "        denom = tf.sqrt(tf.linalg.det(2 * np.pi * sigma[cluster]))\n",
    "        \n",
    "        inside_sum += phi[cluster] * (exp_term / denom)   ### (1,1)\n",
    "        \n",
    "        \n",
    "    inside_sum = tf.reshape(inside_sum, ())\n",
    "    \n",
    "    sample_energy = -tf.log(inside_sum + 1e-6) \n",
    "    \n",
    "    \n",
    "    return sample_energy\n",
    "\n",
    "def energyCalc(yTrue, yPred):\n",
    "    \n",
    "    z = layer_concat\n",
    "\n",
    "    return computeEnergy(z)\n",
    "\n",
    "\n",
    "layer_energy = Lambda(computeEnergy,\n",
    "                      name='sample_energy')([layer_concat])\n",
    "\n",
    "\n",
    "\n",
    "\n",
    "eval_net = Model(input=input_data, outputs=layer_energy)\n",
    "\n",
    "eval_net.summary()"
   ]
  },
  {
   "cell_type": "markdown",
   "metadata": {},
   "source": [
    "- Load trained weights"
   ]
  },
  {
   "cell_type": "code",
   "execution_count": 15,
   "metadata": {
    "scrolled": true
   },
   "outputs": [],
   "source": [
    "filename = timestamp + \"-modelsave_weights-epochs{}.h5\".format(epoch)\n",
    "eval_net.load_weights(filename, by_name=True)"
   ]
  },
  {
   "cell_type": "markdown",
   "metadata": {},
   "source": [
    "- Load dataset"
   ]
  },
  {
   "cell_type": "code",
   "execution_count": 16,
   "metadata": {},
   "outputs": [],
   "source": [
    "import numpy as np"
   ]
  },
  {
   "cell_type": "code",
   "execution_count": 17,
   "metadata": {},
   "outputs": [
    {
     "name": "stdout",
     "output_type": "stream",
     "text": [
      "[[0.46987952 1.         0.07407407 ... 0.59482201 0.         1.        ]\n",
      " [0.38554217 0.         0.10074074 ... 0.53203883 0.         1.        ]\n",
      " [0.55421687 0.         0.09333333 ... 0.46148867 0.         1.        ]\n",
      " ...\n",
      " [0.62650602 1.         0.07407407 ... 0.46019417 0.         1.        ]\n",
      " [0.57831325 0.         0.10814815 ... 0.34368932 1.         0.        ]\n",
      " [0.69879518 0.         0.08148148 ... 0.29190939 0.         1.        ]]\n"
     ]
    }
   ],
   "source": [
    "with np.load('arythmia_test-randomState_None.npz') as data:  ### kdd99_test\n",
    "    x_test = data['x_test']\n",
    "#     x_test = x_test[:, 0:6]\n",
    "\n",
    "print(x_test)\n",
    "# print(y_test)"
   ]
  },
  {
   "cell_type": "code",
   "execution_count": 18,
   "metadata": {},
   "outputs": [],
   "source": [
    "normal_data = x_test[np.where(x_test[:,-1] == 1)]"
   ]
  },
  {
   "cell_type": "code",
   "execution_count": 19,
   "metadata": {},
   "outputs": [],
   "source": [
    "anomaly_data = x_test[np.where(x_test[:,-1] == 0)]"
   ]
  },
  {
   "cell_type": "code",
   "execution_count": 20,
   "metadata": {},
   "outputs": [
    {
     "data": {
      "text/plain": [
       "(192, 279)"
      ]
     },
     "execution_count": 20,
     "metadata": {},
     "output_type": "execute_result"
    }
   ],
   "source": [
    "normal_data = normal_data[:, 0:279]\n",
    "normal_data.shape"
   ]
  },
  {
   "cell_type": "code",
   "execution_count": 53,
   "metadata": {
    "scrolled": true
   },
   "outputs": [
    {
     "name": "stdout",
     "output_type": "stream",
     "text": [
      "34 0.1504424778761062\n"
     ]
    }
   ],
   "source": [
    "anomaly_data = anomaly_data[:, 0:279]\n",
    "anomaly_data.shape\n",
    "\n",
    "anomaly_percentage = anomaly_data.shape[0]/(anomaly_data.shape[0]+normal_data.shape[0])\n",
    "print(anomaly_data.shape, anomaly_percentage)"
   ]
  },
  {
   "cell_type": "markdown",
   "metadata": {},
   "source": [
    "### Obtain sample energies"
   ]
  },
  {
   "cell_type": "markdown",
   "metadata": {},
   "source": [
    "- Energies from normal class"
   ]
  },
  {
   "cell_type": "code",
   "execution_count": 22,
   "metadata": {
    "scrolled": false
   },
   "outputs": [
    {
     "name": "stdout",
     "output_type": "stream",
     "text": [
      "192/192 [==============================] - 0s 888us/step\n"
     ]
    }
   ],
   "source": [
    "energies_normal = eval_net.predict(normal_data, batch_size=1, verbose=1)  "
   ]
  },
  {
   "cell_type": "code",
   "execution_count": 23,
   "metadata": {},
   "outputs": [
    {
     "data": {
      "text/plain": [
       "array([ 3.67125320e+00, -3.95089686e-01,  2.05923700e+00,  4.42252576e-01,\n",
       "       -4.81631696e-01,  5.47323786e-02,  4.33185875e-01, -4.76905316e-01,\n",
       "        1.46190989e+00,  1.05255112e-01, -6.53972745e-01, -6.46684945e-01,\n",
       "       -2.66617447e-01, -1.20610915e-01, -5.39465368e-01,  1.27400434e+00,\n",
       "        6.09293431e-02, -2.07173020e-01, -4.91608083e-01, -7.61377692e-01,\n",
       "       -4.84145641e-01, -6.50329471e-01, -4.93351400e-01,  5.42146981e-01,\n",
       "        4.22745682e-02, -1.35732412e-01, -9.81648088e-01, -6.19912028e-01,\n",
       "       -6.00061774e-01, -5.83917022e-01, -5.54046988e-01,  2.36358240e-01,\n",
       "        5.47203302e+00,  3.77817787e-02,  1.25037134e+00,  1.66960871e+00,\n",
       "       -6.25415683e-01,  6.29691315e+00, -5.15800476e-01, -5.63729882e-01,\n",
       "        9.73777846e-02, -9.61212873e-01,  7.35092163e-01,  1.27484277e-01,\n",
       "       -4.35573101e-01,  4.20289850e+00,  7.07266256e-02, -7.45516479e-01,\n",
       "       -1.93722412e-01, -6.90195382e-01,  1.95549560e+00,  1.52140605e+00,\n",
       "       -2.26652816e-01, -2.34052330e-01, -2.92028993e-01,  7.11091280e+00,\n",
       "        2.68705630e+00, -8.24303627e-01, -5.38481176e-01, -1.45373031e-01,\n",
       "        2.26513672e+00,  2.47345901e+00,  8.94210339e-01,  9.38930437e-02,\n",
       "        1.52043664e+00, -3.41917336e-01, -8.64187002e-01,  2.81116962e-01,\n",
       "        2.25859396e-02, -9.51261997e-01, -4.59586024e-01,  2.46601850e-01,\n",
       "       -4.53592747e-01,  2.52524209e+00, -4.58738774e-01,  4.15710956e-01,\n",
       "        1.32080472e+00, -4.20003623e-01, -5.61788976e-01, -5.30098379e-01,\n",
       "       -4.38618600e-01,  2.96063185e-01, -6.58970773e-01,  2.39767528e+00,\n",
       "       -6.29749596e-01, -6.67004406e-01,  7.48144090e-01,  7.85076022e-01,\n",
       "        1.05356324e+00, -1.38453498e-01, -5.18094778e-01,  1.27699748e-01,\n",
       "       -2.73036450e-01, -4.51610059e-01, -3.79494160e-01, -3.18847686e-01,\n",
       "        6.22909784e-01, -6.44241154e-01, -8.43491852e-01, -4.05698329e-01,\n",
       "        2.78108329e-01,  3.72774750e-01, -5.31086385e-01, -3.14128995e-02,\n",
       "        6.78207874e-02,  1.58695698e+00,  1.54867113e-01, -2.17091188e-01,\n",
       "       -7.17188179e-01, -8.55549127e-02, -5.82308173e-01, -2.17345022e-02,\n",
       "        1.03549778e+00, -4.55455393e-01, -1.73889741e-01, -3.57468218e-01,\n",
       "       -9.43592548e-01, -8.94670725e-01,  1.57526171e+00, -8.77413094e-01,\n",
       "        6.91119194e-01, -8.90290260e-01, -4.12134677e-01, -1.75350830e-01,\n",
       "       -5.01001298e-01,  9.77118790e-01, -1.99789658e-01,  6.90792143e-01,\n",
       "        1.81525683e+00,  4.16489393e-02,  5.98051369e-01,  7.25896835e-01,\n",
       "       -7.05689251e-01,  6.42577291e-01,  1.73802006e+00,  4.73814428e-01,\n",
       "        5.84821850e-02,  6.03855312e-01, -2.57783532e-01, -6.09054506e-01,\n",
       "       -8.22255373e-01, -6.08271956e-01,  1.61907470e+00,  2.41105986e+00,\n",
       "       -5.90027273e-01, -6.96466267e-02, -3.49977970e-01,  5.39568424e+00,\n",
       "       -3.84396523e-01,  2.70949221e+00,  1.11571169e-02,  3.48086983e-01,\n",
       "        6.16044283e-01,  1.68788767e+00,  5.57066262e-01,  5.27998388e-01,\n",
       "        2.19767421e-01, -1.90242499e-01,  1.37282429e+01,  2.35751176e+00,\n",
       "       -6.54530406e-01,  1.43035579e+00, -2.84145445e-01, -5.14146209e-01,\n",
       "       -8.81536663e-01,  1.35495958e+01, -9.30053055e-01,  1.95649967e-01,\n",
       "        3.25880982e-02,  3.25422764e+00, -7.97682047e-01, -7.25710690e-01,\n",
       "       -2.83357173e-01, -8.47455680e-01,  1.12537935e-01, -6.70960724e-01,\n",
       "       -9.24882174e-01, -2.41676867e-01, -1.88901022e-01, -8.70379806e-01,\n",
       "       -2.92372823e-01,  1.19985831e+00, -1.79803610e-01, -1.40531976e-02,\n",
       "        5.21264262e-02, -8.63915861e-01,  5.73635101e-02, -7.53142655e-01,\n",
       "       -4.66198921e-01,  3.55206616e-02, -5.45144022e-01,  4.71190214e+00],\n",
       "      dtype=float32)"
      ]
     },
     "execution_count": 23,
     "metadata": {},
     "output_type": "execute_result"
    }
   ],
   "source": [
    "energies_normal"
   ]
  },
  {
   "cell_type": "code",
   "execution_count": 24,
   "metadata": {},
   "outputs": [
    {
     "data": {
      "text/plain": [
       "-0.9816481"
      ]
     },
     "execution_count": 24,
     "metadata": {},
     "output_type": "execute_result"
    }
   ],
   "source": [
    "energies_normal.min()"
   ]
  },
  {
   "cell_type": "code",
   "execution_count": 25,
   "metadata": {},
   "outputs": [
    {
     "data": {
      "text/plain": [
       "13.728243"
      ]
     },
     "execution_count": 25,
     "metadata": {},
     "output_type": "execute_result"
    }
   ],
   "source": [
    "energies_normal.max()"
   ]
  },
  {
   "cell_type": "code",
   "execution_count": 26,
   "metadata": {},
   "outputs": [],
   "source": [
    "hist_bins = 500"
   ]
  },
  {
   "cell_type": "code",
   "execution_count": 27,
   "metadata": {},
   "outputs": [
    {
     "data": {
      "image/png": "[encoded data removed]",
      "text/plain": [
       "<matplotlib.figure.Figure at 0x1820524128>"
      ]
     },
     "metadata": {},
     "output_type": "display_data"
    }
   ],
   "source": [
    "plt.hist(energies_normal, bins=hist_bins, log=True)\n",
    "\n",
    "plt.title(\"Sample energies for \\\"normal\\\" class\")\n",
    "plt.xlabel(\"energy\")\n",
    "plt.ylabel(\"counts\")\n",
    "plt.tight_layout()\n",
    "\n",
    "filename = timestamp + \"-normalHist_bins{}.png\".format(hist_bins)\n",
    "plt.savefig(filename)"
   ]
  },
  {
   "cell_type": "markdown",
   "metadata": {},
   "source": [
    "- Energies from anomaly class"
   ]
  },
  {
   "cell_type": "code",
   "execution_count": 28,
   "metadata": {},
   "outputs": [
    {
     "name": "stdout",
     "output_type": "stream",
     "text": [
      "34/34 [==============================] - 0s 877us/step\n"
     ]
    }
   ],
   "source": [
    "\n",
    "energies_anomaly = eval_net.predict(anomaly_data, batch_size=1, verbose=1)  "
   ]
  },
  {
   "cell_type": "code",
   "execution_count": 29,
   "metadata": {},
   "outputs": [
    {
     "data": {
      "text/plain": [
       "array([ 4.2744362e-01, -7.1872580e-01,  3.2356238e+00,  6.4205271e-01,\n",
       "       -4.8112214e-02,  1.6053953e+00, -6.1947558e-02,  9.8565025e+00,\n",
       "        1.1304072e+00,  2.7132685e+00, -3.2226428e-02,  1.0955198e+01,\n",
       "       -6.3213575e-01,  7.0946679e+00,  3.4294150e+00,  3.9178710e+00,\n",
       "        1.5096803e+00,  2.3395135e+00,  8.5569397e-02,  4.5743527e+00,\n",
       "        1.2630391e+00,  7.8784995e-02,  1.8425736e+00, -2.8109890e-01,\n",
       "        7.0562925e+00,  1.8976872e+00,  4.1320925e+00,  2.5558171e-01,\n",
       "       -7.9683037e-03,  3.4228461e+00,  1.1211581e+01,  1.7546215e+00,\n",
       "        2.2134757e+00, -4.8050636e-01], dtype=float32)"
      ]
     },
     "execution_count": 29,
     "metadata": {},
     "output_type": "execute_result"
    }
   ],
   "source": [
    "energies_anomaly"
   ]
  },
  {
   "cell_type": "code",
   "execution_count": 30,
   "metadata": {},
   "outputs": [
    {
     "data": {
      "text/plain": [
       "-0.7187258"
      ]
     },
     "execution_count": 30,
     "metadata": {},
     "output_type": "execute_result"
    }
   ],
   "source": [
    "energies_anomaly.min()"
   ]
  },
  {
   "cell_type": "code",
   "execution_count": 31,
   "metadata": {},
   "outputs": [
    {
     "data": {
      "text/plain": [
       "11.211581"
      ]
     },
     "execution_count": 31,
     "metadata": {},
     "output_type": "execute_result"
    }
   ],
   "source": [
    "energies_anomaly.max()"
   ]
  },
  {
   "cell_type": "code",
   "execution_count": 32,
   "metadata": {},
   "outputs": [],
   "source": [
    "plt.hist?"
   ]
  },
  {
   "cell_type": "code",
   "execution_count": 33,
   "metadata": {},
   "outputs": [
    {
     "data": {
      "image/png": "[encoded data removed]",
      "text/plain": [
       "<matplotlib.figure.Figure at 0x1820e543c8>"
      ]
     },
     "metadata": {},
     "output_type": "display_data"
    }
   ],
   "source": [
    "plt.hist(energies_anomaly, bins=hist_bins, color=\"red\", log=True)\n",
    "\n",
    "plt.title(\"Sample energies for \\\"anomaly\\\" class\")\n",
    "plt.xlabel(\"energy\")\n",
    "plt.ylabel(\"counts\")\n",
    "plt.tight_layout()\n",
    "\n",
    "filename = timestamp + \"-anomalyHist_bins{}.png\".format(hist_bins)\n",
    "plt.savefig(filename)"
   ]
  },
  {
   "cell_type": "code",
   "execution_count": 34,
   "metadata": {
    "scrolled": false
   },
   "outputs": [
    {
     "data": {
      "image/png": "[encoded data removed]",
      "text/plain": [
       "<matplotlib.figure.Figure at 0x1821b5cf98>"
      ]
     },
     "metadata": {},
     "output_type": "display_data"
    }
   ],
   "source": [
    "hist_bins = 120\n",
    "\n",
    "plt.hist((energies_normal, energies_anomaly), \n",
    "         bins=hist_bins, \n",
    "         color=[\"blue\", \"red\"], \n",
    "         histtype=\"bar\", \n",
    "         label=[\"normal\", \"anomaly\"], \n",
    "         rwidth=1.0,\n",
    "         stacked=False,\n",
    "         log=True)\n",
    "\n",
    "plt.title(\"Sample energies\")\n",
    "plt.xlabel(\"energy\")\n",
    "plt.ylabel(\"counts\")\n",
    "plt.tight_layout()\n",
    "\n",
    "filename = timestamp + \"-allHist_bins{}.png\".format(hist_bins)\n",
    "plt.savefig(filename)\n"
   ]
  },
  {
   "cell_type": "markdown",
   "metadata": {},
   "source": [
    "### Find the threshold for classifying as anomaly: \"top %20 of highest energy\""
   ]
  },
  {
   "cell_type": "code",
   "execution_count": 35,
   "metadata": {},
   "outputs": [],
   "source": [
    "energies_all = np.concatenate((energies_normal, energies_anomaly), axis=0)"
   ]
  },
  {
   "cell_type": "code",
   "execution_count": 36,
   "metadata": {},
   "outputs": [
    {
     "data": {
      "text/plain": [
       "(226,)"
      ]
     },
     "execution_count": 36,
     "metadata": {},
     "output_type": "execute_result"
    }
   ],
   "source": [
    "energies_all.shape"
   ]
  },
  {
   "cell_type": "markdown",
   "metadata": {},
   "source": [
    "- Sort calculated energies descending"
   ]
  },
  {
   "cell_type": "code",
   "execution_count": 37,
   "metadata": {},
   "outputs": [],
   "source": [
    "sorted_energies = np.sort(energies_all)[::-1]"
   ]
  },
  {
   "cell_type": "code",
   "execution_count": 38,
   "metadata": {},
   "outputs": [
    {
     "data": {
      "text/plain": [
       "array([ 1.37282429e+01,  1.35495958e+01,  1.12115812e+01,  1.09551983e+01,\n",
       "        9.85650253e+00,  7.11091280e+00,  7.09466791e+00,  7.05629253e+00,\n",
       "        6.29691315e+00,  5.47203302e+00,  5.39568424e+00,  4.71190214e+00,\n",
       "        4.57435274e+00,  4.20289850e+00,  4.13209248e+00,  3.91787100e+00,\n",
       "        3.67125320e+00,  3.42941499e+00,  3.42284608e+00,  3.25422764e+00,\n",
       "        3.23562384e+00,  2.71326852e+00,  2.70949221e+00,  2.68705630e+00,\n",
       "        2.52524209e+00,  2.47345901e+00,  2.41105986e+00,  2.39767528e+00,\n",
       "        2.35751176e+00,  2.33951354e+00,  2.26513672e+00,  2.21347570e+00,\n",
       "        2.05923700e+00,  1.95549560e+00,  1.89768720e+00,  1.84257364e+00,\n",
       "        1.81525683e+00,  1.75462151e+00,  1.73802006e+00,  1.68788767e+00,\n",
       "        1.66960871e+00,  1.61907470e+00,  1.60539532e+00,  1.58695698e+00,\n",
       "        1.57526171e+00,  1.52140605e+00,  1.52043664e+00,  1.50968027e+00,\n",
       "        1.46190989e+00,  1.43035579e+00,  1.32080472e+00,  1.27400434e+00,\n",
       "        1.26303911e+00,  1.25037134e+00,  1.19985831e+00,  1.13040721e+00,\n",
       "        1.05356324e+00,  1.03549778e+00,  9.77118790e-01,  8.94210339e-01,\n",
       "        7.85076022e-01,  7.48144090e-01,  7.35092163e-01,  7.25896835e-01,\n",
       "        6.91119194e-01,  6.90792143e-01,  6.42577291e-01,  6.42052710e-01,\n",
       "        6.22909784e-01,  6.16044283e-01,  6.03855312e-01,  5.98051369e-01,\n",
       "        5.57066262e-01,  5.42146981e-01,  5.27998388e-01,  4.73814428e-01,\n",
       "        4.42252576e-01,  4.33185875e-01,  4.27443624e-01,  4.15710956e-01,\n",
       "        3.72774750e-01,  3.48086983e-01,  2.96063185e-01,  2.81116962e-01,\n",
       "        2.78108329e-01,  2.55581707e-01,  2.46601850e-01,  2.36358240e-01,\n",
       "        2.19767421e-01,  1.95649967e-01,  1.54867113e-01,  1.27699748e-01,\n",
       "        1.27484277e-01,  1.12537935e-01,  1.05255112e-01,  9.73777846e-02,\n",
       "        9.38930437e-02,  8.55693966e-02,  7.87849948e-02,  7.07266256e-02,\n",
       "        6.78207874e-02,  6.09293431e-02,  5.84821850e-02,  5.73635101e-02,\n",
       "        5.47323786e-02,  5.21264262e-02,  4.22745682e-02,  4.16489393e-02,\n",
       "        3.77817787e-02,  3.55206616e-02,  3.25880982e-02,  2.25859396e-02,\n",
       "        1.11571169e-02, -7.96830375e-03, -1.40531976e-02, -2.17345022e-02,\n",
       "       -3.14128995e-02, -3.22264284e-02, -4.81122136e-02, -6.19475581e-02,\n",
       "       -6.96466267e-02, -8.55549127e-02, -1.20610915e-01, -1.35732412e-01,\n",
       "       -1.38453498e-01, -1.45373031e-01, -1.73889741e-01, -1.75350830e-01,\n",
       "       -1.79803610e-01, -1.88901022e-01, -1.90242499e-01, -1.93722412e-01,\n",
       "       -1.99789658e-01, -2.07173020e-01, -2.17091188e-01, -2.26652816e-01,\n",
       "       -2.34052330e-01, -2.41676867e-01, -2.57783532e-01, -2.66617447e-01,\n",
       "       -2.73036450e-01, -2.81098902e-01, -2.83357173e-01, -2.84145445e-01,\n",
       "       -2.92028993e-01, -2.92372823e-01, -3.18847686e-01, -3.41917336e-01,\n",
       "       -3.49977970e-01, -3.57468218e-01, -3.79494160e-01, -3.84396523e-01,\n",
       "       -3.95089686e-01, -4.05698329e-01, -4.12134677e-01, -4.20003623e-01,\n",
       "       -4.35573101e-01, -4.38618600e-01, -4.51610059e-01, -4.53592747e-01,\n",
       "       -4.55455393e-01, -4.58738774e-01, -4.59586024e-01, -4.66198921e-01,\n",
       "       -4.76905316e-01, -4.80506361e-01, -4.81631696e-01, -4.84145641e-01,\n",
       "       -4.91608083e-01, -4.93351400e-01, -5.01001298e-01, -5.14146209e-01,\n",
       "       -5.15800476e-01, -5.18094778e-01, -5.30098379e-01, -5.31086385e-01,\n",
       "       -5.38481176e-01, -5.39465368e-01, -5.45144022e-01, -5.54046988e-01,\n",
       "       -5.61788976e-01, -5.63729882e-01, -5.82308173e-01, -5.83917022e-01,\n",
       "       -5.90027273e-01, -6.00061774e-01, -6.08271956e-01, -6.09054506e-01,\n",
       "       -6.19912028e-01, -6.25415683e-01, -6.29749596e-01, -6.32135749e-01,\n",
       "       -6.44241154e-01, -6.46684945e-01, -6.50329471e-01, -6.53972745e-01,\n",
       "       -6.54530406e-01, -6.58970773e-01, -6.67004406e-01, -6.70960724e-01,\n",
       "       -6.90195382e-01, -7.05689251e-01, -7.17188179e-01, -7.18725801e-01,\n",
       "       -7.25710690e-01, -7.45516479e-01, -7.53142655e-01, -7.61377692e-01,\n",
       "       -7.97682047e-01, -8.22255373e-01, -8.24303627e-01, -8.43491852e-01,\n",
       "       -8.47455680e-01, -8.63915861e-01, -8.64187002e-01, -8.70379806e-01,\n",
       "       -8.77413094e-01, -8.81536663e-01, -8.90290260e-01, -8.94670725e-01,\n",
       "       -9.24882174e-01, -9.30053055e-01, -9.43592548e-01, -9.51261997e-01,\n",
       "       -9.61212873e-01, -9.81648088e-01], dtype=float32)"
      ]
     },
     "execution_count": 38,
     "metadata": {},
     "output_type": "execute_result"
    }
   ],
   "source": [
    "sorted_energies"
   ]
  },
  {
   "cell_type": "markdown",
   "metadata": {},
   "source": [
    "- Top %20 percent is the first %20 part of it"
   ]
  },
  {
   "cell_type": "code",
   "execution_count": 54,
   "metadata": {},
   "outputs": [],
   "source": [
    " \n",
    "\n",
    "threshold_index = int(np.floor(len(sorted_energies) * anomaly_percentage))\n"
   ]
  },
  {
   "cell_type": "code",
   "execution_count": 55,
   "metadata": {
    "scrolled": true
   },
   "outputs": [
    {
     "data": {
      "text/plain": [
       "array([13.728243 , 13.549596 , 11.211581 , 10.955198 ,  9.856503 ,\n",
       "        7.110913 ,  7.094668 ,  7.0562925,  6.296913 ,  5.472033 ,\n",
       "        5.3956842,  4.711902 ,  4.5743527,  4.2028985,  4.1320925,\n",
       "        3.917871 ,  3.6712532,  3.429415 ,  3.422846 ,  3.2542276,\n",
       "        3.2356238,  2.7132685,  2.7094922,  2.6870563,  2.525242 ,\n",
       "        2.473459 ,  2.4110599,  2.3976753,  2.3575118,  2.3395135,\n",
       "        2.2651367,  2.2134757,  2.059237 ,  1.9554956], dtype=float32)"
      ]
     },
     "execution_count": 55,
     "metadata": {},
     "output_type": "execute_result"
    }
   ],
   "source": [
    "sorted_energies[:threshold_index]"
   ]
  },
  {
   "cell_type": "code",
   "execution_count": 56,
   "metadata": {},
   "outputs": [],
   "source": [
    "threshold = sorted_energies[threshold_index]"
   ]
  },
  {
   "cell_type": "markdown",
   "metadata": {},
   "source": [
    "- Below this threshold, samples are classified as normal"
   ]
  },
  {
   "cell_type": "code",
   "execution_count": 57,
   "metadata": {},
   "outputs": [
    {
     "data": {
      "text/plain": [
       "1.8976872"
      ]
     },
     "execution_count": 57,
     "metadata": {},
     "output_type": "execute_result"
    }
   ],
   "source": [
    "threshold"
   ]
  },
  {
   "cell_type": "markdown",
   "metadata": {},
   "source": [
    "### Calculate metrics"
   ]
  },
  {
   "cell_type": "markdown",
   "metadata": {},
   "source": [
    "- \"Anomaly class is positive\" (from paper)"
   ]
  },
  {
   "cell_type": "markdown",
   "metadata": {},
   "source": [
    "|                   | anomaly | normal |   |   |\n",
    "|-------------------|---------|--------|---|---|\n",
    "| predicted anomaly | TP      | FP     |   |   |\n",
    "| predicted normal  | FN      | TN     |   |   |\n",
    "|                   |         |        |   |   |"
   ]
  },
  {
   "cell_type": "code",
   "execution_count": 58,
   "metadata": {},
   "outputs": [
    {
     "name": "stdout",
     "output_type": "stream",
     "text": [
      "15 20 172 19\n"
     ]
    }
   ],
   "source": [
    "tp = len(energies_anomaly[energies_anomaly >= threshold])\n",
    "fp = len(energies_normal[energies_normal > threshold])\n",
    "\n",
    "tn = len(energies_normal[energies_normal <= threshold])\n",
    "fn = len(energies_anomaly[energies_anomaly < threshold])\n",
    "\n",
    "print(tp, fp, tn, fn)"
   ]
  },
  {
   "cell_type": "code",
   "execution_count": 59,
   "metadata": {},
   "outputs": [],
   "source": [
    "precision = tp / (tp + fp)"
   ]
  },
  {
   "cell_type": "code",
   "execution_count": 60,
   "metadata": {},
   "outputs": [
    {
     "data": {
      "text/plain": [
       "0.42857142857142855"
      ]
     },
     "execution_count": 60,
     "metadata": {},
     "output_type": "execute_result"
    }
   ],
   "source": [
    "precision"
   ]
  },
  {
   "cell_type": "code",
   "execution_count": 61,
   "metadata": {},
   "outputs": [],
   "source": [
    "recall = tp / (tp + fn)"
   ]
  },
  {
   "cell_type": "code",
   "execution_count": 62,
   "metadata": {},
   "outputs": [
    {
     "data": {
      "text/plain": [
       "0.4411764705882353"
      ]
     },
     "execution_count": 62,
     "metadata": {},
     "output_type": "execute_result"
    }
   ],
   "source": [
    "recall"
   ]
  },
  {
   "cell_type": "code",
   "execution_count": 63,
   "metadata": {},
   "outputs": [],
   "source": [
    "f1 = 2*tp / (2*tp + fp + fn)"
   ]
  },
  {
   "cell_type": "code",
   "execution_count": 64,
   "metadata": {},
   "outputs": [
    {
     "data": {
      "text/plain": [
       "0.43478260869565216"
      ]
     },
     "execution_count": 64,
     "metadata": {},
     "output_type": "execute_result"
    }
   ],
   "source": [
    "f1"
   ]
  },
  {
   "cell_type": "code",
   "execution_count": null,
   "metadata": {},
   "outputs": [],
   "source": []
  },
  {
   "cell_type": "code",
   "execution_count": null,
   "metadata": {},
   "outputs": [],
   "source": []
  }
 ],
 "metadata": {
  "kernelspec": {
   "display_name": "Python 3",
   "language": "python",
   "name": "python3"
  },
  "language_info": {
   "codemirror_mode": {
    "name": "ipython",
    "version": 3
   },
   "file_extension": ".py",
   "mimetype": "text/x-python",
   "name": "python",
   "nbconvert_exporter": "python",
   "pygments_lexer": "ipython3",
   "version": "3.6.4"
  }
 },
 "nbformat": 4,
 "nbformat_minor": 2
}
