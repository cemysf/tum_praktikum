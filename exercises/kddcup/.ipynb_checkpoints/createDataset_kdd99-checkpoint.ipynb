{
 "cells": [
  {
   "cell_type": "markdown",
   "metadata": {},
   "source": [
    "### Dataset creation"
   ]
  },
  {
   "cell_type": "code",
   "execution_count": 1,
   "metadata": {},
   "outputs": [],
   "source": [
    "import pandas as pd\n",
    "import numpy as np"
   ]
  },
  {
   "cell_type": "markdown",
   "metadata": {},
   "source": [
    "- load data and labels (normal and different attack types)"
   ]
  },
  {
   "cell_type": "code",
   "execution_count": 2,
   "metadata": {},
   "outputs": [],
   "source": [
    "df_data = pd.read_csv(\"../../datasets/kddcup/kddcup.data_10_percent.gz\", header=None)\n",
    "df_labels = pd.DataFrame(df_data.iloc[:,-1])   \n",
    "df_data = df_data.iloc[:, :-1] "
   ]
  },
  {
   "cell_type": "markdown",
   "metadata": {},
   "source": [
    "- read column names and types"
   ]
  },
  {
   "cell_type": "code",
   "execution_count": 3,
   "metadata": {},
   "outputs": [],
   "source": [
    "col_names=[]\n",
    "col_datatypes=[]\n",
    "\n",
    "with open(\"../../datasets/kddcup/kddcup.names\") as file:\n",
    "    next(file)    ### skip first line\n",
    "    for line in file:\n",
    "        name, datatype = line.split(\": \")\n",
    "        col_names.append(name)\n",
    "        col_datatypes.append(datatype.replace(\".\\n\",\"\"))\n",
    "        \n",
    "df_data.columns = col_names\n",
    "df_labels.columns = [\"labels\"]"
   ]
  },
  {
   "cell_type": "code",
   "execution_count": 4,
   "metadata": {
    "scrolled": false
   },
   "outputs": [
    {
     "data": {
      "text/html": [
       "<div>\n",
       "<style scoped>\n",
       "    .dataframe tbody tr th:only-of-type {\n",
       "        vertical-align: middle;\n",
       "    }\n",
       "\n",
       "    .dataframe tbody tr th {\n",
       "        vertical-align: top;\n",
       "    }\n",
       "\n",
       "    .dataframe thead th {\n",
       "        text-align: right;\n",
       "    }\n",
       "</style>\n",
       "<table border=\"1\" class=\"dataframe\">\n",
       "  <thead>\n",
       "    <tr style=\"text-align: right;\">\n",
       "      <th></th>\n",
       "      <th>duration</th>\n",
       "      <th>protocol_type</th>\n",
       "      <th>service</th>\n",
       "      <th>flag</th>\n",
       "      <th>src_bytes</th>\n",
       "      <th>dst_bytes</th>\n",
       "      <th>land</th>\n",
       "      <th>wrong_fragment</th>\n",
       "      <th>urgent</th>\n",
       "      <th>hot</th>\n",
       "      <th>...</th>\n",
       "      <th>dst_host_count</th>\n",
       "      <th>dst_host_srv_count</th>\n",
       "      <th>dst_host_same_srv_rate</th>\n",
       "      <th>dst_host_diff_srv_rate</th>\n",
       "      <th>dst_host_same_src_port_rate</th>\n",
       "      <th>dst_host_srv_diff_host_rate</th>\n",
       "      <th>dst_host_serror_rate</th>\n",
       "      <th>dst_host_srv_serror_rate</th>\n",
       "      <th>dst_host_rerror_rate</th>\n",
       "      <th>dst_host_srv_rerror_rate</th>\n",
       "    </tr>\n",
       "  </thead>\n",
       "  <tbody>\n",
       "    <tr>\n",
       "      <th>0</th>\n",
       "      <td>0</td>\n",
       "      <td>tcp</td>\n",
       "      <td>http</td>\n",
       "      <td>SF</td>\n",
       "      <td>181</td>\n",
       "      <td>5450</td>\n",
       "      <td>0</td>\n",
       "      <td>0</td>\n",
       "      <td>0</td>\n",
       "      <td>0</td>\n",
       "      <td>...</td>\n",
       "      <td>9</td>\n",
       "      <td>9</td>\n",
       "      <td>1.0</td>\n",
       "      <td>0.0</td>\n",
       "      <td>0.11</td>\n",
       "      <td>0.0</td>\n",
       "      <td>0.0</td>\n",
       "      <td>0.0</td>\n",
       "      <td>0.0</td>\n",
       "      <td>0.0</td>\n",
       "    </tr>\n",
       "    <tr>\n",
       "      <th>1</th>\n",
       "      <td>0</td>\n",
       "      <td>tcp</td>\n",
       "      <td>http</td>\n",
       "      <td>SF</td>\n",
       "      <td>239</td>\n",
       "      <td>486</td>\n",
       "      <td>0</td>\n",
       "      <td>0</td>\n",
       "      <td>0</td>\n",
       "      <td>0</td>\n",
       "      <td>...</td>\n",
       "      <td>19</td>\n",
       "      <td>19</td>\n",
       "      <td>1.0</td>\n",
       "      <td>0.0</td>\n",
       "      <td>0.05</td>\n",
       "      <td>0.0</td>\n",
       "      <td>0.0</td>\n",
       "      <td>0.0</td>\n",
       "      <td>0.0</td>\n",
       "      <td>0.0</td>\n",
       "    </tr>\n",
       "    <tr>\n",
       "      <th>2</th>\n",
       "      <td>0</td>\n",
       "      <td>tcp</td>\n",
       "      <td>http</td>\n",
       "      <td>SF</td>\n",
       "      <td>235</td>\n",
       "      <td>1337</td>\n",
       "      <td>0</td>\n",
       "      <td>0</td>\n",
       "      <td>0</td>\n",
       "      <td>0</td>\n",
       "      <td>...</td>\n",
       "      <td>29</td>\n",
       "      <td>29</td>\n",
       "      <td>1.0</td>\n",
       "      <td>0.0</td>\n",
       "      <td>0.03</td>\n",
       "      <td>0.0</td>\n",
       "      <td>0.0</td>\n",
       "      <td>0.0</td>\n",
       "      <td>0.0</td>\n",
       "      <td>0.0</td>\n",
       "    </tr>\n",
       "    <tr>\n",
       "      <th>3</th>\n",
       "      <td>0</td>\n",
       "      <td>tcp</td>\n",
       "      <td>http</td>\n",
       "      <td>SF</td>\n",
       "      <td>219</td>\n",
       "      <td>1337</td>\n",
       "      <td>0</td>\n",
       "      <td>0</td>\n",
       "      <td>0</td>\n",
       "      <td>0</td>\n",
       "      <td>...</td>\n",
       "      <td>39</td>\n",
       "      <td>39</td>\n",
       "      <td>1.0</td>\n",
       "      <td>0.0</td>\n",
       "      <td>0.03</td>\n",
       "      <td>0.0</td>\n",
       "      <td>0.0</td>\n",
       "      <td>0.0</td>\n",
       "      <td>0.0</td>\n",
       "      <td>0.0</td>\n",
       "    </tr>\n",
       "    <tr>\n",
       "      <th>4</th>\n",
       "      <td>0</td>\n",
       "      <td>tcp</td>\n",
       "      <td>http</td>\n",
       "      <td>SF</td>\n",
       "      <td>217</td>\n",
       "      <td>2032</td>\n",
       "      <td>0</td>\n",
       "      <td>0</td>\n",
       "      <td>0</td>\n",
       "      <td>0</td>\n",
       "      <td>...</td>\n",
       "      <td>49</td>\n",
       "      <td>49</td>\n",
       "      <td>1.0</td>\n",
       "      <td>0.0</td>\n",
       "      <td>0.02</td>\n",
       "      <td>0.0</td>\n",
       "      <td>0.0</td>\n",
       "      <td>0.0</td>\n",
       "      <td>0.0</td>\n",
       "      <td>0.0</td>\n",
       "    </tr>\n",
       "  </tbody>\n",
       "</table>\n",
       "<p>5 rows × 41 columns</p>\n",
       "</div>"
      ],
      "text/plain": [
       "   duration protocol_type service flag  src_bytes  dst_bytes  land  \\\n",
       "0         0           tcp    http   SF        181       5450     0   \n",
       "1         0           tcp    http   SF        239        486     0   \n",
       "2         0           tcp    http   SF        235       1337     0   \n",
       "3         0           tcp    http   SF        219       1337     0   \n",
       "4         0           tcp    http   SF        217       2032     0   \n",
       "\n",
       "   wrong_fragment  urgent  hot            ...             dst_host_count  \\\n",
       "0               0       0    0            ...                          9   \n",
       "1               0       0    0            ...                         19   \n",
       "2               0       0    0            ...                         29   \n",
       "3               0       0    0            ...                         39   \n",
       "4               0       0    0            ...                         49   \n",
       "\n",
       "   dst_host_srv_count  dst_host_same_srv_rate  dst_host_diff_srv_rate  \\\n",
       "0                   9                     1.0                     0.0   \n",
       "1                  19                     1.0                     0.0   \n",
       "2                  29                     1.0                     0.0   \n",
       "3                  39                     1.0                     0.0   \n",
       "4                  49                     1.0                     0.0   \n",
       "\n",
       "   dst_host_same_src_port_rate  dst_host_srv_diff_host_rate  \\\n",
       "0                         0.11                          0.0   \n",
       "1                         0.05                          0.0   \n",
       "2                         0.03                          0.0   \n",
       "3                         0.03                          0.0   \n",
       "4                         0.02                          0.0   \n",
       "\n",
       "   dst_host_serror_rate  dst_host_srv_serror_rate  dst_host_rerror_rate  \\\n",
       "0                   0.0                       0.0                   0.0   \n",
       "1                   0.0                       0.0                   0.0   \n",
       "2                   0.0                       0.0                   0.0   \n",
       "3                   0.0                       0.0                   0.0   \n",
       "4                   0.0                       0.0                   0.0   \n",
       "\n",
       "   dst_host_srv_rerror_rate  \n",
       "0                       0.0  \n",
       "1                       0.0  \n",
       "2                       0.0  \n",
       "3                       0.0  \n",
       "4                       0.0  \n",
       "\n",
       "[5 rows x 41 columns]"
      ]
     },
     "execution_count": 4,
     "metadata": {},
     "output_type": "execute_result"
    }
   ],
   "source": [
    "df_data.head()"
   ]
  },
  {
   "cell_type": "markdown",
   "metadata": {},
   "source": [
    "- check integrity of the data"
   ]
  },
  {
   "cell_type": "code",
   "execution_count": 5,
   "metadata": {},
   "outputs": [
    {
     "name": "stdout",
     "output_type": "stream",
     "text": [
      "False\n",
      "False\n"
     ]
    }
   ],
   "source": [
    "print(df_data.isnull().values.any())\n",
    "\n",
    "print(df_data.isna().values.any())"
   ]
  },
  {
   "cell_type": "markdown",
   "metadata": {},
   "source": [
    "### Enumerate labels "
   ]
  },
  {
   "cell_type": "markdown",
   "metadata": {},
   "source": [
    "- ### normal samples are named as \"anomaly\" since they are minority (stated in paper)"
   ]
  },
  {
   "cell_type": "code",
   "execution_count": 6,
   "metadata": {},
   "outputs": [],
   "source": [
    "df_data[\"label\"] = np.where(df_labels[\"labels\"].str.contains(\"normal\"), \"anomaly\", \"normal\")  "
   ]
  },
  {
   "cell_type": "code",
   "execution_count": 7,
   "metadata": {},
   "outputs": [
    {
     "name": "stdout",
     "output_type": "stream",
     "text": [
      "number of normal: 396743\n",
      "number of anomaly: 97278\n"
     ]
    }
   ],
   "source": [
    "### number of normal and abnormal\n",
    "print(\"number of normal:\", len(np.where(df_data[\"label\"] == \"normal\")[0]))\n",
    "print(\"number of anomaly:\", len(np.where(df_data[\"label\"] == \"anomaly\")[0]))"
   ]
  },
  {
   "cell_type": "code",
   "execution_count": 8,
   "metadata": {},
   "outputs": [
    {
     "data": {
      "text/plain": [
       "(array([   744,    745,   4049, ..., 490962, 490963, 490964]),)"
      ]
     },
     "execution_count": 8,
     "metadata": {},
     "output_type": "execute_result"
    }
   ],
   "source": [
    "## check in which location data is abnormal\n",
    "\n",
    "np.where(df_data[\"label\"] == \"normal\")"
   ]
  },
  {
   "cell_type": "code",
   "execution_count": 9,
   "metadata": {},
   "outputs": [
    {
     "name": "stdout",
     "output_type": "stream",
     "text": [
      "740    anomaly\n",
      "741    anomaly\n",
      "742    anomaly\n",
      "743    anomaly\n",
      "744     normal\n",
      "745     normal\n",
      "746    anomaly\n",
      "747    anomaly\n",
      "748    anomaly\n",
      "749    anomaly\n",
      "Name: label, dtype: object\n",
      "740             normal.\n",
      "741             normal.\n",
      "742             normal.\n",
      "743             normal.\n",
      "744    buffer_overflow.\n",
      "745    buffer_overflow.\n",
      "746             normal.\n",
      "747             normal.\n",
      "748             normal.\n",
      "749             normal.\n",
      "Name: labels, dtype: object\n"
     ]
    }
   ],
   "source": [
    "### looks like working\n",
    "\n",
    "print(df_data.iloc[740:750, -1])\n",
    "print(df_labels.iloc[740:750, -1])\n"
   ]
  },
  {
   "cell_type": "code",
   "execution_count": 10,
   "metadata": {},
   "outputs": [],
   "source": [
    "### for each object column in data\n",
    "\n",
    "cols_toOneHot = df_data.select_dtypes(include='object').columns.tolist()\n",
    "\n",
    "cols_all = df_data.columns.tolist()\n",
    "cols_toNormalize = list(set(cols_all) - set(cols_toOneHot))"
   ]
  },
  {
   "cell_type": "code",
   "execution_count": 11,
   "metadata": {},
   "outputs": [
    {
     "name": "stdout",
     "output_type": "stream",
     "text": [
      "columns to normalize:\n",
      "['src_bytes', 'num_access_files', 'dst_host_srv_count', 'urgent', 'num_compromised', 'su_attempted', 'num_shells', 'wrong_fragment', 'land', 'dst_host_srv_diff_host_rate', 'duration', 'num_failed_logins', 'num_root', 'hot', 'srv_serror_rate', 'dst_bytes', 'count', 'dst_host_same_srv_rate', 'same_srv_rate', 'srv_rerror_rate', 'dst_host_srv_rerror_rate', 'srv_diff_host_rate', 'num_outbound_cmds', 'dst_host_diff_srv_rate', 'num_file_creations', 'dst_host_same_src_port_rate', 'logged_in', 'is_guest_login', 'root_shell', 'dst_host_srv_serror_rate', 'rerror_rate', 'is_host_login', 'diff_srv_rate', 'serror_rate', 'dst_host_rerror_rate', 'dst_host_serror_rate', 'srv_count', 'dst_host_count']\n",
      "\n",
      "columns to one-hot:\n",
      "['protocol_type', 'service', 'flag', 'label']\n",
      "\n"
     ]
    }
   ],
   "source": [
    "print(\"columns to normalize:\\n%s\\n\" % cols_toNormalize)\n",
    "print(\"columns to one-hot:\\n%s\\n\" % cols_toOneHot)"
   ]
  },
  {
   "cell_type": "code",
   "execution_count": 12,
   "metadata": {
    "scrolled": true
   },
   "outputs": [
    {
     "data": {
      "text/plain": [
       "38"
      ]
     },
     "execution_count": 12,
     "metadata": {},
     "output_type": "execute_result"
    }
   ],
   "source": [
    "len(cols_toNormalize)"
   ]
  },
  {
   "cell_type": "markdown",
   "metadata": {},
   "source": [
    "### Dataset preprocessing in numerical columns"
   ]
  },
  {
   "cell_type": "code",
   "execution_count": 13,
   "metadata": {},
   "outputs": [
    {
     "data": {
      "text/plain": [
       "False"
      ]
     },
     "execution_count": 13,
     "metadata": {},
     "output_type": "execute_result"
    }
   ],
   "source": [
    "df_data.duration.dtype == \"object\""
   ]
  },
  {
   "cell_type": "code",
   "execution_count": 14,
   "metadata": {},
   "outputs": [],
   "source": [
    "def checkStats(df_data):\n",
    "    i=0\n",
    "    for col in df_data.columns.tolist():\n",
    "        if col in cols_toOneHot:    ### skip if column is not numerical  ### TODO: check column type??\n",
    "            i += 1\n",
    "            continue\n",
    "\n",
    "        min_ = df_data[col].values.min()\n",
    "        max_ = df_data[col].values.max()\n",
    "        std_ = df_data[col].values.std()\n",
    "\n",
    "        print(\"column:%d min:%f max:%f std:%f\" % (i, min_, max_, std_))\n",
    "        i += 1"
   ]
  },
  {
   "cell_type": "code",
   "execution_count": 15,
   "metadata": {},
   "outputs": [
    {
     "name": "stdout",
     "output_type": "stream",
     "text": [
      "column:0 min:0.000000 max:58329.000000 std:707.745756\n",
      "column:4 min:0.000000 max:693375640.000000 std:988217.100872\n",
      "column:5 min:0.000000 max:5155468.000000 std:33039.967812\n",
      "column:6 min:0.000000 max:1.000000 std:0.006673\n",
      "column:7 min:0.000000 max:3.000000 std:0.134805\n",
      "column:8 min:0.000000 max:3.000000 std:0.005510\n",
      "column:9 min:0.000000 max:30.000000 std:0.782102\n",
      "column:10 min:0.000000 max:5.000000 std:0.015520\n",
      "column:11 min:0.000000 max:1.000000 std:0.355344\n",
      "column:12 min:0.000000 max:884.000000 std:1.798324\n",
      "column:13 min:0.000000 max:1.000000 std:0.010551\n",
      "column:14 min:0.000000 max:2.000000 std:0.007793\n",
      "column:15 min:0.000000 max:993.000000 std:2.012716\n",
      "column:16 min:0.000000 max:28.000000 std:0.096416\n",
      "column:17 min:0.000000 max:2.000000 std:0.011020\n",
      "column:18 min:0.000000 max:8.000000 std:0.036482\n",
      "column:19 min:0.000000 max:0.000000 std:0.000000\n",
      "column:20 min:0.000000 max:0.000000 std:0.000000\n",
      "column:21 min:0.000000 max:1.000000 std:0.037211\n",
      "column:22 min:0.000000 max:511.000000 std:213.147196\n",
      "column:23 min:0.000000 max:511.000000 std:246.322568\n",
      "column:24 min:0.000000 max:1.000000 std:0.380717\n",
      "column:25 min:0.000000 max:1.000000 std:0.381016\n",
      "column:26 min:0.000000 max:1.000000 std:0.231623\n",
      "column:27 min:0.000000 max:1.000000 std:0.232147\n",
      "column:28 min:0.000000 max:1.000000 std:0.388189\n",
      "column:29 min:0.000000 max:1.000000 std:0.082205\n",
      "column:30 min:0.000000 max:1.000000 std:0.142397\n",
      "column:31 min:0.000000 max:255.000000 std:64.745315\n",
      "column:32 min:0.000000 max:255.000000 std:106.040330\n",
      "column:33 min:0.000000 max:1.000000 std:0.410781\n",
      "column:34 min:0.000000 max:1.000000 std:0.109259\n",
      "column:35 min:0.000000 max:1.000000 std:0.481309\n",
      "column:36 min:0.000000 max:1.000000 std:0.042133\n",
      "column:37 min:0.000000 max:1.000000 std:0.380593\n",
      "column:38 min:0.000000 max:1.000000 std:0.380919\n",
      "column:39 min:0.000000 max:1.000000 std:0.230589\n",
      "column:40 min:0.000000 max:1.000000 std:0.230140\n"
     ]
    }
   ],
   "source": [
    "## before normalization\n",
    "\n",
    "checkStats(df_data)"
   ]
  },
  {
   "cell_type": "code",
   "execution_count": 16,
   "metadata": {},
   "outputs": [
    {
     "data": {
      "text/plain": [
       "\"\\n### mean substr and std dev div\\nfor col in cols_toNormalize:\\n    mean = df_data[col].mean()\\n    std = df_data[col].std()\\n    \\n    if mean == 0 or std == 0:     ### columns 'num_outbound_cmds', 'is_host_login' has zero mean and std dev!!!\\n        continue\\n    \\n    df_data[col] = (df_data[col] - mean) / std\\n\""
      ]
     },
     "execution_count": 16,
     "metadata": {},
     "output_type": "execute_result"
    }
   ],
   "source": [
    "### normalization\n",
    "\n",
    "### min substr and max-min div\n",
    "for col in cols_toNormalize:\n",
    "    min = df_data[col].min()\n",
    "    max = df_data[col].max()\n",
    "    \n",
    "    if max - min == 0:\n",
    "        continue\n",
    "    \n",
    "    df_data[col] = (df_data[col] - min) / (max - min)\n",
    "\n",
    "\n",
    "\n",
    "\"\"\"\n",
    "### mean substr and std dev div\n",
    "for col in cols_toNormalize:\n",
    "    mean = df_data[col].mean()\n",
    "    std = df_data[col].std()\n",
    "    \n",
    "    if mean == 0 or std == 0:     ### columns 'num_outbound_cmds', 'is_host_login' has zero mean and std dev!!!\n",
    "        continue\n",
    "    \n",
    "    df_data[col] = (df_data[col] - mean) / std\n",
    "\"\"\""
   ]
  },
  {
   "cell_type": "code",
   "execution_count": 17,
   "metadata": {
    "scrolled": true
   },
   "outputs": [
    {
     "name": "stdout",
     "output_type": "stream",
     "text": [
      "column:0 min:0.000000 max:1.000000 std:0.012134\n",
      "column:4 min:0.000000 max:1.000000 std:0.001425\n",
      "column:5 min:0.000000 max:1.000000 std:0.006409\n",
      "column:6 min:0.000000 max:1.000000 std:0.006673\n",
      "column:7 min:0.000000 max:1.000000 std:0.044935\n",
      "column:8 min:0.000000 max:1.000000 std:0.001837\n",
      "column:9 min:0.000000 max:1.000000 std:0.026070\n",
      "column:10 min:0.000000 max:1.000000 std:0.003104\n",
      "column:11 min:0.000000 max:1.000000 std:0.355344\n",
      "column:12 min:0.000000 max:1.000000 std:0.002034\n",
      "column:13 min:0.000000 max:1.000000 std:0.010551\n",
      "column:14 min:0.000000 max:1.000000 std:0.003896\n",
      "column:15 min:0.000000 max:1.000000 std:0.002027\n",
      "column:16 min:0.000000 max:1.000000 std:0.003443\n",
      "column:17 min:0.000000 max:1.000000 std:0.005510\n",
      "column:18 min:0.000000 max:1.000000 std:0.004560\n",
      "column:19 min:0.000000 max:0.000000 std:0.000000\n",
      "column:20 min:0.000000 max:0.000000 std:0.000000\n",
      "column:21 min:0.000000 max:1.000000 std:0.037211\n",
      "column:22 min:0.000000 max:1.000000 std:0.417118\n",
      "column:23 min:0.000000 max:1.000000 std:0.482040\n",
      "column:24 min:0.000000 max:1.000000 std:0.380717\n",
      "column:25 min:0.000000 max:1.000000 std:0.381016\n",
      "column:26 min:0.000000 max:1.000000 std:0.231623\n",
      "column:27 min:0.000000 max:1.000000 std:0.232147\n",
      "column:28 min:0.000000 max:1.000000 std:0.388189\n",
      "column:29 min:0.000000 max:1.000000 std:0.082205\n",
      "column:30 min:0.000000 max:1.000000 std:0.142397\n",
      "column:31 min:0.000000 max:1.000000 std:0.253903\n",
      "column:32 min:0.000000 max:1.000000 std:0.415844\n",
      "column:33 min:0.000000 max:1.000000 std:0.410781\n",
      "column:34 min:0.000000 max:1.000000 std:0.109259\n",
      "column:35 min:0.000000 max:1.000000 std:0.481309\n",
      "column:36 min:0.000000 max:1.000000 std:0.042133\n",
      "column:37 min:0.000000 max:1.000000 std:0.380593\n",
      "column:38 min:0.000000 max:1.000000 std:0.380919\n",
      "column:39 min:0.000000 max:1.000000 std:0.230589\n",
      "column:40 min:0.000000 max:1.000000 std:0.230140\n"
     ]
    }
   ],
   "source": [
    "checkStats(df_data)"
   ]
  },
  {
   "cell_type": "markdown",
   "metadata": {},
   "source": [
    "### One hot encoding of required columns"
   ]
  },
  {
   "cell_type": "code",
   "execution_count": 18,
   "metadata": {},
   "outputs": [],
   "source": [
    "### obtain one hot encoding\n",
    "\n",
    "df_data = pd.get_dummies(df_data, columns=cols_toOneHot)"
   ]
  },
  {
   "cell_type": "markdown",
   "metadata": {},
   "source": [
    "- Check the resulting dataset"
   ]
  },
  {
   "cell_type": "code",
   "execution_count": 19,
   "metadata": {
    "scrolled": true
   },
   "outputs": [
    {
     "data": {
      "text/html": [
       "<div>\n",
       "<style scoped>\n",
       "    .dataframe tbody tr th:only-of-type {\n",
       "        vertical-align: middle;\n",
       "    }\n",
       "\n",
       "    .dataframe tbody tr th {\n",
       "        vertical-align: top;\n",
       "    }\n",
       "\n",
       "    .dataframe thead th {\n",
       "        text-align: right;\n",
       "    }\n",
       "</style>\n",
       "<table border=\"1\" class=\"dataframe\">\n",
       "  <thead>\n",
       "    <tr style=\"text-align: right;\">\n",
       "      <th></th>\n",
       "      <th>duration</th>\n",
       "      <th>src_bytes</th>\n",
       "      <th>dst_bytes</th>\n",
       "      <th>land</th>\n",
       "      <th>wrong_fragment</th>\n",
       "      <th>urgent</th>\n",
       "      <th>hot</th>\n",
       "      <th>num_failed_logins</th>\n",
       "      <th>logged_in</th>\n",
       "      <th>num_compromised</th>\n",
       "      <th>...</th>\n",
       "      <th>flag_RSTOS0</th>\n",
       "      <th>flag_RSTR</th>\n",
       "      <th>flag_S0</th>\n",
       "      <th>flag_S1</th>\n",
       "      <th>flag_S2</th>\n",
       "      <th>flag_S3</th>\n",
       "      <th>flag_SF</th>\n",
       "      <th>flag_SH</th>\n",
       "      <th>label_anomaly</th>\n",
       "      <th>label_normal</th>\n",
       "    </tr>\n",
       "  </thead>\n",
       "  <tbody>\n",
       "    <tr>\n",
       "      <th>0</th>\n",
       "      <td>0.0</td>\n",
       "      <td>2.610418e-07</td>\n",
       "      <td>0.001057</td>\n",
       "      <td>0.0</td>\n",
       "      <td>0.0</td>\n",
       "      <td>0.0</td>\n",
       "      <td>0.0</td>\n",
       "      <td>0.0</td>\n",
       "      <td>1.0</td>\n",
       "      <td>0.0</td>\n",
       "      <td>...</td>\n",
       "      <td>0</td>\n",
       "      <td>0</td>\n",
       "      <td>0</td>\n",
       "      <td>0</td>\n",
       "      <td>0</td>\n",
       "      <td>0</td>\n",
       "      <td>1</td>\n",
       "      <td>0</td>\n",
       "      <td>1</td>\n",
       "      <td>0</td>\n",
       "    </tr>\n",
       "    <tr>\n",
       "      <th>1</th>\n",
       "      <td>0.0</td>\n",
       "      <td>3.446905e-07</td>\n",
       "      <td>0.000094</td>\n",
       "      <td>0.0</td>\n",
       "      <td>0.0</td>\n",
       "      <td>0.0</td>\n",
       "      <td>0.0</td>\n",
       "      <td>0.0</td>\n",
       "      <td>1.0</td>\n",
       "      <td>0.0</td>\n",
       "      <td>...</td>\n",
       "      <td>0</td>\n",
       "      <td>0</td>\n",
       "      <td>0</td>\n",
       "      <td>0</td>\n",
       "      <td>0</td>\n",
       "      <td>0</td>\n",
       "      <td>1</td>\n",
       "      <td>0</td>\n",
       "      <td>1</td>\n",
       "      <td>0</td>\n",
       "    </tr>\n",
       "    <tr>\n",
       "      <th>2</th>\n",
       "      <td>0.0</td>\n",
       "      <td>3.389216e-07</td>\n",
       "      <td>0.000259</td>\n",
       "      <td>0.0</td>\n",
       "      <td>0.0</td>\n",
       "      <td>0.0</td>\n",
       "      <td>0.0</td>\n",
       "      <td>0.0</td>\n",
       "      <td>1.0</td>\n",
       "      <td>0.0</td>\n",
       "      <td>...</td>\n",
       "      <td>0</td>\n",
       "      <td>0</td>\n",
       "      <td>0</td>\n",
       "      <td>0</td>\n",
       "      <td>0</td>\n",
       "      <td>0</td>\n",
       "      <td>1</td>\n",
       "      <td>0</td>\n",
       "      <td>1</td>\n",
       "      <td>0</td>\n",
       "    </tr>\n",
       "    <tr>\n",
       "      <th>3</th>\n",
       "      <td>0.0</td>\n",
       "      <td>3.158461e-07</td>\n",
       "      <td>0.000259</td>\n",
       "      <td>0.0</td>\n",
       "      <td>0.0</td>\n",
       "      <td>0.0</td>\n",
       "      <td>0.0</td>\n",
       "      <td>0.0</td>\n",
       "      <td>1.0</td>\n",
       "      <td>0.0</td>\n",
       "      <td>...</td>\n",
       "      <td>0</td>\n",
       "      <td>0</td>\n",
       "      <td>0</td>\n",
       "      <td>0</td>\n",
       "      <td>0</td>\n",
       "      <td>0</td>\n",
       "      <td>1</td>\n",
       "      <td>0</td>\n",
       "      <td>1</td>\n",
       "      <td>0</td>\n",
       "    </tr>\n",
       "    <tr>\n",
       "      <th>4</th>\n",
       "      <td>0.0</td>\n",
       "      <td>3.129617e-07</td>\n",
       "      <td>0.000394</td>\n",
       "      <td>0.0</td>\n",
       "      <td>0.0</td>\n",
       "      <td>0.0</td>\n",
       "      <td>0.0</td>\n",
       "      <td>0.0</td>\n",
       "      <td>1.0</td>\n",
       "      <td>0.0</td>\n",
       "      <td>...</td>\n",
       "      <td>0</td>\n",
       "      <td>0</td>\n",
       "      <td>0</td>\n",
       "      <td>0</td>\n",
       "      <td>0</td>\n",
       "      <td>0</td>\n",
       "      <td>1</td>\n",
       "      <td>0</td>\n",
       "      <td>1</td>\n",
       "      <td>0</td>\n",
       "    </tr>\n",
       "  </tbody>\n",
       "</table>\n",
       "<p>5 rows × 120 columns</p>\n",
       "</div>"
      ],
      "text/plain": [
       "   duration     src_bytes  dst_bytes  land  wrong_fragment  urgent  hot  \\\n",
       "0       0.0  2.610418e-07   0.001057   0.0             0.0     0.0  0.0   \n",
       "1       0.0  3.446905e-07   0.000094   0.0             0.0     0.0  0.0   \n",
       "2       0.0  3.389216e-07   0.000259   0.0             0.0     0.0  0.0   \n",
       "3       0.0  3.158461e-07   0.000259   0.0             0.0     0.0  0.0   \n",
       "4       0.0  3.129617e-07   0.000394   0.0             0.0     0.0  0.0   \n",
       "\n",
       "   num_failed_logins  logged_in  num_compromised      ...       flag_RSTOS0  \\\n",
       "0                0.0        1.0              0.0      ...                 0   \n",
       "1                0.0        1.0              0.0      ...                 0   \n",
       "2                0.0        1.0              0.0      ...                 0   \n",
       "3                0.0        1.0              0.0      ...                 0   \n",
       "4                0.0        1.0              0.0      ...                 0   \n",
       "\n",
       "   flag_RSTR  flag_S0  flag_S1  flag_S2  flag_S3  flag_SF  flag_SH  \\\n",
       "0          0        0        0        0        0        1        0   \n",
       "1          0        0        0        0        0        1        0   \n",
       "2          0        0        0        0        0        1        0   \n",
       "3          0        0        0        0        0        1        0   \n",
       "4          0        0        0        0        0        1        0   \n",
       "\n",
       "   label_anomaly  label_normal  \n",
       "0              1             0  \n",
       "1              1             0  \n",
       "2              1             0  \n",
       "3              1             0  \n",
       "4              1             0  \n",
       "\n",
       "[5 rows x 120 columns]"
      ]
     },
     "execution_count": 19,
     "metadata": {},
     "output_type": "execute_result"
    }
   ],
   "source": [
    "df_data.head()"
   ]
  },
  {
   "cell_type": "code",
   "execution_count": 20,
   "metadata": {},
   "outputs": [
    {
     "data": {
      "text/plain": [
       "(494021, 120)"
      ]
     },
     "execution_count": 20,
     "metadata": {},
     "output_type": "execute_result"
    }
   ],
   "source": [
    "### shape is correct\n",
    "\n",
    "df_data.shape"
   ]
  },
  {
   "cell_type": "code",
   "execution_count": 21,
   "metadata": {
    "scrolled": true
   },
   "outputs": [
    {
     "data": {
      "text/html": [
       "<div>\n",
       "<style scoped>\n",
       "    .dataframe tbody tr th:only-of-type {\n",
       "        vertical-align: middle;\n",
       "    }\n",
       "\n",
       "    .dataframe tbody tr th {\n",
       "        vertical-align: top;\n",
       "    }\n",
       "\n",
       "    .dataframe thead th {\n",
       "        text-align: right;\n",
       "    }\n",
       "</style>\n",
       "<table border=\"1\" class=\"dataframe\">\n",
       "  <thead>\n",
       "    <tr style=\"text-align: right;\">\n",
       "      <th></th>\n",
       "      <th>duration</th>\n",
       "      <th>src_bytes</th>\n",
       "      <th>dst_bytes</th>\n",
       "      <th>land</th>\n",
       "      <th>wrong_fragment</th>\n",
       "      <th>urgent</th>\n",
       "      <th>hot</th>\n",
       "      <th>num_failed_logins</th>\n",
       "      <th>logged_in</th>\n",
       "      <th>num_compromised</th>\n",
       "      <th>...</th>\n",
       "      <th>flag_RSTOS0</th>\n",
       "      <th>flag_RSTR</th>\n",
       "      <th>flag_S0</th>\n",
       "      <th>flag_S1</th>\n",
       "      <th>flag_S2</th>\n",
       "      <th>flag_S3</th>\n",
       "      <th>flag_SF</th>\n",
       "      <th>flag_SH</th>\n",
       "      <th>label_anomaly</th>\n",
       "      <th>label_normal</th>\n",
       "    </tr>\n",
       "  </thead>\n",
       "  <tbody>\n",
       "    <tr>\n",
       "      <th>count</th>\n",
       "      <td>494021.000000</td>\n",
       "      <td>4.940210e+05</td>\n",
       "      <td>494021.000000</td>\n",
       "      <td>494021.000000</td>\n",
       "      <td>494021.000000</td>\n",
       "      <td>494021.000000</td>\n",
       "      <td>494021.000000</td>\n",
       "      <td>494021.000000</td>\n",
       "      <td>494021.000000</td>\n",
       "      <td>494021.000000</td>\n",
       "      <td>...</td>\n",
       "      <td>494021.000000</td>\n",
       "      <td>494021.000000</td>\n",
       "      <td>494021.000000</td>\n",
       "      <td>494021.000000</td>\n",
       "      <td>494021.000000</td>\n",
       "      <td>494021.000000</td>\n",
       "      <td>494021.000000</td>\n",
       "      <td>494021.000000</td>\n",
       "      <td>494021.000000</td>\n",
       "      <td>494021.000000</td>\n",
       "    </tr>\n",
       "    <tr>\n",
       "      <th>mean</th>\n",
       "      <td>0.000823</td>\n",
       "      <td>4.363595e-06</td>\n",
       "      <td>0.000168</td>\n",
       "      <td>0.000045</td>\n",
       "      <td>0.002144</td>\n",
       "      <td>0.000005</td>\n",
       "      <td>0.001151</td>\n",
       "      <td>0.000030</td>\n",
       "      <td>0.148247</td>\n",
       "      <td>0.000012</td>\n",
       "      <td>...</td>\n",
       "      <td>0.000022</td>\n",
       "      <td>0.001828</td>\n",
       "      <td>0.176120</td>\n",
       "      <td>0.000115</td>\n",
       "      <td>0.000049</td>\n",
       "      <td>0.000020</td>\n",
       "      <td>0.766040</td>\n",
       "      <td>0.000217</td>\n",
       "      <td>0.196911</td>\n",
       "      <td>0.803089</td>\n",
       "    </tr>\n",
       "    <tr>\n",
       "      <th>std</th>\n",
       "      <td>0.012134</td>\n",
       "      <td>1.425228e-03</td>\n",
       "      <td>0.006409</td>\n",
       "      <td>0.006673</td>\n",
       "      <td>0.044935</td>\n",
       "      <td>0.001837</td>\n",
       "      <td>0.026070</td>\n",
       "      <td>0.003104</td>\n",
       "      <td>0.355345</td>\n",
       "      <td>0.002034</td>\n",
       "      <td>...</td>\n",
       "      <td>0.004719</td>\n",
       "      <td>0.042714</td>\n",
       "      <td>0.380923</td>\n",
       "      <td>0.010741</td>\n",
       "      <td>0.006970</td>\n",
       "      <td>0.004499</td>\n",
       "      <td>0.423347</td>\n",
       "      <td>0.014715</td>\n",
       "      <td>0.397665</td>\n",
       "      <td>0.397665</td>\n",
       "    </tr>\n",
       "    <tr>\n",
       "      <th>min</th>\n",
       "      <td>0.000000</td>\n",
       "      <td>0.000000e+00</td>\n",
       "      <td>0.000000</td>\n",
       "      <td>0.000000</td>\n",
       "      <td>0.000000</td>\n",
       "      <td>0.000000</td>\n",
       "      <td>0.000000</td>\n",
       "      <td>0.000000</td>\n",
       "      <td>0.000000</td>\n",
       "      <td>0.000000</td>\n",
       "      <td>...</td>\n",
       "      <td>0.000000</td>\n",
       "      <td>0.000000</td>\n",
       "      <td>0.000000</td>\n",
       "      <td>0.000000</td>\n",
       "      <td>0.000000</td>\n",
       "      <td>0.000000</td>\n",
       "      <td>0.000000</td>\n",
       "      <td>0.000000</td>\n",
       "      <td>0.000000</td>\n",
       "      <td>0.000000</td>\n",
       "    </tr>\n",
       "    <tr>\n",
       "      <th>25%</th>\n",
       "      <td>0.000000</td>\n",
       "      <td>6.489989e-08</td>\n",
       "      <td>0.000000</td>\n",
       "      <td>0.000000</td>\n",
       "      <td>0.000000</td>\n",
       "      <td>0.000000</td>\n",
       "      <td>0.000000</td>\n",
       "      <td>0.000000</td>\n",
       "      <td>0.000000</td>\n",
       "      <td>0.000000</td>\n",
       "      <td>...</td>\n",
       "      <td>0.000000</td>\n",
       "      <td>0.000000</td>\n",
       "      <td>0.000000</td>\n",
       "      <td>0.000000</td>\n",
       "      <td>0.000000</td>\n",
       "      <td>0.000000</td>\n",
       "      <td>1.000000</td>\n",
       "      <td>0.000000</td>\n",
       "      <td>0.000000</td>\n",
       "      <td>1.000000</td>\n",
       "    </tr>\n",
       "    <tr>\n",
       "      <th>50%</th>\n",
       "      <td>0.000000</td>\n",
       "      <td>7.499542e-07</td>\n",
       "      <td>0.000000</td>\n",
       "      <td>0.000000</td>\n",
       "      <td>0.000000</td>\n",
       "      <td>0.000000</td>\n",
       "      <td>0.000000</td>\n",
       "      <td>0.000000</td>\n",
       "      <td>0.000000</td>\n",
       "      <td>0.000000</td>\n",
       "      <td>...</td>\n",
       "      <td>0.000000</td>\n",
       "      <td>0.000000</td>\n",
       "      <td>0.000000</td>\n",
       "      <td>0.000000</td>\n",
       "      <td>0.000000</td>\n",
       "      <td>0.000000</td>\n",
       "      <td>1.000000</td>\n",
       "      <td>0.000000</td>\n",
       "      <td>0.000000</td>\n",
       "      <td>1.000000</td>\n",
       "    </tr>\n",
       "    <tr>\n",
       "      <th>75%</th>\n",
       "      <td>0.000000</td>\n",
       "      <td>1.488371e-06</td>\n",
       "      <td>0.000000</td>\n",
       "      <td>0.000000</td>\n",
       "      <td>0.000000</td>\n",
       "      <td>0.000000</td>\n",
       "      <td>0.000000</td>\n",
       "      <td>0.000000</td>\n",
       "      <td>0.000000</td>\n",
       "      <td>0.000000</td>\n",
       "      <td>...</td>\n",
       "      <td>0.000000</td>\n",
       "      <td>0.000000</td>\n",
       "      <td>0.000000</td>\n",
       "      <td>0.000000</td>\n",
       "      <td>0.000000</td>\n",
       "      <td>0.000000</td>\n",
       "      <td>1.000000</td>\n",
       "      <td>0.000000</td>\n",
       "      <td>0.000000</td>\n",
       "      <td>1.000000</td>\n",
       "    </tr>\n",
       "    <tr>\n",
       "      <th>max</th>\n",
       "      <td>1.000000</td>\n",
       "      <td>1.000000e+00</td>\n",
       "      <td>1.000000</td>\n",
       "      <td>1.000000</td>\n",
       "      <td>1.000000</td>\n",
       "      <td>1.000000</td>\n",
       "      <td>1.000000</td>\n",
       "      <td>1.000000</td>\n",
       "      <td>1.000000</td>\n",
       "      <td>1.000000</td>\n",
       "      <td>...</td>\n",
       "      <td>1.000000</td>\n",
       "      <td>1.000000</td>\n",
       "      <td>1.000000</td>\n",
       "      <td>1.000000</td>\n",
       "      <td>1.000000</td>\n",
       "      <td>1.000000</td>\n",
       "      <td>1.000000</td>\n",
       "      <td>1.000000</td>\n",
       "      <td>1.000000</td>\n",
       "      <td>1.000000</td>\n",
       "    </tr>\n",
       "  </tbody>\n",
       "</table>\n",
       "<p>8 rows × 120 columns</p>\n",
       "</div>"
      ],
      "text/plain": [
       "            duration     src_bytes      dst_bytes           land  \\\n",
       "count  494021.000000  4.940210e+05  494021.000000  494021.000000   \n",
       "mean        0.000823  4.363595e-06       0.000168       0.000045   \n",
       "std         0.012134  1.425228e-03       0.006409       0.006673   \n",
       "min         0.000000  0.000000e+00       0.000000       0.000000   \n",
       "25%         0.000000  6.489989e-08       0.000000       0.000000   \n",
       "50%         0.000000  7.499542e-07       0.000000       0.000000   \n",
       "75%         0.000000  1.488371e-06       0.000000       0.000000   \n",
       "max         1.000000  1.000000e+00       1.000000       1.000000   \n",
       "\n",
       "       wrong_fragment         urgent            hot  num_failed_logins  \\\n",
       "count   494021.000000  494021.000000  494021.000000      494021.000000   \n",
       "mean         0.002144       0.000005       0.001151           0.000030   \n",
       "std          0.044935       0.001837       0.026070           0.003104   \n",
       "min          0.000000       0.000000       0.000000           0.000000   \n",
       "25%          0.000000       0.000000       0.000000           0.000000   \n",
       "50%          0.000000       0.000000       0.000000           0.000000   \n",
       "75%          0.000000       0.000000       0.000000           0.000000   \n",
       "max          1.000000       1.000000       1.000000           1.000000   \n",
       "\n",
       "           logged_in  num_compromised      ...          flag_RSTOS0  \\\n",
       "count  494021.000000    494021.000000      ...        494021.000000   \n",
       "mean        0.148247         0.000012      ...             0.000022   \n",
       "std         0.355345         0.002034      ...             0.004719   \n",
       "min         0.000000         0.000000      ...             0.000000   \n",
       "25%         0.000000         0.000000      ...             0.000000   \n",
       "50%         0.000000         0.000000      ...             0.000000   \n",
       "75%         0.000000         0.000000      ...             0.000000   \n",
       "max         1.000000         1.000000      ...             1.000000   \n",
       "\n",
       "           flag_RSTR        flag_S0        flag_S1        flag_S2  \\\n",
       "count  494021.000000  494021.000000  494021.000000  494021.000000   \n",
       "mean        0.001828       0.176120       0.000115       0.000049   \n",
       "std         0.042714       0.380923       0.010741       0.006970   \n",
       "min         0.000000       0.000000       0.000000       0.000000   \n",
       "25%         0.000000       0.000000       0.000000       0.000000   \n",
       "50%         0.000000       0.000000       0.000000       0.000000   \n",
       "75%         0.000000       0.000000       0.000000       0.000000   \n",
       "max         1.000000       1.000000       1.000000       1.000000   \n",
       "\n",
       "             flag_S3        flag_SF        flag_SH  label_anomaly  \\\n",
       "count  494021.000000  494021.000000  494021.000000  494021.000000   \n",
       "mean        0.000020       0.766040       0.000217       0.196911   \n",
       "std         0.004499       0.423347       0.014715       0.397665   \n",
       "min         0.000000       0.000000       0.000000       0.000000   \n",
       "25%         0.000000       1.000000       0.000000       0.000000   \n",
       "50%         0.000000       1.000000       0.000000       0.000000   \n",
       "75%         0.000000       1.000000       0.000000       0.000000   \n",
       "max         1.000000       1.000000       1.000000       1.000000   \n",
       "\n",
       "        label_normal  \n",
       "count  494021.000000  \n",
       "mean        0.803089  \n",
       "std         0.397665  \n",
       "min         0.000000  \n",
       "25%         1.000000  \n",
       "50%         1.000000  \n",
       "75%         1.000000  \n",
       "max         1.000000  \n",
       "\n",
       "[8 rows x 120 columns]"
      ]
     },
     "execution_count": 21,
     "metadata": {},
     "output_type": "execute_result"
    }
   ],
   "source": [
    "df_data.describe()"
   ]
  },
  {
   "cell_type": "code",
   "execution_count": 22,
   "metadata": {
    "scrolled": true
   },
   "outputs": [
    {
     "name": "stdout",
     "output_type": "stream",
     "text": [
      "column:0 min:0.000000 max:1.000000 std:0.012134\n",
      "column:1 min:0.000000 max:1.000000 std:0.001425\n",
      "column:2 min:0.000000 max:1.000000 std:0.006409\n",
      "column:3 min:0.000000 max:1.000000 std:0.006673\n",
      "column:4 min:0.000000 max:1.000000 std:0.044935\n",
      "column:5 min:0.000000 max:1.000000 std:0.001837\n",
      "column:6 min:0.000000 max:1.000000 std:0.026070\n",
      "column:7 min:0.000000 max:1.000000 std:0.003104\n",
      "column:8 min:0.000000 max:1.000000 std:0.355344\n",
      "column:9 min:0.000000 max:1.000000 std:0.002034\n",
      "column:10 min:0.000000 max:1.000000 std:0.010551\n",
      "column:11 min:0.000000 max:1.000000 std:0.003896\n",
      "column:12 min:0.000000 max:1.000000 std:0.002027\n",
      "column:13 min:0.000000 max:1.000000 std:0.003443\n",
      "column:14 min:0.000000 max:1.000000 std:0.005510\n",
      "column:15 min:0.000000 max:1.000000 std:0.004560\n",
      "column:16 min:0.000000 max:0.000000 std:0.000000\n",
      "column:17 min:0.000000 max:0.000000 std:0.000000\n",
      "column:18 min:0.000000 max:1.000000 std:0.037211\n",
      "column:19 min:0.000000 max:1.000000 std:0.417118\n",
      "column:20 min:0.000000 max:1.000000 std:0.482040\n",
      "column:21 min:0.000000 max:1.000000 std:0.380717\n",
      "column:22 min:0.000000 max:1.000000 std:0.381016\n",
      "column:23 min:0.000000 max:1.000000 std:0.231623\n",
      "column:24 min:0.000000 max:1.000000 std:0.232147\n",
      "column:25 min:0.000000 max:1.000000 std:0.388189\n",
      "column:26 min:0.000000 max:1.000000 std:0.082205\n",
      "column:27 min:0.000000 max:1.000000 std:0.142397\n",
      "column:28 min:0.000000 max:1.000000 std:0.253903\n",
      "column:29 min:0.000000 max:1.000000 std:0.415844\n",
      "column:30 min:0.000000 max:1.000000 std:0.410781\n",
      "column:31 min:0.000000 max:1.000000 std:0.109259\n",
      "column:32 min:0.000000 max:1.000000 std:0.481309\n",
      "column:33 min:0.000000 max:1.000000 std:0.042133\n",
      "column:34 min:0.000000 max:1.000000 std:0.380593\n",
      "column:35 min:0.000000 max:1.000000 std:0.380919\n",
      "column:36 min:0.000000 max:1.000000 std:0.230589\n",
      "column:37 min:0.000000 max:1.000000 std:0.230140\n",
      "column:38 min:0.000000 max:1.000000 std:0.494483\n",
      "column:39 min:0.000000 max:1.000000 std:0.486532\n",
      "column:40 min:0.000000 max:1.000000 std:0.198754\n",
      "column:41 min:0.000000 max:1.000000 std:0.009329\n",
      "column:42 min:0.000000 max:1.000000 std:0.004719\n",
      "column:43 min:0.000000 max:1.000000 std:0.013645\n",
      "column:44 min:0.000000 max:1.000000 std:0.025758\n",
      "column:45 min:0.000000 max:1.000000 std:0.014646\n",
      "column:46 min:0.000000 max:1.000000 std:0.014784\n",
      "column:47 min:0.000000 max:1.000000 std:0.015968\n",
      "column:48 min:0.000000 max:1.000000 std:0.014011\n",
      "column:49 min:0.000000 max:1.000000 std:0.014438\n",
      "column:50 min:0.000000 max:1.000000 std:0.015322\n",
      "column:51 min:0.000000 max:1.000000 std:0.015322\n",
      "column:52 min:0.000000 max:1.000000 std:0.108292\n",
      "column:53 min:0.000000 max:1.000000 std:0.015055\n",
      "column:54 min:0.000000 max:1.000000 std:0.057556\n",
      "column:55 min:0.000000 max:1.000000 std:0.495131\n",
      "column:56 min:0.000000 max:1.000000 std:0.014438\n",
      "column:57 min:0.000000 max:1.000000 std:0.014155\n",
      "column:58 min:0.000000 max:1.000000 std:0.036802\n",
      "column:59 min:0.000000 max:1.000000 std:0.040159\n",
      "column:60 min:0.000000 max:1.000000 std:0.097288\n",
      "column:61 min:0.000000 max:1.000000 std:0.015388\n",
      "column:62 min:0.000000 max:1.000000 std:0.014508\n",
      "column:63 min:0.000000 max:1.000000 std:0.336460\n",
      "column:64 min:0.000000 max:1.000000 std:0.014155\n",
      "column:65 min:0.000000 max:1.000000 std:0.015388\n",
      "column:66 min:0.000000 max:1.000000 std:0.015255\n",
      "column:67 min:0.000000 max:1.000000 std:0.014646\n",
      "column:68 min:0.000000 max:1.000000 std:0.014083\n",
      "column:69 min:0.000000 max:1.000000 std:0.014297\n",
      "column:70 min:0.000000 max:1.000000 std:0.014368\n",
      "column:71 min:0.000000 max:1.000000 std:0.014508\n",
      "column:72 min:0.000000 max:1.000000 std:0.014715\n",
      "column:73 min:0.000000 max:1.000000 std:0.014083\n",
      "column:74 min:0.000000 max:1.000000 std:0.014155\n",
      "column:75 min:0.000000 max:1.000000 std:0.014368\n",
      "column:76 min:0.000000 max:1.000000 std:0.014715\n",
      "column:77 min:0.000000 max:1.000000 std:0.013866\n",
      "column:78 min:0.000000 max:1.000000 std:0.014577\n",
      "column:79 min:0.000000 max:1.000000 std:0.014784\n",
      "column:80 min:0.000000 max:1.000000 std:0.027724\n",
      "column:81 min:0.000000 max:1.000000 std:0.120144\n",
      "column:82 min:0.000000 max:1.000000 std:0.001423\n",
      "column:83 min:0.000000 max:1.000000 std:0.014297\n",
      "column:84 min:0.000000 max:1.000000 std:0.020217\n",
      "column:85 min:0.000000 max:1.000000 std:0.014852\n",
      "column:86 min:0.000000 max:1.000000 std:0.417233\n",
      "column:87 min:0.000000 max:1.000000 std:0.001423\n",
      "column:88 min:0.000000 max:1.000000 std:0.015584\n",
      "column:89 min:0.000000 max:1.000000 std:0.014988\n",
      "column:90 min:0.000000 max:1.000000 std:0.015055\n",
      "column:91 min:0.000000 max:1.000000 std:0.138903\n",
      "column:92 min:0.000000 max:1.000000 std:0.014920\n",
      "column:93 min:0.000000 max:1.000000 std:0.014577\n",
      "column:94 min:0.000000 max:1.000000 std:0.014715\n",
      "column:95 min:0.000000 max:1.000000 std:0.014577\n",
      "column:96 min:0.000000 max:1.000000 std:0.015255\n",
      "column:97 min:0.000000 max:1.000000 std:0.032208\n",
      "column:98 min:0.000000 max:1.000000 std:0.001423\n",
      "column:99 min:0.000000 max:1.000000 std:0.003764\n",
      "column:100 min:0.000000 max:1.000000 std:0.017824\n",
      "column:101 min:0.000000 max:1.000000 std:0.005323\n",
      "column:102 min:0.000000 max:1.000000 std:0.032982\n",
      "column:103 min:0.000000 max:1.000000 std:0.014646\n",
      "column:104 min:0.000000 max:1.000000 std:0.014646\n",
      "column:105 min:0.000000 max:1.000000 std:0.014646\n",
      "column:106 min:0.000000 max:1.000000 std:0.014920\n",
      "column:107 min:0.000000 max:1.000000 std:0.004024\n",
      "column:108 min:0.000000 max:1.000000 std:0.226806\n",
      "column:109 min:0.000000 max:1.000000 std:0.034215\n",
      "column:110 min:0.000000 max:1.000000 std:0.004719\n",
      "column:111 min:0.000000 max:1.000000 std:0.042714\n",
      "column:112 min:0.000000 max:1.000000 std:0.380922\n",
      "column:113 min:0.000000 max:1.000000 std:0.010741\n",
      "column:114 min:0.000000 max:1.000000 std:0.006970\n",
      "column:115 min:0.000000 max:1.000000 std:0.004499\n",
      "column:116 min:0.000000 max:1.000000 std:0.423347\n",
      "column:117 min:0.000000 max:1.000000 std:0.014715\n",
      "column:118 min:0.000000 max:1.000000 std:0.397664\n",
      "column:119 min:0.000000 max:1.000000 std:0.397664\n"
     ]
    }
   ],
   "source": [
    "### check again\n",
    "\n",
    "checkStats(df_data)"
   ]
  },
  {
   "cell_type": "code",
   "execution_count": 23,
   "metadata": {},
   "outputs": [
    {
     "name": "stdout",
     "output_type": "stream",
     "text": [
      "False\n",
      "False\n"
     ]
    }
   ],
   "source": [
    "## check integrity of the data again\n",
    "\n",
    "print(df_data.isnull().values.any())\n",
    "\n",
    "print(df_data.isna().values.any())"
   ]
  },
  {
   "cell_type": "code",
   "execution_count": 24,
   "metadata": {
    "scrolled": true
   },
   "outputs": [
    {
     "name": "stdout",
     "output_type": "stream",
     "text": [
      "740    0\n",
      "741    0\n",
      "742    0\n",
      "743    0\n",
      "744    1\n",
      "745    1\n",
      "746    0\n",
      "747    0\n",
      "748    0\n",
      "749    0\n",
      "Name: label_normal, dtype: uint8\n",
      "740    1\n",
      "741    1\n",
      "742    1\n",
      "743    1\n",
      "744    0\n",
      "745    0\n",
      "746    1\n",
      "747    1\n",
      "748    1\n",
      "749    1\n",
      "Name: label_anomaly, dtype: uint8\n",
      "740             normal.\n",
      "741             normal.\n",
      "742             normal.\n",
      "743             normal.\n",
      "744    buffer_overflow.\n",
      "745    buffer_overflow.\n",
      "746             normal.\n",
      "747             normal.\n",
      "748             normal.\n",
      "749             normal.\n",
      "Name: labels, dtype: object\n"
     ]
    }
   ],
   "source": [
    "### check again\n",
    "print(df_data.iloc[740:750, -1])\n",
    "\n",
    "print(df_data.iloc[740:750, -2])\n",
    "\n",
    "print(df_labels.iloc[740:750, -1])"
   ]
  },
  {
   "cell_type": "markdown",
   "metadata": {},
   "source": [
    "### Save dataset"
   ]
  },
  {
   "cell_type": "code",
   "execution_count": 25,
   "metadata": {},
   "outputs": [],
   "source": [
    "dataset = df_data.values"
   ]
  },
  {
   "cell_type": "code",
   "execution_count": 26,
   "metadata": {},
   "outputs": [
    {
     "data": {
      "text/plain": [
       "(494021, 120)"
      ]
     },
     "execution_count": 26,
     "metadata": {},
     "output_type": "execute_result"
    }
   ],
   "source": [
    "dataset.shape"
   ]
  },
  {
   "cell_type": "code",
   "execution_count": 29,
   "metadata": {},
   "outputs": [],
   "source": [
    "np.savez_compressed(\"../../datasets/kddcup/kdd99_dataset.npz\", dataset=dataset)"
   ]
  },
  {
   "cell_type": "markdown",
   "metadata": {},
   "source": [
    "### Produce train and test splits"
   ]
  },
  {
   "cell_type": "code",
   "execution_count": 55,
   "metadata": {},
   "outputs": [],
   "source": [
    "random_state = None"
   ]
  },
  {
   "cell_type": "code",
   "execution_count": 56,
   "metadata": {},
   "outputs": [],
   "source": [
    "from sklearn.model_selection import train_test_split\n",
    "\n",
    "x_train, x_test = train_test_split(dataset, test_size=0.5, random_state=random_state)"
   ]
  },
  {
   "cell_type": "code",
   "execution_count": 57,
   "metadata": {},
   "outputs": [
    {
     "data": {
      "text/plain": [
       "(247010, 120)"
      ]
     },
     "execution_count": 57,
     "metadata": {},
     "output_type": "execute_result"
    }
   ],
   "source": [
    "x_train.shape"
   ]
  },
  {
   "cell_type": "code",
   "execution_count": 58,
   "metadata": {},
   "outputs": [
    {
     "data": {
      "text/plain": [
       "(247011, 120)"
      ]
     },
     "execution_count": 58,
     "metadata": {},
     "output_type": "execute_result"
    }
   ],
   "source": [
    "x_test.shape"
   ]
  },
  {
   "cell_type": "markdown",
   "metadata": {},
   "source": [
    "-  Normal class is anomaly (attack) in this case, because non-attack rows are minority"
   ]
  },
  {
   "cell_type": "code",
   "execution_count": 59,
   "metadata": {},
   "outputs": [],
   "source": [
    "x_train_normal = x_train[np.where(x_train[:,-1] == 1)]   ##last column is the normal column\n",
    "x_train_anomaly = x_train[np.where(x_train[:,-1] == 0)]   "
   ]
  },
  {
   "cell_type": "code",
   "execution_count": 60,
   "metadata": {},
   "outputs": [
    {
     "data": {
      "text/plain": [
       "(198377, 120)"
      ]
     },
     "execution_count": 60,
     "metadata": {},
     "output_type": "execute_result"
    }
   ],
   "source": [
    "x_train_normal.shape"
   ]
  },
  {
   "cell_type": "code",
   "execution_count": 61,
   "metadata": {},
   "outputs": [
    {
     "data": {
      "text/plain": [
       "(48633, 120)"
      ]
     },
     "execution_count": 61,
     "metadata": {},
     "output_type": "execute_result"
    }
   ],
   "source": [
    "x_train_anomaly.shape   "
   ]
  },
  {
   "cell_type": "code",
   "execution_count": 62,
   "metadata": {},
   "outputs": [],
   "source": [
    "x_train = x_train_normal"
   ]
  },
  {
   "cell_type": "markdown",
   "metadata": {},
   "source": [
    "- x_train consist of \"normal\" values"
   ]
  },
  {
   "cell_type": "code",
   "execution_count": 63,
   "metadata": {},
   "outputs": [
    {
     "data": {
      "text/plain": [
       "(198377, 120)"
      ]
     },
     "execution_count": 63,
     "metadata": {},
     "output_type": "execute_result"
    }
   ],
   "source": [
    "x_train.shape"
   ]
  },
  {
   "cell_type": "code",
   "execution_count": 64,
   "metadata": {},
   "outputs": [
    {
     "data": {
      "text/plain": [
       "(247011, 120)"
      ]
     },
     "execution_count": 64,
     "metadata": {},
     "output_type": "execute_result"
    }
   ],
   "source": [
    "x_test.shape"
   ]
  },
  {
   "cell_type": "markdown",
   "metadata": {},
   "source": [
    "- Assign arbitrary output as labels"
   ]
  },
  {
   "cell_type": "code",
   "execution_count": 66,
   "metadata": {},
   "outputs": [
    {
     "data": {
      "text/plain": [
       "(198377, 4)"
      ]
     },
     "execution_count": 66,
     "metadata": {},
     "output_type": "execute_result"
    }
   ],
   "source": [
    "y_train = np.zeros((len(x_train),4))\n",
    "y_train[:,0] = 1\n",
    "y_train.shape"
   ]
  },
  {
   "cell_type": "code",
   "execution_count": 70,
   "metadata": {},
   "outputs": [],
   "source": [
    "train_name = \"kdd99_train-randomState_\"+str(random_state)+\".npz\"\n",
    "test_name = \"kdd99_test-randomState_\"+str(random_state)+\".npz\"\n",
    "\n",
    "np.savez_compressed(train_name, x_train=x_train, y_train=y_train)\n",
    "np.savez_compressed(test_name, x_test=x_test)"
   ]
  }
 ],
 "metadata": {
  "kernelspec": {
   "display_name": "Python 3",
   "language": "python",
   "name": "python3"
  },
  "language_info": {
   "codemirror_mode": {
    "name": "ipython",
    "version": 3
   },
   "file_extension": ".py",
   "mimetype": "text/x-python",
   "name": "python",
   "nbconvert_exporter": "python",
   "pygments_lexer": "ipython3",
   "version": "3.6.4"
  }
 },
 "nbformat": 4,
 "nbformat_minor": 2
}
