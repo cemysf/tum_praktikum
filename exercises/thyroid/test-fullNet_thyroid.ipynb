{
 "cells": [
  {
   "cell_type": "markdown",
   "metadata": {},
   "source": [
    "### Test the trained network"
   ]
  },
  {
   "cell_type": "code",
   "execution_count": 108,
   "metadata": {},
   "outputs": [],
   "source": [
    "from keras.layers import Input, Dense, Activation, Lambda, Dropout, Concatenate, Reshape\n",
    "from keras.models import Model, Sequential\n",
    "from keras.callbacks import TensorBoard, Callback\n",
    "from keras import optimizers\n",
    "from keras import backend as K\n",
    "\n",
    "import tensorflow as tf\n",
    "\n",
    "from keras.regularizers import l2\n",
    "\n",
    "\n",
    "### Hyperparameters\n",
    "batch_size = 1 \n",
    "k = 2\n",
    "d = 3\n"
   ]
  },
  {
   "cell_type": "markdown",
   "metadata": {},
   "source": [
    "- Network to load"
   ]
  },
  {
   "cell_type": "code",
   "execution_count": 110,
   "metadata": {},
   "outputs": [],
   "source": [
    "timestamp = \"2018-07-28_14:39\"\n",
    "\n",
    "epoch = 200"
   ]
  },
  {
   "cell_type": "markdown",
   "metadata": {},
   "source": [
    "- Load gmm params"
   ]
  },
  {
   "cell_type": "code",
   "execution_count": 111,
   "metadata": {},
   "outputs": [],
   "source": [
    "import numpy as np"
   ]
  },
  {
   "cell_type": "code",
   "execution_count": 112,
   "metadata": {},
   "outputs": [],
   "source": [
    "filename=timestamp + \"-gmmParams.npz\"\n",
    "\n",
    "with np.load(filename) as data:\n",
    "    phi = data[\"phi\"]\n",
    "    mu = data[\"mu\"]\n",
    "    sigma = data[\"sigma\"]\n",
    "    "
   ]
  },
  {
   "cell_type": "code",
   "execution_count": 113,
   "metadata": {},
   "outputs": [],
   "source": [
    "phi = K.constant(phi)\n",
    "mu = K.constant(mu)\n",
    "sigma = K.constant(sigma)"
   ]
  },
  {
   "cell_type": "code",
   "execution_count": 114,
   "metadata": {},
   "outputs": [
    {
     "data": {
      "text/plain": [
       "array([0.4994552 , 0.50054485], dtype=float32)"
      ]
     },
     "execution_count": 114,
     "metadata": {},
     "output_type": "execute_result"
    }
   ],
   "source": [
    "K.eval(phi)"
   ]
  },
  {
   "cell_type": "code",
   "execution_count": 115,
   "metadata": {},
   "outputs": [
    {
     "data": {
      "text/plain": [
       "array([[1.410799 , 1.410799 , 1.410799 ],\n",
       "       [1.4095881, 1.4095881, 1.4095881]], dtype=float32)"
      ]
     },
     "execution_count": 115,
     "metadata": {},
     "output_type": "execute_result"
    }
   ],
   "source": [
    "K.eval(mu)"
   ]
  },
  {
   "cell_type": "code",
   "execution_count": 116,
   "metadata": {},
   "outputs": [
    {
     "data": {
      "text/plain": [
       "array([[[2.0660095 , 1.004974  , 0.98583096],\n",
       "        [1.004974  , 0.4976533 , 0.47199622],\n",
       "        [0.98583096, 0.47199622, 0.4769822 ]],\n",
       "\n",
       "       [[2.063212  , 1.0108837 , 0.97651047],\n",
       "        [1.0108837 , 0.5045837 , 0.47049367],\n",
       "        [0.97651047, 0.47049367, 0.469099  ]]], dtype=float32)"
      ]
     },
     "execution_count": 116,
     "metadata": {},
     "output_type": "execute_result"
    }
   ],
   "source": [
    "K.eval(sigma)"
   ]
  },
  {
   "cell_type": "markdown",
   "metadata": {},
   "source": [
    "- Plot loss history"
   ]
  },
  {
   "cell_type": "code",
   "execution_count": 117,
   "metadata": {},
   "outputs": [],
   "source": [
    "%matplotlib inline\n",
    "import matplotlib.pyplot as plt"
   ]
  },
  {
   "cell_type": "code",
   "execution_count": 118,
   "metadata": {},
   "outputs": [],
   "source": [
    "from pylab import rcParams\n",
    "rcParams['figure.figsize'] = 12, 8"
   ]
  },
  {
   "cell_type": "code",
   "execution_count": 119,
   "metadata": {},
   "outputs": [],
   "source": [
    "def plotHistory(loss_array, save=False, savename=timestamp+\"-lossGraph.png\"):\n",
    "    fig = plt.figure()\n",
    "    ax = fig.add_subplot(111)    # The big subplot\n",
    "    ax.set_title(\"Loss graph for end-to-end training\")\n",
    "\n",
    "    ax.set_xlabel('epochs')\n",
    "    ax.set_ylabel('loss')\n",
    "    ax.plot(loss_array)\n",
    "    \n",
    "    if save:\n",
    "        plt.savefig(savename)"
   ]
  },
  {
   "cell_type": "code",
   "execution_count": 120,
   "metadata": {},
   "outputs": [],
   "source": [
    "filename = timestamp + \"-history.npz\"\n",
    "with np.load(filename) as data:\n",
    "    history = data[\"history\"]\n",
    "\n",
    "history = history.ravel()[0][\"loss\"]"
   ]
  },
  {
   "cell_type": "code",
   "execution_count": 121,
   "metadata": {
    "scrolled": false
   },
   "outputs": [
    {
     "data": {
      "image/png": "[encoded data removed]",
      "text/plain": [
       "<matplotlib.figure.Figure at 0x18252c50f0>"
      ]
     },
     "metadata": {},
     "output_type": "display_data"
    }
   ],
   "source": [
    "plotHistory(history, save=True)"
   ]
  },
  {
   "cell_type": "markdown",
   "metadata": {},
   "source": [
    "- Network definition for testing"
   ]
  },
  {
   "cell_type": "code",
   "execution_count": 123,
   "metadata": {
    "scrolled": true
   },
   "outputs": [
    {
     "name": "stdout",
     "output_type": "stream",
     "text": [
      "__________________________________________________________________________________________________\n",
      "Layer (type)                    Output Shape         Param #     Connected to                     \n",
      "==================================================================================================\n",
      "input_placeholder (InputLayer)  (1, 21)              0                                            \n",
      "__________________________________________________________________________________________________\n",
      "dense_24 (Dense)                (1, 18)              396         input_placeholder[0][0]          \n",
      "__________________________________________________________________________________________________\n",
      "dense_25 (Dense)                (1, 12)              228         dense_24[0][0]                   \n",
      "__________________________________________________________________________________________________\n",
      "dense_26 (Dense)                (1, 4)               52          dense_25[0][0]                   \n",
      "__________________________________________________________________________________________________\n",
      "lowdim (Dense)                  (1, 1)               5           dense_26[0][0]                   \n",
      "__________________________________________________________________________________________________\n",
      "dense_27 (Dense)                (1, 4)               8           lowdim[0][0]                     \n",
      "__________________________________________________________________________________________________\n",
      "dense_28 (Dense)                (1, 12)              60          dense_27[0][0]                   \n",
      "__________________________________________________________________________________________________\n",
      "dense_29 (Dense)                (1, 18)              234         dense_28[0][0]                   \n",
      "__________________________________________________________________________________________________\n",
      "dense_30 (Dense)                (1, 21)              399         dense_29[0][0]                   \n",
      "__________________________________________________________________________________________________\n",
      "cos_sim (Lambda)                (1, 1)               0           input_placeholder[0][0]          \n",
      "                                                                 dense_30[0][0]                   \n",
      "__________________________________________________________________________________________________\n",
      "relative_euc_dist (Lambda)      (1, 1)               0           input_placeholder[0][0]          \n",
      "                                                                 dense_30[0][0]                   \n",
      "__________________________________________________________________________________________________\n",
      "z (Lambda)                      (1, 3)               0           lowdim[0][0]                     \n",
      "                                                                 cos_sim[0][0]                    \n",
      "                                                                 relative_euc_dist[0][0]          \n",
      "__________________________________________________________________________________________________\n",
      "sample_energy (Lambda)          ()                   0           z[0][0]                          \n",
      "==================================================================================================\n",
      "Total params: 1,382\n",
      "Trainable params: 1,382\n",
      "Non-trainable params: 0\n",
      "__________________________________________________________________________________________________\n"
     ]
    },
    {
     "name": "stderr",
     "output_type": "stream",
     "text": [
      "/Users/jyotirmaysenapati/anaconda3/lib/python3.6/site-packages/ipykernel_launcher.py:107: UserWarning: Update your `Model` call to the Keras 2 API: `Model(outputs=Tensor(\"sa..., inputs=Tensor(\"in...)`\n"
     ]
    }
   ],
   "source": [
    "### Define compresion network\n",
    "\n",
    "input_data = Input(batch_shape=(batch_size,21), name='input_placeholder')\n",
    "\n",
    "encoded = Dense(18, activation='tanh', kernel_regularizer=l2(0.00001), bias_regularizer=l2(0.00001))(input_data)\n",
    "encoded = Dense(12, activation='tanh', kernel_regularizer=l2(0.00001), bias_regularizer=l2(0.00001))(encoded)\n",
    "encoded = Dense(4, activation='tanh', kernel_regularizer=l2(0.00001), bias_regularizer=l2(0.00001))(encoded)\n",
    "# encoded = Dense(1, activation='tanh', kernel_regularizer=l2(0.00001), bias_regularizer=l2(0.00001))(encoded)\n",
    "\n",
    "layer_lowdim = Dense(1, activation='linear', kernel_regularizer=l2(0.00001), bias_regularizer=l2(0.00001), name='lowdim')(encoded)\n",
    "\n",
    "decoded = Dense(4, activation='tanh', kernel_regularizer=l2(0.00001), bias_regularizer=l2(0.00001))(layer_lowdim)\n",
    "decoded = Dense(12, activation='tanh', kernel_regularizer=l2(0.00001), bias_regularizer=l2(0.00001))(decoded)\n",
    "decoded = Dense(18, activation='tanh', kernel_regularizer=l2(0.00001), bias_regularizer=l2(0.00001))(decoded)\n",
    "decoded = Dense(21, activation='tanh', kernel_regularizer=l2(0.00001), bias_regularizer=l2(0.00001))(decoded)\n",
    "# decoded = Dense(120, activation='linear', kernel_regularizer=l2(0.00001), bias_regularizer=l2(0.00001), name='reconstructed')(decoded)\n",
    "\n",
    "\n",
    "\n",
    "\n",
    "\n",
    "### Define similarity metrics\n",
    "\n",
    "def cos_sim(a_b):\n",
    "    '''\n",
    "    a: batch x 120\n",
    "    b: batch x 120 \n",
    "    \n",
    "    output: batch x 1\n",
    "    '''\n",
    "    a, b = a_b\n",
    "    \n",
    "    norm_a = K.sqrt(K.sum(a ** 2, axis=-1))\n",
    "    norm_b = K.sqrt(K.sum(b ** 2, axis=-1))\n",
    "    \n",
    "    out = K.sum(a * b, axis=-1) / (norm_a * norm_b)\n",
    "    out = K.reshape(out, [batch_size, 1])\n",
    "    \n",
    "    return out\n",
    "\n",
    "def relative_euc_dist(a_b):\n",
    "    '''\n",
    "    a: batch x 120\n",
    "    b: batch x 120 \n",
    "    \n",
    "    output: batch x 1\n",
    "    '''\n",
    "    a,b = a_b\n",
    "    \n",
    "    norm_diff = K.sqrt(K.sum((a - b)**2, axis=-1))\n",
    "    norm_a = K.sqrt(K.sum(a ** 2, axis=-1))\n",
    "    \n",
    "    out = norm_diff / norm_a\n",
    "    out = K.reshape(out, [batch_size, 1])\n",
    "\n",
    "    return out\n",
    "\n",
    "layer_cossim = Lambda(cos_sim,\n",
    "                      name='cos_sim')([input_data, decoded])\n",
    "\n",
    "layer_relativeEuc = Lambda(relative_euc_dist, \n",
    "                           name='relative_euc_dist')([input_data, decoded])\n",
    "\n",
    "### Obtain \"z\"\n",
    "def funct_concat(tensors):\n",
    "    return K.concatenate(tensors)\n",
    "\n",
    "layer_concat = Lambda(funct_concat, name=\"z\")([layer_lowdim, layer_cossim, layer_relativeEuc])\n",
    "\n",
    "\n",
    "### Sample energy as a lambda function at the end\n",
    "def computeEnergy(z_i):\n",
    "    inside_sum = tf.zeros(()) \n",
    "    for cluster in range(k):\n",
    "        diff = tf.reshape(z_i - mu[cluster], (1,-1))   ### (1,3)\n",
    "        diff_t = tf.reshape(diff, (-1,1)) #diff.reshape(-1,1)   ### (3,1)\n",
    "\n",
    "        sigma_inv = tf.linalg.inv(sigma[cluster]) ### (3,3)\n",
    "        \n",
    "        exp_term = tf.exp(-0.5 * tf.matmul(diff, tf.matmul(sigma_inv, diff_t)))    ### (1,1)\n",
    "\n",
    "        denom = tf.sqrt(tf.linalg.det(2 * np.pi * sigma[cluster]))\n",
    "        \n",
    "        inside_sum += phi[cluster] * (exp_term / denom)   ### (1,1)\n",
    "        \n",
    "        \n",
    "    inside_sum = tf.reshape(inside_sum, ())\n",
    "    \n",
    "    sample_energy = -tf.log(inside_sum + 1e-6) \n",
    "    \n",
    "    \n",
    "    return sample_energy\n",
    "\n",
    "def energyCalc(yTrue, yPred):\n",
    "    \n",
    "    z = layer_concat\n",
    "\n",
    "    return computeEnergy(z)\n",
    "\n",
    "\n",
    "layer_energy = Lambda(computeEnergy,\n",
    "                      name='sample_energy')([layer_concat])\n",
    "\n",
    "\n",
    "\n",
    "\n",
    "eval_net = Model(input=input_data, outputs=layer_energy)\n",
    "\n",
    "eval_net.summary()"
   ]
  },
  {
   "cell_type": "markdown",
   "metadata": {},
   "source": [
    "- Load trained weights"
   ]
  },
  {
   "cell_type": "code",
   "execution_count": 124,
   "metadata": {
    "scrolled": true
   },
   "outputs": [],
   "source": [
    "filename = timestamp + \"-modelsave_weights-epochs{}.h5\".format(epoch)\n",
    "eval_net.load_weights(filename, by_name=True)"
   ]
  },
  {
   "cell_type": "markdown",
   "metadata": {},
   "source": [
    "- Load dataset"
   ]
  },
  {
   "cell_type": "code",
   "execution_count": 125,
   "metadata": {},
   "outputs": [],
   "source": [
    "import numpy as np"
   ]
  },
  {
   "cell_type": "code",
   "execution_count": 126,
   "metadata": {},
   "outputs": [
    {
     "name": "stdout",
     "output_type": "stream",
     "text": [
      "[[0.66666667 1.         0.         ... 0.26516573 0.         1.        ]\n",
      " [0.52083333 0.         0.         ... 0.17748593 0.         1.        ]\n",
      " [0.54166667 0.         0.         ... 0.1713571  0.         1.        ]\n",
      " ...\n",
      " [0.29166667 0.         0.         ... 0.12914321 0.         1.        ]\n",
      " [0.57291667 1.         0.         ... 0.14790494 0.         1.        ]\n",
      " [0.30208333 1.         0.         ... 0.15415885 0.         1.        ]]\n"
     ]
    }
   ],
   "source": [
    "with np.load('thyroid_test-randomState_None.npz') as data:  ### kdd99_test\n",
    "    x_test = data['x_test']\n",
    "#     x_test = x_test[:, 0:6]\n",
    "\n",
    "print(x_test)\n",
    "# print(y_test)"
   ]
  },
  {
   "cell_type": "code",
   "execution_count": 127,
   "metadata": {},
   "outputs": [],
   "source": [
    "normal_data = x_test[np.where(x_test[:,-1] == 1)]"
   ]
  },
  {
   "cell_type": "code",
   "execution_count": 128,
   "metadata": {},
   "outputs": [],
   "source": [
    "anomaly_data = x_test[np.where(x_test[:,-1] == 0)]"
   ]
  },
  {
   "cell_type": "code",
   "execution_count": 129,
   "metadata": {},
   "outputs": [
    {
     "data": {
      "text/plain": [
       "(3297, 21)"
      ]
     },
     "execution_count": 129,
     "metadata": {},
     "output_type": "execute_result"
    }
   ],
   "source": [
    "normal_data = normal_data[:, 0:21]\n",
    "normal_data.shape"
   ]
  },
  {
   "cell_type": "code",
   "execution_count": 131,
   "metadata": {
    "scrolled": true
   },
   "outputs": [
    {
     "data": {
      "text/plain": [
       "(130, 21)"
      ]
     },
     "execution_count": 131,
     "metadata": {},
     "output_type": "execute_result"
    }
   ],
   "source": [
    "anomaly_data = anomaly_data[:, 0:21]\n",
    "anomaly_data.shape\n"
   ]
  },
  {
   "cell_type": "markdown",
   "metadata": {},
   "source": [
    "### Obtain sample energies"
   ]
  },
  {
   "cell_type": "markdown",
   "metadata": {},
   "source": [
    "- Energies from normal class"
   ]
  },
  {
   "cell_type": "code",
   "execution_count": 132,
   "metadata": {
    "scrolled": false
   },
   "outputs": [
    {
     "name": "stdout",
     "output_type": "stream",
     "text": [
      "3297/3297 [==============================] - 2s 593us/step\n"
     ]
    }
   ],
   "source": [
    "energies_normal = eval_net.predict(normal_data, batch_size=1, verbose=1)  "
   ]
  },
  {
   "cell_type": "code",
   "execution_count": 133,
   "metadata": {},
   "outputs": [
    {
     "data": {
      "text/plain": [
       "array([13.815511, 13.815511, 13.815511, ..., 13.815511, 13.815511,\n",
       "       13.815511], dtype=float32)"
      ]
     },
     "execution_count": 133,
     "metadata": {},
     "output_type": "execute_result"
    }
   ],
   "source": [
    "energies_normal"
   ]
  },
  {
   "cell_type": "code",
   "execution_count": 134,
   "metadata": {},
   "outputs": [
    {
     "data": {
      "text/plain": [
       "1.5012395"
      ]
     },
     "execution_count": 134,
     "metadata": {},
     "output_type": "execute_result"
    }
   ],
   "source": [
    "energies_normal.min()"
   ]
  },
  {
   "cell_type": "code",
   "execution_count": 135,
   "metadata": {},
   "outputs": [
    {
     "data": {
      "text/plain": [
       "13.815511"
      ]
     },
     "execution_count": 135,
     "metadata": {},
     "output_type": "execute_result"
    }
   ],
   "source": [
    "energies_normal.max()"
   ]
  },
  {
   "cell_type": "code",
   "execution_count": 136,
   "metadata": {},
   "outputs": [],
   "source": [
    "hist_bins = 500"
   ]
  },
  {
   "cell_type": "code",
   "execution_count": 137,
   "metadata": {},
   "outputs": [
    {
     "data": {
      "image/png": "[encoded data removed]",
      "text/plain": [
       "<matplotlib.figure.Figure at 0x1825064828>"
      ]
     },
     "metadata": {},
     "output_type": "display_data"
    }
   ],
   "source": [
    "plt.hist(energies_normal, bins=hist_bins, log=True)\n",
    "\n",
    "plt.title(\"Sample energies for \\\"normal\\\" class\")\n",
    "plt.xlabel(\"energy\")\n",
    "plt.ylabel(\"counts\")\n",
    "plt.tight_layout()\n",
    "\n",
    "filename = timestamp + \"-normalHist_bins{}.png\".format(hist_bins)\n",
    "plt.savefig(filename)"
   ]
  },
  {
   "cell_type": "markdown",
   "metadata": {},
   "source": [
    "- Energies from anomaly class"
   ]
  },
  {
   "cell_type": "code",
   "execution_count": 139,
   "metadata": {},
   "outputs": [
    {
     "name": "stdout",
     "output_type": "stream",
     "text": [
      "130/130 [==============================] - 0s 607us/step\n"
     ]
    }
   ],
   "source": [
    "\n",
    "energies_anomaly = eval_net.predict(anomaly_data, batch_size=1, verbose=1)  "
   ]
  },
  {
   "cell_type": "code",
   "execution_count": 140,
   "metadata": {},
   "outputs": [
    {
     "data": {
      "text/plain": [
       "array([13.815511, 13.815511, 13.815511, 13.815511, 13.815511, 13.815511,\n",
       "       13.815511, 13.815511, 13.815511, 13.815511, 13.815511, 13.815511,\n",
       "       13.815511, 13.815511, 13.815511, 13.815511, 13.815511, 13.815511,\n",
       "       13.815511, 12.745616, 13.815511, 13.815511, 13.815511, 13.815511,\n",
       "       13.815511, 13.815511, 13.815511, 13.815511, 13.815511, 13.815511,\n",
       "       13.815511, 13.815511, 13.815511, 13.815511, 13.815511, 13.815511,\n",
       "       13.815511, 13.815511, 13.815511, 13.815511, 13.815511, 13.815511,\n",
       "       13.815511, 13.815511, 13.815511, 13.815511, 13.815511, 13.815511,\n",
       "       13.815511, 13.815511, 13.815511, 13.815511, 13.815511, 13.815511,\n",
       "       13.815511, 13.815511, 13.815511, 13.815511, 13.815511, 13.815511,\n",
       "       13.815511, 13.815511, 13.815511, 13.815511, 13.815511, 13.815511,\n",
       "       13.815511, 13.815511, 13.815511, 13.815511, 13.815511, 13.815511,\n",
       "       13.815511, 13.815511, 13.815511, 13.815511, 13.815511, 13.815511,\n",
       "       13.815511, 13.815511, 13.815511, 13.815511, 13.815511, 13.815511,\n",
       "       13.815511, 13.815511, 13.815511, 13.815511, 13.815511, 13.815511,\n",
       "       13.815511, 13.815511, 13.815511, 13.815511, 13.815511, 13.815511,\n",
       "       13.815511, 13.815511, 13.815511, 13.815511, 13.815511, 13.815511,\n",
       "       13.815511, 13.815511, 13.815511, 13.815511, 13.815511, 13.815511,\n",
       "       13.815511, 13.815511, 13.815511, 13.815511, 13.815511, 13.815511,\n",
       "       13.815511, 13.815511, 13.815511, 13.815511, 13.815511, 13.815511,\n",
       "       13.815511, 13.815511, 13.815511, 13.815511, 13.815511, 13.815511,\n",
       "       13.815511, 13.815511, 13.815511, 13.815511], dtype=float32)"
      ]
     },
     "execution_count": 140,
     "metadata": {},
     "output_type": "execute_result"
    }
   ],
   "source": [
    "energies_anomaly"
   ]
  },
  {
   "cell_type": "code",
   "execution_count": 141,
   "metadata": {},
   "outputs": [
    {
     "data": {
      "text/plain": [
       "12.745616"
      ]
     },
     "execution_count": 141,
     "metadata": {},
     "output_type": "execute_result"
    }
   ],
   "source": [
    "energies_anomaly.min()"
   ]
  },
  {
   "cell_type": "code",
   "execution_count": 142,
   "metadata": {},
   "outputs": [
    {
     "data": {
      "text/plain": [
       "13.815511"
      ]
     },
     "execution_count": 142,
     "metadata": {},
     "output_type": "execute_result"
    }
   ],
   "source": [
    "energies_anomaly.max()"
   ]
  },
  {
   "cell_type": "code",
   "execution_count": 143,
   "metadata": {},
   "outputs": [],
   "source": [
    "plt.hist?"
   ]
  },
  {
   "cell_type": "code",
   "execution_count": 144,
   "metadata": {},
   "outputs": [
    {
     "data": {
      "image/png": "[encoded data removed]",
      "text/plain": [
       "<matplotlib.figure.Figure at 0x1826ce4c18>"
      ]
     },
     "metadata": {},
     "output_type": "display_data"
    }
   ],
   "source": [
    "plt.hist(energies_anomaly, bins=hist_bins, color=\"red\", log=True)\n",
    "\n",
    "plt.title(\"Sample energies for \\\"anomaly\\\" class\")\n",
    "plt.xlabel(\"energy\")\n",
    "plt.ylabel(\"counts\")\n",
    "plt.tight_layout()\n",
    "\n",
    "filename = timestamp + \"-anomalyHist_bins{}.png\".format(hist_bins)\n",
    "plt.savefig(filename)"
   ]
  },
  {
   "cell_type": "code",
   "execution_count": 145,
   "metadata": {
    "scrolled": false
   },
   "outputs": [
    {
     "data": {
      "image/png": "[encoded data removed]",
      "text/plain": [
       "<matplotlib.figure.Figure at 0x1827340c50>"
      ]
     },
     "metadata": {},
     "output_type": "display_data"
    }
   ],
   "source": [
    "hist_bins = 120\n",
    "\n",
    "plt.hist((energies_normal, energies_anomaly), \n",
    "         bins=hist_bins, \n",
    "         color=[\"blue\", \"red\"], \n",
    "         histtype=\"bar\", \n",
    "         label=[\"normal\", \"anomaly\"], \n",
    "         rwidth=1.0,\n",
    "         stacked=False,\n",
    "         log=True)\n",
    "\n",
    "plt.title(\"Sample energies\")\n",
    "plt.xlabel(\"energy\")\n",
    "plt.ylabel(\"counts\")\n",
    "plt.tight_layout()\n",
    "\n",
    "filename = timestamp + \"-allHist_bins{}.png\".format(hist_bins)\n",
    "plt.savefig(filename)\n"
   ]
  },
  {
   "cell_type": "markdown",
   "metadata": {},
   "source": [
    "### Find the threshold for classifying as anomaly: \"top %20 of highest energy\""
   ]
  },
  {
   "cell_type": "code",
   "execution_count": 146,
   "metadata": {},
   "outputs": [],
   "source": [
    "energies_all = np.concatenate((energies_normal, energies_anomaly), axis=0)"
   ]
  },
  {
   "cell_type": "code",
   "execution_count": 147,
   "metadata": {},
   "outputs": [
    {
     "data": {
      "text/plain": [
       "(3427,)"
      ]
     },
     "execution_count": 147,
     "metadata": {},
     "output_type": "execute_result"
    }
   ],
   "source": [
    "energies_all.shape"
   ]
  },
  {
   "cell_type": "markdown",
   "metadata": {},
   "source": [
    "- Sort calculated energies descending"
   ]
  },
  {
   "cell_type": "code",
   "execution_count": 148,
   "metadata": {},
   "outputs": [],
   "source": [
    "sorted_energies = np.sort(energies_all)[::-1]"
   ]
  },
  {
   "cell_type": "code",
   "execution_count": 149,
   "metadata": {},
   "outputs": [
    {
     "data": {
      "text/plain": [
       "array([13.815511 , 13.815511 , 13.815511 , ...,  1.5623878,  1.5037615,\n",
       "        1.5012395], dtype=float32)"
      ]
     },
     "execution_count": 149,
     "metadata": {},
     "output_type": "execute_result"
    }
   ],
   "source": [
    "sorted_energies"
   ]
  },
  {
   "cell_type": "markdown",
   "metadata": {},
   "source": [
    "- Top %20 percent is the first %20 part of it"
   ]
  },
  {
   "cell_type": "code",
   "execution_count": 150,
   "metadata": {},
   "outputs": [],
   "source": [
    "threshold_index = int(np.floor(len(sorted_energies) * 0.025))"
   ]
  },
  {
   "cell_type": "code",
   "execution_count": 151,
   "metadata": {
    "scrolled": true
   },
   "outputs": [
    {
     "data": {
      "text/plain": [
       "array([13.815511, 13.815511, 13.815511, 13.815511, 13.815511, 13.815511,\n",
       "       13.815511, 13.815511, 13.815511, 13.815511, 13.815511, 13.815511,\n",
       "       13.815511, 13.815511, 13.815511, 13.815511, 13.815511, 13.815511,\n",
       "       13.815511, 13.815511, 13.815511, 13.815511, 13.815511, 13.815511,\n",
       "       13.815511, 13.815511, 13.815511, 13.815511, 13.815511, 13.815511,\n",
       "       13.815511, 13.815511, 13.815511, 13.815511, 13.815511, 13.815511,\n",
       "       13.815511, 13.815511, 13.815511, 13.815511, 13.815511, 13.815511,\n",
       "       13.815511, 13.815511, 13.815511, 13.815511, 13.815511, 13.815511,\n",
       "       13.815511, 13.815511, 13.815511, 13.815511, 13.815511, 13.815511,\n",
       "       13.815511, 13.815511, 13.815511, 13.815511, 13.815511, 13.815511,\n",
       "       13.815511, 13.815511, 13.815511, 13.815511, 13.815511, 13.815511,\n",
       "       13.815511, 13.815511, 13.815511, 13.815511, 13.815511, 13.815511,\n",
       "       13.815511, 13.815511, 13.815511, 13.815511, 13.815511, 13.815511,\n",
       "       13.815511, 13.815511, 13.815511, 13.815511, 13.815511, 13.815511,\n",
       "       13.815511], dtype=float32)"
      ]
     },
     "execution_count": 151,
     "metadata": {},
     "output_type": "execute_result"
    }
   ],
   "source": [
    "sorted_energies[:threshold_index]"
   ]
  },
  {
   "cell_type": "code",
   "execution_count": 152,
   "metadata": {},
   "outputs": [],
   "source": [
    "threshold = sorted_energies[threshold_index]"
   ]
  },
  {
   "cell_type": "markdown",
   "metadata": {},
   "source": [
    "- Below this threshold, samples are classified as normal"
   ]
  },
  {
   "cell_type": "code",
   "execution_count": 153,
   "metadata": {},
   "outputs": [
    {
     "data": {
      "text/plain": [
       "13.815511"
      ]
     },
     "execution_count": 153,
     "metadata": {},
     "output_type": "execute_result"
    }
   ],
   "source": [
    "threshold"
   ]
  },
  {
   "cell_type": "markdown",
   "metadata": {},
   "source": [
    "### Calculate metrics"
   ]
  },
  {
   "cell_type": "markdown",
   "metadata": {},
   "source": [
    "- \"Anomaly class is positive\" (from paper)"
   ]
  },
  {
   "cell_type": "markdown",
   "metadata": {},
   "source": [
    "|                   | anomaly | normal |   |   |\n",
    "|-------------------|---------|--------|---|---|\n",
    "| predicted anomaly | TP      | FP     |   |   |\n",
    "| predicted normal  | FN      | TN     |   |   |\n",
    "|                   |         |        |   |   |"
   ]
  },
  {
   "cell_type": "code",
   "execution_count": 154,
   "metadata": {},
   "outputs": [
    {
     "name": "stdout",
     "output_type": "stream",
     "text": [
      "129 0 3297 1\n"
     ]
    }
   ],
   "source": [
    "tp = len(energies_anomaly[energies_anomaly >= threshold])\n",
    "fp = len(energies_normal[energies_normal > threshold])\n",
    "\n",
    "tn = len(energies_normal[energies_normal <= threshold])\n",
    "fn = len(energies_anomaly[energies_anomaly < threshold])\n",
    "\n",
    "print(tp, fp, tn, fn)"
   ]
  },
  {
   "cell_type": "code",
   "execution_count": 155,
   "metadata": {},
   "outputs": [],
   "source": [
    "precision = tp / (tp + fp+0.00001)"
   ]
  },
  {
   "cell_type": "code",
   "execution_count": 156,
   "metadata": {},
   "outputs": [
    {
     "data": {
      "text/plain": [
       "0.9999999224806262"
      ]
     },
     "execution_count": 156,
     "metadata": {},
     "output_type": "execute_result"
    }
   ],
   "source": [
    "precision"
   ]
  },
  {
   "cell_type": "code",
   "execution_count": 157,
   "metadata": {},
   "outputs": [],
   "source": [
    "recall = tp / (tp + fn)"
   ]
  },
  {
   "cell_type": "code",
   "execution_count": 158,
   "metadata": {},
   "outputs": [
    {
     "data": {
      "text/plain": [
       "0.9923076923076923"
      ]
     },
     "execution_count": 158,
     "metadata": {},
     "output_type": "execute_result"
    }
   ],
   "source": [
    "recall"
   ]
  },
  {
   "cell_type": "code",
   "execution_count": 159,
   "metadata": {},
   "outputs": [],
   "source": [
    "f1 = 2*tp / (2*tp + fp + fn)"
   ]
  },
  {
   "cell_type": "code",
   "execution_count": 160,
   "metadata": {},
   "outputs": [
    {
     "data": {
      "text/plain": [
       "0.9961389961389961"
      ]
     },
     "execution_count": 160,
     "metadata": {},
     "output_type": "execute_result"
    }
   ],
   "source": [
    "f1"
   ]
  },
  {
   "cell_type": "code",
   "execution_count": null,
   "metadata": {},
   "outputs": [],
   "source": []
  },
  {
   "cell_type": "code",
   "execution_count": null,
   "metadata": {},
   "outputs": [],
   "source": []
  }
 ],
 "metadata": {
  "kernelspec": {
   "display_name": "Python 3",
   "language": "python",
   "name": "python3"
  },
  "language_info": {
   "codemirror_mode": {
    "name": "ipython",
    "version": 3
   },
   "file_extension": ".py",
   "mimetype": "text/x-python",
   "name": "python",
   "nbconvert_exporter": "python",
   "pygments_lexer": "ipython3",
   "version": "3.6.4"
  }
 },
 "nbformat": 4,
 "nbformat_minor": 2
}
