{
 "cells": [
  {
   "cell_type": "markdown",
   "metadata": {},
   "source": [
    "### End to end train both networks"
   ]
  },
  {
   "cell_type": "code",
   "execution_count": 1,
   "metadata": {
    "scrolled": true
   },
   "outputs": [
    {
     "name": "stderr",
     "output_type": "stream",
     "text": [
      "/Users/jyotirmaysenapati/anaconda3/lib/python3.6/site-packages/h5py/__init__.py:36: FutureWarning: Conversion of the second argument of issubdtype from `float` to `np.floating` is deprecated. In future, it will be treated as `np.float64 == np.dtype(float).type`.\n",
      "  from ._conv import register_converters as _register_converters\n",
      "Using TensorFlow backend.\n"
     ]
    }
   ],
   "source": [
    "from keras.layers import Input, Dense, Activation, Lambda, Dropout, Concatenate, Reshape\n",
    "from keras.models import Model, Sequential\n",
    "from keras.callbacks import TensorBoard\n",
    "from keras import optimizers\n",
    "from keras import backend as K\n",
    "\n",
    "import tensorflow as tf\n",
    "\n",
    "from keras.regularizers import l2\n"
   ]
  },
  {
   "cell_type": "code",
   "execution_count": 2,
   "metadata": {},
   "outputs": [],
   "source": [
    "### Hyperparameters\n",
    "\n",
    "experiment_id = 0\n",
    "\n",
    "learning_rate = 0.0001\n",
    "\n",
    "epoch_list = [200, 20000, 10000, 4000]\n",
    "batch_size_list = [1024, 1024, 128, 1024]\n",
    "\n",
    "lambda_1 = 0.01       \n",
    "lambda_2 = 0.005     \n",
    "\n",
    "#################\n",
    "\n",
    "epochs = epoch_list[experiment_id]\n",
    "batch_size = batch_size_list[experiment_id]"
   ]
  },
  {
   "cell_type": "markdown",
   "metadata": {},
   "source": [
    "### Define compresion network"
   ]
  },
  {
   "cell_type": "code",
   "execution_count": 3,
   "metadata": {},
   "outputs": [],
   "source": [
    "input_data = Input(batch_shape=(batch_size,21), name='input_placeholder')\n",
    "\n",
    "encoded = Dense(18, activation='tanh', kernel_regularizer=l2(0.00001), bias_regularizer=l2(0.00001))(input_data)\n",
    "encoded = Dense(12, activation='tanh', kernel_regularizer=l2(0.00001), bias_regularizer=l2(0.00001))(encoded)\n",
    "encoded = Dense(4, activation='tanh', kernel_regularizer=l2(0.00001), bias_regularizer=l2(0.00001))(encoded)\n",
    "# encoded = Dense(1, activation='tanh', kernel_regularizer=l2(0.00001), bias_regularizer=l2(0.00001))(encoded)\n",
    "\n",
    "layer_lowdim = Dense(1, activation='linear', kernel_regularizer=l2(0.00001), bias_regularizer=l2(0.00001), name='lowdim')(encoded)\n",
    "\n",
    "decoded = Dense(4, activation='tanh', kernel_regularizer=l2(0.00001), bias_regularizer=l2(0.00001))(layer_lowdim)\n",
    "decoded = Dense(12, activation='tanh', kernel_regularizer=l2(0.00001), bias_regularizer=l2(0.00001))(decoded)\n",
    "decoded = Dense(18, activation='tanh', kernel_regularizer=l2(0.00001), bias_regularizer=l2(0.00001))(decoded)\n",
    "decoded = Dense(21, activation='tanh', kernel_regularizer=l2(0.00001), bias_regularizer=l2(0.00001))(decoded)\n",
    "# decoded = Dense(120, activation='linear', kernel_regularizer=l2(0.00001), bias_regularizer=l2(0.00001), name='reconstructed')(decoded)\n",
    "\n"
   ]
  },
  {
   "cell_type": "markdown",
   "metadata": {},
   "source": [
    "- Define similarity metrics"
   ]
  },
  {
   "cell_type": "code",
   "execution_count": 4,
   "metadata": {},
   "outputs": [],
   "source": [
    "def cos_sim(a_b):\n",
    "    '''\n",
    "    a: batch x 120\n",
    "    b: batch x 120 \n",
    "    \n",
    "    output: batch x 1\n",
    "    '''\n",
    "    a, b = a_b\n",
    "    \n",
    "    norm_a = K.sqrt(K.sum(a ** 2, axis=-1))\n",
    "    norm_b = K.sqrt(K.sum(b ** 2, axis=-1))\n",
    "    \n",
    "    out = K.sum(a * b, axis=-1) / (norm_a * norm_b)\n",
    "    out = K.reshape(out, [batch_size, 1])\n",
    "    \n",
    "    return out\n",
    "\n",
    "def relative_euc_dist(a_b):\n",
    "    '''\n",
    "    a: batch x 120\n",
    "    b: batch x 120 \n",
    "    \n",
    "    output: batch x 1\n",
    "    '''\n",
    "    a,b = a_b\n",
    "    \n",
    "    norm_diff = K.sqrt(K.sum((a - b)**2, axis=-1))\n",
    "    norm_a = K.sqrt(K.sum(a ** 2, axis=-1))\n",
    "    \n",
    "    out = norm_diff / norm_a\n",
    "    out = K.reshape(out, [batch_size, 1])\n",
    "\n",
    "    return out"
   ]
  },
  {
   "cell_type": "code",
   "execution_count": 5,
   "metadata": {},
   "outputs": [],
   "source": [
    "layer_cossim = Lambda(cos_sim,\n",
    "                      name='cos_sim')([input_data, decoded])"
   ]
  },
  {
   "cell_type": "code",
   "execution_count": 6,
   "metadata": {},
   "outputs": [],
   "source": [
    "layer_relativeEuc = Lambda(relative_euc_dist, \n",
    "                           name='relative_euc_dist')([input_data, decoded])"
   ]
  },
  {
   "cell_type": "markdown",
   "metadata": {},
   "source": [
    "- Obtain \"z\""
   ]
  },
  {
   "cell_type": "code",
   "execution_count": 7,
   "metadata": {},
   "outputs": [],
   "source": [
    "def funct_concat(tensors):\n",
    "    return K.concatenate(tensors)\n",
    "\n",
    "layer_concat = Lambda(funct_concat, name=\"z\")([layer_lowdim, layer_cossim, layer_relativeEuc])"
   ]
  },
  {
   "cell_type": "markdown",
   "metadata": {},
   "source": [
    "### Define estimation network"
   ]
  },
  {
   "cell_type": "code",
   "execution_count": 8,
   "metadata": {},
   "outputs": [],
   "source": [
    "input_est = layer_concat #Input(shape=(3,))(layer_concat)\n",
    "\n",
    "est_layer = Dense(10, activation='tanh', kernel_regularizer=l2(0.00001), bias_regularizer=l2(0.00001))(input_est)   ####(input_est)\n",
    "est_layer = Dropout(0.5)(est_layer)\n",
    "est_output = Dense(2, activation='softmax', kernel_regularizer=l2(0.00001), bias_regularizer=l2(0.00001), name='gamma')(est_layer)\n"
   ]
  },
  {
   "cell_type": "markdown",
   "metadata": {},
   "source": [
    "### Build full network"
   ]
  },
  {
   "cell_type": "code",
   "execution_count": 9,
   "metadata": {},
   "outputs": [
    {
     "name": "stderr",
     "output_type": "stream",
     "text": [
      "/Users/jyotirmaysenapati/anaconda3/lib/python3.6/site-packages/ipykernel_launcher.py:1: UserWarning: Update your `Model` call to the Keras 2 API: `Model(outputs=Tensor(\"ga..., inputs=Tensor(\"in...)`\n",
      "  \"\"\"Entry point for launching an IPython kernel.\n"
     ]
    }
   ],
   "source": [
    "full_network = Model(input=input_data, outputs=est_output)"
   ]
  },
  {
   "cell_type": "code",
   "execution_count": 10,
   "metadata": {},
   "outputs": [
    {
     "name": "stdout",
     "output_type": "stream",
     "text": [
      "__________________________________________________________________________________________________\n",
      "Layer (type)                    Output Shape         Param #     Connected to                     \n",
      "==================================================================================================\n",
      "input_placeholder (InputLayer)  (1024, 21)           0                                            \n",
      "__________________________________________________________________________________________________\n",
      "dense_1 (Dense)                 (1024, 18)           396         input_placeholder[0][0]          \n",
      "__________________________________________________________________________________________________\n",
      "dense_2 (Dense)                 (1024, 12)           228         dense_1[0][0]                    \n",
      "__________________________________________________________________________________________________\n",
      "dense_3 (Dense)                 (1024, 4)            52          dense_2[0][0]                    \n",
      "__________________________________________________________________________________________________\n",
      "lowdim (Dense)                  (1024, 1)            5           dense_3[0][0]                    \n",
      "__________________________________________________________________________________________________\n",
      "dense_4 (Dense)                 (1024, 4)            8           lowdim[0][0]                     \n",
      "__________________________________________________________________________________________________\n",
      "dense_5 (Dense)                 (1024, 12)           60          dense_4[0][0]                    \n",
      "__________________________________________________________________________________________________\n",
      "dense_6 (Dense)                 (1024, 18)           234         dense_5[0][0]                    \n",
      "__________________________________________________________________________________________________\n",
      "dense_7 (Dense)                 (1024, 21)           399         dense_6[0][0]                    \n",
      "__________________________________________________________________________________________________\n",
      "cos_sim (Lambda)                (1024, 1)            0           input_placeholder[0][0]          \n",
      "                                                                 dense_7[0][0]                    \n",
      "__________________________________________________________________________________________________\n",
      "relative_euc_dist (Lambda)      (1024, 1)            0           input_placeholder[0][0]          \n",
      "                                                                 dense_7[0][0]                    \n",
      "__________________________________________________________________________________________________\n",
      "z (Lambda)                      (1024, 3)            0           lowdim[0][0]                     \n",
      "                                                                 cos_sim[0][0]                    \n",
      "                                                                 relative_euc_dist[0][0]          \n",
      "__________________________________________________________________________________________________\n",
      "dense_8 (Dense)                 (1024, 10)           40          z[0][0]                          \n",
      "__________________________________________________________________________________________________\n",
      "dropout_1 (Dropout)             (1024, 10)           0           dense_8[0][0]                    \n",
      "__________________________________________________________________________________________________\n",
      "gamma (Dense)                   (1024, 2)            22          dropout_1[0][0]                  \n",
      "==================================================================================================\n",
      "Total params: 1,444\n",
      "Trainable params: 1,444\n",
      "Non-trainable params: 0\n",
      "__________________________________________________________________________________________________\n"
     ]
    }
   ],
   "source": [
    "full_network.summary()"
   ]
  },
  {
   "cell_type": "markdown",
   "metadata": {},
   "source": [
    "### Load already saved dataset"
   ]
  },
  {
   "cell_type": "code",
   "execution_count": 11,
   "metadata": {},
   "outputs": [],
   "source": [
    "import numpy as np"
   ]
  },
  {
   "cell_type": "code",
   "execution_count": 12,
   "metadata": {},
   "outputs": [
    {
     "name": "stdout",
     "output_type": "stream",
     "text": [
      "[[0.78125    0.         0.         ... 0.1748954  0.33796296 0.18230144]\n",
      " [0.65625    0.         0.         ... 0.25020921 0.4537037  0.20106316]\n",
      " [0.42708333 0.         0.         ... 0.12803347 0.2962963  0.14946842]\n",
      " ...\n",
      " [0.92708333 0.         0.         ... 0.19330544 0.30092593 0.22138837]\n",
      " [0.77083333 1.         0.         ... 0.15481172 0.43055556 0.13070669]\n",
      " [0.54166667 0.         0.         ... 0.21171548 0.4212963  0.18230144]]\n"
     ]
    }
   ],
   "source": [
    "with np.load('../../datasets/thyroid/thyroid_train-randomState_None.npz') as data: \n",
    "    x_train = data[\"x_train\"]\n",
    "    y_train = data[\"y_train\"]\n",
    "    \n",
    "# labels removed\n",
    "x_train = x_train[:, 0:-2]\n",
    "print(x_train)"
   ]
  },
  {
   "cell_type": "code",
   "execution_count": 13,
   "metadata": {},
   "outputs": [
    {
     "data": {
      "text/plain": [
       "(3301, 21)"
      ]
     },
     "execution_count": 13,
     "metadata": {},
     "output_type": "execute_result"
    }
   ],
   "source": [
    "x_train.shape"
   ]
  },
  {
   "cell_type": "code",
   "execution_count": 14,
   "metadata": {},
   "outputs": [
    {
     "data": {
      "text/plain": [
       "(3301, 2)"
      ]
     },
     "execution_count": 14,
     "metadata": {},
     "output_type": "execute_result"
    }
   ],
   "source": [
    "y_train.shape"
   ]
  },
  {
   "cell_type": "markdown",
   "metadata": {},
   "source": [
    "### GMM parameters"
   ]
  },
  {
   "cell_type": "markdown",
   "metadata": {},
   "source": [
    "- k: number of clusters (4 for here)\n",
    "- N: batch size\n",
    "- d: Dimension of latent vector z (3 here)"
   ]
  },
  {
   "cell_type": "markdown",
   "metadata": {},
   "source": [
    "- gamma ($\\gamma$) : membership predictions (softmax output of estimation net) [$N \\times K$]\n",
    "- phi ($\\phi$): gaussian probabilities [$K$]\n",
    "- mu ($\\mu$): gaussian means [$K \\times d$]\n",
    "- sigma ($\\Sigma$): gaussian covariances [$K \\times d \\times d$]"
   ]
  },
  {
   "cell_type": "code",
   "execution_count": 15,
   "metadata": {},
   "outputs": [],
   "source": [
    "k = 2 \n",
    "N = batch_size \n",
    "d = int(layer_concat.get_shape()[1])"
   ]
  },
  {
   "cell_type": "markdown",
   "metadata": {},
   "source": [
    "- GMM parameters init"
   ]
  },
  {
   "cell_type": "code",
   "execution_count": 16,
   "metadata": {},
   "outputs": [],
   "source": [
    "phi = tf.get_variable(\"phi\",\n",
    "                      shape=(k),\n",
    "                      dtype=tf.float32,\n",
    "                      initializer=tf.zeros_initializer(),\n",
    "                      trainable=False)\n",
    "\n",
    "mu = tf.get_variable(\"mu\",\n",
    "                      shape=(k,d),\n",
    "                      dtype=tf.float32,\n",
    "                      initializer=tf.zeros_initializer(), \n",
    "                      trainable=False)\n",
    "\n",
    "sigma_init = np.repeat([np.eye(d, dtype=np.float32)], k, axis=0)\n",
    "\n",
    "sigma = tf.get_variable(\"sigma\",\n",
    "                      shape=(k,d,d),\n",
    "                      dtype=tf.float32,\n",
    "                      initializer=tf.constant_initializer(sigma_init),\n",
    "                      trainable=False)"
   ]
  },
  {
   "cell_type": "code",
   "execution_count": 17,
   "metadata": {},
   "outputs": [],
   "source": [
    "tf_sess = K.get_session()"
   ]
  },
  {
   "cell_type": "code",
   "execution_count": 18,
   "metadata": {
    "scrolled": true
   },
   "outputs": [
    {
     "data": {
      "text/plain": [
       "[None, None, None]"
      ]
     },
     "execution_count": 18,
     "metadata": {},
     "output_type": "execute_result"
    }
   ],
   "source": [
    "tf_sess.run([phi.initializer,\n",
    "             mu.initializer, \n",
    "             sigma.initializer])"
   ]
  },
  {
   "cell_type": "markdown",
   "metadata": {},
   "source": [
    "- Check for uninit vars"
   ]
  },
  {
   "cell_type": "code",
   "execution_count": 19,
   "metadata": {},
   "outputs": [
    {
     "name": "stdout",
     "output_type": "stream",
     "text": [
      "[]\n"
     ]
    }
   ],
   "source": [
    "print(tf_sess.run(tf.report_uninitialized_variables()))"
   ]
  },
  {
   "cell_type": "code",
   "execution_count": 20,
   "metadata": {},
   "outputs": [],
   "source": [
    "def printGmmParams():\n",
    "    print(\"#### GMM params ####\")\n",
    "    print(\"phi:\\n\",K.eval(phi),\"\\n\")\n",
    "    print(\"mu:\\n\",K.eval(mu),\"\\n\")\n",
    "    print(\"sigma:\\n\", K.eval(sigma),\"\\n\")\n",
    "\n"
   ]
  },
  {
   "cell_type": "code",
   "execution_count": 21,
   "metadata": {},
   "outputs": [],
   "source": [
    "def saveGmmParams(filename = \"gmmParams.npz\"):\n",
    "    phi_ = K.eval(phi)\n",
    "    mu_ = K.eval(mu)\n",
    "    sigma_ = K.eval(sigma)\n",
    "    np.savez_compressed(filename, phi=phi_, mu=mu_, sigma=sigma_)"
   ]
  },
  {
   "cell_type": "code",
   "execution_count": 22,
   "metadata": {
    "scrolled": true
   },
   "outputs": [
    {
     "name": "stdout",
     "output_type": "stream",
     "text": [
      "#### GMM params ####\n",
      "phi:\n",
      " [0. 0.] \n",
      "\n",
      "mu:\n",
      " [[0. 0. 0.]\n",
      " [0. 0. 0.]] \n",
      "\n",
      "sigma:\n",
      " [[[1. 0. 0.]\n",
      "  [0. 1. 0.]\n",
      "  [0. 0. 1.]]\n",
      "\n",
      " [[1. 0. 0.]\n",
      "  [0. 1. 0.]\n",
      "  [0. 0. 1.]]] \n",
      "\n"
     ]
    }
   ],
   "source": [
    "printGmmParams()"
   ]
  },
  {
   "cell_type": "markdown",
   "metadata": {},
   "source": [
    "### Total loss calculation"
   ]
  },
  {
   "cell_type": "code",
   "execution_count": 23,
   "metadata": {},
   "outputs": [],
   "source": [
    "isVerbose_en = True\n",
    "isVerbose_loss = True"
   ]
  },
  {
   "cell_type": "markdown",
   "metadata": {},
   "source": [
    "- For the first time run of the totalLoss function"
   ]
  },
  {
   "cell_type": "code",
   "execution_count": 24,
   "metadata": {},
   "outputs": [],
   "source": [
    "choices = np.random.choice(len(x_train), size=batch_size, replace=False)\n",
    "\n",
    "batch_x_train = x_train[choices]\n",
    "batch_y_train = y_train[choices]\n",
    "\n",
    "batch_train = (batch_x_train, batch_y_train)"
   ]
  },
  {
   "cell_type": "markdown",
   "metadata": {},
   "source": [
    "- Define energy function"
   ]
  },
  {
   "cell_type": "code",
   "execution_count": 25,
   "metadata": {},
   "outputs": [],
   "source": [
    "def computeEnergy(z_i):\n",
    "    \"\"\"\n",
    "    compute E(z_i) in loss function\n",
    "    \"\"\"\n",
    "    \n",
    "    #inside_sum = 0\n",
    "    inside_sum = tf.zeros(()) \n",
    "    for cluster in range(k):\n",
    "        diff = tf.reshape(z_i - mu[cluster], (1,-1))   ### (1,3)\n",
    "        diff_t = tf.reshape(diff, (-1,1)) #diff.reshape(-1,1)   ### (3,1)\n",
    "\n",
    "        sigma_inv = tf.linalg.inv(sigma[cluster]) ### (3,3)\n",
    "        \n",
    "        exp_term = tf.exp(-0.5 * tf.matmul(diff, tf.matmul(sigma_inv, diff_t)))    ### (1,1)\n",
    "\n",
    "        denom = tf.sqrt(tf.linalg.det(2 * np.pi * sigma[cluster]))\n",
    "        \n",
    "        inside_sum += phi[cluster] * (exp_term / denom)   ### (1,1)\n",
    "        \n",
    "        \n",
    "    inside_sum = tf.reshape(inside_sum, ())\n",
    "    sample_energy = -tf.log(inside_sum + 1e-6, name=\"sample_energy\")\n",
    "    \n",
    "        \n",
    "    ### flatten inside_sum and return log of it\n",
    "    return sample_energy"
   ]
  },
  {
   "cell_type": "markdown",
   "metadata": {},
   "source": [
    "- Define total loss"
   ]
  },
  {
   "cell_type": "code",
   "execution_count": 26,
   "metadata": {},
   "outputs": [],
   "source": [
    "def totalLoss(yTrue, yPred):\n",
    "    ### autoencoder loss\n",
    "    autoenc_loss = tf.reduce_sum(((input_data - decoded)**2), axis=1)    ### (N,)\n",
    "    autoenc_loss = tf.reduce_mean(autoenc_loss, axis=0)      #### mean over all N in batch\n",
    "    \n",
    "    ### obtain z and gamma for current batch\n",
    "    z = layer_concat\n",
    "    gamma = est_output\n",
    "    \n",
    "    \n",
    "    ########### gmm update #################\n",
    "    gamma = est_output ### + 1e-6\n",
    "    z = layer_concat         \n",
    "\n",
    "    ### update list\n",
    "    updates_gmm = []\n",
    "\n",
    "    ################### phi #################\n",
    "    update_phi = tf.assign(phi, \n",
    "                           tf.reduce_sum(gamma/batch_size, axis=0), \n",
    "                           name=\"update_phi\")\n",
    "    updates_gmm.append(update_phi)\n",
    "    #######################################\n",
    "\n",
    "    ################## mu ################\n",
    "    for cluster in range(k):\n",
    "        ### get the corresponding column of predictions\n",
    "        gamma_cluster = tf.reshape(gamma[:,cluster], (-1,1))    ### (N x 1)\n",
    "\n",
    "        ### duplicate column d times\n",
    "        gamma_cluster_tile = tf.tile(gamma_cluster, (1,d))   ### (N x d)\n",
    "\n",
    "        ### sum over all batch and divide\n",
    "        matmul = tf.matmul(z, gamma_cluster_tile, transpose_a=True)   ### (dxd)\n",
    "\n",
    "        result = tf.reduce_sum(matmul, axis=0, name=\"mu_matmul_red\") / tf.reduce_sum(gamma[:,cluster], axis = 0, name=\"mu_gamma_red\")\n",
    "\n",
    "        update_mu = tf.assign(mu[cluster], \n",
    "                              result,\n",
    "                              name=\"update_mu\"+str(cluster))\n",
    "        updates_gmm.append(update_mu)\n",
    "    #########################################\n",
    "\n",
    "    ################ sigma ###############\n",
    "    for cluster in range(k):\n",
    "        ### expand gamma for each sample\n",
    "        gamma_cluster = tf.reshape(gamma[:,cluster], (-1,1))    ### (N x 1)\n",
    "        gamma_cluster_expand = tf.expand_dims(gamma_cluster, 1) ### (N x 1 x 1)\n",
    "\n",
    "\n",
    "        #### calculating diff\n",
    "        ## expand mu and z\n",
    "        ######## TODO: race condition??? (get mu after its updated value (auto??))\n",
    "        with tf.control_dependencies(updates_gmm):\n",
    "            mu_cluster = tf.reshape(mu[cluster], (1,-1))   ### (1 x d)\n",
    "\n",
    "        mu_expand = tf.expand_dims(mu_cluster, 1)      ### (1 x 1 x 3)\n",
    "        mu_expand_tile = tf.tile(mu_expand, tf.stack([N, 1, 1]))   ### (N x 1 x d)\n",
    "\n",
    "        z_expand = tf.expand_dims(z, 1)    ### (N x 1 x d)\n",
    "\n",
    "        diff = z_expand - mu_expand_tile   ### (N x 1 x d)\n",
    "\n",
    "        ### matmul in the upper part\n",
    "        matmul = tf.matmul(diff, diff, transpose_a=True)  ### (N x d x d)\n",
    "\n",
    "\n",
    "        ### nominator\n",
    "        nom = gamma_cluster_expand * matmul   ### (N x d x d)\n",
    "        nom_reduced = tf.reduce_sum(nom, axis=0) ### (d x d)\n",
    "\n",
    "\n",
    "        ### denominator\n",
    "        denom = tf.reduce_sum(gamma_cluster)  ### single value, zero dim\n",
    "\n",
    "        update_sigma = tf.assign(sigma[cluster], \n",
    "                                 nom_reduced/denom, \n",
    "                                 name =\"update_sigma\"+str(cluster))\n",
    "        updates_gmm.append(update_sigma)\n",
    "\n",
    "    \n",
    "    \n",
    "    ### dependency control\n",
    "    with tf.control_dependencies(updates_gmm):  \n",
    "        ### sample energy   \n",
    "        sample_en_batch = tf.map_fn(lambda z_i: computeEnergy(z_i), z)\n",
    "        sample_en = tf.reduce_mean(sample_en_batch, axis=0)\n",
    "        sample_en *= lambda_1\n",
    "\n",
    "        p = tf.reduce_sum(1 / tf.matrix_diag_part(sigma))\n",
    "        p *= lambda_2\n",
    "\n",
    "    ### total loss\n",
    "    total_loss = autoenc_loss + sample_en + p\n",
    "\n",
    "    return total_loss  \n"
   ]
  },
  {
   "cell_type": "code",
   "execution_count": 27,
   "metadata": {},
   "outputs": [],
   "source": [
    "### load previos weights\n",
    "### full_network.load_weights(\"modelsave_weights-epochs5.h5\")"
   ]
  },
  {
   "cell_type": "code",
   "execution_count": 28,
   "metadata": {
    "scrolled": true
   },
   "outputs": [],
   "source": [
    "### keras\n",
    "\n",
    "adam = optimizers.adam(lr=learning_rate, clipnorm=1., clipvalue=0.5) \n",
    "\n",
    "full_network.compile(optimizer=adam, loss=totalLoss) "
   ]
  },
  {
   "cell_type": "code",
   "execution_count": 29,
   "metadata": {},
   "outputs": [
    {
     "name": "stdout",
     "output_type": "stream",
     "text": [
      "2018-07-30_08:51 \n"
     ]
    }
   ],
   "source": [
    "### Timestamp\n",
    "from datetime import datetime\n",
    "import os\n",
    "timestamp = datetime.now().strftime(\"%Y-%m-%d_%H:%M\")\n",
    "print(timestamp, \"\")\n",
    "\n",
    "directory = '../../models/thyroid/'+timestamp\n",
    "if not os.path.exists(directory):\n",
    "    os.makedirs(directory)"
   ]
  },
  {
   "cell_type": "markdown",
   "metadata": {},
   "source": [
    "- Batch generator for training"
   ]
  },
  {
   "cell_type": "code",
   "execution_count": 30,
   "metadata": {},
   "outputs": [],
   "source": [
    "### TODO: optimization??\n",
    "\n",
    "def batchGenerator():\n",
    "    '''\n",
    "    return: number of batch_size examples in each run\n",
    "    '''\n",
    "    \n",
    "    while True:\n",
    "        choices = np.random.choice(len(x_train), size=batch_size, replace=False)\n",
    "        \n",
    "        batch_x_train = x_train[choices]\n",
    "        batch_y_train = y_train[choices]\n",
    "        \n",
    "        \n",
    "        yield (batch_x_train, batch_y_train) "
   ]
  },
  {
   "cell_type": "markdown",
   "metadata": {},
   "source": [
    "- Training using fit_generator"
   ]
  },
  {
   "cell_type": "code",
   "execution_count": 31,
   "metadata": {},
   "outputs": [],
   "source": [
    "steps_per_epoch = int(np.ceil(x_train.shape[0] / batch_size))"
   ]
  },
  {
   "cell_type": "code",
   "execution_count": 32,
   "metadata": {
    "scrolled": true
   },
   "outputs": [
    {
     "name": "stdout",
     "output_type": "stream",
     "text": [
      "Epoch 1/200\n",
      "4/4 [==============================] - 3s 690ms/step - loss: 1.5950\n",
      "Epoch 2/200\n",
      "4/4 [==============================] - 2s 416ms/step - loss: 1.5586\n",
      "Epoch 3/200\n",
      "4/4 [==============================] - 2s 386ms/step - loss: 1.5349\n",
      "Epoch 4/200\n",
      "4/4 [==============================] - 2s 385ms/step - loss: 1.5035\n",
      "Epoch 5/200\n",
      "4/4 [==============================] - 2s 382ms/step - loss: 1.4925\n",
      "Epoch 6/200\n",
      "4/4 [==============================] - 2s 406ms/step - loss: 1.4809\n",
      "Epoch 7/200\n",
      "4/4 [==============================] - 2s 422ms/step - loss: 1.4609\n",
      "Epoch 8/200\n",
      "4/4 [==============================] - 2s 404ms/step - loss: 1.4383\n",
      "Epoch 9/200\n",
      "4/4 [==============================] - 2s 493ms/step - loss: 1.4396\n",
      "Epoch 10/200\n",
      "4/4 [==============================] - 2s 417ms/step - loss: 1.4234\n",
      "Epoch 11/200\n",
      "4/4 [==============================] - 2s 442ms/step - loss: 1.4066\n",
      "Epoch 12/200\n",
      "4/4 [==============================] - 2s 420ms/step - loss: 1.3653\n",
      "Epoch 13/200\n",
      "4/4 [==============================] - 2s 442ms/step - loss: 1.3653\n",
      "Epoch 14/200\n",
      "4/4 [==============================] - 2s 496ms/step - loss: 1.3603\n",
      "Epoch 15/200\n",
      "4/4 [==============================] - 2s 442ms/step - loss: 1.3462\n",
      "Epoch 16/200\n",
      "4/4 [==============================] - 2s 427ms/step - loss: 1.3264\n",
      "Epoch 17/200\n",
      "4/4 [==============================] - 2s 450ms/step - loss: 1.3089\n",
      "Epoch 18/200\n",
      "4/4 [==============================] - 2s 420ms/step - loss: 1.3094\n",
      "Epoch 19/200\n",
      "4/4 [==============================] - 2s 422ms/step - loss: 1.2763\n",
      "Epoch 20/200\n",
      "4/4 [==============================] - 2s 413ms/step - loss: 1.2858\n",
      "Epoch 21/200\n",
      "4/4 [==============================] - 2s 457ms/step - loss: 1.2712\n",
      "Epoch 22/200\n",
      "4/4 [==============================] - 2s 460ms/step - loss: 1.2695\n",
      "Epoch 23/200\n",
      "4/4 [==============================] - 2s 454ms/step - loss: 1.2333\n",
      "Epoch 24/200\n",
      "4/4 [==============================] - 2s 403ms/step - loss: 1.2253\n",
      "Epoch 25/200\n",
      "4/4 [==============================] - 2s 461ms/step - loss: 1.2106\n",
      "Epoch 26/200\n",
      "4/4 [==============================] - 2s 507ms/step - loss: 1.2046\n",
      "Epoch 27/200\n",
      "4/4 [==============================] - 2s 426ms/step - loss: 1.2070\n",
      "Epoch 28/200\n",
      "4/4 [==============================] - 2s 542ms/step - loss: 1.1845\n",
      "Epoch 29/200\n",
      "4/4 [==============================] - 2s 591ms/step - loss: 1.1707\n",
      "Epoch 30/200\n",
      "4/4 [==============================] - 2s 464ms/step - loss: 1.1851\n",
      "Epoch 31/200\n",
      "4/4 [==============================] - 2s 563ms/step - loss: 1.1797\n",
      "Epoch 32/200\n",
      "4/4 [==============================] - 2s 530ms/step - loss: 1.1701\n",
      "Epoch 33/200\n",
      "4/4 [==============================] - 2s 479ms/step - loss: 1.1502\n",
      "Epoch 34/200\n",
      "4/4 [==============================] - 2s 475ms/step - loss: 1.1416\n",
      "Epoch 35/200\n",
      "4/4 [==============================] - 2s 508ms/step - loss: 1.1329\n",
      "Epoch 36/200\n",
      "4/4 [==============================] - 2s 546ms/step - loss: 1.1391\n",
      "Epoch 37/200\n",
      "4/4 [==============================] - 2s 393ms/step - loss: 1.0975\n",
      "Epoch 38/200\n",
      "4/4 [==============================] - 2s 512ms/step - loss: 1.1060\n",
      "Epoch 39/200\n",
      "4/4 [==============================] - 2s 564ms/step - loss: 1.1144\n",
      "Epoch 40/200\n",
      "4/4 [==============================] - 2s 589ms/step - loss: 1.0888\n",
      "Epoch 41/200\n",
      "4/4 [==============================] - 2s 493ms/step - loss: 1.0770\n",
      "Epoch 42/200\n",
      "4/4 [==============================] - 2s 461ms/step - loss: 1.0803\n",
      "Epoch 43/200\n",
      "4/4 [==============================] - 2s 600ms/step - loss: 1.0603\n",
      "Epoch 44/200\n",
      "4/4 [==============================] - 2s 554ms/step - loss: 1.0315\n",
      "Epoch 45/200\n",
      "4/4 [==============================] - 2s 499ms/step - loss: 1.0433\n",
      "Epoch 46/200\n",
      "4/4 [==============================] - 2s 439ms/step - loss: 1.0317\n",
      "Epoch 47/200\n",
      "4/4 [==============================] - 1s 353ms/step - loss: 1.0351\n",
      "Epoch 48/200\n",
      "4/4 [==============================] - 2s 512ms/step - loss: 1.0170\n",
      "Epoch 49/200\n",
      "4/4 [==============================] - 2s 445ms/step - loss: 1.0174\n",
      "Epoch 50/200\n",
      "4/4 [==============================] - 2s 486ms/step - loss: 0.9907\n",
      "Epoch 51/200\n",
      "4/4 [==============================] - 2s 500ms/step - loss: 0.9887\n",
      "Epoch 52/200\n",
      "4/4 [==============================] - 2s 410ms/step - loss: 0.9970\n",
      "Epoch 53/200\n",
      "4/4 [==============================] - 2s 397ms/step - loss: 0.9801\n",
      "Epoch 54/200\n",
      "4/4 [==============================] - 2s 446ms/step - loss: 0.9498\n",
      "Epoch 55/200\n",
      "4/4 [==============================] - 2s 443ms/step - loss: 0.9629\n",
      "Epoch 56/200\n",
      "4/4 [==============================] - 2s 432ms/step - loss: 0.9437\n",
      "Epoch 57/200\n",
      "4/4 [==============================] - 2s 461ms/step - loss: 0.9520\n",
      "Epoch 58/200\n",
      "4/4 [==============================] - 2s 500ms/step - loss: 0.9237\n",
      "Epoch 59/200\n",
      "4/4 [==============================] - 2s 442ms/step - loss: 0.9233\n",
      "Epoch 60/200\n",
      "4/4 [==============================] - 2s 425ms/step - loss: 0.9301\n",
      "Epoch 61/200\n",
      "4/4 [==============================] - 2s 489ms/step - loss: 0.9035\n",
      "Epoch 62/200\n",
      "4/4 [==============================] - 2s 462ms/step - loss: 0.8916\n",
      "Epoch 63/200\n",
      "4/4 [==============================] - 2s 498ms/step - loss: 0.8895\n",
      "Epoch 64/200\n",
      "4/4 [==============================] - 2s 475ms/step - loss: 0.8751\n",
      "Epoch 65/200\n",
      "4/4 [==============================] - 2s 417ms/step - loss: 0.8905\n",
      "Epoch 66/200\n",
      "4/4 [==============================] - 2s 459ms/step - loss: 0.8692\n",
      "Epoch 67/200\n",
      "4/4 [==============================] - 2s 432ms/step - loss: 0.8526\n",
      "Epoch 68/200\n",
      "4/4 [==============================] - 2s 447ms/step - loss: 0.8559\n",
      "Epoch 69/200\n",
      "4/4 [==============================] - 2s 483ms/step - loss: 0.8449\n",
      "Epoch 70/200\n",
      "4/4 [==============================] - 2s 425ms/step - loss: 0.8537\n",
      "Epoch 71/200\n",
      "4/4 [==============================] - 2s 392ms/step - loss: 0.8358\n",
      "Epoch 72/200\n",
      "4/4 [==============================] - 2s 399ms/step - loss: 0.8285\n",
      "Epoch 73/200\n",
      "4/4 [==============================] - 2s 406ms/step - loss: 0.8227\n",
      "Epoch 74/200\n",
      "4/4 [==============================] - 1s 361ms/step - loss: 0.8250\n",
      "Epoch 75/200\n",
      "4/4 [==============================] - 2s 409ms/step - loss: 0.8132\n",
      "Epoch 76/200\n",
      "4/4 [==============================] - 2s 463ms/step - loss: 0.8156\n",
      "Epoch 77/200\n",
      "4/4 [==============================] - 2s 508ms/step - loss: 0.7966\n",
      "Epoch 78/200\n",
      "4/4 [==============================] - 2s 472ms/step - loss: 0.7899\n",
      "Epoch 79/200\n",
      "4/4 [==============================] - 2s 464ms/step - loss: 0.7994\n",
      "Epoch 80/200\n",
      "4/4 [==============================] - 2s 445ms/step - loss: 0.7916\n",
      "Epoch 81/200\n",
      "4/4 [==============================] - 2s 398ms/step - loss: 0.7914\n",
      "Epoch 82/200\n",
      "4/4 [==============================] - 2s 401ms/step - loss: 0.7942\n",
      "Epoch 83/200\n",
      "4/4 [==============================] - 2s 417ms/step - loss: 0.7821\n",
      "Epoch 84/200\n",
      "4/4 [==============================] - 2s 388ms/step - loss: 0.7730\n",
      "Epoch 85/200\n",
      "4/4 [==============================] - 2s 399ms/step - loss: 0.7872\n",
      "Epoch 86/200\n",
      "4/4 [==============================] - 2s 396ms/step - loss: 0.7783\n",
      "Epoch 87/200\n",
      "4/4 [==============================] - 2s 411ms/step - loss: 0.7557\n",
      "Epoch 88/200\n",
      "4/4 [==============================] - 2s 445ms/step - loss: 0.7593\n",
      "Epoch 89/200\n",
      "4/4 [==============================] - 1s 365ms/step - loss: 0.7568\n",
      "Epoch 90/200\n",
      "4/4 [==============================] - 2s 394ms/step - loss: 0.7646\n",
      "Epoch 91/200\n",
      "4/4 [==============================] - 2s 401ms/step - loss: 0.7602\n",
      "Epoch 92/200\n",
      "4/4 [==============================] - 2s 410ms/step - loss: 0.7555\n",
      "Epoch 93/200\n",
      "4/4 [==============================] - 2s 400ms/step - loss: 0.7644\n",
      "Epoch 94/200\n",
      "4/4 [==============================] - 2s 405ms/step - loss: 0.7487\n",
      "Epoch 95/200\n",
      "4/4 [==============================] - 2s 409ms/step - loss: 0.7511\n",
      "Epoch 96/200\n",
      "4/4 [==============================] - 2s 398ms/step - loss: 0.7477\n",
      "Epoch 97/200\n",
      "4/4 [==============================] - 2s 410ms/step - loss: 0.7555\n",
      "Epoch 98/200\n",
      "4/4 [==============================] - 2s 404ms/step - loss: 0.7507\n",
      "Epoch 99/200\n",
      "4/4 [==============================] - 2s 423ms/step - loss: 0.7521\n",
      "Epoch 100/200\n",
      "4/4 [==============================] - 2s 413ms/step - loss: 0.7423\n",
      "Epoch 101/200\n",
      "4/4 [==============================] - 2s 411ms/step - loss: 0.7393\n",
      "Epoch 102/200\n"
     ]
    },
    {
     "name": "stdout",
     "output_type": "stream",
     "text": [
      "4/4 [==============================] - 2s 415ms/step - loss: 0.7357\n",
      "Epoch 103/200\n",
      "4/4 [==============================] - 2s 415ms/step - loss: 0.7443\n",
      "Epoch 104/200\n",
      "4/4 [==============================] - 2s 406ms/step - loss: 0.7367\n",
      "Epoch 105/200\n",
      "4/4 [==============================] - 2s 418ms/step - loss: 0.7444\n",
      "Epoch 106/200\n",
      "4/4 [==============================] - 2s 410ms/step - loss: 0.7416\n",
      "Epoch 107/200\n",
      "4/4 [==============================] - 2s 407ms/step - loss: 0.7372\n",
      "Epoch 108/200\n",
      "4/4 [==============================] - 2s 399ms/step - loss: 0.7249\n",
      "Epoch 109/200\n",
      "4/4 [==============================] - 2s 402ms/step - loss: 0.7374\n",
      "Epoch 110/200\n",
      "4/4 [==============================] - 2s 425ms/step - loss: 0.7194\n",
      "Epoch 111/200\n",
      "4/4 [==============================] - 2s 413ms/step - loss: 0.7358\n",
      "Epoch 112/200\n",
      "4/4 [==============================] - 2s 412ms/step - loss: 0.7457\n",
      "Epoch 113/200\n",
      "4/4 [==============================] - 2s 421ms/step - loss: 0.7371\n",
      "Epoch 114/200\n",
      "4/4 [==============================] - 2s 416ms/step - loss: 0.7488\n",
      "Epoch 115/200\n",
      "4/4 [==============================] - 2s 403ms/step - loss: 0.7327\n",
      "Epoch 116/200\n",
      "4/4 [==============================] - 2s 419ms/step - loss: 0.7372\n",
      "Epoch 117/200\n",
      "4/4 [==============================] - 2s 434ms/step - loss: 0.7207\n",
      "Epoch 118/200\n",
      "4/4 [==============================] - 2s 398ms/step - loss: 0.7324\n",
      "Epoch 119/200\n",
      "4/4 [==============================] - 2s 400ms/step - loss: 0.7106\n",
      "Epoch 120/200\n",
      "4/4 [==============================] - 2s 398ms/step - loss: 0.7358\n",
      "Epoch 121/200\n",
      "4/4 [==============================] - 2s 402ms/step - loss: 0.7244\n",
      "Epoch 122/200\n",
      "4/4 [==============================] - 2s 386ms/step - loss: 0.7380\n",
      "Epoch 123/200\n",
      "4/4 [==============================] - 2s 377ms/step - loss: 0.7384\n",
      "Epoch 124/200\n",
      "4/4 [==============================] - 1s 364ms/step - loss: 0.7233\n",
      "Epoch 125/200\n",
      "4/4 [==============================] - 1s 367ms/step - loss: 0.7298\n",
      "Epoch 126/200\n",
      "4/4 [==============================] - 2s 398ms/step - loss: 0.7279\n",
      "Epoch 127/200\n",
      "4/4 [==============================] - 2s 444ms/step - loss: 0.7193\n",
      "Epoch 128/200\n",
      "4/4 [==============================] - 2s 429ms/step - loss: 0.7347\n",
      "Epoch 129/200\n",
      "4/4 [==============================] - 2s 439ms/step - loss: 0.7189\n",
      "Epoch 130/200\n",
      "4/4 [==============================] - 2s 397ms/step - loss: 0.7151\n",
      "Epoch 131/200\n",
      "4/4 [==============================] - 2s 406ms/step - loss: 0.7165\n",
      "Epoch 132/200\n",
      "4/4 [==============================] - 2s 414ms/step - loss: 0.7143\n",
      "Epoch 133/200\n",
      "4/4 [==============================] - 2s 407ms/step - loss: 0.7246\n",
      "Epoch 134/200\n",
      "4/4 [==============================] - 2s 418ms/step - loss: 0.7337\n",
      "Epoch 135/200\n",
      "4/4 [==============================] - 2s 405ms/step - loss: 0.7209\n",
      "Epoch 136/200\n",
      "4/4 [==============================] - 2s 412ms/step - loss: 0.7265\n",
      "Epoch 137/200\n",
      "4/4 [==============================] - 2s 398ms/step - loss: 0.7246\n",
      "Epoch 138/200\n",
      "4/4 [==============================] - 2s 391ms/step - loss: 0.7208\n",
      "Epoch 139/200\n",
      "4/4 [==============================] - 2s 419ms/step - loss: 0.7291\n",
      "Epoch 140/200\n",
      "4/4 [==============================] - 2s 399ms/step - loss: 0.7057\n",
      "Epoch 141/200\n",
      "4/4 [==============================] - 2s 384ms/step - loss: 0.7172\n",
      "Epoch 142/200\n",
      "4/4 [==============================] - 2s 426ms/step - loss: 0.7249\n",
      "Epoch 143/200\n",
      "4/4 [==============================] - 2s 412ms/step - loss: 0.7154\n",
      "Epoch 144/200\n",
      "4/4 [==============================] - 2s 411ms/step - loss: 0.7068\n",
      "Epoch 145/200\n",
      "4/4 [==============================] - 2s 401ms/step - loss: 0.7226\n",
      "Epoch 146/200\n",
      "4/4 [==============================] - 2s 422ms/step - loss: 0.6988\n",
      "Epoch 147/200\n",
      "4/4 [==============================] - 2s 402ms/step - loss: 0.7112\n",
      "Epoch 148/200\n",
      "4/4 [==============================] - 2s 408ms/step - loss: 0.7196\n",
      "Epoch 149/200\n",
      "4/4 [==============================] - 2s 427ms/step - loss: 0.7159\n",
      "Epoch 150/200\n",
      "4/4 [==============================] - 2s 398ms/step - loss: 0.7142\n",
      "Epoch 151/200\n",
      "4/4 [==============================] - 2s 399ms/step - loss: 0.7168\n",
      "Epoch 152/200\n",
      "4/4 [==============================] - 2s 396ms/step - loss: 0.7180\n",
      "Epoch 153/200\n",
      "4/4 [==============================] - 2s 396ms/step - loss: 0.7158\n",
      "Epoch 154/200\n",
      "4/4 [==============================] - 2s 399ms/step - loss: 0.7025\n",
      "Epoch 155/200\n",
      "4/4 [==============================] - 2s 395ms/step - loss: 0.7003\n",
      "Epoch 156/200\n",
      "4/4 [==============================] - 2s 380ms/step - loss: 0.7165\n",
      "Epoch 157/200\n",
      "4/4 [==============================] - 2s 392ms/step - loss: 0.7014\n",
      "Epoch 158/200\n",
      "4/4 [==============================] - 2s 400ms/step - loss: 0.6890\n",
      "Epoch 159/200\n",
      "4/4 [==============================] - 2s 406ms/step - loss: 0.6991\n",
      "Epoch 160/200\n",
      "4/4 [==============================] - 2s 420ms/step - loss: 0.6998\n",
      "Epoch 161/200\n",
      "4/4 [==============================] - 2s 396ms/step - loss: 0.6971\n",
      "Epoch 162/200\n",
      "4/4 [==============================] - 2s 420ms/step - loss: 0.7016\n",
      "Epoch 163/200\n",
      "4/4 [==============================] - 2s 416ms/step - loss: 0.7103\n",
      "Epoch 164/200\n",
      "4/4 [==============================] - 2s 402ms/step - loss: 0.7047\n",
      "Epoch 165/200\n",
      "4/4 [==============================] - 2s 418ms/step - loss: 0.7006\n",
      "Epoch 166/200\n",
      "4/4 [==============================] - 2s 408ms/step - loss: 0.6879\n",
      "Epoch 167/200\n",
      "4/4 [==============================] - 2s 405ms/step - loss: 0.7049\n",
      "Epoch 168/200\n",
      "4/4 [==============================] - 2s 404ms/step - loss: 0.7122\n",
      "Epoch 169/200\n",
      "4/4 [==============================] - 2s 408ms/step - loss: 0.6968\n",
      "Epoch 170/200\n",
      "4/4 [==============================] - 2s 448ms/step - loss: 0.7050\n",
      "Epoch 171/200\n",
      "4/4 [==============================] - 2s 435ms/step - loss: 0.6885\n",
      "Epoch 172/200\n",
      "4/4 [==============================] - 2s 395ms/step - loss: 0.6993\n",
      "Epoch 173/200\n",
      "4/4 [==============================] - 2s 432ms/step - loss: 0.6914\n",
      "Epoch 174/200\n",
      "4/4 [==============================] - 2s 434ms/step - loss: 0.6837\n",
      "Epoch 175/200\n",
      "4/4 [==============================] - 2s 412ms/step - loss: 0.6871\n",
      "Epoch 176/200\n",
      "4/4 [==============================] - 2s 405ms/step - loss: 0.7009\n",
      "Epoch 177/200\n",
      "4/4 [==============================] - 2s 410ms/step - loss: 0.6929\n",
      "Epoch 178/200\n",
      "4/4 [==============================] - 2s 431ms/step - loss: 0.6968\n",
      "Epoch 179/200\n",
      "4/4 [==============================] - 2s 425ms/step - loss: 0.6987\n",
      "Epoch 180/200\n",
      "4/4 [==============================] - 2s 400ms/step - loss: 0.7047\n",
      "Epoch 181/200\n",
      "4/4 [==============================] - 2s 414ms/step - loss: 0.6912\n",
      "Epoch 182/200\n",
      "4/4 [==============================] - 2s 402ms/step - loss: 0.6972\n",
      "Epoch 183/200\n",
      "4/4 [==============================] - 2s 414ms/step - loss: 0.6783\n",
      "Epoch 184/200\n",
      "4/4 [==============================] - 2s 415ms/step - loss: 0.6906\n",
      "Epoch 185/200\n",
      "4/4 [==============================] - 2s 417ms/step - loss: 0.6867\n",
      "Epoch 186/200\n",
      "4/4 [==============================] - 2s 417ms/step - loss: 0.6895\n",
      "Epoch 187/200\n",
      "4/4 [==============================] - 2s 394ms/step - loss: 0.6894\n",
      "Epoch 188/200\n",
      "4/4 [==============================] - 2s 411ms/step - loss: 0.6848\n",
      "Epoch 189/200\n",
      "4/4 [==============================] - 2s 410ms/step - loss: 0.6756\n",
      "Epoch 190/200\n",
      "4/4 [==============================] - 2s 408ms/step - loss: 0.6843\n",
      "Epoch 191/200\n",
      "4/4 [==============================] - 2s 412ms/step - loss: 0.6871\n",
      "Epoch 192/200\n",
      "4/4 [==============================] - 2s 425ms/step - loss: 0.6833\n",
      "Epoch 193/200\n",
      "4/4 [==============================] - 2s 425ms/step - loss: 0.6733\n",
      "Epoch 194/200\n",
      "4/4 [==============================] - 2s 420ms/step - loss: 0.6761\n",
      "Epoch 195/200\n",
      "4/4 [==============================] - 2s 421ms/step - loss: 0.6550\n",
      "Epoch 196/200\n",
      "4/4 [==============================] - 2s 411ms/step - loss: 0.6693\n",
      "Epoch 197/200\n",
      "4/4 [==============================] - 2s 398ms/step - loss: 0.6715\n",
      "Epoch 198/200\n",
      "4/4 [==============================] - 2s 397ms/step - loss: 0.6720\n",
      "Epoch 199/200\n",
      "4/4 [==============================] - 2s 412ms/step - loss: 0.6571\n",
      "Epoch 200/200\n",
      "4/4 [==============================] - 2s 381ms/step - loss: 0.6659\n"
     ]
    }
   ],
   "source": [
    "history = full_network.fit_generator(batchGenerator(),\n",
    "                                     epochs = epochs,\n",
    "                                     steps_per_epoch = steps_per_epoch,\n",
    "                                     verbose = 1)"
   ]
  },
  {
   "cell_type": "markdown",
   "metadata": {},
   "source": [
    "- Model save"
   ]
  },
  {
   "cell_type": "code",
   "execution_count": 33,
   "metadata": {},
   "outputs": [],
   "source": [
    "\n",
    "full_network.save_weights('../../models/thyroid/{}/'.format(timestamp)+timestamp+\"-modelsave_weights-epochs{}.h5\".format(epochs), overwrite=True)"
   ]
  },
  {
   "cell_type": "code",
   "execution_count": 34,
   "metadata": {},
   "outputs": [],
   "source": [
    "full_network.save('../../models/thyroid/{}/'.format(timestamp)+timestamp+\"-modelsave-epochs{}.h5\".format(epochs), overwrite=True)"
   ]
  },
  {
   "cell_type": "markdown",
   "metadata": {},
   "source": [
    "- Save history"
   ]
  },
  {
   "cell_type": "code",
   "execution_count": 35,
   "metadata": {},
   "outputs": [],
   "source": [
    "history_np = np.asarray(history.history)"
   ]
  },
  {
   "cell_type": "code",
   "execution_count": 36,
   "metadata": {},
   "outputs": [],
   "source": [
    "np.savez_compressed('../../models/thyroid/{}/'.format(timestamp)+timestamp + \"-history.npz\", history = history_np)"
   ]
  },
  {
   "cell_type": "markdown",
   "metadata": {},
   "source": [
    "- Last gmm params"
   ]
  },
  {
   "cell_type": "code",
   "execution_count": 37,
   "metadata": {},
   "outputs": [
    {
     "name": "stdout",
     "output_type": "stream",
     "text": [
      "#### GMM params ####\n",
      "phi:\n",
      " [0.33694226 0.66305846] \n",
      "\n",
      "mu:\n",
      " [[1.8309544 1.8309544 1.8309544]\n",
      " [1.8057824 1.8057824 1.8057824]] \n",
      "\n",
      "sigma:\n",
      " [[[2.046555  1.47255   1.6785884]\n",
      "  [1.47255   1.1310409 1.2642969]\n",
      "  [1.6785884 1.2642969 1.5109764]]\n",
      "\n",
      " [[2.0499887 1.4517775 1.6317215]\n",
      "  [1.4517775 1.0978279 1.2054397]\n",
      "  [1.6317215 1.2054397 1.4228377]]] \n",
      "\n"
     ]
    }
   ],
   "source": [
    "printGmmParams()"
   ]
  },
  {
   "cell_type": "markdown",
   "metadata": {},
   "source": [
    "- Gmm save"
   ]
  },
  {
   "cell_type": "code",
   "execution_count": 38,
   "metadata": {},
   "outputs": [],
   "source": [
    "saveGmmParams(filename= '../../models/thyroid/{}/'.format(timestamp)+timestamp + \"-gmmParams.npz\")"
   ]
  },
  {
   "cell_type": "code",
   "execution_count": 39,
   "metadata": {},
   "outputs": [
    {
     "data": {
      "text/plain": [
       "'2018-07-30_08:51'"
      ]
     },
     "execution_count": 39,
     "metadata": {},
     "output_type": "execute_result"
    }
   ],
   "source": [
    "timestamp"
   ]
  },
  {
   "cell_type": "code",
   "execution_count": null,
   "metadata": {},
   "outputs": [],
   "source": []
  }
 ],
 "metadata": {
  "kernelspec": {
   "display_name": "Python 3",
   "language": "python",
   "name": "python3"
  },
  "language_info": {
   "codemirror_mode": {
    "name": "ipython",
    "version": 3
   },
   "file_extension": ".py",
   "mimetype": "text/x-python",
   "name": "python",
   "nbconvert_exporter": "python",
   "pygments_lexer": "ipython3",
   "version": "3.6.4"
  }
 },
 "nbformat": 4,
 "nbformat_minor": 2
}
