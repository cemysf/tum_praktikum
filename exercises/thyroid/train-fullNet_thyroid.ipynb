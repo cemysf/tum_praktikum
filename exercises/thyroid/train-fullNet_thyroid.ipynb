{
 "cells": [
  {
   "cell_type": "markdown",
   "metadata": {},
   "source": [
    "### End to end train both networks"
   ]
  },
  {
   "cell_type": "code",
   "execution_count": 125,
   "metadata": {
    "scrolled": true
   },
   "outputs": [],
   "source": [
    "from keras.layers import Input, Dense, Activation, Lambda, Dropout, Concatenate, Reshape\n",
    "from keras.models import Model, Sequential\n",
    "from keras.callbacks import TensorBoard\n",
    "from keras import optimizers\n",
    "from keras import backend as K\n",
    "\n",
    "import tensorflow as tf\n",
    "\n",
    "from keras.regularizers import l2\n"
   ]
  },
  {
   "cell_type": "code",
   "execution_count": 130,
   "metadata": {},
   "outputs": [],
   "source": [
    "### Hyperparameters\n",
    "\n",
    "experiment_id = 0\n",
    "\n",
    "learning_rate = 0.0001\n",
    "\n",
    "epoch_list = [200, 20000, 10000, 4000]\n",
    "batch_size_list = [1024, 1024, 128, 1024]\n",
    "\n",
    "lambda_1 = 0.1       \n",
    "lambda_2 = 0.005     \n",
    "\n",
    "#################\n",
    "\n",
    "epochs = epoch_list[experiment_id]\n",
    "batch_size = batch_size_list[experiment_id]"
   ]
  },
  {
   "cell_type": "markdown",
   "metadata": {},
   "source": [
    "### Define compresion network"
   ]
  },
  {
   "cell_type": "code",
   "execution_count": 131,
   "metadata": {},
   "outputs": [],
   "source": [
    "input_data = Input(batch_shape=(batch_size,21), name='input_placeholder')\n",
    "\n",
    "encoded = Dense(18, activation='tanh', kernel_regularizer=l2(0.00001), bias_regularizer=l2(0.00001))(input_data)\n",
    "encoded = Dense(12, activation='tanh', kernel_regularizer=l2(0.00001), bias_regularizer=l2(0.00001))(encoded)\n",
    "encoded = Dense(4, activation='tanh', kernel_regularizer=l2(0.00001), bias_regularizer=l2(0.00001))(encoded)\n",
    "# encoded = Dense(1, activation='tanh', kernel_regularizer=l2(0.00001), bias_regularizer=l2(0.00001))(encoded)\n",
    "\n",
    "layer_lowdim = Dense(1, activation='linear', kernel_regularizer=l2(0.00001), bias_regularizer=l2(0.00001), name='lowdim')(encoded)\n",
    "\n",
    "decoded = Dense(4, activation='tanh', kernel_regularizer=l2(0.00001), bias_regularizer=l2(0.00001))(layer_lowdim)\n",
    "decoded = Dense(12, activation='tanh', kernel_regularizer=l2(0.00001), bias_regularizer=l2(0.00001))(decoded)\n",
    "decoded = Dense(18, activation='tanh', kernel_regularizer=l2(0.00001), bias_regularizer=l2(0.00001))(decoded)\n",
    "decoded = Dense(21, activation='tanh', kernel_regularizer=l2(0.00001), bias_regularizer=l2(0.00001))(decoded)\n",
    "# decoded = Dense(120, activation='linear', kernel_regularizer=l2(0.00001), bias_regularizer=l2(0.00001), name='reconstructed')(decoded)\n",
    "\n"
   ]
  },
  {
   "cell_type": "markdown",
   "metadata": {},
   "source": [
    "- Define similarity metrics"
   ]
  },
  {
   "cell_type": "code",
   "execution_count": 132,
   "metadata": {},
   "outputs": [],
   "source": [
    "def cos_sim(a_b):\n",
    "    '''\n",
    "    a: batch x 120\n",
    "    b: batch x 120 \n",
    "    \n",
    "    output: batch x 1\n",
    "    '''\n",
    "    a, b = a_b\n",
    "    \n",
    "    norm_a = K.sqrt(K.sum(a ** 2, axis=-1))\n",
    "    norm_b = K.sqrt(K.sum(b ** 2, axis=-1))\n",
    "    \n",
    "    out = K.sum(a * b, axis=-1) / (norm_a * norm_b)\n",
    "    out = K.reshape(out, [batch_size, 1])\n",
    "    \n",
    "    return out\n",
    "\n",
    "def relative_euc_dist(a_b):\n",
    "    '''\n",
    "    a: batch x 120\n",
    "    b: batch x 120 \n",
    "    \n",
    "    output: batch x 1\n",
    "    '''\n",
    "    a,b = a_b\n",
    "    \n",
    "    norm_diff = K.sqrt(K.sum((a - b)**2, axis=-1))\n",
    "    norm_a = K.sqrt(K.sum(a ** 2, axis=-1))\n",
    "    \n",
    "    out = norm_diff / norm_a\n",
    "    out = K.reshape(out, [batch_size, 1])\n",
    "\n",
    "    return out"
   ]
  },
  {
   "cell_type": "code",
   "execution_count": 133,
   "metadata": {},
   "outputs": [],
   "source": [
    "layer_cossim = Lambda(cos_sim,\n",
    "                      name='cos_sim')([input_data, decoded])"
   ]
  },
  {
   "cell_type": "code",
   "execution_count": 134,
   "metadata": {},
   "outputs": [],
   "source": [
    "layer_relativeEuc = Lambda(relative_euc_dist, \n",
    "                           name='relative_euc_dist')([input_data, decoded])"
   ]
  },
  {
   "cell_type": "markdown",
   "metadata": {},
   "source": [
    "- Obtain \"z\""
   ]
  },
  {
   "cell_type": "code",
   "execution_count": 135,
   "metadata": {},
   "outputs": [],
   "source": [
    "def funct_concat(tensors):\n",
    "    return K.concatenate(tensors)\n",
    "\n",
    "layer_concat = Lambda(funct_concat, name=\"z\")([layer_lowdim, layer_cossim, layer_relativeEuc])"
   ]
  },
  {
   "cell_type": "markdown",
   "metadata": {},
   "source": [
    "### Define estimation network"
   ]
  },
  {
   "cell_type": "code",
   "execution_count": 136,
   "metadata": {},
   "outputs": [],
   "source": [
    "input_est = layer_concat #Input(shape=(3,))(layer_concat)\n",
    "\n",
    "est_layer = Dense(10, activation='tanh', kernel_regularizer=l2(0.00001), bias_regularizer=l2(0.00001))(input_est)   ####(input_est)\n",
    "est_layer = Dropout(0.5)(est_layer)\n",
    "est_output = Dense(2, activation='softmax', kernel_regularizer=l2(0.00001), bias_regularizer=l2(0.00001), name='gamma')(est_layer)\n"
   ]
  },
  {
   "cell_type": "markdown",
   "metadata": {},
   "source": [
    "### Build full network"
   ]
  },
  {
   "cell_type": "code",
   "execution_count": 137,
   "metadata": {},
   "outputs": [
    {
     "name": "stderr",
     "output_type": "stream",
     "text": [
      "/Users/jyotirmaysenapati/anaconda3/lib/python3.6/site-packages/ipykernel_launcher.py:1: UserWarning: Update your `Model` call to the Keras 2 API: `Model(outputs=Tensor(\"ga..., inputs=Tensor(\"in...)`\n",
      "  \"\"\"Entry point for launching an IPython kernel.\n"
     ]
    }
   ],
   "source": [
    "full_network = Model(input=input_data, outputs=est_output)"
   ]
  },
  {
   "cell_type": "code",
   "execution_count": 138,
   "metadata": {},
   "outputs": [
    {
     "name": "stdout",
     "output_type": "stream",
     "text": [
      "__________________________________________________________________________________________________\n",
      "Layer (type)                    Output Shape         Param #     Connected to                     \n",
      "==================================================================================================\n",
      "input_placeholder (InputLayer)  (1024, 21)           0                                            \n",
      "__________________________________________________________________________________________________\n",
      "dense_34 (Dense)                (1024, 18)           396         input_placeholder[0][0]          \n",
      "__________________________________________________________________________________________________\n",
      "dense_35 (Dense)                (1024, 12)           228         dense_34[0][0]                   \n",
      "__________________________________________________________________________________________________\n",
      "dense_36 (Dense)                (1024, 4)            52          dense_35[0][0]                   \n",
      "__________________________________________________________________________________________________\n",
      "lowdim (Dense)                  (1024, 1)            5           dense_36[0][0]                   \n",
      "__________________________________________________________________________________________________\n",
      "dense_37 (Dense)                (1024, 4)            8           lowdim[0][0]                     \n",
      "__________________________________________________________________________________________________\n",
      "dense_38 (Dense)                (1024, 12)           60          dense_37[0][0]                   \n",
      "__________________________________________________________________________________________________\n",
      "dense_39 (Dense)                (1024, 18)           234         dense_38[0][0]                   \n",
      "__________________________________________________________________________________________________\n",
      "dense_40 (Dense)                (1024, 21)           399         dense_39[0][0]                   \n",
      "__________________________________________________________________________________________________\n",
      "cos_sim (Lambda)                (1024, 1)            0           input_placeholder[0][0]          \n",
      "                                                                 dense_40[0][0]                   \n",
      "__________________________________________________________________________________________________\n",
      "relative_euc_dist (Lambda)      (1024, 1)            0           input_placeholder[0][0]          \n",
      "                                                                 dense_40[0][0]                   \n",
      "__________________________________________________________________________________________________\n",
      "z (Lambda)                      (1024, 3)            0           lowdim[0][0]                     \n",
      "                                                                 cos_sim[0][0]                    \n",
      "                                                                 relative_euc_dist[0][0]          \n",
      "__________________________________________________________________________________________________\n",
      "dense_41 (Dense)                (1024, 10)           40          z[0][0]                          \n",
      "__________________________________________________________________________________________________\n",
      "dropout_4 (Dropout)             (1024, 10)           0           dense_41[0][0]                   \n",
      "__________________________________________________________________________________________________\n",
      "gamma (Dense)                   (1024, 2)            22          dropout_4[0][0]                  \n",
      "==================================================================================================\n",
      "Total params: 1,444\n",
      "Trainable params: 1,444\n",
      "Non-trainable params: 0\n",
      "__________________________________________________________________________________________________\n"
     ]
    }
   ],
   "source": [
    "full_network.summary()"
   ]
  },
  {
   "cell_type": "markdown",
   "metadata": {},
   "source": [
    "### Load already saved dataset"
   ]
  },
  {
   "cell_type": "code",
   "execution_count": 139,
   "metadata": {},
   "outputs": [],
   "source": [
    "import numpy as np"
   ]
  },
  {
   "cell_type": "code",
   "execution_count": 141,
   "metadata": {},
   "outputs": [
    {
     "name": "stdout",
     "output_type": "stream",
     "text": [
      "[[0.5        0.         0.         ... 0.29707113 0.5        0.22138837]\n",
      " [0.58333333 0.         0.         ... 0.19832636 0.39351852 0.18230144]\n",
      " [0.60416667 0.         0.         ... 0.18189121 0.37962963 0.17146654]\n",
      " ...\n",
      " [0.76041667 0.         0.         ... 0.09958159 0.28240741 0.12132583]\n",
      " [0.15625    1.         1.         ... 0.23012552 0.33333333 0.24171357]\n",
      " [0.65625    0.         0.         ... 0.16317992 0.31018519 0.18230144]]\n"
     ]
    }
   ],
   "source": [
    "with np.load('thyroid_train-randomState_None.npz') as data: \n",
    "    x_train = data[\"x_train\"]\n",
    "    y_train = data[\"y_train\"]\n",
    "    \n",
    "# labels removed\n",
    "x_train = x_train[:, 0:-2]\n",
    "print(x_train)"
   ]
  },
  {
   "cell_type": "code",
   "execution_count": 142,
   "metadata": {},
   "outputs": [
    {
     "data": {
      "text/plain": [
       "(3306, 21)"
      ]
     },
     "execution_count": 142,
     "metadata": {},
     "output_type": "execute_result"
    }
   ],
   "source": [
    "x_train.shape"
   ]
  },
  {
   "cell_type": "code",
   "execution_count": 143,
   "metadata": {},
   "outputs": [
    {
     "data": {
      "text/plain": [
       "(3306, 2)"
      ]
     },
     "execution_count": 143,
     "metadata": {},
     "output_type": "execute_result"
    }
   ],
   "source": [
    "y_train.shape"
   ]
  },
  {
   "cell_type": "markdown",
   "metadata": {},
   "source": [
    "### GMM parameters"
   ]
  },
  {
   "cell_type": "markdown",
   "metadata": {},
   "source": [
    "- k: number of clusters (4 for here)\n",
    "- N: batch size\n",
    "- d: Dimension of latent vector z (3 here)"
   ]
  },
  {
   "cell_type": "markdown",
   "metadata": {},
   "source": [
    "- gamma ($\\gamma$) : membership predictions (softmax output of estimation net) [$N \\times K$]\n",
    "- phi ($\\phi$): gaussian probabilities [$K$]\n",
    "- mu ($\\mu$): gaussian means [$K \\times d$]\n",
    "- sigma ($\\Sigma$): gaussian covariances [$K \\times d \\times d$]"
   ]
  },
  {
   "cell_type": "code",
   "execution_count": 144,
   "metadata": {},
   "outputs": [],
   "source": [
    "k = 2 \n",
    "N = batch_size \n",
    "d = int(layer_concat.get_shape()[1])"
   ]
  },
  {
   "cell_type": "markdown",
   "metadata": {},
   "source": [
    "- GMM parameters init"
   ]
  },
  {
   "cell_type": "code",
   "execution_count": 145,
   "metadata": {},
   "outputs": [
    {
     "ename": "ValueError",
     "evalue": "Variable phi already exists, disallowed. Did you mean to set reuse=True or reuse=tf.AUTO_REUSE in VarScope? Originally defined at:\n\n  File \"<ipython-input-22-dd8806924096>\", line 5, in <module>\n    trainable=False)\n  File \"/Users/jyotirmaysenapati/anaconda3/lib/python3.6/site-packages/IPython/core/interactiveshell.py\", line 2910, in run_code\n    exec(code_obj, self.user_global_ns, self.user_ns)\n  File \"/Users/jyotirmaysenapati/anaconda3/lib/python3.6/site-packages/IPython/core/interactiveshell.py\", line 2850, in run_ast_nodes\n    if self.run_code(code, result):\n",
     "traceback": [
      "\u001b[0;31m---------------------------------------------------------------------------\u001b[0m",
      "\u001b[0;31mValueError\u001b[0m                                Traceback (most recent call last)",
      "\u001b[0;32m<ipython-input-145-dd8806924096>\u001b[0m in \u001b[0;36m<module>\u001b[0;34m()\u001b[0m\n\u001b[1;32m      3\u001b[0m                       \u001b[0mdtype\u001b[0m\u001b[0;34m=\u001b[0m\u001b[0mtf\u001b[0m\u001b[0;34m.\u001b[0m\u001b[0mfloat32\u001b[0m\u001b[0;34m,\u001b[0m\u001b[0;34m\u001b[0m\u001b[0m\n\u001b[1;32m      4\u001b[0m                       \u001b[0minitializer\u001b[0m\u001b[0;34m=\u001b[0m\u001b[0mtf\u001b[0m\u001b[0;34m.\u001b[0m\u001b[0mzeros_initializer\u001b[0m\u001b[0;34m(\u001b[0m\u001b[0;34m)\u001b[0m\u001b[0;34m,\u001b[0m\u001b[0;34m\u001b[0m\u001b[0m\n\u001b[0;32m----> 5\u001b[0;31m                       trainable=False)\n\u001b[0m\u001b[1;32m      6\u001b[0m \u001b[0;34m\u001b[0m\u001b[0m\n\u001b[1;32m      7\u001b[0m mu = tf.get_variable(\"mu\",\n",
      "\u001b[0;32m~/anaconda3/lib/python3.6/site-packages/tensorflow/python/ops/variable_scope.py\u001b[0m in \u001b[0;36mget_variable\u001b[0;34m(name, shape, dtype, initializer, regularizer, trainable, collections, caching_device, partitioner, validate_shape, use_resource, custom_getter, constraint)\u001b[0m\n\u001b[1;32m   1315\u001b[0m       \u001b[0mpartitioner\u001b[0m\u001b[0;34m=\u001b[0m\u001b[0mpartitioner\u001b[0m\u001b[0;34m,\u001b[0m \u001b[0mvalidate_shape\u001b[0m\u001b[0;34m=\u001b[0m\u001b[0mvalidate_shape\u001b[0m\u001b[0;34m,\u001b[0m\u001b[0;34m\u001b[0m\u001b[0m\n\u001b[1;32m   1316\u001b[0m       \u001b[0muse_resource\u001b[0m\u001b[0;34m=\u001b[0m\u001b[0muse_resource\u001b[0m\u001b[0;34m,\u001b[0m \u001b[0mcustom_getter\u001b[0m\u001b[0;34m=\u001b[0m\u001b[0mcustom_getter\u001b[0m\u001b[0;34m,\u001b[0m\u001b[0;34m\u001b[0m\u001b[0m\n\u001b[0;32m-> 1317\u001b[0;31m       constraint=constraint)\n\u001b[0m\u001b[1;32m   1318\u001b[0m get_variable_or_local_docstring = (\n\u001b[1;32m   1319\u001b[0m     \"\"\"%s\n",
      "\u001b[0;32m~/anaconda3/lib/python3.6/site-packages/tensorflow/python/ops/variable_scope.py\u001b[0m in \u001b[0;36mget_variable\u001b[0;34m(self, var_store, name, shape, dtype, initializer, regularizer, reuse, trainable, collections, caching_device, partitioner, validate_shape, use_resource, custom_getter, constraint)\u001b[0m\n\u001b[1;32m   1077\u001b[0m           \u001b[0mpartitioner\u001b[0m\u001b[0;34m=\u001b[0m\u001b[0mpartitioner\u001b[0m\u001b[0;34m,\u001b[0m \u001b[0mvalidate_shape\u001b[0m\u001b[0;34m=\u001b[0m\u001b[0mvalidate_shape\u001b[0m\u001b[0;34m,\u001b[0m\u001b[0;34m\u001b[0m\u001b[0m\n\u001b[1;32m   1078\u001b[0m           \u001b[0muse_resource\u001b[0m\u001b[0;34m=\u001b[0m\u001b[0muse_resource\u001b[0m\u001b[0;34m,\u001b[0m \u001b[0mcustom_getter\u001b[0m\u001b[0;34m=\u001b[0m\u001b[0mcustom_getter\u001b[0m\u001b[0;34m,\u001b[0m\u001b[0;34m\u001b[0m\u001b[0m\n\u001b[0;32m-> 1079\u001b[0;31m           constraint=constraint)\n\u001b[0m\u001b[1;32m   1080\u001b[0m \u001b[0;34m\u001b[0m\u001b[0m\n\u001b[1;32m   1081\u001b[0m   def _get_partitioned_variable(self,\n",
      "\u001b[0;32m~/anaconda3/lib/python3.6/site-packages/tensorflow/python/ops/variable_scope.py\u001b[0m in \u001b[0;36mget_variable\u001b[0;34m(self, name, shape, dtype, initializer, regularizer, reuse, trainable, collections, caching_device, partitioner, validate_shape, use_resource, custom_getter, constraint)\u001b[0m\n\u001b[1;32m    423\u001b[0m           \u001b[0mcaching_device\u001b[0m\u001b[0;34m=\u001b[0m\u001b[0mcaching_device\u001b[0m\u001b[0;34m,\u001b[0m \u001b[0mpartitioner\u001b[0m\u001b[0;34m=\u001b[0m\u001b[0mpartitioner\u001b[0m\u001b[0;34m,\u001b[0m\u001b[0;34m\u001b[0m\u001b[0m\n\u001b[1;32m    424\u001b[0m           \u001b[0mvalidate_shape\u001b[0m\u001b[0;34m=\u001b[0m\u001b[0mvalidate_shape\u001b[0m\u001b[0;34m,\u001b[0m \u001b[0muse_resource\u001b[0m\u001b[0;34m=\u001b[0m\u001b[0muse_resource\u001b[0m\u001b[0;34m,\u001b[0m\u001b[0;34m\u001b[0m\u001b[0m\n\u001b[0;32m--> 425\u001b[0;31m           constraint=constraint)\n\u001b[0m\u001b[1;32m    426\u001b[0m \u001b[0;34m\u001b[0m\u001b[0m\n\u001b[1;32m    427\u001b[0m   def _get_partitioned_variable(\n",
      "\u001b[0;32m~/anaconda3/lib/python3.6/site-packages/tensorflow/python/ops/variable_scope.py\u001b[0m in \u001b[0;36m_true_getter\u001b[0;34m(name, shape, dtype, initializer, regularizer, reuse, trainable, collections, caching_device, partitioner, validate_shape, use_resource, constraint)\u001b[0m\n\u001b[1;32m    392\u001b[0m           \u001b[0mtrainable\u001b[0m\u001b[0;34m=\u001b[0m\u001b[0mtrainable\u001b[0m\u001b[0;34m,\u001b[0m \u001b[0mcollections\u001b[0m\u001b[0;34m=\u001b[0m\u001b[0mcollections\u001b[0m\u001b[0;34m,\u001b[0m\u001b[0;34m\u001b[0m\u001b[0m\n\u001b[1;32m    393\u001b[0m           \u001b[0mcaching_device\u001b[0m\u001b[0;34m=\u001b[0m\u001b[0mcaching_device\u001b[0m\u001b[0;34m,\u001b[0m \u001b[0mvalidate_shape\u001b[0m\u001b[0;34m=\u001b[0m\u001b[0mvalidate_shape\u001b[0m\u001b[0;34m,\u001b[0m\u001b[0;34m\u001b[0m\u001b[0m\n\u001b[0;32m--> 394\u001b[0;31m           use_resource=use_resource, constraint=constraint)\n\u001b[0m\u001b[1;32m    395\u001b[0m \u001b[0;34m\u001b[0m\u001b[0m\n\u001b[1;32m    396\u001b[0m     \u001b[0;32mif\u001b[0m \u001b[0mcustom_getter\u001b[0m \u001b[0;32mis\u001b[0m \u001b[0;32mnot\u001b[0m \u001b[0;32mNone\u001b[0m\u001b[0;34m:\u001b[0m\u001b[0;34m\u001b[0m\u001b[0m\n",
      "\u001b[0;32m~/anaconda3/lib/python3.6/site-packages/tensorflow/python/ops/variable_scope.py\u001b[0m in \u001b[0;36m_get_single_variable\u001b[0;34m(self, name, shape, dtype, initializer, regularizer, partition_info, reuse, trainable, collections, caching_device, validate_shape, use_resource, constraint)\u001b[0m\n\u001b[1;32m    731\u001b[0m                          \u001b[0;34m\"reuse=tf.AUTO_REUSE in VarScope? \"\u001b[0m\u001b[0;34m\u001b[0m\u001b[0m\n\u001b[1;32m    732\u001b[0m                          \"Originally defined at:\\n\\n%s\" % (\n\u001b[0;32m--> 733\u001b[0;31m                              name, \"\".join(traceback.format_list(tb))))\n\u001b[0m\u001b[1;32m    734\u001b[0m       \u001b[0mfound_var\u001b[0m \u001b[0;34m=\u001b[0m \u001b[0mself\u001b[0m\u001b[0;34m.\u001b[0m\u001b[0m_vars\u001b[0m\u001b[0;34m[\u001b[0m\u001b[0mname\u001b[0m\u001b[0;34m]\u001b[0m\u001b[0;34m\u001b[0m\u001b[0m\n\u001b[1;32m    735\u001b[0m       \u001b[0;32mif\u001b[0m \u001b[0;32mnot\u001b[0m \u001b[0mshape\u001b[0m\u001b[0;34m.\u001b[0m\u001b[0mis_compatible_with\u001b[0m\u001b[0;34m(\u001b[0m\u001b[0mfound_var\u001b[0m\u001b[0;34m.\u001b[0m\u001b[0mget_shape\u001b[0m\u001b[0;34m(\u001b[0m\u001b[0;34m)\u001b[0m\u001b[0;34m)\u001b[0m\u001b[0;34m:\u001b[0m\u001b[0;34m\u001b[0m\u001b[0m\n",
      "\u001b[0;31mValueError\u001b[0m: Variable phi already exists, disallowed. Did you mean to set reuse=True or reuse=tf.AUTO_REUSE in VarScope? Originally defined at:\n\n  File \"<ipython-input-22-dd8806924096>\", line 5, in <module>\n    trainable=False)\n  File \"/Users/jyotirmaysenapati/anaconda3/lib/python3.6/site-packages/IPython/core/interactiveshell.py\", line 2910, in run_code\n    exec(code_obj, self.user_global_ns, self.user_ns)\n  File \"/Users/jyotirmaysenapati/anaconda3/lib/python3.6/site-packages/IPython/core/interactiveshell.py\", line 2850, in run_ast_nodes\n    if self.run_code(code, result):\n"
     ],
     "output_type": "error"
    }
   ],
   "source": [
    "phi = tf.get_variable(\"phi\",\n",
    "                      shape=(k),\n",
    "                      dtype=tf.float32,\n",
    "                      initializer=tf.zeros_initializer(),\n",
    "                      trainable=False)\n",
    "\n",
    "mu = tf.get_variable(\"mu\",\n",
    "                      shape=(k,d),\n",
    "                      dtype=tf.float32,\n",
    "                      initializer=tf.zeros_initializer(), \n",
    "                      trainable=False)\n",
    "\n",
    "sigma_init = np.repeat([np.eye(d, dtype=np.float32)], k, axis=0)\n",
    "\n",
    "sigma = tf.get_variable(\"sigma\",\n",
    "                      shape=(k,d,d),\n",
    "                      dtype=tf.float32,\n",
    "                      initializer=tf.constant_initializer(sigma_init),\n",
    "                      trainable=False)"
   ]
  },
  {
   "cell_type": "code",
   "execution_count": 146,
   "metadata": {},
   "outputs": [],
   "source": [
    "tf_sess = K.get_session()"
   ]
  },
  {
   "cell_type": "code",
   "execution_count": 147,
   "metadata": {
    "scrolled": true
   },
   "outputs": [
    {
     "data": {
      "text/plain": [
       "[None, None, None]"
      ]
     },
     "execution_count": 147,
     "metadata": {},
     "output_type": "execute_result"
    }
   ],
   "source": [
    "tf_sess.run([phi.initializer,\n",
    "             mu.initializer, \n",
    "             sigma.initializer])"
   ]
  },
  {
   "cell_type": "markdown",
   "metadata": {},
   "source": [
    "- Check for uninit vars"
   ]
  },
  {
   "cell_type": "code",
   "execution_count": 148,
   "metadata": {},
   "outputs": [
    {
     "name": "stdout",
     "output_type": "stream",
     "text": [
      "[]\n"
     ]
    }
   ],
   "source": [
    "print(tf_sess.run(tf.report_uninitialized_variables()))"
   ]
  },
  {
   "cell_type": "code",
   "execution_count": 149,
   "metadata": {},
   "outputs": [],
   "source": [
    "def printGmmParams():\n",
    "    print(\"#### GMM params ####\")\n",
    "    print(\"phi:\\n\",K.eval(phi),\"\\n\")\n",
    "    print(\"mu:\\n\",K.eval(mu),\"\\n\")\n",
    "    print(\"sigma:\\n\", K.eval(sigma),\"\\n\")\n",
    "\n"
   ]
  },
  {
   "cell_type": "code",
   "execution_count": 150,
   "metadata": {},
   "outputs": [],
   "source": [
    "def saveGmmParams(filename = \"gmmParams.npz\"):\n",
    "    phi_ = K.eval(phi)\n",
    "    mu_ = K.eval(mu)\n",
    "    sigma_ = K.eval(sigma)\n",
    "    np.savez_compressed(filename, phi=phi_, mu=mu_, sigma=sigma_)"
   ]
  },
  {
   "cell_type": "code",
   "execution_count": 151,
   "metadata": {
    "scrolled": true
   },
   "outputs": [
    {
     "name": "stdout",
     "output_type": "stream",
     "text": [
      "#### GMM params ####\n",
      "phi:\n",
      " [0. 0.] \n",
      "\n",
      "mu:\n",
      " [[0. 0. 0.]\n",
      " [0. 0. 0.]] \n",
      "\n",
      "sigma:\n",
      " [[[1. 0. 0.]\n",
      "  [0. 1. 0.]\n",
      "  [0. 0. 1.]]\n",
      "\n",
      " [[1. 0. 0.]\n",
      "  [0. 1. 0.]\n",
      "  [0. 0. 1.]]] \n",
      "\n"
     ]
    }
   ],
   "source": [
    "printGmmParams()"
   ]
  },
  {
   "cell_type": "markdown",
   "metadata": {},
   "source": [
    "### Total loss calculation"
   ]
  },
  {
   "cell_type": "code",
   "execution_count": 152,
   "metadata": {},
   "outputs": [],
   "source": [
    "isVerbose_en = True\n",
    "isVerbose_loss = True"
   ]
  },
  {
   "cell_type": "markdown",
   "metadata": {},
   "source": [
    "- For the first time run of the totalLoss function"
   ]
  },
  {
   "cell_type": "code",
   "execution_count": 153,
   "metadata": {},
   "outputs": [],
   "source": [
    "choices = np.random.choice(len(x_train), size=batch_size, replace=False)\n",
    "\n",
    "batch_x_train = x_train[choices]\n",
    "batch_y_train = y_train[choices]\n",
    "\n",
    "batch_train = (batch_x_train, batch_y_train)"
   ]
  },
  {
   "cell_type": "markdown",
   "metadata": {},
   "source": [
    "- Define energy function"
   ]
  },
  {
   "cell_type": "code",
   "execution_count": 154,
   "metadata": {},
   "outputs": [],
   "source": [
    "def computeEnergy(z_i):\n",
    "    \"\"\"\n",
    "    compute E(z_i) in loss function\n",
    "    \"\"\"\n",
    "    \n",
    "    #inside_sum = 0\n",
    "    inside_sum = tf.zeros(()) \n",
    "    for cluster in range(k):\n",
    "        diff = tf.reshape(z_i - mu[cluster], (1,-1))   ### (1,3)\n",
    "        diff_t = tf.reshape(diff, (-1,1)) #diff.reshape(-1,1)   ### (3,1)\n",
    "\n",
    "        sigma_inv = tf.linalg.inv(sigma[cluster]) ### (3,3)\n",
    "        \n",
    "        exp_term = tf.exp(-0.5 * tf.matmul(diff, tf.matmul(sigma_inv, diff_t)))    ### (1,1)\n",
    "\n",
    "        denom = tf.sqrt(tf.linalg.det(2 * np.pi * sigma[cluster]))\n",
    "        \n",
    "        inside_sum += phi[cluster] * (exp_term / denom)   ### (1,1)\n",
    "        \n",
    "        \n",
    "    inside_sum = tf.reshape(inside_sum, ())\n",
    "    sample_energy = -tf.log(inside_sum + 1e-6, name=\"sample_energy\")\n",
    "    \n",
    "        \n",
    "    ### flatten inside_sum and return log of it\n",
    "    return sample_energy"
   ]
  },
  {
   "cell_type": "markdown",
   "metadata": {},
   "source": [
    "- Define total loss"
   ]
  },
  {
   "cell_type": "code",
   "execution_count": 155,
   "metadata": {},
   "outputs": [],
   "source": [
    "def totalLoss(yTrue, yPred):\n",
    "    ### autoencoder loss\n",
    "    autoenc_loss = tf.reduce_sum(((input_data - decoded)**2), axis=1)    ### (N,)\n",
    "    autoenc_loss = tf.reduce_mean(autoenc_loss, axis=0)      #### mean over all N in batch\n",
    "    \n",
    "    ### obtain z and gamma for current batch\n",
    "    z = layer_concat\n",
    "    gamma = est_output\n",
    "    \n",
    "    \n",
    "    ########### gmm update #################\n",
    "    gamma = est_output ### + 1e-6\n",
    "    z = layer_concat         \n",
    "\n",
    "    ### update list\n",
    "    updates_gmm = []\n",
    "\n",
    "    ################### phi #################\n",
    "    update_phi = tf.assign(phi, \n",
    "                           tf.reduce_sum(gamma/batch_size, axis=0), \n",
    "                           name=\"update_phi\")\n",
    "    updates_gmm.append(update_phi)\n",
    "    #######################################\n",
    "\n",
    "    ################## mu ################\n",
    "    for cluster in range(k):\n",
    "        ### get the corresponding column of predictions\n",
    "        gamma_cluster = tf.reshape(gamma[:,cluster], (-1,1))    ### (N x 1)\n",
    "\n",
    "        ### duplicate column d times\n",
    "        gamma_cluster_tile = tf.tile(gamma_cluster, (1,d))   ### (N x d)\n",
    "\n",
    "        ### sum over all batch and divide\n",
    "        matmul = tf.matmul(z, gamma_cluster_tile, transpose_a=True)   ### (dxd)\n",
    "\n",
    "        result = tf.reduce_sum(matmul, axis=0, name=\"mu_matmul_red\") / tf.reduce_sum(gamma[:,cluster], axis = 0, name=\"mu_gamma_red\")\n",
    "\n",
    "        update_mu = tf.assign(mu[cluster], \n",
    "                              result,\n",
    "                              name=\"update_mu\"+str(cluster))\n",
    "        updates_gmm.append(update_mu)\n",
    "    #########################################\n",
    "\n",
    "    ################ sigma ###############\n",
    "    for cluster in range(k):\n",
    "        ### expand gamma for each sample\n",
    "        gamma_cluster = tf.reshape(gamma[:,cluster], (-1,1))    ### (N x 1)\n",
    "        gamma_cluster_expand = tf.expand_dims(gamma_cluster, 1) ### (N x 1 x 1)\n",
    "\n",
    "\n",
    "        #### calculating diff\n",
    "        ## expand mu and z\n",
    "        ######## TODO: race condition??? (get mu after its updated value (auto??))\n",
    "        with tf.control_dependencies(updates_gmm):\n",
    "            mu_cluster = tf.reshape(mu[cluster], (1,-1))   ### (1 x d)\n",
    "\n",
    "        mu_expand = tf.expand_dims(mu_cluster, 1)      ### (1 x 1 x 3)\n",
    "        mu_expand_tile = tf.tile(mu_expand, tf.stack([N, 1, 1]))   ### (N x 1 x d)\n",
    "\n",
    "        z_expand = tf.expand_dims(z, 1)    ### (N x 1 x d)\n",
    "\n",
    "        diff = z_expand - mu_expand_tile   ### (N x 1 x d)\n",
    "\n",
    "        ### matmul in the upper part\n",
    "        matmul = tf.matmul(diff, diff, transpose_a=True)  ### (N x d x d)\n",
    "\n",
    "\n",
    "        ### nominator\n",
    "        nom = gamma_cluster_expand * matmul   ### (N x d x d)\n",
    "        nom_reduced = tf.reduce_sum(nom, axis=0) ### (d x d)\n",
    "\n",
    "\n",
    "        ### denominator\n",
    "        denom = tf.reduce_sum(gamma_cluster)  ### single value, zero dim\n",
    "\n",
    "        update_sigma = tf.assign(sigma[cluster], \n",
    "                                 nom_reduced/denom, \n",
    "                                 name =\"update_sigma\"+str(cluster))\n",
    "        updates_gmm.append(update_sigma)\n",
    "\n",
    "    \n",
    "    \n",
    "    ### dependency control\n",
    "    with tf.control_dependencies(updates_gmm):  \n",
    "        ### sample energy   \n",
    "        sample_en_batch = tf.map_fn(lambda z_i: computeEnergy(z_i), z)\n",
    "        sample_en = tf.reduce_mean(sample_en_batch, axis=0)\n",
    "        sample_en *= lambda_1\n",
    "\n",
    "        p = tf.reduce_sum(1 / tf.matrix_diag_part(sigma))\n",
    "        p *= lambda_2\n",
    "\n",
    "    ### total loss\n",
    "    total_loss = autoenc_loss + sample_en + p\n",
    "\n",
    "    return total_loss  \n"
   ]
  },
  {
   "cell_type": "code",
   "execution_count": 156,
   "metadata": {},
   "outputs": [],
   "source": [
    "### load previos weights\n",
    "### full_network.load_weights(\"modelsave_weights-epochs5.h5\")"
   ]
  },
  {
   "cell_type": "code",
   "execution_count": 157,
   "metadata": {
    "scrolled": true
   },
   "outputs": [],
   "source": [
    "### keras\n",
    "\n",
    "adam = optimizers.adam(lr=learning_rate, clipnorm=1., clipvalue=0.5) \n",
    "\n",
    "full_network.compile(optimizer=adam, loss=totalLoss) "
   ]
  },
  {
   "cell_type": "code",
   "execution_count": 158,
   "metadata": {},
   "outputs": [
    {
     "name": "stdout",
     "output_type": "stream",
     "text": [
      "2018-07-28_14:39 \n"
     ]
    }
   ],
   "source": [
    "### Timestamp\n",
    "from datetime import datetime\n",
    "timestamp = datetime.now().strftime(\"%Y-%m-%d_%H:%M\")\n",
    "print(timestamp, \"\")"
   ]
  },
  {
   "cell_type": "markdown",
   "metadata": {},
   "source": [
    "- Batch generator for training"
   ]
  },
  {
   "cell_type": "code",
   "execution_count": 159,
   "metadata": {},
   "outputs": [],
   "source": [
    "### TODO: optimization??\n",
    "\n",
    "def batchGenerator():\n",
    "    '''\n",
    "    return: number of batch_size examples in each run\n",
    "    '''\n",
    "    \n",
    "    while True:\n",
    "        choices = np.random.choice(len(x_train), size=batch_size, replace=False)\n",
    "        \n",
    "        batch_x_train = x_train[choices]\n",
    "        batch_y_train = y_train[choices]\n",
    "        \n",
    "        \n",
    "        yield (batch_x_train, batch_y_train) "
   ]
  },
  {
   "cell_type": "markdown",
   "metadata": {},
   "source": [
    "- Training using fit_generator"
   ]
  },
  {
   "cell_type": "code",
   "execution_count": 160,
   "metadata": {},
   "outputs": [],
   "source": [
    "steps_per_epoch = int(np.ceil(x_train.shape[0] / batch_size))"
   ]
  },
  {
   "cell_type": "code",
   "execution_count": 161,
   "metadata": {
    "scrolled": true
   },
   "outputs": [
    {
     "name": "stdout",
     "output_type": "stream",
     "text": [
      "Epoch 1/200\n",
      "4/4 [==============================] - 3s 836ms/step - loss: 1.9170\n",
      "Epoch 2/200\n",
      "4/4 [==============================] - 2s 407ms/step - loss: 1.8809\n",
      "Epoch 3/200\n",
      "4/4 [==============================] - 2s 391ms/step - loss: 1.8599\n",
      "Epoch 4/200\n",
      "4/4 [==============================] - 2s 391ms/step - loss: 1.7876\n",
      "Epoch 5/200\n",
      "4/4 [==============================] - 2s 396ms/step - loss: 1.7696\n",
      "Epoch 6/200\n",
      "4/4 [==============================] - 2s 384ms/step - loss: 1.7703\n",
      "Epoch 7/200\n",
      "4/4 [==============================] - 2s 378ms/step - loss: 1.7780\n",
      "Epoch 8/200\n",
      "4/4 [==============================] - 1s 369ms/step - loss: 1.7761\n",
      "Epoch 9/200\n",
      "4/4 [==============================] - 2s 387ms/step - loss: 1.8064\n",
      "Epoch 10/200\n",
      "4/4 [==============================] - 1s 374ms/step - loss: 1.8445\n",
      "Epoch 11/200\n",
      "4/4 [==============================] - 2s 439ms/step - loss: 2.0606\n",
      "Epoch 12/200\n",
      "4/4 [==============================] - 2s 398ms/step - loss: 2.4458\n",
      "Epoch 13/200\n",
      "4/4 [==============================] - 2s 417ms/step - loss: 3.0761\n",
      "Epoch 14/200\n",
      "4/4 [==============================] - 2s 459ms/step - loss: 3.8786\n",
      "Epoch 15/200\n",
      "4/4 [==============================] - 2s 502ms/step - loss: 3.9167\n",
      "Epoch 16/200\n",
      "4/4 [==============================] - 2s 466ms/step - loss: 3.4244\n",
      "Epoch 17/200\n",
      "4/4 [==============================] - 1s 373ms/step - loss: 2.6174\n",
      "Epoch 18/200\n",
      "4/4 [==============================] - 2s 375ms/step - loss: 2.2648\n",
      "Epoch 19/200\n",
      "4/4 [==============================] - 2s 377ms/step - loss: 1.9110\n",
      "Epoch 20/200\n",
      "4/4 [==============================] - 2s 380ms/step - loss: 1.7482\n",
      "Epoch 21/200\n",
      "4/4 [==============================] - 2s 377ms/step - loss: 1.6373\n",
      "Epoch 22/200\n",
      "4/4 [==============================] - 2s 376ms/step - loss: 1.5669\n",
      "Epoch 23/200\n",
      "4/4 [==============================] - 2s 382ms/step - loss: 1.5114\n",
      "Epoch 24/200\n",
      "4/4 [==============================] - 2s 376ms/step - loss: 1.4722\n",
      "Epoch 25/200\n",
      "4/4 [==============================] - 2s 379ms/step - loss: 1.4014\n",
      "Epoch 26/200\n",
      "4/4 [==============================] - 2s 426ms/step - loss: 1.3860\n",
      "Epoch 27/200\n",
      "4/4 [==============================] - 2s 486ms/step - loss: 1.3699\n",
      "Epoch 28/200\n",
      "4/4 [==============================] - 2s 438ms/step - loss: 1.3429\n",
      "Epoch 29/200\n",
      "4/4 [==============================] - 2s 443ms/step - loss: 1.3327\n",
      "Epoch 30/200\n",
      "4/4 [==============================] - 2s 397ms/step - loss: 1.3011\n",
      "Epoch 31/200\n",
      "4/4 [==============================] - 2s 384ms/step - loss: 1.2931\n",
      "Epoch 32/200\n",
      "4/4 [==============================] - 2s 409ms/step - loss: 1.2760\n",
      "Epoch 33/200\n",
      "4/4 [==============================] - 1s 372ms/step - loss: 1.2441\n",
      "Epoch 34/200\n",
      "4/4 [==============================] - 2s 395ms/step - loss: 1.2350\n",
      "Epoch 35/200\n",
      "4/4 [==============================] - 2s 394ms/step - loss: 1.2332\n",
      "Epoch 36/200\n",
      "4/4 [==============================] - 2s 378ms/step - loss: 1.2150\n",
      "Epoch 37/200\n",
      "4/4 [==============================] - 2s 475ms/step - loss: 1.1864\n",
      "Epoch 38/200\n",
      "4/4 [==============================] - 2s 388ms/step - loss: 1.1732\n",
      "Epoch 39/200\n",
      "4/4 [==============================] - 2s 414ms/step - loss: 1.1770\n",
      "Epoch 40/200\n",
      "4/4 [==============================] - 2s 484ms/step - loss: 1.1623\n",
      "Epoch 41/200\n",
      "4/4 [==============================] - 3s 629ms/step - loss: 1.1599\n",
      "Epoch 42/200\n",
      "4/4 [==============================] - 2s 498ms/step - loss: 1.1463\n",
      "Epoch 43/200\n",
      "4/4 [==============================] - 2s 513ms/step - loss: 1.1121\n",
      "Epoch 44/200\n",
      "4/4 [==============================] - 2s 468ms/step - loss: 1.1048\n",
      "Epoch 45/200\n",
      "4/4 [==============================] - 2s 546ms/step - loss: 1.0953\n",
      "Epoch 46/200\n",
      "4/4 [==============================] - 2s 410ms/step - loss: 1.0854\n",
      "Epoch 47/200\n",
      "4/4 [==============================] - 2s 396ms/step - loss: 1.0724\n",
      "Epoch 48/200\n",
      "4/4 [==============================] - 2s 379ms/step - loss: 1.0582\n",
      "Epoch 49/200\n",
      "4/4 [==============================] - 2s 410ms/step - loss: 1.0568\n",
      "Epoch 50/200\n",
      "4/4 [==============================] - 2s 492ms/step - loss: 1.0577\n",
      "Epoch 51/200\n",
      "4/4 [==============================] - 2s 480ms/step - loss: 1.0153\n",
      "Epoch 52/200\n",
      "4/4 [==============================] - 2s 406ms/step - loss: 1.0217\n",
      "Epoch 53/200\n",
      "4/4 [==============================] - 2s 407ms/step - loss: 0.9992\n",
      "Epoch 54/200\n",
      "4/4 [==============================] - 2s 404ms/step - loss: 1.0064\n",
      "Epoch 55/200\n",
      "4/4 [==============================] - 2s 411ms/step - loss: 0.9623\n",
      "Epoch 56/200\n",
      "4/4 [==============================] - 2s 565ms/step - loss: 1.0049\n",
      "Epoch 57/200\n",
      "4/4 [==============================] - 2s 544ms/step - loss: 0.9343\n",
      "Epoch 58/200\n",
      "4/4 [==============================] - 2s 591ms/step - loss: 0.9733\n",
      "Epoch 59/200\n",
      "4/4 [==============================] - 2s 460ms/step - loss: 0.9473\n",
      "Epoch 60/200\n",
      "4/4 [==============================] - 2s 595ms/step - loss: 0.9616\n",
      "Epoch 61/200\n",
      "4/4 [==============================] - 3s 626ms/step - loss: 0.9283\n",
      "Epoch 62/200\n",
      "4/4 [==============================] - 3s 777ms/step - loss: 0.9217\n",
      "Epoch 63/200\n",
      "4/4 [==============================] - 2s 624ms/step - loss: 0.9141\n",
      "Epoch 64/200\n",
      "4/4 [==============================] - 2s 532ms/step - loss: 0.9158\n",
      "Epoch 65/200\n",
      "4/4 [==============================] - 2s 470ms/step - loss: 0.9031\n",
      "Epoch 66/200\n",
      "4/4 [==============================] - 2s 533ms/step - loss: 0.9026\n",
      "Epoch 67/200\n",
      "4/4 [==============================] - 3s 717ms/step - loss: 0.8932\n",
      "Epoch 68/200\n",
      "4/4 [==============================] - 3s 759ms/step - loss: 0.8782\n",
      "Epoch 69/200\n",
      "4/4 [==============================] - 3s 738ms/step - loss: 0.8796\n",
      "Epoch 70/200\n",
      "4/4 [==============================] - 3s 694ms/step - loss: 0.8555\n",
      "Epoch 71/200\n",
      "4/4 [==============================] - 2s 578ms/step - loss: 0.8637\n",
      "Epoch 72/200\n",
      "4/4 [==============================] - 2s 418ms/step - loss: 0.8445\n",
      "Epoch 73/200\n",
      "4/4 [==============================] - 2s 438ms/step - loss: 0.8505\n",
      "Epoch 74/200\n",
      "4/4 [==============================] - 2s 461ms/step - loss: 0.8473\n",
      "Epoch 75/200\n",
      "4/4 [==============================] - 2s 572ms/step - loss: 0.8303\n",
      "Epoch 76/200\n",
      "4/4 [==============================] - 2s 533ms/step - loss: 0.8183\n",
      "Epoch 77/200\n",
      "4/4 [==============================] - 2s 446ms/step - loss: 0.8197\n",
      "Epoch 78/200\n",
      "4/4 [==============================] - 2s 431ms/step - loss: 0.8203\n",
      "Epoch 79/200\n",
      "4/4 [==============================] - 2s 472ms/step - loss: 0.8040\n",
      "Epoch 80/200\n",
      "4/4 [==============================] - 2s 489ms/step - loss: 0.7968\n",
      "Epoch 81/200\n",
      "4/4 [==============================] - 3s 629ms/step - loss: 0.8025\n",
      "Epoch 82/200\n",
      "4/4 [==============================] - 3s 677ms/step - loss: 0.8047\n",
      "Epoch 83/200\n",
      "4/4 [==============================] - 2s 470ms/step - loss: 0.8048\n",
      "Epoch 84/200\n",
      "4/4 [==============================] - 2s 502ms/step - loss: 0.7999\n",
      "Epoch 85/200\n",
      "4/4 [==============================] - 2s 526ms/step - loss: 0.7814\n",
      "Epoch 86/200\n",
      "4/4 [==============================] - 2s 537ms/step - loss: 0.7837\n",
      "Epoch 87/200\n",
      "4/4 [==============================] - 3s 628ms/step - loss: 0.7817\n",
      "Epoch 88/200\n",
      "4/4 [==============================] - 2s 497ms/step - loss: 0.7721\n",
      "Epoch 89/200\n",
      "4/4 [==============================] - 2s 394ms/step - loss: 0.7763\n",
      "Epoch 90/200\n",
      "4/4 [==============================] - 2s 398ms/step - loss: 0.7766\n",
      "Epoch 91/200\n",
      "4/4 [==============================] - 2s 430ms/step - loss: 0.7689\n",
      "Epoch 92/200\n",
      "4/4 [==============================] - 2s 503ms/step - loss: 0.7731\n",
      "Epoch 93/200\n",
      "4/4 [==============================] - 2s 446ms/step - loss: 0.7747\n",
      "Epoch 94/200\n",
      "4/4 [==============================] - 2s 415ms/step - loss: 0.7778\n",
      "Epoch 95/200\n",
      "4/4 [==============================] - 2s 429ms/step - loss: 0.7684\n",
      "Epoch 96/200\n",
      "4/4 [==============================] - 2s 449ms/step - loss: 0.7667\n",
      "Epoch 97/200\n",
      "4/4 [==============================] - 2s 462ms/step - loss: 0.7637\n",
      "Epoch 98/200\n",
      "4/4 [==============================] - 2s 406ms/step - loss: 0.7573\n",
      "Epoch 99/200\n",
      "4/4 [==============================] - 2s 512ms/step - loss: 0.7586\n",
      "Epoch 100/200\n",
      "4/4 [==============================] - 2s 377ms/step - loss: 0.7501\n",
      "Epoch 101/200\n",
      "4/4 [==============================] - 2s 445ms/step - loss: 0.7444\n",
      "Epoch 102/200\n"
     ]
    },
    {
     "name": "stdout",
     "output_type": "stream",
     "text": [
      "4/4 [==============================] - 2s 401ms/step - loss: 0.7329\n",
      "Epoch 103/200\n",
      "4/4 [==============================] - 2s 394ms/step - loss: 0.7336\n",
      "Epoch 104/200\n",
      "4/4 [==============================] - 2s 395ms/step - loss: 0.7344\n",
      "Epoch 105/200\n",
      "4/4 [==============================] - 2s 413ms/step - loss: 0.7547\n",
      "Epoch 106/200\n",
      "4/4 [==============================] - 2s 389ms/step - loss: 0.7447\n",
      "Epoch 107/200\n",
      "4/4 [==============================] - 2s 398ms/step - loss: 0.7284\n",
      "Epoch 108/200\n",
      "4/4 [==============================] - 2s 400ms/step - loss: 0.7372\n",
      "Epoch 109/200\n",
      "4/4 [==============================] - 2s 406ms/step - loss: 0.7314\n",
      "Epoch 110/200\n",
      "4/4 [==============================] - 2s 396ms/step - loss: 0.7108\n",
      "Epoch 111/200\n",
      "4/4 [==============================] - 2s 397ms/step - loss: 0.7315\n",
      "Epoch 112/200\n",
      "4/4 [==============================] - 2s 401ms/step - loss: 0.7338\n",
      "Epoch 113/200\n",
      "4/4 [==============================] - 2s 402ms/step - loss: 0.7064\n",
      "Epoch 114/200\n",
      "4/4 [==============================] - 2s 406ms/step - loss: 0.7121\n",
      "Epoch 115/200\n",
      "4/4 [==============================] - 2s 416ms/step - loss: 0.7191\n",
      "Epoch 116/200\n",
      "4/4 [==============================] - 2s 451ms/step - loss: 0.7186\n",
      "Epoch 117/200\n",
      "4/4 [==============================] - 2s 491ms/step - loss: 0.7104\n",
      "Epoch 118/200\n",
      "4/4 [==============================] - 2s 420ms/step - loss: 0.7158\n",
      "Epoch 119/200\n",
      "4/4 [==============================] - 2s 420ms/step - loss: 0.7055\n",
      "Epoch 120/200\n",
      "4/4 [==============================] - 2s 442ms/step - loss: 0.7049\n",
      "Epoch 121/200\n",
      "4/4 [==============================] - 2s 436ms/step - loss: 0.6965\n",
      "Epoch 122/200\n",
      "4/4 [==============================] - 2s 400ms/step - loss: 0.7189\n",
      "Epoch 123/200\n",
      "4/4 [==============================] - 2s 397ms/step - loss: 0.6920\n",
      "Epoch 124/200\n",
      "4/4 [==============================] - 2s 394ms/step - loss: 0.6996\n",
      "Epoch 125/200\n",
      "4/4 [==============================] - 2s 399ms/step - loss: 0.6990\n",
      "Epoch 126/200\n",
      "4/4 [==============================] - 2s 393ms/step - loss: 0.6746\n",
      "Epoch 127/200\n",
      "4/4 [==============================] - 2s 394ms/step - loss: 0.6997\n",
      "Epoch 128/200\n",
      "4/4 [==============================] - 2s 399ms/step - loss: 0.6608\n",
      "Epoch 129/200\n",
      "4/4 [==============================] - 2s 445ms/step - loss: 0.6848\n",
      "Epoch 130/200\n",
      "4/4 [==============================] - 2s 457ms/step - loss: 0.6783\n",
      "Epoch 131/200\n",
      "4/4 [==============================] - 2s 458ms/step - loss: 0.6834\n",
      "Epoch 132/200\n",
      "4/4 [==============================] - 2s 433ms/step - loss: 0.6891\n",
      "Epoch 133/200\n",
      "4/4 [==============================] - 2s 390ms/step - loss: 0.6803\n",
      "Epoch 134/200\n",
      "4/4 [==============================] - 2s 411ms/step - loss: 0.6967\n",
      "Epoch 135/200\n",
      "4/4 [==============================] - 2s 397ms/step - loss: 0.6698\n",
      "Epoch 136/200\n",
      "4/4 [==============================] - 2s 400ms/step - loss: 0.6750\n",
      "Epoch 137/200\n",
      "4/4 [==============================] - 2s 462ms/step - loss: 0.6663\n",
      "Epoch 138/200\n",
      "4/4 [==============================] - 2s 412ms/step - loss: 0.6795\n",
      "Epoch 139/200\n",
      "4/4 [==============================] - 2s 449ms/step - loss: 0.6644\n",
      "Epoch 140/200\n",
      "4/4 [==============================] - 2s 459ms/step - loss: 0.6727\n",
      "Epoch 141/200\n",
      "4/4 [==============================] - 2s 447ms/step - loss: 0.6653\n",
      "Epoch 142/200\n",
      "4/4 [==============================] - 2s 435ms/step - loss: 0.6706\n",
      "Epoch 143/200\n",
      "4/4 [==============================] - 2s 398ms/step - loss: 0.6670\n",
      "Epoch 144/200\n",
      "4/4 [==============================] - 2s 396ms/step - loss: 0.6627\n",
      "Epoch 145/200\n",
      "4/4 [==============================] - 2s 400ms/step - loss: 0.6588\n",
      "Epoch 146/200\n",
      "4/4 [==============================] - 2s 436ms/step - loss: 0.6545\n",
      "Epoch 147/200\n",
      "4/4 [==============================] - 2s 411ms/step - loss: 0.6607\n",
      "Epoch 148/200\n",
      "4/4 [==============================] - 2s 425ms/step - loss: 0.6540\n",
      "Epoch 149/200\n",
      "4/4 [==============================] - 2s 482ms/step - loss: 0.6454\n",
      "Epoch 150/200\n",
      "4/4 [==============================] - 2s 490ms/step - loss: 0.6581\n",
      "Epoch 151/200\n",
      "4/4 [==============================] - 2s 466ms/step - loss: 0.6319\n",
      "Epoch 152/200\n",
      "4/4 [==============================] - 2s 467ms/step - loss: 0.6347\n",
      "Epoch 153/200\n",
      "4/4 [==============================] - 2s 416ms/step - loss: 0.6492\n",
      "Epoch 154/200\n",
      "4/4 [==============================] - 2s 460ms/step - loss: 0.6400\n",
      "Epoch 155/200\n",
      "4/4 [==============================] - 2s 407ms/step - loss: 0.6390\n",
      "Epoch 156/200\n",
      "4/4 [==============================] - 2s 446ms/step - loss: 0.6528\n",
      "Epoch 157/200\n",
      "4/4 [==============================] - 2s 398ms/step - loss: 0.6416\n",
      "Epoch 158/200\n",
      "4/4 [==============================] - 2s 398ms/step - loss: 0.6239\n",
      "Epoch 159/200\n",
      "4/4 [==============================] - 2s 441ms/step - loss: 0.6374\n",
      "Epoch 160/200\n",
      "4/4 [==============================] - 2s 438ms/step - loss: 0.6474\n",
      "Epoch 161/200\n",
      "4/4 [==============================] - 2s 435ms/step - loss: 0.6200\n",
      "Epoch 162/200\n",
      "4/4 [==============================] - 2s 445ms/step - loss: 0.6141\n",
      "Epoch 163/200\n",
      "4/4 [==============================] - 2s 428ms/step - loss: 0.6363\n",
      "Epoch 164/200\n",
      "4/4 [==============================] - 2s 418ms/step - loss: 0.6259\n",
      "Epoch 165/200\n",
      "4/4 [==============================] - 2s 410ms/step - loss: 0.6323\n",
      "Epoch 166/200\n",
      "4/4 [==============================] - 2s 462ms/step - loss: 0.6374\n",
      "Epoch 167/200\n",
      "4/4 [==============================] - 2s 445ms/step - loss: 0.6137\n",
      "Epoch 168/200\n",
      "4/4 [==============================] - 2s 420ms/step - loss: 0.6274\n",
      "Epoch 169/200\n",
      "4/4 [==============================] - 2s 419ms/step - loss: 0.6221\n",
      "Epoch 170/200\n",
      "4/4 [==============================] - 2s 455ms/step - loss: 0.6296\n",
      "Epoch 171/200\n",
      "4/4 [==============================] - 2s 391ms/step - loss: 0.6281\n",
      "Epoch 172/200\n",
      "4/4 [==============================] - 2s 384ms/step - loss: 0.6057\n",
      "Epoch 173/200\n",
      "4/4 [==============================] - 2s 397ms/step - loss: 0.6196\n",
      "Epoch 174/200\n",
      "4/4 [==============================] - 2s 395ms/step - loss: 0.6122\n",
      "Epoch 175/200\n",
      "4/4 [==============================] - 2s 394ms/step - loss: 0.6167\n",
      "Epoch 176/200\n",
      "4/4 [==============================] - 2s 401ms/step - loss: 0.6167\n",
      "Epoch 177/200\n",
      "4/4 [==============================] - 2s 398ms/step - loss: 0.6117\n",
      "Epoch 178/200\n",
      "4/4 [==============================] - 2s 405ms/step - loss: 0.6218\n",
      "Epoch 179/200\n",
      "4/4 [==============================] - 2s 399ms/step - loss: 0.6078\n",
      "Epoch 180/200\n",
      "4/4 [==============================] - 2s 391ms/step - loss: 0.6191\n",
      "Epoch 181/200\n",
      "4/4 [==============================] - 2s 388ms/step - loss: 0.6117\n",
      "Epoch 182/200\n",
      "4/4 [==============================] - 2s 398ms/step - loss: 0.6113\n",
      "Epoch 183/200\n",
      "4/4 [==============================] - 2s 408ms/step - loss: 0.6097\n",
      "Epoch 184/200\n",
      "4/4 [==============================] - 2s 471ms/step - loss: 0.5950\n",
      "Epoch 185/200\n",
      "4/4 [==============================] - 2s 399ms/step - loss: 0.5880\n",
      "Epoch 186/200\n",
      "4/4 [==============================] - 2s 415ms/step - loss: 0.6135\n",
      "Epoch 187/200\n",
      "4/4 [==============================] - 2s 447ms/step - loss: 0.5966\n",
      "Epoch 188/200\n",
      "4/4 [==============================] - 2s 441ms/step - loss: 0.5907\n",
      "Epoch 189/200\n",
      "4/4 [==============================] - 2s 437ms/step - loss: 0.6125\n",
      "Epoch 190/200\n",
      "4/4 [==============================] - 2s 470ms/step - loss: 0.6023\n",
      "Epoch 191/200\n",
      "4/4 [==============================] - 2s 529ms/step - loss: 0.6035\n",
      "Epoch 192/200\n",
      "4/4 [==============================] - 2s 403ms/step - loss: 0.5857\n",
      "Epoch 193/200\n",
      "4/4 [==============================] - 2s 416ms/step - loss: 0.5881\n",
      "Epoch 194/200\n",
      "4/4 [==============================] - 2s 403ms/step - loss: 0.5859\n",
      "Epoch 195/200\n",
      "4/4 [==============================] - 2s 428ms/step - loss: 0.5907\n",
      "Epoch 196/200\n",
      "4/4 [==============================] - 2s 400ms/step - loss: 0.5933\n",
      "Epoch 197/200\n",
      "4/4 [==============================] - 2s 391ms/step - loss: 0.6105\n",
      "Epoch 198/200\n",
      "4/4 [==============================] - 2s 408ms/step - loss: 0.5888\n",
      "Epoch 199/200\n",
      "4/4 [==============================] - 2s 547ms/step - loss: 0.6021\n",
      "Epoch 200/200\n",
      "4/4 [==============================] - 2s 598ms/step - loss: 0.5972\n"
     ]
    }
   ],
   "source": [
    "history = full_network.fit_generator(batchGenerator(),\n",
    "                                     epochs = epochs,\n",
    "                                     steps_per_epoch = steps_per_epoch,\n",
    "                                     verbose = 1)"
   ]
  },
  {
   "cell_type": "markdown",
   "metadata": {},
   "source": [
    "- Model save"
   ]
  },
  {
   "cell_type": "code",
   "execution_count": 162,
   "metadata": {},
   "outputs": [],
   "source": [
    "\n",
    "full_network.save_weights(timestamp+\"-modelsave_weights-epochs{}.h5\".format(epochs), overwrite=True)"
   ]
  },
  {
   "cell_type": "code",
   "execution_count": 163,
   "metadata": {},
   "outputs": [],
   "source": [
    "full_network.save(timestamp+\"-modelsave-epochs{}.h5\".format(epochs), overwrite=True)"
   ]
  },
  {
   "cell_type": "markdown",
   "metadata": {},
   "source": [
    "- Save history"
   ]
  },
  {
   "cell_type": "code",
   "execution_count": 164,
   "metadata": {},
   "outputs": [],
   "source": [
    "history_np = np.asarray(history.history)"
   ]
  },
  {
   "cell_type": "code",
   "execution_count": 165,
   "metadata": {},
   "outputs": [],
   "source": [
    "np.savez_compressed(timestamp + \"-history.npz\", history = history_np)"
   ]
  },
  {
   "cell_type": "markdown",
   "metadata": {},
   "source": [
    "- Last gmm params"
   ]
  },
  {
   "cell_type": "code",
   "execution_count": 166,
   "metadata": {},
   "outputs": [
    {
     "name": "stdout",
     "output_type": "stream",
     "text": [
      "#### GMM params ####\n",
      "phi:\n",
      " [0.4994552  0.50054485] \n",
      "\n",
      "mu:\n",
      " [[1.410799  1.410799  1.410799 ]\n",
      " [1.4095881 1.4095881 1.4095881]] \n",
      "\n",
      "sigma:\n",
      " [[[2.0660095  1.004974   0.98583096]\n",
      "  [1.004974   0.4976533  0.47199622]\n",
      "  [0.98583096 0.47199622 0.4769822 ]]\n",
      "\n",
      " [[2.063212   1.0108837  0.97651047]\n",
      "  [1.0108837  0.5045837  0.47049367]\n",
      "  [0.97651047 0.47049367 0.469099  ]]] \n",
      "\n"
     ]
    }
   ],
   "source": [
    "printGmmParams()"
   ]
  },
  {
   "cell_type": "markdown",
   "metadata": {},
   "source": [
    "- Gmm save"
   ]
  },
  {
   "cell_type": "code",
   "execution_count": 167,
   "metadata": {},
   "outputs": [],
   "source": [
    "saveGmmParams(filename= timestamp + \"-gmmParams.npz\")"
   ]
  },
  {
   "cell_type": "code",
   "execution_count": null,
   "metadata": {},
   "outputs": [],
   "source": []
  }
 ],
 "metadata": {
  "kernelspec": {
   "display_name": "Python 3",
   "language": "python",
   "name": "python3"
  },
  "language_info": {
   "codemirror_mode": {
    "name": "ipython",
    "version": 3
   },
   "file_extension": ".py",
   "mimetype": "text/x-python",
   "name": "python",
   "nbconvert_exporter": "python",
   "pygments_lexer": "ipython3",
   "version": "3.6.4"
  }
 },
 "nbformat": 4,
 "nbformat_minor": 2
}
