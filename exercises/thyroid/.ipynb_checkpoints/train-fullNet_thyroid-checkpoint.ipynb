{
 "cells": [
  {
   "cell_type": "markdown",
   "metadata": {},
   "source": [
    "### End to end train both networks"
   ]
  },
  {
   "cell_type": "code",
   "execution_count": 1,
   "metadata": {
    "scrolled": true
   },
   "outputs": [
    {
     "name": "stderr",
     "output_type": "stream",
     "text": [
      "/Users/jyotirmaysenapati/anaconda3/lib/python3.6/site-packages/h5py/__init__.py:36: FutureWarning: Conversion of the second argument of issubdtype from `float` to `np.floating` is deprecated. In future, it will be treated as `np.float64 == np.dtype(float).type`.\n",
      "  from ._conv import register_converters as _register_converters\n",
      "Using TensorFlow backend.\n"
     ]
    }
   ],
   "source": [
    "from keras.layers import Input, Dense, Activation, Lambda, Dropout, Concatenate, Reshape\n",
    "from keras.models import Model, Sequential\n",
    "from keras.callbacks import TensorBoard\n",
    "from keras import optimizers\n",
    "from keras import backend as K\n",
    "\n",
    "import tensorflow as tf\n",
    "\n",
    "from keras.regularizers import l2\n"
   ]
  },
  {
   "cell_type": "code",
   "execution_count": 2,
   "metadata": {},
   "outputs": [],
   "source": [
    "### Hyperparameters\n",
    "\n",
    "experiment_id = 0\n",
    "\n",
    "learning_rate = 0.0001\n",
    "\n",
    "epoch_list = [200, 20000, 10000, 4000]\n",
    "batch_size_list = [1024, 1024, 128, 1024]\n",
    "\n",
    "lambda_1 = 0.1       \n",
    "lambda_2 = 0.005     \n",
    "\n",
    "#################\n",
    "\n",
    "epochs = epoch_list[experiment_id]\n",
    "batch_size = batch_size_list[experiment_id]"
   ]
  },
  {
   "cell_type": "markdown",
   "metadata": {},
   "source": [
    "### Define compresion network"
   ]
  },
  {
   "cell_type": "code",
   "execution_count": 3,
   "metadata": {},
   "outputs": [],
   "source": [
    "input_data = Input(batch_shape=(batch_size,21), name='input_placeholder')\n",
    "\n",
    "encoded = Dense(18, activation='tanh', kernel_regularizer=l2(0.00001), bias_regularizer=l2(0.00001))(input_data)\n",
    "encoded = Dense(12, activation='tanh', kernel_regularizer=l2(0.00001), bias_regularizer=l2(0.00001))(encoded)\n",
    "encoded = Dense(4, activation='tanh', kernel_regularizer=l2(0.00001), bias_regularizer=l2(0.00001))(encoded)\n",
    "# encoded = Dense(1, activation='tanh', kernel_regularizer=l2(0.00001), bias_regularizer=l2(0.00001))(encoded)\n",
    "\n",
    "layer_lowdim = Dense(1, activation='linear', kernel_regularizer=l2(0.00001), bias_regularizer=l2(0.00001), name='lowdim')(encoded)\n",
    "\n",
    "decoded = Dense(4, activation='tanh', kernel_regularizer=l2(0.00001), bias_regularizer=l2(0.00001))(layer_lowdim)\n",
    "decoded = Dense(12, activation='tanh', kernel_regularizer=l2(0.00001), bias_regularizer=l2(0.00001))(decoded)\n",
    "decoded = Dense(18, activation='tanh', kernel_regularizer=l2(0.00001), bias_regularizer=l2(0.00001))(decoded)\n",
    "decoded = Dense(21, activation='tanh', kernel_regularizer=l2(0.00001), bias_regularizer=l2(0.00001))(decoded)\n",
    "# decoded = Dense(120, activation='linear', kernel_regularizer=l2(0.00001), bias_regularizer=l2(0.00001), name='reconstructed')(decoded)\n",
    "\n"
   ]
  },
  {
   "cell_type": "markdown",
   "metadata": {},
   "source": [
    "- Define similarity metrics"
   ]
  },
  {
   "cell_type": "code",
   "execution_count": 4,
   "metadata": {},
   "outputs": [],
   "source": [
    "def cos_sim(a_b):\n",
    "    '''\n",
    "    a: batch x 120\n",
    "    b: batch x 120 \n",
    "    \n",
    "    output: batch x 1\n",
    "    '''\n",
    "    a, b = a_b\n",
    "    \n",
    "    norm_a = K.sqrt(K.sum(a ** 2, axis=-1))\n",
    "    norm_b = K.sqrt(K.sum(b ** 2, axis=-1))\n",
    "    \n",
    "    out = K.sum(a * b, axis=-1) / (norm_a * norm_b)\n",
    "    out = K.reshape(out, [batch_size, 1])\n",
    "    \n",
    "    return out\n",
    "\n",
    "def relative_euc_dist(a_b):\n",
    "    '''\n",
    "    a: batch x 120\n",
    "    b: batch x 120 \n",
    "    \n",
    "    output: batch x 1\n",
    "    '''\n",
    "    a,b = a_b\n",
    "    \n",
    "    norm_diff = K.sqrt(K.sum((a - b)**2, axis=-1))\n",
    "    norm_a = K.sqrt(K.sum(a ** 2, axis=-1))\n",
    "    \n",
    "    out = norm_diff / norm_a\n",
    "    out = K.reshape(out, [batch_size, 1])\n",
    "\n",
    "    return out"
   ]
  },
  {
   "cell_type": "code",
   "execution_count": 5,
   "metadata": {},
   "outputs": [],
   "source": [
    "layer_cossim = Lambda(cos_sim,\n",
    "                      name='cos_sim')([input_data, decoded])"
   ]
  },
  {
   "cell_type": "code",
   "execution_count": 6,
   "metadata": {},
   "outputs": [],
   "source": [
    "layer_relativeEuc = Lambda(relative_euc_dist, \n",
    "                           name='relative_euc_dist')([input_data, decoded])"
   ]
  },
  {
   "cell_type": "markdown",
   "metadata": {},
   "source": [
    "- Obtain \"z\""
   ]
  },
  {
   "cell_type": "code",
   "execution_count": 7,
   "metadata": {},
   "outputs": [],
   "source": [
    "def funct_concat(tensors):\n",
    "    return K.concatenate(tensors)\n",
    "\n",
    "layer_concat = Lambda(funct_concat, name=\"z\")([layer_lowdim, layer_cossim, layer_relativeEuc])"
   ]
  },
  {
   "cell_type": "markdown",
   "metadata": {},
   "source": [
    "### Define estimation network"
   ]
  },
  {
   "cell_type": "code",
   "execution_count": 8,
   "metadata": {},
   "outputs": [],
   "source": [
    "input_est = layer_concat #Input(shape=(3,))(layer_concat)\n",
    "\n",
    "est_layer = Dense(10, activation='tanh', kernel_regularizer=l2(0.00001), bias_regularizer=l2(0.00001))(input_est)   ####(input_est)\n",
    "est_layer = Dropout(0.5)(est_layer)\n",
    "est_output = Dense(2, activation='softmax', kernel_regularizer=l2(0.00001), bias_regularizer=l2(0.00001), name='gamma')(est_layer)\n"
   ]
  },
  {
   "cell_type": "markdown",
   "metadata": {},
   "source": [
    "### Build full network"
   ]
  },
  {
   "cell_type": "code",
   "execution_count": 9,
   "metadata": {},
   "outputs": [
    {
     "name": "stderr",
     "output_type": "stream",
     "text": [
      "/Users/jyotirmaysenapati/anaconda3/lib/python3.6/site-packages/ipykernel_launcher.py:1: UserWarning: Update your `Model` call to the Keras 2 API: `Model(outputs=Tensor(\"ga..., inputs=Tensor(\"in...)`\n",
      "  \"\"\"Entry point for launching an IPython kernel.\n"
     ]
    }
   ],
   "source": [
    "full_network = Model(input=input_data, outputs=est_output)"
   ]
  },
  {
   "cell_type": "code",
   "execution_count": 10,
   "metadata": {},
   "outputs": [
    {
     "name": "stdout",
     "output_type": "stream",
     "text": [
      "__________________________________________________________________________________________________\n",
      "Layer (type)                    Output Shape         Param #     Connected to                     \n",
      "==================================================================================================\n",
      "input_placeholder (InputLayer)  (1024, 21)           0                                            \n",
      "__________________________________________________________________________________________________\n",
      "dense_1 (Dense)                 (1024, 18)           396         input_placeholder[0][0]          \n",
      "__________________________________________________________________________________________________\n",
      "dense_2 (Dense)                 (1024, 12)           228         dense_1[0][0]                    \n",
      "__________________________________________________________________________________________________\n",
      "dense_3 (Dense)                 (1024, 4)            52          dense_2[0][0]                    \n",
      "__________________________________________________________________________________________________\n",
      "lowdim (Dense)                  (1024, 1)            5           dense_3[0][0]                    \n",
      "__________________________________________________________________________________________________\n",
      "dense_4 (Dense)                 (1024, 4)            8           lowdim[0][0]                     \n",
      "__________________________________________________________________________________________________\n",
      "dense_5 (Dense)                 (1024, 12)           60          dense_4[0][0]                    \n",
      "__________________________________________________________________________________________________\n",
      "dense_6 (Dense)                 (1024, 18)           234         dense_5[0][0]                    \n",
      "__________________________________________________________________________________________________\n",
      "dense_7 (Dense)                 (1024, 21)           399         dense_6[0][0]                    \n",
      "__________________________________________________________________________________________________\n",
      "cos_sim (Lambda)                (1024, 1)            0           input_placeholder[0][0]          \n",
      "                                                                 dense_7[0][0]                    \n",
      "__________________________________________________________________________________________________\n",
      "relative_euc_dist (Lambda)      (1024, 1)            0           input_placeholder[0][0]          \n",
      "                                                                 dense_7[0][0]                    \n",
      "__________________________________________________________________________________________________\n",
      "z (Lambda)                      (1024, 3)            0           lowdim[0][0]                     \n",
      "                                                                 cos_sim[0][0]                    \n",
      "                                                                 relative_euc_dist[0][0]          \n",
      "__________________________________________________________________________________________________\n",
      "dense_8 (Dense)                 (1024, 10)           40          z[0][0]                          \n",
      "__________________________________________________________________________________________________\n",
      "dropout_1 (Dropout)             (1024, 10)           0           dense_8[0][0]                    \n",
      "__________________________________________________________________________________________________\n",
      "gamma (Dense)                   (1024, 2)            22          dropout_1[0][0]                  \n",
      "==================================================================================================\n",
      "Total params: 1,444\n",
      "Trainable params: 1,444\n",
      "Non-trainable params: 0\n",
      "__________________________________________________________________________________________________\n"
     ]
    }
   ],
   "source": [
    "full_network.summary()"
   ]
  },
  {
   "cell_type": "markdown",
   "metadata": {},
   "source": [
    "### Load already saved dataset"
   ]
  },
  {
   "cell_type": "code",
   "execution_count": 11,
   "metadata": {},
   "outputs": [],
   "source": [
    "import numpy as np"
   ]
  },
  {
   "cell_type": "code",
   "execution_count": 13,
   "metadata": {},
   "outputs": [
    {
     "name": "stdout",
     "output_type": "stream",
     "text": [
      "[[0.32291667 1.         0.         ... 0.25857741 0.40277778 0.23076923]\n",
      " [0.67708333 0.         0.         ... 0.13472803 0.27777778 0.16510319]\n",
      " [0.65625    0.         0.         ... 0.20669456 0.31944444 0.2260788 ]\n",
      " ...\n",
      " [0.26041667 0.         0.         ... 0.17322176 0.51388889 0.12757974]\n",
      " [0.32291667 1.         0.         ... 0.16485356 0.44907407 0.13539712]\n",
      " [0.26041667 0.         0.         ... 0.14644351 0.33796296 0.15259537]]\n"
     ]
    }
   ],
   "source": [
    "with np.load('../../datasets/thyroid/thyroid_train-randomState_None.npz') as data: \n",
    "    x_train = data[\"x_train\"]\n",
    "    y_train = data[\"y_train\"]\n",
    "    \n",
    "# labels removed\n",
    "x_train = x_train[:, 0:-2]\n",
    "print(x_train)"
   ]
  },
  {
   "cell_type": "code",
   "execution_count": 14,
   "metadata": {},
   "outputs": [
    {
     "data": {
      "text/plain": [
       "(3281, 21)"
      ]
     },
     "execution_count": 14,
     "metadata": {},
     "output_type": "execute_result"
    }
   ],
   "source": [
    "x_train.shape"
   ]
  },
  {
   "cell_type": "code",
   "execution_count": 15,
   "metadata": {},
   "outputs": [
    {
     "data": {
      "text/plain": [
       "(3281, 2)"
      ]
     },
     "execution_count": 15,
     "metadata": {},
     "output_type": "execute_result"
    }
   ],
   "source": [
    "y_train.shape"
   ]
  },
  {
   "cell_type": "markdown",
   "metadata": {},
   "source": [
    "### GMM parameters"
   ]
  },
  {
   "cell_type": "markdown",
   "metadata": {},
   "source": [
    "- k: number of clusters (4 for here)\n",
    "- N: batch size\n",
    "- d: Dimension of latent vector z (3 here)"
   ]
  },
  {
   "cell_type": "markdown",
   "metadata": {},
   "source": [
    "- gamma ($\\gamma$) : membership predictions (softmax output of estimation net) [$N \\times K$]\n",
    "- phi ($\\phi$): gaussian probabilities [$K$]\n",
    "- mu ($\\mu$): gaussian means [$K \\times d$]\n",
    "- sigma ($\\Sigma$): gaussian covariances [$K \\times d \\times d$]"
   ]
  },
  {
   "cell_type": "code",
   "execution_count": 16,
   "metadata": {},
   "outputs": [],
   "source": [
    "k = 2 \n",
    "N = batch_size \n",
    "d = int(layer_concat.get_shape()[1])"
   ]
  },
  {
   "cell_type": "markdown",
   "metadata": {},
   "source": [
    "- GMM parameters init"
   ]
  },
  {
   "cell_type": "code",
   "execution_count": 17,
   "metadata": {},
   "outputs": [],
   "source": [
    "phi = tf.get_variable(\"phi\",\n",
    "                      shape=(k),\n",
    "                      dtype=tf.float32,\n",
    "                      initializer=tf.zeros_initializer(),\n",
    "                      trainable=False)\n",
    "\n",
    "mu = tf.get_variable(\"mu\",\n",
    "                      shape=(k,d),\n",
    "                      dtype=tf.float32,\n",
    "                      initializer=tf.zeros_initializer(), \n",
    "                      trainable=False)\n",
    "\n",
    "sigma_init = np.repeat([np.eye(d, dtype=np.float32)], k, axis=0)\n",
    "\n",
    "sigma = tf.get_variable(\"sigma\",\n",
    "                      shape=(k,d,d),\n",
    "                      dtype=tf.float32,\n",
    "                      initializer=tf.constant_initializer(sigma_init),\n",
    "                      trainable=False)"
   ]
  },
  {
   "cell_type": "code",
   "execution_count": 18,
   "metadata": {},
   "outputs": [],
   "source": [
    "tf_sess = K.get_session()"
   ]
  },
  {
   "cell_type": "code",
   "execution_count": 19,
   "metadata": {
    "scrolled": true
   },
   "outputs": [
    {
     "data": {
      "text/plain": [
       "[None, None, None]"
      ]
     },
     "execution_count": 19,
     "metadata": {},
     "output_type": "execute_result"
    }
   ],
   "source": [
    "tf_sess.run([phi.initializer,\n",
    "             mu.initializer, \n",
    "             sigma.initializer])"
   ]
  },
  {
   "cell_type": "markdown",
   "metadata": {},
   "source": [
    "- Check for uninit vars"
   ]
  },
  {
   "cell_type": "code",
   "execution_count": 20,
   "metadata": {},
   "outputs": [
    {
     "name": "stdout",
     "output_type": "stream",
     "text": [
      "[]\n"
     ]
    }
   ],
   "source": [
    "print(tf_sess.run(tf.report_uninitialized_variables()))"
   ]
  },
  {
   "cell_type": "code",
   "execution_count": 21,
   "metadata": {},
   "outputs": [],
   "source": [
    "def printGmmParams():\n",
    "    print(\"#### GMM params ####\")\n",
    "    print(\"phi:\\n\",K.eval(phi),\"\\n\")\n",
    "    print(\"mu:\\n\",K.eval(mu),\"\\n\")\n",
    "    print(\"sigma:\\n\", K.eval(sigma),\"\\n\")\n",
    "\n"
   ]
  },
  {
   "cell_type": "code",
   "execution_count": 22,
   "metadata": {},
   "outputs": [],
   "source": [
    "def saveGmmParams(filename = \"gmmParams.npz\"):\n",
    "    phi_ = K.eval(phi)\n",
    "    mu_ = K.eval(mu)\n",
    "    sigma_ = K.eval(sigma)\n",
    "    np.savez_compressed(filename, phi=phi_, mu=mu_, sigma=sigma_)"
   ]
  },
  {
   "cell_type": "code",
   "execution_count": 23,
   "metadata": {
    "scrolled": true
   },
   "outputs": [
    {
     "name": "stdout",
     "output_type": "stream",
     "text": [
      "#### GMM params ####\n",
      "phi:\n",
      " [0. 0.] \n",
      "\n",
      "mu:\n",
      " [[0. 0. 0.]\n",
      " [0. 0. 0.]] \n",
      "\n",
      "sigma:\n",
      " [[[1. 0. 0.]\n",
      "  [0. 1. 0.]\n",
      "  [0. 0. 1.]]\n",
      "\n",
      " [[1. 0. 0.]\n",
      "  [0. 1. 0.]\n",
      "  [0. 0. 1.]]] \n",
      "\n"
     ]
    }
   ],
   "source": [
    "printGmmParams()"
   ]
  },
  {
   "cell_type": "markdown",
   "metadata": {},
   "source": [
    "### Total loss calculation"
   ]
  },
  {
   "cell_type": "code",
   "execution_count": 24,
   "metadata": {},
   "outputs": [],
   "source": [
    "isVerbose_en = True\n",
    "isVerbose_loss = True"
   ]
  },
  {
   "cell_type": "markdown",
   "metadata": {},
   "source": [
    "- For the first time run of the totalLoss function"
   ]
  },
  {
   "cell_type": "code",
   "execution_count": 25,
   "metadata": {},
   "outputs": [],
   "source": [
    "choices = np.random.choice(len(x_train), size=batch_size, replace=False)\n",
    "\n",
    "batch_x_train = x_train[choices]\n",
    "batch_y_train = y_train[choices]\n",
    "\n",
    "batch_train = (batch_x_train, batch_y_train)"
   ]
  },
  {
   "cell_type": "markdown",
   "metadata": {},
   "source": [
    "- Define energy function"
   ]
  },
  {
   "cell_type": "code",
   "execution_count": 26,
   "metadata": {},
   "outputs": [],
   "source": [
    "def computeEnergy(z_i):\n",
    "    \"\"\"\n",
    "    compute E(z_i) in loss function\n",
    "    \"\"\"\n",
    "    \n",
    "    #inside_sum = 0\n",
    "    inside_sum = tf.zeros(()) \n",
    "    for cluster in range(k):\n",
    "        diff = tf.reshape(z_i - mu[cluster], (1,-1))   ### (1,3)\n",
    "        diff_t = tf.reshape(diff, (-1,1)) #diff.reshape(-1,1)   ### (3,1)\n",
    "\n",
    "        sigma_inv = tf.linalg.inv(sigma[cluster]) ### (3,3)\n",
    "        \n",
    "        exp_term = tf.exp(-0.5 * tf.matmul(diff, tf.matmul(sigma_inv, diff_t)))    ### (1,1)\n",
    "\n",
    "        denom = tf.sqrt(tf.linalg.det(2 * np.pi * sigma[cluster]))\n",
    "        \n",
    "        inside_sum += phi[cluster] * (exp_term / denom)   ### (1,1)\n",
    "        \n",
    "        \n",
    "    inside_sum = tf.reshape(inside_sum, ())\n",
    "    sample_energy = -tf.log(inside_sum + 1e-6, name=\"sample_energy\")\n",
    "    \n",
    "        \n",
    "    ### flatten inside_sum and return log of it\n",
    "    return sample_energy"
   ]
  },
  {
   "cell_type": "markdown",
   "metadata": {},
   "source": [
    "- Define total loss"
   ]
  },
  {
   "cell_type": "code",
   "execution_count": 27,
   "metadata": {},
   "outputs": [],
   "source": [
    "def totalLoss(yTrue, yPred):\n",
    "    ### autoencoder loss\n",
    "    autoenc_loss = tf.reduce_sum(((input_data - decoded)**2), axis=1)    ### (N,)\n",
    "    autoenc_loss = tf.reduce_mean(autoenc_loss, axis=0)      #### mean over all N in batch\n",
    "    \n",
    "    ### obtain z and gamma for current batch\n",
    "    z = layer_concat\n",
    "    gamma = est_output\n",
    "    \n",
    "    \n",
    "    ########### gmm update #################\n",
    "    gamma = est_output ### + 1e-6\n",
    "    z = layer_concat         \n",
    "\n",
    "    ### update list\n",
    "    updates_gmm = []\n",
    "\n",
    "    ################### phi #################\n",
    "    update_phi = tf.assign(phi, \n",
    "                           tf.reduce_sum(gamma/batch_size, axis=0), \n",
    "                           name=\"update_phi\")\n",
    "    updates_gmm.append(update_phi)\n",
    "    #######################################\n",
    "\n",
    "    ################## mu ################\n",
    "    for cluster in range(k):\n",
    "        ### get the corresponding column of predictions\n",
    "        gamma_cluster = tf.reshape(gamma[:,cluster], (-1,1))    ### (N x 1)\n",
    "\n",
    "        ### duplicate column d times\n",
    "        gamma_cluster_tile = tf.tile(gamma_cluster, (1,d))   ### (N x d)\n",
    "\n",
    "        ### sum over all batch and divide\n",
    "        matmul = tf.matmul(z, gamma_cluster_tile, transpose_a=True)   ### (dxd)\n",
    "\n",
    "        result = tf.reduce_sum(matmul, axis=0, name=\"mu_matmul_red\") / tf.reduce_sum(gamma[:,cluster], axis = 0, name=\"mu_gamma_red\")\n",
    "\n",
    "        update_mu = tf.assign(mu[cluster], \n",
    "                              result,\n",
    "                              name=\"update_mu\"+str(cluster))\n",
    "        updates_gmm.append(update_mu)\n",
    "    #########################################\n",
    "\n",
    "    ################ sigma ###############\n",
    "    for cluster in range(k):\n",
    "        ### expand gamma for each sample\n",
    "        gamma_cluster = tf.reshape(gamma[:,cluster], (-1,1))    ### (N x 1)\n",
    "        gamma_cluster_expand = tf.expand_dims(gamma_cluster, 1) ### (N x 1 x 1)\n",
    "\n",
    "\n",
    "        #### calculating diff\n",
    "        ## expand mu and z\n",
    "        ######## TODO: race condition??? (get mu after its updated value (auto??))\n",
    "        with tf.control_dependencies(updates_gmm):\n",
    "            mu_cluster = tf.reshape(mu[cluster], (1,-1))   ### (1 x d)\n",
    "\n",
    "        mu_expand = tf.expand_dims(mu_cluster, 1)      ### (1 x 1 x 3)\n",
    "        mu_expand_tile = tf.tile(mu_expand, tf.stack([N, 1, 1]))   ### (N x 1 x d)\n",
    "\n",
    "        z_expand = tf.expand_dims(z, 1)    ### (N x 1 x d)\n",
    "\n",
    "        diff = z_expand - mu_expand_tile   ### (N x 1 x d)\n",
    "\n",
    "        ### matmul in the upper part\n",
    "        matmul = tf.matmul(diff, diff, transpose_a=True)  ### (N x d x d)\n",
    "\n",
    "\n",
    "        ### nominator\n",
    "        nom = gamma_cluster_expand * matmul   ### (N x d x d)\n",
    "        nom_reduced = tf.reduce_sum(nom, axis=0) ### (d x d)\n",
    "\n",
    "\n",
    "        ### denominator\n",
    "        denom = tf.reduce_sum(gamma_cluster)  ### single value, zero dim\n",
    "\n",
    "        update_sigma = tf.assign(sigma[cluster], \n",
    "                                 nom_reduced/denom, \n",
    "                                 name =\"update_sigma\"+str(cluster))\n",
    "        updates_gmm.append(update_sigma)\n",
    "\n",
    "    \n",
    "    \n",
    "    ### dependency control\n",
    "    with tf.control_dependencies(updates_gmm):  \n",
    "        ### sample energy   \n",
    "        sample_en_batch = tf.map_fn(lambda z_i: computeEnergy(z_i), z)\n",
    "        sample_en = tf.reduce_mean(sample_en_batch, axis=0)\n",
    "        sample_en *= lambda_1\n",
    "\n",
    "        p = tf.reduce_sum(1 / tf.matrix_diag_part(sigma))\n",
    "        p *= lambda_2\n",
    "\n",
    "    ### total loss\n",
    "    total_loss = autoenc_loss + sample_en + p\n",
    "\n",
    "    return total_loss  \n"
   ]
  },
  {
   "cell_type": "code",
   "execution_count": 28,
   "metadata": {},
   "outputs": [],
   "source": [
    "### load previos weights\n",
    "### full_network.load_weights(\"modelsave_weights-epochs5.h5\")"
   ]
  },
  {
   "cell_type": "code",
   "execution_count": 29,
   "metadata": {
    "scrolled": true
   },
   "outputs": [],
   "source": [
    "### keras\n",
    "\n",
    "adam = optimizers.adam(lr=learning_rate, clipnorm=1., clipvalue=0.5) \n",
    "\n",
    "full_network.compile(optimizer=adam, loss=totalLoss) "
   ]
  },
  {
   "cell_type": "code",
   "execution_count": 31,
   "metadata": {},
   "outputs": [
    {
     "name": "stdout",
     "output_type": "stream",
     "text": [
      "2018-07-29_19:34 \n"
     ]
    }
   ],
   "source": [
    "### Timestamp\n",
    "from datetime import datetime\n",
    "import os\n",
    "timestamp = datetime.now().strftime(\"%Y-%m-%d_%H:%M\")\n",
    "print(timestamp, \"\")\n",
    "\n",
    "directory = '../../models/thyroid/'+timestamp\n",
    "if not os.path.exists(directory):\n",
    "    os.makedirs(directory)"
   ]
  },
  {
   "cell_type": "markdown",
   "metadata": {},
   "source": [
    "- Batch generator for training"
   ]
  },
  {
   "cell_type": "code",
   "execution_count": 32,
   "metadata": {},
   "outputs": [],
   "source": [
    "### TODO: optimization??\n",
    "\n",
    "def batchGenerator():\n",
    "    '''\n",
    "    return: number of batch_size examples in each run\n",
    "    '''\n",
    "    \n",
    "    while True:\n",
    "        choices = np.random.choice(len(x_train), size=batch_size, replace=False)\n",
    "        \n",
    "        batch_x_train = x_train[choices]\n",
    "        batch_y_train = y_train[choices]\n",
    "        \n",
    "        \n",
    "        yield (batch_x_train, batch_y_train) "
   ]
  },
  {
   "cell_type": "markdown",
   "metadata": {},
   "source": [
    "- Training using fit_generator"
   ]
  },
  {
   "cell_type": "code",
   "execution_count": 33,
   "metadata": {},
   "outputs": [],
   "source": [
    "steps_per_epoch = int(np.ceil(x_train.shape[0] / batch_size))"
   ]
  },
  {
   "cell_type": "code",
   "execution_count": null,
   "metadata": {
    "scrolled": true
   },
   "outputs": [
    {
     "name": "stdout",
     "output_type": "stream",
     "text": [
      "Epoch 1/200\n",
      "4/4 [==============================] - 12s 3s/step - loss: 2.0832\n",
      "Epoch 2/200\n",
      "4/4 [==============================] - 3s 638ms/step - loss: 2.1312\n",
      "Epoch 3/200\n",
      "4/4 [==============================] - 3s 678ms/step - loss: 2.1914\n",
      "Epoch 4/200\n",
      "4/4 [==============================] - 3s 732ms/step - loss: 2.1151\n",
      "Epoch 5/200\n",
      "4/4 [==============================] - 3s 747ms/step - loss: 2.2019\n",
      "Epoch 6/200\n",
      "4/4 [==============================] - 3s 728ms/step - loss: 2.2626\n",
      "Epoch 7/200\n",
      "4/4 [==============================] - 3s 793ms/step - loss: 2.2057\n",
      "Epoch 8/200\n",
      "4/4 [==============================] - 3s 645ms/step - loss: 2.3727\n",
      "Epoch 9/200\n",
      "4/4 [==============================] - 3s 689ms/step - loss: 2.4594\n",
      "Epoch 10/200\n",
      "4/4 [==============================] - 3s 730ms/step - loss: 2.4245\n",
      "Epoch 11/200\n",
      "4/4 [==============================] - 3s 697ms/step - loss: 2.4855\n",
      "Epoch 12/200\n",
      "4/4 [==============================] - 3s 718ms/step - loss: 2.5128\n",
      "Epoch 13/200\n",
      "4/4 [==============================] - 3s 727ms/step - loss: 2.6508\n",
      "Epoch 14/200\n",
      "3/4 [=====================>........] - ETA: 0s - loss: 2.5156"
     ]
    }
   ],
   "source": [
    "history = full_network.fit_generator(batchGenerator(),\n",
    "                                     epochs = epochs,\n",
    "                                     steps_per_epoch = steps_per_epoch,\n",
    "                                     verbose = 1)"
   ]
  },
  {
   "cell_type": "markdown",
   "metadata": {},
   "source": [
    "- Model save"
   ]
  },
  {
   "cell_type": "code",
   "execution_count": 162,
   "metadata": {},
   "outputs": [],
   "source": [
    "\n",
    "full_network.save_weights('../../models/thyroid/{}/'.format(timestamp)+timestamp+\"-modelsave_weights-epochs{}.h5\".format(epochs), overwrite=True)"
   ]
  },
  {
   "cell_type": "code",
   "execution_count": 163,
   "metadata": {},
   "outputs": [],
   "source": [
    "full_network.save('../../models/thyroid/{}/'.format(timestamp)+timestamp+\"-modelsave-epochs{}.h5\".format(epochs), overwrite=True)"
   ]
  },
  {
   "cell_type": "markdown",
   "metadata": {},
   "source": [
    "- Save history"
   ]
  },
  {
   "cell_type": "code",
   "execution_count": 164,
   "metadata": {},
   "outputs": [],
   "source": [
    "history_np = np.asarray(history.history)"
   ]
  },
  {
   "cell_type": "code",
   "execution_count": 165,
   "metadata": {},
   "outputs": [],
   "source": [
    "np.savez_compressed('../../models/thyroid/{}/'.format(timestamp)+timestamp + \"-history.npz\", history = history_np)"
   ]
  },
  {
   "cell_type": "markdown",
   "metadata": {},
   "source": [
    "- Last gmm params"
   ]
  },
  {
   "cell_type": "code",
   "execution_count": 166,
   "metadata": {},
   "outputs": [
    {
     "name": "stdout",
     "output_type": "stream",
     "text": [
      "#### GMM params ####\n",
      "phi:\n",
      " [0.4994552  0.50054485] \n",
      "\n",
      "mu:\n",
      " [[1.410799  1.410799  1.410799 ]\n",
      " [1.4095881 1.4095881 1.4095881]] \n",
      "\n",
      "sigma:\n",
      " [[[2.0660095  1.004974   0.98583096]\n",
      "  [1.004974   0.4976533  0.47199622]\n",
      "  [0.98583096 0.47199622 0.4769822 ]]\n",
      "\n",
      " [[2.063212   1.0108837  0.97651047]\n",
      "  [1.0108837  0.5045837  0.47049367]\n",
      "  [0.97651047 0.47049367 0.469099  ]]] \n",
      "\n"
     ]
    }
   ],
   "source": [
    "printGmmParams()"
   ]
  },
  {
   "cell_type": "markdown",
   "metadata": {},
   "source": [
    "- Gmm save"
   ]
  },
  {
   "cell_type": "code",
   "execution_count": 167,
   "metadata": {},
   "outputs": [],
   "source": [
    "saveGmmParams(filename= '../../models/thyroid/{}/'.format(timestamp)+timestamp + \"-gmmParams.npz\")"
   ]
  },
  {
   "cell_type": "code",
   "execution_count": null,
   "metadata": {},
   "outputs": [],
   "source": []
  }
 ],
 "metadata": {
  "kernelspec": {
   "display_name": "Python 3",
   "language": "python",
   "name": "python3"
  },
  "language_info": {
   "codemirror_mode": {
    "name": "ipython",
    "version": 3
   },
   "file_extension": ".py",
   "mimetype": "text/x-python",
   "name": "python",
   "nbconvert_exporter": "python",
   "pygments_lexer": "ipython3",
   "version": "3.6.4"
  }
 },
 "nbformat": 4,
 "nbformat_minor": 2
}
