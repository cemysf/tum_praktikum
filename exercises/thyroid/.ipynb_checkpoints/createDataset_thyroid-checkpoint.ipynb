{
 "cells": [
  {
   "cell_type": "markdown",
   "metadata": {},
   "source": [
    "### Dataset creation"
   ]
  },
  {
   "cell_type": "code",
   "execution_count": 1,
   "metadata": {},
   "outputs": [],
   "source": [
    "import pandas as pd\n",
    "import numpy as np\n",
    "from sklearn.utils import shuffle"
   ]
  },
  {
   "cell_type": "markdown",
   "metadata": {},
   "source": [
    "- load data and labels (normal and different attack types)"
   ]
  },
  {
   "cell_type": "code",
   "execution_count": 2,
   "metadata": {},
   "outputs": [],
   "source": [
    "df_data = pd.read_csv(\"../../datasets/thyroid/thyroid.csv\")\n",
    "df_data = shuffle(df_data)\n",
    "df_labels = pd.DataFrame(df_data.iloc[:,-1])   \n",
    "df_data = pd.DataFrame(df_data.iloc[:, :-1]).astype(float) "
   ]
  },
  {
   "cell_type": "markdown",
   "metadata": {},
   "source": [
    "- read column names and types"
   ]
  },
  {
   "cell_type": "code",
   "execution_count": 3,
   "metadata": {},
   "outputs": [],
   "source": [
    "# col_names=[]\n",
    "# col_datatypes=[]\n",
    "\n",
    "# with open(\"datasets/kddcup/kddcup.names\") as file:\n",
    "#     next(file)    ### skip first line\n",
    "#     for line in file:\n",
    "#         name, datatype = line.split(\": \")\n",
    "#         col_names.append(name)\n",
    "#         col_datatypes.append(datatype.replace(\".\\n\",\"\"))\n",
    "        \n",
    "# df_data.columns = col_names\n",
    "df_labels.columns = [\"labels\"]"
   ]
  },
  {
   "cell_type": "code",
   "execution_count": 4,
   "metadata": {
    "scrolled": false
   },
   "outputs": [
    {
     "data": {
      "text/html": [
       "<div>\n",
       "<style scoped>\n",
       "    .dataframe tbody tr th:only-of-type {\n",
       "        vertical-align: middle;\n",
       "    }\n",
       "\n",
       "    .dataframe tbody tr th {\n",
       "        vertical-align: top;\n",
       "    }\n",
       "\n",
       "    .dataframe thead th {\n",
       "        text-align: right;\n",
       "    }\n",
       "</style>\n",
       "<table border=\"1\" class=\"dataframe\">\n",
       "  <thead>\n",
       "    <tr style=\"text-align: right;\">\n",
       "      <th></th>\n",
       "      <th>age</th>\n",
       "      <th>a</th>\n",
       "      <th>b</th>\n",
       "      <th>c</th>\n",
       "      <th>d</th>\n",
       "      <th>e</th>\n",
       "      <th>f</th>\n",
       "      <th>g</th>\n",
       "      <th>h</th>\n",
       "      <th>i</th>\n",
       "      <th>...</th>\n",
       "      <th>k</th>\n",
       "      <th>l</th>\n",
       "      <th>m</th>\n",
       "      <th>n</th>\n",
       "      <th>o</th>\n",
       "      <th>TSH</th>\n",
       "      <th>T3</th>\n",
       "      <th>TT4</th>\n",
       "      <th>T4U</th>\n",
       "      <th>FTI</th>\n",
       "    </tr>\n",
       "  </thead>\n",
       "  <tbody>\n",
       "    <tr>\n",
       "      <th>2776</th>\n",
       "      <td>0.66</td>\n",
       "      <td>1.0</td>\n",
       "      <td>0.0</td>\n",
       "      <td>0.0</td>\n",
       "      <td>0.0</td>\n",
       "      <td>0.0</td>\n",
       "      <td>0.0</td>\n",
       "      <td>0.0</td>\n",
       "      <td>0.0</td>\n",
       "      <td>0.0</td>\n",
       "      <td>...</td>\n",
       "      <td>0.0</td>\n",
       "      <td>0.0</td>\n",
       "      <td>0.0</td>\n",
       "      <td>0.0</td>\n",
       "      <td>0.0</td>\n",
       "      <td>0.00260</td>\n",
       "      <td>0.0201</td>\n",
       "      <td>0.085</td>\n",
       "      <td>0.070</td>\n",
       "      <td>0.121</td>\n",
       "    </tr>\n",
       "    <tr>\n",
       "      <th>307</th>\n",
       "      <td>0.76</td>\n",
       "      <td>0.0</td>\n",
       "      <td>0.0</td>\n",
       "      <td>0.0</td>\n",
       "      <td>0.0</td>\n",
       "      <td>0.0</td>\n",
       "      <td>0.0</td>\n",
       "      <td>0.0</td>\n",
       "      <td>0.0</td>\n",
       "      <td>0.0</td>\n",
       "      <td>...</td>\n",
       "      <td>0.0</td>\n",
       "      <td>0.0</td>\n",
       "      <td>0.0</td>\n",
       "      <td>0.0</td>\n",
       "      <td>0.0</td>\n",
       "      <td>0.00006</td>\n",
       "      <td>0.0220</td>\n",
       "      <td>0.137</td>\n",
       "      <td>0.102</td>\n",
       "      <td>0.135</td>\n",
       "    </tr>\n",
       "    <tr>\n",
       "      <th>4801</th>\n",
       "      <td>0.58</td>\n",
       "      <td>0.0</td>\n",
       "      <td>0.0</td>\n",
       "      <td>0.0</td>\n",
       "      <td>0.0</td>\n",
       "      <td>0.0</td>\n",
       "      <td>0.0</td>\n",
       "      <td>0.0</td>\n",
       "      <td>0.0</td>\n",
       "      <td>0.0</td>\n",
       "      <td>...</td>\n",
       "      <td>0.0</td>\n",
       "      <td>0.0</td>\n",
       "      <td>0.0</td>\n",
       "      <td>0.0</td>\n",
       "      <td>0.0</td>\n",
       "      <td>0.00200</td>\n",
       "      <td>0.0170</td>\n",
       "      <td>0.144</td>\n",
       "      <td>0.094</td>\n",
       "      <td>0.153</td>\n",
       "    </tr>\n",
       "    <tr>\n",
       "      <th>1894</th>\n",
       "      <td>0.41</td>\n",
       "      <td>0.0</td>\n",
       "      <td>1.0</td>\n",
       "      <td>0.0</td>\n",
       "      <td>0.0</td>\n",
       "      <td>0.0</td>\n",
       "      <td>0.0</td>\n",
       "      <td>0.0</td>\n",
       "      <td>0.0</td>\n",
       "      <td>0.0</td>\n",
       "      <td>...</td>\n",
       "      <td>0.0</td>\n",
       "      <td>0.0</td>\n",
       "      <td>0.0</td>\n",
       "      <td>0.0</td>\n",
       "      <td>0.0</td>\n",
       "      <td>0.00160</td>\n",
       "      <td>0.0310</td>\n",
       "      <td>0.061</td>\n",
       "      <td>0.093</td>\n",
       "      <td>0.066</td>\n",
       "    </tr>\n",
       "    <tr>\n",
       "      <th>6722</th>\n",
       "      <td>0.29</td>\n",
       "      <td>1.0</td>\n",
       "      <td>0.0</td>\n",
       "      <td>0.0</td>\n",
       "      <td>0.0</td>\n",
       "      <td>0.0</td>\n",
       "      <td>0.0</td>\n",
       "      <td>0.0</td>\n",
       "      <td>0.0</td>\n",
       "      <td>0.0</td>\n",
       "      <td>...</td>\n",
       "      <td>0.0</td>\n",
       "      <td>0.0</td>\n",
       "      <td>0.0</td>\n",
       "      <td>0.0</td>\n",
       "      <td>1.0</td>\n",
       "      <td>0.01500</td>\n",
       "      <td>0.0206</td>\n",
       "      <td>0.113</td>\n",
       "      <td>0.113</td>\n",
       "      <td>0.100</td>\n",
       "    </tr>\n",
       "  </tbody>\n",
       "</table>\n",
       "<p>5 rows × 21 columns</p>\n",
       "</div>"
      ],
      "text/plain": [
       "       age    a    b    c    d    e    f    g    h    i  ...      k    l    m  \\\n",
       "2776  0.66  1.0  0.0  0.0  0.0  0.0  0.0  0.0  0.0  0.0  ...    0.0  0.0  0.0   \n",
       "307   0.76  0.0  0.0  0.0  0.0  0.0  0.0  0.0  0.0  0.0  ...    0.0  0.0  0.0   \n",
       "4801  0.58  0.0  0.0  0.0  0.0  0.0  0.0  0.0  0.0  0.0  ...    0.0  0.0  0.0   \n",
       "1894  0.41  0.0  1.0  0.0  0.0  0.0  0.0  0.0  0.0  0.0  ...    0.0  0.0  0.0   \n",
       "6722  0.29  1.0  0.0  0.0  0.0  0.0  0.0  0.0  0.0  0.0  ...    0.0  0.0  0.0   \n",
       "\n",
       "        n    o      TSH      T3    TT4    T4U    FTI  \n",
       "2776  0.0  0.0  0.00260  0.0201  0.085  0.070  0.121  \n",
       "307   0.0  0.0  0.00006  0.0220  0.137  0.102  0.135  \n",
       "4801  0.0  0.0  0.00200  0.0170  0.144  0.094  0.153  \n",
       "1894  0.0  0.0  0.00160  0.0310  0.061  0.093  0.066  \n",
       "6722  0.0  1.0  0.01500  0.0206  0.113  0.113  0.100  \n",
       "\n",
       "[5 rows x 21 columns]"
      ]
     },
     "execution_count": 4,
     "metadata": {},
     "output_type": "execute_result"
    }
   ],
   "source": [
    "df_data.head()"
   ]
  },
  {
   "cell_type": "markdown",
   "metadata": {},
   "source": [
    "- check integrity of the data"
   ]
  },
  {
   "cell_type": "code",
   "execution_count": 5,
   "metadata": {},
   "outputs": [
    {
     "name": "stdout",
     "output_type": "stream",
     "text": [
      "False\n",
      "False\n"
     ]
    }
   ],
   "source": [
    "print(df_data.isnull().values.any())\n",
    "\n",
    "print(df_data.isna().values.any())"
   ]
  },
  {
   "cell_type": "markdown",
   "metadata": {},
   "source": [
    "### Enumerate labels "
   ]
  },
  {
   "cell_type": "markdown",
   "metadata": {},
   "source": [
    "- ### normal samples are named as \"anomaly\" since they are minority (stated in paper)"
   ]
  },
  {
   "cell_type": "code",
   "execution_count": 6,
   "metadata": {},
   "outputs": [
    {
     "name": "stdout",
     "output_type": "stream",
     "text": [
      "<class 'numpy.float64'>\n"
     ]
    }
   ],
   "source": [
    "# Considering n labelled data as normal and others as anomaly in thyroid dataset. assigning labels accordingly.\n",
    "# Added by Jyotirmay.\n",
    "# 1 = normal, 0 = anomaly\n",
    "df_data[\"label\"] = np.where(df_labels[\"labels\"].str.contains(\"n\"), 'normal', 'anomaly')\n",
    "print(type(df_data.TSH[0]))"
   ]
  },
  {
   "cell_type": "code",
   "execution_count": 7,
   "metadata": {},
   "outputs": [
    {
     "name": "stdout",
     "output_type": "stream",
     "text": [
      "number of normal: 6603\n",
      "number of anomaly: 250\n"
     ]
    }
   ],
   "source": [
    "### number of normal and abnormal\n",
    "print(\"number of normal:\", len(np.where(df_data[\"label\"] == 'normal')[0]))\n",
    "print(\"number of anomaly:\", len(np.where(df_data[\"label\"] == 'anomaly')[0]))"
   ]
  },
  {
   "cell_type": "code",
   "execution_count": 8,
   "metadata": {},
   "outputs": [
    {
     "data": {
      "text/plain": [
       "(array([   0,    1,    2, ..., 6850, 6851, 6852]),)"
      ]
     },
     "execution_count": 8,
     "metadata": {},
     "output_type": "execute_result"
    }
   ],
   "source": [
    "## check in which location data is abnormal\n",
    "\n",
    "np.where(df_data[\"label\"] == 'normal')"
   ]
  },
  {
   "cell_type": "code",
   "execution_count": 9,
   "metadata": {},
   "outputs": [
    {
     "name": "stdout",
     "output_type": "stream",
     "text": [
      "3376    normal\n",
      "427     normal\n",
      "2371    normal\n",
      "4946    normal\n",
      "6683    normal\n",
      "5805    normal\n",
      "1560    normal\n",
      "3240    normal\n",
      "430     normal\n",
      "4696    normal\n",
      "Name: label, dtype: object\n",
      "3376    n\n",
      "427     n\n",
      "2371    n\n",
      "4946    n\n",
      "6683    n\n",
      "5805    n\n",
      "1560    n\n",
      "3240    n\n",
      "430     n\n",
      "4696    n\n",
      "Name: labels, dtype: object\n"
     ]
    }
   ],
   "source": [
    "### looks like working\n",
    "\n",
    "print(df_data.iloc[740:750, -1])\n",
    "print(df_labels.iloc[740:750, -1])\n",
    "# df_data.head()"
   ]
  },
  {
   "cell_type": "code",
   "execution_count": 10,
   "metadata": {},
   "outputs": [],
   "source": [
    "### for each object column in data\n",
    "\n",
    "cols_toOneHot = df_data.select_dtypes(include='object').columns.tolist()\n",
    "\n",
    "cols_all = df_data.columns.tolist()\n",
    "cols_toNormalize = list(set(cols_all) - set(cols_toOneHot))"
   ]
  },
  {
   "cell_type": "code",
   "execution_count": 11,
   "metadata": {},
   "outputs": [
    {
     "name": "stdout",
     "output_type": "stream",
     "text": [
      "columns to normalize:\n",
      "['n', 'e', 'j', 'g', 'TT4', 'f', 'TSH', 'd', 'm', 'T4U', 'c', 'i', 'age', 'a', 'FTI', 'T3', 'k', 'l', 'o', 'h', 'b']\n",
      "\n",
      "columns to one-hot:\n",
      "['label']\n",
      "\n"
     ]
    }
   ],
   "source": [
    "print(\"columns to normalize:\\n%s\\n\" % cols_toNormalize)\n",
    "print(\"columns to one-hot:\\n%s\\n\" % cols_toOneHot)"
   ]
  },
  {
   "cell_type": "code",
   "execution_count": 12,
   "metadata": {
    "scrolled": true
   },
   "outputs": [
    {
     "data": {
      "text/plain": [
       "21"
      ]
     },
     "execution_count": 12,
     "metadata": {},
     "output_type": "execute_result"
    }
   ],
   "source": [
    "len(cols_toNormalize)"
   ]
  },
  {
   "cell_type": "markdown",
   "metadata": {},
   "source": [
    "### Dataset preprocessing in numerical columns"
   ]
  },
  {
   "cell_type": "code",
   "execution_count": 13,
   "metadata": {},
   "outputs": [
    {
     "name": "stdout",
     "output_type": "stream",
     "text": [
      "float64\n"
     ]
    }
   ],
   "source": [
    "print(df_data.TSH.dtype)"
   ]
  },
  {
   "cell_type": "code",
   "execution_count": 14,
   "metadata": {},
   "outputs": [],
   "source": [
    "def checkStats(df_data):\n",
    "    i=0\n",
    "    for col in df_data.columns.tolist():\n",
    "            \n",
    "        if col in cols_toOneHot:    ### skip if column is not numerical  ### TODO: check column type??\n",
    "            i += 1\n",
    "            continue\n",
    "\n",
    "        min_ = df_data[col].values.min()\n",
    "        max_ = df_data[col].values.max()\n",
    "        std_ = df_data[col].values.std()\n",
    "\n",
    "        print(\"column:%d min:%f max:%f std:%f\" % (i, min_, max_, std_))\n",
    "        i += 1"
   ]
  },
  {
   "cell_type": "code",
   "execution_count": 15,
   "metadata": {},
   "outputs": [
    {
     "name": "stdout",
     "output_type": "stream",
     "text": [
      "column:0 min:0.010000 max:0.970000 std:0.189447\n",
      "column:1 min:0.000000 max:1.000000 std:0.461501\n",
      "column:2 min:0.000000 max:1.000000 std:0.340448\n",
      "column:3 min:0.000000 max:1.000000 std:0.123975\n",
      "column:4 min:0.000000 max:1.000000 std:0.113844\n",
      "column:5 min:0.000000 max:1.000000 std:0.192456\n",
      "column:6 min:0.000000 max:1.000000 std:0.106077\n",
      "column:7 min:0.000000 max:1.000000 std:0.118127\n",
      "column:8 min:0.000000 max:1.000000 std:0.128450\n",
      "column:9 min:0.000000 max:1.000000 std:0.242769\n",
      "column:10 min:0.000000 max:1.000000 std:0.254232\n",
      "column:11 min:0.000000 max:1.000000 std:0.113218\n",
      "column:12 min:0.000000 max:1.000000 std:0.092386\n",
      "column:13 min:0.000000 max:1.000000 std:0.157747\n",
      "column:14 min:0.000000 max:1.000000 std:0.012079\n",
      "column:15 min:0.000000 max:1.000000 std:0.217447\n",
      "column:16 min:0.000010 max:0.500000 std:0.016379\n",
      "column:17 min:0.000500 max:0.180000 std:0.007451\n",
      "column:18 min:0.002500 max:0.600000 std:0.035017\n",
      "column:19 min:0.017000 max:0.233000 std:0.019091\n",
      "column:20 min:0.002400 max:0.642000 std:0.034971\n"
     ]
    }
   ],
   "source": [
    "## before normalization\n",
    "df_data = df_data\n",
    "checkStats(df_data)"
   ]
  },
  {
   "cell_type": "code",
   "execution_count": 16,
   "metadata": {},
   "outputs": [
    {
     "data": {
      "text/plain": [
       "\"\\n### mean substr and std dev div\\nfor col in cols_toNormalize:\\n    mean = df_data[col].mean()\\n    std = df_data[col].std()\\n    \\n    if mean == 0 or std == 0:     ### columns 'num_outbound_cmds', 'is_host_login' has zero mean and std dev!!!\\n        continue\\n    \\n    df_data[col] = (df_data[col] - mean) / std\\n\""
      ]
     },
     "execution_count": 16,
     "metadata": {},
     "output_type": "execute_result"
    }
   ],
   "source": [
    "### normalization\n",
    "\n",
    "### min substr and max-min div\n",
    "\n",
    "def normalise(df_data, cols_toNormalize):\n",
    "    for col in cols_toNormalize:\n",
    "        if len(col) == 1:\n",
    "            print(col)\n",
    "            continue\n",
    "            \n",
    "        min = df_data[col].min()\n",
    "        max = df_data[col].max()\n",
    "\n",
    "        if max - min == 0:\n",
    "            continue\n",
    "\n",
    "        df_data[col] = (df_data[col] - min) / (max - min)\n",
    "    \n",
    "    return df_data\n",
    "\n",
    "\n",
    "\n",
    "\"\"\"\n",
    "### mean substr and std dev div\n",
    "for col in cols_toNormalize:\n",
    "    mean = df_data[col].mean()\n",
    "    std = df_data[col].std()\n",
    "    \n",
    "    if mean == 0 or std == 0:     ### columns 'num_outbound_cmds', 'is_host_login' has zero mean and std dev!!!\n",
    "        continue\n",
    "    \n",
    "    df_data[col] = (df_data[col] - mean) / std\n",
    "\"\"\""
   ]
  },
  {
   "cell_type": "code",
   "execution_count": 17,
   "metadata": {
    "scrolled": true
   },
   "outputs": [
    {
     "name": "stdout",
     "output_type": "stream",
     "text": [
      "n\n",
      "e\n",
      "j\n",
      "g\n",
      "f\n",
      "d\n",
      "m\n",
      "c\n",
      "i\n",
      "a\n",
      "k\n",
      "l\n",
      "o\n",
      "h\n",
      "b\n",
      "column:0 min:0.000000 max:1.000000 std:0.197341\n",
      "column:1 min:0.000000 max:1.000000 std:0.461501\n",
      "column:2 min:0.000000 max:1.000000 std:0.340448\n",
      "column:3 min:0.000000 max:1.000000 std:0.123975\n",
      "column:4 min:0.000000 max:1.000000 std:0.113844\n",
      "column:5 min:0.000000 max:1.000000 std:0.192456\n",
      "column:6 min:0.000000 max:1.000000 std:0.106077\n",
      "column:7 min:0.000000 max:1.000000 std:0.118127\n",
      "column:8 min:0.000000 max:1.000000 std:0.128450\n",
      "column:9 min:0.000000 max:1.000000 std:0.242769\n",
      "column:10 min:0.000000 max:1.000000 std:0.254232\n",
      "column:11 min:0.000000 max:1.000000 std:0.113218\n",
      "column:12 min:0.000000 max:1.000000 std:0.092386\n",
      "column:13 min:0.000000 max:1.000000 std:0.157747\n",
      "column:14 min:0.000000 max:1.000000 std:0.012079\n",
      "column:15 min:0.000000 max:1.000000 std:0.217447\n",
      "column:16 min:0.000000 max:1.000000 std:0.032758\n",
      "column:17 min:0.000000 max:1.000000 std:0.041511\n",
      "column:18 min:0.000000 max:1.000000 std:0.058607\n",
      "column:19 min:0.000000 max:1.000000 std:0.088386\n",
      "column:20 min:0.000000 max:1.000000 std:0.054676\n",
      "           age    a    b    c    d    e    f    g    h    i   ...       l  \\\n",
      "2776  0.677083  1.0  0.0  0.0  0.0  0.0  0.0  0.0  0.0  0.0   ...     0.0   \n",
      "307   0.781250  0.0  0.0  0.0  0.0  0.0  0.0  0.0  0.0  0.0   ...     0.0   \n",
      "4801  0.593750  0.0  0.0  0.0  0.0  0.0  0.0  0.0  0.0  0.0   ...     0.0   \n",
      "1894  0.416667  0.0  1.0  0.0  0.0  0.0  0.0  0.0  0.0  0.0   ...     0.0   \n",
      "6722  0.291667  1.0  0.0  0.0  0.0  0.0  0.0  0.0  0.0  0.0   ...     0.0   \n",
      "1598  0.593750  0.0  0.0  0.0  0.0  0.0  0.0  0.0  0.0  1.0   ...     0.0   \n",
      "1089  0.333333  0.0  0.0  0.0  0.0  0.0  0.0  0.0  0.0  0.0   ...     0.0   \n",
      "3951  0.218750  0.0  0.0  0.0  0.0  0.0  0.0  0.0  0.0  0.0   ...     0.0   \n",
      "5451  0.656250  1.0  1.0  0.0  0.0  0.0  0.0  1.0  0.0  0.0   ...     0.0   \n",
      "4651  0.635417  0.0  0.0  0.0  0.0  0.0  0.0  0.0  0.0  0.0   ...     0.0   \n",
      "328   0.572917  0.0  0.0  0.0  0.0  0.0  0.0  0.0  0.0  0.0   ...     0.0   \n",
      "5966  0.343750  0.0  0.0  0.0  0.0  0.0  0.0  0.0  0.0  0.0   ...     0.0   \n",
      "5394  0.239583  0.0  0.0  0.0  0.0  1.0  0.0  0.0  0.0  0.0   ...     0.0   \n",
      "4503  0.718750  0.0  1.0  0.0  0.0  0.0  0.0  0.0  0.0  0.0   ...     0.0   \n",
      "1516  0.218750  0.0  0.0  0.0  0.0  0.0  0.0  0.0  0.0  0.0   ...     0.0   \n",
      "843   0.156250  0.0  0.0  0.0  0.0  0.0  0.0  0.0  0.0  0.0   ...     0.0   \n",
      "2114  0.552083  0.0  0.0  0.0  0.0  0.0  0.0  0.0  0.0  0.0   ...     0.0   \n",
      "1966  0.614583  1.0  0.0  0.0  0.0  0.0  0.0  0.0  0.0  0.0   ...     0.0   \n",
      "1742  0.562500  0.0  0.0  0.0  0.0  0.0  0.0  0.0  0.0  0.0   ...     0.0   \n",
      "18    0.187500  0.0  1.0  0.0  0.0  0.0  0.0  0.0  0.0  0.0   ...     0.0   \n",
      "1671  0.270833  0.0  0.0  0.0  0.0  0.0  0.0  0.0  0.0  0.0   ...     0.0   \n",
      "6705  0.552083  0.0  0.0  0.0  0.0  0.0  0.0  0.0  0.0  1.0   ...     0.0   \n",
      "3272  0.197917  0.0  0.0  0.0  0.0  0.0  0.0  0.0  0.0  0.0   ...     0.0   \n",
      "2219  0.552083  0.0  0.0  0.0  0.0  0.0  0.0  0.0  0.0  0.0   ...     0.0   \n",
      "4726  0.239583  0.0  0.0  0.0  0.0  0.0  0.0  0.0  0.0  1.0   ...     0.0   \n",
      "4356  0.614583  0.0  0.0  0.0  0.0  0.0  0.0  0.0  0.0  0.0   ...     0.0   \n",
      "3121  0.812500  1.0  0.0  0.0  0.0  0.0  0.0  0.0  0.0  0.0   ...     0.0   \n",
      "6406  0.406250  0.0  0.0  0.0  0.0  0.0  1.0  0.0  0.0  0.0   ...     0.0   \n",
      "6585  0.614583  1.0  0.0  0.0  0.0  1.0  0.0  0.0  0.0  0.0   ...     0.0   \n",
      "3252  0.593750  1.0  0.0  0.0  0.0  0.0  0.0  0.0  0.0  0.0   ...     0.0   \n",
      "...        ...  ...  ...  ...  ...  ...  ...  ...  ...  ...   ...     ...   \n",
      "2496  0.531250  0.0  0.0  0.0  0.0  0.0  0.0  0.0  0.0  0.0   ...     0.0   \n",
      "1095  0.531250  1.0  0.0  0.0  0.0  0.0  0.0  0.0  0.0  0.0   ...     0.0   \n",
      "1936  0.750000  1.0  0.0  0.0  0.0  0.0  0.0  0.0  0.0  0.0   ...     0.0   \n",
      "385   0.604167  0.0  0.0  0.0  0.0  0.0  0.0  0.0  0.0  0.0   ...     0.0   \n",
      "1654  0.781250  0.0  0.0  0.0  0.0  0.0  0.0  0.0  0.0  0.0   ...     0.0   \n",
      "4448  0.447917  0.0  0.0  0.0  0.0  0.0  0.0  0.0  0.0  0.0   ...     0.0   \n",
      "5496  0.135417  0.0  0.0  0.0  0.0  0.0  0.0  0.0  0.0  0.0   ...     0.0   \n",
      "5238  0.291667  0.0  0.0  0.0  0.0  0.0  0.0  0.0  0.0  0.0   ...     0.0   \n",
      "842   0.739583  0.0  0.0  0.0  0.0  1.0  0.0  0.0  0.0  0.0   ...     0.0   \n",
      "3068  0.802083  0.0  0.0  0.0  0.0  1.0  0.0  0.0  0.0  0.0   ...     0.0   \n",
      "2602  0.427083  0.0  0.0  0.0  0.0  0.0  0.0  0.0  0.0  0.0   ...     0.0   \n",
      "2975  0.416667  0.0  1.0  0.0  0.0  0.0  0.0  0.0  0.0  0.0   ...     0.0   \n",
      "5662  0.260417  0.0  0.0  0.0  0.0  0.0  0.0  0.0  0.0  0.0   ...     0.0   \n",
      "4693  0.427083  0.0  0.0  0.0  0.0  0.0  0.0  0.0  0.0  0.0   ...     0.0   \n",
      "3920  0.343750  0.0  1.0  0.0  0.0  0.0  0.0  0.0  0.0  0.0   ...     0.0   \n",
      "6019  0.656250  0.0  0.0  0.0  0.0  0.0  0.0  0.0  0.0  0.0   ...     0.0   \n",
      "6327  0.802083  0.0  1.0  0.0  0.0  0.0  0.0  0.0  0.0  0.0   ...     0.0   \n",
      "5713  0.854167  1.0  0.0  0.0  0.0  0.0  0.0  0.0  0.0  0.0   ...     0.0   \n",
      "515   0.322917  1.0  0.0  0.0  0.0  0.0  0.0  0.0  0.0  0.0   ...     0.0   \n",
      "6713  0.479167  1.0  0.0  0.0  0.0  0.0  0.0  0.0  0.0  0.0   ...     0.0   \n",
      "1963  0.625000  0.0  0.0  1.0  0.0  0.0  0.0  0.0  0.0  0.0   ...     0.0   \n",
      "1910  0.687500  1.0  0.0  0.0  0.0  0.0  0.0  0.0  0.0  0.0   ...     0.0   \n",
      "3614  0.687500  0.0  1.0  0.0  0.0  0.0  0.0  0.0  0.0  0.0   ...     0.0   \n",
      "6335  0.760417  1.0  0.0  0.0  0.0  0.0  0.0  0.0  0.0  0.0   ...     0.0   \n",
      "4416  0.552083  1.0  0.0  0.0  0.0  0.0  0.0  0.0  0.0  0.0   ...     0.0   \n",
      "2067  0.145833  0.0  1.0  0.0  0.0  0.0  0.0  0.0  0.0  0.0   ...     0.0   \n",
      "1652  0.354167  0.0  0.0  0.0  0.0  0.0  0.0  0.0  0.0  0.0   ...     0.0   \n",
      "2733  0.489583  0.0  0.0  0.0  0.0  0.0  0.0  0.0  0.0  0.0   ...     0.0   \n",
      "6424  0.239583  1.0  0.0  0.0  0.0  0.0  0.0  0.0  0.0  0.0   ...     0.0   \n",
      "5601  0.687500  0.0  0.0  0.0  0.0  0.0  0.0  0.0  0.0  1.0   ...     0.0   \n",
      "\n",
      "        m    n    o       TSH        T3       TT4       T4U       FTI    label  \n",
      "2776  0.0  0.0  0.0  0.005180  0.109192  0.138075  0.245370  0.185428   normal  \n",
      "307   0.0  0.0  0.0  0.000100  0.119777  0.225105  0.393519  0.207317   normal  \n",
      "4801  0.0  0.0  0.0  0.003980  0.091922  0.236820  0.356481  0.235460   normal  \n",
      "1894  0.0  0.0  0.0  0.003180  0.169916  0.097908  0.351852  0.099437   normal  \n",
      "6722  0.0  0.0  1.0  0.029981  0.111978  0.184937  0.444444  0.152595   normal  \n",
      "1598  0.0  0.0  0.0  0.019980  0.109192  0.131381  0.356481  0.130707   normal  \n",
      "1089  0.0  0.0  0.0  0.003180  0.109192  0.231799  0.550926  0.158849   normal  \n",
      "3951  0.0  0.0  0.0  0.002580  0.111978  0.179916  0.356481  0.179174   normal  \n",
      "5451  0.0  0.0  0.0  0.002380  0.125348  0.292050  0.620370  0.179174   normal  \n",
      "4651  0.0  0.0  0.0  0.006580  0.108635  0.189958  0.402778  0.168230   normal  \n",
      "328   0.0  0.0  0.0  0.001000  0.064067  0.123013  0.263889  0.155722   normal  \n",
      "5966  0.0  0.0  0.0  0.005380  0.169916  0.158159  0.430556  0.130707   normal  \n",
      "5394  0.0  0.0  0.0  0.000780  0.111978  0.233473  0.476852  0.180738   normal  \n",
      "4503  0.0  0.0  0.0  0.002580  0.097493  0.153138  0.319444  0.168230   normal  \n",
      "1516  0.0  0.0  1.0  0.005580  0.108635  0.121339  0.365741  0.118136   normal  \n",
      "843   0.0  0.0  0.0  0.005380  0.109192  0.163180  0.398148  0.146341   normal  \n",
      "2114  0.0  0.0  0.0  0.005780  0.080780  0.218410  0.365741  0.213571   normal  \n",
      "1966  0.0  0.0  0.0  0.002180  0.169916  0.099582  0.356481  0.099437   normal  \n",
      "1742  0.0  0.0  0.0  0.007980  0.058496  0.128033  0.259259  0.165103   normal  \n",
      "18    0.0  0.0  0.0  0.327987  0.050696  0.104603  0.657407  0.060350  anomaly  \n",
      "1671  0.0  0.0  0.0  0.001540  0.125348  0.189958  0.259259  0.244841   normal  \n",
      "6705  0.0  0.0  0.0  0.001780  0.111978  0.184937  0.337963  0.191682   normal  \n",
      "3272  0.0  0.0  0.0  0.000020  0.109192  0.300418  0.583333  0.194809   normal  \n",
      "2219  0.0  0.0  1.0  0.003580  0.109192  0.188285  0.375000  0.179174   normal  \n",
      "4726  0.0  0.0  0.0  0.001520  0.153203  0.179916  0.342593  0.185428   normal  \n",
      "4356  0.0  0.0  0.0  0.001180  0.130919  0.164854  0.458333  0.130707   normal  \n",
      "3121  0.0  0.0  0.0  0.005380  0.109192  0.134728  0.310185  0.151032   normal  \n",
      "6406  0.0  0.0  0.0  0.001380  0.097493  0.156485  0.356481  0.154159   normal  \n",
      "6585  0.0  0.0  0.0  0.002180  0.119777  0.174895  0.361111  0.172921   normal  \n",
      "3252  0.0  0.0  0.0  0.001880  0.109192  0.143096  0.314815  0.158849   normal  \n",
      "...   ...  ...  ...       ...       ...       ...       ...       ...      ...  \n",
      "2496  0.0  0.0  0.0  0.000780  0.058496  0.216736  0.351852  0.218261   normal  \n",
      "1095  0.0  0.0  0.0  0.003780  0.109192  0.179916  0.296296  0.210444   normal  \n",
      "1936  0.0  0.0  0.0  0.002180  0.197772  0.265272  0.240741  0.360538   normal  \n",
      "385   0.0  0.0  0.0  0.004580  0.041783  0.161506  0.421296  0.140088   normal  \n",
      "1654  0.0  0.0  0.0  0.002580  0.130919  0.158159  0.379630  0.149468   normal  \n",
      "4448  0.0  0.0  0.0  0.006980  0.091922  0.168201  0.365741  0.163540   normal  \n",
      "5496  0.0  0.0  0.0  0.003780  0.164345  0.210042  0.435185  0.177611   normal  \n",
      "5238  0.0  0.0  0.0  0.010180  0.111978  0.116318  0.291667  0.136961   normal  \n",
      "842   0.0  0.0  0.0  0.001880  0.109192  0.138075  0.291667  0.161976   normal  \n",
      "3068  0.0  0.0  0.0  0.003180  0.052925  0.139749  0.287037  0.166667   normal  \n",
      "2602  0.0  0.0  0.0  0.007580  0.125348  0.208368  0.370370  0.201063   normal  \n",
      "2975  0.0  0.0  0.0  0.001980  0.109192  0.126360  0.268519  0.158849   normal  \n",
      "5662  0.0  0.0  0.0  0.004580  0.108635  0.221757  0.481481  0.169794   normal  \n",
      "4693  0.0  0.0  0.0  0.015180  0.125348  0.215063  0.453704  0.172921   normal  \n",
      "3920  0.0  0.0  0.0  0.003760  0.292479  0.298745  0.402778  0.268293   normal  \n",
      "6019  0.0  0.0  0.0  0.001820  0.111978  0.266946  0.416667  0.233896   normal  \n",
      "6327  0.0  0.0  0.0  0.002580  0.047354  0.104603  0.328704  0.111945   normal  \n",
      "5713  0.0  0.0  0.0  0.005180  0.069638  0.163180  0.319444  0.179174   normal  \n",
      "515   0.0  0.0  0.0  0.003180  0.091922  0.166527  0.333333  0.176048   normal  \n",
      "6713  0.0  0.0  0.0  0.003980  0.111978  0.186611  0.333333  0.197936   normal  \n",
      "1963  0.0  0.0  0.0  0.002580  0.108635  0.225105  0.453704  0.182301   normal  \n",
      "1910  0.0  0.0  0.0  0.005980  0.086351  0.129707  0.217593  0.191682   normal  \n",
      "3614  0.0  0.0  0.0  0.003780  0.111978  0.250209  0.444444  0.207317   normal  \n",
      "6335  0.0  0.0  0.0  0.002180  0.130919  0.154812  0.425926  0.130707   normal  \n",
      "4416  0.0  0.0  0.0  0.003760  0.111978  0.181891  0.379630  0.171467   normal  \n",
      "2067  0.0  0.0  0.0  0.002980  0.103064  0.226778  0.375000  0.216698   normal  \n",
      "1652  0.0  0.0  0.0  0.001780  0.080780  0.158159  0.314815  0.174484   normal  \n",
      "2733  0.0  0.0  0.0  0.000100  0.075209  0.211715  0.337963  0.219825   normal  \n",
      "6424  0.0  0.0  0.0  0.004580  0.108635  0.198326  0.296296  0.229206   normal  \n",
      "5601  0.0  0.0  0.0  0.002580  0.075209  0.184937  0.314815  0.202627   normal  \n",
      "\n",
      "[6853 rows x 22 columns]\n"
     ]
    }
   ],
   "source": [
    "# ### Skipping normalisation for thyroid dataset. Added by Jyotirmay\n",
    "df_data=normalise(df_data, cols_toNormalize)\n",
    "checkStats(df_data)\n",
    "print(df_data)"
   ]
  },
  {
   "cell_type": "markdown",
   "metadata": {},
   "source": [
    "### One hot encoding of required columns"
   ]
  },
  {
   "cell_type": "code",
   "execution_count": 18,
   "metadata": {},
   "outputs": [],
   "source": [
    "### obtain one hot encoding\n",
    "\n",
    "df_data = pd.get_dummies(df_data, columns=cols_toOneHot)"
   ]
  },
  {
   "cell_type": "markdown",
   "metadata": {},
   "source": [
    "- Check the resulting dataset"
   ]
  },
  {
   "cell_type": "code",
   "execution_count": 19,
   "metadata": {
    "scrolled": true
   },
   "outputs": [
    {
     "data": {
      "text/html": [
       "<div>\n",
       "<style scoped>\n",
       "    .dataframe tbody tr th:only-of-type {\n",
       "        vertical-align: middle;\n",
       "    }\n",
       "\n",
       "    .dataframe tbody tr th {\n",
       "        vertical-align: top;\n",
       "    }\n",
       "\n",
       "    .dataframe thead th {\n",
       "        text-align: right;\n",
       "    }\n",
       "</style>\n",
       "<table border=\"1\" class=\"dataframe\">\n",
       "  <thead>\n",
       "    <tr style=\"text-align: right;\">\n",
       "      <th></th>\n",
       "      <th>age</th>\n",
       "      <th>a</th>\n",
       "      <th>b</th>\n",
       "      <th>c</th>\n",
       "      <th>d</th>\n",
       "      <th>e</th>\n",
       "      <th>f</th>\n",
       "      <th>g</th>\n",
       "      <th>h</th>\n",
       "      <th>i</th>\n",
       "      <th>...</th>\n",
       "      <th>m</th>\n",
       "      <th>n</th>\n",
       "      <th>o</th>\n",
       "      <th>TSH</th>\n",
       "      <th>T3</th>\n",
       "      <th>TT4</th>\n",
       "      <th>T4U</th>\n",
       "      <th>FTI</th>\n",
       "      <th>label_anomaly</th>\n",
       "      <th>label_normal</th>\n",
       "    </tr>\n",
       "  </thead>\n",
       "  <tbody>\n",
       "    <tr>\n",
       "      <th>2776</th>\n",
       "      <td>0.677083</td>\n",
       "      <td>1.0</td>\n",
       "      <td>0.0</td>\n",
       "      <td>0.0</td>\n",
       "      <td>0.0</td>\n",
       "      <td>0.0</td>\n",
       "      <td>0.0</td>\n",
       "      <td>0.0</td>\n",
       "      <td>0.0</td>\n",
       "      <td>0.0</td>\n",
       "      <td>...</td>\n",
       "      <td>0.0</td>\n",
       "      <td>0.0</td>\n",
       "      <td>0.0</td>\n",
       "      <td>0.005180</td>\n",
       "      <td>0.109192</td>\n",
       "      <td>0.138075</td>\n",
       "      <td>0.245370</td>\n",
       "      <td>0.185428</td>\n",
       "      <td>0</td>\n",
       "      <td>1</td>\n",
       "    </tr>\n",
       "    <tr>\n",
       "      <th>307</th>\n",
       "      <td>0.781250</td>\n",
       "      <td>0.0</td>\n",
       "      <td>0.0</td>\n",
       "      <td>0.0</td>\n",
       "      <td>0.0</td>\n",
       "      <td>0.0</td>\n",
       "      <td>0.0</td>\n",
       "      <td>0.0</td>\n",
       "      <td>0.0</td>\n",
       "      <td>0.0</td>\n",
       "      <td>...</td>\n",
       "      <td>0.0</td>\n",
       "      <td>0.0</td>\n",
       "      <td>0.0</td>\n",
       "      <td>0.000100</td>\n",
       "      <td>0.119777</td>\n",
       "      <td>0.225105</td>\n",
       "      <td>0.393519</td>\n",
       "      <td>0.207317</td>\n",
       "      <td>0</td>\n",
       "      <td>1</td>\n",
       "    </tr>\n",
       "    <tr>\n",
       "      <th>4801</th>\n",
       "      <td>0.593750</td>\n",
       "      <td>0.0</td>\n",
       "      <td>0.0</td>\n",
       "      <td>0.0</td>\n",
       "      <td>0.0</td>\n",
       "      <td>0.0</td>\n",
       "      <td>0.0</td>\n",
       "      <td>0.0</td>\n",
       "      <td>0.0</td>\n",
       "      <td>0.0</td>\n",
       "      <td>...</td>\n",
       "      <td>0.0</td>\n",
       "      <td>0.0</td>\n",
       "      <td>0.0</td>\n",
       "      <td>0.003980</td>\n",
       "      <td>0.091922</td>\n",
       "      <td>0.236820</td>\n",
       "      <td>0.356481</td>\n",
       "      <td>0.235460</td>\n",
       "      <td>0</td>\n",
       "      <td>1</td>\n",
       "    </tr>\n",
       "    <tr>\n",
       "      <th>1894</th>\n",
       "      <td>0.416667</td>\n",
       "      <td>0.0</td>\n",
       "      <td>1.0</td>\n",
       "      <td>0.0</td>\n",
       "      <td>0.0</td>\n",
       "      <td>0.0</td>\n",
       "      <td>0.0</td>\n",
       "      <td>0.0</td>\n",
       "      <td>0.0</td>\n",
       "      <td>0.0</td>\n",
       "      <td>...</td>\n",
       "      <td>0.0</td>\n",
       "      <td>0.0</td>\n",
       "      <td>0.0</td>\n",
       "      <td>0.003180</td>\n",
       "      <td>0.169916</td>\n",
       "      <td>0.097908</td>\n",
       "      <td>0.351852</td>\n",
       "      <td>0.099437</td>\n",
       "      <td>0</td>\n",
       "      <td>1</td>\n",
       "    </tr>\n",
       "    <tr>\n",
       "      <th>6722</th>\n",
       "      <td>0.291667</td>\n",
       "      <td>1.0</td>\n",
       "      <td>0.0</td>\n",
       "      <td>0.0</td>\n",
       "      <td>0.0</td>\n",
       "      <td>0.0</td>\n",
       "      <td>0.0</td>\n",
       "      <td>0.0</td>\n",
       "      <td>0.0</td>\n",
       "      <td>0.0</td>\n",
       "      <td>...</td>\n",
       "      <td>0.0</td>\n",
       "      <td>0.0</td>\n",
       "      <td>1.0</td>\n",
       "      <td>0.029981</td>\n",
       "      <td>0.111978</td>\n",
       "      <td>0.184937</td>\n",
       "      <td>0.444444</td>\n",
       "      <td>0.152595</td>\n",
       "      <td>0</td>\n",
       "      <td>1</td>\n",
       "    </tr>\n",
       "  </tbody>\n",
       "</table>\n",
       "<p>5 rows × 23 columns</p>\n",
       "</div>"
      ],
      "text/plain": [
       "           age    a    b    c    d    e    f    g    h    i      ...       \\\n",
       "2776  0.677083  1.0  0.0  0.0  0.0  0.0  0.0  0.0  0.0  0.0      ...        \n",
       "307   0.781250  0.0  0.0  0.0  0.0  0.0  0.0  0.0  0.0  0.0      ...        \n",
       "4801  0.593750  0.0  0.0  0.0  0.0  0.0  0.0  0.0  0.0  0.0      ...        \n",
       "1894  0.416667  0.0  1.0  0.0  0.0  0.0  0.0  0.0  0.0  0.0      ...        \n",
       "6722  0.291667  1.0  0.0  0.0  0.0  0.0  0.0  0.0  0.0  0.0      ...        \n",
       "\n",
       "        m    n    o       TSH        T3       TT4       T4U       FTI  \\\n",
       "2776  0.0  0.0  0.0  0.005180  0.109192  0.138075  0.245370  0.185428   \n",
       "307   0.0  0.0  0.0  0.000100  0.119777  0.225105  0.393519  0.207317   \n",
       "4801  0.0  0.0  0.0  0.003980  0.091922  0.236820  0.356481  0.235460   \n",
       "1894  0.0  0.0  0.0  0.003180  0.169916  0.097908  0.351852  0.099437   \n",
       "6722  0.0  0.0  1.0  0.029981  0.111978  0.184937  0.444444  0.152595   \n",
       "\n",
       "      label_anomaly  label_normal  \n",
       "2776              0             1  \n",
       "307               0             1  \n",
       "4801              0             1  \n",
       "1894              0             1  \n",
       "6722              0             1  \n",
       "\n",
       "[5 rows x 23 columns]"
      ]
     },
     "execution_count": 19,
     "metadata": {},
     "output_type": "execute_result"
    }
   ],
   "source": [
    "df_data.head()"
   ]
  },
  {
   "cell_type": "code",
   "execution_count": 20,
   "metadata": {},
   "outputs": [
    {
     "data": {
      "text/plain": [
       "(6853, 23)"
      ]
     },
     "execution_count": 20,
     "metadata": {},
     "output_type": "execute_result"
    }
   ],
   "source": [
    "### shape is correct\n",
    "\n",
    "df_data.shape"
   ]
  },
  {
   "cell_type": "code",
   "execution_count": 21,
   "metadata": {
    "scrolled": true
   },
   "outputs": [
    {
     "data": {
      "text/html": [
       "<div>\n",
       "<style scoped>\n",
       "    .dataframe tbody tr th:only-of-type {\n",
       "        vertical-align: middle;\n",
       "    }\n",
       "\n",
       "    .dataframe tbody tr th {\n",
       "        vertical-align: top;\n",
       "    }\n",
       "\n",
       "    .dataframe thead th {\n",
       "        text-align: right;\n",
       "    }\n",
       "</style>\n",
       "<table border=\"1\" class=\"dataframe\">\n",
       "  <thead>\n",
       "    <tr style=\"text-align: right;\">\n",
       "      <th></th>\n",
       "      <th>age</th>\n",
       "      <th>a</th>\n",
       "      <th>b</th>\n",
       "      <th>c</th>\n",
       "      <th>d</th>\n",
       "      <th>e</th>\n",
       "      <th>f</th>\n",
       "      <th>g</th>\n",
       "      <th>h</th>\n",
       "      <th>i</th>\n",
       "      <th>...</th>\n",
       "      <th>m</th>\n",
       "      <th>n</th>\n",
       "      <th>o</th>\n",
       "      <th>TSH</th>\n",
       "      <th>T3</th>\n",
       "      <th>TT4</th>\n",
       "      <th>T4U</th>\n",
       "      <th>FTI</th>\n",
       "      <th>label_anomaly</th>\n",
       "      <th>label_normal</th>\n",
       "    </tr>\n",
       "  </thead>\n",
       "  <tbody>\n",
       "    <tr>\n",
       "      <th>count</th>\n",
       "      <td>6853.000000</td>\n",
       "      <td>6853.000000</td>\n",
       "      <td>6853.000000</td>\n",
       "      <td>6853.000000</td>\n",
       "      <td>6853.000000</td>\n",
       "      <td>6853.000000</td>\n",
       "      <td>6853.000000</td>\n",
       "      <td>6853.000000</td>\n",
       "      <td>6853.000000</td>\n",
       "      <td>6853.000000</td>\n",
       "      <td>...</td>\n",
       "      <td>6853.000000</td>\n",
       "      <td>6853.000000</td>\n",
       "      <td>6853.000000</td>\n",
       "      <td>6853.000000</td>\n",
       "      <td>6853.000000</td>\n",
       "      <td>6853.000000</td>\n",
       "      <td>6853.000000</td>\n",
       "      <td>6853.000000</td>\n",
       "      <td>6853.000000</td>\n",
       "      <td>6853.000000</td>\n",
       "    </tr>\n",
       "    <tr>\n",
       "      <th>mean</th>\n",
       "      <td>0.531639</td>\n",
       "      <td>0.307603</td>\n",
       "      <td>0.133810</td>\n",
       "      <td>0.015614</td>\n",
       "      <td>0.013133</td>\n",
       "      <td>0.038523</td>\n",
       "      <td>0.011382</td>\n",
       "      <td>0.014154</td>\n",
       "      <td>0.016781</td>\n",
       "      <td>0.062892</td>\n",
       "      <td>...</td>\n",
       "      <td>0.025536</td>\n",
       "      <td>0.000146</td>\n",
       "      <td>0.049759</td>\n",
       "      <td>0.006882</td>\n",
       "      <td>0.109418</td>\n",
       "      <td>0.181021</td>\n",
       "      <td>0.373549</td>\n",
       "      <td>0.175391</td>\n",
       "      <td>0.036480</td>\n",
       "      <td>0.963520</td>\n",
       "    </tr>\n",
       "    <tr>\n",
       "      <th>std</th>\n",
       "      <td>0.197355</td>\n",
       "      <td>0.461535</td>\n",
       "      <td>0.340473</td>\n",
       "      <td>0.123984</td>\n",
       "      <td>0.113852</td>\n",
       "      <td>0.192470</td>\n",
       "      <td>0.106085</td>\n",
       "      <td>0.118136</td>\n",
       "      <td>0.128459</td>\n",
       "      <td>0.242787</td>\n",
       "      <td>...</td>\n",
       "      <td>0.157759</td>\n",
       "      <td>0.012080</td>\n",
       "      <td>0.217463</td>\n",
       "      <td>0.032760</td>\n",
       "      <td>0.041514</td>\n",
       "      <td>0.058611</td>\n",
       "      <td>0.088393</td>\n",
       "      <td>0.054680</td>\n",
       "      <td>0.187496</td>\n",
       "      <td>0.187496</td>\n",
       "    </tr>\n",
       "    <tr>\n",
       "      <th>min</th>\n",
       "      <td>0.000000</td>\n",
       "      <td>0.000000</td>\n",
       "      <td>0.000000</td>\n",
       "      <td>0.000000</td>\n",
       "      <td>0.000000</td>\n",
       "      <td>0.000000</td>\n",
       "      <td>0.000000</td>\n",
       "      <td>0.000000</td>\n",
       "      <td>0.000000</td>\n",
       "      <td>0.000000</td>\n",
       "      <td>...</td>\n",
       "      <td>0.000000</td>\n",
       "      <td>0.000000</td>\n",
       "      <td>0.000000</td>\n",
       "      <td>0.000000</td>\n",
       "      <td>0.000000</td>\n",
       "      <td>0.000000</td>\n",
       "      <td>0.000000</td>\n",
       "      <td>0.000000</td>\n",
       "      <td>0.000000</td>\n",
       "      <td>0.000000</td>\n",
       "    </tr>\n",
       "    <tr>\n",
       "      <th>25%</th>\n",
       "      <td>0.375000</td>\n",
       "      <td>0.000000</td>\n",
       "      <td>0.000000</td>\n",
       "      <td>0.000000</td>\n",
       "      <td>0.000000</td>\n",
       "      <td>0.000000</td>\n",
       "      <td>0.000000</td>\n",
       "      <td>0.000000</td>\n",
       "      <td>0.000000</td>\n",
       "      <td>0.000000</td>\n",
       "      <td>...</td>\n",
       "      <td>0.000000</td>\n",
       "      <td>0.000000</td>\n",
       "      <td>0.000000</td>\n",
       "      <td>0.001380</td>\n",
       "      <td>0.091922</td>\n",
       "      <td>0.146444</td>\n",
       "      <td>0.324074</td>\n",
       "      <td>0.146341</td>\n",
       "      <td>0.000000</td>\n",
       "      <td>1.000000</td>\n",
       "    </tr>\n",
       "    <tr>\n",
       "      <th>50%</th>\n",
       "      <td>0.552083</td>\n",
       "      <td>0.000000</td>\n",
       "      <td>0.000000</td>\n",
       "      <td>0.000000</td>\n",
       "      <td>0.000000</td>\n",
       "      <td>0.000000</td>\n",
       "      <td>0.000000</td>\n",
       "      <td>0.000000</td>\n",
       "      <td>0.000000</td>\n",
       "      <td>0.000000</td>\n",
       "      <td>...</td>\n",
       "      <td>0.000000</td>\n",
       "      <td>0.000000</td>\n",
       "      <td>0.000000</td>\n",
       "      <td>0.003180</td>\n",
       "      <td>0.109192</td>\n",
       "      <td>0.174895</td>\n",
       "      <td>0.365741</td>\n",
       "      <td>0.171357</td>\n",
       "      <td>0.000000</td>\n",
       "      <td>1.000000</td>\n",
       "    </tr>\n",
       "    <tr>\n",
       "      <th>75%</th>\n",
       "      <td>0.687500</td>\n",
       "      <td>1.000000</td>\n",
       "      <td>0.000000</td>\n",
       "      <td>0.000000</td>\n",
       "      <td>0.000000</td>\n",
       "      <td>0.000000</td>\n",
       "      <td>0.000000</td>\n",
       "      <td>0.000000</td>\n",
       "      <td>0.000000</td>\n",
       "      <td>0.000000</td>\n",
       "      <td>...</td>\n",
       "      <td>0.000000</td>\n",
       "      <td>0.000000</td>\n",
       "      <td>0.000000</td>\n",
       "      <td>0.004780</td>\n",
       "      <td>0.119777</td>\n",
       "      <td>0.206695</td>\n",
       "      <td>0.402778</td>\n",
       "      <td>0.194809</td>\n",
       "      <td>0.000000</td>\n",
       "      <td>1.000000</td>\n",
       "    </tr>\n",
       "    <tr>\n",
       "      <th>max</th>\n",
       "      <td>1.000000</td>\n",
       "      <td>1.000000</td>\n",
       "      <td>1.000000</td>\n",
       "      <td>1.000000</td>\n",
       "      <td>1.000000</td>\n",
       "      <td>1.000000</td>\n",
       "      <td>1.000000</td>\n",
       "      <td>1.000000</td>\n",
       "      <td>1.000000</td>\n",
       "      <td>1.000000</td>\n",
       "      <td>...</td>\n",
       "      <td>1.000000</td>\n",
       "      <td>1.000000</td>\n",
       "      <td>1.000000</td>\n",
       "      <td>1.000000</td>\n",
       "      <td>1.000000</td>\n",
       "      <td>1.000000</td>\n",
       "      <td>1.000000</td>\n",
       "      <td>1.000000</td>\n",
       "      <td>1.000000</td>\n",
       "      <td>1.000000</td>\n",
       "    </tr>\n",
       "  </tbody>\n",
       "</table>\n",
       "<p>8 rows × 23 columns</p>\n",
       "</div>"
      ],
      "text/plain": [
       "               age            a            b            c            d  \\\n",
       "count  6853.000000  6853.000000  6853.000000  6853.000000  6853.000000   \n",
       "mean      0.531639     0.307603     0.133810     0.015614     0.013133   \n",
       "std       0.197355     0.461535     0.340473     0.123984     0.113852   \n",
       "min       0.000000     0.000000     0.000000     0.000000     0.000000   \n",
       "25%       0.375000     0.000000     0.000000     0.000000     0.000000   \n",
       "50%       0.552083     0.000000     0.000000     0.000000     0.000000   \n",
       "75%       0.687500     1.000000     0.000000     0.000000     0.000000   \n",
       "max       1.000000     1.000000     1.000000     1.000000     1.000000   \n",
       "\n",
       "                 e            f            g            h            i  \\\n",
       "count  6853.000000  6853.000000  6853.000000  6853.000000  6853.000000   \n",
       "mean      0.038523     0.011382     0.014154     0.016781     0.062892   \n",
       "std       0.192470     0.106085     0.118136     0.128459     0.242787   \n",
       "min       0.000000     0.000000     0.000000     0.000000     0.000000   \n",
       "25%       0.000000     0.000000     0.000000     0.000000     0.000000   \n",
       "50%       0.000000     0.000000     0.000000     0.000000     0.000000   \n",
       "75%       0.000000     0.000000     0.000000     0.000000     0.000000   \n",
       "max       1.000000     1.000000     1.000000     1.000000     1.000000   \n",
       "\n",
       "           ...                 m            n            o          TSH  \\\n",
       "count      ...       6853.000000  6853.000000  6853.000000  6853.000000   \n",
       "mean       ...          0.025536     0.000146     0.049759     0.006882   \n",
       "std        ...          0.157759     0.012080     0.217463     0.032760   \n",
       "min        ...          0.000000     0.000000     0.000000     0.000000   \n",
       "25%        ...          0.000000     0.000000     0.000000     0.001380   \n",
       "50%        ...          0.000000     0.000000     0.000000     0.003180   \n",
       "75%        ...          0.000000     0.000000     0.000000     0.004780   \n",
       "max        ...          1.000000     1.000000     1.000000     1.000000   \n",
       "\n",
       "                T3          TT4          T4U          FTI  label_anomaly  \\\n",
       "count  6853.000000  6853.000000  6853.000000  6853.000000    6853.000000   \n",
       "mean      0.109418     0.181021     0.373549     0.175391       0.036480   \n",
       "std       0.041514     0.058611     0.088393     0.054680       0.187496   \n",
       "min       0.000000     0.000000     0.000000     0.000000       0.000000   \n",
       "25%       0.091922     0.146444     0.324074     0.146341       0.000000   \n",
       "50%       0.109192     0.174895     0.365741     0.171357       0.000000   \n",
       "75%       0.119777     0.206695     0.402778     0.194809       0.000000   \n",
       "max       1.000000     1.000000     1.000000     1.000000       1.000000   \n",
       "\n",
       "       label_normal  \n",
       "count   6853.000000  \n",
       "mean       0.963520  \n",
       "std        0.187496  \n",
       "min        0.000000  \n",
       "25%        1.000000  \n",
       "50%        1.000000  \n",
       "75%        1.000000  \n",
       "max        1.000000  \n",
       "\n",
       "[8 rows x 23 columns]"
      ]
     },
     "execution_count": 21,
     "metadata": {},
     "output_type": "execute_result"
    }
   ],
   "source": [
    "df_data.describe()"
   ]
  },
  {
   "cell_type": "code",
   "execution_count": 22,
   "metadata": {
    "scrolled": true
   },
   "outputs": [
    {
     "name": "stdout",
     "output_type": "stream",
     "text": [
      "column:0 min:0.000000 max:1.000000 std:0.197341\n",
      "column:1 min:0.000000 max:1.000000 std:0.461501\n",
      "column:2 min:0.000000 max:1.000000 std:0.340448\n",
      "column:3 min:0.000000 max:1.000000 std:0.123975\n",
      "column:4 min:0.000000 max:1.000000 std:0.113844\n",
      "column:5 min:0.000000 max:1.000000 std:0.192456\n",
      "column:6 min:0.000000 max:1.000000 std:0.106077\n",
      "column:7 min:0.000000 max:1.000000 std:0.118127\n",
      "column:8 min:0.000000 max:1.000000 std:0.128450\n",
      "column:9 min:0.000000 max:1.000000 std:0.242769\n",
      "column:10 min:0.000000 max:1.000000 std:0.254232\n",
      "column:11 min:0.000000 max:1.000000 std:0.113218\n",
      "column:12 min:0.000000 max:1.000000 std:0.092386\n",
      "column:13 min:0.000000 max:1.000000 std:0.157747\n",
      "column:14 min:0.000000 max:1.000000 std:0.012079\n",
      "column:15 min:0.000000 max:1.000000 std:0.217447\n",
      "column:16 min:0.000000 max:1.000000 std:0.032758\n",
      "column:17 min:0.000000 max:1.000000 std:0.041511\n",
      "column:18 min:0.000000 max:1.000000 std:0.058607\n",
      "column:19 min:0.000000 max:1.000000 std:0.088386\n",
      "column:20 min:0.000000 max:1.000000 std:0.054676\n",
      "column:21 min:0.000000 max:1.000000 std:0.187482\n",
      "column:22 min:0.000000 max:1.000000 std:0.187482\n"
     ]
    }
   ],
   "source": [
    "### check again\n",
    "\n",
    "checkStats(df_data)"
   ]
  },
  {
   "cell_type": "code",
   "execution_count": 23,
   "metadata": {},
   "outputs": [
    {
     "name": "stdout",
     "output_type": "stream",
     "text": [
      "False\n",
      "False\n"
     ]
    }
   ],
   "source": [
    "## check integrity of the data again\n",
    "\n",
    "print(df_data.isnull().values.any())\n",
    "\n",
    "print(df_data.isna().values.any())"
   ]
  },
  {
   "cell_type": "code",
   "execution_count": 24,
   "metadata": {
    "scrolled": true
   },
   "outputs": [
    {
     "name": "stdout",
     "output_type": "stream",
     "text": [
      "3376    1\n",
      "427     1\n",
      "2371    1\n",
      "4946    1\n",
      "6683    1\n",
      "5805    1\n",
      "1560    1\n",
      "3240    1\n",
      "430     1\n",
      "4696    1\n",
      "Name: label_normal, dtype: uint8\n",
      "3376    0\n",
      "427     0\n",
      "2371    0\n",
      "4946    0\n",
      "6683    0\n",
      "5805    0\n",
      "1560    0\n",
      "3240    0\n",
      "430     0\n",
      "4696    0\n",
      "Name: label_anomaly, dtype: uint8\n",
      "3376    n\n",
      "427     n\n",
      "2371    n\n",
      "4946    n\n",
      "6683    n\n",
      "5805    n\n",
      "1560    n\n",
      "3240    n\n",
      "430     n\n",
      "4696    n\n",
      "Name: labels, dtype: object\n"
     ]
    }
   ],
   "source": [
    "### check again\n",
    "print(df_data.iloc[740:750, -1])\n",
    "\n",
    "print(df_data.iloc[740:750, -2])\n",
    "\n",
    "print(df_labels.iloc[740:750, -1])"
   ]
  },
  {
   "cell_type": "markdown",
   "metadata": {},
   "source": [
    "### Save dataset"
   ]
  },
  {
   "cell_type": "code",
   "execution_count": 25,
   "metadata": {},
   "outputs": [],
   "source": [
    "dataset = df_data.values"
   ]
  },
  {
   "cell_type": "code",
   "execution_count": 26,
   "metadata": {},
   "outputs": [
    {
     "data": {
      "text/plain": [
       "(6853, 23)"
      ]
     },
     "execution_count": 26,
     "metadata": {},
     "output_type": "execute_result"
    }
   ],
   "source": [
    "dataset.shape"
   ]
  },
  {
   "cell_type": "code",
   "execution_count": 27,
   "metadata": {},
   "outputs": [],
   "source": [
    "np.savez_compressed(\"../../datasets/thyroid/thyroid.npz\", dataset=dataset)"
   ]
  },
  {
   "cell_type": "markdown",
   "metadata": {},
   "source": [
    "### Produce train and test splits"
   ]
  },
  {
   "cell_type": "code",
   "execution_count": 28,
   "metadata": {},
   "outputs": [],
   "source": [
    "random_state = None"
   ]
  },
  {
   "cell_type": "code",
   "execution_count": 29,
   "metadata": {},
   "outputs": [],
   "source": [
    "from sklearn.model_selection import train_test_split\n",
    "\n",
    "x_train, x_test = train_test_split(dataset, test_size=0.5, random_state=random_state)"
   ]
  },
  {
   "cell_type": "code",
   "execution_count": 30,
   "metadata": {},
   "outputs": [
    {
     "data": {
      "text/plain": [
       "(3426, 23)"
      ]
     },
     "execution_count": 30,
     "metadata": {},
     "output_type": "execute_result"
    }
   ],
   "source": [
    "x_train.shape"
   ]
  },
  {
   "cell_type": "code",
   "execution_count": 31,
   "metadata": {},
   "outputs": [
    {
     "data": {
      "text/plain": [
       "(3427, 23)"
      ]
     },
     "execution_count": 31,
     "metadata": {},
     "output_type": "execute_result"
    }
   ],
   "source": [
    "x_test.shape"
   ]
  },
  {
   "cell_type": "markdown",
   "metadata": {},
   "source": [
    "-  Normal class is anomaly (attack) in this case, because non-attack rows are minority"
   ]
  },
  {
   "cell_type": "code",
   "execution_count": 32,
   "metadata": {},
   "outputs": [],
   "source": [
    "x_train_normal = x_train[np.where(x_train[:,-1] == 1)]   ##last column is the normal column\n",
    "x_train_anomaly = x_train[np.where(x_train[:,-1] == 0)]   "
   ]
  },
  {
   "cell_type": "code",
   "execution_count": 33,
   "metadata": {},
   "outputs": [
    {
     "data": {
      "text/plain": [
       "(3281, 23)"
      ]
     },
     "execution_count": 33,
     "metadata": {},
     "output_type": "execute_result"
    }
   ],
   "source": [
    "x_train_normal.shape"
   ]
  },
  {
   "cell_type": "code",
   "execution_count": 34,
   "metadata": {},
   "outputs": [
    {
     "data": {
      "text/plain": [
       "(145, 23)"
      ]
     },
     "execution_count": 34,
     "metadata": {},
     "output_type": "execute_result"
    }
   ],
   "source": [
    "x_train_anomaly.shape   "
   ]
  },
  {
   "cell_type": "code",
   "execution_count": 35,
   "metadata": {},
   "outputs": [],
   "source": [
    "x_train = x_train_normal"
   ]
  },
  {
   "cell_type": "markdown",
   "metadata": {},
   "source": [
    "- x_train consist of \"normal\" values"
   ]
  },
  {
   "cell_type": "code",
   "execution_count": 36,
   "metadata": {},
   "outputs": [
    {
     "data": {
      "text/plain": [
       "(3281, 23)"
      ]
     },
     "execution_count": 36,
     "metadata": {},
     "output_type": "execute_result"
    }
   ],
   "source": [
    "x_train.shape"
   ]
  },
  {
   "cell_type": "code",
   "execution_count": 37,
   "metadata": {},
   "outputs": [
    {
     "data": {
      "text/plain": [
       "(3427, 23)"
      ]
     },
     "execution_count": 37,
     "metadata": {},
     "output_type": "execute_result"
    }
   ],
   "source": [
    "x_test.shape"
   ]
  },
  {
   "cell_type": "markdown",
   "metadata": {},
   "source": [
    "- Assign arbitrary output as labels"
   ]
  },
  {
   "cell_type": "code",
   "execution_count": 38,
   "metadata": {},
   "outputs": [
    {
     "data": {
      "text/plain": [
       "(3281, 2)"
      ]
     },
     "execution_count": 38,
     "metadata": {},
     "output_type": "execute_result"
    }
   ],
   "source": [
    "y_train = np.zeros((len(x_train),2))\n",
    "y_train[:,0] = 1\n",
    "y_train.shape"
   ]
  },
  {
   "cell_type": "code",
   "execution_count": 39,
   "metadata": {},
   "outputs": [],
   "source": [
    "train_name = \"../../datasets/thyroid/thyroid_train-randomState_\"+str(random_state)+\".npz\"\n",
    "test_name = \"../../datasets/thyroid/thyroid_test-randomState_\"+str(random_state)+\".npz\"\n",
    "\n",
    "np.savez_compressed(train_name, x_train=x_train, y_train=y_train)\n",
    "np.savez_compressed(test_name, x_test=x_test)"
   ]
  }
 ],
 "metadata": {
  "kernelspec": {
   "display_name": "Python 3",
   "language": "python",
   "name": "python3"
  },
  "language_info": {
   "codemirror_mode": {
    "name": "ipython",
    "version": 3
   },
   "file_extension": ".py",
   "mimetype": "text/x-python",
   "name": "python",
   "nbconvert_exporter": "python",
   "pygments_lexer": "ipython3",
   "version": "3.6.4"
  }
 },
 "nbformat": 4,
 "nbformat_minor": 2
}
