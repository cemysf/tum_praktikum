{
 "cells": [
  {
   "cell_type": "markdown",
   "metadata": {},
   "source": [
    "### Dataset creation"
   ]
  },
  {
   "cell_type": "code",
   "execution_count": 170,
   "metadata": {},
   "outputs": [],
   "source": [
    "import pandas as pd\n",
    "import numpy as np\n",
    "from sklearn.utils import shuffle"
   ]
  },
  {
   "cell_type": "markdown",
   "metadata": {},
   "source": [
    "- load data and labels (normal and different attack types)"
   ]
  },
  {
   "cell_type": "code",
   "execution_count": 171,
   "metadata": {},
   "outputs": [],
   "source": [
    "df_data = pd.read_csv(\"../datasets/thyroid/thyroid-labelled.csv\")\n",
    "df_data = shuffle(df_data)\n",
    "df_labels = pd.DataFrame(df_data.iloc[:,-1])   \n",
    "df_data = pd.DataFrame(df_data.iloc[:, :-1]).astype(float) "
   ]
  },
  {
   "cell_type": "markdown",
   "metadata": {},
   "source": [
    "- read column names and types"
   ]
  },
  {
   "cell_type": "code",
   "execution_count": 172,
   "metadata": {},
   "outputs": [],
   "source": [
    "# col_names=[]\n",
    "# col_datatypes=[]\n",
    "\n",
    "# with open(\"datasets/kddcup/kddcup.names\") as file:\n",
    "#     next(file)    ### skip first line\n",
    "#     for line in file:\n",
    "#         name, datatype = line.split(\": \")\n",
    "#         col_names.append(name)\n",
    "#         col_datatypes.append(datatype.replace(\".\\n\",\"\"))\n",
    "        \n",
    "# df_data.columns = col_names\n",
    "df_labels.columns = [\"labels\"]"
   ]
  },
  {
   "cell_type": "code",
   "execution_count": 173,
   "metadata": {
    "scrolled": false
   },
   "outputs": [
    {
     "data": {
      "text/html": [
       "<div>\n",
       "<style scoped>\n",
       "    .dataframe tbody tr th:only-of-type {\n",
       "        vertical-align: middle;\n",
       "    }\n",
       "\n",
       "    .dataframe tbody tr th {\n",
       "        vertical-align: top;\n",
       "    }\n",
       "\n",
       "    .dataframe thead th {\n",
       "        text-align: right;\n",
       "    }\n",
       "</style>\n",
       "<table border=\"1\" class=\"dataframe\">\n",
       "  <thead>\n",
       "    <tr style=\"text-align: right;\">\n",
       "      <th></th>\n",
       "      <th>age</th>\n",
       "      <th>a</th>\n",
       "      <th>b</th>\n",
       "      <th>c</th>\n",
       "      <th>d</th>\n",
       "      <th>e</th>\n",
       "      <th>f</th>\n",
       "      <th>g</th>\n",
       "      <th>h</th>\n",
       "      <th>i</th>\n",
       "      <th>...</th>\n",
       "      <th>k</th>\n",
       "      <th>l</th>\n",
       "      <th>m</th>\n",
       "      <th>n</th>\n",
       "      <th>o</th>\n",
       "      <th>TSH</th>\n",
       "      <th>T3</th>\n",
       "      <th>TT4</th>\n",
       "      <th>T4U</th>\n",
       "      <th>FTI</th>\n",
       "    </tr>\n",
       "  </thead>\n",
       "  <tbody>\n",
       "    <tr>\n",
       "      <th>4904</th>\n",
       "      <td>0.47</td>\n",
       "      <td>1.0</td>\n",
       "      <td>0.0</td>\n",
       "      <td>0.0</td>\n",
       "      <td>0.0</td>\n",
       "      <td>0.0</td>\n",
       "      <td>0.0</td>\n",
       "      <td>0.0</td>\n",
       "      <td>0.0</td>\n",
       "      <td>0.0</td>\n",
       "      <td>...</td>\n",
       "      <td>0.0</td>\n",
       "      <td>0.0</td>\n",
       "      <td>0.0</td>\n",
       "      <td>0.0</td>\n",
       "      <td>0.0</td>\n",
       "      <td>0.00110</td>\n",
       "      <td>0.0230</td>\n",
       "      <td>0.113</td>\n",
       "      <td>0.110</td>\n",
       "      <td>0.103</td>\n",
       "    </tr>\n",
       "    <tr>\n",
       "      <th>1216</th>\n",
       "      <td>0.32</td>\n",
       "      <td>0.0</td>\n",
       "      <td>1.0</td>\n",
       "      <td>0.0</td>\n",
       "      <td>0.0</td>\n",
       "      <td>0.0</td>\n",
       "      <td>1.0</td>\n",
       "      <td>0.0</td>\n",
       "      <td>0.0</td>\n",
       "      <td>0.0</td>\n",
       "      <td>...</td>\n",
       "      <td>0.0</td>\n",
       "      <td>0.0</td>\n",
       "      <td>0.0</td>\n",
       "      <td>0.0</td>\n",
       "      <td>0.0</td>\n",
       "      <td>0.00170</td>\n",
       "      <td>0.0170</td>\n",
       "      <td>0.101</td>\n",
       "      <td>0.080</td>\n",
       "      <td>0.126</td>\n",
       "    </tr>\n",
       "    <tr>\n",
       "      <th>3364</th>\n",
       "      <td>0.69</td>\n",
       "      <td>0.0</td>\n",
       "      <td>0.0</td>\n",
       "      <td>0.0</td>\n",
       "      <td>0.0</td>\n",
       "      <td>0.0</td>\n",
       "      <td>0.0</td>\n",
       "      <td>0.0</td>\n",
       "      <td>0.0</td>\n",
       "      <td>0.0</td>\n",
       "      <td>...</td>\n",
       "      <td>0.0</td>\n",
       "      <td>0.0</td>\n",
       "      <td>0.0</td>\n",
       "      <td>0.0</td>\n",
       "      <td>0.0</td>\n",
       "      <td>0.00041</td>\n",
       "      <td>0.0201</td>\n",
       "      <td>0.117</td>\n",
       "      <td>0.114</td>\n",
       "      <td>0.103</td>\n",
       "    </tr>\n",
       "    <tr>\n",
       "      <th>3286</th>\n",
       "      <td>0.08</td>\n",
       "      <td>0.0</td>\n",
       "      <td>0.0</td>\n",
       "      <td>0.0</td>\n",
       "      <td>0.0</td>\n",
       "      <td>0.0</td>\n",
       "      <td>0.0</td>\n",
       "      <td>0.0</td>\n",
       "      <td>0.0</td>\n",
       "      <td>0.0</td>\n",
       "      <td>...</td>\n",
       "      <td>0.0</td>\n",
       "      <td>0.0</td>\n",
       "      <td>0.0</td>\n",
       "      <td>0.0</td>\n",
       "      <td>0.0</td>\n",
       "      <td>0.00929</td>\n",
       "      <td>0.0240</td>\n",
       "      <td>0.126</td>\n",
       "      <td>0.096</td>\n",
       "      <td>0.131</td>\n",
       "    </tr>\n",
       "    <tr>\n",
       "      <th>1724</th>\n",
       "      <td>0.61</td>\n",
       "      <td>1.0</td>\n",
       "      <td>0.0</td>\n",
       "      <td>0.0</td>\n",
       "      <td>0.0</td>\n",
       "      <td>0.0</td>\n",
       "      <td>0.0</td>\n",
       "      <td>0.0</td>\n",
       "      <td>0.0</td>\n",
       "      <td>0.0</td>\n",
       "      <td>...</td>\n",
       "      <td>0.0</td>\n",
       "      <td>0.0</td>\n",
       "      <td>0.0</td>\n",
       "      <td>0.0</td>\n",
       "      <td>0.0</td>\n",
       "      <td>0.00006</td>\n",
       "      <td>0.0530</td>\n",
       "      <td>0.210</td>\n",
       "      <td>0.087</td>\n",
       "      <td>0.241</td>\n",
       "    </tr>\n",
       "  </tbody>\n",
       "</table>\n",
       "<p>5 rows × 21 columns</p>\n",
       "</div>"
      ],
      "text/plain": [
       "       age    a    b    c    d    e    f    g    h    i  ...      k    l    m  \\\n",
       "4904  0.47  1.0  0.0  0.0  0.0  0.0  0.0  0.0  0.0  0.0  ...    0.0  0.0  0.0   \n",
       "1216  0.32  0.0  1.0  0.0  0.0  0.0  1.0  0.0  0.0  0.0  ...    0.0  0.0  0.0   \n",
       "3364  0.69  0.0  0.0  0.0  0.0  0.0  0.0  0.0  0.0  0.0  ...    0.0  0.0  0.0   \n",
       "3286  0.08  0.0  0.0  0.0  0.0  0.0  0.0  0.0  0.0  0.0  ...    0.0  0.0  0.0   \n",
       "1724  0.61  1.0  0.0  0.0  0.0  0.0  0.0  0.0  0.0  0.0  ...    0.0  0.0  0.0   \n",
       "\n",
       "        n    o      TSH      T3    TT4    T4U    FTI  \n",
       "4904  0.0  0.0  0.00110  0.0230  0.113  0.110  0.103  \n",
       "1216  0.0  0.0  0.00170  0.0170  0.101  0.080  0.126  \n",
       "3364  0.0  0.0  0.00041  0.0201  0.117  0.114  0.103  \n",
       "3286  0.0  0.0  0.00929  0.0240  0.126  0.096  0.131  \n",
       "1724  0.0  0.0  0.00006  0.0530  0.210  0.087  0.241  \n",
       "\n",
       "[5 rows x 21 columns]"
      ]
     },
     "execution_count": 173,
     "metadata": {},
     "output_type": "execute_result"
    }
   ],
   "source": [
    "df_data.head()"
   ]
  },
  {
   "cell_type": "markdown",
   "metadata": {},
   "source": [
    "- check integrity of the data"
   ]
  },
  {
   "cell_type": "code",
   "execution_count": 174,
   "metadata": {},
   "outputs": [
    {
     "name": "stdout",
     "output_type": "stream",
     "text": [
      "False\n",
      "False\n"
     ]
    }
   ],
   "source": [
    "print(df_data.isnull().values.any())\n",
    "\n",
    "print(df_data.isna().values.any())"
   ]
  },
  {
   "cell_type": "markdown",
   "metadata": {},
   "source": [
    "### Enumerate labels "
   ]
  },
  {
   "cell_type": "markdown",
   "metadata": {},
   "source": [
    "- ### normal samples are named as \"anomaly\" since they are minority (stated in paper)"
   ]
  },
  {
   "cell_type": "code",
   "execution_count": 175,
   "metadata": {},
   "outputs": [
    {
     "name": "stdout",
     "output_type": "stream",
     "text": [
      "<class 'numpy.float64'>\n"
     ]
    }
   ],
   "source": [
    "# Considering n labelled data as normal and others as anomaly in thyroid dataset. assigning labels accordingly.\n",
    "# Added by Jyotirmay.\n",
    "# 1 = normal, 0 = anomaly\n",
    "df_data[\"label\"] = np.where(df_labels[\"labels\"].str.contains(\"n\"), 'normal', 'anomaly')\n",
    "print(type(df_data.TSH[0]))"
   ]
  },
  {
   "cell_type": "code",
   "execution_count": 176,
   "metadata": {},
   "outputs": [
    {
     "name": "stdout",
     "output_type": "stream",
     "text": [
      "number of normal: 6603\n",
      "number of anomaly: 250\n"
     ]
    }
   ],
   "source": [
    "### number of normal and abnormal\n",
    "print(\"number of normal:\", len(np.where(df_data[\"label\"] == 'normal')[0]))\n",
    "print(\"number of anomaly:\", len(np.where(df_data[\"label\"] == 'anomaly')[0]))"
   ]
  },
  {
   "cell_type": "code",
   "execution_count": 177,
   "metadata": {},
   "outputs": [
    {
     "data": {
      "text/plain": [
       "(array([   0,    1,    2, ..., 6850, 6851, 6852]),)"
      ]
     },
     "execution_count": 177,
     "metadata": {},
     "output_type": "execute_result"
    }
   ],
   "source": [
    "## check in which location data is abnormal\n",
    "\n",
    "np.where(df_data[\"label\"] == 'normal')"
   ]
  },
  {
   "cell_type": "code",
   "execution_count": 178,
   "metadata": {},
   "outputs": [
    {
     "name": "stdout",
     "output_type": "stream",
     "text": [
      "5474    normal\n",
      "4216    normal\n",
      "2610    normal\n",
      "5516    normal\n",
      "1915    normal\n",
      "435     normal\n",
      "1095    normal\n",
      "4879    normal\n",
      "728     normal\n",
      "5289    normal\n",
      "Name: label, dtype: object\n",
      "5474    n\n",
      "4216    n\n",
      "2610    n\n",
      "5516    n\n",
      "1915    n\n",
      "435     n\n",
      "1095    n\n",
      "4879    n\n",
      "728     n\n",
      "5289    n\n",
      "Name: labels, dtype: object\n"
     ]
    }
   ],
   "source": [
    "### looks like working\n",
    "\n",
    "print(df_data.iloc[740:750, -1])\n",
    "print(df_labels.iloc[740:750, -1])\n",
    "# df_data.head()"
   ]
  },
  {
   "cell_type": "code",
   "execution_count": 179,
   "metadata": {},
   "outputs": [],
   "source": [
    "### for each object column in data\n",
    "\n",
    "cols_toOneHot = df_data.select_dtypes(include='object').columns.tolist()\n",
    "\n",
    "cols_all = df_data.columns.tolist()\n",
    "cols_toNormalize = list(set(cols_all) - set(cols_toOneHot))"
   ]
  },
  {
   "cell_type": "code",
   "execution_count": 180,
   "metadata": {},
   "outputs": [
    {
     "name": "stdout",
     "output_type": "stream",
     "text": [
      "columns to normalize:\n",
      "['e', 'k', 'm', 'c', 'a', 'n', 'd', 'l', 'FTI', 'o', 'T3', 'g', 'j', 'h', 'i', 'b', 'T4U', 'TSH', 'f', 'TT4', 'age']\n",
      "\n",
      "columns to one-hot:\n",
      "['label']\n",
      "\n"
     ]
    }
   ],
   "source": [
    "print(\"columns to normalize:\\n%s\\n\" % cols_toNormalize)\n",
    "print(\"columns to one-hot:\\n%s\\n\" % cols_toOneHot)"
   ]
  },
  {
   "cell_type": "code",
   "execution_count": 181,
   "metadata": {
    "scrolled": true
   },
   "outputs": [
    {
     "data": {
      "text/plain": [
       "21"
      ]
     },
     "execution_count": 181,
     "metadata": {},
     "output_type": "execute_result"
    }
   ],
   "source": [
    "len(cols_toNormalize)"
   ]
  },
  {
   "cell_type": "markdown",
   "metadata": {},
   "source": [
    "### Dataset preprocessing in numerical columns"
   ]
  },
  {
   "cell_type": "code",
   "execution_count": 182,
   "metadata": {},
   "outputs": [
    {
     "name": "stdout",
     "output_type": "stream",
     "text": [
      "float64\n"
     ]
    }
   ],
   "source": [
    "print(df_data.TSH.dtype)"
   ]
  },
  {
   "cell_type": "code",
   "execution_count": 183,
   "metadata": {},
   "outputs": [],
   "source": [
    "def checkStats(df_data):\n",
    "    i=0\n",
    "    for col in df_data.columns.tolist():\n",
    "            \n",
    "        if col in cols_toOneHot:    ### skip if column is not numerical  ### TODO: check column type??\n",
    "            i += 1\n",
    "            continue\n",
    "\n",
    "        min_ = df_data[col].values.min()\n",
    "        max_ = df_data[col].values.max()\n",
    "        std_ = df_data[col].values.std()\n",
    "\n",
    "        print(\"column:%d min:%f max:%f std:%f\" % (i, min_, max_, std_))\n",
    "        i += 1"
   ]
  },
  {
   "cell_type": "code",
   "execution_count": 184,
   "metadata": {},
   "outputs": [
    {
     "name": "stdout",
     "output_type": "stream",
     "text": [
      "column:0 min:0.010000 max:0.970000 std:0.189447\n",
      "column:1 min:0.000000 max:1.000000 std:0.461501\n",
      "column:2 min:0.000000 max:1.000000 std:0.340448\n",
      "column:3 min:0.000000 max:1.000000 std:0.123975\n",
      "column:4 min:0.000000 max:1.000000 std:0.113844\n",
      "column:5 min:0.000000 max:1.000000 std:0.192456\n",
      "column:6 min:0.000000 max:1.000000 std:0.106077\n",
      "column:7 min:0.000000 max:1.000000 std:0.118127\n",
      "column:8 min:0.000000 max:1.000000 std:0.128450\n",
      "column:9 min:0.000000 max:1.000000 std:0.242769\n",
      "column:10 min:0.000000 max:1.000000 std:0.254232\n",
      "column:11 min:0.000000 max:1.000000 std:0.113218\n",
      "column:12 min:0.000000 max:1.000000 std:0.092386\n",
      "column:13 min:0.000000 max:1.000000 std:0.157747\n",
      "column:14 min:0.000000 max:1.000000 std:0.012079\n",
      "column:15 min:0.000000 max:1.000000 std:0.217447\n",
      "column:16 min:0.000010 max:0.500000 std:0.016379\n",
      "column:17 min:0.000500 max:0.180000 std:0.007451\n",
      "column:18 min:0.002500 max:0.600000 std:0.035017\n",
      "column:19 min:0.017000 max:0.233000 std:0.019091\n",
      "column:20 min:0.002400 max:0.642000 std:0.034971\n"
     ]
    }
   ],
   "source": [
    "## before normalization\n",
    "df_data = df_data\n",
    "checkStats(df_data)"
   ]
  },
  {
   "cell_type": "code",
   "execution_count": 185,
   "metadata": {},
   "outputs": [
    {
     "data": {
      "text/plain": [
       "\"\\n### mean substr and std dev div\\nfor col in cols_toNormalize:\\n    mean = df_data[col].mean()\\n    std = df_data[col].std()\\n    \\n    if mean == 0 or std == 0:     ### columns 'num_outbound_cmds', 'is_host_login' has zero mean and std dev!!!\\n        continue\\n    \\n    df_data[col] = (df_data[col] - mean) / std\\n\""
      ]
     },
     "execution_count": 185,
     "metadata": {},
     "output_type": "execute_result"
    }
   ],
   "source": [
    "### normalization\n",
    "\n",
    "### min substr and max-min div\n",
    "\n",
    "def normalise(df_data, cols_toNormalize):\n",
    "    for col in cols_toNormalize:\n",
    "        if len(col) == 1:\n",
    "            print(col)\n",
    "            continue\n",
    "            \n",
    "        min = df_data[col].min()\n",
    "        max = df_data[col].max()\n",
    "\n",
    "        if max - min == 0:\n",
    "            continue\n",
    "\n",
    "        df_data[col] = (df_data[col] - min) / (max - min)\n",
    "    \n",
    "    return df_data\n",
    "\n",
    "\n",
    "\n",
    "\"\"\"\n",
    "### mean substr and std dev div\n",
    "for col in cols_toNormalize:\n",
    "    mean = df_data[col].mean()\n",
    "    std = df_data[col].std()\n",
    "    \n",
    "    if mean == 0 or std == 0:     ### columns 'num_outbound_cmds', 'is_host_login' has zero mean and std dev!!!\n",
    "        continue\n",
    "    \n",
    "    df_data[col] = (df_data[col] - mean) / std\n",
    "\"\"\""
   ]
  },
  {
   "cell_type": "code",
   "execution_count": 186,
   "metadata": {
    "scrolled": true
   },
   "outputs": [
    {
     "name": "stdout",
     "output_type": "stream",
     "text": [
      "e\n",
      "k\n",
      "m\n",
      "c\n",
      "a\n",
      "n\n",
      "d\n",
      "l\n",
      "o\n",
      "g\n",
      "j\n",
      "h\n",
      "i\n",
      "b\n",
      "f\n",
      "column:0 min:0.000000 max:1.000000 std:0.197341\n",
      "column:1 min:0.000000 max:1.000000 std:0.461501\n",
      "column:2 min:0.000000 max:1.000000 std:0.340448\n",
      "column:3 min:0.000000 max:1.000000 std:0.123975\n",
      "column:4 min:0.000000 max:1.000000 std:0.113844\n",
      "column:5 min:0.000000 max:1.000000 std:0.192456\n",
      "column:6 min:0.000000 max:1.000000 std:0.106077\n",
      "column:7 min:0.000000 max:1.000000 std:0.118127\n",
      "column:8 min:0.000000 max:1.000000 std:0.128450\n",
      "column:9 min:0.000000 max:1.000000 std:0.242769\n",
      "column:10 min:0.000000 max:1.000000 std:0.254232\n",
      "column:11 min:0.000000 max:1.000000 std:0.113218\n",
      "column:12 min:0.000000 max:1.000000 std:0.092386\n",
      "column:13 min:0.000000 max:1.000000 std:0.157747\n",
      "column:14 min:0.000000 max:1.000000 std:0.012079\n",
      "column:15 min:0.000000 max:1.000000 std:0.217447\n",
      "column:16 min:0.000000 max:1.000000 std:0.032758\n",
      "column:17 min:0.000000 max:1.000000 std:0.041511\n",
      "column:18 min:0.000000 max:1.000000 std:0.058607\n",
      "column:19 min:0.000000 max:1.000000 std:0.088386\n",
      "column:20 min:0.000000 max:1.000000 std:0.054676\n",
      "           age    a    b    c    d    e    f    g    h    i   ...       l  \\\n",
      "4904  0.479167  1.0  0.0  0.0  0.0  0.0  0.0  0.0  0.0  0.0   ...     0.0   \n",
      "1216  0.322917  0.0  1.0  0.0  0.0  0.0  1.0  0.0  0.0  0.0   ...     0.0   \n",
      "3364  0.708333  0.0  0.0  0.0  0.0  0.0  0.0  0.0  0.0  0.0   ...     0.0   \n",
      "3286  0.072917  0.0  0.0  0.0  0.0  0.0  0.0  0.0  0.0  0.0   ...     0.0   \n",
      "1724  0.625000  1.0  0.0  0.0  0.0  0.0  0.0  0.0  0.0  0.0   ...     0.0   \n",
      "721   0.322917  0.0  0.0  0.0  0.0  1.0  0.0  0.0  0.0  0.0   ...     0.0   \n",
      "6397  0.656250  0.0  1.0  0.0  0.0  0.0  0.0  0.0  0.0  1.0   ...     0.0   \n",
      "2424  0.375000  0.0  0.0  0.0  0.0  0.0  0.0  0.0  0.0  0.0   ...     0.0   \n",
      "6512  0.531250  1.0  0.0  0.0  0.0  1.0  0.0  0.0  0.0  0.0   ...     0.0   \n",
      "2069  0.739583  0.0  1.0  0.0  0.0  0.0  0.0  0.0  0.0  0.0   ...     0.0   \n",
      "4010  0.572917  0.0  1.0  0.0  0.0  0.0  0.0  0.0  0.0  0.0   ...     0.0   \n",
      "1103  0.583333  0.0  0.0  0.0  0.0  0.0  0.0  0.0  0.0  0.0   ...     0.0   \n",
      "5663  0.718750  0.0  0.0  0.0  0.0  0.0  0.0  0.0  0.0  0.0   ...     0.0   \n",
      "6364  0.208333  1.0  0.0  0.0  0.0  0.0  0.0  0.0  0.0  0.0   ...     0.0   \n",
      "3216  0.427083  0.0  0.0  0.0  0.0  0.0  0.0  0.0  0.0  0.0   ...     0.0   \n",
      "2507  0.833333  0.0  0.0  0.0  0.0  1.0  0.0  0.0  0.0  0.0   ...     0.0   \n",
      "2246  0.708333  0.0  0.0  0.0  0.0  0.0  0.0  0.0  0.0  0.0   ...     0.0   \n",
      "154   0.354167  0.0  0.0  0.0  0.0  0.0  0.0  0.0  0.0  1.0   ...     0.0   \n",
      "1421  0.677083  0.0  0.0  0.0  0.0  0.0  0.0  0.0  0.0  0.0   ...     0.0   \n",
      "5965  0.343750  1.0  0.0  0.0  0.0  0.0  0.0  0.0  0.0  0.0   ...     0.0   \n",
      "2602  0.427083  0.0  0.0  0.0  0.0  0.0  0.0  0.0  0.0  0.0   ...     0.0   \n",
      "5321  0.562500  0.0  0.0  0.0  0.0  0.0  0.0  0.0  0.0  0.0   ...     0.0   \n",
      "4623  0.833333  0.0  0.0  0.0  0.0  0.0  0.0  0.0  0.0  0.0   ...     0.0   \n",
      "1106  0.125000  0.0  0.0  0.0  0.0  0.0  0.0  0.0  0.0  1.0   ...     0.0   \n",
      "3111  0.625000  0.0  0.0  0.0  0.0  0.0  0.0  0.0  0.0  1.0   ...     0.0   \n",
      "599   0.343750  0.0  1.0  0.0  0.0  0.0  0.0  0.0  0.0  0.0   ...     0.0   \n",
      "2572  0.593750  0.0  0.0  0.0  0.0  0.0  0.0  0.0  0.0  0.0   ...     0.0   \n",
      "6468  0.322917  1.0  0.0  0.0  0.0  0.0  0.0  0.0  0.0  0.0   ...     0.0   \n",
      "5310  0.854167  0.0  1.0  1.0  0.0  0.0  0.0  0.0  0.0  0.0   ...     0.0   \n",
      "3058  0.500000  0.0  0.0  0.0  0.0  0.0  0.0  0.0  1.0  0.0   ...     0.0   \n",
      "...        ...  ...  ...  ...  ...  ...  ...  ...  ...  ...   ...     ...   \n",
      "3050  0.729167  1.0  0.0  0.0  0.0  0.0  0.0  0.0  0.0  0.0   ...     0.0   \n",
      "3942  0.166667  0.0  0.0  0.0  0.0  0.0  0.0  0.0  0.0  0.0   ...     0.0   \n",
      "3533  0.645833  1.0  0.0  0.0  0.0  0.0  0.0  0.0  0.0  1.0   ...     0.0   \n",
      "3541  0.427083  0.0  0.0  0.0  0.0  0.0  0.0  0.0  0.0  1.0   ...     0.0   \n",
      "2979  0.281250  1.0  0.0  0.0  0.0  0.0  0.0  0.0  0.0  1.0   ...     0.0   \n",
      "5586  0.885417  0.0  0.0  0.0  0.0  0.0  0.0  0.0  0.0  0.0   ...     0.0   \n",
      "410   0.614583  1.0  0.0  0.0  0.0  1.0  0.0  0.0  0.0  0.0   ...     0.0   \n",
      "6668  0.343750  1.0  0.0  0.0  0.0  0.0  0.0  0.0  0.0  0.0   ...     0.0   \n",
      "2698  0.572917  0.0  0.0  0.0  0.0  0.0  0.0  0.0  0.0  0.0   ...     0.0   \n",
      "5346  0.739583  0.0  0.0  0.0  0.0  0.0  0.0  0.0  0.0  0.0   ...     0.0   \n",
      "1053  0.750000  0.0  0.0  0.0  0.0  0.0  0.0  0.0  0.0  0.0   ...     0.0   \n",
      "6172  0.239583  1.0  0.0  0.0  0.0  0.0  0.0  0.0  0.0  0.0   ...     0.0   \n",
      "6285  0.739583  0.0  0.0  0.0  0.0  0.0  0.0  0.0  0.0  0.0   ...     0.0   \n",
      "6370  0.812500  0.0  0.0  0.0  0.0  0.0  0.0  0.0  0.0  0.0   ...     0.0   \n",
      "3469  0.500000  0.0  0.0  0.0  0.0  0.0  0.0  0.0  0.0  0.0   ...     0.0   \n",
      "3908  0.260417  0.0  0.0  0.0  0.0  0.0  0.0  0.0  0.0  1.0   ...     0.0   \n",
      "589   0.187500  0.0  0.0  0.0  0.0  0.0  0.0  0.0  0.0  0.0   ...     0.0   \n",
      "129   0.833333  0.0  0.0  0.0  0.0  0.0  0.0  0.0  0.0  0.0   ...     0.0   \n",
      "2165  0.781250  1.0  0.0  0.0  0.0  0.0  0.0  0.0  0.0  0.0   ...     0.0   \n",
      "3298  0.520833  0.0  0.0  0.0  0.0  0.0  0.0  0.0  0.0  0.0   ...     1.0   \n",
      "8     0.520833  0.0  0.0  0.0  0.0  0.0  0.0  0.0  0.0  0.0   ...     0.0   \n",
      "5311  0.854167  0.0  0.0  0.0  0.0  0.0  0.0  0.0  0.0  0.0   ...     0.0   \n",
      "5781  0.406250  0.0  1.0  0.0  0.0  0.0  0.0  0.0  1.0  0.0   ...     0.0   \n",
      "689   0.510417  0.0  1.0  0.0  0.0  0.0  0.0  0.0  0.0  1.0   ...     0.0   \n",
      "723   0.635417  1.0  0.0  0.0  0.0  0.0  0.0  0.0  0.0  0.0   ...     0.0   \n",
      "966   0.604167  0.0  0.0  0.0  0.0  0.0  0.0  0.0  0.0  0.0   ...     0.0   \n",
      "2113  0.718750  1.0  0.0  0.0  0.0  0.0  0.0  0.0  0.0  0.0   ...     0.0   \n",
      "3739  0.593750  0.0  0.0  0.0  0.0  0.0  0.0  0.0  0.0  0.0   ...     0.0   \n",
      "416   0.572917  1.0  0.0  0.0  0.0  0.0  0.0  0.0  0.0  0.0   ...     0.0   \n",
      "634   0.260417  0.0  1.0  0.0  0.0  0.0  0.0  0.0  0.0  1.0   ...     0.0   \n",
      "\n",
      "        m    n    o       TSH        T3       TT4       T4U       FTI    label  \n",
      "4904  0.0  0.0  0.0  0.002180  0.125348  0.184937  0.430556  0.157286   normal  \n",
      "1216  0.0  0.0  0.0  0.003380  0.091922  0.164854  0.291667  0.193246   normal  \n",
      "3364  0.0  0.0  0.0  0.000800  0.109192  0.191632  0.449074  0.157286   normal  \n",
      "3286  0.0  0.0  0.0  0.018560  0.130919  0.206695  0.365741  0.201063   normal  \n",
      "1724  0.0  0.0  0.0  0.000100  0.292479  0.347280  0.324074  0.373046   normal  \n",
      "721   0.0  0.0  0.0  0.001500  0.113092  0.133054  0.319444  0.144778   normal  \n",
      "6397  0.0  0.0  0.0  0.002380  0.111978  0.144770  0.361111  0.143215   normal  \n",
      "2424  0.0  0.0  0.0  0.000940  0.109192  0.062762  0.162037  0.116635   normal  \n",
      "6512  0.0  0.0  0.0  0.000060  0.103064  0.139749  0.277778  0.171357   normal  \n",
      "2069  0.0  0.0  0.0  0.002580  0.041783  0.176569  0.300926  0.202627   normal  \n",
      "4010  0.0  0.0  0.0  0.000780  0.125348  0.196653  0.398148  0.179174   normal  \n",
      "1103  0.0  0.0  1.0  0.000120  0.109192  0.233473  0.324074  0.251094   normal  \n",
      "5663  0.0  0.0  0.0  0.003980  0.136490  0.166527  0.347222  0.169794   normal  \n",
      "6364  0.0  0.0  0.0  0.002780  0.086351  0.154812  0.351852  0.155722   normal  \n",
      "3216  0.0  0.0  0.0  0.004620  0.109192  0.186611  0.337963  0.194809   normal  \n",
      "2507  0.0  0.0  0.0  0.002380  0.125348  0.144770  0.449074  0.118199   normal  \n",
      "2246  0.0  0.0  0.0  0.000200  0.109192  0.231799  0.337963  0.241714   normal  \n",
      "154   0.0  0.0  0.0  0.025981  0.164345  0.231799  0.509259  0.169794  anomaly  \n",
      "1421  0.0  0.0  0.0  0.004980  0.002786  0.057741  0.162037  0.107255   normal  \n",
      "5965  0.0  0.0  0.0  0.003380  0.103064  0.169874  0.444444  0.140088   normal  \n",
      "2602  0.0  0.0  0.0  0.007580  0.125348  0.208368  0.370370  0.201063   normal  \n",
      "5321  0.0  0.0  0.0  0.004140  0.119777  0.136402  0.314815  0.151032   normal  \n",
      "4623  0.0  0.0  0.0  0.003780  0.080780  0.114644  0.282407  0.138524   normal  \n",
      "1106  0.0  0.0  0.0  0.000240  0.109192  0.228452  0.333333  0.240150   normal  \n",
      "3111  0.0  0.0  0.0  0.004380  0.109192  0.153138  0.319444  0.166667   normal  \n",
      "599   0.0  0.0  0.0  0.011980  0.109192  0.148117  0.351852  0.149468   normal  \n",
      "2572  0.0  0.0  0.0  0.001020  0.109192  0.189958  0.375000  0.180738   normal  \n",
      "6468  0.0  0.0  0.0  0.000000  0.125348  0.241841  0.268519  0.305816   normal  \n",
      "5310  0.0  0.0  0.0  0.004980  0.080780  0.148117  0.296296  0.172921   normal  \n",
      "3058  0.0  0.0  0.0  0.000780  0.109192  0.243515  0.375000  0.232333   normal  \n",
      "...   ...  ...  ...       ...       ...       ...       ...       ...      ...  \n",
      "3050  0.0  0.0  0.0  0.001640  0.109192  0.169874  0.324074  0.183865   normal  \n",
      "3942  0.0  0.0  0.0  0.001780  0.075209  0.181590  0.393519  0.166667   normal  \n",
      "3533  0.0  0.0  0.0  0.000380  0.047354  0.179916  0.300926  0.205754   normal  \n",
      "3541  0.0  0.0  0.0  0.004580  0.058496  0.151464  0.259259  0.194809   normal  \n",
      "2979  0.0  0.0  0.0  0.002580  0.109192  0.121339  0.236111  0.168230   normal  \n",
      "5586  0.0  0.0  0.0  0.003980  0.111978  0.215063  0.388889  0.201063   normal  \n",
      "410   0.0  0.0  0.0  0.002380  0.086351  0.163180  0.319444  0.179174   normal  \n",
      "6668  0.0  0.0  0.0  0.001740  0.164345  0.111297  0.231481  0.155722   normal  \n",
      "2698  0.0  0.0  0.0  0.000040  0.147632  0.350628  0.453704  0.283927   normal  \n",
      "5346  0.0  0.0  0.0  0.004580  0.064067  0.124686  0.314815  0.138524   normal  \n",
      "1053  0.0  0.0  0.0  0.004580  0.086351  0.124686  0.402778  0.113508   normal  \n",
      "6172  0.0  0.0  0.0  0.003580  0.113092  0.148117  0.351852  0.149468   normal  \n",
      "6285  0.0  0.0  0.0  0.004580  0.041783  0.146444  0.291667  0.171357   normal  \n",
      "6370  0.0  0.0  0.0  0.001660  0.041783  0.153138  0.319444  0.166667   normal  \n",
      "3469  0.0  0.0  0.0  0.000180  0.069638  0.133054  0.384259  0.124453   normal  \n",
      "3908  0.0  0.0  0.0  0.004380  0.158774  0.138075  0.421296  0.119762   normal  \n",
      "589   0.0  0.0  0.0  0.002380  0.153203  0.183264  0.439815  0.151032   normal  \n",
      "129   0.0  0.0  0.0  0.077982  0.036212  0.161506  0.333333  0.169794  anomaly  \n",
      "2165  0.0  0.0  0.0  0.005380  0.097493  0.161506  0.291667  0.190119   normal  \n",
      "3298  0.0  0.0  0.0  0.005380  0.108635  0.188285  0.337963  0.196373   normal  \n",
      "8     0.0  0.0  0.0  0.261985  0.013928  0.009858  0.388889  0.009209  anomaly  \n",
      "5311  0.0  0.0  0.0  0.002780  0.111978  0.154812  0.319444  0.169794   normal  \n",
      "5781  0.0  0.0  0.0  0.006180  0.119777  0.168201  0.430556  0.141651   normal  \n",
      "689   0.0  0.0  0.0  0.000620  0.080780  0.226778  0.402778  0.201063   normal  \n",
      "723   0.0  0.0  0.0  0.003180  0.109192  0.191632  0.416667  0.166667   normal  \n",
      "966   0.0  0.0  0.0  0.005380  0.109192  0.243515  0.425926  0.208881   normal  \n",
      "2113  1.0  0.0  0.0  0.004780  0.086351  0.238494  0.370370  0.229206   normal  \n",
      "3739  0.0  0.0  0.0  0.000180  0.108635  0.164854  0.476852  0.127580   normal  \n",
      "416   0.0  0.0  0.0  0.004380  0.069638  0.158159  0.314815  0.176048   normal  \n",
      "634   0.0  0.0  0.0  0.004620  0.109192  0.185423  0.365741  0.180363   normal  \n",
      "\n",
      "[6853 rows x 22 columns]\n"
     ]
    }
   ],
   "source": [
    "# ### Skipping normalisation for thyroid dataset. Added by Jyotirmay\n",
    "df_data=normalise(df_data, cols_toNormalize)\n",
    "checkStats(df_data)\n",
    "print(df_data)"
   ]
  },
  {
   "cell_type": "markdown",
   "metadata": {},
   "source": [
    "### One hot encoding of required columns"
   ]
  },
  {
   "cell_type": "code",
   "execution_count": 187,
   "metadata": {},
   "outputs": [],
   "source": [
    "### obtain one hot encoding\n",
    "\n",
    "df_data = pd.get_dummies(df_data, columns=cols_toOneHot)"
   ]
  },
  {
   "cell_type": "markdown",
   "metadata": {},
   "source": [
    "- Check the resulting dataset"
   ]
  },
  {
   "cell_type": "code",
   "execution_count": 188,
   "metadata": {
    "scrolled": true
   },
   "outputs": [
    {
     "data": {
      "text/html": [
       "<div>\n",
       "<style scoped>\n",
       "    .dataframe tbody tr th:only-of-type {\n",
       "        vertical-align: middle;\n",
       "    }\n",
       "\n",
       "    .dataframe tbody tr th {\n",
       "        vertical-align: top;\n",
       "    }\n",
       "\n",
       "    .dataframe thead th {\n",
       "        text-align: right;\n",
       "    }\n",
       "</style>\n",
       "<table border=\"1\" class=\"dataframe\">\n",
       "  <thead>\n",
       "    <tr style=\"text-align: right;\">\n",
       "      <th></th>\n",
       "      <th>age</th>\n",
       "      <th>a</th>\n",
       "      <th>b</th>\n",
       "      <th>c</th>\n",
       "      <th>d</th>\n",
       "      <th>e</th>\n",
       "      <th>f</th>\n",
       "      <th>g</th>\n",
       "      <th>h</th>\n",
       "      <th>i</th>\n",
       "      <th>...</th>\n",
       "      <th>m</th>\n",
       "      <th>n</th>\n",
       "      <th>o</th>\n",
       "      <th>TSH</th>\n",
       "      <th>T3</th>\n",
       "      <th>TT4</th>\n",
       "      <th>T4U</th>\n",
       "      <th>FTI</th>\n",
       "      <th>label_anomaly</th>\n",
       "      <th>label_normal</th>\n",
       "    </tr>\n",
       "  </thead>\n",
       "  <tbody>\n",
       "    <tr>\n",
       "      <th>4904</th>\n",
       "      <td>0.479167</td>\n",
       "      <td>1.0</td>\n",
       "      <td>0.0</td>\n",
       "      <td>0.0</td>\n",
       "      <td>0.0</td>\n",
       "      <td>0.0</td>\n",
       "      <td>0.0</td>\n",
       "      <td>0.0</td>\n",
       "      <td>0.0</td>\n",
       "      <td>0.0</td>\n",
       "      <td>...</td>\n",
       "      <td>0.0</td>\n",
       "      <td>0.0</td>\n",
       "      <td>0.0</td>\n",
       "      <td>0.00218</td>\n",
       "      <td>0.125348</td>\n",
       "      <td>0.184937</td>\n",
       "      <td>0.430556</td>\n",
       "      <td>0.157286</td>\n",
       "      <td>0</td>\n",
       "      <td>1</td>\n",
       "    </tr>\n",
       "    <tr>\n",
       "      <th>1216</th>\n",
       "      <td>0.322917</td>\n",
       "      <td>0.0</td>\n",
       "      <td>1.0</td>\n",
       "      <td>0.0</td>\n",
       "      <td>0.0</td>\n",
       "      <td>0.0</td>\n",
       "      <td>1.0</td>\n",
       "      <td>0.0</td>\n",
       "      <td>0.0</td>\n",
       "      <td>0.0</td>\n",
       "      <td>...</td>\n",
       "      <td>0.0</td>\n",
       "      <td>0.0</td>\n",
       "      <td>0.0</td>\n",
       "      <td>0.00338</td>\n",
       "      <td>0.091922</td>\n",
       "      <td>0.164854</td>\n",
       "      <td>0.291667</td>\n",
       "      <td>0.193246</td>\n",
       "      <td>0</td>\n",
       "      <td>1</td>\n",
       "    </tr>\n",
       "    <tr>\n",
       "      <th>3364</th>\n",
       "      <td>0.708333</td>\n",
       "      <td>0.0</td>\n",
       "      <td>0.0</td>\n",
       "      <td>0.0</td>\n",
       "      <td>0.0</td>\n",
       "      <td>0.0</td>\n",
       "      <td>0.0</td>\n",
       "      <td>0.0</td>\n",
       "      <td>0.0</td>\n",
       "      <td>0.0</td>\n",
       "      <td>...</td>\n",
       "      <td>0.0</td>\n",
       "      <td>0.0</td>\n",
       "      <td>0.0</td>\n",
       "      <td>0.00080</td>\n",
       "      <td>0.109192</td>\n",
       "      <td>0.191632</td>\n",
       "      <td>0.449074</td>\n",
       "      <td>0.157286</td>\n",
       "      <td>0</td>\n",
       "      <td>1</td>\n",
       "    </tr>\n",
       "    <tr>\n",
       "      <th>3286</th>\n",
       "      <td>0.072917</td>\n",
       "      <td>0.0</td>\n",
       "      <td>0.0</td>\n",
       "      <td>0.0</td>\n",
       "      <td>0.0</td>\n",
       "      <td>0.0</td>\n",
       "      <td>0.0</td>\n",
       "      <td>0.0</td>\n",
       "      <td>0.0</td>\n",
       "      <td>0.0</td>\n",
       "      <td>...</td>\n",
       "      <td>0.0</td>\n",
       "      <td>0.0</td>\n",
       "      <td>0.0</td>\n",
       "      <td>0.01856</td>\n",
       "      <td>0.130919</td>\n",
       "      <td>0.206695</td>\n",
       "      <td>0.365741</td>\n",
       "      <td>0.201063</td>\n",
       "      <td>0</td>\n",
       "      <td>1</td>\n",
       "    </tr>\n",
       "    <tr>\n",
       "      <th>1724</th>\n",
       "      <td>0.625000</td>\n",
       "      <td>1.0</td>\n",
       "      <td>0.0</td>\n",
       "      <td>0.0</td>\n",
       "      <td>0.0</td>\n",
       "      <td>0.0</td>\n",
       "      <td>0.0</td>\n",
       "      <td>0.0</td>\n",
       "      <td>0.0</td>\n",
       "      <td>0.0</td>\n",
       "      <td>...</td>\n",
       "      <td>0.0</td>\n",
       "      <td>0.0</td>\n",
       "      <td>0.0</td>\n",
       "      <td>0.00010</td>\n",
       "      <td>0.292479</td>\n",
       "      <td>0.347280</td>\n",
       "      <td>0.324074</td>\n",
       "      <td>0.373046</td>\n",
       "      <td>0</td>\n",
       "      <td>1</td>\n",
       "    </tr>\n",
       "  </tbody>\n",
       "</table>\n",
       "<p>5 rows × 23 columns</p>\n",
       "</div>"
      ],
      "text/plain": [
       "           age    a    b    c    d    e    f    g    h    i      ...       \\\n",
       "4904  0.479167  1.0  0.0  0.0  0.0  0.0  0.0  0.0  0.0  0.0      ...        \n",
       "1216  0.322917  0.0  1.0  0.0  0.0  0.0  1.0  0.0  0.0  0.0      ...        \n",
       "3364  0.708333  0.0  0.0  0.0  0.0  0.0  0.0  0.0  0.0  0.0      ...        \n",
       "3286  0.072917  0.0  0.0  0.0  0.0  0.0  0.0  0.0  0.0  0.0      ...        \n",
       "1724  0.625000  1.0  0.0  0.0  0.0  0.0  0.0  0.0  0.0  0.0      ...        \n",
       "\n",
       "        m    n    o      TSH        T3       TT4       T4U       FTI  \\\n",
       "4904  0.0  0.0  0.0  0.00218  0.125348  0.184937  0.430556  0.157286   \n",
       "1216  0.0  0.0  0.0  0.00338  0.091922  0.164854  0.291667  0.193246   \n",
       "3364  0.0  0.0  0.0  0.00080  0.109192  0.191632  0.449074  0.157286   \n",
       "3286  0.0  0.0  0.0  0.01856  0.130919  0.206695  0.365741  0.201063   \n",
       "1724  0.0  0.0  0.0  0.00010  0.292479  0.347280  0.324074  0.373046   \n",
       "\n",
       "      label_anomaly  label_normal  \n",
       "4904              0             1  \n",
       "1216              0             1  \n",
       "3364              0             1  \n",
       "3286              0             1  \n",
       "1724              0             1  \n",
       "\n",
       "[5 rows x 23 columns]"
      ]
     },
     "execution_count": 188,
     "metadata": {},
     "output_type": "execute_result"
    }
   ],
   "source": [
    "df_data.head()"
   ]
  },
  {
   "cell_type": "code",
   "execution_count": 189,
   "metadata": {},
   "outputs": [
    {
     "data": {
      "text/plain": [
       "(6853, 23)"
      ]
     },
     "execution_count": 189,
     "metadata": {},
     "output_type": "execute_result"
    }
   ],
   "source": [
    "### shape is correct\n",
    "\n",
    "df_data.shape"
   ]
  },
  {
   "cell_type": "code",
   "execution_count": 190,
   "metadata": {
    "scrolled": true
   },
   "outputs": [
    {
     "data": {
      "text/html": [
       "<div>\n",
       "<style scoped>\n",
       "    .dataframe tbody tr th:only-of-type {\n",
       "        vertical-align: middle;\n",
       "    }\n",
       "\n",
       "    .dataframe tbody tr th {\n",
       "        vertical-align: top;\n",
       "    }\n",
       "\n",
       "    .dataframe thead th {\n",
       "        text-align: right;\n",
       "    }\n",
       "</style>\n",
       "<table border=\"1\" class=\"dataframe\">\n",
       "  <thead>\n",
       "    <tr style=\"text-align: right;\">\n",
       "      <th></th>\n",
       "      <th>age</th>\n",
       "      <th>a</th>\n",
       "      <th>b</th>\n",
       "      <th>c</th>\n",
       "      <th>d</th>\n",
       "      <th>e</th>\n",
       "      <th>f</th>\n",
       "      <th>g</th>\n",
       "      <th>h</th>\n",
       "      <th>i</th>\n",
       "      <th>...</th>\n",
       "      <th>m</th>\n",
       "      <th>n</th>\n",
       "      <th>o</th>\n",
       "      <th>TSH</th>\n",
       "      <th>T3</th>\n",
       "      <th>TT4</th>\n",
       "      <th>T4U</th>\n",
       "      <th>FTI</th>\n",
       "      <th>label_anomaly</th>\n",
       "      <th>label_normal</th>\n",
       "    </tr>\n",
       "  </thead>\n",
       "  <tbody>\n",
       "    <tr>\n",
       "      <th>count</th>\n",
       "      <td>6853.000000</td>\n",
       "      <td>6853.000000</td>\n",
       "      <td>6853.000000</td>\n",
       "      <td>6853.000000</td>\n",
       "      <td>6853.000000</td>\n",
       "      <td>6853.000000</td>\n",
       "      <td>6853.000000</td>\n",
       "      <td>6853.000000</td>\n",
       "      <td>6853.000000</td>\n",
       "      <td>6853.000000</td>\n",
       "      <td>...</td>\n",
       "      <td>6853.000000</td>\n",
       "      <td>6853.000000</td>\n",
       "      <td>6853.000000</td>\n",
       "      <td>6853.000000</td>\n",
       "      <td>6853.000000</td>\n",
       "      <td>6853.000000</td>\n",
       "      <td>6853.000000</td>\n",
       "      <td>6853.000000</td>\n",
       "      <td>6853.000000</td>\n",
       "      <td>6853.000000</td>\n",
       "    </tr>\n",
       "    <tr>\n",
       "      <th>mean</th>\n",
       "      <td>0.531639</td>\n",
       "      <td>0.307603</td>\n",
       "      <td>0.133810</td>\n",
       "      <td>0.015614</td>\n",
       "      <td>0.013133</td>\n",
       "      <td>0.038523</td>\n",
       "      <td>0.011382</td>\n",
       "      <td>0.014154</td>\n",
       "      <td>0.016781</td>\n",
       "      <td>0.062892</td>\n",
       "      <td>...</td>\n",
       "      <td>0.025536</td>\n",
       "      <td>0.000146</td>\n",
       "      <td>0.049759</td>\n",
       "      <td>0.006882</td>\n",
       "      <td>0.109418</td>\n",
       "      <td>0.181021</td>\n",
       "      <td>0.373549</td>\n",
       "      <td>0.175391</td>\n",
       "      <td>0.036480</td>\n",
       "      <td>0.963520</td>\n",
       "    </tr>\n",
       "    <tr>\n",
       "      <th>std</th>\n",
       "      <td>0.197355</td>\n",
       "      <td>0.461535</td>\n",
       "      <td>0.340473</td>\n",
       "      <td>0.123984</td>\n",
       "      <td>0.113852</td>\n",
       "      <td>0.192470</td>\n",
       "      <td>0.106085</td>\n",
       "      <td>0.118136</td>\n",
       "      <td>0.128459</td>\n",
       "      <td>0.242787</td>\n",
       "      <td>...</td>\n",
       "      <td>0.157759</td>\n",
       "      <td>0.012080</td>\n",
       "      <td>0.217463</td>\n",
       "      <td>0.032760</td>\n",
       "      <td>0.041514</td>\n",
       "      <td>0.058611</td>\n",
       "      <td>0.088393</td>\n",
       "      <td>0.054680</td>\n",
       "      <td>0.187496</td>\n",
       "      <td>0.187496</td>\n",
       "    </tr>\n",
       "    <tr>\n",
       "      <th>min</th>\n",
       "      <td>0.000000</td>\n",
       "      <td>0.000000</td>\n",
       "      <td>0.000000</td>\n",
       "      <td>0.000000</td>\n",
       "      <td>0.000000</td>\n",
       "      <td>0.000000</td>\n",
       "      <td>0.000000</td>\n",
       "      <td>0.000000</td>\n",
       "      <td>0.000000</td>\n",
       "      <td>0.000000</td>\n",
       "      <td>...</td>\n",
       "      <td>0.000000</td>\n",
       "      <td>0.000000</td>\n",
       "      <td>0.000000</td>\n",
       "      <td>0.000000</td>\n",
       "      <td>0.000000</td>\n",
       "      <td>0.000000</td>\n",
       "      <td>0.000000</td>\n",
       "      <td>0.000000</td>\n",
       "      <td>0.000000</td>\n",
       "      <td>0.000000</td>\n",
       "    </tr>\n",
       "    <tr>\n",
       "      <th>25%</th>\n",
       "      <td>0.375000</td>\n",
       "      <td>0.000000</td>\n",
       "      <td>0.000000</td>\n",
       "      <td>0.000000</td>\n",
       "      <td>0.000000</td>\n",
       "      <td>0.000000</td>\n",
       "      <td>0.000000</td>\n",
       "      <td>0.000000</td>\n",
       "      <td>0.000000</td>\n",
       "      <td>0.000000</td>\n",
       "      <td>...</td>\n",
       "      <td>0.000000</td>\n",
       "      <td>0.000000</td>\n",
       "      <td>0.000000</td>\n",
       "      <td>0.001380</td>\n",
       "      <td>0.091922</td>\n",
       "      <td>0.146444</td>\n",
       "      <td>0.324074</td>\n",
       "      <td>0.146341</td>\n",
       "      <td>0.000000</td>\n",
       "      <td>1.000000</td>\n",
       "    </tr>\n",
       "    <tr>\n",
       "      <th>50%</th>\n",
       "      <td>0.552083</td>\n",
       "      <td>0.000000</td>\n",
       "      <td>0.000000</td>\n",
       "      <td>0.000000</td>\n",
       "      <td>0.000000</td>\n",
       "      <td>0.000000</td>\n",
       "      <td>0.000000</td>\n",
       "      <td>0.000000</td>\n",
       "      <td>0.000000</td>\n",
       "      <td>0.000000</td>\n",
       "      <td>...</td>\n",
       "      <td>0.000000</td>\n",
       "      <td>0.000000</td>\n",
       "      <td>0.000000</td>\n",
       "      <td>0.003180</td>\n",
       "      <td>0.109192</td>\n",
       "      <td>0.174895</td>\n",
       "      <td>0.365741</td>\n",
       "      <td>0.171357</td>\n",
       "      <td>0.000000</td>\n",
       "      <td>1.000000</td>\n",
       "    </tr>\n",
       "    <tr>\n",
       "      <th>75%</th>\n",
       "      <td>0.687500</td>\n",
       "      <td>1.000000</td>\n",
       "      <td>0.000000</td>\n",
       "      <td>0.000000</td>\n",
       "      <td>0.000000</td>\n",
       "      <td>0.000000</td>\n",
       "      <td>0.000000</td>\n",
       "      <td>0.000000</td>\n",
       "      <td>0.000000</td>\n",
       "      <td>0.000000</td>\n",
       "      <td>...</td>\n",
       "      <td>0.000000</td>\n",
       "      <td>0.000000</td>\n",
       "      <td>0.000000</td>\n",
       "      <td>0.004780</td>\n",
       "      <td>0.119777</td>\n",
       "      <td>0.206695</td>\n",
       "      <td>0.402778</td>\n",
       "      <td>0.194809</td>\n",
       "      <td>0.000000</td>\n",
       "      <td>1.000000</td>\n",
       "    </tr>\n",
       "    <tr>\n",
       "      <th>max</th>\n",
       "      <td>1.000000</td>\n",
       "      <td>1.000000</td>\n",
       "      <td>1.000000</td>\n",
       "      <td>1.000000</td>\n",
       "      <td>1.000000</td>\n",
       "      <td>1.000000</td>\n",
       "      <td>1.000000</td>\n",
       "      <td>1.000000</td>\n",
       "      <td>1.000000</td>\n",
       "      <td>1.000000</td>\n",
       "      <td>...</td>\n",
       "      <td>1.000000</td>\n",
       "      <td>1.000000</td>\n",
       "      <td>1.000000</td>\n",
       "      <td>1.000000</td>\n",
       "      <td>1.000000</td>\n",
       "      <td>1.000000</td>\n",
       "      <td>1.000000</td>\n",
       "      <td>1.000000</td>\n",
       "      <td>1.000000</td>\n",
       "      <td>1.000000</td>\n",
       "    </tr>\n",
       "  </tbody>\n",
       "</table>\n",
       "<p>8 rows × 23 columns</p>\n",
       "</div>"
      ],
      "text/plain": [
       "               age            a            b            c            d  \\\n",
       "count  6853.000000  6853.000000  6853.000000  6853.000000  6853.000000   \n",
       "mean      0.531639     0.307603     0.133810     0.015614     0.013133   \n",
       "std       0.197355     0.461535     0.340473     0.123984     0.113852   \n",
       "min       0.000000     0.000000     0.000000     0.000000     0.000000   \n",
       "25%       0.375000     0.000000     0.000000     0.000000     0.000000   \n",
       "50%       0.552083     0.000000     0.000000     0.000000     0.000000   \n",
       "75%       0.687500     1.000000     0.000000     0.000000     0.000000   \n",
       "max       1.000000     1.000000     1.000000     1.000000     1.000000   \n",
       "\n",
       "                 e            f            g            h            i  \\\n",
       "count  6853.000000  6853.000000  6853.000000  6853.000000  6853.000000   \n",
       "mean      0.038523     0.011382     0.014154     0.016781     0.062892   \n",
       "std       0.192470     0.106085     0.118136     0.128459     0.242787   \n",
       "min       0.000000     0.000000     0.000000     0.000000     0.000000   \n",
       "25%       0.000000     0.000000     0.000000     0.000000     0.000000   \n",
       "50%       0.000000     0.000000     0.000000     0.000000     0.000000   \n",
       "75%       0.000000     0.000000     0.000000     0.000000     0.000000   \n",
       "max       1.000000     1.000000     1.000000     1.000000     1.000000   \n",
       "\n",
       "           ...                 m            n            o          TSH  \\\n",
       "count      ...       6853.000000  6853.000000  6853.000000  6853.000000   \n",
       "mean       ...          0.025536     0.000146     0.049759     0.006882   \n",
       "std        ...          0.157759     0.012080     0.217463     0.032760   \n",
       "min        ...          0.000000     0.000000     0.000000     0.000000   \n",
       "25%        ...          0.000000     0.000000     0.000000     0.001380   \n",
       "50%        ...          0.000000     0.000000     0.000000     0.003180   \n",
       "75%        ...          0.000000     0.000000     0.000000     0.004780   \n",
       "max        ...          1.000000     1.000000     1.000000     1.000000   \n",
       "\n",
       "                T3          TT4          T4U          FTI  label_anomaly  \\\n",
       "count  6853.000000  6853.000000  6853.000000  6853.000000    6853.000000   \n",
       "mean      0.109418     0.181021     0.373549     0.175391       0.036480   \n",
       "std       0.041514     0.058611     0.088393     0.054680       0.187496   \n",
       "min       0.000000     0.000000     0.000000     0.000000       0.000000   \n",
       "25%       0.091922     0.146444     0.324074     0.146341       0.000000   \n",
       "50%       0.109192     0.174895     0.365741     0.171357       0.000000   \n",
       "75%       0.119777     0.206695     0.402778     0.194809       0.000000   \n",
       "max       1.000000     1.000000     1.000000     1.000000       1.000000   \n",
       "\n",
       "       label_normal  \n",
       "count   6853.000000  \n",
       "mean       0.963520  \n",
       "std        0.187496  \n",
       "min        0.000000  \n",
       "25%        1.000000  \n",
       "50%        1.000000  \n",
       "75%        1.000000  \n",
       "max        1.000000  \n",
       "\n",
       "[8 rows x 23 columns]"
      ]
     },
     "execution_count": 190,
     "metadata": {},
     "output_type": "execute_result"
    }
   ],
   "source": [
    "df_data.describe()"
   ]
  },
  {
   "cell_type": "code",
   "execution_count": 191,
   "metadata": {
    "scrolled": true
   },
   "outputs": [
    {
     "name": "stdout",
     "output_type": "stream",
     "text": [
      "column:0 min:0.000000 max:1.000000 std:0.197341\n",
      "column:1 min:0.000000 max:1.000000 std:0.461501\n",
      "column:2 min:0.000000 max:1.000000 std:0.340448\n",
      "column:3 min:0.000000 max:1.000000 std:0.123975\n",
      "column:4 min:0.000000 max:1.000000 std:0.113844\n",
      "column:5 min:0.000000 max:1.000000 std:0.192456\n",
      "column:6 min:0.000000 max:1.000000 std:0.106077\n",
      "column:7 min:0.000000 max:1.000000 std:0.118127\n",
      "column:8 min:0.000000 max:1.000000 std:0.128450\n",
      "column:9 min:0.000000 max:1.000000 std:0.242769\n",
      "column:10 min:0.000000 max:1.000000 std:0.254232\n",
      "column:11 min:0.000000 max:1.000000 std:0.113218\n",
      "column:12 min:0.000000 max:1.000000 std:0.092386\n",
      "column:13 min:0.000000 max:1.000000 std:0.157747\n",
      "column:14 min:0.000000 max:1.000000 std:0.012079\n",
      "column:15 min:0.000000 max:1.000000 std:0.217447\n",
      "column:16 min:0.000000 max:1.000000 std:0.032758\n",
      "column:17 min:0.000000 max:1.000000 std:0.041511\n",
      "column:18 min:0.000000 max:1.000000 std:0.058607\n",
      "column:19 min:0.000000 max:1.000000 std:0.088386\n",
      "column:20 min:0.000000 max:1.000000 std:0.054676\n",
      "column:21 min:0.000000 max:1.000000 std:0.187482\n",
      "column:22 min:0.000000 max:1.000000 std:0.187482\n"
     ]
    }
   ],
   "source": [
    "### check again\n",
    "\n",
    "checkStats(df_data)"
   ]
  },
  {
   "cell_type": "code",
   "execution_count": 192,
   "metadata": {},
   "outputs": [
    {
     "name": "stdout",
     "output_type": "stream",
     "text": [
      "False\n",
      "False\n"
     ]
    }
   ],
   "source": [
    "## check integrity of the data again\n",
    "\n",
    "print(df_data.isnull().values.any())\n",
    "\n",
    "print(df_data.isna().values.any())"
   ]
  },
  {
   "cell_type": "code",
   "execution_count": 193,
   "metadata": {
    "scrolled": true
   },
   "outputs": [
    {
     "name": "stdout",
     "output_type": "stream",
     "text": [
      "5474    1\n",
      "4216    1\n",
      "2610    1\n",
      "5516    1\n",
      "1915    1\n",
      "435     1\n",
      "1095    1\n",
      "4879    1\n",
      "728     1\n",
      "5289    1\n",
      "Name: label_normal, dtype: uint8\n",
      "5474    0\n",
      "4216    0\n",
      "2610    0\n",
      "5516    0\n",
      "1915    0\n",
      "435     0\n",
      "1095    0\n",
      "4879    0\n",
      "728     0\n",
      "5289    0\n",
      "Name: label_anomaly, dtype: uint8\n",
      "5474    n\n",
      "4216    n\n",
      "2610    n\n",
      "5516    n\n",
      "1915    n\n",
      "435     n\n",
      "1095    n\n",
      "4879    n\n",
      "728     n\n",
      "5289    n\n",
      "Name: labels, dtype: object\n"
     ]
    }
   ],
   "source": [
    "### check again\n",
    "print(df_data.iloc[740:750, -1])\n",
    "\n",
    "print(df_data.iloc[740:750, -2])\n",
    "\n",
    "print(df_labels.iloc[740:750, -1])"
   ]
  },
  {
   "cell_type": "markdown",
   "metadata": {},
   "source": [
    "### Save dataset"
   ]
  },
  {
   "cell_type": "code",
   "execution_count": 194,
   "metadata": {},
   "outputs": [],
   "source": [
    "dataset = df_data.values"
   ]
  },
  {
   "cell_type": "code",
   "execution_count": 195,
   "metadata": {},
   "outputs": [
    {
     "data": {
      "text/plain": [
       "(6853, 23)"
      ]
     },
     "execution_count": 195,
     "metadata": {},
     "output_type": "execute_result"
    }
   ],
   "source": [
    "dataset.shape"
   ]
  },
  {
   "cell_type": "code",
   "execution_count": 196,
   "metadata": {},
   "outputs": [],
   "source": [
    "np.savez_compressed(\"thyroid.npz\", dataset=dataset)"
   ]
  },
  {
   "cell_type": "markdown",
   "metadata": {},
   "source": [
    "### Produce train and test splits"
   ]
  },
  {
   "cell_type": "code",
   "execution_count": 197,
   "metadata": {},
   "outputs": [],
   "source": [
    "random_state = None"
   ]
  },
  {
   "cell_type": "code",
   "execution_count": 198,
   "metadata": {},
   "outputs": [],
   "source": [
    "from sklearn.model_selection import train_test_split\n",
    "\n",
    "x_train, x_test = train_test_split(dataset, test_size=0.5, random_state=random_state)"
   ]
  },
  {
   "cell_type": "code",
   "execution_count": 199,
   "metadata": {},
   "outputs": [
    {
     "data": {
      "text/plain": [
       "(3426, 23)"
      ]
     },
     "execution_count": 199,
     "metadata": {},
     "output_type": "execute_result"
    }
   ],
   "source": [
    "x_train.shape"
   ]
  },
  {
   "cell_type": "code",
   "execution_count": 200,
   "metadata": {},
   "outputs": [
    {
     "data": {
      "text/plain": [
       "(3427, 23)"
      ]
     },
     "execution_count": 200,
     "metadata": {},
     "output_type": "execute_result"
    }
   ],
   "source": [
    "x_test.shape"
   ]
  },
  {
   "cell_type": "markdown",
   "metadata": {},
   "source": [
    "-  Normal class is anomaly (attack) in this case, because non-attack rows are minority"
   ]
  },
  {
   "cell_type": "code",
   "execution_count": 201,
   "metadata": {},
   "outputs": [],
   "source": [
    "x_train_normal = x_train[np.where(x_train[:,-1] == 1)]   ##last column is the normal column\n",
    "x_train_anomaly = x_train[np.where(x_train[:,-1] == 0)]   "
   ]
  },
  {
   "cell_type": "code",
   "execution_count": 202,
   "metadata": {},
   "outputs": [
    {
     "data": {
      "text/plain": [
       "(3306, 23)"
      ]
     },
     "execution_count": 202,
     "metadata": {},
     "output_type": "execute_result"
    }
   ],
   "source": [
    "x_train_normal.shape"
   ]
  },
  {
   "cell_type": "code",
   "execution_count": 203,
   "metadata": {},
   "outputs": [
    {
     "data": {
      "text/plain": [
       "(120, 23)"
      ]
     },
     "execution_count": 203,
     "metadata": {},
     "output_type": "execute_result"
    }
   ],
   "source": [
    "x_train_anomaly.shape   "
   ]
  },
  {
   "cell_type": "code",
   "execution_count": 204,
   "metadata": {},
   "outputs": [],
   "source": [
    "x_train = x_train_normal"
   ]
  },
  {
   "cell_type": "markdown",
   "metadata": {},
   "source": [
    "- x_train consist of \"normal\" values"
   ]
  },
  {
   "cell_type": "code",
   "execution_count": 205,
   "metadata": {},
   "outputs": [
    {
     "data": {
      "text/plain": [
       "(3306, 23)"
      ]
     },
     "execution_count": 205,
     "metadata": {},
     "output_type": "execute_result"
    }
   ],
   "source": [
    "x_train.shape"
   ]
  },
  {
   "cell_type": "code",
   "execution_count": 206,
   "metadata": {},
   "outputs": [
    {
     "data": {
      "text/plain": [
       "(3427, 23)"
      ]
     },
     "execution_count": 206,
     "metadata": {},
     "output_type": "execute_result"
    }
   ],
   "source": [
    "x_test.shape"
   ]
  },
  {
   "cell_type": "markdown",
   "metadata": {},
   "source": [
    "- Assign arbitrary output as labels"
   ]
  },
  {
   "cell_type": "code",
   "execution_count": 207,
   "metadata": {},
   "outputs": [
    {
     "data": {
      "text/plain": [
       "(3306, 2)"
      ]
     },
     "execution_count": 207,
     "metadata": {},
     "output_type": "execute_result"
    }
   ],
   "source": [
    "y_train = np.zeros((len(x_train),2))\n",
    "y_train[:,0] = 1\n",
    "y_train.shape"
   ]
  },
  {
   "cell_type": "code",
   "execution_count": 208,
   "metadata": {},
   "outputs": [],
   "source": [
    "train_name = \"thyroid_train-randomState_\"+str(random_state)+\".npz\"\n",
    "test_name = \"thyroid_test-randomState_\"+str(random_state)+\".npz\"\n",
    "\n",
    "np.savez_compressed(train_name, x_train=x_train, y_train=y_train)\n",
    "np.savez_compressed(test_name, x_test=x_test)"
   ]
  },
  {
   "cell_type": "code",
   "execution_count": null,
   "metadata": {},
   "outputs": [],
   "source": []
  },
  {
   "cell_type": "code",
   "execution_count": null,
   "metadata": {},
   "outputs": [],
   "source": []
  },
  {
   "cell_type": "code",
   "execution_count": null,
   "metadata": {},
   "outputs": [],
   "source": []
  }
 ],
 "metadata": {
  "kernelspec": {
   "display_name": "Python 3",
   "language": "python",
   "name": "python3"
  },
  "language_info": {
   "codemirror_mode": {
    "name": "ipython",
    "version": 3
   },
   "file_extension": ".py",
   "mimetype": "text/x-python",
   "name": "python",
   "nbconvert_exporter": "python",
   "pygments_lexer": "ipython3",
   "version": "3.6.4"
  }
 },
 "nbformat": 4,
 "nbformat_minor": 2
}
