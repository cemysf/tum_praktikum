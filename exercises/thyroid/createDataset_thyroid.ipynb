{
 "cells": [
  {
   "cell_type": "markdown",
   "metadata": {},
   "source": [
    "### Dataset creation"
   ]
  },
  {
   "cell_type": "code",
   "execution_count": 1,
   "metadata": {},
   "outputs": [],
   "source": [
    "import pandas as pd\n",
    "import numpy as np\n",
    "from sklearn.utils import shuffle"
   ]
  },
  {
   "cell_type": "markdown",
   "metadata": {},
   "source": [
    "- load data and labels (normal and different attack types)"
   ]
  },
  {
   "cell_type": "code",
   "execution_count": 2,
   "metadata": {},
   "outputs": [],
   "source": [
    "df_data = pd.read_csv(\"../../datasets/thyroid/thyroid.csv\")\n",
    "df_data = shuffle(df_data)\n",
    "df_labels = pd.DataFrame(df_data.iloc[:,-1])   \n",
    "df_data = pd.DataFrame(df_data.iloc[:, :-1]).astype(float) "
   ]
  },
  {
   "cell_type": "markdown",
   "metadata": {},
   "source": [
    "- read column names and types"
   ]
  },
  {
   "cell_type": "code",
   "execution_count": 3,
   "metadata": {},
   "outputs": [],
   "source": [
    "# col_names=[]\n",
    "# col_datatypes=[]\n",
    "\n",
    "# with open(\"datasets/kddcup/kddcup.names\") as file:\n",
    "#     next(file)    ### skip first line\n",
    "#     for line in file:\n",
    "#         name, datatype = line.split(\": \")\n",
    "#         col_names.append(name)\n",
    "#         col_datatypes.append(datatype.replace(\".\\n\",\"\"))\n",
    "        \n",
    "# df_data.columns = col_names\n",
    "df_labels.columns = [\"labels\"]"
   ]
  },
  {
   "cell_type": "code",
   "execution_count": 4,
   "metadata": {
    "scrolled": false
   },
   "outputs": [
    {
     "data": {
      "text/html": [
       "<div>\n",
       "<style scoped>\n",
       "    .dataframe tbody tr th:only-of-type {\n",
       "        vertical-align: middle;\n",
       "    }\n",
       "\n",
       "    .dataframe tbody tr th {\n",
       "        vertical-align: top;\n",
       "    }\n",
       "\n",
       "    .dataframe thead th {\n",
       "        text-align: right;\n",
       "    }\n",
       "</style>\n",
       "<table border=\"1\" class=\"dataframe\">\n",
       "  <thead>\n",
       "    <tr style=\"text-align: right;\">\n",
       "      <th></th>\n",
       "      <th>age</th>\n",
       "      <th>a</th>\n",
       "      <th>b</th>\n",
       "      <th>c</th>\n",
       "      <th>d</th>\n",
       "      <th>e</th>\n",
       "      <th>f</th>\n",
       "      <th>g</th>\n",
       "      <th>h</th>\n",
       "      <th>i</th>\n",
       "      <th>...</th>\n",
       "      <th>k</th>\n",
       "      <th>l</th>\n",
       "      <th>m</th>\n",
       "      <th>n</th>\n",
       "      <th>o</th>\n",
       "      <th>TSH</th>\n",
       "      <th>T3</th>\n",
       "      <th>TT4</th>\n",
       "      <th>T4U</th>\n",
       "      <th>FTI</th>\n",
       "    </tr>\n",
       "  </thead>\n",
       "  <tbody>\n",
       "    <tr>\n",
       "      <th>555</th>\n",
       "      <td>0.41</td>\n",
       "      <td>0.0</td>\n",
       "      <td>0.0</td>\n",
       "      <td>0.0</td>\n",
       "      <td>0.0</td>\n",
       "      <td>0.0</td>\n",
       "      <td>0.0</td>\n",
       "      <td>0.0</td>\n",
       "      <td>0.0</td>\n",
       "      <td>0.0</td>\n",
       "      <td>...</td>\n",
       "      <td>0.0</td>\n",
       "      <td>0.0</td>\n",
       "      <td>0.0</td>\n",
       "      <td>0.0</td>\n",
       "      <td>0.0</td>\n",
       "      <td>0.00006</td>\n",
       "      <td>0.0201</td>\n",
       "      <td>0.159</td>\n",
       "      <td>0.094</td>\n",
       "      <td>0.16900</td>\n",
       "    </tr>\n",
       "    <tr>\n",
       "      <th>1173</th>\n",
       "      <td>0.84</td>\n",
       "      <td>0.0</td>\n",
       "      <td>0.0</td>\n",
       "      <td>0.0</td>\n",
       "      <td>0.0</td>\n",
       "      <td>0.0</td>\n",
       "      <td>0.0</td>\n",
       "      <td>0.0</td>\n",
       "      <td>0.0</td>\n",
       "      <td>0.0</td>\n",
       "      <td>...</td>\n",
       "      <td>0.0</td>\n",
       "      <td>0.0</td>\n",
       "      <td>1.0</td>\n",
       "      <td>0.0</td>\n",
       "      <td>0.0</td>\n",
       "      <td>0.00400</td>\n",
       "      <td>0.0240</td>\n",
       "      <td>0.123</td>\n",
       "      <td>0.096</td>\n",
       "      <td>0.12785</td>\n",
       "    </tr>\n",
       "    <tr>\n",
       "      <th>3784</th>\n",
       "      <td>0.41</td>\n",
       "      <td>1.0</td>\n",
       "      <td>0.0</td>\n",
       "      <td>0.0</td>\n",
       "      <td>0.0</td>\n",
       "      <td>0.0</td>\n",
       "      <td>0.0</td>\n",
       "      <td>0.0</td>\n",
       "      <td>0.0</td>\n",
       "      <td>0.0</td>\n",
       "      <td>...</td>\n",
       "      <td>0.0</td>\n",
       "      <td>0.0</td>\n",
       "      <td>0.0</td>\n",
       "      <td>0.0</td>\n",
       "      <td>0.0</td>\n",
       "      <td>0.00040</td>\n",
       "      <td>0.0250</td>\n",
       "      <td>0.098</td>\n",
       "      <td>0.101</td>\n",
       "      <td>0.09600</td>\n",
       "    </tr>\n",
       "    <tr>\n",
       "      <th>4051</th>\n",
       "      <td>0.65</td>\n",
       "      <td>0.0</td>\n",
       "      <td>0.0</td>\n",
       "      <td>0.0</td>\n",
       "      <td>0.0</td>\n",
       "      <td>0.0</td>\n",
       "      <td>0.0</td>\n",
       "      <td>0.0</td>\n",
       "      <td>0.0</td>\n",
       "      <td>0.0</td>\n",
       "      <td>...</td>\n",
       "      <td>0.0</td>\n",
       "      <td>0.0</td>\n",
       "      <td>0.0</td>\n",
       "      <td>0.0</td>\n",
       "      <td>0.0</td>\n",
       "      <td>0.00050</td>\n",
       "      <td>0.0206</td>\n",
       "      <td>0.090</td>\n",
       "      <td>0.109</td>\n",
       "      <td>0.08300</td>\n",
       "    </tr>\n",
       "    <tr>\n",
       "      <th>5743</th>\n",
       "      <td>0.43</td>\n",
       "      <td>0.0</td>\n",
       "      <td>0.0</td>\n",
       "      <td>0.0</td>\n",
       "      <td>0.0</td>\n",
       "      <td>0.0</td>\n",
       "      <td>0.0</td>\n",
       "      <td>0.0</td>\n",
       "      <td>0.0</td>\n",
       "      <td>0.0</td>\n",
       "      <td>...</td>\n",
       "      <td>0.0</td>\n",
       "      <td>0.0</td>\n",
       "      <td>0.0</td>\n",
       "      <td>0.0</td>\n",
       "      <td>0.0</td>\n",
       "      <td>0.00220</td>\n",
       "      <td>0.0230</td>\n",
       "      <td>0.087</td>\n",
       "      <td>0.093</td>\n",
       "      <td>0.09400</td>\n",
       "    </tr>\n",
       "  </tbody>\n",
       "</table>\n",
       "<p>5 rows × 21 columns</p>\n",
       "</div>"
      ],
      "text/plain": [
       "       age    a    b    c    d    e    f    g    h    i   ...       k    l  \\\n",
       "555   0.41  0.0  0.0  0.0  0.0  0.0  0.0  0.0  0.0  0.0   ...     0.0  0.0   \n",
       "1173  0.84  0.0  0.0  0.0  0.0  0.0  0.0  0.0  0.0  0.0   ...     0.0  0.0   \n",
       "3784  0.41  1.0  0.0  0.0  0.0  0.0  0.0  0.0  0.0  0.0   ...     0.0  0.0   \n",
       "4051  0.65  0.0  0.0  0.0  0.0  0.0  0.0  0.0  0.0  0.0   ...     0.0  0.0   \n",
       "5743  0.43  0.0  0.0  0.0  0.0  0.0  0.0  0.0  0.0  0.0   ...     0.0  0.0   \n",
       "\n",
       "        m    n    o      TSH      T3    TT4    T4U      FTI  \n",
       "555   0.0  0.0  0.0  0.00006  0.0201  0.159  0.094  0.16900  \n",
       "1173  1.0  0.0  0.0  0.00400  0.0240  0.123  0.096  0.12785  \n",
       "3784  0.0  0.0  0.0  0.00040  0.0250  0.098  0.101  0.09600  \n",
       "4051  0.0  0.0  0.0  0.00050  0.0206  0.090  0.109  0.08300  \n",
       "5743  0.0  0.0  0.0  0.00220  0.0230  0.087  0.093  0.09400  \n",
       "\n",
       "[5 rows x 21 columns]"
      ]
     },
     "execution_count": 4,
     "metadata": {},
     "output_type": "execute_result"
    }
   ],
   "source": [
    "df_data.head()"
   ]
  },
  {
   "cell_type": "markdown",
   "metadata": {},
   "source": [
    "- check integrity of the data"
   ]
  },
  {
   "cell_type": "code",
   "execution_count": 5,
   "metadata": {},
   "outputs": [
    {
     "name": "stdout",
     "output_type": "stream",
     "text": [
      "False\n",
      "False\n"
     ]
    }
   ],
   "source": [
    "print(df_data.isnull().values.any())\n",
    "\n",
    "print(df_data.isna().values.any())"
   ]
  },
  {
   "cell_type": "markdown",
   "metadata": {},
   "source": [
    "### Enumerate labels "
   ]
  },
  {
   "cell_type": "markdown",
   "metadata": {},
   "source": [
    "- ### normal samples are named as \"anomaly\" since they are minority (stated in paper)"
   ]
  },
  {
   "cell_type": "code",
   "execution_count": 6,
   "metadata": {},
   "outputs": [
    {
     "name": "stdout",
     "output_type": "stream",
     "text": [
      "<class 'numpy.float64'>\n"
     ]
    }
   ],
   "source": [
    "# Considering n labelled data as normal and others as anomaly in thyroid dataset. assigning labels accordingly.\n",
    "# Added by Jyotirmay.\n",
    "# 1 = normal, 0 = anomaly\n",
    "df_data[\"label\"] = np.where(df_labels[\"labels\"].str.contains(\"n\"), 'normal', 'anomaly')\n",
    "print(type(df_data.TSH[0]))"
   ]
  },
  {
   "cell_type": "code",
   "execution_count": 7,
   "metadata": {},
   "outputs": [
    {
     "name": "stdout",
     "output_type": "stream",
     "text": [
      "number of normal: 6603\n",
      "number of anomaly: 250\n"
     ]
    }
   ],
   "source": [
    "### number of normal and abnormal\n",
    "print(\"number of normal:\", len(np.where(df_data[\"label\"] == 'normal')[0]))\n",
    "print(\"number of anomaly:\", len(np.where(df_data[\"label\"] == 'anomaly')[0]))"
   ]
  },
  {
   "cell_type": "code",
   "execution_count": 8,
   "metadata": {},
   "outputs": [
    {
     "data": {
      "text/plain": [
       "(array([   0,    1,    2, ..., 6850, 6851, 6852]),)"
      ]
     },
     "execution_count": 8,
     "metadata": {},
     "output_type": "execute_result"
    }
   ],
   "source": [
    "## check in which location data is abnormal\n",
    "\n",
    "np.where(df_data[\"label\"] == 'normal')"
   ]
  },
  {
   "cell_type": "code",
   "execution_count": 9,
   "metadata": {},
   "outputs": [
    {
     "name": "stdout",
     "output_type": "stream",
     "text": [
      "3609    normal\n",
      "2861    normal\n",
      "3868    normal\n",
      "489     normal\n",
      "5689    normal\n",
      "3669    normal\n",
      "794     normal\n",
      "3878    normal\n",
      "2984    normal\n",
      "5862    normal\n",
      "Name: label, dtype: object\n",
      "3609    n\n",
      "2861    n\n",
      "3868    n\n",
      "489     n\n",
      "5689    n\n",
      "3669    n\n",
      "794     n\n",
      "3878    n\n",
      "2984    n\n",
      "5862    n\n",
      "Name: labels, dtype: object\n"
     ]
    }
   ],
   "source": [
    "### looks like working\n",
    "\n",
    "print(df_data.iloc[740:750, -1])\n",
    "print(df_labels.iloc[740:750, -1])\n",
    "# df_data.head()"
   ]
  },
  {
   "cell_type": "code",
   "execution_count": 10,
   "metadata": {},
   "outputs": [],
   "source": [
    "### for each object column in data\n",
    "\n",
    "cols_toOneHot = df_data.select_dtypes(include='object').columns.tolist()\n",
    "\n",
    "cols_all = df_data.columns.tolist()\n",
    "cols_toNormalize = list(set(cols_all) - set(cols_toOneHot))"
   ]
  },
  {
   "cell_type": "code",
   "execution_count": 11,
   "metadata": {},
   "outputs": [
    {
     "name": "stdout",
     "output_type": "stream",
     "text": [
      "columns to normalize:\n",
      "['k', 'T4U', 'TSH', 'j', 'age', 'o', 'h', 'm', 'n', 'd', 'l', 'g', 'i', 'e', 'T3', 'TT4', 'a', 'c', 'b', 'FTI', 'f']\n",
      "\n",
      "columns to one-hot:\n",
      "['label']\n",
      "\n"
     ]
    }
   ],
   "source": [
    "print(\"columns to normalize:\\n%s\\n\" % cols_toNormalize)\n",
    "print(\"columns to one-hot:\\n%s\\n\" % cols_toOneHot)"
   ]
  },
  {
   "cell_type": "code",
   "execution_count": 12,
   "metadata": {
    "scrolled": true
   },
   "outputs": [
    {
     "data": {
      "text/plain": [
       "21"
      ]
     },
     "execution_count": 12,
     "metadata": {},
     "output_type": "execute_result"
    }
   ],
   "source": [
    "len(cols_toNormalize)"
   ]
  },
  {
   "cell_type": "markdown",
   "metadata": {},
   "source": [
    "### Dataset preprocessing in numerical columns"
   ]
  },
  {
   "cell_type": "code",
   "execution_count": 13,
   "metadata": {},
   "outputs": [
    {
     "name": "stdout",
     "output_type": "stream",
     "text": [
      "float64\n"
     ]
    }
   ],
   "source": [
    "print(df_data.TSH.dtype)"
   ]
  },
  {
   "cell_type": "code",
   "execution_count": 14,
   "metadata": {},
   "outputs": [],
   "source": [
    "def checkStats(df_data):\n",
    "    i=0\n",
    "    for col in df_data.columns.tolist():\n",
    "            \n",
    "        if col in cols_toOneHot:    ### skip if column is not numerical  ### TODO: check column type??\n",
    "            i += 1\n",
    "            continue\n",
    "\n",
    "        min_ = df_data[col].values.min()\n",
    "        max_ = df_data[col].values.max()\n",
    "        std_ = df_data[col].values.std()\n",
    "\n",
    "        print(\"column:%d min:%f max:%f std:%f\" % (i, min_, max_, std_))\n",
    "        i += 1"
   ]
  },
  {
   "cell_type": "code",
   "execution_count": 15,
   "metadata": {},
   "outputs": [
    {
     "name": "stdout",
     "output_type": "stream",
     "text": [
      "column:0 min:0.010000 max:0.970000 std:0.189447\n",
      "column:1 min:0.000000 max:1.000000 std:0.461501\n",
      "column:2 min:0.000000 max:1.000000 std:0.340448\n",
      "column:3 min:0.000000 max:1.000000 std:0.123975\n",
      "column:4 min:0.000000 max:1.000000 std:0.113844\n",
      "column:5 min:0.000000 max:1.000000 std:0.192456\n",
      "column:6 min:0.000000 max:1.000000 std:0.106077\n",
      "column:7 min:0.000000 max:1.000000 std:0.118127\n",
      "column:8 min:0.000000 max:1.000000 std:0.128450\n",
      "column:9 min:0.000000 max:1.000000 std:0.242769\n",
      "column:10 min:0.000000 max:1.000000 std:0.254232\n",
      "column:11 min:0.000000 max:1.000000 std:0.113218\n",
      "column:12 min:0.000000 max:1.000000 std:0.092386\n",
      "column:13 min:0.000000 max:1.000000 std:0.157747\n",
      "column:14 min:0.000000 max:1.000000 std:0.012079\n",
      "column:15 min:0.000000 max:1.000000 std:0.217447\n",
      "column:16 min:0.000010 max:0.500000 std:0.016379\n",
      "column:17 min:0.000500 max:0.180000 std:0.007451\n",
      "column:18 min:0.002500 max:0.600000 std:0.035017\n",
      "column:19 min:0.017000 max:0.233000 std:0.019091\n",
      "column:20 min:0.002400 max:0.642000 std:0.034971\n"
     ]
    }
   ],
   "source": [
    "## before normalization\n",
    "df_data = df_data\n",
    "checkStats(df_data)"
   ]
  },
  {
   "cell_type": "code",
   "execution_count": 16,
   "metadata": {},
   "outputs": [
    {
     "data": {
      "text/plain": [
       "\"\\n### mean substr and std dev div\\nfor col in cols_toNormalize:\\n    mean = df_data[col].mean()\\n    std = df_data[col].std()\\n    \\n    if mean == 0 or std == 0:     ### columns 'num_outbound_cmds', 'is_host_login' has zero mean and std dev!!!\\n        continue\\n    \\n    df_data[col] = (df_data[col] - mean) / std\\n\""
      ]
     },
     "execution_count": 16,
     "metadata": {},
     "output_type": "execute_result"
    }
   ],
   "source": [
    "### normalization\n",
    "\n",
    "### min substr and max-min div\n",
    "\n",
    "def normalise(df_data, cols_toNormalize):\n",
    "    for col in cols_toNormalize:\n",
    "        if len(col) == 1:\n",
    "            print(col)\n",
    "            continue\n",
    "            \n",
    "        min = df_data[col].min()\n",
    "        max = df_data[col].max()\n",
    "\n",
    "        if max - min == 0:\n",
    "            continue\n",
    "\n",
    "        df_data[col] = (df_data[col] - min) / (max - min)\n",
    "    \n",
    "    return df_data\n",
    "\n",
    "\n",
    "\n",
    "\"\"\"\n",
    "### mean substr and std dev div\n",
    "for col in cols_toNormalize:\n",
    "    mean = df_data[col].mean()\n",
    "    std = df_data[col].std()\n",
    "    \n",
    "    if mean == 0 or std == 0:     ### columns 'num_outbound_cmds', 'is_host_login' has zero mean and std dev!!!\n",
    "        continue\n",
    "    \n",
    "    df_data[col] = (df_data[col] - mean) / std\n",
    "\"\"\""
   ]
  },
  {
   "cell_type": "code",
   "execution_count": 17,
   "metadata": {
    "scrolled": true
   },
   "outputs": [
    {
     "name": "stdout",
     "output_type": "stream",
     "text": [
      "k\n",
      "j\n",
      "o\n",
      "h\n",
      "m\n",
      "n\n",
      "d\n",
      "l\n",
      "g\n",
      "i\n",
      "e\n",
      "a\n",
      "c\n",
      "b\n",
      "f\n",
      "column:0 min:0.000000 max:1.000000 std:0.197341\n",
      "column:1 min:0.000000 max:1.000000 std:0.461501\n",
      "column:2 min:0.000000 max:1.000000 std:0.340448\n",
      "column:3 min:0.000000 max:1.000000 std:0.123975\n",
      "column:4 min:0.000000 max:1.000000 std:0.113844\n",
      "column:5 min:0.000000 max:1.000000 std:0.192456\n",
      "column:6 min:0.000000 max:1.000000 std:0.106077\n",
      "column:7 min:0.000000 max:1.000000 std:0.118127\n",
      "column:8 min:0.000000 max:1.000000 std:0.128450\n",
      "column:9 min:0.000000 max:1.000000 std:0.242769\n",
      "column:10 min:0.000000 max:1.000000 std:0.254232\n",
      "column:11 min:0.000000 max:1.000000 std:0.113218\n",
      "column:12 min:0.000000 max:1.000000 std:0.092386\n",
      "column:13 min:0.000000 max:1.000000 std:0.157747\n",
      "column:14 min:0.000000 max:1.000000 std:0.012079\n",
      "column:15 min:0.000000 max:1.000000 std:0.217447\n",
      "column:16 min:0.000000 max:1.000000 std:0.032758\n",
      "column:17 min:0.000000 max:1.000000 std:0.041511\n",
      "column:18 min:0.000000 max:1.000000 std:0.058607\n",
      "column:19 min:0.000000 max:1.000000 std:0.088386\n",
      "column:20 min:0.000000 max:1.000000 std:0.054676\n",
      "           age    a    b    c    d    e    f    g    h    i   ...       l  \\\n",
      "555   0.416667  0.0  0.0  0.0  0.0  0.0  0.0  0.0  0.0  0.0   ...     0.0   \n",
      "1173  0.864583  0.0  0.0  0.0  0.0  0.0  0.0  0.0  0.0  0.0   ...     0.0   \n",
      "3784  0.416667  1.0  0.0  0.0  0.0  0.0  0.0  0.0  0.0  0.0   ...     0.0   \n",
      "4051  0.666667  0.0  0.0  0.0  0.0  0.0  0.0  0.0  0.0  0.0   ...     0.0   \n",
      "5743  0.437500  0.0  0.0  0.0  0.0  0.0  0.0  0.0  0.0  0.0   ...     0.0   \n",
      "512   0.656250  1.0  0.0  0.0  0.0  0.0  0.0  0.0  0.0  0.0   ...     0.0   \n",
      "92    0.187500  0.0  0.0  0.0  0.0  0.0  0.0  0.0  1.0  0.0   ...     0.0   \n",
      "1125  0.489583  0.0  0.0  0.0  0.0  0.0  0.0  0.0  0.0  0.0   ...     0.0   \n",
      "3044  0.239583  0.0  0.0  0.0  0.0  0.0  0.0  0.0  0.0  1.0   ...     0.0   \n",
      "933   0.708333  0.0  0.0  0.0  0.0  0.0  0.0  0.0  0.0  1.0   ...     0.0   \n",
      "6703  0.468750  0.0  0.0  0.0  0.0  0.0  0.0  0.0  0.0  0.0   ...     0.0   \n",
      "5703  0.645833  0.0  0.0  0.0  0.0  0.0  0.0  0.0  0.0  0.0   ...     0.0   \n",
      "2781  0.250000  0.0  0.0  0.0  0.0  0.0  0.0  0.0  0.0  0.0   ...     0.0   \n",
      "6809  0.468750  0.0  0.0  0.0  0.0  0.0  0.0  0.0  0.0  0.0   ...     0.0   \n",
      "6647  0.500000  0.0  0.0  0.0  0.0  0.0  0.0  0.0  0.0  0.0   ...     0.0   \n",
      "4214  0.750000  1.0  0.0  0.0  0.0  0.0  0.0  0.0  0.0  0.0   ...     0.0   \n",
      "4404  0.291667  1.0  0.0  0.0  0.0  0.0  0.0  0.0  0.0  0.0   ...     0.0   \n",
      "6366  0.843750  0.0  0.0  0.0  0.0  0.0  0.0  0.0  0.0  0.0   ...     0.0   \n",
      "6765  0.458333  1.0  0.0  0.0  0.0  0.0  0.0  0.0  0.0  0.0   ...     0.0   \n",
      "2743  0.260417  0.0  0.0  0.0  0.0  0.0  0.0  0.0  0.0  0.0   ...     0.0   \n",
      "195   0.572917  1.0  0.0  0.0  0.0  0.0  0.0  0.0  0.0  0.0   ...     0.0   \n",
      "206   0.208333  1.0  0.0  0.0  0.0  0.0  0.0  0.0  0.0  0.0   ...     0.0   \n",
      "4783  0.541667  0.0  0.0  0.0  0.0  1.0  0.0  0.0  0.0  0.0   ...     0.0   \n",
      "2815  0.666667  0.0  0.0  0.0  0.0  0.0  0.0  0.0  0.0  0.0   ...     0.0   \n",
      "2198  0.229167  0.0  0.0  0.0  0.0  0.0  0.0  0.0  0.0  0.0   ...     0.0   \n",
      "3489  0.583333  0.0  0.0  0.0  0.0  0.0  0.0  0.0  0.0  0.0   ...     0.0   \n",
      "5744  0.687500  0.0  0.0  0.0  0.0  0.0  0.0  0.0  0.0  0.0   ...     0.0   \n",
      "6673  0.697917  0.0  0.0  0.0  0.0  0.0  0.0  0.0  0.0  0.0   ...     0.0   \n",
      "9     0.739583  0.0  1.0  0.0  0.0  0.0  0.0  0.0  0.0  0.0   ...     0.0   \n",
      "6641  0.718750  0.0  0.0  0.0  0.0  0.0  0.0  0.0  0.0  0.0   ...     0.0   \n",
      "...        ...  ...  ...  ...  ...  ...  ...  ...  ...  ...   ...     ...   \n",
      "3041  0.656250  0.0  1.0  0.0  0.0  0.0  0.0  0.0  0.0  1.0   ...     0.0   \n",
      "3989  0.468750  0.0  0.0  0.0  0.0  0.0  0.0  0.0  0.0  0.0   ...     0.0   \n",
      "1187  0.343750  0.0  0.0  0.0  0.0  0.0  0.0  0.0  0.0  0.0   ...     0.0   \n",
      "2733  0.489583  0.0  0.0  0.0  0.0  0.0  0.0  0.0  0.0  0.0   ...     0.0   \n",
      "1442  0.677083  1.0  1.0  0.0  0.0  0.0  0.0  0.0  0.0  0.0   ...     0.0   \n",
      "5671  0.739583  0.0  0.0  0.0  0.0  0.0  0.0  0.0  0.0  0.0   ...     0.0   \n",
      "3516  0.250000  1.0  1.0  0.0  0.0  1.0  0.0  0.0  0.0  0.0   ...     0.0   \n",
      "4018  0.302083  0.0  0.0  0.0  0.0  0.0  0.0  0.0  0.0  0.0   ...     0.0   \n",
      "1406  0.656250  1.0  1.0  0.0  0.0  0.0  0.0  0.0  0.0  0.0   ...     0.0   \n",
      "117   0.635417  0.0  0.0  0.0  0.0  0.0  0.0  0.0  0.0  0.0   ...     0.0   \n",
      "1118  0.812500  0.0  0.0  0.0  0.0  0.0  0.0  0.0  0.0  0.0   ...     0.0   \n",
      "5112  0.666667  0.0  0.0  0.0  0.0  0.0  0.0  0.0  0.0  0.0   ...     0.0   \n",
      "6142  0.229167  0.0  0.0  0.0  0.0  0.0  0.0  1.0  0.0  0.0   ...     0.0   \n",
      "1036  0.770833  0.0  0.0  0.0  0.0  0.0  0.0  0.0  0.0  1.0   ...     0.0   \n",
      "1595  0.635417  0.0  0.0  0.0  0.0  0.0  0.0  0.0  0.0  0.0   ...     0.0   \n",
      "1998  0.635417  0.0  0.0  0.0  0.0  0.0  0.0  0.0  0.0  0.0   ...     0.0   \n",
      "2263  0.697917  1.0  0.0  0.0  0.0  0.0  0.0  0.0  0.0  0.0   ...     0.0   \n",
      "2585  0.239583  0.0  0.0  0.0  0.0  0.0  0.0  0.0  0.0  0.0   ...     0.0   \n",
      "5303  0.583333  1.0  0.0  0.0  0.0  0.0  0.0  0.0  0.0  0.0   ...     0.0   \n",
      "5828  0.197917  1.0  0.0  0.0  1.0  0.0  0.0  0.0  0.0  0.0   ...     0.0   \n",
      "4668  0.468750  0.0  0.0  0.0  0.0  0.0  0.0  0.0  0.0  1.0   ...     0.0   \n",
      "4346  0.385417  1.0  0.0  0.0  0.0  0.0  0.0  0.0  0.0  0.0   ...     0.0   \n",
      "3006  0.708333  0.0  1.0  0.0  0.0  0.0  0.0  0.0  0.0  0.0   ...     0.0   \n",
      "819   0.427083  1.0  0.0  0.0  0.0  0.0  0.0  0.0  0.0  0.0   ...     0.0   \n",
      "2688  0.322917  1.0  0.0  0.0  0.0  0.0  0.0  0.0  0.0  0.0   ...     0.0   \n",
      "1530  0.802083  0.0  1.0  0.0  0.0  0.0  0.0  0.0  0.0  0.0   ...     0.0   \n",
      "2797  0.760417  0.0  0.0  0.0  0.0  0.0  0.0  0.0  0.0  0.0   ...     0.0   \n",
      "3957  0.875000  0.0  1.0  0.0  0.0  0.0  0.0  0.0  0.0  1.0   ...     0.0   \n",
      "344   0.406250  1.0  0.0  0.0  0.0  0.0  0.0  0.0  0.0  0.0   ...     0.0   \n",
      "3768  0.572917  0.0  0.0  0.0  0.0  0.0  0.0  0.0  0.0  0.0   ...     0.0   \n",
      "\n",
      "        m    n    o       TSH        T3       TT4       T4U       FTI    label  \n",
      "555   0.0  0.0  0.0  0.000100  0.109192  0.261925  0.356481  0.260475   normal  \n",
      "1173  1.0  0.0  0.0  0.007980  0.130919  0.201674  0.365741  0.196138   normal  \n",
      "3784  0.0  0.0  0.0  0.000780  0.136490  0.159833  0.388889  0.146341   normal  \n",
      "4051  0.0  0.0  0.0  0.000980  0.111978  0.146444  0.425926  0.126016   normal  \n",
      "5743  0.0  0.0  0.0  0.004380  0.125348  0.141423  0.351852  0.143215   normal  \n",
      "512   0.0  0.0  0.0  0.003980  0.109192  0.189958  0.388889  0.176048   normal  \n",
      "92    0.0  0.0  0.0  0.016980  0.186630  0.220084  0.638889  0.130707  anomaly  \n",
      "1125  0.0  0.0  0.0  0.002180  0.109192  0.245188  0.518519  0.177611   normal  \n",
      "3044  0.0  0.0  0.0  0.000040  0.125348  0.066109  0.347222  0.068168   normal  \n",
      "933   0.0  0.0  0.0  0.002580  0.109192  0.245188  0.555556  0.166667   normal  \n",
      "6703  0.0  0.0  0.0  0.002780  0.119777  0.200000  0.398148  0.182301   normal  \n",
      "5703  0.0  0.0  0.0  0.006980  0.136490  0.176569  0.365741  0.172921   normal  \n",
      "2781  0.0  0.0  0.0  0.001980  0.175487  0.191632  0.435185  0.160413   normal  \n",
      "6809  0.0  0.0  0.0  0.000080  0.119777  0.158159  0.277778  0.191682   normal  \n",
      "6647  0.0  0.0  0.0  0.009780  0.036212  0.133054  0.287037  0.158849   normal  \n",
      "4214  0.0  0.0  0.0  0.000080  0.103064  0.123013  0.328704  0.130707   normal  \n",
      "4404  0.0  0.0  0.0  0.000480  0.058496  0.072803  0.379630  0.158849   normal  \n",
      "6366  0.0  0.0  1.0  0.003780  0.158774  0.189958  0.476852  0.147905   normal  \n",
      "6765  0.0  0.0  0.0  0.002780  0.111978  0.164854  0.361111  0.161976   normal  \n",
      "2743  1.0  0.0  0.0  0.002180  0.109192  0.156485  0.333333  0.165103   normal  \n",
      "195   0.0  0.0  0.0  0.018160  0.041783  0.131381  0.226852  0.188555  anomaly  \n",
      "206   0.0  0.0  0.0  0.043981  0.080780  0.174895  0.342593  0.180738  anomaly  \n",
      "4783  0.0  0.0  0.0  0.155983  0.111978  0.126360  0.458333  0.101001   normal  \n",
      "2815  0.0  0.0  0.0  0.003780  0.109192  0.139749  0.319444  0.152595   normal  \n",
      "2198  0.0  0.0  0.0  0.002180  0.109192  0.159833  0.333333  0.168230   normal  \n",
      "3489  0.0  0.0  0.0  0.000580  0.113092  0.200000  0.300926  0.230769   normal  \n",
      "5744  0.0  0.0  0.0  0.000000  0.230641  0.310460  0.564815  0.207317   normal  \n",
      "6673  0.0  0.0  0.0  0.002980  0.125348  0.191632  0.402778  0.172921   normal  \n",
      "9     0.0  0.0  0.0  0.169983  0.030641  0.032636  0.435185  0.027517  anomaly  \n",
      "6641  0.0  0.0  0.0  0.000660  0.136490  0.268619  0.435185  0.227642   normal  \n",
      "...   ...  ...  ...       ...       ...       ...       ...       ...      ...  \n",
      "3041  0.0  0.0  0.0  0.003780  0.109192  0.163180  0.365741  0.158771   normal  \n",
      "3989  0.0  0.0  0.0  0.000280  0.164345  0.265272  0.351852  0.268293   normal  \n",
      "1187  0.0  0.0  1.0  0.008980  0.109192  0.119665  0.550926  0.080675   normal  \n",
      "2733  0.0  0.0  0.0  0.000100  0.075209  0.211715  0.337963  0.219825   normal  \n",
      "1442  0.0  0.0  0.0  0.000140  0.058496  0.226778  0.291667  0.266729   normal  \n",
      "5671  0.0  0.0  0.0  0.004580  0.142061  0.181590  0.402778  0.160413   normal  \n",
      "3516  0.0  0.0  0.0  0.002180  0.119777  0.183264  0.375000  0.176048   normal  \n",
      "4018  0.0  0.0  0.0  0.003760  0.097493  0.156485  0.351852  0.157286   normal  \n",
      "1406  0.0  0.0  0.0  0.003580  0.113092  0.146444  0.333333  0.154159   normal  \n",
      "117   0.0  0.0  0.0  0.041981  0.075209  0.143096  0.277778  0.176048  anomaly  \n",
      "1118  0.0  0.0  0.0  0.021980  0.109192  0.208368  0.351852  0.210444   normal  \n",
      "5112  0.0  0.0  0.0  0.003760  0.111978  0.181891  0.379630  0.171467   normal  \n",
      "6142  0.0  0.0  0.0  0.005380  0.108635  0.146444  0.351852  0.147905   normal  \n",
      "1036  0.0  0.0  0.0  0.004620  0.075209  0.265272  0.328704  0.282364   normal  \n",
      "1595  0.0  0.0  0.0  0.005580  0.052925  0.136402  0.162037  0.249531   normal  \n",
      "1998  0.0  0.0  0.0  0.003980  0.080780  0.154812  0.231481  0.218261   normal  \n",
      "2263  0.0  0.0  0.0  0.003580  0.086351  0.161506  0.300926  0.185428   normal  \n",
      "2585  0.0  0.0  0.0  0.000100  0.142061  0.290377  0.416667  0.252658   normal  \n",
      "5303  0.0  0.0  0.0  0.000840  0.111978  0.156485  0.328704  0.166667   normal  \n",
      "5828  0.0  0.0  0.0  0.003760  0.111978  0.181891  0.379630  0.171467   normal  \n",
      "4668  0.0  0.0  0.0  0.004140  0.175487  0.263598  0.629630  0.160413   normal  \n",
      "4346  0.0  0.0  0.0  0.000980  0.258496  0.283682  0.768519  0.143215   normal  \n",
      "3006  0.0  0.0  0.0  0.004140  0.109192  0.166527  0.226852  0.238587   normal  \n",
      "819   0.0  0.0  0.0  0.003780  0.091922  0.164854  0.310185  0.183865   normal  \n",
      "2688  0.0  0.0  0.0  0.000640  0.125348  0.124686  0.305556  0.141651   normal  \n",
      "1530  0.0  0.0  0.0  0.003780  0.091922  0.174895  0.421296  0.151032   normal  \n",
      "2797  0.0  0.0  0.0  0.006980  0.109192  0.099582  0.282407  0.121326   normal  \n",
      "3957  0.0  0.0  0.0  0.014580  0.130919  0.106276  0.425926  0.091620   normal  \n",
      "344   0.0  0.0  0.0  0.002980  0.109192  0.151464  0.342593  0.155722   normal  \n",
      "3768  0.0  0.0  0.0  0.000080  0.111978  0.380753  0.402778  0.335522   normal  \n",
      "\n",
      "[6853 rows x 22 columns]\n"
     ]
    }
   ],
   "source": [
    "# ### Skipping normalisation for thyroid dataset. Added by Jyotirmay\n",
    "df_data=normalise(df_data, cols_toNormalize)\n",
    "checkStats(df_data)\n",
    "print(df_data)"
   ]
  },
  {
   "cell_type": "markdown",
   "metadata": {},
   "source": [
    "### One hot encoding of required columns"
   ]
  },
  {
   "cell_type": "code",
   "execution_count": 18,
   "metadata": {},
   "outputs": [],
   "source": [
    "### obtain one hot encoding\n",
    "\n",
    "df_data = pd.get_dummies(df_data, columns=cols_toOneHot)"
   ]
  },
  {
   "cell_type": "markdown",
   "metadata": {},
   "source": [
    "- Check the resulting dataset"
   ]
  },
  {
   "cell_type": "code",
   "execution_count": 19,
   "metadata": {
    "scrolled": true
   },
   "outputs": [
    {
     "data": {
      "text/html": [
       "<div>\n",
       "<style scoped>\n",
       "    .dataframe tbody tr th:only-of-type {\n",
       "        vertical-align: middle;\n",
       "    }\n",
       "\n",
       "    .dataframe tbody tr th {\n",
       "        vertical-align: top;\n",
       "    }\n",
       "\n",
       "    .dataframe thead th {\n",
       "        text-align: right;\n",
       "    }\n",
       "</style>\n",
       "<table border=\"1\" class=\"dataframe\">\n",
       "  <thead>\n",
       "    <tr style=\"text-align: right;\">\n",
       "      <th></th>\n",
       "      <th>age</th>\n",
       "      <th>a</th>\n",
       "      <th>b</th>\n",
       "      <th>c</th>\n",
       "      <th>d</th>\n",
       "      <th>e</th>\n",
       "      <th>f</th>\n",
       "      <th>g</th>\n",
       "      <th>h</th>\n",
       "      <th>i</th>\n",
       "      <th>...</th>\n",
       "      <th>m</th>\n",
       "      <th>n</th>\n",
       "      <th>o</th>\n",
       "      <th>TSH</th>\n",
       "      <th>T3</th>\n",
       "      <th>TT4</th>\n",
       "      <th>T4U</th>\n",
       "      <th>FTI</th>\n",
       "      <th>label_anomaly</th>\n",
       "      <th>label_normal</th>\n",
       "    </tr>\n",
       "  </thead>\n",
       "  <tbody>\n",
       "    <tr>\n",
       "      <th>555</th>\n",
       "      <td>0.416667</td>\n",
       "      <td>0.0</td>\n",
       "      <td>0.0</td>\n",
       "      <td>0.0</td>\n",
       "      <td>0.0</td>\n",
       "      <td>0.0</td>\n",
       "      <td>0.0</td>\n",
       "      <td>0.0</td>\n",
       "      <td>0.0</td>\n",
       "      <td>0.0</td>\n",
       "      <td>...</td>\n",
       "      <td>0.0</td>\n",
       "      <td>0.0</td>\n",
       "      <td>0.0</td>\n",
       "      <td>0.00010</td>\n",
       "      <td>0.109192</td>\n",
       "      <td>0.261925</td>\n",
       "      <td>0.356481</td>\n",
       "      <td>0.260475</td>\n",
       "      <td>0</td>\n",
       "      <td>1</td>\n",
       "    </tr>\n",
       "    <tr>\n",
       "      <th>1173</th>\n",
       "      <td>0.864583</td>\n",
       "      <td>0.0</td>\n",
       "      <td>0.0</td>\n",
       "      <td>0.0</td>\n",
       "      <td>0.0</td>\n",
       "      <td>0.0</td>\n",
       "      <td>0.0</td>\n",
       "      <td>0.0</td>\n",
       "      <td>0.0</td>\n",
       "      <td>0.0</td>\n",
       "      <td>...</td>\n",
       "      <td>1.0</td>\n",
       "      <td>0.0</td>\n",
       "      <td>0.0</td>\n",
       "      <td>0.00798</td>\n",
       "      <td>0.130919</td>\n",
       "      <td>0.201674</td>\n",
       "      <td>0.365741</td>\n",
       "      <td>0.196138</td>\n",
       "      <td>0</td>\n",
       "      <td>1</td>\n",
       "    </tr>\n",
       "    <tr>\n",
       "      <th>3784</th>\n",
       "      <td>0.416667</td>\n",
       "      <td>1.0</td>\n",
       "      <td>0.0</td>\n",
       "      <td>0.0</td>\n",
       "      <td>0.0</td>\n",
       "      <td>0.0</td>\n",
       "      <td>0.0</td>\n",
       "      <td>0.0</td>\n",
       "      <td>0.0</td>\n",
       "      <td>0.0</td>\n",
       "      <td>...</td>\n",
       "      <td>0.0</td>\n",
       "      <td>0.0</td>\n",
       "      <td>0.0</td>\n",
       "      <td>0.00078</td>\n",
       "      <td>0.136490</td>\n",
       "      <td>0.159833</td>\n",
       "      <td>0.388889</td>\n",
       "      <td>0.146341</td>\n",
       "      <td>0</td>\n",
       "      <td>1</td>\n",
       "    </tr>\n",
       "    <tr>\n",
       "      <th>4051</th>\n",
       "      <td>0.666667</td>\n",
       "      <td>0.0</td>\n",
       "      <td>0.0</td>\n",
       "      <td>0.0</td>\n",
       "      <td>0.0</td>\n",
       "      <td>0.0</td>\n",
       "      <td>0.0</td>\n",
       "      <td>0.0</td>\n",
       "      <td>0.0</td>\n",
       "      <td>0.0</td>\n",
       "      <td>...</td>\n",
       "      <td>0.0</td>\n",
       "      <td>0.0</td>\n",
       "      <td>0.0</td>\n",
       "      <td>0.00098</td>\n",
       "      <td>0.111978</td>\n",
       "      <td>0.146444</td>\n",
       "      <td>0.425926</td>\n",
       "      <td>0.126016</td>\n",
       "      <td>0</td>\n",
       "      <td>1</td>\n",
       "    </tr>\n",
       "    <tr>\n",
       "      <th>5743</th>\n",
       "      <td>0.437500</td>\n",
       "      <td>0.0</td>\n",
       "      <td>0.0</td>\n",
       "      <td>0.0</td>\n",
       "      <td>0.0</td>\n",
       "      <td>0.0</td>\n",
       "      <td>0.0</td>\n",
       "      <td>0.0</td>\n",
       "      <td>0.0</td>\n",
       "      <td>0.0</td>\n",
       "      <td>...</td>\n",
       "      <td>0.0</td>\n",
       "      <td>0.0</td>\n",
       "      <td>0.0</td>\n",
       "      <td>0.00438</td>\n",
       "      <td>0.125348</td>\n",
       "      <td>0.141423</td>\n",
       "      <td>0.351852</td>\n",
       "      <td>0.143215</td>\n",
       "      <td>0</td>\n",
       "      <td>1</td>\n",
       "    </tr>\n",
       "  </tbody>\n",
       "</table>\n",
       "<p>5 rows × 23 columns</p>\n",
       "</div>"
      ],
      "text/plain": [
       "           age    a    b    c    d    e    f    g    h    i      ...       \\\n",
       "555   0.416667  0.0  0.0  0.0  0.0  0.0  0.0  0.0  0.0  0.0      ...        \n",
       "1173  0.864583  0.0  0.0  0.0  0.0  0.0  0.0  0.0  0.0  0.0      ...        \n",
       "3784  0.416667  1.0  0.0  0.0  0.0  0.0  0.0  0.0  0.0  0.0      ...        \n",
       "4051  0.666667  0.0  0.0  0.0  0.0  0.0  0.0  0.0  0.0  0.0      ...        \n",
       "5743  0.437500  0.0  0.0  0.0  0.0  0.0  0.0  0.0  0.0  0.0      ...        \n",
       "\n",
       "        m    n    o      TSH        T3       TT4       T4U       FTI  \\\n",
       "555   0.0  0.0  0.0  0.00010  0.109192  0.261925  0.356481  0.260475   \n",
       "1173  1.0  0.0  0.0  0.00798  0.130919  0.201674  0.365741  0.196138   \n",
       "3784  0.0  0.0  0.0  0.00078  0.136490  0.159833  0.388889  0.146341   \n",
       "4051  0.0  0.0  0.0  0.00098  0.111978  0.146444  0.425926  0.126016   \n",
       "5743  0.0  0.0  0.0  0.00438  0.125348  0.141423  0.351852  0.143215   \n",
       "\n",
       "      label_anomaly  label_normal  \n",
       "555               0             1  \n",
       "1173              0             1  \n",
       "3784              0             1  \n",
       "4051              0             1  \n",
       "5743              0             1  \n",
       "\n",
       "[5 rows x 23 columns]"
      ]
     },
     "execution_count": 19,
     "metadata": {},
     "output_type": "execute_result"
    }
   ],
   "source": [
    "df_data.head()"
   ]
  },
  {
   "cell_type": "code",
   "execution_count": 20,
   "metadata": {},
   "outputs": [
    {
     "data": {
      "text/plain": [
       "(6853, 23)"
      ]
     },
     "execution_count": 20,
     "metadata": {},
     "output_type": "execute_result"
    }
   ],
   "source": [
    "### shape is correct\n",
    "\n",
    "df_data.shape"
   ]
  },
  {
   "cell_type": "code",
   "execution_count": 21,
   "metadata": {
    "scrolled": true
   },
   "outputs": [
    {
     "data": {
      "text/html": [
       "<div>\n",
       "<style scoped>\n",
       "    .dataframe tbody tr th:only-of-type {\n",
       "        vertical-align: middle;\n",
       "    }\n",
       "\n",
       "    .dataframe tbody tr th {\n",
       "        vertical-align: top;\n",
       "    }\n",
       "\n",
       "    .dataframe thead th {\n",
       "        text-align: right;\n",
       "    }\n",
       "</style>\n",
       "<table border=\"1\" class=\"dataframe\">\n",
       "  <thead>\n",
       "    <tr style=\"text-align: right;\">\n",
       "      <th></th>\n",
       "      <th>age</th>\n",
       "      <th>a</th>\n",
       "      <th>b</th>\n",
       "      <th>c</th>\n",
       "      <th>d</th>\n",
       "      <th>e</th>\n",
       "      <th>f</th>\n",
       "      <th>g</th>\n",
       "      <th>h</th>\n",
       "      <th>i</th>\n",
       "      <th>...</th>\n",
       "      <th>m</th>\n",
       "      <th>n</th>\n",
       "      <th>o</th>\n",
       "      <th>TSH</th>\n",
       "      <th>T3</th>\n",
       "      <th>TT4</th>\n",
       "      <th>T4U</th>\n",
       "      <th>FTI</th>\n",
       "      <th>label_anomaly</th>\n",
       "      <th>label_normal</th>\n",
       "    </tr>\n",
       "  </thead>\n",
       "  <tbody>\n",
       "    <tr>\n",
       "      <th>count</th>\n",
       "      <td>6853.000000</td>\n",
       "      <td>6853.000000</td>\n",
       "      <td>6853.000000</td>\n",
       "      <td>6853.000000</td>\n",
       "      <td>6853.000000</td>\n",
       "      <td>6853.000000</td>\n",
       "      <td>6853.000000</td>\n",
       "      <td>6853.000000</td>\n",
       "      <td>6853.000000</td>\n",
       "      <td>6853.000000</td>\n",
       "      <td>...</td>\n",
       "      <td>6853.000000</td>\n",
       "      <td>6853.000000</td>\n",
       "      <td>6853.000000</td>\n",
       "      <td>6853.000000</td>\n",
       "      <td>6853.000000</td>\n",
       "      <td>6853.000000</td>\n",
       "      <td>6853.000000</td>\n",
       "      <td>6853.000000</td>\n",
       "      <td>6853.000000</td>\n",
       "      <td>6853.000000</td>\n",
       "    </tr>\n",
       "    <tr>\n",
       "      <th>mean</th>\n",
       "      <td>0.531639</td>\n",
       "      <td>0.307603</td>\n",
       "      <td>0.133810</td>\n",
       "      <td>0.015614</td>\n",
       "      <td>0.013133</td>\n",
       "      <td>0.038523</td>\n",
       "      <td>0.011382</td>\n",
       "      <td>0.014154</td>\n",
       "      <td>0.016781</td>\n",
       "      <td>0.062892</td>\n",
       "      <td>...</td>\n",
       "      <td>0.025536</td>\n",
       "      <td>0.000146</td>\n",
       "      <td>0.049759</td>\n",
       "      <td>0.006882</td>\n",
       "      <td>0.109418</td>\n",
       "      <td>0.181021</td>\n",
       "      <td>0.373549</td>\n",
       "      <td>0.175391</td>\n",
       "      <td>0.036480</td>\n",
       "      <td>0.963520</td>\n",
       "    </tr>\n",
       "    <tr>\n",
       "      <th>std</th>\n",
       "      <td>0.197355</td>\n",
       "      <td>0.461535</td>\n",
       "      <td>0.340473</td>\n",
       "      <td>0.123984</td>\n",
       "      <td>0.113852</td>\n",
       "      <td>0.192470</td>\n",
       "      <td>0.106085</td>\n",
       "      <td>0.118136</td>\n",
       "      <td>0.128459</td>\n",
       "      <td>0.242787</td>\n",
       "      <td>...</td>\n",
       "      <td>0.157759</td>\n",
       "      <td>0.012080</td>\n",
       "      <td>0.217463</td>\n",
       "      <td>0.032760</td>\n",
       "      <td>0.041514</td>\n",
       "      <td>0.058611</td>\n",
       "      <td>0.088393</td>\n",
       "      <td>0.054680</td>\n",
       "      <td>0.187496</td>\n",
       "      <td>0.187496</td>\n",
       "    </tr>\n",
       "    <tr>\n",
       "      <th>min</th>\n",
       "      <td>0.000000</td>\n",
       "      <td>0.000000</td>\n",
       "      <td>0.000000</td>\n",
       "      <td>0.000000</td>\n",
       "      <td>0.000000</td>\n",
       "      <td>0.000000</td>\n",
       "      <td>0.000000</td>\n",
       "      <td>0.000000</td>\n",
       "      <td>0.000000</td>\n",
       "      <td>0.000000</td>\n",
       "      <td>...</td>\n",
       "      <td>0.000000</td>\n",
       "      <td>0.000000</td>\n",
       "      <td>0.000000</td>\n",
       "      <td>0.000000</td>\n",
       "      <td>0.000000</td>\n",
       "      <td>0.000000</td>\n",
       "      <td>0.000000</td>\n",
       "      <td>0.000000</td>\n",
       "      <td>0.000000</td>\n",
       "      <td>0.000000</td>\n",
       "    </tr>\n",
       "    <tr>\n",
       "      <th>25%</th>\n",
       "      <td>0.375000</td>\n",
       "      <td>0.000000</td>\n",
       "      <td>0.000000</td>\n",
       "      <td>0.000000</td>\n",
       "      <td>0.000000</td>\n",
       "      <td>0.000000</td>\n",
       "      <td>0.000000</td>\n",
       "      <td>0.000000</td>\n",
       "      <td>0.000000</td>\n",
       "      <td>0.000000</td>\n",
       "      <td>...</td>\n",
       "      <td>0.000000</td>\n",
       "      <td>0.000000</td>\n",
       "      <td>0.000000</td>\n",
       "      <td>0.001380</td>\n",
       "      <td>0.091922</td>\n",
       "      <td>0.146444</td>\n",
       "      <td>0.324074</td>\n",
       "      <td>0.146341</td>\n",
       "      <td>0.000000</td>\n",
       "      <td>1.000000</td>\n",
       "    </tr>\n",
       "    <tr>\n",
       "      <th>50%</th>\n",
       "      <td>0.552083</td>\n",
       "      <td>0.000000</td>\n",
       "      <td>0.000000</td>\n",
       "      <td>0.000000</td>\n",
       "      <td>0.000000</td>\n",
       "      <td>0.000000</td>\n",
       "      <td>0.000000</td>\n",
       "      <td>0.000000</td>\n",
       "      <td>0.000000</td>\n",
       "      <td>0.000000</td>\n",
       "      <td>...</td>\n",
       "      <td>0.000000</td>\n",
       "      <td>0.000000</td>\n",
       "      <td>0.000000</td>\n",
       "      <td>0.003180</td>\n",
       "      <td>0.109192</td>\n",
       "      <td>0.174895</td>\n",
       "      <td>0.365741</td>\n",
       "      <td>0.171357</td>\n",
       "      <td>0.000000</td>\n",
       "      <td>1.000000</td>\n",
       "    </tr>\n",
       "    <tr>\n",
       "      <th>75%</th>\n",
       "      <td>0.687500</td>\n",
       "      <td>1.000000</td>\n",
       "      <td>0.000000</td>\n",
       "      <td>0.000000</td>\n",
       "      <td>0.000000</td>\n",
       "      <td>0.000000</td>\n",
       "      <td>0.000000</td>\n",
       "      <td>0.000000</td>\n",
       "      <td>0.000000</td>\n",
       "      <td>0.000000</td>\n",
       "      <td>...</td>\n",
       "      <td>0.000000</td>\n",
       "      <td>0.000000</td>\n",
       "      <td>0.000000</td>\n",
       "      <td>0.004780</td>\n",
       "      <td>0.119777</td>\n",
       "      <td>0.206695</td>\n",
       "      <td>0.402778</td>\n",
       "      <td>0.194809</td>\n",
       "      <td>0.000000</td>\n",
       "      <td>1.000000</td>\n",
       "    </tr>\n",
       "    <tr>\n",
       "      <th>max</th>\n",
       "      <td>1.000000</td>\n",
       "      <td>1.000000</td>\n",
       "      <td>1.000000</td>\n",
       "      <td>1.000000</td>\n",
       "      <td>1.000000</td>\n",
       "      <td>1.000000</td>\n",
       "      <td>1.000000</td>\n",
       "      <td>1.000000</td>\n",
       "      <td>1.000000</td>\n",
       "      <td>1.000000</td>\n",
       "      <td>...</td>\n",
       "      <td>1.000000</td>\n",
       "      <td>1.000000</td>\n",
       "      <td>1.000000</td>\n",
       "      <td>1.000000</td>\n",
       "      <td>1.000000</td>\n",
       "      <td>1.000000</td>\n",
       "      <td>1.000000</td>\n",
       "      <td>1.000000</td>\n",
       "      <td>1.000000</td>\n",
       "      <td>1.000000</td>\n",
       "    </tr>\n",
       "  </tbody>\n",
       "</table>\n",
       "<p>8 rows × 23 columns</p>\n",
       "</div>"
      ],
      "text/plain": [
       "               age            a            b            c            d  \\\n",
       "count  6853.000000  6853.000000  6853.000000  6853.000000  6853.000000   \n",
       "mean      0.531639     0.307603     0.133810     0.015614     0.013133   \n",
       "std       0.197355     0.461535     0.340473     0.123984     0.113852   \n",
       "min       0.000000     0.000000     0.000000     0.000000     0.000000   \n",
       "25%       0.375000     0.000000     0.000000     0.000000     0.000000   \n",
       "50%       0.552083     0.000000     0.000000     0.000000     0.000000   \n",
       "75%       0.687500     1.000000     0.000000     0.000000     0.000000   \n",
       "max       1.000000     1.000000     1.000000     1.000000     1.000000   \n",
       "\n",
       "                 e            f            g            h            i  \\\n",
       "count  6853.000000  6853.000000  6853.000000  6853.000000  6853.000000   \n",
       "mean      0.038523     0.011382     0.014154     0.016781     0.062892   \n",
       "std       0.192470     0.106085     0.118136     0.128459     0.242787   \n",
       "min       0.000000     0.000000     0.000000     0.000000     0.000000   \n",
       "25%       0.000000     0.000000     0.000000     0.000000     0.000000   \n",
       "50%       0.000000     0.000000     0.000000     0.000000     0.000000   \n",
       "75%       0.000000     0.000000     0.000000     0.000000     0.000000   \n",
       "max       1.000000     1.000000     1.000000     1.000000     1.000000   \n",
       "\n",
       "           ...                 m            n            o          TSH  \\\n",
       "count      ...       6853.000000  6853.000000  6853.000000  6853.000000   \n",
       "mean       ...          0.025536     0.000146     0.049759     0.006882   \n",
       "std        ...          0.157759     0.012080     0.217463     0.032760   \n",
       "min        ...          0.000000     0.000000     0.000000     0.000000   \n",
       "25%        ...          0.000000     0.000000     0.000000     0.001380   \n",
       "50%        ...          0.000000     0.000000     0.000000     0.003180   \n",
       "75%        ...          0.000000     0.000000     0.000000     0.004780   \n",
       "max        ...          1.000000     1.000000     1.000000     1.000000   \n",
       "\n",
       "                T3          TT4          T4U          FTI  label_anomaly  \\\n",
       "count  6853.000000  6853.000000  6853.000000  6853.000000    6853.000000   \n",
       "mean      0.109418     0.181021     0.373549     0.175391       0.036480   \n",
       "std       0.041514     0.058611     0.088393     0.054680       0.187496   \n",
       "min       0.000000     0.000000     0.000000     0.000000       0.000000   \n",
       "25%       0.091922     0.146444     0.324074     0.146341       0.000000   \n",
       "50%       0.109192     0.174895     0.365741     0.171357       0.000000   \n",
       "75%       0.119777     0.206695     0.402778     0.194809       0.000000   \n",
       "max       1.000000     1.000000     1.000000     1.000000       1.000000   \n",
       "\n",
       "       label_normal  \n",
       "count   6853.000000  \n",
       "mean       0.963520  \n",
       "std        0.187496  \n",
       "min        0.000000  \n",
       "25%        1.000000  \n",
       "50%        1.000000  \n",
       "75%        1.000000  \n",
       "max        1.000000  \n",
       "\n",
       "[8 rows x 23 columns]"
      ]
     },
     "execution_count": 21,
     "metadata": {},
     "output_type": "execute_result"
    }
   ],
   "source": [
    "df_data.describe()"
   ]
  },
  {
   "cell_type": "code",
   "execution_count": 22,
   "metadata": {
    "scrolled": true
   },
   "outputs": [
    {
     "name": "stdout",
     "output_type": "stream",
     "text": [
      "column:0 min:0.000000 max:1.000000 std:0.197341\n",
      "column:1 min:0.000000 max:1.000000 std:0.461501\n",
      "column:2 min:0.000000 max:1.000000 std:0.340448\n",
      "column:3 min:0.000000 max:1.000000 std:0.123975\n",
      "column:4 min:0.000000 max:1.000000 std:0.113844\n",
      "column:5 min:0.000000 max:1.000000 std:0.192456\n",
      "column:6 min:0.000000 max:1.000000 std:0.106077\n",
      "column:7 min:0.000000 max:1.000000 std:0.118127\n",
      "column:8 min:0.000000 max:1.000000 std:0.128450\n",
      "column:9 min:0.000000 max:1.000000 std:0.242769\n",
      "column:10 min:0.000000 max:1.000000 std:0.254232\n",
      "column:11 min:0.000000 max:1.000000 std:0.113218\n",
      "column:12 min:0.000000 max:1.000000 std:0.092386\n",
      "column:13 min:0.000000 max:1.000000 std:0.157747\n",
      "column:14 min:0.000000 max:1.000000 std:0.012079\n",
      "column:15 min:0.000000 max:1.000000 std:0.217447\n",
      "column:16 min:0.000000 max:1.000000 std:0.032758\n",
      "column:17 min:0.000000 max:1.000000 std:0.041511\n",
      "column:18 min:0.000000 max:1.000000 std:0.058607\n",
      "column:19 min:0.000000 max:1.000000 std:0.088386\n",
      "column:20 min:0.000000 max:1.000000 std:0.054676\n",
      "column:21 min:0.000000 max:1.000000 std:0.187482\n",
      "column:22 min:0.000000 max:1.000000 std:0.187482\n"
     ]
    }
   ],
   "source": [
    "### check again\n",
    "\n",
    "checkStats(df_data)"
   ]
  },
  {
   "cell_type": "code",
   "execution_count": 23,
   "metadata": {},
   "outputs": [
    {
     "name": "stdout",
     "output_type": "stream",
     "text": [
      "False\n",
      "False\n"
     ]
    }
   ],
   "source": [
    "## check integrity of the data again\n",
    "\n",
    "print(df_data.isnull().values.any())\n",
    "\n",
    "print(df_data.isna().values.any())"
   ]
  },
  {
   "cell_type": "code",
   "execution_count": 24,
   "metadata": {
    "scrolled": true
   },
   "outputs": [
    {
     "name": "stdout",
     "output_type": "stream",
     "text": [
      "3609    1\n",
      "2861    1\n",
      "3868    1\n",
      "489     1\n",
      "5689    1\n",
      "3669    1\n",
      "794     1\n",
      "3878    1\n",
      "2984    1\n",
      "5862    1\n",
      "Name: label_normal, dtype: uint8\n",
      "3609    0\n",
      "2861    0\n",
      "3868    0\n",
      "489     0\n",
      "5689    0\n",
      "3669    0\n",
      "794     0\n",
      "3878    0\n",
      "2984    0\n",
      "5862    0\n",
      "Name: label_anomaly, dtype: uint8\n",
      "3609    n\n",
      "2861    n\n",
      "3868    n\n",
      "489     n\n",
      "5689    n\n",
      "3669    n\n",
      "794     n\n",
      "3878    n\n",
      "2984    n\n",
      "5862    n\n",
      "Name: labels, dtype: object\n"
     ]
    }
   ],
   "source": [
    "### check again\n",
    "print(df_data.iloc[740:750, -1])\n",
    "\n",
    "print(df_data.iloc[740:750, -2])\n",
    "\n",
    "print(df_labels.iloc[740:750, -1])"
   ]
  },
  {
   "cell_type": "markdown",
   "metadata": {},
   "source": [
    "### Save dataset"
   ]
  },
  {
   "cell_type": "code",
   "execution_count": 25,
   "metadata": {},
   "outputs": [],
   "source": [
    "dataset = df_data.values"
   ]
  },
  {
   "cell_type": "code",
   "execution_count": 26,
   "metadata": {},
   "outputs": [
    {
     "data": {
      "text/plain": [
       "(6853, 23)"
      ]
     },
     "execution_count": 26,
     "metadata": {},
     "output_type": "execute_result"
    }
   ],
   "source": [
    "dataset.shape"
   ]
  },
  {
   "cell_type": "code",
   "execution_count": 27,
   "metadata": {},
   "outputs": [],
   "source": [
    "np.savez_compressed(\"../../datasets/thyroid/thyroid.npz\", dataset=dataset)"
   ]
  },
  {
   "cell_type": "markdown",
   "metadata": {},
   "source": [
    "### Produce train and test splits"
   ]
  },
  {
   "cell_type": "code",
   "execution_count": 28,
   "metadata": {},
   "outputs": [],
   "source": [
    "random_state = None"
   ]
  },
  {
   "cell_type": "code",
   "execution_count": 29,
   "metadata": {},
   "outputs": [],
   "source": [
    "from sklearn.model_selection import train_test_split\n",
    "\n",
    "x_train, x_test = train_test_split(dataset, test_size=0.5, random_state=random_state)"
   ]
  },
  {
   "cell_type": "code",
   "execution_count": 30,
   "metadata": {},
   "outputs": [
    {
     "data": {
      "text/plain": [
       "(3426, 23)"
      ]
     },
     "execution_count": 30,
     "metadata": {},
     "output_type": "execute_result"
    }
   ],
   "source": [
    "x_train.shape"
   ]
  },
  {
   "cell_type": "code",
   "execution_count": 31,
   "metadata": {},
   "outputs": [
    {
     "data": {
      "text/plain": [
       "(3427, 23)"
      ]
     },
     "execution_count": 31,
     "metadata": {},
     "output_type": "execute_result"
    }
   ],
   "source": [
    "x_test.shape"
   ]
  },
  {
   "cell_type": "markdown",
   "metadata": {},
   "source": [
    "-  Normal class is anomaly (attack) in this case, because non-attack rows are minority"
   ]
  },
  {
   "cell_type": "code",
   "execution_count": 32,
   "metadata": {},
   "outputs": [],
   "source": [
    "x_train_normal = x_train[np.where(x_train[:,-1] == 1)]   ##last column is the normal column\n",
    "x_train_anomaly = x_train[np.where(x_train[:,-1] == 0)]   "
   ]
  },
  {
   "cell_type": "code",
   "execution_count": 33,
   "metadata": {},
   "outputs": [
    {
     "data": {
      "text/plain": [
       "(3301, 23)"
      ]
     },
     "execution_count": 33,
     "metadata": {},
     "output_type": "execute_result"
    }
   ],
   "source": [
    "x_train_normal.shape"
   ]
  },
  {
   "cell_type": "code",
   "execution_count": 34,
   "metadata": {},
   "outputs": [
    {
     "data": {
      "text/plain": [
       "(125, 23)"
      ]
     },
     "execution_count": 34,
     "metadata": {},
     "output_type": "execute_result"
    }
   ],
   "source": [
    "x_train_anomaly.shape   "
   ]
  },
  {
   "cell_type": "code",
   "execution_count": 35,
   "metadata": {},
   "outputs": [],
   "source": [
    "x_train = x_train_normal"
   ]
  },
  {
   "cell_type": "markdown",
   "metadata": {},
   "source": [
    "- x_train consist of \"normal\" values"
   ]
  },
  {
   "cell_type": "code",
   "execution_count": 36,
   "metadata": {},
   "outputs": [
    {
     "data": {
      "text/plain": [
       "(3301, 23)"
      ]
     },
     "execution_count": 36,
     "metadata": {},
     "output_type": "execute_result"
    }
   ],
   "source": [
    "x_train.shape"
   ]
  },
  {
   "cell_type": "code",
   "execution_count": 37,
   "metadata": {},
   "outputs": [
    {
     "data": {
      "text/plain": [
       "(3427, 23)"
      ]
     },
     "execution_count": 37,
     "metadata": {},
     "output_type": "execute_result"
    }
   ],
   "source": [
    "x_test.shape"
   ]
  },
  {
   "cell_type": "markdown",
   "metadata": {},
   "source": [
    "- Assign arbitrary output as labels"
   ]
  },
  {
   "cell_type": "code",
   "execution_count": 38,
   "metadata": {},
   "outputs": [
    {
     "data": {
      "text/plain": [
       "(3301, 2)"
      ]
     },
     "execution_count": 38,
     "metadata": {},
     "output_type": "execute_result"
    }
   ],
   "source": [
    "y_train = np.zeros((len(x_train),2))\n",
    "y_train[:,0] = 1\n",
    "y_train.shape"
   ]
  },
  {
   "cell_type": "code",
   "execution_count": 39,
   "metadata": {},
   "outputs": [],
   "source": [
    "train_name = \"../../datasets/thyroid/thyroid_train-randomState_\"+str(random_state)+\".npz\"\n",
    "test_name = \"../../datasets/thyroid/thyroid_test-randomState_\"+str(random_state)+\".npz\"\n",
    "\n",
    "np.savez_compressed(train_name, x_train=x_train, y_train=y_train)\n",
    "np.savez_compressed(test_name, x_test=x_test)"
   ]
  }
 ],
 "metadata": {
  "kernelspec": {
   "display_name": "Python 3",
   "language": "python",
   "name": "python3"
  },
  "language_info": {
   "codemirror_mode": {
    "name": "ipython",
    "version": 3
   },
   "file_extension": ".py",
   "mimetype": "text/x-python",
   "name": "python",
   "nbconvert_exporter": "python",
   "pygments_lexer": "ipython3",
   "version": "3.6.4"
  }
 },
 "nbformat": 4,
 "nbformat_minor": 2
}
