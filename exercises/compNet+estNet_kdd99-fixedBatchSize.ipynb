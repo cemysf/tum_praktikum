{
 "cells": [
  {
   "cell_type": "markdown",
   "metadata": {},
   "source": [
    "### End to end train both networks"
   ]
  },
  {
   "cell_type": "code",
   "execution_count": 1,
   "metadata": {
    "scrolled": true
   },
   "outputs": [
    {
     "name": "stderr",
     "output_type": "stream",
     "text": [
      "/home/cya/anaconda3/envs/tensorflow/lib/python3.6/site-packages/h5py/__init__.py:36: FutureWarning: Conversion of the second argument of issubdtype from `float` to `np.floating` is deprecated. In future, it will be treated as `np.float64 == np.dtype(float).type`.\n",
      "  from ._conv import register_converters as _register_converters\n",
      "Using TensorFlow backend.\n"
     ]
    }
   ],
   "source": [
    "from keras.layers import Input, Dense, Activation, Lambda, Dropout, Concatenate, Reshape\n",
    "from keras.models import Model, Sequential\n",
    "from keras.callbacks import TensorBoard\n",
    "from keras import optimizers\n",
    "from keras import backend as K\n",
    "\n",
    "import tensorflow as tf\n",
    "\n",
    "from keras.regularizers import l2\n"
   ]
  },
  {
   "cell_type": "code",
   "execution_count": 2,
   "metadata": {},
   "outputs": [],
   "source": [
    "### Hyperparameters\n",
    "\n",
    "experiment_id = 0\n",
    "\n",
    "learning_rate = 0.0001\n",
    "\n",
    "epochs = [200, 20000, 10000, 4000]\n",
    "batch_sizes = [1024, 1024, 128, 1024]\n",
    "\n",
    "lambda_1 = 0.1       ### TODO\n",
    "lambda_2 = 0.005     ### TODO\n",
    "\n",
    "#################\n",
    "\n",
    "epoch = epochs[experiment_id]\n",
    "batch_size = batch_sizes[experiment_id]"
   ]
  },
  {
   "cell_type": "markdown",
   "metadata": {},
   "source": [
    "### Define compresion network"
   ]
  },
  {
   "cell_type": "code",
   "execution_count": 3,
   "metadata": {},
   "outputs": [],
   "source": [
    "input_data = Input(batch_shape=(batch_size,120), name='input')\n",
    "\n",
    "encoded = Dense(60, activation='tanh', kernel_regularizer=l2(0.00001), bias_regularizer=l2(0.00001))(input_data)\n",
    "encoded = Dense(30, activation='tanh', kernel_regularizer=l2(0.00001), bias_regularizer=l2(0.00001))(encoded)\n",
    "encoded = Dense(10, activation='tanh', kernel_regularizer=l2(0.00001), bias_regularizer=l2(0.00001))(encoded)\n",
    "\n",
    "low_dim = Dense(1, activation='linear', kernel_regularizer=l2(0.00001), bias_regularizer=l2(0.00001), name='lowdim')(encoded)\n",
    "\n",
    "decoded = Dense(10, activation='tanh', kernel_regularizer=l2(0.00001), bias_regularizer=l2(0.00001))(low_dim)\n",
    "decoded = Dense(30, activation='tanh', kernel_regularizer=l2(0.00001), bias_regularizer=l2(0.00001))(decoded)\n",
    "decoded = Dense(60, activation='tanh', kernel_regularizer=l2(0.00001), bias_regularizer=l2(0.00001))(decoded)\n",
    "decoded = Dense(120, activation='linear', kernel_regularizer=l2(0.00001), bias_regularizer=l2(0.00001), name='reconstructed')(decoded)\n",
    "\n"
   ]
  },
  {
   "cell_type": "markdown",
   "metadata": {},
   "source": [
    "- Define similarity metrics"
   ]
  },
  {
   "cell_type": "code",
   "execution_count": 4,
   "metadata": {},
   "outputs": [],
   "source": [
    "def cos_sim(a_b):\n",
    "    '''\n",
    "    a: batch x 120\n",
    "    b: batch x 120 \n",
    "    \n",
    "    output: batch x 1\n",
    "    '''\n",
    "    a, b = a_b\n",
    "    \n",
    "    norm_a = K.sqrt(K.sum(a ** 2, axis=-1))\n",
    "    norm_b = K.sqrt(K.sum(b ** 2, axis=-1))\n",
    "    \n",
    "    out = K.sum(a * b, axis=-1) / (norm_a * norm_b)\n",
    "    out = K.reshape(out, [batch_size, 1])\n",
    "    \n",
    "    return out\n",
    "\n",
    "def relative_euc_dist(a_b):\n",
    "    '''\n",
    "    a: batch x 120\n",
    "    b: batch x 120 \n",
    "    \n",
    "    output: batch x 1\n",
    "    '''\n",
    "    a,b = a_b\n",
    "    \n",
    "    norm_diff = K.sqrt(K.sum((a - b)**2, axis=-1))\n",
    "    norm_a = K.sqrt(K.sum(a ** 2, axis=-1))\n",
    "    \n",
    "    out = norm_diff / norm_a\n",
    "    out = K.reshape(out, [batch_size, 1])\n",
    "\n",
    "    return out"
   ]
  },
  {
   "cell_type": "code",
   "execution_count": 5,
   "metadata": {},
   "outputs": [],
   "source": [
    "layer_cossim = Lambda(cos_sim,\n",
    "                      name='cos_sim')([input_data, decoded])"
   ]
  },
  {
   "cell_type": "code",
   "execution_count": 6,
   "metadata": {},
   "outputs": [
    {
     "data": {
      "text/plain": [
       "<tf.Tensor 'cos_sim/Reshape:0' shape=(1024, 1) dtype=float32>"
      ]
     },
     "execution_count": 6,
     "metadata": {},
     "output_type": "execute_result"
    }
   ],
   "source": [
    "layer_cossim"
   ]
  },
  {
   "cell_type": "code",
   "execution_count": 7,
   "metadata": {},
   "outputs": [],
   "source": [
    "layer_relativeEuc = Lambda(relative_euc_dist, \n",
    "                           name='relative_euc_dist')([input_data, decoded])"
   ]
  },
  {
   "cell_type": "code",
   "execution_count": 8,
   "metadata": {},
   "outputs": [
    {
     "data": {
      "text/plain": [
       "<tf.Tensor 'relative_euc_dist/Reshape:0' shape=(1024, 1) dtype=float32>"
      ]
     },
     "execution_count": 8,
     "metadata": {},
     "output_type": "execute_result"
    }
   ],
   "source": [
    "layer_relativeEuc"
   ]
  },
  {
   "cell_type": "markdown",
   "metadata": {},
   "source": [
    "- No need to reshape low_dim"
   ]
  },
  {
   "cell_type": "code",
   "execution_count": 9,
   "metadata": {},
   "outputs": [
    {
     "data": {
      "text/plain": [
       "<tf.Tensor 'lowdim/BiasAdd:0' shape=(1024, 1) dtype=float32>"
      ]
     },
     "execution_count": 9,
     "metadata": {},
     "output_type": "execute_result"
    }
   ],
   "source": [
    "low_dim"
   ]
  },
  {
   "cell_type": "markdown",
   "metadata": {},
   "source": [
    "- Obtain \"z\""
   ]
  },
  {
   "cell_type": "code",
   "execution_count": 10,
   "metadata": {},
   "outputs": [],
   "source": [
    "def funct_concat(tensors):\n",
    "    return K.concatenate(tensors)\n",
    "\n",
    "layer_concat = Lambda(funct_concat, name=\"z\")([low_dim, layer_cossim, layer_relativeEuc])"
   ]
  },
  {
   "cell_type": "code",
   "execution_count": 11,
   "metadata": {},
   "outputs": [
    {
     "data": {
      "text/plain": [
       "<tf.Tensor 'z/concat:0' shape=(1024, 3) dtype=float32>"
      ]
     },
     "execution_count": 11,
     "metadata": {},
     "output_type": "execute_result"
    }
   ],
   "source": [
    "layer_concat"
   ]
  },
  {
   "cell_type": "markdown",
   "metadata": {},
   "source": [
    "### Define estimation network"
   ]
  },
  {
   "cell_type": "code",
   "execution_count": 12,
   "metadata": {},
   "outputs": [],
   "source": [
    "input_est = layer_concat #Input(shape=(3,))(layer_concat)\n",
    "\n",
    "est_layer = Dense(10, activation='tanh', kernel_regularizer=l2(0.00001), bias_regularizer=l2(0.00001))(input_est)   ####(input_est)\n",
    "est_layer = Dropout(0.5)(est_layer)\n",
    "est_output = Dense(4, activation='softmax', kernel_regularizer=l2(0.00001), bias_regularizer=l2(0.00001))(est_layer)\n"
   ]
  },
  {
   "cell_type": "markdown",
   "metadata": {},
   "source": [
    "### Build full network"
   ]
  },
  {
   "cell_type": "code",
   "execution_count": 13,
   "metadata": {},
   "outputs": [
    {
     "name": "stderr",
     "output_type": "stream",
     "text": [
      "/home/cya/anaconda3/envs/tensorflow/lib/python3.6/site-packages/ipykernel_launcher.py:1: UserWarning: Update your `Model` call to the Keras 2 API: `Model(outputs=Tensor(\"de..., inputs=Tensor(\"in...)`\n",
      "  \"\"\"Entry point for launching an IPython kernel.\n"
     ]
    }
   ],
   "source": [
    "full_network = Model(input=input_data, outputs=est_output)"
   ]
  },
  {
   "cell_type": "code",
   "execution_count": 14,
   "metadata": {},
   "outputs": [
    {
     "name": "stdout",
     "output_type": "stream",
     "text": [
      "__________________________________________________________________________________________________\n",
      "Layer (type)                    Output Shape         Param #     Connected to                     \n",
      "==================================================================================================\n",
      "input (InputLayer)              (1024, 120)          0                                            \n",
      "__________________________________________________________________________________________________\n",
      "dense_1 (Dense)                 (1024, 60)           7260        input[0][0]                      \n",
      "__________________________________________________________________________________________________\n",
      "dense_2 (Dense)                 (1024, 30)           1830        dense_1[0][0]                    \n",
      "__________________________________________________________________________________________________\n",
      "dense_3 (Dense)                 (1024, 10)           310         dense_2[0][0]                    \n",
      "__________________________________________________________________________________________________\n",
      "lowdim (Dense)                  (1024, 1)            11          dense_3[0][0]                    \n",
      "__________________________________________________________________________________________________\n",
      "dense_4 (Dense)                 (1024, 10)           20          lowdim[0][0]                     \n",
      "__________________________________________________________________________________________________\n",
      "dense_5 (Dense)                 (1024, 30)           330         dense_4[0][0]                    \n",
      "__________________________________________________________________________________________________\n",
      "dense_6 (Dense)                 (1024, 60)           1860        dense_5[0][0]                    \n",
      "__________________________________________________________________________________________________\n",
      "reconstructed (Dense)           (1024, 120)          7320        dense_6[0][0]                    \n",
      "__________________________________________________________________________________________________\n",
      "cos_sim (Lambda)                (1024, 1)            0           input[0][0]                      \n",
      "                                                                 reconstructed[0][0]              \n",
      "__________________________________________________________________________________________________\n",
      "relative_euc_dist (Lambda)      (1024, 1)            0           input[0][0]                      \n",
      "                                                                 reconstructed[0][0]              \n",
      "__________________________________________________________________________________________________\n",
      "z (Lambda)                      (1024, 3)            0           lowdim[0][0]                     \n",
      "                                                                 cos_sim[0][0]                    \n",
      "                                                                 relative_euc_dist[0][0]          \n",
      "__________________________________________________________________________________________________\n",
      "dense_7 (Dense)                 (1024, 10)           40          z[0][0]                          \n",
      "__________________________________________________________________________________________________\n",
      "dropout_1 (Dropout)             (1024, 10)           0           dense_7[0][0]                    \n",
      "__________________________________________________________________________________________________\n",
      "dense_8 (Dense)                 (1024, 4)            44          dropout_1[0][0]                  \n",
      "==================================================================================================\n",
      "Total params: 19,025\n",
      "Trainable params: 19,025\n",
      "Non-trainable params: 0\n",
      "__________________________________________________________________________________________________\n"
     ]
    }
   ],
   "source": [
    "full_network.summary()"
   ]
  },
  {
   "cell_type": "code",
   "execution_count": 15,
   "metadata": {},
   "outputs": [
    {
     "data": {
      "image/png": "[encoded data removed]",
      "text/plain": [
       "<IPython.core.display.Image object>"
      ]
     },
     "execution_count": 15,
     "metadata": {},
     "output_type": "execute_result"
    }
   ],
   "source": [
    "### model visualization\n",
    "from keras.utils import plot_model\n",
    "\n",
    "\n",
    "model = full_network\n",
    "\n",
    "plot_model(model, to_file='model.png', show_layer_names=True, show_shapes=True)\n",
    "\n",
    "from IPython.display import Image\n",
    "Image(filename='model.png') "
   ]
  },
  {
   "cell_type": "markdown",
   "metadata": {},
   "source": [
    "### Load already saved dataset"
   ]
  },
  {
   "cell_type": "code",
   "execution_count": 16,
   "metadata": {},
   "outputs": [],
   "source": [
    "import numpy as np"
   ]
  },
  {
   "cell_type": "code",
   "execution_count": 17,
   "metadata": {},
   "outputs": [],
   "source": [
    "with np.load('kdd99_train_test.npz') as data:\n",
    "    x_train = data['x_train']     \n",
    "    x_test = data['x_test']\n",
    "    x_all = np.concatenate([x_train, x_test], axis=0)"
   ]
  },
  {
   "cell_type": "code",
   "execution_count": 18,
   "metadata": {},
   "outputs": [
    {
     "data": {
      "text/plain": [
       "(494021, 120)"
      ]
     },
     "execution_count": 18,
     "metadata": {},
     "output_type": "execute_result"
    }
   ],
   "source": [
    "x_all.shape"
   ]
  },
  {
   "cell_type": "markdown",
   "metadata": {},
   "source": [
    "- Get only the normal data"
   ]
  },
  {
   "cell_type": "code",
   "execution_count": 19,
   "metadata": {},
   "outputs": [],
   "source": [
    "normal_data = x_all[np.where(x_all[:,-1] == 1)]   ##last column is the normal column"
   ]
  },
  {
   "cell_type": "code",
   "execution_count": 20,
   "metadata": {},
   "outputs": [],
   "source": [
    "from sklearn.model_selection import train_test_split"
   ]
  },
  {
   "cell_type": "code",
   "execution_count": 21,
   "metadata": {},
   "outputs": [],
   "source": [
    "x_train, x_test = train_test_split(normal_data, test_size=0.5, random_state=42)"
   ]
  },
  {
   "cell_type": "code",
   "execution_count": 22,
   "metadata": {},
   "outputs": [
    {
     "data": {
      "text/plain": [
       "(48639, 120)"
      ]
     },
     "execution_count": 22,
     "metadata": {},
     "output_type": "execute_result"
    }
   ],
   "source": [
    "x_train.shape"
   ]
  },
  {
   "cell_type": "code",
   "execution_count": 23,
   "metadata": {},
   "outputs": [
    {
     "data": {
      "text/plain": [
       "(48639, 120)"
      ]
     },
     "execution_count": 23,
     "metadata": {},
     "output_type": "execute_result"
    }
   ],
   "source": [
    "x_test.shape"
   ]
  },
  {
   "cell_type": "markdown",
   "metadata": {},
   "source": [
    "- Assign arbitrary output (assuming first column is normal)"
   ]
  },
  {
   "cell_type": "code",
   "execution_count": 24,
   "metadata": {},
   "outputs": [],
   "source": [
    "y_train = np.zeros((len(x_train),4))\n",
    "\n",
    "y_train[:,0] = 1"
   ]
  },
  {
   "cell_type": "code",
   "execution_count": 25,
   "metadata": {},
   "outputs": [
    {
     "data": {
      "text/plain": [
       "(48639, 4)"
      ]
     },
     "execution_count": 25,
     "metadata": {},
     "output_type": "execute_result"
    }
   ],
   "source": [
    "y_train.shape"
   ]
  },
  {
   "cell_type": "markdown",
   "metadata": {},
   "source": [
    "### Try training"
   ]
  },
  {
   "cell_type": "code",
   "execution_count": 26,
   "metadata": {},
   "outputs": [],
   "source": [
    "adam = optimizers.adam(lr=learning_rate, clipnorm=1., clipvalue=0.5)  # (lr=0.0001)\n",
    "\n",
    "def l2_loss(yTrue, yPred):\n",
    "    return K.sqrt((yTrue - yPred)**2) "
   ]
  },
  {
   "cell_type": "code",
   "execution_count": 27,
   "metadata": {},
   "outputs": [],
   "source": [
    "full_network.compile(optimizer=adam, loss=l2_loss)"
   ]
  },
  {
   "cell_type": "code",
   "execution_count": 28,
   "metadata": {},
   "outputs": [
    {
     "name": "stdout",
     "output_type": "stream",
     "text": [
      "2018-05-15_18:34 \n",
      "WARNING:tensorflow:From /home/cya/anaconda3/envs/tensorflow/lib/python3.6/site-packages/tensorflow/contrib/learn/python/learn/datasets/base.py:198: retry (from tensorflow.contrib.learn.python.learn.datasets.base) is deprecated and will be removed in a future version.\n",
      "Instructions for updating:\n",
      "Use the retry module or similar alternatives.\n"
     ]
    }
   ],
   "source": [
    "### Tensorboard\n",
    "from datetime import datetime\n",
    "timestamp = datetime.now().strftime(\"%Y-%m-%d_%H:%M\")\n",
    "print(timestamp, \"\")\n",
    "\n",
    "tensorboard = TensorBoard(log_dir='./.logs/compNet+estNet_kdd99/{}'.format(timestamp), \n",
    "                            histogram_freq=0, \n",
    "                            write_graph=True, \n",
    "                            write_grads=True, \n",
    "                            write_images=True, \n",
    "                            embeddings_freq=0, \n",
    "                            embeddings_layer_names=None, \n",
    "                            embeddings_metadata=None)"
   ]
  },
  {
   "cell_type": "markdown",
   "metadata": {},
   "source": [
    "- training with fit_generator"
   ]
  },
  {
   "cell_type": "code",
   "execution_count": 29,
   "metadata": {},
   "outputs": [],
   "source": [
    "def batchGenerator():\n",
    "    '''\n",
    "    return: number of batch_size examples in each run\n",
    "    '''\n",
    "    while True:\n",
    "        choices = np.random.choice(len(x_train), size=batch_size, replace=False)\n",
    "        batch_x_train = x_train[choices]\n",
    "        batch_y_train = y_train[choices]\n",
    "        \n",
    "        yield (batch_x_train, batch_y_train)"
   ]
  },
  {
   "cell_type": "code",
   "execution_count": 30,
   "metadata": {},
   "outputs": [],
   "source": [
    "steps_per_epoch = int(np.ceil(x_train.shape[0] / batch_size))"
   ]
  },
  {
   "cell_type": "code",
   "execution_count": 31,
   "metadata": {},
   "outputs": [
    {
     "data": {
      "text/plain": [
       "48"
      ]
     },
     "execution_count": 31,
     "metadata": {},
     "output_type": "execute_result"
    }
   ],
   "source": [
    "steps_per_epoch"
   ]
  },
  {
   "cell_type": "code",
   "execution_count": 32,
   "metadata": {
    "scrolled": false
   },
   "outputs": [
    {
     "name": "stdout",
     "output_type": "stream",
     "text": [
      "Epoch 1/200\n",
      "48/48 [==============================] - 1s 20ms/step - loss: 0.3679\n",
      "Epoch 2/200\n",
      "48/48 [==============================] - 0s 9ms/step - loss: 0.3522\n",
      "Epoch 3/200\n",
      "48/48 [==============================] - 0s 9ms/step - loss: 0.3313\n",
      "Epoch 4/200\n",
      "48/48 [==============================] - 0s 9ms/step - loss: 0.3080\n",
      "Epoch 5/200\n",
      "48/48 [==============================] - 0s 9ms/step - loss: 0.2861\n",
      "Epoch 6/200\n",
      "48/48 [==============================] - 0s 10ms/step - loss: 0.2683\n",
      "Epoch 7/200\n",
      "48/48 [==============================] - 0s 10ms/step - loss: 0.2525\n",
      "Epoch 8/200\n",
      "48/48 [==============================] - 0s 9ms/step - loss: 0.2365\n",
      "Epoch 9/200\n",
      "48/48 [==============================] - 0s 10ms/step - loss: 0.2239\n",
      "Epoch 10/200\n",
      "48/48 [==============================] - 0s 9ms/step - loss: 0.2111\n",
      "Epoch 11/200\n",
      "48/48 [==============================] - 0s 9ms/step - loss: 0.1987\n",
      "Epoch 12/200\n",
      "48/48 [==============================] - 0s 9ms/step - loss: 0.1872\n",
      "Epoch 13/200\n",
      "48/48 [==============================] - 0s 9ms/step - loss: 0.1775\n",
      "Epoch 14/200\n",
      "48/48 [==============================] - 0s 10ms/step - loss: 0.1664\n",
      "Epoch 15/200\n",
      "48/48 [==============================] - 0s 10ms/step - loss: 0.1572\n",
      "Epoch 16/200\n",
      "48/48 [==============================] - 0s 10ms/step - loss: 0.1482\n",
      "Epoch 17/200\n",
      "48/48 [==============================] - 0s 9ms/step - loss: 0.1396\n",
      "Epoch 18/200\n",
      "48/48 [==============================] - 0s 9ms/step - loss: 0.1318\n",
      "Epoch 19/200\n",
      "48/48 [==============================] - 0s 10ms/step - loss: 0.1245\n",
      "Epoch 20/200\n",
      "48/48 [==============================] - 0s 9ms/step - loss: 0.1172\n",
      "Epoch 21/200\n",
      "48/48 [==============================] - 0s 10ms/step - loss: 0.1115\n",
      "Epoch 22/200\n",
      "48/48 [==============================] - 0s 10ms/step - loss: 0.1064\n",
      "Epoch 23/200\n",
      "48/48 [==============================] - 0s 9ms/step - loss: 0.1004\n",
      "Epoch 24/200\n",
      "48/48 [==============================] - 0s 9ms/step - loss: 0.0954\n",
      "Epoch 25/200\n",
      "48/48 [==============================] - 0s 10ms/step - loss: 0.0910\n",
      "Epoch 26/200\n",
      "48/48 [==============================] - 0s 9ms/step - loss: 0.0869\n",
      "Epoch 27/200\n",
      "48/48 [==============================] - 0s 10ms/step - loss: 0.0827\n",
      "Epoch 28/200\n",
      "48/48 [==============================] - 0s 9ms/step - loss: 0.0788\n",
      "Epoch 29/200\n",
      "48/48 [==============================] - 0s 9ms/step - loss: 0.0752\n",
      "Epoch 30/200\n",
      "48/48 [==============================] - 0s 10ms/step - loss: 0.0717\n",
      "Epoch 31/200\n",
      "48/48 [==============================] - 0s 9ms/step - loss: 0.0696\n",
      "Epoch 32/200\n",
      "48/48 [==============================] - 0s 10ms/step - loss: 0.0666\n",
      "Epoch 33/200\n",
      "48/48 [==============================] - 0s 10ms/step - loss: 0.0637\n",
      "Epoch 34/200\n",
      "48/48 [==============================] - 0s 10ms/step - loss: 0.0613\n",
      "Epoch 35/200\n",
      "48/48 [==============================] - 0s 10ms/step - loss: 0.0585\n",
      "Epoch 36/200\n",
      "48/48 [==============================] - 0s 9ms/step - loss: 0.0566\n",
      "Epoch 37/200\n",
      "48/48 [==============================] - 0s 9ms/step - loss: 0.0549\n",
      "Epoch 38/200\n",
      "48/48 [==============================] - 0s 9ms/step - loss: 0.0527\n",
      "Epoch 39/200\n",
      "48/48 [==============================] - 0s 9ms/step - loss: 0.0506\n",
      "Epoch 40/200\n",
      "48/48 [==============================] - 0s 9ms/step - loss: 0.0490\n",
      "Epoch 41/200\n",
      "48/48 [==============================] - 0s 9ms/step - loss: 0.0477\n",
      "Epoch 42/200\n",
      "48/48 [==============================] - 0s 9ms/step - loss: 0.0461\n",
      "Epoch 43/200\n",
      "48/48 [==============================] - 0s 9ms/step - loss: 0.0441\n",
      "Epoch 44/200\n",
      "48/48 [==============================] - 0s 10ms/step - loss: 0.0427\n",
      "Epoch 45/200\n",
      "48/48 [==============================] - 0s 10ms/step - loss: 0.0414\n",
      "Epoch 46/200\n",
      "48/48 [==============================] - 0s 9ms/step - loss: 0.0405\n",
      "Epoch 47/200\n",
      "48/48 [==============================] - 0s 9ms/step - loss: 0.0390\n",
      "Epoch 48/200\n",
      "48/48 [==============================] - 0s 10ms/step - loss: 0.0379\n",
      "Epoch 49/200\n",
      "48/48 [==============================] - 0s 10ms/step - loss: 0.0367\n",
      "Epoch 50/200\n",
      "48/48 [==============================] - 0s 10ms/step - loss: 0.0357\n",
      "Epoch 51/200\n",
      "48/48 [==============================] - 0s 10ms/step - loss: 0.0349\n",
      "Epoch 52/200\n",
      "48/48 [==============================] - 0s 9ms/step - loss: 0.0336\n",
      "Epoch 53/200\n",
      "48/48 [==============================] - 0s 10ms/step - loss: 0.0329\n",
      "Epoch 54/200\n",
      "48/48 [==============================] - 0s 10ms/step - loss: 0.0318\n",
      "Epoch 55/200\n",
      "48/48 [==============================] - 0s 10ms/step - loss: 0.0312\n",
      "Epoch 56/200\n",
      "48/48 [==============================] - 0s 10ms/step - loss: 0.0304\n",
      "Epoch 57/200\n",
      "48/48 [==============================] - 0s 10ms/step - loss: 0.0295\n",
      "Epoch 58/200\n",
      "48/48 [==============================] - 0s 10ms/step - loss: 0.0286\n",
      "Epoch 59/200\n",
      "48/48 [==============================] - 0s 9ms/step - loss: 0.0280\n",
      "Epoch 60/200\n",
      "48/48 [==============================] - 0s 9ms/step - loss: 0.0273\n",
      "Epoch 61/200\n",
      "48/48 [==============================] - 0s 10ms/step - loss: 0.0266\n",
      "Epoch 62/200\n",
      "48/48 [==============================] - 0s 10ms/step - loss: 0.0259\n",
      "Epoch 63/200\n",
      "48/48 [==============================] - 0s 10ms/step - loss: 0.0252\n",
      "Epoch 64/200\n",
      "48/48 [==============================] - 0s 9ms/step - loss: 0.0249\n",
      "Epoch 65/200\n",
      "48/48 [==============================] - 0s 10ms/step - loss: 0.0244\n",
      "Epoch 66/200\n",
      "48/48 [==============================] - 0s 9ms/step - loss: 0.0237\n",
      "Epoch 67/200\n",
      "48/48 [==============================] - 0s 10ms/step - loss: 0.0231\n",
      "Epoch 68/200\n",
      "48/48 [==============================] - 0s 10ms/step - loss: 0.0225\n",
      "Epoch 69/200\n",
      "48/48 [==============================] - 0s 10ms/step - loss: 0.0223\n",
      "Epoch 70/200\n",
      "48/48 [==============================] - 0s 9ms/step - loss: 0.0213\n",
      "Epoch 71/200\n",
      "48/48 [==============================] - 0s 9ms/step - loss: 0.0211\n",
      "Epoch 72/200\n",
      "48/48 [==============================] - 0s 9ms/step - loss: 0.0205\n",
      "Epoch 73/200\n",
      "48/48 [==============================] - 0s 9ms/step - loss: 0.0202\n",
      "Epoch 74/200\n",
      "48/48 [==============================] - 0s 10ms/step - loss: 0.0199\n",
      "Epoch 75/200\n",
      "48/48 [==============================] - 0s 10ms/step - loss: 0.0196\n",
      "Epoch 76/200\n",
      "48/48 [==============================] - 0s 10ms/step - loss: 0.0192\n",
      "Epoch 77/200\n",
      "48/48 [==============================] - 0s 9ms/step - loss: 0.0188\n",
      "Epoch 78/200\n",
      "48/48 [==============================] - 0s 10ms/step - loss: 0.0182\n",
      "Epoch 79/200\n",
      "48/48 [==============================] - 0s 10ms/step - loss: 0.0179\n",
      "Epoch 80/200\n",
      "48/48 [==============================] - 0s 9ms/step - loss: 0.0176\n",
      "Epoch 81/200\n",
      "48/48 [==============================] - 0s 10ms/step - loss: 0.0170\n",
      "Epoch 82/200\n",
      "48/48 [==============================] - 0s 10ms/step - loss: 0.0170\n",
      "Epoch 83/200\n",
      "48/48 [==============================] - 0s 10ms/step - loss: 0.0168\n",
      "Epoch 84/200\n",
      "48/48 [==============================] - 0s 10ms/step - loss: 0.0162\n",
      "Epoch 85/200\n",
      "48/48 [==============================] - 0s 10ms/step - loss: 0.0158\n",
      "Epoch 86/200\n",
      "48/48 [==============================] - 0s 10ms/step - loss: 0.0155\n",
      "Epoch 87/200\n",
      "48/48 [==============================] - 0s 10ms/step - loss: 0.0153\n",
      "Epoch 88/200\n",
      "48/48 [==============================] - 0s 10ms/step - loss: 0.0149\n",
      "Epoch 89/200\n",
      "48/48 [==============================] - 1s 11ms/step - loss: 0.0147\n",
      "Epoch 90/200\n",
      "48/48 [==============================] - 0s 10ms/step - loss: 0.0144\n",
      "Epoch 91/200\n",
      "48/48 [==============================] - 0s 9ms/step - loss: 0.0140\n",
      "Epoch 92/200\n",
      "48/48 [==============================] - 0s 9ms/step - loss: 0.0140\n",
      "Epoch 93/200\n",
      "48/48 [==============================] - 0s 10ms/step - loss: 0.0136\n",
      "Epoch 94/200\n",
      "48/48 [==============================] - 0s 9ms/step - loss: 0.0134\n",
      "Epoch 95/200\n",
      "48/48 [==============================] - 0s 9ms/step - loss: 0.0132\n",
      "Epoch 96/200\n",
      "48/48 [==============================] - 0s 9ms/step - loss: 0.0129\n",
      "Epoch 97/200\n",
      "48/48 [==============================] - 0s 9ms/step - loss: 0.0129\n",
      "Epoch 98/200\n",
      "48/48 [==============================] - 0s 9ms/step - loss: 0.0125\n",
      "Epoch 99/200\n",
      "48/48 [==============================] - 0s 9ms/step - loss: 0.0123\n",
      "Epoch 100/200\n",
      "48/48 [==============================] - 0s 9ms/step - loss: 0.0121\n",
      "Epoch 101/200\n"
     ]
    },
    {
     "name": "stdout",
     "output_type": "stream",
     "text": [
      "48/48 [==============================] - 0s 9ms/step - loss: 0.0118\n",
      "Epoch 102/200\n",
      "48/48 [==============================] - 0s 9ms/step - loss: 0.0119\n",
      "Epoch 103/200\n",
      "48/48 [==============================] - 0s 9ms/step - loss: 0.0114\n",
      "Epoch 104/200\n",
      "48/48 [==============================] - 0s 9ms/step - loss: 0.0114\n",
      "Epoch 105/200\n",
      "48/48 [==============================] - 0s 9ms/step - loss: 0.0111\n",
      "Epoch 106/200\n",
      "48/48 [==============================] - 0s 9ms/step - loss: 0.0108\n",
      "Epoch 107/200\n",
      "48/48 [==============================] - 0s 9ms/step - loss: 0.0105\n",
      "Epoch 108/200\n",
      "48/48 [==============================] - 0s 9ms/step - loss: 0.0106\n",
      "Epoch 109/200\n",
      "48/48 [==============================] - 0s 9ms/step - loss: 0.0104\n",
      "Epoch 110/200\n",
      "48/48 [==============================] - 0s 9ms/step - loss: 0.0101\n",
      "Epoch 111/200\n",
      "48/48 [==============================] - 0s 9ms/step - loss: 0.0099\n",
      "Epoch 112/200\n",
      "48/48 [==============================] - 0s 9ms/step - loss: 0.0100\n",
      "Epoch 113/200\n",
      "48/48 [==============================] - 0s 9ms/step - loss: 0.0098\n",
      "Epoch 114/200\n",
      "48/48 [==============================] - 0s 9ms/step - loss: 0.0096\n",
      "Epoch 115/200\n",
      "48/48 [==============================] - 0s 9ms/step - loss: 0.0093\n",
      "Epoch 116/200\n",
      "48/48 [==============================] - 0s 9ms/step - loss: 0.0093\n",
      "Epoch 117/200\n",
      "48/48 [==============================] - 0s 9ms/step - loss: 0.0090\n",
      "Epoch 118/200\n",
      "48/48 [==============================] - 0s 9ms/step - loss: 0.0090\n",
      "Epoch 119/200\n",
      "48/48 [==============================] - 0s 9ms/step - loss: 0.0088\n",
      "Epoch 120/200\n",
      "48/48 [==============================] - 0s 9ms/step - loss: 0.0085\n",
      "Epoch 121/200\n",
      "48/48 [==============================] - 0s 9ms/step - loss: 0.0085\n",
      "Epoch 122/200\n",
      "48/48 [==============================] - 0s 9ms/step - loss: 0.0084\n",
      "Epoch 123/200\n",
      "48/48 [==============================] - 0s 9ms/step - loss: 0.0082\n",
      "Epoch 124/200\n",
      "48/48 [==============================] - 0s 9ms/step - loss: 0.0082\n",
      "Epoch 125/200\n",
      "48/48 [==============================] - 0s 9ms/step - loss: 0.0078\n",
      "Epoch 126/200\n",
      "48/48 [==============================] - 0s 9ms/step - loss: 0.0078\n",
      "Epoch 127/200\n",
      "48/48 [==============================] - 0s 9ms/step - loss: 0.0079\n",
      "Epoch 128/200\n",
      "48/48 [==============================] - 0s 9ms/step - loss: 0.0077\n",
      "Epoch 129/200\n",
      "48/48 [==============================] - 0s 9ms/step - loss: 0.0076\n",
      "Epoch 130/200\n",
      "48/48 [==============================] - 0s 9ms/step - loss: 0.0075\n",
      "Epoch 131/200\n",
      "48/48 [==============================] - 0s 9ms/step - loss: 0.0074\n",
      "Epoch 132/200\n",
      "48/48 [==============================] - 0s 9ms/step - loss: 0.0074\n",
      "Epoch 133/200\n",
      "48/48 [==============================] - 0s 9ms/step - loss: 0.0071\n",
      "Epoch 134/200\n",
      "48/48 [==============================] - 0s 9ms/step - loss: 0.0071\n",
      "Epoch 135/200\n",
      "48/48 [==============================] - 0s 9ms/step - loss: 0.0070\n",
      "Epoch 136/200\n",
      "48/48 [==============================] - 0s 9ms/step - loss: 0.0069\n",
      "Epoch 137/200\n",
      "48/48 [==============================] - 0s 9ms/step - loss: 0.0068\n",
      "Epoch 138/200\n",
      "48/48 [==============================] - 0s 9ms/step - loss: 0.0066\n",
      "Epoch 139/200\n",
      "48/48 [==============================] - 0s 9ms/step - loss: 0.0065\n",
      "Epoch 140/200\n",
      "48/48 [==============================] - 0s 9ms/step - loss: 0.0065\n",
      "Epoch 141/200\n",
      "48/48 [==============================] - 0s 9ms/step - loss: 0.0062\n",
      "Epoch 142/200\n",
      "48/48 [==============================] - 0s 9ms/step - loss: 0.0063\n",
      "Epoch 143/200\n",
      "48/48 [==============================] - 0s 9ms/step - loss: 0.0063\n",
      "Epoch 144/200\n",
      "48/48 [==============================] - 0s 9ms/step - loss: 0.0060\n",
      "Epoch 145/200\n",
      "48/48 [==============================] - 0s 9ms/step - loss: 0.0061\n",
      "Epoch 146/200\n",
      "48/48 [==============================] - 0s 9ms/step - loss: 0.0059\n",
      "Epoch 147/200\n",
      "48/48 [==============================] - 0s 9ms/step - loss: 0.0059\n",
      "Epoch 148/200\n",
      "48/48 [==============================] - 0s 9ms/step - loss: 0.0056\n",
      "Epoch 149/200\n",
      "48/48 [==============================] - 0s 9ms/step - loss: 0.0056\n",
      "Epoch 150/200\n",
      "48/48 [==============================] - 0s 9ms/step - loss: 0.0055\n",
      "Epoch 151/200\n",
      "48/48 [==============================] - 0s 9ms/step - loss: 0.0054\n",
      "Epoch 152/200\n",
      "48/48 [==============================] - 0s 9ms/step - loss: 0.0055\n",
      "Epoch 153/200\n",
      "48/48 [==============================] - 0s 9ms/step - loss: 0.0052\n",
      "Epoch 154/200\n",
      "48/48 [==============================] - 0s 9ms/step - loss: 0.0054\n",
      "Epoch 155/200\n",
      "48/48 [==============================] - 0s 9ms/step - loss: 0.0052\n",
      "Epoch 156/200\n",
      "48/48 [==============================] - 0s 9ms/step - loss: 0.0050\n",
      "Epoch 157/200\n",
      "48/48 [==============================] - 0s 9ms/step - loss: 0.0050\n",
      "Epoch 158/200\n",
      "48/48 [==============================] - 0s 9ms/step - loss: 0.0050\n",
      "Epoch 159/200\n",
      "48/48 [==============================] - 0s 9ms/step - loss: 0.0049\n",
      "Epoch 160/200\n",
      "48/48 [==============================] - 0s 9ms/step - loss: 0.0048\n",
      "Epoch 161/200\n",
      "48/48 [==============================] - 0s 9ms/step - loss: 0.0046\n",
      "Epoch 162/200\n",
      "48/48 [==============================] - 0s 9ms/step - loss: 0.0046\n",
      "Epoch 163/200\n",
      "48/48 [==============================] - 0s 9ms/step - loss: 0.0047\n",
      "Epoch 164/200\n",
      "48/48 [==============================] - 0s 9ms/step - loss: 0.0046\n",
      "Epoch 165/200\n",
      "48/48 [==============================] - 0s 9ms/step - loss: 0.0045\n",
      "Epoch 166/200\n",
      "48/48 [==============================] - 0s 9ms/step - loss: 0.0045\n",
      "Epoch 167/200\n",
      "48/48 [==============================] - 0s 9ms/step - loss: 0.0043\n",
      "Epoch 168/200\n",
      "48/48 [==============================] - 0s 9ms/step - loss: 0.0043\n",
      "Epoch 169/200\n",
      "48/48 [==============================] - 0s 9ms/step - loss: 0.0043\n",
      "Epoch 170/200\n",
      "48/48 [==============================] - 0s 9ms/step - loss: 0.0042\n",
      "Epoch 171/200\n",
      "48/48 [==============================] - 0s 9ms/step - loss: 0.0042\n",
      "Epoch 172/200\n",
      "48/48 [==============================] - 0s 9ms/step - loss: 0.0041\n",
      "Epoch 173/200\n",
      "48/48 [==============================] - 0s 9ms/step - loss: 0.0041\n",
      "Epoch 174/200\n",
      "48/48 [==============================] - 0s 9ms/step - loss: 0.0041\n",
      "Epoch 175/200\n",
      "48/48 [==============================] - 0s 9ms/step - loss: 0.0040\n",
      "Epoch 176/200\n",
      "48/48 [==============================] - 0s 9ms/step - loss: 0.0040\n",
      "Epoch 177/200\n",
      "48/48 [==============================] - 0s 9ms/step - loss: 0.0040\n",
      "Epoch 178/200\n",
      "48/48 [==============================] - 0s 9ms/step - loss: 0.0041\n",
      "Epoch 179/200\n",
      "48/48 [==============================] - 0s 9ms/step - loss: 0.0040\n",
      "Epoch 180/200\n",
      "48/48 [==============================] - 0s 10ms/step - loss: 0.0040\n",
      "Epoch 181/200\n",
      "48/48 [==============================] - 0s 9ms/step - loss: 0.0040\n",
      "Epoch 182/200\n",
      "48/48 [==============================] - 0s 9ms/step - loss: 0.0039\n",
      "Epoch 183/200\n",
      "48/48 [==============================] - 0s 9ms/step - loss: 0.0039\n",
      "Epoch 184/200\n",
      "48/48 [==============================] - 0s 9ms/step - loss: 0.0042\n",
      "Epoch 185/200\n",
      "48/48 [==============================] - 0s 9ms/step - loss: 0.0040\n",
      "Epoch 186/200\n",
      "48/48 [==============================] - 0s 9ms/step - loss: 0.0040\n",
      "Epoch 187/200\n",
      "48/48 [==============================] - 0s 9ms/step - loss: 0.0040\n",
      "Epoch 188/200\n",
      "48/48 [==============================] - 0s 9ms/step - loss: 0.0041\n",
      "Epoch 189/200\n",
      "48/48 [==============================] - 0s 9ms/step - loss: 0.0041\n",
      "Epoch 190/200\n",
      "48/48 [==============================] - 0s 9ms/step - loss: 0.0042\n",
      "Epoch 191/200\n",
      "48/48 [==============================] - 0s 9ms/step - loss: 0.0042\n",
      "Epoch 192/200\n",
      "48/48 [==============================] - 0s 9ms/step - loss: 0.0042\n",
      "Epoch 193/200\n",
      "48/48 [==============================] - 0s 9ms/step - loss: 0.0041\n",
      "Epoch 194/200\n",
      "48/48 [==============================] - 0s 9ms/step - loss: 0.0041\n",
      "Epoch 195/200\n",
      "48/48 [==============================] - 0s 9ms/step - loss: 0.0042\n",
      "Epoch 196/200\n",
      "48/48 [==============================] - 0s 9ms/step - loss: 0.0043\n",
      "Epoch 197/200\n",
      "48/48 [==============================] - 0s 9ms/step - loss: 0.0044\n",
      "Epoch 198/200\n",
      "48/48 [==============================] - 0s 9ms/step - loss: 0.0042\n",
      "Epoch 199/200\n",
      "48/48 [==============================] - 0s 9ms/step - loss: 0.0043\n",
      "Epoch 200/200\n",
      "48/48 [==============================] - 0s 9ms/step - loss: 0.0043\n"
     ]
    }
   ],
   "source": [
    "\"\"\"\n",
    "48639 (len of train) not divisible by 1024 (batch size)\n",
    "48639 ÷ 1024 = 47,499023437\n",
    "\n",
    "therefore, randomly sample 1024 data (batch size), 48 times (steps_per_epoch)\n",
    "\n",
    "\"\"\"\n",
    "\n",
    "history = full_network.fit_generator(batchGenerator(),\n",
    "                           epochs = epoch,\n",
    "                           steps_per_epoch = steps_per_epoch,\n",
    "                           callbacks = [tensorboard],\n",
    "                           verbose = 1)"
   ]
  },
  {
   "cell_type": "code",
   "execution_count": 33,
   "metadata": {},
   "outputs": [
    {
     "data": {
      "image/png": "[encoded data removed]",
      "text/plain": [
       "<Figure size 432x288 with 1 Axes>"
      ]
     },
     "metadata": {},
     "output_type": "display_data"
    }
   ],
   "source": [
    "import matplotlib.pyplot as plt\n",
    "%matplotlib inline\n",
    "\n",
    "def plot_historyData(data, xlabel=\"epochs\", ylabel=\"loss\"):\n",
    "    plt.plot(data)\n",
    "    plt.xlabel(xlabel)\n",
    "    plt.ylabel(ylabel)\n",
    "    \n",
    "plot_historyData(history.history[\"loss\"])"
   ]
  }
 ],
 "metadata": {
  "kernelspec": {
   "display_name": "Python 3",
   "language": "python",
   "name": "python3"
  },
  "language_info": {
   "codemirror_mode": {
    "name": "ipython",
    "version": 3
   },
   "file_extension": ".py",
   "mimetype": "text/x-python",
   "name": "python",
   "nbconvert_exporter": "python",
   "pygments_lexer": "ipython3",
   "version": "3.6.5"
  }
 },
 "nbformat": 4,
 "nbformat_minor": 2
}
