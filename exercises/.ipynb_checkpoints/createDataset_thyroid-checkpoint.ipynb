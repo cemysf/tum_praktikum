{
 "cells": [
  {
   "cell_type": "markdown",
   "metadata": {},
   "source": [
    "### Dataset creation"
   ]
  },
  {
   "cell_type": "code",
   "execution_count": 1,
   "metadata": {},
   "outputs": [],
   "source": [
    "import pandas as pd\n",
    "import numpy as np\n",
    "from sklearn.utils import shuffle"
   ]
  },
  {
   "cell_type": "markdown",
   "metadata": {},
   "source": [
    "- load data and labels (normal and different attack types)"
   ]
  },
  {
   "cell_type": "code",
   "execution_count": 2,
   "metadata": {},
   "outputs": [],
   "source": [
    "df_data = pd.read_csv(\"../datasets/thyroid/thyroid-labelled.csv\")\n",
    "df_data = shuffle(df_data)\n",
    "df_labels = pd.DataFrame(df_data.iloc[:,-1])   \n",
    "df_data = pd.DataFrame(df_data.iloc[:, :-1]).astype(float) "
   ]
  },
  {
   "cell_type": "markdown",
   "metadata": {},
   "source": [
    "- read column names and types"
   ]
  },
  {
   "cell_type": "code",
   "execution_count": 3,
   "metadata": {},
   "outputs": [],
   "source": [
    "# col_names=[]\n",
    "# col_datatypes=[]\n",
    "\n",
    "# with open(\"datasets/kddcup/kddcup.names\") as file:\n",
    "#     next(file)    ### skip first line\n",
    "#     for line in file:\n",
    "#         name, datatype = line.split(\": \")\n",
    "#         col_names.append(name)\n",
    "#         col_datatypes.append(datatype.replace(\".\\n\",\"\"))\n",
    "        \n",
    "# df_data.columns = col_names\n",
    "df_labels.columns = [\"labels\"]"
   ]
  },
  {
   "cell_type": "code",
   "execution_count": 4,
   "metadata": {
    "scrolled": false
   },
   "outputs": [
    {
     "data": {
      "text/html": [
       "<div>\n",
       "<style scoped>\n",
       "    .dataframe tbody tr th:only-of-type {\n",
       "        vertical-align: middle;\n",
       "    }\n",
       "\n",
       "    .dataframe tbody tr th {\n",
       "        vertical-align: top;\n",
       "    }\n",
       "\n",
       "    .dataframe thead th {\n",
       "        text-align: right;\n",
       "    }\n",
       "</style>\n",
       "<table border=\"1\" class=\"dataframe\">\n",
       "  <thead>\n",
       "    <tr style=\"text-align: right;\">\n",
       "      <th></th>\n",
       "      <th>age</th>\n",
       "      <th>a</th>\n",
       "      <th>b</th>\n",
       "      <th>c</th>\n",
       "      <th>d</th>\n",
       "      <th>e</th>\n",
       "      <th>f</th>\n",
       "      <th>g</th>\n",
       "      <th>h</th>\n",
       "      <th>i</th>\n",
       "      <th>...</th>\n",
       "      <th>k</th>\n",
       "      <th>l</th>\n",
       "      <th>m</th>\n",
       "      <th>n</th>\n",
       "      <th>o</th>\n",
       "      <th>TSH</th>\n",
       "      <th>T3</th>\n",
       "      <th>TT4</th>\n",
       "      <th>T4U</th>\n",
       "      <th>FTI</th>\n",
       "    </tr>\n",
       "  </thead>\n",
       "  <tbody>\n",
       "    <tr>\n",
       "      <th>1090</th>\n",
       "      <td>0.33</td>\n",
       "      <td>1.0</td>\n",
       "      <td>0.0</td>\n",
       "      <td>0.0</td>\n",
       "      <td>0.0</td>\n",
       "      <td>0.0</td>\n",
       "      <td>0.0</td>\n",
       "      <td>0.0</td>\n",
       "      <td>0.0</td>\n",
       "      <td>0.0</td>\n",
       "      <td>...</td>\n",
       "      <td>0.0</td>\n",
       "      <td>0.0</td>\n",
       "      <td>0.0</td>\n",
       "      <td>0.0</td>\n",
       "      <td>1.0</td>\n",
       "      <td>0.00232</td>\n",
       "      <td>0.0160</td>\n",
       "      <td>0.065</td>\n",
       "      <td>0.076</td>\n",
       "      <td>0.086</td>\n",
       "    </tr>\n",
       "    <tr>\n",
       "      <th>1911</th>\n",
       "      <td>0.47</td>\n",
       "      <td>1.0</td>\n",
       "      <td>0.0</td>\n",
       "      <td>0.0</td>\n",
       "      <td>0.0</td>\n",
       "      <td>0.0</td>\n",
       "      <td>0.0</td>\n",
       "      <td>0.0</td>\n",
       "      <td>0.0</td>\n",
       "      <td>0.0</td>\n",
       "      <td>...</td>\n",
       "      <td>0.0</td>\n",
       "      <td>0.0</td>\n",
       "      <td>0.0</td>\n",
       "      <td>0.0</td>\n",
       "      <td>0.0</td>\n",
       "      <td>0.00310</td>\n",
       "      <td>0.0240</td>\n",
       "      <td>0.093</td>\n",
       "      <td>0.110</td>\n",
       "      <td>0.085</td>\n",
       "    </tr>\n",
       "    <tr>\n",
       "      <th>6693</th>\n",
       "      <td>0.59</td>\n",
       "      <td>0.0</td>\n",
       "      <td>0.0</td>\n",
       "      <td>0.0</td>\n",
       "      <td>0.0</td>\n",
       "      <td>0.0</td>\n",
       "      <td>0.0</td>\n",
       "      <td>0.0</td>\n",
       "      <td>0.0</td>\n",
       "      <td>0.0</td>\n",
       "      <td>...</td>\n",
       "      <td>0.0</td>\n",
       "      <td>0.0</td>\n",
       "      <td>0.0</td>\n",
       "      <td>0.0</td>\n",
       "      <td>0.0</td>\n",
       "      <td>0.00010</td>\n",
       "      <td>0.0200</td>\n",
       "      <td>0.102</td>\n",
       "      <td>0.082</td>\n",
       "      <td>0.125</td>\n",
       "    </tr>\n",
       "    <tr>\n",
       "      <th>606</th>\n",
       "      <td>0.62</td>\n",
       "      <td>1.0</td>\n",
       "      <td>0.0</td>\n",
       "      <td>0.0</td>\n",
       "      <td>0.0</td>\n",
       "      <td>0.0</td>\n",
       "      <td>0.0</td>\n",
       "      <td>0.0</td>\n",
       "      <td>0.0</td>\n",
       "      <td>0.0</td>\n",
       "      <td>...</td>\n",
       "      <td>0.0</td>\n",
       "      <td>0.0</td>\n",
       "      <td>0.0</td>\n",
       "      <td>0.0</td>\n",
       "      <td>0.0</td>\n",
       "      <td>0.00002</td>\n",
       "      <td>0.0201</td>\n",
       "      <td>0.174</td>\n",
       "      <td>0.098</td>\n",
       "      <td>0.177</td>\n",
       "    </tr>\n",
       "    <tr>\n",
       "      <th>1980</th>\n",
       "      <td>0.72</td>\n",
       "      <td>1.0</td>\n",
       "      <td>0.0</td>\n",
       "      <td>0.0</td>\n",
       "      <td>0.0</td>\n",
       "      <td>0.0</td>\n",
       "      <td>0.0</td>\n",
       "      <td>0.0</td>\n",
       "      <td>0.0</td>\n",
       "      <td>0.0</td>\n",
       "      <td>...</td>\n",
       "      <td>0.0</td>\n",
       "      <td>0.0</td>\n",
       "      <td>0.0</td>\n",
       "      <td>0.0</td>\n",
       "      <td>0.0</td>\n",
       "      <td>0.00360</td>\n",
       "      <td>0.0140</td>\n",
       "      <td>0.089</td>\n",
       "      <td>0.076</td>\n",
       "      <td>0.117</td>\n",
       "    </tr>\n",
       "  </tbody>\n",
       "</table>\n",
       "<p>5 rows × 21 columns</p>\n",
       "</div>"
      ],
      "text/plain": [
       "       age    a    b    c    d    e    f    g    h    i  ...      k    l    m  \\\n",
       "1090  0.33  1.0  0.0  0.0  0.0  0.0  0.0  0.0  0.0  0.0  ...    0.0  0.0  0.0   \n",
       "1911  0.47  1.0  0.0  0.0  0.0  0.0  0.0  0.0  0.0  0.0  ...    0.0  0.0  0.0   \n",
       "6693  0.59  0.0  0.0  0.0  0.0  0.0  0.0  0.0  0.0  0.0  ...    0.0  0.0  0.0   \n",
       "606   0.62  1.0  0.0  0.0  0.0  0.0  0.0  0.0  0.0  0.0  ...    0.0  0.0  0.0   \n",
       "1980  0.72  1.0  0.0  0.0  0.0  0.0  0.0  0.0  0.0  0.0  ...    0.0  0.0  0.0   \n",
       "\n",
       "        n    o      TSH      T3    TT4    T4U    FTI  \n",
       "1090  0.0  1.0  0.00232  0.0160  0.065  0.076  0.086  \n",
       "1911  0.0  0.0  0.00310  0.0240  0.093  0.110  0.085  \n",
       "6693  0.0  0.0  0.00010  0.0200  0.102  0.082  0.125  \n",
       "606   0.0  0.0  0.00002  0.0201  0.174  0.098  0.177  \n",
       "1980  0.0  0.0  0.00360  0.0140  0.089  0.076  0.117  \n",
       "\n",
       "[5 rows x 21 columns]"
      ]
     },
     "execution_count": 4,
     "metadata": {},
     "output_type": "execute_result"
    }
   ],
   "source": [
    "df_data.head()"
   ]
  },
  {
   "cell_type": "markdown",
   "metadata": {},
   "source": [
    "- check integrity of the data"
   ]
  },
  {
   "cell_type": "code",
   "execution_count": 5,
   "metadata": {},
   "outputs": [
    {
     "name": "stdout",
     "output_type": "stream",
     "text": [
      "False\n",
      "False\n"
     ]
    }
   ],
   "source": [
    "print(df_data.isnull().values.any())\n",
    "\n",
    "print(df_data.isna().values.any())"
   ]
  },
  {
   "cell_type": "markdown",
   "metadata": {},
   "source": [
    "### Enumerate labels "
   ]
  },
  {
   "cell_type": "markdown",
   "metadata": {},
   "source": [
    "- ### normal samples are named as \"anomaly\" since they are minority (stated in paper)"
   ]
  },
  {
   "cell_type": "code",
   "execution_count": 6,
   "metadata": {},
   "outputs": [
    {
     "name": "stdout",
     "output_type": "stream",
     "text": [
      "<class 'numpy.float64'>\n"
     ]
    }
   ],
   "source": [
    "# Considering n labelled data as normal and others as anomaly in thyroid dataset. assigning labels accordingly.\n",
    "# Added by Jyotirmay.\n",
    "# 1 = normal, 0 = anomaly\n",
    "df_data[\"label\"] = np.where(df_labels[\"labels\"].str.contains(\"n\"), 'normal', 'anomaly')\n",
    "print(type(df_data.TSH[0]))"
   ]
  },
  {
   "cell_type": "code",
   "execution_count": 7,
   "metadata": {},
   "outputs": [
    {
     "name": "stdout",
     "output_type": "stream",
     "text": [
      "number of normal: 6603\n",
      "number of anomaly: 250\n"
     ]
    }
   ],
   "source": [
    "### number of normal and abnormal\n",
    "print(\"number of normal:\", len(np.where(df_data[\"label\"] == 'normal')[0]))\n",
    "print(\"number of anomaly:\", len(np.where(df_data[\"label\"] == 'anomaly')[0]))"
   ]
  },
  {
   "cell_type": "code",
   "execution_count": 8,
   "metadata": {},
   "outputs": [
    {
     "data": {
      "text/plain": [
       "(array([   0,    1,    2, ..., 6850, 6851, 6852]),)"
      ]
     },
     "execution_count": 8,
     "metadata": {},
     "output_type": "execute_result"
    }
   ],
   "source": [
    "## check in which location data is abnormal\n",
    "\n",
    "np.where(df_data[\"label\"] == 'normal')"
   ]
  },
  {
   "cell_type": "code",
   "execution_count": 9,
   "metadata": {},
   "outputs": [
    {
     "name": "stdout",
     "output_type": "stream",
     "text": [
      "1302    normal\n",
      "4596    normal\n",
      "1192    normal\n",
      "1874    normal\n",
      "4566    normal\n",
      "4071    normal\n",
      "4004    normal\n",
      "6168    normal\n",
      "6036    normal\n",
      "3503    normal\n",
      "Name: label, dtype: object\n",
      "1302    n\n",
      "4596    n\n",
      "1192    n\n",
      "1874    n\n",
      "4566    n\n",
      "4071    n\n",
      "4004    n\n",
      "6168    n\n",
      "6036    n\n",
      "3503    n\n",
      "Name: labels, dtype: object\n"
     ]
    }
   ],
   "source": [
    "### looks like working\n",
    "\n",
    "print(df_data.iloc[740:750, -1])\n",
    "print(df_labels.iloc[740:750, -1])\n",
    "# df_data.head()"
   ]
  },
  {
   "cell_type": "code",
   "execution_count": 10,
   "metadata": {},
   "outputs": [],
   "source": [
    "### for each object column in data\n",
    "\n",
    "cols_toOneHot = df_data.select_dtypes(include='object').columns.tolist()\n",
    "\n",
    "cols_all = df_data.columns.tolist()\n",
    "cols_toNormalize = list(set(cols_all) - set(cols_toOneHot))"
   ]
  },
  {
   "cell_type": "code",
   "execution_count": 11,
   "metadata": {},
   "outputs": [
    {
     "name": "stdout",
     "output_type": "stream",
     "text": [
      "columns to normalize:\n",
      "['o', 'i', 'd', 'j', 'a', 'T3', 'e', 'l', 'g', 'T4U', 'h', 'f', 'k', 'n', 'TT4', 'b', 'm', 'TSH', 'age', 'c', 'FTI']\n",
      "\n",
      "columns to one-hot:\n",
      "['label']\n",
      "\n"
     ]
    }
   ],
   "source": [
    "print(\"columns to normalize:\\n%s\\n\" % cols_toNormalize)\n",
    "print(\"columns to one-hot:\\n%s\\n\" % cols_toOneHot)"
   ]
  },
  {
   "cell_type": "code",
   "execution_count": 12,
   "metadata": {
    "scrolled": true
   },
   "outputs": [
    {
     "data": {
      "text/plain": [
       "21"
      ]
     },
     "execution_count": 12,
     "metadata": {},
     "output_type": "execute_result"
    }
   ],
   "source": [
    "len(cols_toNormalize)"
   ]
  },
  {
   "cell_type": "markdown",
   "metadata": {},
   "source": [
    "### Dataset preprocessing in numerical columns"
   ]
  },
  {
   "cell_type": "code",
   "execution_count": 13,
   "metadata": {},
   "outputs": [
    {
     "name": "stdout",
     "output_type": "stream",
     "text": [
      "float64\n"
     ]
    }
   ],
   "source": [
    "print(df_data.TSH.dtype)"
   ]
  },
  {
   "cell_type": "code",
   "execution_count": 14,
   "metadata": {},
   "outputs": [],
   "source": [
    "def checkStats(df_data):\n",
    "    i=0\n",
    "    for col in df_data.columns.tolist():\n",
    "            \n",
    "        if col in cols_toOneHot:    ### skip if column is not numerical  ### TODO: check column type??\n",
    "            i += 1\n",
    "            continue\n",
    "\n",
    "        min_ = df_data[col].values.min()\n",
    "        max_ = df_data[col].values.max()\n",
    "        std_ = df_data[col].values.std()\n",
    "\n",
    "        print(\"column:%d min:%f max:%f std:%f\" % (i, min_, max_, std_))\n",
    "        i += 1"
   ]
  },
  {
   "cell_type": "code",
   "execution_count": 15,
   "metadata": {},
   "outputs": [
    {
     "name": "stdout",
     "output_type": "stream",
     "text": [
      "column:0 min:0.010000 max:0.970000 std:0.189447\n",
      "column:1 min:0.000000 max:1.000000 std:0.461501\n",
      "column:2 min:0.000000 max:1.000000 std:0.340448\n",
      "column:3 min:0.000000 max:1.000000 std:0.123975\n",
      "column:4 min:0.000000 max:1.000000 std:0.113844\n",
      "column:5 min:0.000000 max:1.000000 std:0.192456\n",
      "column:6 min:0.000000 max:1.000000 std:0.106077\n",
      "column:7 min:0.000000 max:1.000000 std:0.118127\n",
      "column:8 min:0.000000 max:1.000000 std:0.128450\n",
      "column:9 min:0.000000 max:1.000000 std:0.242769\n",
      "column:10 min:0.000000 max:1.000000 std:0.254232\n",
      "column:11 min:0.000000 max:1.000000 std:0.113218\n",
      "column:12 min:0.000000 max:1.000000 std:0.092386\n",
      "column:13 min:0.000000 max:1.000000 std:0.157747\n",
      "column:14 min:0.000000 max:1.000000 std:0.012079\n",
      "column:15 min:0.000000 max:1.000000 std:0.217447\n",
      "column:16 min:0.000010 max:0.500000 std:0.016379\n",
      "column:17 min:0.000500 max:0.180000 std:0.007451\n",
      "column:18 min:0.002500 max:0.600000 std:0.035017\n",
      "column:19 min:0.017000 max:0.233000 std:0.019091\n",
      "column:20 min:0.002400 max:0.642000 std:0.034971\n"
     ]
    }
   ],
   "source": [
    "## before normalization\n",
    "df_data = df_data\n",
    "checkStats(df_data)"
   ]
  },
  {
   "cell_type": "code",
   "execution_count": 16,
   "metadata": {},
   "outputs": [
    {
     "data": {
      "text/plain": [
       "\"\\n### mean substr and std dev div\\nfor col in cols_toNormalize:\\n    mean = df_data[col].mean()\\n    std = df_data[col].std()\\n    \\n    if mean == 0 or std == 0:     ### columns 'num_outbound_cmds', 'is_host_login' has zero mean and std dev!!!\\n        continue\\n    \\n    df_data[col] = (df_data[col] - mean) / std\\n\""
      ]
     },
     "execution_count": 16,
     "metadata": {},
     "output_type": "execute_result"
    }
   ],
   "source": [
    "### normalization\n",
    "\n",
    "### min substr and max-min div\n",
    "\n",
    "def normalise(df_data, cols_toNormalize):\n",
    "    for col in cols_toNormalize:\n",
    "        if len(col) == 1:\n",
    "            print(col)\n",
    "            continue\n",
    "            \n",
    "        min = df_data[col].min()\n",
    "        max = df_data[col].max()\n",
    "\n",
    "        if max - min == 0:\n",
    "            continue\n",
    "\n",
    "        df_data[col] = (df_data[col] - min) / (max - min)\n",
    "    \n",
    "    return df_data\n",
    "\n",
    "\n",
    "\n",
    "\"\"\"\n",
    "### mean substr and std dev div\n",
    "for col in cols_toNormalize:\n",
    "    mean = df_data[col].mean()\n",
    "    std = df_data[col].std()\n",
    "    \n",
    "    if mean == 0 or std == 0:     ### columns 'num_outbound_cmds', 'is_host_login' has zero mean and std dev!!!\n",
    "        continue\n",
    "    \n",
    "    df_data[col] = (df_data[col] - mean) / std\n",
    "\"\"\""
   ]
  },
  {
   "cell_type": "code",
   "execution_count": 17,
   "metadata": {
    "scrolled": true
   },
   "outputs": [
    {
     "name": "stdout",
     "output_type": "stream",
     "text": [
      "o\n",
      "i\n",
      "d\n",
      "j\n",
      "a\n",
      "e\n",
      "l\n",
      "g\n",
      "h\n",
      "f\n",
      "k\n",
      "n\n",
      "b\n",
      "m\n",
      "c\n",
      "column:0 min:0.000000 max:1.000000 std:0.197341\n",
      "column:1 min:0.000000 max:1.000000 std:0.461501\n",
      "column:2 min:0.000000 max:1.000000 std:0.340448\n",
      "column:3 min:0.000000 max:1.000000 std:0.123975\n",
      "column:4 min:0.000000 max:1.000000 std:0.113844\n",
      "column:5 min:0.000000 max:1.000000 std:0.192456\n",
      "column:6 min:0.000000 max:1.000000 std:0.106077\n",
      "column:7 min:0.000000 max:1.000000 std:0.118127\n",
      "column:8 min:0.000000 max:1.000000 std:0.128450\n",
      "column:9 min:0.000000 max:1.000000 std:0.242769\n",
      "column:10 min:0.000000 max:1.000000 std:0.254232\n",
      "column:11 min:0.000000 max:1.000000 std:0.113218\n",
      "column:12 min:0.000000 max:1.000000 std:0.092386\n",
      "column:13 min:0.000000 max:1.000000 std:0.157747\n",
      "column:14 min:0.000000 max:1.000000 std:0.012079\n",
      "column:15 min:0.000000 max:1.000000 std:0.217447\n",
      "column:16 min:0.000000 max:1.000000 std:0.032758\n",
      "column:17 min:0.000000 max:1.000000 std:0.041511\n",
      "column:18 min:0.000000 max:1.000000 std:0.058607\n",
      "column:19 min:0.000000 max:1.000000 std:0.088386\n",
      "column:20 min:0.000000 max:1.000000 std:0.054676\n",
      "           age    a    b    c    d    e    f    g    h    i   ...       l  \\\n",
      "1090  0.333333  1.0  0.0  0.0  0.0  0.0  0.0  0.0  0.0  0.0   ...     0.0   \n",
      "1911  0.479167  1.0  0.0  0.0  0.0  0.0  0.0  0.0  0.0  0.0   ...     0.0   \n",
      "6693  0.604167  0.0  0.0  0.0  0.0  0.0  0.0  0.0  0.0  0.0   ...     0.0   \n",
      "606   0.635417  1.0  0.0  0.0  0.0  0.0  0.0  0.0  0.0  0.0   ...     0.0   \n",
      "1980  0.739583  1.0  0.0  0.0  0.0  0.0  0.0  0.0  0.0  0.0   ...     0.0   \n",
      "5145  0.708333  0.0  0.0  0.0  0.0  0.0  0.0  0.0  0.0  1.0   ...     0.0   \n",
      "1425  0.447917  0.0  0.0  0.0  0.0  0.0  0.0  0.0  0.0  0.0   ...     0.0   \n",
      "6716  0.510417  0.0  1.0  0.0  0.0  0.0  0.0  0.0  0.0  0.0   ...     0.0   \n",
      "196   0.760417  0.0  0.0  0.0  0.0  0.0  0.0  0.0  0.0  0.0   ...     0.0   \n",
      "1679  0.666667  0.0  0.0  0.0  0.0  0.0  0.0  0.0  0.0  0.0   ...     0.0   \n",
      "1652  0.354167  0.0  0.0  0.0  0.0  0.0  0.0  0.0  0.0  0.0   ...     0.0   \n",
      "3661  0.614583  0.0  0.0  0.0  0.0  0.0  0.0  0.0  0.0  0.0   ...     0.0   \n",
      "5014  0.760417  0.0  0.0  0.0  0.0  0.0  0.0  0.0  0.0  0.0   ...     0.0   \n",
      "3629  0.354167  1.0  0.0  0.0  0.0  0.0  0.0  0.0  0.0  0.0   ...     0.0   \n",
      "6308  0.604167  1.0  0.0  0.0  0.0  0.0  0.0  0.0  0.0  0.0   ...     0.0   \n",
      "54    0.541667  0.0  0.0  0.0  0.0  0.0  0.0  0.0  0.0  0.0   ...     0.0   \n",
      "6491  0.458333  0.0  0.0  0.0  0.0  0.0  0.0  0.0  0.0  0.0   ...     0.0   \n",
      "3577  0.666667  0.0  0.0  0.0  0.0  0.0  0.0  0.0  0.0  0.0   ...     0.0   \n",
      "223   0.822917  0.0  0.0  0.0  0.0  0.0  0.0  0.0  0.0  0.0   ...     0.0   \n",
      "2842  0.760417  0.0  1.0  0.0  0.0  0.0  0.0  0.0  0.0  0.0   ...     0.0   \n",
      "6602  0.270833  0.0  0.0  0.0  0.0  0.0  0.0  0.0  0.0  0.0   ...     0.0   \n",
      "3101  0.729167  0.0  0.0  0.0  0.0  0.0  0.0  0.0  0.0  0.0   ...     0.0   \n",
      "4459  0.750000  1.0  0.0  0.0  0.0  0.0  0.0  0.0  0.0  0.0   ...     0.0   \n",
      "3107  0.739583  0.0  1.0  0.0  0.0  0.0  0.0  0.0  0.0  0.0   ...     0.0   \n",
      "1663  0.354167  0.0  0.0  0.0  0.0  0.0  0.0  0.0  0.0  0.0   ...     0.0   \n",
      "5574  0.208333  0.0  0.0  0.0  0.0  0.0  0.0  0.0  0.0  0.0   ...     0.0   \n",
      "6646  0.427083  0.0  0.0  0.0  0.0  0.0  0.0  0.0  0.0  0.0   ...     0.0   \n",
      "154   0.354167  0.0  0.0  0.0  0.0  0.0  0.0  0.0  0.0  1.0   ...     0.0   \n",
      "2046  0.468750  0.0  0.0  0.0  0.0  0.0  0.0  0.0  0.0  0.0   ...     0.0   \n",
      "2478  0.552083  0.0  0.0  0.0  0.0  0.0  0.0  0.0  0.0  0.0   ...     0.0   \n",
      "...        ...  ...  ...  ...  ...  ...  ...  ...  ...  ...   ...     ...   \n",
      "6451  0.229167  0.0  0.0  0.0  0.0  0.0  0.0  0.0  0.0  1.0   ...     0.0   \n",
      "255   0.791667  0.0  0.0  0.0  0.0  0.0  0.0  0.0  0.0  0.0   ...     0.0   \n",
      "4712  0.697917  0.0  0.0  0.0  0.0  0.0  0.0  0.0  0.0  0.0   ...     0.0   \n",
      "2751  0.489583  0.0  0.0  0.0  0.0  0.0  0.0  0.0  0.0  0.0   ...     0.0   \n",
      "2796  0.333333  0.0  0.0  0.0  0.0  0.0  0.0  0.0  0.0  0.0   ...     0.0   \n",
      "6554  0.635417  1.0  0.0  0.0  0.0  0.0  0.0  0.0  0.0  0.0   ...     0.0   \n",
      "4909  0.552083  1.0  0.0  0.0  0.0  0.0  0.0  0.0  0.0  0.0   ...     0.0   \n",
      "6771  0.572917  0.0  0.0  0.0  0.0  0.0  0.0  0.0  0.0  0.0   ...     0.0   \n",
      "3263  0.395833  0.0  0.0  0.0  0.0  0.0  0.0  0.0  0.0  0.0   ...     0.0   \n",
      "4777  0.666667  0.0  0.0  0.0  0.0  0.0  0.0  0.0  0.0  0.0   ...     0.0   \n",
      "6385  0.187500  0.0  0.0  0.0  0.0  0.0  0.0  0.0  0.0  0.0   ...     1.0   \n",
      "4136  0.593750  1.0  0.0  0.0  0.0  0.0  0.0  0.0  0.0  0.0   ...     0.0   \n",
      "1233  0.604167  1.0  0.0  0.0  0.0  0.0  0.0  0.0  0.0  0.0   ...     0.0   \n",
      "6644  0.552083  1.0  0.0  0.0  0.0  0.0  0.0  0.0  0.0  0.0   ...     0.0   \n",
      "2814  0.666667  0.0  0.0  0.0  0.0  0.0  0.0  0.0  0.0  0.0   ...     0.0   \n",
      "3255  0.739583  0.0  0.0  0.0  0.0  0.0  0.0  0.0  0.0  0.0   ...     0.0   \n",
      "3292  0.572917  0.0  0.0  0.0  0.0  0.0  0.0  0.0  0.0  0.0   ...     0.0   \n",
      "2876  0.770833  0.0  0.0  0.0  1.0  0.0  0.0  0.0  0.0  0.0   ...     0.0   \n",
      "837   0.531250  0.0  0.0  0.0  0.0  0.0  0.0  0.0  0.0  0.0   ...     0.0   \n",
      "5493  0.677083  0.0  0.0  0.0  0.0  0.0  0.0  0.0  0.0  0.0   ...     0.0   \n",
      "3884  0.520833  1.0  0.0  0.0  0.0  0.0  0.0  0.0  0.0  0.0   ...     0.0   \n",
      "6104  0.572917  0.0  0.0  0.0  0.0  0.0  0.0  0.0  0.0  0.0   ...     0.0   \n",
      "6312  0.520833  0.0  0.0  0.0  0.0  0.0  0.0  0.0  0.0  0.0   ...     0.0   \n",
      "4839  0.239583  1.0  0.0  0.0  0.0  1.0  0.0  0.0  0.0  0.0   ...     0.0   \n",
      "2054  0.541667  0.0  1.0  0.0  0.0  0.0  0.0  0.0  0.0  0.0   ...     0.0   \n",
      "1259  0.708333  0.0  0.0  0.0  0.0  0.0  0.0  0.0  0.0  0.0   ...     0.0   \n",
      "939   0.395833  0.0  0.0  0.0  0.0  0.0  0.0  0.0  0.0  0.0   ...     0.0   \n",
      "2655  0.395833  1.0  0.0  0.0  0.0  0.0  0.0  0.0  0.0  0.0   ...     0.0   \n",
      "2622  0.718750  0.0  0.0  0.0  0.0  0.0  0.0  0.0  0.0  0.0   ...     0.0   \n",
      "961   0.708333  0.0  0.0  0.0  0.0  0.0  0.0  0.0  0.0  0.0   ...     0.0   \n",
      "\n",
      "        m    n    o       TSH        T3       TT4       T4U       FTI    label  \n",
      "1090  0.0  0.0  1.0  0.004620  0.086351  0.104603  0.273148  0.130707   normal  \n",
      "1911  0.0  0.0  0.0  0.006180  0.130919  0.151464  0.430556  0.129143   normal  \n",
      "6693  0.0  0.0  0.0  0.000180  0.108635  0.166527  0.300926  0.191682   normal  \n",
      "606   0.0  0.0  0.0  0.000020  0.109192  0.287029  0.375000  0.272983   normal  \n",
      "1980  0.0  0.0  0.0  0.007180  0.075209  0.144770  0.273148  0.179174   normal  \n",
      "5145  0.0  0.0  0.0  0.000000  0.111978  0.290377  0.435185  0.243277   normal  \n",
      "1425  0.0  0.0  0.0  0.006380  0.136490  0.143096  0.393519  0.130707   normal  \n",
      "6716  0.0  0.0  0.0  0.001620  0.113092  0.203347  0.398148  0.185428   normal  \n",
      "196   0.0  0.0  0.0  0.018560  0.130919  0.191632  0.416667  0.165103  anomaly  \n",
      "1679  0.0  0.0  0.0  0.003980  0.147632  0.198326  0.370370  0.191682   normal  \n",
      "1652  0.0  0.0  0.0  0.001780  0.080780  0.158159  0.314815  0.174484   normal  \n",
      "3661  0.0  0.0  0.0  0.000580  0.097493  0.186611  0.384259  0.174484   normal  \n",
      "5014  0.0  0.0  0.0  0.004780  0.064067  0.154812  0.291667  0.182301   normal  \n",
      "3629  0.0  0.0  0.0  0.002980  0.108635  0.151464  0.388889  0.141651   normal  \n",
      "6308  0.0  0.0  0.0  0.002580  0.086351  0.133054  0.328704  0.141651   normal  \n",
      "54    0.0  0.0  0.0  0.012780  0.013928  0.017573  0.356481  0.018136  anomaly  \n",
      "6491  0.0  0.0  0.0  0.004580  0.130919  0.148117  0.319444  0.161976   normal  \n",
      "3577  0.0  0.0  0.0  0.000380  0.130919  0.211715  0.375000  0.201063   normal  \n",
      "223   0.0  0.0  0.0  0.012180  0.091922  0.189958  0.356481  0.188555  anomaly  \n",
      "2842  0.0  0.0  0.0  0.002180  0.091922  0.166527  0.375000  0.158849   normal  \n",
      "6602  0.0  0.0  0.0  0.004140  0.113092  0.186611  0.430556  0.158849   normal  \n",
      "3101  0.0  0.0  0.0  0.005980  0.064067  0.149791  0.240741  0.204190   normal  \n",
      "4459  0.0  0.0  0.0  0.003380  0.097493  0.327197  0.384259  0.305816   normal  \n",
      "3107  0.0  0.0  0.0  0.000060  0.175487  0.395816  0.305556  0.446529   normal  \n",
      "1663  0.0  0.0  0.0  0.004580  0.109192  0.208368  0.435185  0.174484   normal  \n",
      "5574  0.0  0.0  0.0  0.002980  0.108635  0.123013  0.398148  0.110381   normal  \n",
      "6646  0.0  0.0  0.0  0.002580  0.108635  0.141423  0.259259  0.180738   normal  \n",
      "154   0.0  0.0  0.0  0.025981  0.164345  0.231799  0.509259  0.169794  anomaly  \n",
      "2046  1.0  0.0  0.0  0.000900  0.125348  0.151464  0.333333  0.158849   normal  \n",
      "2478  0.0  0.0  0.0  0.002780  0.080780  0.174895  0.319444  0.190119   normal  \n",
      "...   ...  ...  ...       ...       ...       ...       ...       ...      ...  \n",
      "6451  0.0  0.0  0.0  0.000000  0.158774  0.338912  0.324074  0.363665   normal  \n",
      "255   0.0  0.0  0.0  0.001600  0.108635  0.129707  0.365741  0.126266   normal  \n",
      "4712  0.0  0.0  1.0  0.004780  0.086351  0.134728  0.333333  0.141651   normal  \n",
      "2751  0.0  0.0  0.0  0.003780  0.052925  0.096234  0.263889  0.122889   normal  \n",
      "2796  0.0  0.0  0.0  0.003380  0.109192  0.168201  0.453704  0.136961   normal  \n",
      "6554  0.0  0.0  0.0  0.000840  0.119777  0.200000  0.458333  0.158849   normal  \n",
      "4909  0.0  0.0  0.0  0.003780  0.108635  0.143096  0.361111  0.140088   normal  \n",
      "6771  0.0  0.0  0.0  0.003760  0.119777  0.119665  0.319444  0.130707   normal  \n",
      "3263  0.0  0.0  0.0  0.005580  0.109192  0.144770  0.337963  0.151032   normal  \n",
      "4777  0.0  0.0  0.0  0.003980  0.113092  0.253556  0.379630  0.240150   normal  \n",
      "6385  0.0  0.0  0.0  0.005580  0.075209  0.156485  0.328704  0.166667   normal  \n",
      "4136  0.0  0.0  0.0  0.000580  0.169916  0.248536  0.569444  0.165103   normal  \n",
      "1233  0.0  0.0  0.0  0.000160  0.109192  0.283682  0.365741  0.277674   normal  \n",
      "6644  0.0  0.0  0.0  0.006180  0.208914  0.258577  0.625000  0.157286   normal  \n",
      "2814  0.0  0.0  0.0  0.000040  0.109192  0.243515  0.398148  0.221388   normal  \n",
      "3255  0.0  0.0  0.0  0.006980  0.086351  0.176569  0.305556  0.199500   normal  \n",
      "3292  0.0  0.0  0.0  0.004380  0.119777  0.146444  0.310185  0.163540   normal  \n",
      "2876  0.0  0.0  0.0  0.001360  0.109192  0.191632  0.384259  0.179174   normal  \n",
      "837   0.0  0.0  0.0  0.003780  0.153203  0.203347  0.458333  0.161976   normal  \n",
      "5493  0.0  0.0  0.0  0.003980  0.111978  0.220084  0.375000  0.210444   normal  \n",
      "3884  0.0  0.0  0.0  0.002980  0.130919  0.168201  0.449074  0.136961   normal  \n",
      "6104  0.0  0.0  0.0  0.003980  0.052925  0.086192  0.282407  0.105691   normal  \n",
      "6312  0.0  0.0  0.0  0.002780  0.142061  0.193305  0.342593  0.199500   normal  \n",
      "4839  0.0  0.0  0.0  0.001540  0.136490  0.243515  0.490741  0.183865   normal  \n",
      "2054  0.0  0.0  0.0  0.000060  0.136490  0.273640  0.375000  0.260475   normal  \n",
      "1259  0.0  0.0  0.0  0.001560  0.091922  0.193305  0.379630  0.182301   normal  \n",
      "939   0.0  0.0  0.0  0.004620  0.109192  0.185423  0.365741  0.180363   normal  \n",
      "2655  0.0  0.0  0.0  0.000200  0.130919  0.221757  0.347222  0.226079   normal  \n",
      "2622  0.0  0.0  0.0  0.005180  0.109192  0.158159  0.439815  0.132270   normal  \n",
      "961   0.0  0.0  0.0  0.004140  0.091922  0.193305  0.342593  0.199500   normal  \n",
      "\n",
      "[6853 rows x 22 columns]\n"
     ]
    }
   ],
   "source": [
    "# ### Skipping normalisation for thyroid dataset. Added by Jyotirmay\n",
    "df_data=normalise(df_data, cols_toNormalize)\n",
    "checkStats(df_data)\n",
    "print(df_data)"
   ]
  },
  {
   "cell_type": "markdown",
   "metadata": {},
   "source": [
    "### One hot encoding of required columns"
   ]
  },
  {
   "cell_type": "code",
   "execution_count": 18,
   "metadata": {},
   "outputs": [],
   "source": [
    "### obtain one hot encoding\n",
    "\n",
    "df_data = pd.get_dummies(df_data, columns=cols_toOneHot)"
   ]
  },
  {
   "cell_type": "markdown",
   "metadata": {},
   "source": [
    "- Check the resulting dataset"
   ]
  },
  {
   "cell_type": "code",
   "execution_count": 19,
   "metadata": {
    "scrolled": true
   },
   "outputs": [
    {
     "data": {
      "text/html": [
       "<div>\n",
       "<style scoped>\n",
       "    .dataframe tbody tr th:only-of-type {\n",
       "        vertical-align: middle;\n",
       "    }\n",
       "\n",
       "    .dataframe tbody tr th {\n",
       "        vertical-align: top;\n",
       "    }\n",
       "\n",
       "    .dataframe thead th {\n",
       "        text-align: right;\n",
       "    }\n",
       "</style>\n",
       "<table border=\"1\" class=\"dataframe\">\n",
       "  <thead>\n",
       "    <tr style=\"text-align: right;\">\n",
       "      <th></th>\n",
       "      <th>age</th>\n",
       "      <th>a</th>\n",
       "      <th>b</th>\n",
       "      <th>c</th>\n",
       "      <th>d</th>\n",
       "      <th>e</th>\n",
       "      <th>f</th>\n",
       "      <th>g</th>\n",
       "      <th>h</th>\n",
       "      <th>i</th>\n",
       "      <th>...</th>\n",
       "      <th>m</th>\n",
       "      <th>n</th>\n",
       "      <th>o</th>\n",
       "      <th>TSH</th>\n",
       "      <th>T3</th>\n",
       "      <th>TT4</th>\n",
       "      <th>T4U</th>\n",
       "      <th>FTI</th>\n",
       "      <th>label_anomaly</th>\n",
       "      <th>label_normal</th>\n",
       "    </tr>\n",
       "  </thead>\n",
       "  <tbody>\n",
       "    <tr>\n",
       "      <th>1090</th>\n",
       "      <td>0.333333</td>\n",
       "      <td>1.0</td>\n",
       "      <td>0.0</td>\n",
       "      <td>0.0</td>\n",
       "      <td>0.0</td>\n",
       "      <td>0.0</td>\n",
       "      <td>0.0</td>\n",
       "      <td>0.0</td>\n",
       "      <td>0.0</td>\n",
       "      <td>0.0</td>\n",
       "      <td>...</td>\n",
       "      <td>0.0</td>\n",
       "      <td>0.0</td>\n",
       "      <td>1.0</td>\n",
       "      <td>0.00462</td>\n",
       "      <td>0.086351</td>\n",
       "      <td>0.104603</td>\n",
       "      <td>0.273148</td>\n",
       "      <td>0.130707</td>\n",
       "      <td>0</td>\n",
       "      <td>1</td>\n",
       "    </tr>\n",
       "    <tr>\n",
       "      <th>1911</th>\n",
       "      <td>0.479167</td>\n",
       "      <td>1.0</td>\n",
       "      <td>0.0</td>\n",
       "      <td>0.0</td>\n",
       "      <td>0.0</td>\n",
       "      <td>0.0</td>\n",
       "      <td>0.0</td>\n",
       "      <td>0.0</td>\n",
       "      <td>0.0</td>\n",
       "      <td>0.0</td>\n",
       "      <td>...</td>\n",
       "      <td>0.0</td>\n",
       "      <td>0.0</td>\n",
       "      <td>0.0</td>\n",
       "      <td>0.00618</td>\n",
       "      <td>0.130919</td>\n",
       "      <td>0.151464</td>\n",
       "      <td>0.430556</td>\n",
       "      <td>0.129143</td>\n",
       "      <td>0</td>\n",
       "      <td>1</td>\n",
       "    </tr>\n",
       "    <tr>\n",
       "      <th>6693</th>\n",
       "      <td>0.604167</td>\n",
       "      <td>0.0</td>\n",
       "      <td>0.0</td>\n",
       "      <td>0.0</td>\n",
       "      <td>0.0</td>\n",
       "      <td>0.0</td>\n",
       "      <td>0.0</td>\n",
       "      <td>0.0</td>\n",
       "      <td>0.0</td>\n",
       "      <td>0.0</td>\n",
       "      <td>...</td>\n",
       "      <td>0.0</td>\n",
       "      <td>0.0</td>\n",
       "      <td>0.0</td>\n",
       "      <td>0.00018</td>\n",
       "      <td>0.108635</td>\n",
       "      <td>0.166527</td>\n",
       "      <td>0.300926</td>\n",
       "      <td>0.191682</td>\n",
       "      <td>0</td>\n",
       "      <td>1</td>\n",
       "    </tr>\n",
       "    <tr>\n",
       "      <th>606</th>\n",
       "      <td>0.635417</td>\n",
       "      <td>1.0</td>\n",
       "      <td>0.0</td>\n",
       "      <td>0.0</td>\n",
       "      <td>0.0</td>\n",
       "      <td>0.0</td>\n",
       "      <td>0.0</td>\n",
       "      <td>0.0</td>\n",
       "      <td>0.0</td>\n",
       "      <td>0.0</td>\n",
       "      <td>...</td>\n",
       "      <td>0.0</td>\n",
       "      <td>0.0</td>\n",
       "      <td>0.0</td>\n",
       "      <td>0.00002</td>\n",
       "      <td>0.109192</td>\n",
       "      <td>0.287029</td>\n",
       "      <td>0.375000</td>\n",
       "      <td>0.272983</td>\n",
       "      <td>0</td>\n",
       "      <td>1</td>\n",
       "    </tr>\n",
       "    <tr>\n",
       "      <th>1980</th>\n",
       "      <td>0.739583</td>\n",
       "      <td>1.0</td>\n",
       "      <td>0.0</td>\n",
       "      <td>0.0</td>\n",
       "      <td>0.0</td>\n",
       "      <td>0.0</td>\n",
       "      <td>0.0</td>\n",
       "      <td>0.0</td>\n",
       "      <td>0.0</td>\n",
       "      <td>0.0</td>\n",
       "      <td>...</td>\n",
       "      <td>0.0</td>\n",
       "      <td>0.0</td>\n",
       "      <td>0.0</td>\n",
       "      <td>0.00718</td>\n",
       "      <td>0.075209</td>\n",
       "      <td>0.144770</td>\n",
       "      <td>0.273148</td>\n",
       "      <td>0.179174</td>\n",
       "      <td>0</td>\n",
       "      <td>1</td>\n",
       "    </tr>\n",
       "  </tbody>\n",
       "</table>\n",
       "<p>5 rows × 23 columns</p>\n",
       "</div>"
      ],
      "text/plain": [
       "           age    a    b    c    d    e    f    g    h    i      ...       \\\n",
       "1090  0.333333  1.0  0.0  0.0  0.0  0.0  0.0  0.0  0.0  0.0      ...        \n",
       "1911  0.479167  1.0  0.0  0.0  0.0  0.0  0.0  0.0  0.0  0.0      ...        \n",
       "6693  0.604167  0.0  0.0  0.0  0.0  0.0  0.0  0.0  0.0  0.0      ...        \n",
       "606   0.635417  1.0  0.0  0.0  0.0  0.0  0.0  0.0  0.0  0.0      ...        \n",
       "1980  0.739583  1.0  0.0  0.0  0.0  0.0  0.0  0.0  0.0  0.0      ...        \n",
       "\n",
       "        m    n    o      TSH        T3       TT4       T4U       FTI  \\\n",
       "1090  0.0  0.0  1.0  0.00462  0.086351  0.104603  0.273148  0.130707   \n",
       "1911  0.0  0.0  0.0  0.00618  0.130919  0.151464  0.430556  0.129143   \n",
       "6693  0.0  0.0  0.0  0.00018  0.108635  0.166527  0.300926  0.191682   \n",
       "606   0.0  0.0  0.0  0.00002  0.109192  0.287029  0.375000  0.272983   \n",
       "1980  0.0  0.0  0.0  0.00718  0.075209  0.144770  0.273148  0.179174   \n",
       "\n",
       "      label_anomaly  label_normal  \n",
       "1090              0             1  \n",
       "1911              0             1  \n",
       "6693              0             1  \n",
       "606               0             1  \n",
       "1980              0             1  \n",
       "\n",
       "[5 rows x 23 columns]"
      ]
     },
     "execution_count": 19,
     "metadata": {},
     "output_type": "execute_result"
    }
   ],
   "source": [
    "df_data.head()"
   ]
  },
  {
   "cell_type": "code",
   "execution_count": 20,
   "metadata": {},
   "outputs": [
    {
     "data": {
      "text/plain": [
       "(6853, 23)"
      ]
     },
     "execution_count": 20,
     "metadata": {},
     "output_type": "execute_result"
    }
   ],
   "source": [
    "### shape is correct\n",
    "\n",
    "df_data.shape"
   ]
  },
  {
   "cell_type": "code",
   "execution_count": 21,
   "metadata": {
    "scrolled": true
   },
   "outputs": [
    {
     "data": {
      "text/html": [
       "<div>\n",
       "<style scoped>\n",
       "    .dataframe tbody tr th:only-of-type {\n",
       "        vertical-align: middle;\n",
       "    }\n",
       "\n",
       "    .dataframe tbody tr th {\n",
       "        vertical-align: top;\n",
       "    }\n",
       "\n",
       "    .dataframe thead th {\n",
       "        text-align: right;\n",
       "    }\n",
       "</style>\n",
       "<table border=\"1\" class=\"dataframe\">\n",
       "  <thead>\n",
       "    <tr style=\"text-align: right;\">\n",
       "      <th></th>\n",
       "      <th>age</th>\n",
       "      <th>a</th>\n",
       "      <th>b</th>\n",
       "      <th>c</th>\n",
       "      <th>d</th>\n",
       "      <th>e</th>\n",
       "      <th>f</th>\n",
       "      <th>g</th>\n",
       "      <th>h</th>\n",
       "      <th>i</th>\n",
       "      <th>...</th>\n",
       "      <th>m</th>\n",
       "      <th>n</th>\n",
       "      <th>o</th>\n",
       "      <th>TSH</th>\n",
       "      <th>T3</th>\n",
       "      <th>TT4</th>\n",
       "      <th>T4U</th>\n",
       "      <th>FTI</th>\n",
       "      <th>label_anomaly</th>\n",
       "      <th>label_normal</th>\n",
       "    </tr>\n",
       "  </thead>\n",
       "  <tbody>\n",
       "    <tr>\n",
       "      <th>count</th>\n",
       "      <td>6853.000000</td>\n",
       "      <td>6853.000000</td>\n",
       "      <td>6853.000000</td>\n",
       "      <td>6853.000000</td>\n",
       "      <td>6853.000000</td>\n",
       "      <td>6853.000000</td>\n",
       "      <td>6853.000000</td>\n",
       "      <td>6853.000000</td>\n",
       "      <td>6853.000000</td>\n",
       "      <td>6853.000000</td>\n",
       "      <td>...</td>\n",
       "      <td>6853.000000</td>\n",
       "      <td>6853.000000</td>\n",
       "      <td>6853.000000</td>\n",
       "      <td>6853.000000</td>\n",
       "      <td>6853.000000</td>\n",
       "      <td>6853.000000</td>\n",
       "      <td>6853.000000</td>\n",
       "      <td>6853.000000</td>\n",
       "      <td>6853.000000</td>\n",
       "      <td>6853.000000</td>\n",
       "    </tr>\n",
       "    <tr>\n",
       "      <th>mean</th>\n",
       "      <td>0.531639</td>\n",
       "      <td>0.307603</td>\n",
       "      <td>0.133810</td>\n",
       "      <td>0.015614</td>\n",
       "      <td>0.013133</td>\n",
       "      <td>0.038523</td>\n",
       "      <td>0.011382</td>\n",
       "      <td>0.014154</td>\n",
       "      <td>0.016781</td>\n",
       "      <td>0.062892</td>\n",
       "      <td>...</td>\n",
       "      <td>0.025536</td>\n",
       "      <td>0.000146</td>\n",
       "      <td>0.049759</td>\n",
       "      <td>0.006882</td>\n",
       "      <td>0.109418</td>\n",
       "      <td>0.181021</td>\n",
       "      <td>0.373549</td>\n",
       "      <td>0.175391</td>\n",
       "      <td>0.036480</td>\n",
       "      <td>0.963520</td>\n",
       "    </tr>\n",
       "    <tr>\n",
       "      <th>std</th>\n",
       "      <td>0.197355</td>\n",
       "      <td>0.461535</td>\n",
       "      <td>0.340473</td>\n",
       "      <td>0.123984</td>\n",
       "      <td>0.113852</td>\n",
       "      <td>0.192470</td>\n",
       "      <td>0.106085</td>\n",
       "      <td>0.118136</td>\n",
       "      <td>0.128459</td>\n",
       "      <td>0.242787</td>\n",
       "      <td>...</td>\n",
       "      <td>0.157759</td>\n",
       "      <td>0.012080</td>\n",
       "      <td>0.217463</td>\n",
       "      <td>0.032760</td>\n",
       "      <td>0.041514</td>\n",
       "      <td>0.058611</td>\n",
       "      <td>0.088393</td>\n",
       "      <td>0.054680</td>\n",
       "      <td>0.187496</td>\n",
       "      <td>0.187496</td>\n",
       "    </tr>\n",
       "    <tr>\n",
       "      <th>min</th>\n",
       "      <td>0.000000</td>\n",
       "      <td>0.000000</td>\n",
       "      <td>0.000000</td>\n",
       "      <td>0.000000</td>\n",
       "      <td>0.000000</td>\n",
       "      <td>0.000000</td>\n",
       "      <td>0.000000</td>\n",
       "      <td>0.000000</td>\n",
       "      <td>0.000000</td>\n",
       "      <td>0.000000</td>\n",
       "      <td>...</td>\n",
       "      <td>0.000000</td>\n",
       "      <td>0.000000</td>\n",
       "      <td>0.000000</td>\n",
       "      <td>0.000000</td>\n",
       "      <td>0.000000</td>\n",
       "      <td>0.000000</td>\n",
       "      <td>0.000000</td>\n",
       "      <td>0.000000</td>\n",
       "      <td>0.000000</td>\n",
       "      <td>0.000000</td>\n",
       "    </tr>\n",
       "    <tr>\n",
       "      <th>25%</th>\n",
       "      <td>0.375000</td>\n",
       "      <td>0.000000</td>\n",
       "      <td>0.000000</td>\n",
       "      <td>0.000000</td>\n",
       "      <td>0.000000</td>\n",
       "      <td>0.000000</td>\n",
       "      <td>0.000000</td>\n",
       "      <td>0.000000</td>\n",
       "      <td>0.000000</td>\n",
       "      <td>0.000000</td>\n",
       "      <td>...</td>\n",
       "      <td>0.000000</td>\n",
       "      <td>0.000000</td>\n",
       "      <td>0.000000</td>\n",
       "      <td>0.001380</td>\n",
       "      <td>0.091922</td>\n",
       "      <td>0.146444</td>\n",
       "      <td>0.324074</td>\n",
       "      <td>0.146341</td>\n",
       "      <td>0.000000</td>\n",
       "      <td>1.000000</td>\n",
       "    </tr>\n",
       "    <tr>\n",
       "      <th>50%</th>\n",
       "      <td>0.552083</td>\n",
       "      <td>0.000000</td>\n",
       "      <td>0.000000</td>\n",
       "      <td>0.000000</td>\n",
       "      <td>0.000000</td>\n",
       "      <td>0.000000</td>\n",
       "      <td>0.000000</td>\n",
       "      <td>0.000000</td>\n",
       "      <td>0.000000</td>\n",
       "      <td>0.000000</td>\n",
       "      <td>...</td>\n",
       "      <td>0.000000</td>\n",
       "      <td>0.000000</td>\n",
       "      <td>0.000000</td>\n",
       "      <td>0.003180</td>\n",
       "      <td>0.109192</td>\n",
       "      <td>0.174895</td>\n",
       "      <td>0.365741</td>\n",
       "      <td>0.171357</td>\n",
       "      <td>0.000000</td>\n",
       "      <td>1.000000</td>\n",
       "    </tr>\n",
       "    <tr>\n",
       "      <th>75%</th>\n",
       "      <td>0.687500</td>\n",
       "      <td>1.000000</td>\n",
       "      <td>0.000000</td>\n",
       "      <td>0.000000</td>\n",
       "      <td>0.000000</td>\n",
       "      <td>0.000000</td>\n",
       "      <td>0.000000</td>\n",
       "      <td>0.000000</td>\n",
       "      <td>0.000000</td>\n",
       "      <td>0.000000</td>\n",
       "      <td>...</td>\n",
       "      <td>0.000000</td>\n",
       "      <td>0.000000</td>\n",
       "      <td>0.000000</td>\n",
       "      <td>0.004780</td>\n",
       "      <td>0.119777</td>\n",
       "      <td>0.206695</td>\n",
       "      <td>0.402778</td>\n",
       "      <td>0.194809</td>\n",
       "      <td>0.000000</td>\n",
       "      <td>1.000000</td>\n",
       "    </tr>\n",
       "    <tr>\n",
       "      <th>max</th>\n",
       "      <td>1.000000</td>\n",
       "      <td>1.000000</td>\n",
       "      <td>1.000000</td>\n",
       "      <td>1.000000</td>\n",
       "      <td>1.000000</td>\n",
       "      <td>1.000000</td>\n",
       "      <td>1.000000</td>\n",
       "      <td>1.000000</td>\n",
       "      <td>1.000000</td>\n",
       "      <td>1.000000</td>\n",
       "      <td>...</td>\n",
       "      <td>1.000000</td>\n",
       "      <td>1.000000</td>\n",
       "      <td>1.000000</td>\n",
       "      <td>1.000000</td>\n",
       "      <td>1.000000</td>\n",
       "      <td>1.000000</td>\n",
       "      <td>1.000000</td>\n",
       "      <td>1.000000</td>\n",
       "      <td>1.000000</td>\n",
       "      <td>1.000000</td>\n",
       "    </tr>\n",
       "  </tbody>\n",
       "</table>\n",
       "<p>8 rows × 23 columns</p>\n",
       "</div>"
      ],
      "text/plain": [
       "               age            a            b            c            d  \\\n",
       "count  6853.000000  6853.000000  6853.000000  6853.000000  6853.000000   \n",
       "mean      0.531639     0.307603     0.133810     0.015614     0.013133   \n",
       "std       0.197355     0.461535     0.340473     0.123984     0.113852   \n",
       "min       0.000000     0.000000     0.000000     0.000000     0.000000   \n",
       "25%       0.375000     0.000000     0.000000     0.000000     0.000000   \n",
       "50%       0.552083     0.000000     0.000000     0.000000     0.000000   \n",
       "75%       0.687500     1.000000     0.000000     0.000000     0.000000   \n",
       "max       1.000000     1.000000     1.000000     1.000000     1.000000   \n",
       "\n",
       "                 e            f            g            h            i  \\\n",
       "count  6853.000000  6853.000000  6853.000000  6853.000000  6853.000000   \n",
       "mean      0.038523     0.011382     0.014154     0.016781     0.062892   \n",
       "std       0.192470     0.106085     0.118136     0.128459     0.242787   \n",
       "min       0.000000     0.000000     0.000000     0.000000     0.000000   \n",
       "25%       0.000000     0.000000     0.000000     0.000000     0.000000   \n",
       "50%       0.000000     0.000000     0.000000     0.000000     0.000000   \n",
       "75%       0.000000     0.000000     0.000000     0.000000     0.000000   \n",
       "max       1.000000     1.000000     1.000000     1.000000     1.000000   \n",
       "\n",
       "           ...                 m            n            o          TSH  \\\n",
       "count      ...       6853.000000  6853.000000  6853.000000  6853.000000   \n",
       "mean       ...          0.025536     0.000146     0.049759     0.006882   \n",
       "std        ...          0.157759     0.012080     0.217463     0.032760   \n",
       "min        ...          0.000000     0.000000     0.000000     0.000000   \n",
       "25%        ...          0.000000     0.000000     0.000000     0.001380   \n",
       "50%        ...          0.000000     0.000000     0.000000     0.003180   \n",
       "75%        ...          0.000000     0.000000     0.000000     0.004780   \n",
       "max        ...          1.000000     1.000000     1.000000     1.000000   \n",
       "\n",
       "                T3          TT4          T4U          FTI  label_anomaly  \\\n",
       "count  6853.000000  6853.000000  6853.000000  6853.000000    6853.000000   \n",
       "mean      0.109418     0.181021     0.373549     0.175391       0.036480   \n",
       "std       0.041514     0.058611     0.088393     0.054680       0.187496   \n",
       "min       0.000000     0.000000     0.000000     0.000000       0.000000   \n",
       "25%       0.091922     0.146444     0.324074     0.146341       0.000000   \n",
       "50%       0.109192     0.174895     0.365741     0.171357       0.000000   \n",
       "75%       0.119777     0.206695     0.402778     0.194809       0.000000   \n",
       "max       1.000000     1.000000     1.000000     1.000000       1.000000   \n",
       "\n",
       "       label_normal  \n",
       "count   6853.000000  \n",
       "mean       0.963520  \n",
       "std        0.187496  \n",
       "min        0.000000  \n",
       "25%        1.000000  \n",
       "50%        1.000000  \n",
       "75%        1.000000  \n",
       "max        1.000000  \n",
       "\n",
       "[8 rows x 23 columns]"
      ]
     },
     "execution_count": 21,
     "metadata": {},
     "output_type": "execute_result"
    }
   ],
   "source": [
    "df_data.describe()"
   ]
  },
  {
   "cell_type": "code",
   "execution_count": 22,
   "metadata": {
    "scrolled": true
   },
   "outputs": [
    {
     "name": "stdout",
     "output_type": "stream",
     "text": [
      "column:0 min:0.000000 max:1.000000 std:0.197341\n",
      "column:1 min:0.000000 max:1.000000 std:0.461501\n",
      "column:2 min:0.000000 max:1.000000 std:0.340448\n",
      "column:3 min:0.000000 max:1.000000 std:0.123975\n",
      "column:4 min:0.000000 max:1.000000 std:0.113844\n",
      "column:5 min:0.000000 max:1.000000 std:0.192456\n",
      "column:6 min:0.000000 max:1.000000 std:0.106077\n",
      "column:7 min:0.000000 max:1.000000 std:0.118127\n",
      "column:8 min:0.000000 max:1.000000 std:0.128450\n",
      "column:9 min:0.000000 max:1.000000 std:0.242769\n",
      "column:10 min:0.000000 max:1.000000 std:0.254232\n",
      "column:11 min:0.000000 max:1.000000 std:0.113218\n",
      "column:12 min:0.000000 max:1.000000 std:0.092386\n",
      "column:13 min:0.000000 max:1.000000 std:0.157747\n",
      "column:14 min:0.000000 max:1.000000 std:0.012079\n",
      "column:15 min:0.000000 max:1.000000 std:0.217447\n",
      "column:16 min:0.000000 max:1.000000 std:0.032758\n",
      "column:17 min:0.000000 max:1.000000 std:0.041511\n",
      "column:18 min:0.000000 max:1.000000 std:0.058607\n",
      "column:19 min:0.000000 max:1.000000 std:0.088386\n",
      "column:20 min:0.000000 max:1.000000 std:0.054676\n",
      "column:21 min:0.000000 max:1.000000 std:0.187482\n",
      "column:22 min:0.000000 max:1.000000 std:0.187482\n"
     ]
    }
   ],
   "source": [
    "### check again\n",
    "\n",
    "checkStats(df_data)"
   ]
  },
  {
   "cell_type": "code",
   "execution_count": 23,
   "metadata": {},
   "outputs": [
    {
     "name": "stdout",
     "output_type": "stream",
     "text": [
      "False\n",
      "False\n"
     ]
    }
   ],
   "source": [
    "## check integrity of the data again\n",
    "\n",
    "print(df_data.isnull().values.any())\n",
    "\n",
    "print(df_data.isna().values.any())"
   ]
  },
  {
   "cell_type": "code",
   "execution_count": 24,
   "metadata": {
    "scrolled": true
   },
   "outputs": [
    {
     "name": "stdout",
     "output_type": "stream",
     "text": [
      "1302    1\n",
      "4596    1\n",
      "1192    1\n",
      "1874    1\n",
      "4566    1\n",
      "4071    1\n",
      "4004    1\n",
      "6168    1\n",
      "6036    1\n",
      "3503    1\n",
      "Name: label_normal, dtype: uint8\n",
      "1302    0\n",
      "4596    0\n",
      "1192    0\n",
      "1874    0\n",
      "4566    0\n",
      "4071    0\n",
      "4004    0\n",
      "6168    0\n",
      "6036    0\n",
      "3503    0\n",
      "Name: label_anomaly, dtype: uint8\n",
      "1302    n\n",
      "4596    n\n",
      "1192    n\n",
      "1874    n\n",
      "4566    n\n",
      "4071    n\n",
      "4004    n\n",
      "6168    n\n",
      "6036    n\n",
      "3503    n\n",
      "Name: labels, dtype: object\n"
     ]
    }
   ],
   "source": [
    "### check again\n",
    "print(df_data.iloc[740:750, -1])\n",
    "\n",
    "print(df_data.iloc[740:750, -2])\n",
    "\n",
    "print(df_labels.iloc[740:750, -1])"
   ]
  },
  {
   "cell_type": "markdown",
   "metadata": {},
   "source": [
    "### Save dataset"
   ]
  },
  {
   "cell_type": "code",
   "execution_count": 25,
   "metadata": {},
   "outputs": [],
   "source": [
    "dataset = df_data.values"
   ]
  },
  {
   "cell_type": "code",
   "execution_count": 26,
   "metadata": {},
   "outputs": [
    {
     "data": {
      "text/plain": [
       "(6853, 23)"
      ]
     },
     "execution_count": 26,
     "metadata": {},
     "output_type": "execute_result"
    }
   ],
   "source": [
    "dataset.shape"
   ]
  },
  {
   "cell_type": "code",
   "execution_count": 27,
   "metadata": {},
   "outputs": [],
   "source": [
    "np.savez_compressed(\"thyroid.npz\", dataset=dataset)"
   ]
  },
  {
   "cell_type": "markdown",
   "metadata": {},
   "source": [
    "### Produce train and test splits"
   ]
  },
  {
   "cell_type": "code",
   "execution_count": 28,
   "metadata": {},
   "outputs": [],
   "source": [
    "random_state = None"
   ]
  },
  {
   "cell_type": "code",
   "execution_count": 29,
   "metadata": {},
   "outputs": [],
   "source": [
    "from sklearn.model_selection import train_test_split\n",
    "\n",
    "x_train, x_test = train_test_split(dataset, test_size=0.5, random_state=random_state)"
   ]
  },
  {
   "cell_type": "code",
   "execution_count": 30,
   "metadata": {},
   "outputs": [
    {
     "data": {
      "text/plain": [
       "(3426, 23)"
      ]
     },
     "execution_count": 30,
     "metadata": {},
     "output_type": "execute_result"
    }
   ],
   "source": [
    "x_train.shape"
   ]
  },
  {
   "cell_type": "code",
   "execution_count": 31,
   "metadata": {},
   "outputs": [
    {
     "data": {
      "text/plain": [
       "(3427, 23)"
      ]
     },
     "execution_count": 31,
     "metadata": {},
     "output_type": "execute_result"
    }
   ],
   "source": [
    "x_test.shape"
   ]
  },
  {
   "cell_type": "markdown",
   "metadata": {},
   "source": [
    "-  Normal class is anomaly (attack) in this case, because non-attack rows are minority"
   ]
  },
  {
   "cell_type": "code",
   "execution_count": 32,
   "metadata": {},
   "outputs": [],
   "source": [
    "x_train_normal = x_train[np.where(x_train[:,-1] == 1)]   ##last column is the normal column\n",
    "x_train_anomaly = x_train[np.where(x_train[:,-1] == 0)]   "
   ]
  },
  {
   "cell_type": "code",
   "execution_count": 33,
   "metadata": {},
   "outputs": [
    {
     "data": {
      "text/plain": [
       "(3294, 23)"
      ]
     },
     "execution_count": 33,
     "metadata": {},
     "output_type": "execute_result"
    }
   ],
   "source": [
    "x_train_normal.shape"
   ]
  },
  {
   "cell_type": "code",
   "execution_count": 34,
   "metadata": {},
   "outputs": [
    {
     "data": {
      "text/plain": [
       "(132, 23)"
      ]
     },
     "execution_count": 34,
     "metadata": {},
     "output_type": "execute_result"
    }
   ],
   "source": [
    "x_train_anomaly.shape   "
   ]
  },
  {
   "cell_type": "code",
   "execution_count": 35,
   "metadata": {},
   "outputs": [],
   "source": [
    "x_train = x_train_normal"
   ]
  },
  {
   "cell_type": "markdown",
   "metadata": {},
   "source": [
    "- x_train consist of \"normal\" values"
   ]
  },
  {
   "cell_type": "code",
   "execution_count": 36,
   "metadata": {},
   "outputs": [
    {
     "data": {
      "text/plain": [
       "(3294, 23)"
      ]
     },
     "execution_count": 36,
     "metadata": {},
     "output_type": "execute_result"
    }
   ],
   "source": [
    "x_train.shape"
   ]
  },
  {
   "cell_type": "code",
   "execution_count": 37,
   "metadata": {},
   "outputs": [
    {
     "data": {
      "text/plain": [
       "(3427, 23)"
      ]
     },
     "execution_count": 37,
     "metadata": {},
     "output_type": "execute_result"
    }
   ],
   "source": [
    "x_test.shape"
   ]
  },
  {
   "cell_type": "markdown",
   "metadata": {},
   "source": [
    "- Assign arbitrary output as labels"
   ]
  },
  {
   "cell_type": "code",
   "execution_count": 38,
   "metadata": {},
   "outputs": [
    {
     "data": {
      "text/plain": [
       "(3294, 2)"
      ]
     },
     "execution_count": 38,
     "metadata": {},
     "output_type": "execute_result"
    }
   ],
   "source": [
    "y_train = np.zeros((len(x_train),2))\n",
    "y_train[:,0] = 1\n",
    "y_train.shape"
   ]
  },
  {
   "cell_type": "code",
   "execution_count": 39,
   "metadata": {},
   "outputs": [],
   "source": [
    "train_name = \"thyroid_train-randomState_\"+str(random_state)+\".npz\"\n",
    "test_name = \"thyroid_test-randomState_\"+str(random_state)+\".npz\"\n",
    "\n",
    "np.savez_compressed(train_name, x_train=x_train, y_train=y_train)\n",
    "np.savez_compressed(test_name, x_test=x_test)"
   ]
  },
  {
   "cell_type": "code",
   "execution_count": null,
   "metadata": {},
   "outputs": [],
   "source": []
  },
  {
   "cell_type": "code",
   "execution_count": null,
   "metadata": {},
   "outputs": [],
   "source": []
  },
  {
   "cell_type": "code",
   "execution_count": null,
   "metadata": {},
   "outputs": [],
   "source": []
  },
  {
   "cell_type": "code",
   "execution_count": null,
   "metadata": {},
   "outputs": [],
   "source": []
  }
 ],
 "metadata": {
  "kernelspec": {
   "display_name": "Python 3",
   "language": "python",
   "name": "python3"
  },
  "language_info": {
   "codemirror_mode": {
    "name": "ipython",
    "version": 3
   },
   "file_extension": ".py",
   "mimetype": "text/x-python",
   "name": "python",
   "nbconvert_exporter": "python",
   "pygments_lexer": "ipython3",
   "version": "3.6.4"
  }
 },
 "nbformat": 4,
 "nbformat_minor": 2
}
