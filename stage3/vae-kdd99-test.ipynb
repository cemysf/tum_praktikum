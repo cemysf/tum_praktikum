{
 "cells": [
  {
   "cell_type": "markdown",
   "metadata": {},
   "source": [
    "### Test the trained network"
   ]
  },
  {
   "cell_type": "markdown",
   "metadata": {},
   "source": [
    "- Full network with VAE instead of AE"
   ]
  },
  {
   "cell_type": "code",
   "execution_count": 1,
   "metadata": {},
   "outputs": [
    {
     "name": "stderr",
     "output_type": "stream",
     "text": [
      "/home/gabrielle/anaconda3/lib/python3.6/site-packages/h5py/__init__.py:36: FutureWarning: Conversion of the second argument of issubdtype from `float` to `np.floating` is deprecated. In future, it will be treated as `np.float64 == np.dtype(float).type`.\n",
      "  from ._conv import register_converters as _register_converters\n",
      "Using TensorFlow backend.\n"
     ]
    }
   ],
   "source": [
    "from keras.layers import Input, Dense, Activation, Lambda, Dropout, Concatenate, Reshape\n",
    "from keras.models import Model, Sequential\n",
    "from keras.callbacks import TensorBoard\n",
    "from keras import optimizers\n",
    "from keras import backend as K\n",
    "\n",
    "from keras.regularizers import l2\n",
    "\n",
    "\n",
    "import numpy as np\n",
    "import tensorflow as tf\n",
    "\n",
    "import matplotlib.pyplot as plt\n",
    "%matplotlib inline\n",
    "\n",
    "np.random.seed(0)\n",
    "tf.set_random_seed(0)"
   ]
  },
  {
   "cell_type": "markdown",
   "metadata": {},
   "source": [
    "- Network to load"
   ]
  },
  {
   "cell_type": "code",
   "execution_count": 2,
   "metadata": {},
   "outputs": [],
   "source": [
    "timestamp = \"2018-07-28_09:44\"\n",
    "batch_size = 1024"
   ]
  },
  {
   "cell_type": "markdown",
   "metadata": {},
   "source": [
    "- Plot loss history"
   ]
  },
  {
   "cell_type": "code",
   "execution_count": 3,
   "metadata": {},
   "outputs": [],
   "source": [
    "%matplotlib inline\n",
    "import matplotlib.pyplot as plt\n",
    "\n",
    "from pylab import rcParams\n",
    "rcParams['figure.figsize'] = 12, 8"
   ]
  },
  {
   "cell_type": "code",
   "execution_count": 4,
   "metadata": {},
   "outputs": [],
   "source": [
    "def plotHistory(loss_array, save=False, savename=timestamp+\"-lossGraph.png\"):\n",
    "    fig = plt.figure()\n",
    "    ax = fig.add_subplot(111)    # The big subplot\n",
    "    ax.set_title(\"Loss graph for end-to-end training\")\n",
    "\n",
    "    ax.set_xlabel('epochs')\n",
    "    ax.set_ylabel('loss')\n",
    "    ax.plot(loss_array)\n",
    "    \n",
    "    if save:\n",
    "        plt.savefig(savename)"
   ]
  },
  {
   "cell_type": "code",
   "execution_count": 5,
   "metadata": {},
   "outputs": [],
   "source": [
    "filename = timestamp + \"_history.npz\"\n",
    "with np.load(filename) as data:\n",
    "    history = data[\"history_loss\"]\n",
    "\n",
    "\n",
    "history_epoch=[] ## avrg histories over all epochs\n",
    "\n",
    "d=history.ravel()[0]   ##get the dictionary\n",
    "\n",
    "for key in d.keys():\n",
    "    if key.find(\"avg\") > 0:  ## if the key contains \"avg\", add it to history_epoch\n",
    "        history_epoch.append(d[key])"
   ]
  },
  {
   "cell_type": "code",
   "execution_count": 6,
   "metadata": {
    "scrolled": false
   },
   "outputs": [
    {
     "data": {
      "image/png": "[encoded data removed]",
      "text/plain": [
       "<matplotlib.figure.Figure at 0x7f85198ee550>"
      ]
     },
     "metadata": {},
     "output_type": "display_data"
    }
   ],
   "source": [
    "plotHistory(history_epoch, save=True)"
   ]
  },
  {
   "cell_type": "markdown",
   "metadata": {},
   "source": [
    "- Network definition for testing"
   ]
  },
  {
   "cell_type": "code",
   "execution_count": 7,
   "metadata": {},
   "outputs": [],
   "source": [
    "def xavier_init(fan_in, fan_out, constant=1): \n",
    "    \"\"\" Xavier initialization of network weights\"\"\"\n",
    "    # https://stackoverflow.com/questions/33640581/how-to-do-xavier-initialization-on-tensorflow\n",
    "    low = -constant*np.sqrt(6.0/(fan_in + fan_out)) \n",
    "    high = constant*np.sqrt(6.0/(fan_in + fan_out))\n",
    "    return tf.random_uniform((fan_in, fan_out), \n",
    "                             minval=low, maxval=high, \n",
    "                             dtype=tf.float32)"
   ]
  },
  {
   "cell_type": "code",
   "execution_count": 8,
   "metadata": {},
   "outputs": [],
   "source": [
    "class VariationalAutoencoder(object):\n",
    "    \"\"\" Variation Autoencoder (VAE) with an sklearn-like interface implemented using TensorFlow.\n",
    "    \n",
    "    This implementation uses probabilistic encoders and decoders using Gaussian \n",
    "    distributions and  realized by multi-layer perceptrons. The VAE can be learned\n",
    "    end-to-end.\n",
    "    \n",
    "    See \"Auto-Encoding Variational Bayes\" by Kingma and Welling for more details.\n",
    "    \"\"\"\n",
    "    def __init__(self, network_architecture, \n",
    "                 transfer_fct=tf.nn.softplus, \n",
    "                 learning_rate=0.001, \n",
    "                 batch_size=100,\n",
    "                 gmm_mixtures=4,  ###default for the kdd99, from paper\n",
    "                 lambda_1 = 0.1,\n",
    "                 lambda_2 = 0.005,\n",
    "                ):\n",
    "        \n",
    "        \n",
    "        self.network_architecture = network_architecture\n",
    "        self.transfer_fct = transfer_fct\n",
    "        self.learning_rate = learning_rate\n",
    "        self.batch_size = batch_size\n",
    "        self.gmm_mixtures = gmm_mixtures\n",
    "        self.lambda_1 = lambda_1\n",
    "        self.lambda_2 = lambda_2\n",
    "        \n",
    "        \n",
    "        # tf Graph input\n",
    "        self.x = tf.placeholder(tf.float32, [None, network_architecture[\"n_input\"]])\n",
    "        \n",
    "        # Create autoencoder network\n",
    "        self._create_network()\n",
    "        \n",
    "        ### init gmm parameters\n",
    "        self.phi, self.mu, self.sigma = self._init_gmm()\n",
    "        \n",
    "        # Define loss function based variational upper-bound and \n",
    "        # corresponding optimizer\n",
    "        ###self._create_loss_optimizer()\n",
    "        self._total_loss()  ### new one\n",
    "        \n",
    "        # Initializing the tensor flow variables\n",
    "        init = tf.global_variables_initializer()\n",
    "\n",
    "        # Launch the session\n",
    "        self.sess = tf.InteractiveSession()\n",
    "        self.sess.run(init)\n",
    "    \n",
    "    def _create_network(self):\n",
    "        # Initialize autoencode network weights and biases\n",
    "        network_weights = self._initialize_weights(**self.network_architecture)\n",
    "\n",
    "        # Use recognition network to determine mean and \n",
    "        # (log) variance of Gaussian distribution in latent\n",
    "        # space\n",
    "        self.z_mean, self.z_log_sigma_sq = \\\n",
    "            self._recognition_network(network_weights[\"weights_recog\"], \n",
    "                                      network_weights[\"biases_recog\"])\n",
    "\n",
    "        # Draw one sample z from Gaussian distribution\n",
    "        n_z = self.network_architecture[\"n_z\"]\n",
    "        eps = tf.random_normal((self.batch_size, n_z), 0, 1, \n",
    "                               dtype=tf.float32)\n",
    "        # z = mu + sigma*epsilon\n",
    "        self.z = tf.add(self.z_mean, \n",
    "                        tf.multiply(tf.sqrt(tf.exp(self.z_log_sigma_sq)), eps))\n",
    "\n",
    "        # Use generator to determine mean of\n",
    "        # Bernoulli distribution of reconstructed input\n",
    "        self.x_reconstr_mean = \\\n",
    "            self._generator_network(network_weights[\"weights_gener\"],\n",
    "                                    network_weights[\"biases_gener\"])\n",
    "        \n",
    "        ## cosine similarity\n",
    "        self.cossim = self._layer_cossim(self.x, self.x_reconstr_mean)\n",
    "        \n",
    "        ## relative euc similarity\n",
    "        self.relative_euc = self._layer_relative_eucdist(self.x, self.x_reconstr_mean)\n",
    "        \n",
    "        ## concat layers (z in original paper)\n",
    "        self.concat = self._layer_concat(self.z, self.cossim, self.relative_euc)\n",
    "        \n",
    "        \n",
    "        ##### estimation net\n",
    "        input_est = self.concat \n",
    "        \n",
    "        est_layer = Dense(10, activation='tanh', kernel_regularizer=l2(0.00001), bias_regularizer=l2(0.00001))(input_est)   ####(input_est)\n",
    "        est_layer = Dropout(0.5)(est_layer)\n",
    "        self.est_output = Dense(self.gmm_mixtures, activation='softmax', kernel_regularizer=l2(0.00001), bias_regularizer=l2(0.00001), name='gamma')(est_layer)\n",
    "\n",
    "        \n",
    "    def _layer_cossim(self, input_layer, output_layer):\n",
    "        '''\n",
    "        a: batch x 120\n",
    "        b: batch x 120 \n",
    "\n",
    "        output: batch x 1\n",
    "        '''\n",
    "        a, b = input_layer, output_layer  #a_b\n",
    "    \n",
    "        norm_a = K.sqrt(K.sum(a ** 2, axis=-1))\n",
    "        norm_b = K.sqrt(K.sum(b ** 2, axis=-1))\n",
    "    \n",
    "        out = K.sum(a * b, axis=-1) / (norm_a * norm_b)\n",
    "        out = K.reshape(out, [self.batch_size, 1])\n",
    "        \n",
    "        return out\n",
    "        \n",
    "        \n",
    "    def _layer_relative_eucdist(self, input_layer, output_layer):\n",
    "        '''\n",
    "        a: batch x 120\n",
    "        b: batch x 120 \n",
    "\n",
    "        output: batch x 1\n",
    "        '''\n",
    "        a, b = input_layer, output_layer  #a_b\n",
    "\n",
    "        norm_diff = K.sqrt(K.sum((a - b)**2, axis=-1))\n",
    "        norm_a = K.sqrt(K.sum(a ** 2, axis=-1))\n",
    "\n",
    "        out = norm_diff / norm_a\n",
    "        out = K.reshape(out, [self.batch_size, 1])\n",
    "\n",
    "        return out\n",
    "        \n",
    "        \n",
    "    def _layer_concat(self, lowdim, cossim, relative_euc):\n",
    "        return K.concatenate([lowdim, cossim, relative_euc])\n",
    "    \n",
    "    \n",
    "    def _init_gmm(self):\n",
    "        k = self.gmm_mixtures\n",
    "        self.d = d = int(self.concat.get_shape()[1])\n",
    "        \n",
    "        phi = tf.get_variable(\"phi\",\n",
    "                      shape=(k),\n",
    "                      dtype=tf.float32,\n",
    "                      initializer=tf.zeros_initializer(),\n",
    "                      trainable=False)\n",
    "\n",
    "        mu = tf.get_variable(\"mu\",\n",
    "                              shape=(k,d),\n",
    "                              dtype=tf.float32,\n",
    "                              initializer=tf.zeros_initializer(), \n",
    "                              trainable=False)\n",
    "\n",
    "        sigma_init = np.repeat([np.eye(d, dtype=np.float32)], k, axis=0)\n",
    "\n",
    "        sigma = tf.get_variable(\"sigma\",\n",
    "                              shape=(k,d,d),\n",
    "                              dtype=tf.float32,\n",
    "                              initializer=tf.constant_initializer(sigma_init),\n",
    "                              trainable=False)\n",
    "        \n",
    "        return (phi, mu, sigma)\n",
    "        \n",
    "    \n",
    "    def _compute_energy(self, z_i):\n",
    "        \"\"\"\n",
    "        compute E(z_i) in loss function\n",
    "        \"\"\"\n",
    "\n",
    "        #inside_sum = 0\n",
    "        inside_sum = tf.zeros(()) \n",
    "        for cluster in range(self.gmm_mixtures):\n",
    "            diff = tf.reshape(z_i - self.mu[cluster], (1,-1))   ### (1,3)\n",
    "            diff_t = tf.reshape(diff, (-1,1)) #diff.reshape(-1,1)   ### (3,1)\n",
    "\n",
    "            sigma_inv = tf.linalg.inv(self.sigma[cluster]) ### (3,3)\n",
    "\n",
    "            exp_term = tf.exp(-0.5 * tf.matmul(diff, tf.matmul(sigma_inv, diff_t)))    ### (1,1)\n",
    "\n",
    "            denom = tf.sqrt(tf.linalg.det(2 * np.pi * self.sigma[cluster]))\n",
    "\n",
    "            inside_sum += self.phi[cluster] * (exp_term / denom)   ### (1,1)\n",
    "\n",
    "\n",
    "        inside_sum = tf.reshape(inside_sum, ())\n",
    "        sample_energy = -tf.log(inside_sum + 1e-6, name=\"sample_energy\")\n",
    "\n",
    "        ### flatten inside_sum and return log of it\n",
    "        return sample_energy\n",
    "    \n",
    "    \n",
    "    def save_weights(self, filename = \"./\" + timestamp + \"-tfsave\"):  \n",
    "        ### save model weights\n",
    "        saver = tf.train.Saver()\n",
    "        saver.save(self.sess, filename)\n",
    "        print(\"saved to:\",filename)\n",
    "        \n",
    "        \n",
    "        \n",
    "    def load_weights(self, filename = \"./\" + timestamp + \"-tfsave.meta\"):\n",
    "        ### load weights for test notebook\n",
    "        saver = tf.train.import_meta_graph(filename)\n",
    "        saver.restore(self.sess, tf.train.latest_checkpoint(\"./\"))\n",
    "    \n",
    "            \n",
    "    def _initialize_weights(self, n_hidden_recog_1, n_hidden_recog_2, \n",
    "                            n_hidden_gener_1,  n_hidden_gener_2, \n",
    "                            n_input, n_z):\n",
    "        all_weights = dict()\n",
    "        all_weights['weights_recog'] = {\n",
    "            'h1': tf.Variable(xavier_init(n_input, n_hidden_recog_1)),\n",
    "            'h2': tf.Variable(xavier_init(n_hidden_recog_1, n_hidden_recog_2)),\n",
    "            'out_mean': tf.Variable(xavier_init(n_hidden_recog_2, n_z)),\n",
    "            'out_log_sigma': tf.Variable(xavier_init(n_hidden_recog_2, n_z))}\n",
    "        all_weights['biases_recog'] = {\n",
    "            'b1': tf.Variable(tf.zeros([n_hidden_recog_1], dtype=tf.float32)),\n",
    "            'b2': tf.Variable(tf.zeros([n_hidden_recog_2], dtype=tf.float32)),\n",
    "            'out_mean': tf.Variable(tf.zeros([n_z], dtype=tf.float32)),\n",
    "            'out_log_sigma': tf.Variable(tf.zeros([n_z], dtype=tf.float32))}\n",
    "        all_weights['weights_gener'] = {\n",
    "            'h1': tf.Variable(xavier_init(n_z, n_hidden_gener_1)),\n",
    "            'h2': tf.Variable(xavier_init(n_hidden_gener_1, n_hidden_gener_2)),\n",
    "            'out_mean': tf.Variable(xavier_init(n_hidden_gener_2, n_input)),\n",
    "            'out_log_sigma': tf.Variable(xavier_init(n_hidden_gener_2, n_input))}\n",
    "        all_weights['biases_gener'] = {\n",
    "            'b1': tf.Variable(tf.zeros([n_hidden_gener_1], dtype=tf.float32)),\n",
    "            'b2': tf.Variable(tf.zeros([n_hidden_gener_2], dtype=tf.float32)),\n",
    "            'out_mean': tf.Variable(tf.zeros([n_input], dtype=tf.float32)),\n",
    "            'out_log_sigma': tf.Variable(tf.zeros([n_input], dtype=tf.float32))}\n",
    "        return all_weights\n",
    "            \n",
    "    def _recognition_network(self, weights, biases):\n",
    "        # Generate probabilistic encoder (recognition network), which\n",
    "        # maps inputs onto a normal distribution in latent space.\n",
    "        # The transformation is parametrized and can be learned.\n",
    "        layer_1 = self.transfer_fct(tf.add(tf.matmul(self.x, weights['h1']), \n",
    "                                           biases['b1'])) \n",
    "        layer_2 = self.transfer_fct(tf.add(tf.matmul(layer_1, weights['h2']), \n",
    "                                           biases['b2'])) \n",
    "        z_mean = tf.add(tf.matmul(layer_2, weights['out_mean']),\n",
    "                        biases['out_mean'])\n",
    "        z_log_sigma_sq = \\\n",
    "            tf.add(tf.matmul(layer_2, weights['out_log_sigma']), \n",
    "                   biases['out_log_sigma'])\n",
    "        return (z_mean, z_log_sigma_sq)\n",
    "\n",
    "    def _generator_network(self, weights, biases):\n",
    "        # Generate probabilistic decoder (decoder network), which\n",
    "        # maps points in latent space onto a Bernoulli distribution in data space.\n",
    "        # The transformation is parametrized and can be learned.\n",
    "        layer_1 = self.transfer_fct(tf.add(tf.matmul(self.z, weights['h1']), \n",
    "                                           biases['b1'])) \n",
    "        layer_2 = self.transfer_fct(tf.add(tf.matmul(layer_1, weights['h2']), \n",
    "                                           biases['b2'])) \n",
    "        x_reconstr_mean = \\\n",
    "            tf.nn.sigmoid(tf.add(tf.matmul(layer_2, weights['out_mean']), \n",
    "                                 biases['out_mean']))\n",
    "        return x_reconstr_mean\n",
    "\n",
    "        \n",
    "    def _update_gmm(self):\n",
    "        gamma = self.est_output ### output of estimation net (batch size x 4)\n",
    "        z = self.concat ### concat output (batch size x 3)\n",
    "        \n",
    "        \n",
    "        ### get parameters\n",
    "        self.updates_gmm = []\n",
    "        phi = self.phi\n",
    "        mu = self.mu\n",
    "        sigma = self.sigma\n",
    "        k = self.gmm_mixtures\n",
    "        d = self.d\n",
    "        N = self.batch_size\n",
    "\n",
    "        ################### phi #################\n",
    "        update_phi = tf.assign(phi, \n",
    "                               tf.reduce_sum(gamma/self.batch_size, axis=0), \n",
    "                               name=\"update_phi\")\n",
    "        self.updates_gmm.append(update_phi)\n",
    "        #######################################\n",
    "\n",
    "        ################## mu ################\n",
    "        for cluster in range(k):\n",
    "            ### get the corresponding column of predictions\n",
    "            gamma_cluster = tf.reshape(gamma[:,cluster], (-1,1))    ### (N x 1)\n",
    "\n",
    "            ### duplicate column d times\n",
    "            gamma_cluster_tile = tf.tile(gamma_cluster, (1,d))   ### (N x d)\n",
    "\n",
    "            ### sum over all batch and divide\n",
    "            matmul = tf.matmul(z, gamma_cluster_tile, transpose_a=True)   ### (dxd)\n",
    "\n",
    "            result = tf.reduce_sum(matmul, axis=0, name=\"mu_matmul_red\") / tf.reduce_sum(gamma[:,cluster], axis = 0, name=\"mu_gamma_red\")\n",
    "\n",
    "            update_mu = tf.assign(mu[cluster], \n",
    "                                  result,\n",
    "                                  name=\"update_mu\"+str(cluster))\n",
    "            self.updates_gmm.append(update_mu)\n",
    "        #########################################\n",
    "\n",
    "        ################ sigma ###############\n",
    "        for cluster in range(k):\n",
    "            ### expand gamma for each sample\n",
    "            gamma_cluster = tf.reshape(gamma[:,cluster], (-1,1))    ### (N x 1)\n",
    "            gamma_cluster_expand = tf.expand_dims(gamma_cluster, 1) ### (N x 1 x 1)\n",
    "\n",
    "\n",
    "            #### calculating diff\n",
    "            ## expand mu and z\n",
    "            ######## TODO: race condition??? (get mu after its updated value (auto??))\n",
    "            with tf.control_dependencies(self.updates_gmm):\n",
    "                mu_cluster = tf.reshape(mu[cluster], (1,-1))   ### (1 x d)\n",
    "\n",
    "            mu_expand = tf.expand_dims(mu_cluster, 1)      ### (1 x 1 x 3)\n",
    "            mu_expand_tile = tf.tile(mu_expand, tf.stack([N, 1, 1]))   ### (N x 1 x d)\n",
    "\n",
    "            z_expand = tf.expand_dims(z, 1)    ### (N x 1 x d)\n",
    "\n",
    "            diff = z_expand - mu_expand_tile   ### (N x 1 x d)\n",
    "\n",
    "            ### matmul in the upper part\n",
    "            matmul = tf.matmul(diff, diff, transpose_a=True)  ### (N x d x d)\n",
    "\n",
    "\n",
    "            ### nominator\n",
    "            nom = gamma_cluster_expand * matmul   ### (N x d x d)\n",
    "            nom_reduced = tf.reduce_sum(nom, axis=0) ### (d x d)\n",
    "\n",
    "\n",
    "            ### denominator\n",
    "            denom = tf.reduce_sum(gamma_cluster)  ### single value, zero dim\n",
    "\n",
    "            update_sigma = tf.assign(sigma[cluster], \n",
    "                                     nom_reduced/denom, \n",
    "                                     name =\"update_sigma\"+str(cluster))\n",
    "            self.updates_gmm.append(update_sigma)\n",
    "            \n",
    "            \n",
    "             \n",
    "    def _create_loss_optimizer(self):\n",
    "        # The loss is composed of two terms:\n",
    "        # 1.) The reconstruction loss (the negative log probability\n",
    "        #     of the input under the reconstructed Bernoulli distribution \n",
    "        #     induced by the decoder in the data space).\n",
    "        #     This can be interpreted as the number of \"nats\" required\n",
    "        #     for reconstructing the input when the activation in latent\n",
    "        #     is given.\n",
    "        # Adding 1e-10 to avoid evaluation of log(0.0)\n",
    "        reconstr_loss = \\\n",
    "            -tf.reduce_sum(self.x * tf.log(1e-6 + self.x_reconstr_mean)\n",
    "                           + (1-self.x) * tf.log(1e-6 + 1 - self.x_reconstr_mean),\n",
    "                           1)\n",
    "        # 2.) The latent loss, which is defined as the Kullback Leibler divergence \n",
    "        ##    between the distribution in latent space induced by the encoder on \n",
    "        #     the data and some prior. This acts as a kind of regularizer.\n",
    "        #     This can be interpreted as the number of \"nats\" required\n",
    "        #     for transmitting the the latent space distribution given\n",
    "        #     the prior.\n",
    "        latent_loss = -0.5 * tf.reduce_sum(1 + self.z_log_sigma_sq \n",
    "                                           - tf.square(self.z_mean) \n",
    "                                           - tf.exp(self.z_log_sigma_sq), 1)\n",
    "        self.cost = tf.reduce_mean(reconstr_loss + latent_loss)   # average over batch\n",
    "        # Use ADAM optimizer\n",
    "        self.optimizer = \\\n",
    "            tf.train.AdamOptimizer(learning_rate=self.learning_rate).minimize(self.cost)\n",
    "               \n",
    "        \n",
    "    def _total_loss(self):\n",
    "        ### reconstr loss + latent loss + energy + reg term for sigma\n",
    "        \n",
    "        ### reconstr loss\n",
    "        reconstr_loss = \\\n",
    "            -tf.reduce_sum(self.x * tf.log(1e-6 + self.x_reconstr_mean)\n",
    "                           + (1-self.x) * tf.log(1e-6 + 1 - self.x_reconstr_mean),\n",
    "                           1)\n",
    "\n",
    "        ### latent loss\n",
    "        latent_loss = -0.5 * tf.reduce_sum(1 + self.z_log_sigma_sq \n",
    "                                           - tf.square(self.z_mean) \n",
    "                                           - tf.exp(self.z_log_sigma_sq), 1)\n",
    "        \n",
    "        ### update gmm params for energy\n",
    "        self._update_gmm()\n",
    "        \n",
    "        \n",
    "        ### energy\n",
    "        ### dependency control\n",
    "        z = self.concat\n",
    "        \n",
    "        with tf.control_dependencies(self.updates_gmm):  \n",
    "            ### sample energy   \n",
    "            sample_en_batch = tf.map_fn(lambda z_i: self._compute_energy(z_i), z)\n",
    "            sample_en = tf.reduce_mean(sample_en_batch, axis=0)\n",
    "            sample_en *= self.lambda_1\n",
    "\n",
    "            ### diagonal regularization\n",
    "            p = tf.reduce_sum(1 / tf.matrix_diag_part(self.sigma))\n",
    "            p *= self.lambda_2\n",
    "            \n",
    "        ### vae loss instead of ae loss    \n",
    "        vae_loss = tf.reduce_mean(reconstr_loss + latent_loss)\n",
    "        \n",
    "        ### total loss\n",
    "        self.cost = vae_loss + sample_en + p\n",
    "        \n",
    "         # Use ADAM optimizer\n",
    "        self.optimizer = \\\n",
    "            tf.train.AdamOptimizer(learning_rate=self.learning_rate).minimize(self.cost)\n",
    "    \n",
    "    def saveGmmParams(self, filename = timestamp + \"-gmmParams.npz\"):\n",
    "        phi_ = K.eval(self.phi)\n",
    "        mu_ = K.eval(self.mu)\n",
    "        sigma_ = K.eval(self.sigma)\n",
    "        np.savez_compressed(filename, phi=phi_, mu=mu_, sigma=sigma_)\n",
    "        print(\"saved to:\", filename)\n",
    "        \n",
    "    def loadGmmParams(self, filename = timestamp + \"-gmmParams.npz\"):\n",
    "        with np.load(filename) as data:\n",
    "            phi_ = data[\"phi\"]\n",
    "            mu_ = data[\"mu\"]\n",
    "            sigma_ = data[\"sigma\"]\n",
    "            \n",
    "        K.eval(tf.assign(self.phi, phi_))\n",
    "        K.eval(tf.assign(self.mu, mu_))\n",
    "        K.eval(tf.assign(self.sigma, sigma_))                   \n",
    "\n",
    "                   \n",
    "    def printGmmParams(self):\n",
    "        print(\"#### GMM params ####\")\n",
    "        print(\"phi:\\n\",K.eval(self.phi),\"\\n\")\n",
    "        print(\"mu:\\n\",K.eval(self.mu),\"\\n\")\n",
    "        print(\"sigma:\\n\", K.eval(self.sigma),\"\\n\")\n",
    "        \n",
    "\n",
    "    def partial_fit(self, X):\n",
    "        \"\"\"Train model based on mini-batch of input data.\n",
    "        \n",
    "        Return cost of mini-batch.\n",
    "        \"\"\"\n",
    "        opt, cost = self.sess.run((self.optimizer, self.cost), \n",
    "                                  feed_dict={self.x: X})\n",
    "        return cost\n",
    "    \n",
    "    def transform(self, X):\n",
    "        \"\"\"Transform data by mapping it into the latent space.\"\"\"\n",
    "        # Note: This maps to mean of distribution, we could alternatively\n",
    "        # sample from Gaussian distribution\n",
    "        mu = self.sess.run(self.z_mean, feed_dict={self.x: X})\n",
    "        sigma = self.sess.run(self.z_log_sigma_sq, feed_dict={self.x: X}) ###!!! (doğru mu/gerekli mi??)\n",
    "        return mu, sigma\n",
    "    \n",
    "    def test_network(self, X): # iterator, data_np):\n",
    "        \"\"\"\n",
    "        returns sample energies\n",
    "        \"\"\"\n",
    "        z = self.concat\n",
    "        sample_en_batch = tf.map_fn(lambda z_i: self._compute_energy(z_i), z)\n",
    "        \n",
    "        #return self.sess.run(sample_en_batch, feed_dict={self.x: data_np})\n",
    "        \n",
    "        return self.sess.run(sample_en_batch, feed_dict={self.x: X})\n",
    "    \n",
    "    \n",
    "    def generate(self, z_mu=None):\n",
    "        \"\"\" Generate data by sampling from latent space.\n",
    "        \n",
    "        If z_mu is not None, data for this point in latent space is\n",
    "        generated. Otherwise, z_mu is drawn from prior in latent \n",
    "        space.        \n",
    "        \"\"\"\n",
    "        if z_mu is None:\n",
    "            z_mu = np.random.normal(size=self.network_architecture[\"n_z\"])\n",
    "        # Note: This maps to mean of distribution, we could alternatively\n",
    "        # sample from Gaussian distribution\n",
    "        return self.sess.run(self.x_reconstr_mean, \n",
    "                             feed_dict={self.z: z_mu})\n",
    "    \n",
    "    def reconstruct(self, X):\n",
    "        \"\"\" Use VAE to reconstruct given data. \"\"\"\n",
    "        return self.sess.run(self.x_reconstr_mean, \n",
    "                             feed_dict={self.x: X})"
   ]
  },
  {
   "cell_type": "code",
   "execution_count": 9,
   "metadata": {},
   "outputs": [],
   "source": [
    "network_architecture = \\\n",
    "    dict(n_hidden_recog_1=60, # 1st layer encoder neurons\n",
    "         n_hidden_recog_2=30, # 2nd layer encoder neurons\n",
    "         n_hidden_gener_1=30, # 1st layer decoder neurons\n",
    "         n_hidden_gener_2=60, # 2nd layer decoder neurons\n",
    "         n_input=120,  # kdd99 data input dimension\n",
    "         n_z=1,\n",
    "        )  # dimensionality of latent space\n",
    "\n",
    "\n",
    "\n",
    "vae = VariationalAutoencoder(network_architecture, \n",
    "                             #learning_rate=learning_rate, \n",
    "                             batch_size=batch_size,\n",
    "                            )\n",
    "\n"
   ]
  },
  {
   "cell_type": "markdown",
   "metadata": {},
   "source": [
    "- ### Load trained weights and gmm params"
   ]
  },
  {
   "cell_type": "code",
   "execution_count": 10,
   "metadata": {
    "scrolled": true
   },
   "outputs": [
    {
     "name": "stdout",
     "output_type": "stream",
     "text": [
      "INFO:tensorflow:Restoring parameters from ./2018-07-28_09:44-tfsave\n"
     ]
    }
   ],
   "source": [
    "vae.load_weights(filename = \"./\" + timestamp + \"-tfsave.meta\")"
   ]
  },
  {
   "cell_type": "code",
   "execution_count": 11,
   "metadata": {
    "scrolled": true
   },
   "outputs": [],
   "source": [
    "vae.loadGmmParams()"
   ]
  },
  {
   "cell_type": "code",
   "execution_count": 12,
   "metadata": {},
   "outputs": [
    {
     "name": "stdout",
     "output_type": "stream",
     "text": [
      "#### GMM params ####\n",
      "phi:\n",
      " [0.1650468  0.15240309 0.31396958 0.36858034] \n",
      "\n",
      "mu:\n",
      " [[1.3068333 1.3068333 1.3068333]\n",
      " [0.5409546 0.5409546 0.5409546]\n",
      " [1.400719  1.400719  1.400719 ]\n",
      " [0.8431142 0.8431142 0.8431142]] \n",
      "\n",
      "sigma:\n",
      " [[[ 1.9305115   0.33205122  1.2660475 ]\n",
      "  [ 0.33205122  0.1004647   0.39435124]\n",
      "  [ 1.2660475   0.39435124  1.6211516 ]]\n",
      "\n",
      " [[ 2.3078523  -0.46523723  0.44501027]\n",
      "  [-0.46523723  0.19817907 -0.20999806]\n",
      "  [ 0.44501027 -0.20999806  0.23390274]]\n",
      "\n",
      " [[ 1.8473659   0.4205801   1.3719027 ]\n",
      "  [ 0.4205801   0.16531228  0.5536845 ]\n",
      "  [ 1.3719027   0.5536845   1.8910214 ]]\n",
      "\n",
      " [[ 2.2264547  -0.14952599  0.78498983]\n",
      "  [-0.14952599  0.02359816 -0.12166865]\n",
      "  [ 0.78498983 -0.12166865  0.63876975]]] \n",
      "\n"
     ]
    }
   ],
   "source": [
    "vae.printGmmParams()"
   ]
  },
  {
   "cell_type": "markdown",
   "metadata": {},
   "source": [
    "- ### Load dataset"
   ]
  },
  {
   "cell_type": "code",
   "execution_count": 13,
   "metadata": {},
   "outputs": [],
   "source": [
    "import numpy as np\n",
    "\n",
    "with np.load(\"../datasets/kddcup/kdd99_test-randomState_None.npz\") as data:  ### kdd99_test\n",
    "    x_test = data['x_test']"
   ]
  },
  {
   "cell_type": "code",
   "execution_count": 14,
   "metadata": {},
   "outputs": [],
   "source": [
    "normal_data = x_test[np.where(x_test[:,-1] == 1)]\n",
    "\n",
    "anomaly_data = x_test[np.where(x_test[:,-1] == 0)]"
   ]
  },
  {
   "cell_type": "code",
   "execution_count": 15,
   "metadata": {},
   "outputs": [
    {
     "data": {
      "text/plain": [
       "(198366, 120)"
      ]
     },
     "execution_count": 15,
     "metadata": {},
     "output_type": "execute_result"
    }
   ],
   "source": [
    "normal_data.shape"
   ]
  },
  {
   "cell_type": "code",
   "execution_count": 16,
   "metadata": {
    "scrolled": true
   },
   "outputs": [
    {
     "data": {
      "text/plain": [
       "(48645, 120)"
      ]
     },
     "execution_count": 16,
     "metadata": {},
     "output_type": "execute_result"
    }
   ],
   "source": [
    "anomaly_data.shape"
   ]
  },
  {
   "cell_type": "markdown",
   "metadata": {},
   "source": [
    "### Obtain sample energies"
   ]
  },
  {
   "cell_type": "markdown",
   "metadata": {},
   "source": [
    "- Energies from normal class"
   ]
  },
  {
   "cell_type": "code",
   "execution_count": 17,
   "metadata": {
    "scrolled": true
   },
   "outputs": [
    {
     "name": "stdout",
     "output_type": "stream",
     "text": [
      "running step: 0\n",
      "running step: 1\n",
      "running step: 2\n",
      "running step: 3\n",
      "running step: 4\n",
      "running step: 5\n",
      "running step: 6\n",
      "running step: 7\n",
      "running step: 8\n",
      "running step: 9\n",
      "running step: 10\n",
      "running step: 11\n",
      "running step: 12\n",
      "running step: 13\n",
      "running step: 14\n",
      "running step: 15\n",
      "running step: 16\n",
      "running step: 17\n",
      "running step: 18\n",
      "running step: 19\n",
      "running step: 20\n",
      "running step: 21\n",
      "running step: 22\n",
      "running step: 23\n",
      "running step: 24\n",
      "running step: 25\n",
      "running step: 26\n",
      "running step: 27\n",
      "running step: 28\n",
      "running step: 29\n",
      "running step: 30\n",
      "running step: 31\n",
      "running step: 32\n",
      "running step: 33\n",
      "running step: 34\n",
      "running step: 35\n",
      "running step: 36\n",
      "running step: 37\n",
      "running step: 38\n",
      "running step: 39\n",
      "running step: 40\n",
      "running step: 41\n",
      "running step: 42\n",
      "running step: 43\n",
      "running step: 44\n",
      "running step: 45\n",
      "running step: 46\n",
      "running step: 47\n",
      "running step: 48\n",
      "running step: 49\n",
      "running step: 50\n",
      "running step: 51\n",
      "running step: 52\n",
      "running step: 53\n",
      "running step: 54\n",
      "running step: 55\n",
      "running step: 56\n",
      "running step: 57\n",
      "running step: 58\n",
      "running step: 59\n",
      "running step: 60\n",
      "running step: 61\n",
      "running step: 62\n",
      "running step: 63\n",
      "running step: 64\n",
      "running step: 65\n",
      "running step: 66\n",
      "running step: 67\n",
      "running step: 68\n",
      "running step: 69\n",
      "running step: 70\n",
      "running step: 71\n",
      "running step: 72\n",
      "running step: 73\n",
      "running step: 74\n",
      "running step: 75\n",
      "running step: 76\n",
      "running step: 77\n",
      "running step: 78\n",
      "running step: 79\n",
      "running step: 80\n",
      "running step: 81\n",
      "running step: 82\n",
      "running step: 83\n",
      "running step: 84\n",
      "running step: 85\n",
      "running step: 86\n",
      "running step: 87\n",
      "running step: 88\n",
      "running step: 89\n",
      "running step: 90\n",
      "running step: 91\n",
      "running step: 92\n",
      "running step: 93\n",
      "running step: 94\n",
      "running step: 95\n",
      "running step: 96\n",
      "running step: 97\n",
      "running step: 98\n",
      "running step: 99\n",
      "running step: 100\n",
      "running step: 101\n",
      "running step: 102\n",
      "running step: 103\n",
      "running step: 104\n",
      "running step: 105\n",
      "running step: 106\n",
      "running step: 107\n",
      "running step: 108\n",
      "running step: 109\n",
      "running step: 110\n",
      "running step: 111\n",
      "running step: 112\n",
      "running step: 113\n",
      "running step: 114\n",
      "running step: 115\n",
      "running step: 116\n",
      "running step: 117\n",
      "running step: 118\n",
      "running step: 119\n",
      "running step: 120\n",
      "running step: 121\n",
      "running step: 122\n",
      "running step: 123\n",
      "running step: 124\n",
      "running step: 125\n",
      "running step: 126\n",
      "running step: 127\n",
      "running step: 128\n",
      "running step: 129\n",
      "running step: 130\n",
      "running step: 131\n",
      "running step: 132\n",
      "running step: 133\n",
      "running step: 134\n",
      "running step: 135\n",
      "running step: 136\n",
      "running step: 137\n",
      "running step: 138\n",
      "running step: 139\n",
      "running step: 140\n",
      "running step: 141\n",
      "running step: 142\n",
      "running step: 143\n",
      "running step: 144\n",
      "running step: 145\n",
      "running step: 146\n",
      "running step: 147\n",
      "running step: 148\n",
      "running step: 149\n",
      "running step: 150\n",
      "running step: 151\n",
      "running step: 152\n",
      "running step: 153\n",
      "running step: 154\n",
      "running step: 155\n",
      "running step: 156\n",
      "running step: 157\n",
      "running step: 158\n",
      "running step: 159\n",
      "running step: 160\n",
      "running step: 161\n",
      "running step: 162\n",
      "running step: 163\n",
      "running step: 164\n",
      "running step: 165\n",
      "running step: 166\n",
      "running step: 167\n",
      "running step: 168\n",
      "running step: 169\n",
      "running step: 170\n",
      "running step: 171\n",
      "running step: 172\n",
      "running step: 173\n",
      "running step: 174\n",
      "running step: 175\n",
      "running step: 176\n",
      "running step: 177\n",
      "running step: 178\n",
      "running step: 179\n",
      "running step: 180\n",
      "running step: 181\n",
      "running step: 182\n",
      "running step: 183\n",
      "running step: 184\n",
      "running step: 185\n",
      "running step: 186\n",
      "running step: 187\n",
      "running step: 188\n",
      "running step: 189\n",
      "running step: 190\n",
      "running step: 191\n"
     ]
    }
   ],
   "source": [
    "energies_normal = []\n",
    "\n",
    "### from first batch until last batch (not processing last batch)\n",
    "for i in range(0, len(normal_data)//batch_size -1):\n",
    "    start_idx = i * batch_size\n",
    "      \n",
    "    batch = normal_data[start_idx : start_idx+batch_size]\n",
    "\n",
    "    print(\"running step:\",i)\n",
    "    \n",
    "    energies_normal.append(vae.test_network(batch))\n",
    "    \n",
    "    \n",
    "### TODO: process last batch"
   ]
  },
  {
   "cell_type": "code",
   "execution_count": 18,
   "metadata": {},
   "outputs": [],
   "source": [
    "energies_normal = np.asarray(energies_normal)"
   ]
  },
  {
   "cell_type": "code",
   "execution_count": 19,
   "metadata": {},
   "outputs": [
    {
     "data": {
      "text/plain": [
       "array([[13.815511, 13.815511, 13.815511, ..., 13.815511, 13.815511,\n",
       "        13.815511],\n",
       "       [13.815511, 13.815511, 13.815511, ..., 13.815511, 13.815511,\n",
       "        13.815511],\n",
       "       [13.815511, 13.815511, 13.815511, ..., 13.815511, 13.815511,\n",
       "        13.815511],\n",
       "       ...,\n",
       "       [13.815511, 13.815511, 13.815511, ..., 13.815511, 13.815511,\n",
       "        13.815511],\n",
       "       [13.815511, 13.815511, 13.815511, ..., 13.815511, 13.815511,\n",
       "        13.815511],\n",
       "       [13.815511, 13.815511, 13.815511, ..., 13.815511, 13.815511,\n",
       "        13.815511]], dtype=float32)"
      ]
     },
     "execution_count": 19,
     "metadata": {},
     "output_type": "execute_result"
    }
   ],
   "source": [
    "energies_normal"
   ]
  },
  {
   "cell_type": "code",
   "execution_count": 20,
   "metadata": {},
   "outputs": [],
   "source": [
    "energies_normal = energies_normal.ravel()"
   ]
  },
  {
   "cell_type": "code",
   "execution_count": 21,
   "metadata": {},
   "outputs": [
    {
     "data": {
      "text/plain": [
       "13.815504"
      ]
     },
     "execution_count": 21,
     "metadata": {},
     "output_type": "execute_result"
    }
   ],
   "source": [
    "energies_normal.min()"
   ]
  },
  {
   "cell_type": "code",
   "execution_count": 22,
   "metadata": {},
   "outputs": [
    {
     "data": {
      "text/plain": [
       "13.815511"
      ]
     },
     "execution_count": 22,
     "metadata": {},
     "output_type": "execute_result"
    }
   ],
   "source": [
    "energies_normal.max()"
   ]
  },
  {
   "cell_type": "code",
   "execution_count": 23,
   "metadata": {},
   "outputs": [],
   "source": [
    "hist_bins = 500"
   ]
  },
  {
   "cell_type": "code",
   "execution_count": 24,
   "metadata": {},
   "outputs": [
    {
     "data": {
      "image/png": "[encoded data removed]",
      "text/plain": [
       "<matplotlib.figure.Figure at 0x7f8498786f60>"
      ]
     },
     "metadata": {},
     "output_type": "display_data"
    }
   ],
   "source": [
    "plt.hist(energies_normal, bins=hist_bins, log=True)\n",
    "\n",
    "plt.title(\"Sample energies for \\\"normal\\\" class\")\n",
    "plt.xlabel(\"energy\")\n",
    "plt.ylabel(\"counts\")\n",
    "plt.tight_layout()\n",
    "\n",
    "filename = timestamp + \"-normalHist_bins{}.png\".format(hist_bins)\n",
    "plt.savefig(filename)"
   ]
  },
  {
   "cell_type": "markdown",
   "metadata": {},
   "source": [
    "- Energies from anomaly class"
   ]
  },
  {
   "cell_type": "code",
   "execution_count": 25,
   "metadata": {},
   "outputs": [
    {
     "name": "stdout",
     "output_type": "stream",
     "text": [
      "running step: 0\n",
      "running step: 1\n",
      "running step: 2\n",
      "running step: 3\n",
      "running step: 4\n",
      "running step: 5\n",
      "running step: 6\n",
      "running step: 7\n",
      "running step: 8\n",
      "running step: 9\n",
      "running step: 10\n",
      "running step: 11\n",
      "running step: 12\n",
      "running step: 13\n",
      "running step: 14\n",
      "running step: 15\n",
      "running step: 16\n",
      "running step: 17\n",
      "running step: 18\n",
      "running step: 19\n",
      "running step: 20\n",
      "running step: 21\n",
      "running step: 22\n",
      "running step: 23\n",
      "running step: 24\n",
      "running step: 25\n",
      "running step: 26\n",
      "running step: 27\n",
      "running step: 28\n",
      "running step: 29\n",
      "running step: 30\n",
      "running step: 31\n",
      "running step: 32\n",
      "running step: 33\n",
      "running step: 34\n",
      "running step: 35\n",
      "running step: 36\n",
      "running step: 37\n",
      "running step: 38\n",
      "running step: 39\n",
      "running step: 40\n",
      "running step: 41\n",
      "running step: 42\n",
      "running step: 43\n",
      "running step: 44\n",
      "running step: 45\n"
     ]
    }
   ],
   "source": [
    "energies_anomaly = []\n",
    "\n",
    "### from first batch until last batch (not processing last batch)\n",
    "for i in range(0, len(anomaly_data)//batch_size - 1):\n",
    "    start_idx = i * batch_size\n",
    "      \n",
    "    batch = anomaly_data[start_idx : start_idx+batch_size]\n",
    "\n",
    "    print(\"running step:\",i)\n",
    "    \n",
    "    energies_anomaly.append(vae.test_network(batch))\n",
    "    \n",
    "    \n",
    "### TODO: process last batch"
   ]
  },
  {
   "cell_type": "code",
   "execution_count": 26,
   "metadata": {},
   "outputs": [],
   "source": [
    "energies_anomaly = np.asarray(energies_anomaly)"
   ]
  },
  {
   "cell_type": "code",
   "execution_count": 27,
   "metadata": {},
   "outputs": [],
   "source": [
    "energies_anomaly = energies_anomaly.ravel()"
   ]
  },
  {
   "cell_type": "code",
   "execution_count": 28,
   "metadata": {},
   "outputs": [
    {
     "data": {
      "text/plain": [
       "13.81551"
      ]
     },
     "execution_count": 28,
     "metadata": {},
     "output_type": "execute_result"
    }
   ],
   "source": [
    "energies_anomaly.min()"
   ]
  },
  {
   "cell_type": "code",
   "execution_count": 29,
   "metadata": {},
   "outputs": [
    {
     "data": {
      "text/plain": [
       "13.815511"
      ]
     },
     "execution_count": 29,
     "metadata": {},
     "output_type": "execute_result"
    }
   ],
   "source": [
    "energies_anomaly.max()"
   ]
  },
  {
   "cell_type": "code",
   "execution_count": 30,
   "metadata": {},
   "outputs": [
    {
     "data": {
      "image/png": "[encoded data removed]",
      "text/plain": [
       "<matplotlib.figure.Figure at 0x7f849006b5c0>"
      ]
     },
     "metadata": {},
     "output_type": "display_data"
    }
   ],
   "source": [
    "plt.hist(energies_anomaly, bins=hist_bins, color=\"red\", log=True)\n",
    "\n",
    "plt.title(\"Sample energies for \\\"anomaly\\\" class\")\n",
    "plt.xlabel(\"energy\")\n",
    "plt.ylabel(\"counts\")\n",
    "plt.tight_layout()\n",
    "\n",
    "filename = timestamp + \"-anomalyHist_bins{}.png\".format(hist_bins)\n",
    "plt.savefig(filename)"
   ]
  },
  {
   "cell_type": "code",
   "execution_count": 31,
   "metadata": {
    "scrolled": false
   },
   "outputs": [
    {
     "data": {
      "image/png": "[encoded data removed]",
      "text/plain": [
       "<matplotlib.figure.Figure at 0x7f848f9eac88>"
      ]
     },
     "metadata": {},
     "output_type": "display_data"
    }
   ],
   "source": [
    "hist_bins = 120\n",
    "\n",
    "plt.hist((energies_normal, energies_anomaly), \n",
    "         bins=hist_bins, \n",
    "         color=[\"blue\", \"red\"], \n",
    "         histtype=\"bar\", \n",
    "         label=[\"normal\", \"anomaly\"], \n",
    "         rwidth=1.0,\n",
    "         stacked=False,\n",
    "         log=True)\n",
    "\n",
    "plt.title(\"Sample energies\")\n",
    "plt.xlabel(\"energy\")\n",
    "plt.ylabel(\"counts\")\n",
    "plt.tight_layout()\n",
    "\n",
    "filename = timestamp + \"-allHist_bins{}.png\".format(hist_bins)\n",
    "plt.savefig(filename)\n"
   ]
  },
  {
   "cell_type": "markdown",
   "metadata": {},
   "source": [
    "### Find the threshold for classifying as anomaly: \"top %20 of highest energy\""
   ]
  },
  {
   "cell_type": "code",
   "execution_count": 32,
   "metadata": {},
   "outputs": [],
   "source": [
    "energies_all = np.concatenate((energies_normal, energies_anomaly), axis=0)"
   ]
  },
  {
   "cell_type": "code",
   "execution_count": 33,
   "metadata": {},
   "outputs": [
    {
     "data": {
      "text/plain": [
       "(243712,)"
      ]
     },
     "execution_count": 33,
     "metadata": {},
     "output_type": "execute_result"
    }
   ],
   "source": [
    "energies_all.shape"
   ]
  },
  {
   "cell_type": "markdown",
   "metadata": {},
   "source": [
    "- Sort calculated energies descending"
   ]
  },
  {
   "cell_type": "code",
   "execution_count": 34,
   "metadata": {},
   "outputs": [],
   "source": [
    "sorted_energies = np.sort(energies_all)[::-1]"
   ]
  },
  {
   "cell_type": "code",
   "execution_count": 35,
   "metadata": {},
   "outputs": [
    {
     "data": {
      "text/plain": [
       "array([13.815511, 13.815511, 13.815511, ..., 13.815509, 13.815505,\n",
       "       13.815504], dtype=float32)"
      ]
     },
     "execution_count": 35,
     "metadata": {},
     "output_type": "execute_result"
    }
   ],
   "source": [
    "sorted_energies"
   ]
  },
  {
   "cell_type": "markdown",
   "metadata": {},
   "source": [
    "- Top %20 percent is the first %20 part of it"
   ]
  },
  {
   "cell_type": "code",
   "execution_count": 36,
   "metadata": {},
   "outputs": [],
   "source": [
    "threshold_index = int(np.floor(len(sorted_energies) * 0.2))"
   ]
  },
  {
   "cell_type": "code",
   "execution_count": 37,
   "metadata": {
    "scrolled": true
   },
   "outputs": [
    {
     "data": {
      "text/plain": [
       "array([13.815511, 13.815511, 13.815511, ..., 13.815511, 13.815511,\n",
       "       13.815511], dtype=float32)"
      ]
     },
     "execution_count": 37,
     "metadata": {},
     "output_type": "execute_result"
    }
   ],
   "source": [
    "sorted_energies[:threshold_index]"
   ]
  },
  {
   "cell_type": "code",
   "execution_count": 38,
   "metadata": {},
   "outputs": [],
   "source": [
    "threshold = sorted_energies[threshold_index]"
   ]
  },
  {
   "cell_type": "markdown",
   "metadata": {},
   "source": [
    "- Below this threshold, samples are classified as normal"
   ]
  },
  {
   "cell_type": "code",
   "execution_count": 39,
   "metadata": {},
   "outputs": [
    {
     "data": {
      "text/plain": [
       "13.815511"
      ]
     },
     "execution_count": 39,
     "metadata": {},
     "output_type": "execute_result"
    }
   ],
   "source": [
    "threshold"
   ]
  },
  {
   "cell_type": "markdown",
   "metadata": {},
   "source": [
    "### Calculate metrics"
   ]
  },
  {
   "cell_type": "markdown",
   "metadata": {},
   "source": [
    "- \"Anomaly class is positive\" (from paper)"
   ]
  },
  {
   "cell_type": "markdown",
   "metadata": {},
   "source": [
    "|                   | anomaly | normal |   |   |\n",
    "|-------------------|---------|--------|---|---|\n",
    "| predicted anomaly | TP      | FP     |   |   |\n",
    "| predicted normal  | FN      | TN     |   |   |\n",
    "|                   |         |        |   |   |"
   ]
  },
  {
   "cell_type": "code",
   "execution_count": 40,
   "metadata": {},
   "outputs": [],
   "source": [
    "tp = len(energies_anomaly[energies_anomaly > threshold])\n",
    "fp = len(energies_normal[energies_normal > threshold])\n",
    "\n",
    "tn = len(energies_normal[energies_normal < threshold])\n",
    "fn = len(energies_anomaly[energies_anomaly < threshold])"
   ]
  },
  {
   "cell_type": "code",
   "execution_count": 41,
   "metadata": {},
   "outputs": [
    {
     "ename": "ZeroDivisionError",
     "evalue": "division by zero",
     "output_type": "error",
     "traceback": [
      "\u001b[0;31m---------------------------------------------------------------------------\u001b[0m",
      "\u001b[0;31mZeroDivisionError\u001b[0m                         Traceback (most recent call last)",
      "\u001b[0;32m<ipython-input-41-a35ed1f1e109>\u001b[0m in \u001b[0;36m<module>\u001b[0;34m()\u001b[0m\n\u001b[0;32m----> 1\u001b[0;31m \u001b[0mprecision\u001b[0m \u001b[0;34m=\u001b[0m \u001b[0mtp\u001b[0m \u001b[0;34m/\u001b[0m \u001b[0;34m(\u001b[0m\u001b[0mtp\u001b[0m \u001b[0;34m+\u001b[0m \u001b[0mfp\u001b[0m\u001b[0;34m)\u001b[0m\u001b[0;34m\u001b[0m\u001b[0m\n\u001b[0m",
      "\u001b[0;31mZeroDivisionError\u001b[0m: division by zero"
     ]
    }
   ],
   "source": [
    "precision = tp / (tp + fp)"
   ]
  },
  {
   "cell_type": "code",
   "execution_count": null,
   "metadata": {},
   "outputs": [],
   "source": [
    "precision"
   ]
  },
  {
   "cell_type": "code",
   "execution_count": null,
   "metadata": {},
   "outputs": [],
   "source": [
    "recall = tp / (tp + fn)"
   ]
  },
  {
   "cell_type": "code",
   "execution_count": null,
   "metadata": {},
   "outputs": [],
   "source": [
    "recall"
   ]
  },
  {
   "cell_type": "code",
   "execution_count": null,
   "metadata": {},
   "outputs": [],
   "source": [
    "f1 = 2*tp / (2*tp + fp + fn)"
   ]
  },
  {
   "cell_type": "code",
   "execution_count": null,
   "metadata": {},
   "outputs": [],
   "source": [
    "f1"
   ]
  }
 ],
 "metadata": {
  "kernelspec": {
   "display_name": "Python 3",
   "language": "python",
   "name": "python3"
  },
  "language_info": {
   "codemirror_mode": {
    "name": "ipython",
    "version": 3
   },
   "file_extension": ".py",
   "mimetype": "text/x-python",
   "name": "python",
   "nbconvert_exporter": "python",
   "pygments_lexer": "ipython3",
   "version": "3.6.5"
  }
 },
 "nbformat": 4,
 "nbformat_minor": 2
}
